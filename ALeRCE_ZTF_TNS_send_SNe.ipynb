{
 "cells": [
  {
   "cell_type": "markdown",
   "metadata": {},
   "source": [
    "# Notebook to select host galaxies and submit candidates to TNS"
   ]
  },
  {
   "cell_type": "code",
   "execution_count": 1,
   "metadata": {
    "ExecuteTime": {
     "end_time": "2019-11-13T19:19:24.810783Z",
     "start_time": "2019-11-13T19:19:24.503555Z"
    }
   },
   "outputs": [],
   "source": [
    "import sys, os\n",
    "import pandas as pd\n",
    "import numpy as np\n",
    "import ipyaladin as ipyal\n",
    "from ipywidgets import Layout, Box, widgets"
   ]
  },
  {
   "cell_type": "code",
   "execution_count": 2,
   "metadata": {
    "ExecuteTime": {
     "end_time": "2019-11-13T19:19:25.368611Z",
     "start_time": "2019-11-13T19:19:24.812377Z"
    }
   },
   "outputs": [
    {
     "name": "stderr",
     "output_type": "stream",
     "text": [
      "WARNING: AstropyDeprecationWarning: astropy.extern.six will be removed in 4.0, use the six module directly if it is still needed [astropy.extern.six]\n"
     ]
    }
   ],
   "source": [
    "from astroquery.ned import Ned\n",
    "from astroquery.simbad import Simbad\n",
    "from astroquery.vizier import Vizier\n",
    "import astropy.units as u\n",
    "from astropy.table import Table, Column"
   ]
  },
  {
   "cell_type": "code",
   "execution_count": 3,
   "metadata": {
    "ExecuteTime": {
     "end_time": "2019-11-13T19:19:25.382143Z",
     "start_time": "2019-11-13T19:19:25.370345Z"
    }
   },
   "outputs": [],
   "source": [
    "sys.path.append(\"./lib\")\n",
    "from alerce_tns import *"
   ]
  },
  {
   "cell_type": "code",
   "execution_count": 4,
   "metadata": {
    "ExecuteTime": {
     "end_time": "2019-11-13T19:19:25.398872Z",
     "start_time": "2019-11-13T19:19:25.383889Z"
    }
   },
   "outputs": [],
   "source": [
    "# continuously load modules (for easier debugging)\n",
    "%load_ext autoreload\n",
    "%autoreload 2"
   ]
  },
  {
   "cell_type": "markdown",
   "metadata": {},
   "source": [
    "# Start API"
   ]
  },
  {
   "cell_type": "code",
   "execution_count": 5,
   "metadata": {
    "ExecuteTime": {
     "end_time": "2019-11-13T19:19:25.415271Z",
     "start_time": "2019-11-13T19:19:25.400657Z"
    }
   },
   "outputs": [],
   "source": [
    "alerce = alerce_tns()"
   ]
  },
  {
   "cell_type": "markdown",
   "metadata": {},
   "source": [
    "# Load recent candidates\n",
    "\n",
    "# CHANGE DATE"
   ]
  },
  {
   "cell_type": "code",
   "execution_count": 6,
   "metadata": {
    "ExecuteTime": {
     "end_time": "2019-11-13T19:19:25.982648Z",
     "start_time": "2019-11-13T19:19:25.950973Z"
    }
   },
   "outputs": [
    {
     "name": "stdout",
     "output_type": "stream",
     "text": [
      "['ZTF19acryaon', 'ZTF19acryurj', 'ZTF19acrywgb', 'ZTF19acryynr', 'ZTF19acrzbwl', 'ZTF19acrzcgx', 'ZTF19acsamnm', 'ZTF19acmxymo', 'ZTF19acmyacs', 'ZTF19ackjvtl', 'ZTF19ackjuvd', 'ZTF19acsbxem', 'ZTF19acsbxgw', 'ZTF19ackjtpd', 'ZTF18aaknyrs']\n"
     ]
    }
   ],
   "source": [
    "refstring = \"20191113\"\n",
    "candidates_dir = \"candidates\"\n",
    "candidates = open(\"%s/%s.txt\" % (candidates_dir, refstring)).read().splitlines()\n",
    "print(candidates)"
   ]
  },
  {
   "cell_type": "markdown",
   "metadata": {},
   "source": [
    "# Select host galaxies using aladin widget"
   ]
  },
  {
   "cell_type": "code",
   "execution_count": 7,
   "metadata": {
    "ExecuteTime": {
     "end_time": "2019-11-13T19:19:28.573520Z",
     "start_time": "2019-11-13T19:19:27.007426Z"
    },
    "scrolled": false
   },
   "outputs": [
    {
     "data": {
      "application/vnd.jupyter.widget-view+json": {
       "model_id": "c54a897c52f146279b2590ea2688f973",
       "version_major": 2,
       "version_minor": 0
      },
      "text/plain": [
       "Box(children=(Aladin(fov=0.025, layout=Layout(width='70%'), options=['allow_full_zoomout', 'coo_frame', 'fov',…"
      ]
     },
     "metadata": {},
     "output_type": "display_data"
    },
    {
     "name": "stdout",
     "output_type": "stream",
     "text": [
      "None\r"
     ]
    },
    {
     "data": {
      "application/vnd.jupyter.widget-view+json": {
       "model_id": "8d5ea5b62df04e289ff1c3c17a28f61b",
       "version_major": 2,
       "version_minor": 0
      },
      "text/plain": [
       "Box(children=(Aladin(fov=0.025, layout=Layout(width='70%'), options=['allow_full_zoomout', 'coo_frame', 'fov',…"
      ]
     },
     "metadata": {},
     "output_type": "display_data"
    },
    {
     "name": "stdout",
     "output_type": "stream",
     "text": [
      "None\r"
     ]
    },
    {
     "data": {
      "application/vnd.jupyter.widget-view+json": {
       "model_id": "8bdff795e1cf419db22f98d977afe5fe",
       "version_major": 2,
       "version_minor": 0
      },
      "text/plain": [
       "Box(children=(Aladin(fov=0.025, layout=Layout(width='70%'), options=['allow_full_zoomout', 'coo_frame', 'fov',…"
      ]
     },
     "metadata": {},
     "output_type": "display_data"
    },
    {
     "name": "stderr",
     "output_type": "stream",
     "text": [
      "/home/fforster/anaconda3/lib/python3.6/site-packages/astroquery/simbad/core.py:136: UserWarning: Warning: The script line number 3 raised an error (recorded in the `errors` attribute of the result table): '2:03:33.6737 -9:06:42.1639': No astronomical object found :\n",
      "  (error.line, error.msg))\n"
     ]
    },
    {
     "name": "stdout",
     "output_type": "stream",
     "text": [
      "None\r"
     ]
    },
    {
     "data": {
      "application/vnd.jupyter.widget-view+json": {
       "model_id": "cb08c25deb6a406a80348c4730c33f3a",
       "version_major": 2,
       "version_minor": 0
      },
      "text/plain": [
       "Box(children=(Aladin(fov=0.025, layout=Layout(width='70%'), options=['allow_full_zoomout', 'coo_frame', 'fov',…"
      ]
     },
     "metadata": {},
     "output_type": "display_data"
    },
    {
     "name": "stdout",
     "output_type": "stream",
     "text": [
      "None\r"
     ]
    },
    {
     "name": "stderr",
     "output_type": "stream",
     "text": [
      "/home/fforster/anaconda3/lib/python3.6/site-packages/astroquery/simbad/core.py:136: UserWarning: Warning: The script line number 3 raised an error (recorded in the `errors` attribute of the result table): '1:28:06.447 +38:13:33.5395': No astronomical object found :\n",
      "  (error.line, error.msg))\n"
     ]
    },
    {
     "name": "stdout",
     "output_type": "stream",
     "text": [
      "None\r"
     ]
    },
    {
     "data": {
      "application/vnd.jupyter.widget-view+json": {
       "model_id": "439e4929d325472bb03c91420a3df965",
       "version_major": 2,
       "version_minor": 0
      },
      "text/plain": [
       "Box(children=(Aladin(fov=0.025, layout=Layout(width='70%'), options=['allow_full_zoomout', 'coo_frame', 'fov',…"
      ]
     },
     "metadata": {},
     "output_type": "display_data"
    },
    {
     "name": "stdout",
     "output_type": "stream",
     "text": [
      "None\r"
     ]
    },
    {
     "name": "stderr",
     "output_type": "stream",
     "text": [
      "/home/fforster/anaconda3/lib/python3.6/site-packages/astroquery/simbad/core.py:136: UserWarning: Warning: The script line number 3 raised an error (recorded in the `errors` attribute of the result table): '2:07:01.3781 +11:27:18.266': No astronomical object found :\n",
      "  (error.line, error.msg))\n"
     ]
    },
    {
     "name": "stdout",
     "output_type": "stream",
     "text": [
      "None\r"
     ]
    },
    {
     "data": {
      "application/vnd.jupyter.widget-view+json": {
       "model_id": "9802f60a06034ad8ad29343329e74d82",
       "version_major": 2,
       "version_minor": 0
      },
      "text/plain": [
       "Box(children=(Aladin(fov=0.025, layout=Layout(width='70%'), options=['allow_full_zoomout', 'coo_frame', 'fov',…"
      ]
     },
     "metadata": {},
     "output_type": "display_data"
    },
    {
     "name": "stdout",
     "output_type": "stream",
     "text": [
      "None\r"
     ]
    },
    {
     "name": "stderr",
     "output_type": "stream",
     "text": [
      "/home/fforster/anaconda3/lib/python3.6/site-packages/astroquery/simbad/core.py:136: UserWarning: Warning: The script line number 3 raised an error (recorded in the `errors` attribute of the result table): '1:57:09.0949 +15:14:35.5474': No astronomical object found :\n",
      "  (error.line, error.msg))\n"
     ]
    },
    {
     "name": "stdout",
     "output_type": "stream",
     "text": [
      "None\r"
     ]
    },
    {
     "data": {
      "application/vnd.jupyter.widget-view+json": {
       "model_id": "11d601be05714e5aa0c019810b000142",
       "version_major": 2,
       "version_minor": 0
      },
      "text/plain": [
       "Box(children=(Aladin(fov=0.025, layout=Layout(width='70%'), options=['allow_full_zoomout', 'coo_frame', 'fov',…"
      ]
     },
     "metadata": {},
     "output_type": "display_data"
    },
    {
     "name": "stdout",
     "output_type": "stream",
     "text": [
      "None\r"
     ]
    },
    {
     "data": {
      "application/vnd.jupyter.widget-view+json": {
       "model_id": "6571cf37632e4e65bd0c6549d71f9214",
       "version_major": 2,
       "version_minor": 0
      },
      "text/plain": [
       "Box(children=(Aladin(fov=0.025, layout=Layout(width='70%'), options=['allow_full_zoomout', 'coo_frame', 'fov',…"
      ]
     },
     "metadata": {},
     "output_type": "display_data"
    },
    {
     "name": "stdout",
     "output_type": "stream",
     "text": [
      "None\r"
     ]
    },
    {
     "data": {
      "application/vnd.jupyter.widget-view+json": {
       "model_id": "d58459554f5b4c16bfd265a0f8a62244",
       "version_major": 2,
       "version_minor": 0
      },
      "text/plain": [
       "Box(children=(Aladin(fov=0.025, layout=Layout(width='70%'), options=['allow_full_zoomout', 'coo_frame', 'fov',…"
      ]
     },
     "metadata": {},
     "output_type": "display_data"
    },
    {
     "name": "stdout",
     "output_type": "stream",
     "text": [
      "None\r"
     ]
    },
    {
     "data": {
      "application/vnd.jupyter.widget-view+json": {
       "model_id": "78e65b27d7764b969647a4d6fcba265c",
       "version_major": 2,
       "version_minor": 0
      },
      "text/plain": [
       "Box(children=(Aladin(fov=0.025, layout=Layout(width='70%'), options=['allow_full_zoomout', 'coo_frame', 'fov',…"
      ]
     },
     "metadata": {},
     "output_type": "display_data"
    },
    {
     "name": "stdout",
     "output_type": "stream",
     "text": [
      "None\r"
     ]
    },
    {
     "data": {
      "application/vnd.jupyter.widget-view+json": {
       "model_id": "94406ab069a644e59400b649e329ec60",
       "version_major": 2,
       "version_minor": 0
      },
      "text/plain": [
       "Box(children=(Aladin(fov=0.025, layout=Layout(width='70%'), options=['allow_full_zoomout', 'coo_frame', 'fov',…"
      ]
     },
     "metadata": {},
     "output_type": "display_data"
    },
    {
     "name": "stdout",
     "output_type": "stream",
     "text": [
      "None\r"
     ]
    },
    {
     "data": {
      "application/vnd.jupyter.widget-view+json": {
       "model_id": "e295b09abea04d67ae691300d53ace9d",
       "version_major": 2,
       "version_minor": 0
      },
      "text/plain": [
       "Box(children=(Aladin(fov=0.025, layout=Layout(width='70%'), options=['allow_full_zoomout', 'coo_frame', 'fov',…"
      ]
     },
     "metadata": {},
     "output_type": "display_data"
    },
    {
     "name": "stdout",
     "output_type": "stream",
     "text": [
      "None\r"
     ]
    },
    {
     "data": {
      "application/vnd.jupyter.widget-view+json": {
       "model_id": "a63408fd048b47f3b1f97eacbf1aebdc",
       "version_major": 2,
       "version_minor": 0
      },
      "text/plain": [
       "Box(children=(Aladin(fov=0.025, layout=Layout(width='70%'), options=['allow_full_zoomout', 'coo_frame', 'fov',…"
      ]
     },
     "metadata": {},
     "output_type": "display_data"
    },
    {
     "name": "stdout",
     "output_type": "stream",
     "text": [
      "None\r"
     ]
    },
    {
     "data": {
      "application/vnd.jupyter.widget-view+json": {
       "model_id": "be342b810006472182c42a9e2c32b45e",
       "version_major": 2,
       "version_minor": 0
      },
      "text/plain": [
       "Box(children=(Aladin(fov=0.025, layout=Layout(width='70%'), options=['allow_full_zoomout', 'coo_frame', 'fov',…"
      ]
     },
     "metadata": {},
     "output_type": "display_data"
    },
    {
     "name": "stdout",
     "output_type": "stream",
     "text": [
      "None\r"
     ]
    },
    {
     "name": "stderr",
     "output_type": "stream",
     "text": [
      "/home/fforster/anaconda3/lib/python3.6/site-packages/astroquery/simbad/core.py:136: UserWarning: Warning: The script line number 3 raised an error (recorded in the `errors` attribute of the result table): '12:31:10.0941 +19:34:56.2483': No astronomical object found :\n",
      "  (error.line, error.msg))\n"
     ]
    },
    {
     "name": "stdout",
     "output_type": "stream",
     "text": [
      "None\r"
     ]
    },
    {
     "data": {
      "application/vnd.jupyter.widget-view+json": {
       "model_id": "04dc30a4447b4636a2c47565188b716d",
       "version_major": 2,
       "version_minor": 0
      },
      "text/plain": [
       "Box(children=(Aladin(fov=0.025, layout=Layout(width='70%'), options=['allow_full_zoomout', 'coo_frame', 'fov',…"
      ]
     },
     "metadata": {},
     "output_type": "display_data"
    },
    {
     "name": "stdout",
     "output_type": "stream",
     "text": [
      "None\r"
     ]
    }
   ],
   "source": [
    "alerce.select_hosts(candidates, catsHTM=False, vizier=False)"
   ]
  },
  {
   "cell_type": "code",
   "execution_count": 8,
   "metadata": {
    "ExecuteTime": {
     "end_time": "2019-11-13T19:21:06.778538Z",
     "start_time": "2019-11-13T19:21:06.748199Z"
    }
   },
   "outputs": [
    {
     "data": {
      "text/plain": [
       "{'ZTF19acryaon': 'WISEA J005749.28-173826.7',\n",
       " 'ZTF19acryurj': 'UGC 00548',\n",
       " 'ZTF19acrywgb': 'SDSS J020333.76-090643.2',\n",
       " 'ZTF19acryynr': 'UGC 01046',\n",
       " 'ZTF19acrzbwl': 'WISEA J020701.29+112721.1',\n",
       " 'ZTF19acrzcgx': 'SDSS J015708.94+151437.3',\n",
       " 'ZTF19acsamnm': 'WISEA J063100.18+375425.1',\n",
       " 'ZTF19acmxymo': 'WISEA J120719.68+065056.4',\n",
       " 'ZTF19acmyacs': 'NGC 4793',\n",
       " 'ZTF19ackjvtl': 'KUG 1313+309',\n",
       " 'ZTF19ackjuvd': 'WISEA J125819.97+311238.4',\n",
       " 'ZTF19acsbxem': 'NGC 4954',\n",
       " 'ZTF19acsbxgw': 'WISEA J125125.75+700734.8',\n",
       " 'ZTF19ackjtpd': 'SDSS J123110.20+193452.8',\n",
       " 'ZTF18aaknyrs': 'WISEA J121431.17+181504.5'}"
      ]
     },
     "execution_count": 8,
     "metadata": {},
     "output_type": "execute_result"
    }
   ],
   "source": [
    "alerce.candidate_host_names"
   ]
  },
  {
   "cell_type": "markdown",
   "metadata": {},
   "source": [
    "# Manual modifications"
   ]
  },
  {
   "cell_type": "code",
   "execution_count": 9,
   "metadata": {
    "ExecuteTime": {
     "end_time": "2019-11-13T19:21:08.176394Z",
     "start_time": "2019-11-13T19:21:08.158164Z"
    }
   },
   "outputs": [],
   "source": [
    "#oid = \"ZTF19acmbjll\"\n",
    "#alerce.candidate_host_names[oid] = \"WISEA J052037.89-090209.7\"\n",
    "#alerce.candidate_host_redshifts[oid] = \"nan\""
   ]
  },
  {
   "cell_type": "markdown",
   "metadata": {},
   "source": [
    "# Clean nans"
   ]
  },
  {
   "cell_type": "code",
   "execution_count": 10,
   "metadata": {
    "ExecuteTime": {
     "end_time": "2019-11-13T19:21:09.083261Z",
     "start_time": "2019-11-13T19:21:09.048015Z"
    }
   },
   "outputs": [],
   "source": [
    "for k in list(alerce.candidate_host_redshifts.keys()):\n",
    "    if alerce.candidate_host_redshifts[k] == \"nan\":\n",
    "        alerce.candidate_host_redshifts.pop(k)"
   ]
  },
  {
   "cell_type": "markdown",
   "metadata": {},
   "source": [
    "# Save hosts"
   ]
  },
  {
   "cell_type": "code",
   "execution_count": 11,
   "metadata": {
    "ExecuteTime": {
     "end_time": "2019-11-13T19:21:10.097733Z",
     "start_time": "2019-11-13T19:21:10.072439Z"
    }
   },
   "outputs": [
    {
     "data": {
      "text/html": [
       "<div>\n",
       "<style scoped>\n",
       "    .dataframe tbody tr th:only-of-type {\n",
       "        vertical-align: middle;\n",
       "    }\n",
       "\n",
       "    .dataframe tbody tr th {\n",
       "        vertical-align: top;\n",
       "    }\n",
       "\n",
       "    .dataframe thead th {\n",
       "        text-align: right;\n",
       "    }\n",
       "</style>\n",
       "<table border=\"1\" class=\"dataframe\">\n",
       "  <thead>\n",
       "    <tr style=\"text-align: right;\">\n",
       "      <th></th>\n",
       "      <th>host_id</th>\n",
       "      <th>z</th>\n",
       "    </tr>\n",
       "    <tr>\n",
       "      <th>oid</th>\n",
       "      <th></th>\n",
       "      <th></th>\n",
       "    </tr>\n",
       "  </thead>\n",
       "  <tbody>\n",
       "    <tr>\n",
       "      <th>ZTF19acryaon</th>\n",
       "      <td>WISEA J005749.28-173826.7</td>\n",
       "      <td>0.055108</td>\n",
       "    </tr>\n",
       "    <tr>\n",
       "      <th>ZTF19acryurj</th>\n",
       "      <td>UGC 00548</td>\n",
       "      <td>0.022035</td>\n",
       "    </tr>\n",
       "    <tr>\n",
       "      <th>ZTF19acrywgb</th>\n",
       "      <td>SDSS J020333.76-090643.2</td>\n",
       "      <td>0.157</td>\n",
       "    </tr>\n",
       "    <tr>\n",
       "      <th>ZTF19acryynr</th>\n",
       "      <td>UGC 01046</td>\n",
       "      <td>0.017425</td>\n",
       "    </tr>\n",
       "    <tr>\n",
       "      <th>ZTF19acrzbwl</th>\n",
       "      <td>WISEA J020701.29+112721.1</td>\n",
       "      <td>NaN</td>\n",
       "    </tr>\n",
       "    <tr>\n",
       "      <th>ZTF19acrzcgx</th>\n",
       "      <td>SDSS J015708.94+151437.3</td>\n",
       "      <td>0.179</td>\n",
       "    </tr>\n",
       "    <tr>\n",
       "      <th>ZTF19acsamnm</th>\n",
       "      <td>WISEA J063100.18+375425.1</td>\n",
       "      <td>0.022816</td>\n",
       "    </tr>\n",
       "    <tr>\n",
       "      <th>ZTF19acmxymo</th>\n",
       "      <td>WISEA J120719.68+065056.4</td>\n",
       "      <td>0.075337</td>\n",
       "    </tr>\n",
       "    <tr>\n",
       "      <th>ZTF19acmyacs</th>\n",
       "      <td>NGC 4793</td>\n",
       "      <td>0.008286</td>\n",
       "    </tr>\n",
       "    <tr>\n",
       "      <th>ZTF19ackjvtl</th>\n",
       "      <td>KUG 1313+309</td>\n",
       "      <td>0.018883</td>\n",
       "    </tr>\n",
       "    <tr>\n",
       "      <th>ZTF19ackjuvd</th>\n",
       "      <td>WISEA J125819.97+311238.4</td>\n",
       "      <td>0.101125</td>\n",
       "    </tr>\n",
       "    <tr>\n",
       "      <th>ZTF19acsbxem</th>\n",
       "      <td>NGC 4954</td>\n",
       "      <td>0.030961</td>\n",
       "    </tr>\n",
       "    <tr>\n",
       "      <th>ZTF19acsbxgw</th>\n",
       "      <td>WISEA J125125.75+700734.8</td>\n",
       "      <td>NaN</td>\n",
       "    </tr>\n",
       "    <tr>\n",
       "      <th>ZTF19ackjtpd</th>\n",
       "      <td>SDSS J123110.20+193452.8</td>\n",
       "      <td>0.052</td>\n",
       "    </tr>\n",
       "    <tr>\n",
       "      <th>ZTF18aaknyrs</th>\n",
       "      <td>WISEA J121431.17+181504.5</td>\n",
       "      <td>0.029177</td>\n",
       "    </tr>\n",
       "  </tbody>\n",
       "</table>\n",
       "</div>"
      ],
      "text/plain": [
       "                                host_id         z\n",
       "oid                                              \n",
       "ZTF19acryaon  WISEA J005749.28-173826.7  0.055108\n",
       "ZTF19acryurj                  UGC 00548  0.022035\n",
       "ZTF19acrywgb   SDSS J020333.76-090643.2     0.157\n",
       "ZTF19acryynr                  UGC 01046  0.017425\n",
       "ZTF19acrzbwl  WISEA J020701.29+112721.1       NaN\n",
       "ZTF19acrzcgx   SDSS J015708.94+151437.3     0.179\n",
       "ZTF19acsamnm  WISEA J063100.18+375425.1  0.022816\n",
       "ZTF19acmxymo  WISEA J120719.68+065056.4  0.075337\n",
       "ZTF19acmyacs                   NGC 4793  0.008286\n",
       "ZTF19ackjvtl               KUG 1313+309  0.018883\n",
       "ZTF19ackjuvd  WISEA J125819.97+311238.4  0.101125\n",
       "ZTF19acsbxem                   NGC 4954  0.030961\n",
       "ZTF19acsbxgw  WISEA J125125.75+700734.8       NaN\n",
       "ZTF19ackjtpd   SDSS J123110.20+193452.8     0.052\n",
       "ZTF18aaknyrs  WISEA J121431.17+181504.5  0.029177"
      ]
     },
     "execution_count": 11,
     "metadata": {},
     "output_type": "execute_result"
    }
   ],
   "source": [
    "df_host_names = pd.DataFrame.from_dict(alerce.candidate_host_names, orient='index', columns=[\"host_id\"])\n",
    "df_host_names.index.name='oid'\n",
    "df_host_redshifts = pd.DataFrame.from_dict(alerce.candidate_host_redshifts, orient='index', columns=[\"z\"])\n",
    "df_host_redshifts.index.name='oid'\n",
    "df_hosts = df_host_names.join(df_host_redshifts)\n",
    "df_hosts.to_csv(\"candidates/%s_hosts.csv\" % refstring)\n",
    "df_hosts.head(100)"
   ]
  },
  {
   "cell_type": "markdown",
   "metadata": {},
   "source": [
    "# Display host galaxy properties"
   ]
  },
  {
   "cell_type": "code",
   "execution_count": 12,
   "metadata": {
    "ExecuteTime": {
     "end_time": "2019-11-13T19:21:11.189375Z",
     "start_time": "2019-11-13T19:21:11.168334Z"
    }
   },
   "outputs": [
    {
     "name": "stdout",
     "output_type": "stream",
     "text": [
      "ZTF19acryaon WISEA J005749.28-173826.7 0.055108\n",
      "ZTF19acryurj UGC 00548 0.022035\n",
      "ZTF19acrywgb SDSS J020333.76-090643.2 0.157\n",
      "ZTF19acryynr UGC 01046 0.017425\n",
      "ZTF19acrzbwl WISEA J020701.29+112721.1\n",
      "ZTF19acrzcgx SDSS J015708.94+151437.3 0.179\n",
      "ZTF19acsamnm WISEA J063100.18+375425.1 0.022816\n",
      "ZTF19acmxymo WISEA J120719.68+065056.4 0.075337\n",
      "ZTF19acmyacs NGC 4793 0.008286\n",
      "ZTF19ackjvtl KUG 1313+309 0.018883\n",
      "ZTF19ackjuvd WISEA J125819.97+311238.4 0.101125\n",
      "ZTF19acsbxem NGC 4954 0.030961\n",
      "ZTF19acsbxgw WISEA J125125.75+700734.8\n",
      "ZTF19ackjtpd SDSS J123110.20+193452.8 0.052\n",
      "ZTF18aaknyrs WISEA J121431.17+181504.5 0.029177\n"
     ]
    }
   ],
   "source": [
    "for oid in candidates:\n",
    "    if oid in alerce.candidate_host_redshifts.keys():\n",
    "        print(oid, alerce.candidate_host_names[oid], alerce.candidate_host_redshifts[oid])\n",
    "    elif oid in alerce.candidate_host_names.keys():\n",
    "        print(oid, alerce.candidate_host_names[oid])\n",
    "    else:\n",
    "        alerce.candidate_host_names[oid] = \"\"\n",
    "        alerce.candidate_host_redshifts[oid] = \"\"\n",
    "        print(oid)"
   ]
  },
  {
   "cell_type": "markdown",
   "metadata": {},
   "source": [
    "# Sandbox or real"
   ]
  },
  {
   "cell_type": "code",
   "execution_count": 13,
   "metadata": {
    "ExecuteTime": {
     "end_time": "2019-11-13T19:21:12.185381Z",
     "start_time": "2019-11-13T19:21:12.171287Z"
    }
   },
   "outputs": [],
   "source": [
    "sandbox = False # True: test in sandbox, False: send to real website"
   ]
  },
  {
   "cell_type": "markdown",
   "metadata": {},
   "source": [
    "# Get API key and url"
   ]
  },
  {
   "cell_type": "code",
   "execution_count": 14,
   "metadata": {
    "ExecuteTime": {
     "end_time": "2019-11-13T19:21:13.697589Z",
     "start_time": "2019-11-13T19:21:13.681682Z"
    },
    "scrolled": true
   },
   "outputs": [
    {
     "name": "stdout",
     "output_type": "stream",
     "text": [
      "Getting API key...\n",
      "WARNING: submitting to real (not sandbox) TNS website\n"
     ]
    }
   ],
   "source": [
    "if sandbox:\n",
    "    print(\"Getting API sandbox key...\")\n",
    "    api_key = open(\"API_sandbox.key\", \"r\").read()\n",
    "else:\n",
    "    print(\"Getting API key...\")\n",
    "    api_key = open(\"API.key\", \"r\").read()\n",
    "    \n",
    "if sandbox:\n",
    "    url_tns_api=\"https://sandbox-tns.weizmann.ac.il/api\"\n",
    "else:\n",
    "    url_tns_api=\"https://wis-tns.weizmann.ac.il/api\"\n",
    "    \n",
    "if not sandbox:\n",
    "    print(\"WARNING: submitting to real (not sandbox) TNS website\")"
   ]
  },
  {
   "cell_type": "markdown",
   "metadata": {},
   "source": [
    "# Prepare TNS report\n",
    "\n",
    "# CHECK AUTHOR LIST!!!\n",
    "(key is used to query only at this step)"
   ]
  },
  {
   "cell_type": "code",
   "execution_count": 21,
   "metadata": {
    "ExecuteTime": {
     "end_time": "2019-11-13T19:26:27.680093Z",
     "start_time": "2019-11-13T19:25:35.983773Z"
    },
    "scrolled": false
   },
   "outputs": [
    {
     "name": "stdout",
     "output_type": "stream",
     "text": [
      "\n",
      " 0 ZTF19acryaon\n",
      "http://alerce.online/object/ZTF19acryaon\n"
     ]
    },
    {
     "data": {
      "text/html": [
       "\n",
       "        <div>ZTF oid: ZTF19acryaon, candid: 1046189052515015002</div>\n",
       "        <div>&emsp;&emsp;&emsp;&emsp;&emsp;\n",
       "        Science\n",
       "        &emsp;&emsp;&emsp;&emsp;&emsp;&emsp;&emsp;&emsp;&emsp;&emsp;&emsp;&emsp;\n",
       "        Template\n",
       "        &emsp;&emsp;&emsp;&emsp;&emsp;&emsp;&emsp;&emsp;&emsp;&emsp;&emsp;&emsp;\n",
       "        Difference\n",
       "        <div class=\"container\">\n",
       "        <div style=\"float:left;width:20%\"><img src=\"http://avro.alerce.online/get_stamp?oid=ZTF19acryaon&candid=1046189052515015002&type=science&format=png\"></div>\n",
       "        <div style=\"float:left;width:20%\"><img src=\"http://avro.alerce.online/get_stamp?oid=ZTF19acryaon&candid=1046189052515015002&type=template&format=png\"></div>\n",
       "        <div style=\"float:left;width:20%\"><img src=\"http://avro.alerce.online/get_stamp?oid=ZTF19acryaon&candid=1046189052515015002&type=difference&format=png\"></div>\n",
       "        </div>\n",
       "        "
      ],
      "text/plain": [
       "<IPython.core.display.HTML object>"
      ]
     },
     "metadata": {},
     "output_type": "display_data"
    },
    {
     "name": "stdout",
     "output_type": "stream",
     "text": [
      "Early SN candidate (g-rise > 0.14+-0.01 mag/day, r-rise > 0.12+-0.02 mag/day) classified by ALeRCE using the public ZTF stream. Discovery image and light curve in http://alerce.online/object/ZTF19acryaon \n",
      "Astronomical transient is known: [{'objname': '2019urn', 'prefix': 'AT'}] \n",
      "\n",
      "\n",
      " 0 ZTF19acryurj\n",
      "http://alerce.online/object/ZTF19acryurj\n"
     ]
    },
    {
     "data": {
      "text/html": [
       "\n",
       "        <div>ZTF oid: ZTF19acryurj, candid: 1046289843115015005</div>\n",
       "        <div>&emsp;&emsp;&emsp;&emsp;&emsp;\n",
       "        Science\n",
       "        &emsp;&emsp;&emsp;&emsp;&emsp;&emsp;&emsp;&emsp;&emsp;&emsp;&emsp;&emsp;\n",
       "        Template\n",
       "        &emsp;&emsp;&emsp;&emsp;&emsp;&emsp;&emsp;&emsp;&emsp;&emsp;&emsp;&emsp;\n",
       "        Difference\n",
       "        <div class=\"container\">\n",
       "        <div style=\"float:left;width:20%\"><img src=\"http://avro.alerce.online/get_stamp?oid=ZTF19acryurj&candid=1046289843115015005&type=science&format=png\"></div>\n",
       "        <div style=\"float:left;width:20%\"><img src=\"http://avro.alerce.online/get_stamp?oid=ZTF19acryurj&candid=1046289843115015005&type=template&format=png\"></div>\n",
       "        <div style=\"float:left;width:20%\"><img src=\"http://avro.alerce.online/get_stamp?oid=ZTF19acryurj&candid=1046289843115015005&type=difference&format=png\"></div>\n",
       "        </div>\n",
       "        "
      ],
      "text/plain": [
       "<IPython.core.display.HTML object>"
      ]
     },
     "metadata": {},
     "output_type": "display_data"
    },
    {
     "name": "stdout",
     "output_type": "stream",
     "text": [
      "Early SN candidate (r-rise > 0.13+-0.02 mag/day) classified by ALeRCE using the public ZTF stream. Discovery image and light curve in http://alerce.online/object/ZTF19acryurj \n",
      "Astronomical transient is known: [{'objname': '2019ust', 'prefix': 'AT'}] \n",
      "\n",
      "\n",
      " 0 ZTF19acrywgb\n",
      "http://alerce.online/object/ZTF19acrywgb\n"
     ]
    },
    {
     "data": {
      "text/html": [
       "\n",
       "        <div>ZTF oid: ZTF19acrywgb, candid: 1046294604715015002</div>\n",
       "        <div>&emsp;&emsp;&emsp;&emsp;&emsp;\n",
       "        Science\n",
       "        &emsp;&emsp;&emsp;&emsp;&emsp;&emsp;&emsp;&emsp;&emsp;&emsp;&emsp;&emsp;\n",
       "        Template\n",
       "        &emsp;&emsp;&emsp;&emsp;&emsp;&emsp;&emsp;&emsp;&emsp;&emsp;&emsp;&emsp;\n",
       "        Difference\n",
       "        <div class=\"container\">\n",
       "        <div style=\"float:left;width:20%\"><img src=\"http://avro.alerce.online/get_stamp?oid=ZTF19acrywgb&candid=1046294604715015002&type=science&format=png\"></div>\n",
       "        <div style=\"float:left;width:20%\"><img src=\"http://avro.alerce.online/get_stamp?oid=ZTF19acrywgb&candid=1046294604715015002&type=template&format=png\"></div>\n",
       "        <div style=\"float:left;width:20%\"><img src=\"http://avro.alerce.online/get_stamp?oid=ZTF19acrywgb&candid=1046294604715015002&type=difference&format=png\"></div>\n",
       "        </div>\n",
       "        "
      ],
      "text/plain": [
       "<IPython.core.display.HTML object>"
      ]
     },
     "metadata": {},
     "output_type": "display_data"
    },
    {
     "name": "stdout",
     "output_type": "stream",
     "text": [
      "Early SN candidate (r-rise > 0.11+-0.02 mag/day) classified by ALeRCE using the public ZTF stream. Discovery image and light curve in http://alerce.online/object/ZTF19acrywgb \n",
      "\n",
      " 1 ZTF19acryynr\n",
      "http://alerce.online/object/ZTF19acryynr\n"
     ]
    },
    {
     "data": {
      "text/html": [
       "\n",
       "        <div>ZTF oid: ZTF19acryynr, candid: 1046304740415015005</div>\n",
       "        <div>&emsp;&emsp;&emsp;&emsp;&emsp;\n",
       "        Science\n",
       "        &emsp;&emsp;&emsp;&emsp;&emsp;&emsp;&emsp;&emsp;&emsp;&emsp;&emsp;&emsp;\n",
       "        Template\n",
       "        &emsp;&emsp;&emsp;&emsp;&emsp;&emsp;&emsp;&emsp;&emsp;&emsp;&emsp;&emsp;\n",
       "        Difference\n",
       "        <div class=\"container\">\n",
       "        <div style=\"float:left;width:20%\"><img src=\"http://avro.alerce.online/get_stamp?oid=ZTF19acryynr&candid=1046304740415015005&type=science&format=png\"></div>\n",
       "        <div style=\"float:left;width:20%\"><img src=\"http://avro.alerce.online/get_stamp?oid=ZTF19acryynr&candid=1046304740415015005&type=template&format=png\"></div>\n",
       "        <div style=\"float:left;width:20%\"><img src=\"http://avro.alerce.online/get_stamp?oid=ZTF19acryynr&candid=1046304740415015005&type=difference&format=png\"></div>\n",
       "        </div>\n",
       "        "
      ],
      "text/plain": [
       "<IPython.core.display.HTML object>"
      ]
     },
     "metadata": {},
     "output_type": "display_data"
    },
    {
     "name": "stdout",
     "output_type": "stream",
     "text": [
      "Early SN candidate (r-rise > 0.10+-0.02 mag/day) classified by ALeRCE using the public ZTF stream. Discovery image and light curve in http://alerce.online/object/ZTF19acryynr \n",
      "\n",
      " 2 ZTF19acrzbwl\n",
      "http://alerce.online/object/ZTF19acrzbwl\n"
     ]
    },
    {
     "data": {
      "text/html": [
       "\n",
       "        <div>ZTF oid: ZTF19acrzbwl, candid: 1046316731715015001</div>\n",
       "        <div>&emsp;&emsp;&emsp;&emsp;&emsp;\n",
       "        Science\n",
       "        &emsp;&emsp;&emsp;&emsp;&emsp;&emsp;&emsp;&emsp;&emsp;&emsp;&emsp;&emsp;\n",
       "        Template\n",
       "        &emsp;&emsp;&emsp;&emsp;&emsp;&emsp;&emsp;&emsp;&emsp;&emsp;&emsp;&emsp;\n",
       "        Difference\n",
       "        <div class=\"container\">\n",
       "        <div style=\"float:left;width:20%\"><img src=\"http://avro.alerce.online/get_stamp?oid=ZTF19acrzbwl&candid=1046316731715015001&type=science&format=png\"></div>\n",
       "        <div style=\"float:left;width:20%\"><img src=\"http://avro.alerce.online/get_stamp?oid=ZTF19acrzbwl&candid=1046316731715015001&type=template&format=png\"></div>\n",
       "        <div style=\"float:left;width:20%\"><img src=\"http://avro.alerce.online/get_stamp?oid=ZTF19acrzbwl&candid=1046316731715015001&type=difference&format=png\"></div>\n",
       "        </div>\n",
       "        "
      ],
      "text/plain": [
       "<IPython.core.display.HTML object>"
      ]
     },
     "metadata": {},
     "output_type": "display_data"
    },
    {
     "name": "stdout",
     "output_type": "stream",
     "text": [
      "Early SN candidate (r-rise > 0.26+-0.01 mag/day) classified by ALeRCE using the public ZTF stream. Discovery image and light curve in http://alerce.online/object/ZTF19acrzbwl \n",
      "\n",
      " 3 ZTF19acrzcgx\n",
      "http://alerce.online/object/ZTF19acrzcgx\n"
     ]
    },
    {
     "data": {
      "text/html": [
       "\n",
       "        <div>ZTF oid: ZTF19acrzcgx, candid: 1046316735615015004</div>\n",
       "        <div>&emsp;&emsp;&emsp;&emsp;&emsp;\n",
       "        Science\n",
       "        &emsp;&emsp;&emsp;&emsp;&emsp;&emsp;&emsp;&emsp;&emsp;&emsp;&emsp;&emsp;\n",
       "        Template\n",
       "        &emsp;&emsp;&emsp;&emsp;&emsp;&emsp;&emsp;&emsp;&emsp;&emsp;&emsp;&emsp;\n",
       "        Difference\n",
       "        <div class=\"container\">\n",
       "        <div style=\"float:left;width:20%\"><img src=\"http://avro.alerce.online/get_stamp?oid=ZTF19acrzcgx&candid=1046316735615015004&type=science&format=png\"></div>\n",
       "        <div style=\"float:left;width:20%\"><img src=\"http://avro.alerce.online/get_stamp?oid=ZTF19acrzcgx&candid=1046316735615015004&type=template&format=png\"></div>\n",
       "        <div style=\"float:left;width:20%\"><img src=\"http://avro.alerce.online/get_stamp?oid=ZTF19acrzcgx&candid=1046316735615015004&type=difference&format=png\"></div>\n",
       "        </div>\n",
       "        "
      ],
      "text/plain": [
       "<IPython.core.display.HTML object>"
      ]
     },
     "metadata": {},
     "output_type": "display_data"
    },
    {
     "name": "stdout",
     "output_type": "stream",
     "text": [
      "Early SN candidate (r-rise > 0.13+-0.03 mag/day) classified by ALeRCE using the public ZTF stream. Discovery image and light curve in http://alerce.online/object/ZTF19acrzcgx \n",
      "\n",
      " 4 ZTF19acsamnm\n",
      "http://alerce.online/object/ZTF19acsamnm\n"
     ]
    },
    {
     "data": {
      "text/html": [
       "\n",
       "        <div>ZTF oid: ZTF19acsamnm, candid: 1046429650515015004</div>\n",
       "        <div>&emsp;&emsp;&emsp;&emsp;&emsp;\n",
       "        Science\n",
       "        &emsp;&emsp;&emsp;&emsp;&emsp;&emsp;&emsp;&emsp;&emsp;&emsp;&emsp;&emsp;\n",
       "        Template\n",
       "        &emsp;&emsp;&emsp;&emsp;&emsp;&emsp;&emsp;&emsp;&emsp;&emsp;&emsp;&emsp;\n",
       "        Difference\n",
       "        <div class=\"container\">\n",
       "        <div style=\"float:left;width:20%\"><img src=\"http://avro.alerce.online/get_stamp?oid=ZTF19acsamnm&candid=1046429650515015004&type=science&format=png\"></div>\n",
       "        <div style=\"float:left;width:20%\"><img src=\"http://avro.alerce.online/get_stamp?oid=ZTF19acsamnm&candid=1046429650515015004&type=template&format=png\"></div>\n",
       "        <div style=\"float:left;width:20%\"><img src=\"http://avro.alerce.online/get_stamp?oid=ZTF19acsamnm&candid=1046429650515015004&type=difference&format=png\"></div>\n",
       "        </div>\n",
       "        "
      ],
      "text/plain": [
       "<IPython.core.display.HTML object>"
      ]
     },
     "metadata": {},
     "output_type": "display_data"
    },
    {
     "name": "stdout",
     "output_type": "stream",
     "text": [
      "Early SN candidate (r-rise > 0.99+-0.07 mag/day) classified by ALeRCE using the public ZTF stream. Discovery image and light curve in http://alerce.online/object/ZTF19acsamnm \n",
      "\n",
      " 5 ZTF19acmxymo\n",
      "http://alerce.online/object/ZTF19acmxymo\n"
     ]
    },
    {
     "data": {
      "text/html": [
       "\n",
       "        <div>ZTF oid: ZTF19acmxymo, candid: 1046530696215015007</div>\n",
       "        <div>&emsp;&emsp;&emsp;&emsp;&emsp;\n",
       "        Science\n",
       "        &emsp;&emsp;&emsp;&emsp;&emsp;&emsp;&emsp;&emsp;&emsp;&emsp;&emsp;&emsp;\n",
       "        Template\n",
       "        &emsp;&emsp;&emsp;&emsp;&emsp;&emsp;&emsp;&emsp;&emsp;&emsp;&emsp;&emsp;\n",
       "        Difference\n",
       "        <div class=\"container\">\n",
       "        <div style=\"float:left;width:20%\"><img src=\"http://avro.alerce.online/get_stamp?oid=ZTF19acmxymo&candid=1046530696215015007&type=science&format=png\"></div>\n",
       "        <div style=\"float:left;width:20%\"><img src=\"http://avro.alerce.online/get_stamp?oid=ZTF19acmxymo&candid=1046530696215015007&type=template&format=png\"></div>\n",
       "        <div style=\"float:left;width:20%\"><img src=\"http://avro.alerce.online/get_stamp?oid=ZTF19acmxymo&candid=1046530696215015007&type=difference&format=png\"></div>\n",
       "        </div>\n",
       "        "
      ],
      "text/plain": [
       "<IPython.core.display.HTML object>"
      ]
     },
     "metadata": {},
     "output_type": "display_data"
    },
    {
     "name": "stdout",
     "output_type": "stream",
     "text": [
      "WARNING: non detections limits not available\n",
      "SN candidate classified by ALeRCE using the public ZTF stream. Discovery image and light curve in http://alerce.online/object/ZTF19acmxymo \n",
      "\n",
      " 6 ZTF19acmyacs\n",
      "http://alerce.online/object/ZTF19acmyacs\n"
     ]
    },
    {
     "data": {
      "text/html": [
       "\n",
       "        <div>ZTF oid: ZTF19acmyacs, candid: 1046532966315015000</div>\n",
       "        <div>&emsp;&emsp;&emsp;&emsp;&emsp;\n",
       "        Science\n",
       "        &emsp;&emsp;&emsp;&emsp;&emsp;&emsp;&emsp;&emsp;&emsp;&emsp;&emsp;&emsp;\n",
       "        Template\n",
       "        &emsp;&emsp;&emsp;&emsp;&emsp;&emsp;&emsp;&emsp;&emsp;&emsp;&emsp;&emsp;\n",
       "        Difference\n",
       "        <div class=\"container\">\n",
       "        <div style=\"float:left;width:20%\"><img src=\"http://avro.alerce.online/get_stamp?oid=ZTF19acmyacs&candid=1046532966315015000&type=science&format=png\"></div>\n",
       "        <div style=\"float:left;width:20%\"><img src=\"http://avro.alerce.online/get_stamp?oid=ZTF19acmyacs&candid=1046532966315015000&type=template&format=png\"></div>\n",
       "        <div style=\"float:left;width:20%\"><img src=\"http://avro.alerce.online/get_stamp?oid=ZTF19acmyacs&candid=1046532966315015000&type=difference&format=png\"></div>\n",
       "        </div>\n",
       "        "
      ],
      "text/plain": [
       "<IPython.core.display.HTML object>"
      ]
     },
     "metadata": {},
     "output_type": "display_data"
    },
    {
     "name": "stdout",
     "output_type": "stream",
     "text": [
      "WARNING: non detections limits not available\n",
      "SN candidate classified by ALeRCE using the public ZTF stream. Discovery image and light curve in http://alerce.online/object/ZTF19acmyacs \n",
      "Astronomical transient is known: [{'objname': '2019upv', 'prefix': 'AT'}] \n",
      "\n",
      "\n",
      " 6 ZTF19ackjvtl\n",
      "http://alerce.online/object/ZTF19ackjvtl\n"
     ]
    },
    {
     "data": {
      "text/html": [
       "\n",
       "        <div>ZTF oid: ZTF19ackjvtl, candid: 1046533870115015004</div>\n",
       "        <div>&emsp;&emsp;&emsp;&emsp;&emsp;\n",
       "        Science\n",
       "        &emsp;&emsp;&emsp;&emsp;&emsp;&emsp;&emsp;&emsp;&emsp;&emsp;&emsp;&emsp;\n",
       "        Template\n",
       "        &emsp;&emsp;&emsp;&emsp;&emsp;&emsp;&emsp;&emsp;&emsp;&emsp;&emsp;&emsp;\n",
       "        Difference\n",
       "        <div class=\"container\">\n",
       "        <div style=\"float:left;width:20%\"><img src=\"http://avro.alerce.online/get_stamp?oid=ZTF19ackjvtl&candid=1046533870115015004&type=science&format=png\"></div>\n",
       "        <div style=\"float:left;width:20%\"><img src=\"http://avro.alerce.online/get_stamp?oid=ZTF19ackjvtl&candid=1046533870115015004&type=template&format=png\"></div>\n",
       "        <div style=\"float:left;width:20%\"><img src=\"http://avro.alerce.online/get_stamp?oid=ZTF19ackjvtl&candid=1046533870115015004&type=difference&format=png\"></div>\n",
       "        </div>\n",
       "        "
      ],
      "text/plain": [
       "<IPython.core.display.HTML object>"
      ]
     },
     "metadata": {},
     "output_type": "display_data"
    },
    {
     "name": "stdout",
     "output_type": "stream",
     "text": [
      "WARNING: non detections limits not available\n",
      "SN candidate classified by ALeRCE using the public ZTF stream. Discovery image and light curve in http://alerce.online/object/ZTF19ackjvtl \n",
      "\n",
      " 7 ZTF19ackjuvd\n",
      "http://alerce.online/object/ZTF19ackjuvd\n"
     ]
    },
    {
     "data": {
      "text/html": [
       "\n",
       "        <div>ZTF oid: ZTF19ackjuvd, candid: 1046533870915015000</div>\n",
       "        <div>&emsp;&emsp;&emsp;&emsp;&emsp;\n",
       "        Science\n",
       "        &emsp;&emsp;&emsp;&emsp;&emsp;&emsp;&emsp;&emsp;&emsp;&emsp;&emsp;&emsp;\n",
       "        Template\n",
       "        &emsp;&emsp;&emsp;&emsp;&emsp;&emsp;&emsp;&emsp;&emsp;&emsp;&emsp;&emsp;\n",
       "        Difference\n",
       "        <div class=\"container\">\n",
       "        <div style=\"float:left;width:20%\"><img src=\"http://avro.alerce.online/get_stamp?oid=ZTF19ackjuvd&candid=1046533870915015000&type=science&format=png\"></div>\n",
       "        <div style=\"float:left;width:20%\"><img src=\"http://avro.alerce.online/get_stamp?oid=ZTF19ackjuvd&candid=1046533870915015000&type=template&format=png\"></div>\n",
       "        <div style=\"float:left;width:20%\"><img src=\"http://avro.alerce.online/get_stamp?oid=ZTF19ackjuvd&candid=1046533870915015000&type=difference&format=png\"></div>\n",
       "        </div>\n",
       "        "
      ],
      "text/plain": [
       "<IPython.core.display.HTML object>"
      ]
     },
     "metadata": {},
     "output_type": "display_data"
    },
    {
     "name": "stdout",
     "output_type": "stream",
     "text": [
      "WARNING: non detections limits not available\n",
      "SN candidate classified by ALeRCE using the public ZTF stream. Discovery image and light curve in http://alerce.online/object/ZTF19ackjuvd \n",
      "\n",
      " 8 ZTF19acsbxem\n",
      "http://alerce.online/object/ZTF19acsbxem\n"
     ]
    },
    {
     "data": {
      "text/html": [
       "\n",
       "        <div>ZTF oid: ZTF19acsbxem, candid: 1046537973115015000</div>\n",
       "        <div>&emsp;&emsp;&emsp;&emsp;&emsp;\n",
       "        Science\n",
       "        &emsp;&emsp;&emsp;&emsp;&emsp;&emsp;&emsp;&emsp;&emsp;&emsp;&emsp;&emsp;\n",
       "        Template\n",
       "        &emsp;&emsp;&emsp;&emsp;&emsp;&emsp;&emsp;&emsp;&emsp;&emsp;&emsp;&emsp;\n",
       "        Difference\n",
       "        <div class=\"container\">\n",
       "        <div style=\"float:left;width:20%\"><img src=\"http://avro.alerce.online/get_stamp?oid=ZTF19acsbxem&candid=1046537973115015000&type=science&format=png\"></div>\n",
       "        <div style=\"float:left;width:20%\"><img src=\"http://avro.alerce.online/get_stamp?oid=ZTF19acsbxem&candid=1046537973115015000&type=template&format=png\"></div>\n",
       "        <div style=\"float:left;width:20%\"><img src=\"http://avro.alerce.online/get_stamp?oid=ZTF19acsbxem&candid=1046537973115015000&type=difference&format=png\"></div>\n",
       "        </div>\n",
       "        "
      ],
      "text/plain": [
       "<IPython.core.display.HTML object>"
      ]
     },
     "metadata": {},
     "output_type": "display_data"
    },
    {
     "name": "stdout",
     "output_type": "stream",
     "text": [
      "WARNING: non detections limits not available\n",
      "SN candidate classified by ALeRCE using the public ZTF stream. Discovery image and light curve in http://alerce.online/object/ZTF19acsbxem \n",
      "\n",
      " 9 ZTF19acsbxgw\n",
      "http://alerce.online/object/ZTF19acsbxgw\n"
     ]
    },
    {
     "data": {
      "text/html": [
       "\n",
       "        <div>ZTF oid: ZTF19acsbxgw, candid: 1046538424215015003</div>\n",
       "        <div>&emsp;&emsp;&emsp;&emsp;&emsp;\n",
       "        Science\n",
       "        &emsp;&emsp;&emsp;&emsp;&emsp;&emsp;&emsp;&emsp;&emsp;&emsp;&emsp;&emsp;\n",
       "        Template\n",
       "        &emsp;&emsp;&emsp;&emsp;&emsp;&emsp;&emsp;&emsp;&emsp;&emsp;&emsp;&emsp;\n",
       "        Difference\n",
       "        <div class=\"container\">\n",
       "        <div style=\"float:left;width:20%\"><img src=\"http://avro.alerce.online/get_stamp?oid=ZTF19acsbxgw&candid=1046538424215015003&type=science&format=png\"></div>\n",
       "        <div style=\"float:left;width:20%\"><img src=\"http://avro.alerce.online/get_stamp?oid=ZTF19acsbxgw&candid=1046538424215015003&type=template&format=png\"></div>\n",
       "        <div style=\"float:left;width:20%\"><img src=\"http://avro.alerce.online/get_stamp?oid=ZTF19acsbxgw&candid=1046538424215015003&type=difference&format=png\"></div>\n",
       "        </div>\n",
       "        "
      ],
      "text/plain": [
       "<IPython.core.display.HTML object>"
      ]
     },
     "metadata": {},
     "output_type": "display_data"
    },
    {
     "name": "stdout",
     "output_type": "stream",
     "text": [
      "SN candidate classified by ALeRCE using the public ZTF stream. Discovery image and light curve in http://alerce.online/object/ZTF19acsbxgw \n",
      "Astronomical transient is known: [{'objname': '2019quv', 'prefix': 'AT'}] \n",
      "\n",
      "\n",
      " 9 ZTF19ackjtpd\n",
      "http://alerce.online/object/ZTF19ackjtpd\n"
     ]
    },
    {
     "data": {
      "text/html": [
       "\n",
       "        <div>ZTF oid: ZTF19ackjtpd, candid: 1046540053815015000</div>\n",
       "        <div>&emsp;&emsp;&emsp;&emsp;&emsp;\n",
       "        Science\n",
       "        &emsp;&emsp;&emsp;&emsp;&emsp;&emsp;&emsp;&emsp;&emsp;&emsp;&emsp;&emsp;\n",
       "        Template\n",
       "        &emsp;&emsp;&emsp;&emsp;&emsp;&emsp;&emsp;&emsp;&emsp;&emsp;&emsp;&emsp;\n",
       "        Difference\n",
       "        <div class=\"container\">\n",
       "        <div style=\"float:left;width:20%\"><img src=\"http://avro.alerce.online/get_stamp?oid=ZTF19ackjtpd&candid=1046540053815015000&type=science&format=png\"></div>\n",
       "        <div style=\"float:left;width:20%\"><img src=\"http://avro.alerce.online/get_stamp?oid=ZTF19ackjtpd&candid=1046540053815015000&type=template&format=png\"></div>\n",
       "        <div style=\"float:left;width:20%\"><img src=\"http://avro.alerce.online/get_stamp?oid=ZTF19ackjtpd&candid=1046540053815015000&type=difference&format=png\"></div>\n",
       "        </div>\n",
       "        "
      ],
      "text/plain": [
       "<IPython.core.display.HTML object>"
      ]
     },
     "metadata": {},
     "output_type": "display_data"
    },
    {
     "name": "stdout",
     "output_type": "stream",
     "text": [
      "WARNING: non detections limits not available\n",
      "SN candidate classified by ALeRCE using the public ZTF stream. Discovery image and light curve in http://alerce.online/object/ZTF19ackjtpd \n",
      "\n",
      " 10 ZTF18aaknyrs\n",
      "http://alerce.online/object/ZTF18aaknyrs\n"
     ]
    },
    {
     "data": {
      "text/html": [
       "\n",
       "        <div>ZTF oid: ZTF18aaknyrs, candid: 1046540052915015003</div>\n",
       "        <div>&emsp;&emsp;&emsp;&emsp;&emsp;\n",
       "        Science\n",
       "        &emsp;&emsp;&emsp;&emsp;&emsp;&emsp;&emsp;&emsp;&emsp;&emsp;&emsp;&emsp;\n",
       "        Template\n",
       "        &emsp;&emsp;&emsp;&emsp;&emsp;&emsp;&emsp;&emsp;&emsp;&emsp;&emsp;&emsp;\n",
       "        Difference\n",
       "        <div class=\"container\">\n",
       "        <div style=\"float:left;width:20%\"><img src=\"http://avro.alerce.online/get_stamp?oid=ZTF18aaknyrs&candid=1046540052915015003&type=science&format=png\"></div>\n",
       "        <div style=\"float:left;width:20%\"><img src=\"http://avro.alerce.online/get_stamp?oid=ZTF18aaknyrs&candid=1046540052915015003&type=template&format=png\"></div>\n",
       "        <div style=\"float:left;width:20%\"><img src=\"http://avro.alerce.online/get_stamp?oid=ZTF18aaknyrs&candid=1046540052915015003&type=difference&format=png\"></div>\n",
       "        </div>\n",
       "        "
      ],
      "text/plain": [
       "<IPython.core.display.HTML object>"
      ]
     },
     "metadata": {},
     "output_type": "display_data"
    },
    {
     "name": "stdout",
     "output_type": "stream",
     "text": [
      "Early SN candidate (r-rise > 0.39+-0.08 mag/day) classified by ALeRCE using the public ZTF stream. Discovery image and light curve in http://alerce.online/object/ZTF18aaknyrs \n",
      "Astronomical transient is known: [{'objname': '2018lqp', 'prefix': 'AT'}] \n",
      "\n"
     ]
    }
   ],
   "source": [
    "reporter = \"F. Forster, F.E. Bauer, G. Pignata, J. Arredondo, G. Cabrera-Vives, R. Carrasco-Davis, P.A. Estevez, P. Huijse, E. Reyes, I. Reyes, P. Sanchez-Saez, C. Valenzuela, E. Castillo, D. Ruz-Mieres, D. Rodriguez-Mancini, F.E. Bauer, M. Catelan, S. Eyheramendy, M.J. Graham on behalf of the ALeRCE broker\"\n",
    "report = {\"at_report\": {}}\n",
    "counter = 0\n",
    "for oid in candidates:\n",
    "    #if oid not in test:#[\"ZTF19acgjpfd\", \"ZTF18acszatf\", \"ZTF18acrkmnm\"]:\n",
    "    #    continue\n",
    "    #if oid != \"ZTF19acmxymo\": #ZTF19acnqqhl\":#in [\"ZTF19acmdwjy\", \"ZTF19acmdwjz\"]:\n",
    "    #    continue\n",
    "    print(\"\\n\", counter, oid)\n",
    "    sn_report = alerce.do_TNS_report(api_key, oid, reporter, verbose=False, test=False)\n",
    "    if sn_report:\n",
    "        report[\"at_report\"][\"%i\" % counter] = sn_report\n",
    "        counter += 1"
   ]
  },
  {
   "cell_type": "markdown",
   "metadata": {},
   "source": [
    "# Display report"
   ]
  },
  {
   "cell_type": "code",
   "execution_count": 23,
   "metadata": {
    "ExecuteTime": {
     "end_time": "2019-11-13T19:27:50.544134Z",
     "start_time": "2019-11-13T19:27:50.530224Z"
    },
    "scrolled": true
   },
   "outputs": [
    {
     "name": "stdout",
     "output_type": "stream",
     "text": [
      "{\n",
      "    \"at_report\": {\n",
      "        \"0\": {\n",
      "            \"at_type\": \"1\",\n",
      "            \"dec\": {\n",
      "                \"error\": \"0.09\",\n",
      "                \"units\": \"arcsec\",\n",
      "                \"value\": \"-9.1117122\"\n",
      "            },\n",
      "            \"discovery_datetime\": \"2019-11-13 07:04:14.002\",\n",
      "            \"groupid\": \"74\",\n",
      "            \"host_name\": \"SDSS J020333.76-090643.2\",\n",
      "            \"host_redshift\": \"0.157\",\n",
      "            \"internal_name\": \"ZTF19acrywgb\",\n",
      "            \"non_detection\": {\n",
      "                \"comments\": \"Data provided by ZTF\",\n",
      "                \"exptime\": \"30\",\n",
      "                \"filter_value\": \"110\",\n",
      "                \"flux_units\": \"1\",\n",
      "                \"instrument_value\": \"196\",\n",
      "                \"limiting_flux\": \"18.8815002441406\",\n",
      "                \"obsdate\": \"2019-11-13 05:32:37.000\",\n",
      "                \"observer\": \"Robot\"\n",
      "            },\n",
      "            \"photometry\": {\n",
      "                \"photometry_group\": {\n",
      "                    \"0\": {\n",
      "                        \"comments\": \"Data provided by ZTF\",\n",
      "                        \"exptime\": \"30\",\n",
      "                        \"filter_value\": \"111\",\n",
      "                        \"flux\": \"19.0335083007812\",\n",
      "                        \"flux_error\": \"0.166174069046974\",\n",
      "                        \"flux_units\": \"1\",\n",
      "                        \"instrument_value\": \"196\",\n",
      "                        \"limiting_flux\": \"19.2464790344238\",\n",
      "                        \"obsdate\": \"2019-11-13 07:04:14.002\",\n",
      "                        \"observer\": \"Robot\"\n",
      "                    }\n",
      "                }\n",
      "            },\n",
      "            \"ra\": {\n",
      "                \"error\": \"0.09\",\n",
      "                \"units\": \"arcsec\",\n",
      "                \"value\": \"30.890307\"\n",
      "            },\n",
      "            \"remarks\": \"Early SN candidate (r-rise > 0.11+-0.02 mag/day) classified by ALeRCE using the public ZTF stream. Discovery image and light curve in http://alerce.online/object/ZTF19acrywgb \",\n",
      "            \"reporter\": \"F. Forster, F.E. Bauer, G. Pignata, J. Arredondo, G. Cabrera-Vives, R. Carrasco-Davis, P.A. Estevez, P. Huijse, E. Reyes, I. Reyes, P. Sanchez-Saez, C. Valenzuela, E. Castillo, D. Ruz-Mieres, D. Rodriguez-Mancini, F.E. Bauer, M. Catelan, S. Eyheramendy, M.J. Graham on behalf of the ALeRCE broker\"\n",
      "        },\n",
      "        \"1\": {\n",
      "            \"at_type\": \"1\",\n",
      "            \"dec\": {\n",
      "                \"error\": \"0.09\",\n",
      "                \"units\": \"arcsec\",\n",
      "                \"value\": \"38.2259832\"\n",
      "            },\n",
      "            \"discovery_datetime\": \"2019-11-13 07:18:50.003\",\n",
      "            \"groupid\": \"74\",\n",
      "            \"host_name\": \"UGC 01046\",\n",
      "            \"host_redshift\": \"0.017425\",\n",
      "            \"internal_name\": \"ZTF19acryynr\",\n",
      "            \"non_detection\": {\n",
      "                \"comments\": \"Data provided by ZTF\",\n",
      "                \"exptime\": \"30\",\n",
      "                \"filter_value\": \"111\",\n",
      "                \"flux_units\": \"1\",\n",
      "                \"instrument_value\": \"196\",\n",
      "                \"limiting_flux\": \"19.261100769043\",\n",
      "                \"obsdate\": \"2019-11-13 07:07:43.003\",\n",
      "                \"observer\": \"Robot\"\n",
      "            },\n",
      "            \"photometry\": {\n",
      "                \"photometry_group\": {\n",
      "                    \"0\": {\n",
      "                        \"comments\": \"Data provided by ZTF\",\n",
      "                        \"exptime\": \"30\",\n",
      "                        \"filter_value\": \"111\",\n",
      "                        \"flux\": \"19.6436042785645\",\n",
      "                        \"flux_error\": \"0.206657335162163\",\n",
      "                        \"flux_units\": \"1\",\n",
      "                        \"instrument_value\": \"196\",\n",
      "                        \"limiting_flux\": \"19.4229965209961\",\n",
      "                        \"obsdate\": \"2019-11-13 07:18:50.003\",\n",
      "                        \"observer\": \"Robot\"\n",
      "                    }\n",
      "                }\n",
      "            },\n",
      "            \"ra\": {\n",
      "                \"error\": \"0.09\",\n",
      "                \"units\": \"arcsec\",\n",
      "                \"value\": \"22.0268627\"\n",
      "            },\n",
      "            \"remarks\": \"Early SN candidate (r-rise > 0.10+-0.02 mag/day) classified by ALeRCE using the public ZTF stream. Discovery image and light curve in http://alerce.online/object/ZTF19acryynr \",\n",
      "            \"reporter\": \"F. Forster, F.E. Bauer, G. Pignata, J. Arredondo, G. Cabrera-Vives, R. Carrasco-Davis, P.A. Estevez, P. Huijse, E. Reyes, I. Reyes, P. Sanchez-Saez, C. Valenzuela, E. Castillo, D. Ruz-Mieres, D. Rodriguez-Mancini, F.E. Bauer, M. Catelan, S. Eyheramendy, M.J. Graham on behalf of the ALeRCE broker\"\n",
      "        },\n",
      "        \"2\": {\n",
      "            \"at_type\": \"1\",\n",
      "            \"dec\": {\n",
      "                \"error\": \"0.09\",\n",
      "                \"units\": \"arcsec\",\n",
      "                \"value\": \"11.4550739\"\n",
      "            },\n",
      "            \"discovery_datetime\": \"2019-11-13 07:36:05.999\",\n",
      "            \"groupid\": \"74\",\n",
      "            \"host_name\": \"WISEA J020701.29+112721.1\",\n",
      "            \"internal_name\": \"ZTF19acrzbwl\",\n",
      "            \"non_detection\": {\n",
      "                \"comments\": \"Data provided by ZTF\",\n",
      "                \"exptime\": \"30\",\n",
      "                \"filter_value\": \"110\",\n",
      "                \"flux_units\": \"1\",\n",
      "                \"instrument_value\": \"196\",\n",
      "                \"limiting_flux\": \"18.7476997375488\",\n",
      "                \"obsdate\": \"2019-11-13 05:11:06.996\",\n",
      "                \"observer\": \"Robot\"\n",
      "            },\n",
      "            \"photometry\": {\n",
      "                \"photometry_group\": {\n",
      "                    \"0\": {\n",
      "                        \"comments\": \"Data provided by ZTF\",\n",
      "                        \"exptime\": \"30\",\n",
      "                        \"filter_value\": \"111\",\n",
      "                        \"flux\": \"18.4609775543213\",\n",
      "                        \"flux_error\": \"0.0873845741152763\",\n",
      "                        \"flux_units\": \"1\",\n",
      "                        \"instrument_value\": \"196\",\n",
      "                        \"limiting_flux\": \"19.0672645568848\",\n",
      "                        \"obsdate\": \"2019-11-13 07:36:05.999\",\n",
      "                        \"observer\": \"Robot\"\n",
      "                    }\n",
      "                }\n",
      "            },\n",
      "            \"ra\": {\n",
      "                \"error\": \"0.09\",\n",
      "                \"units\": \"arcsec\",\n",
      "                \"value\": \"31.7557419\"\n",
      "            },\n",
      "            \"remarks\": \"Early SN candidate (r-rise > 0.26+-0.01 mag/day) classified by ALeRCE using the public ZTF stream. Discovery image and light curve in http://alerce.online/object/ZTF19acrzbwl \",\n",
      "            \"reporter\": \"F. Forster, F.E. Bauer, G. Pignata, J. Arredondo, G. Cabrera-Vives, R. Carrasco-Davis, P.A. Estevez, P. Huijse, E. Reyes, I. Reyes, P. Sanchez-Saez, C. Valenzuela, E. Castillo, D. Ruz-Mieres, D. Rodriguez-Mancini, F.E. Bauer, M. Catelan, S. Eyheramendy, M.J. Graham on behalf of the ALeRCE broker\"\n",
      "        },\n",
      "        \"3\": {\n",
      "            \"at_type\": \"1\",\n",
      "            \"dec\": {\n",
      "                \"error\": \"0.09\",\n",
      "                \"units\": \"arcsec\",\n",
      "                \"value\": \"15.2432076\"\n",
      "            },\n",
      "            \"discovery_datetime\": \"2019-11-13 07:36:05.999\",\n",
      "            \"groupid\": \"74\",\n",
      "            \"host_name\": \"SDSS J015708.94+151437.3\",\n",
      "            \"host_redshift\": \"0.179\",\n",
      "            \"internal_name\": \"ZTF19acrzcgx\",\n",
      "            \"non_detection\": {\n",
      "                \"comments\": \"Data provided by ZTF\",\n",
      "                \"exptime\": \"30\",\n",
      "                \"filter_value\": \"110\",\n",
      "                \"flux_units\": \"1\",\n",
      "                \"instrument_value\": \"196\",\n",
      "                \"limiting_flux\": \"18.8068008422852\",\n",
      "                \"obsdate\": \"2019-11-13 05:11:45.997\",\n",
      "                \"observer\": \"Robot\"\n",
      "            },\n",
      "            \"photometry\": {\n",
      "                \"photometry_group\": {\n",
      "                    \"0\": {\n",
      "                        \"comments\": \"Data provided by ZTF\",\n",
      "                        \"exptime\": \"30\",\n",
      "                        \"filter_value\": \"111\",\n",
      "                        \"flux\": \"19.2174282073975\",\n",
      "                        \"flux_error\": \"0.191405400633812\",\n",
      "                        \"flux_units\": \"1\",\n",
      "                        \"instrument_value\": \"196\",\n",
      "                        \"limiting_flux\": \"19.1283569335938\",\n",
      "                        \"obsdate\": \"2019-11-13 07:36:05.999\",\n",
      "                        \"observer\": \"Robot\"\n",
      "                    },\n",
      "                    \"1\": {\n",
      "                        \"comments\": \"Data provided by ZTF\",\n",
      "                        \"exptime\": \"30\",\n",
      "                        \"filter_value\": \"111\",\n",
      "                        \"flux\": \"19.0918827056885\",\n",
      "                        \"flux_error\": \"0.197955623269081\",\n",
      "                        \"flux_units\": \"1\",\n",
      "                        \"instrument_value\": \"196\",\n",
      "                        \"limiting_flux\": \"19.1526184082031\",\n",
      "                        \"obsdate\": \"2019-11-13 07:36:45.000\",\n",
      "                        \"observer\": \"Robot\"\n",
      "                    }\n",
      "                }\n",
      "            },\n",
      "            \"ra\": {\n",
      "                \"error\": \"0.09\",\n",
      "                \"units\": \"arcsec\",\n",
      "                \"value\": \"29.2878956\"\n",
      "            },\n",
      "            \"remarks\": \"Early SN candidate (r-rise > 0.13+-0.03 mag/day) classified by ALeRCE using the public ZTF stream. Discovery image and light curve in http://alerce.online/object/ZTF19acrzcgx \",\n",
      "            \"reporter\": \"F. Forster, F.E. Bauer, G. Pignata, J. Arredondo, G. Cabrera-Vives, R. Carrasco-Davis, P.A. Estevez, P. Huijse, E. Reyes, I. Reyes, P. Sanchez-Saez, C. Valenzuela, E. Castillo, D. Ruz-Mieres, D. Rodriguez-Mancini, F.E. Bauer, M. Catelan, S. Eyheramendy, M.J. Graham on behalf of the ALeRCE broker\"\n",
      "        },\n",
      "        \"4\": {\n",
      "            \"at_type\": \"1\",\n",
      "            \"dec\": {\n",
      "                \"error\": \"0.09\",\n",
      "                \"units\": \"arcsec\",\n",
      "                \"value\": \"37.9042185\"\n",
      "            },\n",
      "            \"discovery_datetime\": \"2019-11-13 10:18:42.002\",\n",
      "            \"groupid\": \"74\",\n",
      "            \"host_name\": \"WISEA J063100.18+375425.1\",\n",
      "            \"host_redshift\": \"0.022816\",\n",
      "            \"internal_name\": \"ZTF19acsamnm\",\n",
      "            \"non_detection\": {\n",
      "                \"comments\": \"Data provided by ZTF\",\n",
      "                \"exptime\": \"30\",\n",
      "                \"filter_value\": \"110\",\n",
      "                \"flux_units\": \"1\",\n",
      "                \"instrument_value\": \"196\",\n",
      "                \"limiting_flux\": \"18.5433006286621\",\n",
      "                \"obsdate\": \"2019-11-13 05:59:58.998\",\n",
      "                \"observer\": \"Robot\"\n",
      "            },\n",
      "            \"photometry\": {\n",
      "                \"photometry_group\": {\n",
      "                    \"0\": {\n",
      "                        \"comments\": \"Data provided by ZTF\",\n",
      "                        \"exptime\": \"30\",\n",
      "                        \"filter_value\": \"111\",\n",
      "                        \"flux\": \"18.1972961425781\",\n",
      "                        \"flux_error\": \"0.0814147219061852\",\n",
      "                        \"flux_units\": \"1\",\n",
      "                        \"instrument_value\": \"196\",\n",
      "                        \"limiting_flux\": \"19.4887599945068\",\n",
      "                        \"obsdate\": \"2019-11-13 10:18:42.002\",\n",
      "                        \"observer\": \"Robot\"\n",
      "                    }\n",
      "                }\n",
      "            },\n",
      "            \"ra\": {\n",
      "                \"error\": \"0.09\",\n",
      "                \"units\": \"arcsec\",\n",
      "                \"value\": \"97.7467692\"\n",
      "            },\n",
      "            \"remarks\": \"Early SN candidate (r-rise > 0.99+-0.07 mag/day) classified by ALeRCE using the public ZTF stream. Discovery image and light curve in http://alerce.online/object/ZTF19acsamnm \",\n",
      "            \"reporter\": \"F. Forster, F.E. Bauer, G. Pignata, J. Arredondo, G. Cabrera-Vives, R. Carrasco-Davis, P.A. Estevez, P. Huijse, E. Reyes, I. Reyes, P. Sanchez-Saez, C. Valenzuela, E. Castillo, D. Ruz-Mieres, D. Rodriguez-Mancini, F.E. Bauer, M. Catelan, S. Eyheramendy, M.J. Graham on behalf of the ALeRCE broker\"\n",
      "        },\n",
      "        \"5\": {\n",
      "            \"at_type\": \"1\",\n",
      "            \"dec\": {\n",
      "                \"error\": \"0.09\",\n",
      "                \"units\": \"arcsec\",\n",
      "                \"value\": \"6.84855175\"\n",
      "            },\n",
      "            \"discovery_datetime\": \"2019-11-13 12:44:11.996\",\n",
      "            \"groupid\": \"74\",\n",
      "            \"host_name\": \"WISEA J120719.68+065056.4\",\n",
      "            \"host_redshift\": \"0.075337\",\n",
      "            \"internal_name\": \"ZTF19acmxymo\",\n",
      "            \"non_detection\": {\n",
      "                \"archival_remarks\": \"ZTF non-detection limits not available\",\n",
      "                \"archiveid\": \"0\"\n",
      "            },\n",
      "            \"photometry\": {\n",
      "                \"photometry_group\": {\n",
      "                    \"0\": {\n",
      "                        \"comments\": \"Data provided by ZTF\",\n",
      "                        \"exptime\": \"30\",\n",
      "                        \"filter_value\": \"111\",\n",
      "                        \"flux\": \"18.1822071075439\",\n",
      "                        \"flux_error\": \"0.108643166720867\",\n",
      "                        \"flux_units\": \"1\",\n",
      "                        \"instrument_value\": \"196\",\n",
      "                        \"limiting_flux\": \"19.2617568969727\",\n",
      "                        \"obsdate\": \"2019-11-13 12:44:11.996\",\n",
      "                        \"observer\": \"Robot\"\n",
      "                    },\n",
      "                    \"1\": {\n",
      "                        \"comments\": \"Data provided by ZTF\",\n",
      "                        \"exptime\": \"30\",\n",
      "                        \"filter_value\": \"111\",\n",
      "                        \"flux\": \"18.4236850738525\",\n",
      "                        \"flux_error\": \"0.127299144864082\",\n",
      "                        \"flux_units\": \"1\",\n",
      "                        \"instrument_value\": \"196\",\n",
      "                        \"limiting_flux\": \"19.3715801239014\",\n",
      "                        \"obsdate\": \"2019-11-13 12:58:59.998\",\n",
      "                        \"observer\": \"Robot\"\n",
      "                    }\n",
      "                }\n",
      "            },\n",
      "            \"ra\": {\n",
      "                \"error\": \"0.09\",\n",
      "                \"units\": \"arcsec\",\n",
      "                \"value\": \"181.83263635\"\n",
      "            },\n",
      "            \"remarks\": \"SN candidate classified by ALeRCE using the public ZTF stream. Discovery image and light curve in http://alerce.online/object/ZTF19acmxymo \",\n",
      "            \"reporter\": \"F. Forster, F.E. Bauer, G. Pignata, J. Arredondo, G. Cabrera-Vives, R. Carrasco-Davis, P.A. Estevez, P. Huijse, E. Reyes, I. Reyes, P. Sanchez-Saez, C. Valenzuela, E. Castillo, D. Ruz-Mieres, D. Rodriguez-Mancini, F.E. Bauer, M. Catelan, S. Eyheramendy, M.J. Graham on behalf of the ALeRCE broker\"\n",
      "        },\n",
      "        \"6\": {\n",
      "            \"at_type\": \"1\",\n",
      "            \"dec\": {\n",
      "                \"error\": \"0.09\",\n",
      "                \"units\": \"arcsec\",\n",
      "                \"value\": \"30.6802202\"\n",
      "            },\n",
      "            \"discovery_datetime\": \"2019-11-13 12:48:46.999\",\n",
      "            \"groupid\": \"74\",\n",
      "            \"host_name\": \"KUG 1313+309\",\n",
      "            \"host_redshift\": \"0.018883\",\n",
      "            \"internal_name\": \"ZTF19ackjvtl\",\n",
      "            \"non_detection\": {\n",
      "                \"archival_remarks\": \"ZTF non-detection limits not available\",\n",
      "                \"archiveid\": \"0\"\n",
      "            },\n",
      "            \"photometry\": {\n",
      "                \"photometry_group\": {\n",
      "                    \"0\": {\n",
      "                        \"comments\": \"Data provided by ZTF\",\n",
      "                        \"exptime\": \"30\",\n",
      "                        \"filter_value\": \"111\",\n",
      "                        \"flux\": \"18.1863746643066\",\n",
      "                        \"flux_error\": \"0.0970119535923004\",\n",
      "                        \"flux_units\": \"1\",\n",
      "                        \"instrument_value\": \"196\",\n",
      "                        \"limiting_flux\": \"19.3358497619629\",\n",
      "                        \"obsdate\": \"2019-11-13 12:48:46.999\",\n",
      "                        \"observer\": \"Robot\"\n",
      "                    }\n",
      "                }\n",
      "            },\n",
      "            \"ra\": {\n",
      "                \"error\": \"0.09\",\n",
      "                \"units\": \"arcsec\",\n",
      "                \"value\": \"199.0864167\"\n",
      "            },\n",
      "            \"remarks\": \"SN candidate classified by ALeRCE using the public ZTF stream. Discovery image and light curve in http://alerce.online/object/ZTF19ackjvtl \",\n",
      "            \"reporter\": \"F. Forster, F.E. Bauer, G. Pignata, J. Arredondo, G. Cabrera-Vives, R. Carrasco-Davis, P.A. Estevez, P. Huijse, E. Reyes, I. Reyes, P. Sanchez-Saez, C. Valenzuela, E. Castillo, D. Ruz-Mieres, D. Rodriguez-Mancini, F.E. Bauer, M. Catelan, S. Eyheramendy, M.J. Graham on behalf of the ALeRCE broker\"\n",
      "        },\n",
      "        \"7\": {\n",
      "            \"at_type\": \"1\",\n",
      "            \"dec\": {\n",
      "                \"error\": \"0.09\",\n",
      "                \"units\": \"arcsec\",\n",
      "                \"value\": \"31.2100923\"\n",
      "            },\n",
      "            \"discovery_datetime\": \"2019-11-13 12:48:46.999\",\n",
      "            \"groupid\": \"74\",\n",
      "            \"host_name\": \"WISEA J125819.97+311238.4\",\n",
      "            \"host_redshift\": \"0.101125\",\n",
      "            \"internal_name\": \"ZTF19ackjuvd\",\n",
      "            \"non_detection\": {\n",
      "                \"archival_remarks\": \"ZTF non-detection limits not available\",\n",
      "                \"archiveid\": \"0\"\n",
      "            },\n",
      "            \"photometry\": {\n",
      "                \"photometry_group\": {\n",
      "                    \"0\": {\n",
      "                        \"comments\": \"Data provided by ZTF\",\n",
      "                        \"exptime\": \"30\",\n",
      "                        \"filter_value\": \"111\",\n",
      "                        \"flux\": \"19.076717376709\",\n",
      "                        \"flux_error\": \"0.152636542916298\",\n",
      "                        \"flux_units\": \"1\",\n",
      "                        \"instrument_value\": \"196\",\n",
      "                        \"limiting_flux\": \"19.4078102111816\",\n",
      "                        \"obsdate\": \"2019-11-13 12:48:46.999\",\n",
      "                        \"observer\": \"Robot\"\n",
      "                    }\n",
      "                }\n",
      "            },\n",
      "            \"ra\": {\n",
      "                \"error\": \"0.09\",\n",
      "                \"units\": \"arcsec\",\n",
      "                \"value\": \"194.583897\"\n",
      "            },\n",
      "            \"remarks\": \"SN candidate classified by ALeRCE using the public ZTF stream. Discovery image and light curve in http://alerce.online/object/ZTF19ackjuvd \",\n",
      "            \"reporter\": \"F. Forster, F.E. Bauer, G. Pignata, J. Arredondo, G. Cabrera-Vives, R. Carrasco-Davis, P.A. Estevez, P. Huijse, E. Reyes, I. Reyes, P. Sanchez-Saez, C. Valenzuela, E. Castillo, D. Ruz-Mieres, D. Rodriguez-Mancini, F.E. Bauer, M. Catelan, S. Eyheramendy, M.J. Graham on behalf of the ALeRCE broker\"\n",
      "        },\n",
      "        \"8\": {\n",
      "            \"at_type\": \"1\",\n",
      "            \"dec\": {\n",
      "                \"error\": \"0.09\",\n",
      "                \"units\": \"arcsec\",\n",
      "                \"value\": \"75.4055064\"\n",
      "            },\n",
      "            \"discovery_datetime\": \"2019-11-13 12:54:40.997\",\n",
      "            \"groupid\": \"74\",\n",
      "            \"host_name\": \"NGC 4954\",\n",
      "            \"host_redshift\": \"0.030961\",\n",
      "            \"internal_name\": \"ZTF19acsbxem\",\n",
      "            \"non_detection\": {\n",
      "                \"archival_remarks\": \"ZTF non-detection limits not available\",\n",
      "                \"archiveid\": \"0\"\n",
      "            },\n",
      "            \"photometry\": {\n",
      "                \"photometry_group\": {\n",
      "                    \"0\": {\n",
      "                        \"comments\": \"Data provided by ZTF\",\n",
      "                        \"exptime\": \"30\",\n",
      "                        \"filter_value\": \"111\",\n",
      "                        \"flux\": \"18.1041736602783\",\n",
      "                        \"flux_error\": \"0.0744863748550415\",\n",
      "                        \"flux_units\": \"1\",\n",
      "                        \"instrument_value\": \"196\",\n",
      "                        \"limiting_flux\": \"19.6373519897461\",\n",
      "                        \"obsdate\": \"2019-11-13 12:54:40.997\",\n",
      "                        \"observer\": \"Robot\"\n",
      "                    }\n",
      "                }\n",
      "            },\n",
      "            \"ra\": {\n",
      "                \"error\": \"0.09\",\n",
      "                \"units\": \"arcsec\",\n",
      "                \"value\": \"195.5860124\"\n",
      "            },\n",
      "            \"remarks\": \"SN candidate classified by ALeRCE using the public ZTF stream. Discovery image and light curve in http://alerce.online/object/ZTF19acsbxem \",\n",
      "            \"reporter\": \"F. Forster, F.E. Bauer, G. Pignata, J. Arredondo, G. Cabrera-Vives, R. Carrasco-Davis, P.A. Estevez, P. Huijse, E. Reyes, I. Reyes, P. Sanchez-Saez, C. Valenzuela, E. Castillo, D. Ruz-Mieres, D. Rodriguez-Mancini, F.E. Bauer, M. Catelan, S. Eyheramendy, M.J. Graham on behalf of the ALeRCE broker\"\n",
      "        },\n",
      "        \"9\": {\n",
      "            \"at_type\": \"1\",\n",
      "            \"dec\": {\n",
      "                \"error\": \"0.09\",\n",
      "                \"units\": \"arcsec\",\n",
      "                \"value\": \"19.5822912\"\n",
      "            },\n",
      "            \"discovery_datetime\": \"2019-11-13 12:57:41.003\",\n",
      "            \"groupid\": \"74\",\n",
      "            \"host_name\": \"SDSS J123110.20+193452.8\",\n",
      "            \"host_redshift\": \"0.052\",\n",
      "            \"internal_name\": \"ZTF19ackjtpd\",\n",
      "            \"non_detection\": {\n",
      "                \"archival_remarks\": \"ZTF non-detection limits not available\",\n",
      "                \"archiveid\": \"0\"\n",
      "            },\n",
      "            \"photometry\": {\n",
      "                \"photometry_group\": {\n",
      "                    \"0\": {\n",
      "                        \"comments\": \"Data provided by ZTF\",\n",
      "                        \"exptime\": \"30\",\n",
      "                        \"filter_value\": \"111\",\n",
      "                        \"flux\": \"19.1912441253662\",\n",
      "                        \"flux_error\": \"0.156309217214584\",\n",
      "                        \"flux_units\": \"1\",\n",
      "                        \"instrument_value\": \"196\",\n",
      "                        \"limiting_flux\": \"19.3850975036621\",\n",
      "                        \"obsdate\": \"2019-11-13 12:57:41.003\",\n",
      "                        \"observer\": \"Robot\"\n",
      "                    }\n",
      "                }\n",
      "            },\n",
      "            \"ra\": {\n",
      "                \"error\": \"0.09\",\n",
      "                \"units\": \"arcsec\",\n",
      "                \"value\": \"187.7920589\"\n",
      "            },\n",
      "            \"remarks\": \"SN candidate classified by ALeRCE using the public ZTF stream. Discovery image and light curve in http://alerce.online/object/ZTF19ackjtpd \",\n",
      "            \"reporter\": \"F. Forster, F.E. Bauer, G. Pignata, J. Arredondo, G. Cabrera-Vives, R. Carrasco-Davis, P.A. Estevez, P. Huijse, E. Reyes, I. Reyes, P. Sanchez-Saez, C. Valenzuela, E. Castillo, D. Ruz-Mieres, D. Rodriguez-Mancini, F.E. Bauer, M. Catelan, S. Eyheramendy, M.J. Graham on behalf of the ALeRCE broker\"\n",
      "        }\n",
      "    }\n",
      "}\n"
     ]
    }
   ],
   "source": [
    "print(json.dumps(report, indent=4, sort_keys=True))"
   ]
  },
  {
   "cell_type": "markdown",
   "metadata": {},
   "source": [
    "# Save report"
   ]
  },
  {
   "cell_type": "code",
   "execution_count": 24,
   "metadata": {
    "ExecuteTime": {
     "end_time": "2019-11-13T19:27:52.256538Z",
     "start_time": "2019-11-13T19:27:52.237526Z"
    }
   },
   "outputs": [],
   "source": [
    "json_report = '%s/%s.json' % (candidates_dir, refstring)\n",
    "with open(json_report, 'w') as outfile:\n",
    "    json.dump(report, outfile)"
   ]
  },
  {
   "cell_type": "markdown",
   "metadata": {},
   "source": [
    "# Send to TNS\n",
    "\n",
    "**WARNING: key is used to send candidates!**"
   ]
  },
  {
   "cell_type": "code",
   "execution_count": 25,
   "metadata": {
    "ExecuteTime": {
     "end_time": "2019-11-13T19:27:53.989321Z",
     "start_time": "2019-11-13T19:27:53.977119Z"
    }
   },
   "outputs": [
    {
     "data": {
      "text/plain": [
       "'candidates/20191113.json'"
      ]
     },
     "execution_count": 25,
     "metadata": {},
     "output_type": "execute_result"
    }
   ],
   "source": [
    "json_report"
   ]
  },
  {
   "cell_type": "code",
   "execution_count": 26,
   "metadata": {
    "ExecuteTime": {
     "end_time": "2019-11-13T19:28:05.992283Z",
     "start_time": "2019-11-13T19:27:55.801454Z"
    }
   },
   "outputs": [],
   "source": [
    "r = alerce.send_json_report(api_key, url_tns_api, json_report)"
   ]
  },
  {
   "cell_type": "markdown",
   "metadata": {},
   "source": [
    "# Show output"
   ]
  },
  {
   "cell_type": "code",
   "execution_count": 27,
   "metadata": {
    "ExecuteTime": {
     "end_time": "2019-11-13T19:28:06.018344Z",
     "start_time": "2019-11-13T19:28:05.997269Z"
    }
   },
   "outputs": [
    {
     "data": {
      "text/plain": [
       "b'{\"id_code\":200,\"id_message\":\"OK\",\"data\":{\"report_id\":27242,\"recieved_data\":{\"at_report\":{\"0\":{\"ra\":{\"value\":30.890307,\"error\":0.09,\"units\":\"arcsec\"},\"dec\":{\"value\":-9.1117122,\"error\":0.09,\"units\":\"arcsec\"},\"groupid\":74,\"reporter\":\"F. Forster, F.E. Bauer, G. Pignata, J. Arredondo, G. Cabrera-Vives, R. Carrasco-Davis, P.A. Estevez, P. Huijse, E. Reyes, I. Reyes, P. Sanchez-Saez, C. Valenzuela, E. Castillo, D. Ruz-Mieres, D. Rodriguez-Mancini, F.E. Bauer, M. Catelan, S. Eyheramendy, M.J. Graham on behalf of the ALeRCE broker\",\"discovery_datetime\":\"2019-11-13 07:04:14.002\",\"at_type\":1,\"internal_name\":\"ZTF19acrywgb\",\"remarks\":\"Early SN candidate (r-rise > 0.11+-0.02 mag\\\\/day) classified by ALeRCE using the public ZTF stream. Discovery image and light curve in http:\\\\/\\\\/alerce.online\\\\/object\\\\/ZTF19acrywgb \",\"non_detection\":{\"obsdate\":\"2019-11-13 05:32:37.000\",\"limiting_flux\":18.881500244141,\"flux_units\":1,\"filter_value\":110,\"instrument_value\":196,\"exptime\":30,\"observer\":\"Robot\",\"comments\":\"Data provided by ZTF\"},\"photometry\":{\"photometry_group\":{\"0\":{\"obsdate\":\"2019-11-13 07:04:14.002\",\"flux\":19.033508300781,\"flux_error\":0.16617406904697,\"limiting_flux\":19.246479034424,\"flux_units\":1,\"filter_value\":111,\"instrument_value\":196,\"exptime\":30,\"observer\":\"Robot\",\"comments\":\"Data provided by ZTF\"}}},\"host_name\":\"SDSS J020333.76-090643.2\",\"host_redshift\":0.157},\"1\":{\"ra\":{\"value\":22.0268627,\"error\":0.09,\"units\":\"arcsec\"},\"dec\":{\"value\":38.2259832,\"error\":0.09,\"units\":\"arcsec\"},\"groupid\":74,\"reporter\":\"F. Forster, F.E. Bauer, G. Pignata, J. Arredondo, G. Cabrera-Vives, R. Carrasco-Davis, P.A. Estevez, P. Huijse, E. Reyes, I. Reyes, P. Sanchez-Saez, C. Valenzuela, E. Castillo, D. Ruz-Mieres, D. Rodriguez-Mancini, F.E. Bauer, M. Catelan, S. Eyheramendy, M.J. Graham on behalf of the ALeRCE broker\",\"discovery_datetime\":\"2019-11-13 07:18:50.003\",\"at_type\":1,\"internal_name\":\"ZTF19acryynr\",\"remarks\":\"Early SN candidate (r-rise > 0.10+-0.02 mag\\\\/day) classified by ALeRCE using the public ZTF stream. Discovery image and light curve in http:\\\\/\\\\/alerce.online\\\\/object\\\\/ZTF19acryynr \",\"non_detection\":{\"obsdate\":\"2019-11-13 07:07:43.003\",\"limiting_flux\":19.261100769043,\"flux_units\":1,\"filter_value\":111,\"instrument_value\":196,\"exptime\":30,\"observer\":\"Robot\",\"comments\":\"Data provided by ZTF\"},\"photometry\":{\"photometry_group\":{\"0\":{\"obsdate\":\"2019-11-13 07:18:50.003\",\"flux\":19.643604278564,\"flux_error\":0.20665733516216,\"limiting_flux\":19.422996520996,\"flux_units\":1,\"filter_value\":111,\"instrument_value\":196,\"exptime\":30,\"observer\":\"Robot\",\"comments\":\"Data provided by ZTF\"}}},\"host_name\":\"UGC 01046\",\"host_redshift\":0.017425},\"2\":{\"ra\":{\"value\":31.7557419,\"error\":0.09,\"units\":\"arcsec\"},\"dec\":{\"value\":11.4550739,\"error\":0.09,\"units\":\"arcsec\"},\"groupid\":74,\"reporter\":\"F. Forster, F.E. Bauer, G. Pignata, J. Arredondo, G. Cabrera-Vives, R. Carrasco-Davis, P.A. Estevez, P. Huijse, E. Reyes, I. Reyes, P. Sanchez-Saez, C. Valenzuela, E. Castillo, D. Ruz-Mieres, D. Rodriguez-Mancini, F.E. Bauer, M. Catelan, S. Eyheramendy, M.J. Graham on behalf of the ALeRCE broker\",\"discovery_datetime\":\"2019-11-13 07:36:05.999\",\"at_type\":1,\"internal_name\":\"ZTF19acrzbwl\",\"remarks\":\"Early SN candidate (r-rise > 0.26+-0.01 mag\\\\/day) classified by ALeRCE using the public ZTF stream. Discovery image and light curve in http:\\\\/\\\\/alerce.online\\\\/object\\\\/ZTF19acrzbwl \",\"non_detection\":{\"obsdate\":\"2019-11-13 05:11:06.996\",\"limiting_flux\":18.747699737549,\"flux_units\":1,\"filter_value\":110,\"instrument_value\":196,\"exptime\":30,\"observer\":\"Robot\",\"comments\":\"Data provided by ZTF\"},\"photometry\":{\"photometry_group\":{\"0\":{\"obsdate\":\"2019-11-13 07:36:05.999\",\"flux\":18.460977554321,\"flux_error\":0.087384574115276,\"limiting_flux\":19.067264556885,\"flux_units\":1,\"filter_value\":111,\"instrument_value\":196,\"exptime\":30,\"observer\":\"Robot\",\"comments\":\"Data provided by ZTF\"}}},\"host_name\":\"WISEA J020701.29+112721.1\"},\"3\":{\"ra\":{\"value\":29.2878956,\"error\":0.09,\"units\":\"arcsec\"},\"dec\":{\"value\":15.2432076,\"error\":0.09,\"units\":\"arcsec\"},\"groupid\":74,\"reporter\":\"F. Forster, F.E. Bauer, G. Pignata, J. Arredondo, G. Cabrera-Vives, R. Carrasco-Davis, P.A. Estevez, P. Huijse, E. Reyes, I. Reyes, P. Sanchez-Saez, C. Valenzuela, E. Castillo, D. Ruz-Mieres, D. Rodriguez-Mancini, F.E. Bauer, M. Catelan, S. Eyheramendy, M.J. Graham on behalf of the ALeRCE broker\",\"discovery_datetime\":\"2019-11-13 07:36:05.999\",\"at_type\":1,\"internal_name\":\"ZTF19acrzcgx\",\"remarks\":\"Early SN candidate (r-rise > 0.13+-0.03 mag\\\\/day) classified by ALeRCE using the public ZTF stream. Discovery image and light curve in http:\\\\/\\\\/alerce.online\\\\/object\\\\/ZTF19acrzcgx \",\"non_detection\":{\"obsdate\":\"2019-11-13 05:11:45.997\",\"limiting_flux\":18.806800842285,\"flux_units\":1,\"filter_value\":110,\"instrument_value\":196,\"exptime\":30,\"observer\":\"Robot\",\"comments\":\"Data provided by ZTF\"},\"photometry\":{\"photometry_group\":{\"0\":{\"obsdate\":\"2019-11-13 07:36:05.999\",\"flux\":19.217428207398,\"flux_error\":0.19140540063381,\"limiting_flux\":19.128356933594,\"flux_units\":1,\"filter_value\":111,\"instrument_value\":196,\"exptime\":30,\"observer\":\"Robot\",\"comments\":\"Data provided by ZTF\"},\"1\":{\"obsdate\":\"2019-11-13 07:36:45.000\",\"flux\":19.091882705689,\"flux_error\":0.19795562326908,\"limiting_flux\":19.152618408203,\"flux_units\":1,\"filter_value\":111,\"instrument_value\":196,\"exptime\":30,\"observer\":\"Robot\",\"comments\":\"Data provided by ZTF\"}}},\"host_name\":\"SDSS J015708.94+151437.3\",\"host_redshift\":0.179},\"4\":{\"ra\":{\"value\":97.7467692,\"error\":0.09,\"units\":\"arcsec\"},\"dec\":{\"value\":37.9042185,\"error\":0.09,\"units\":\"arcsec\"},\"groupid\":74,\"reporter\":\"F. Forster, F.E. Bauer, G. Pignata, J. Arredondo, G. Cabrera-Vives, R. Carrasco-Davis, P.A. Estevez, P. Huijse, E. Reyes, I. Reyes, P. Sanchez-Saez, C. Valenzuela, E. Castillo, D. Ruz-Mieres, D. Rodriguez-Mancini, F.E. Bauer, M. Catelan, S. Eyheramendy, M.J. Graham on behalf of the ALeRCE broker\",\"discovery_datetime\":\"2019-11-13 10:18:42.002\",\"at_type\":1,\"internal_name\":\"ZTF19acsamnm\",\"remarks\":\"Early SN candidate (r-rise > 0.99+-0.07 mag\\\\/day) classified by ALeRCE using the public ZTF stream. Discovery image and light curve in http:\\\\/\\\\/alerce.online\\\\/object\\\\/ZTF19acsamnm \",\"non_detection\":{\"obsdate\":\"2019-11-13 05:59:58.998\",\"limiting_flux\":18.543300628662,\"flux_units\":1,\"filter_value\":110,\"instrument_value\":196,\"exptime\":30,\"observer\":\"Robot\",\"comments\":\"Data provided by ZTF\"},\"photometry\":{\"photometry_group\":{\"0\":{\"obsdate\":\"2019-11-13 10:18:42.002\",\"flux\":18.197296142578,\"flux_error\":0.081414721906185,\"limiting_flux\":19.488759994507,\"flux_units\":1,\"filter_value\":111,\"instrument_value\":196,\"exptime\":30,\"observer\":\"Robot\",\"comments\":\"Data provided by ZTF\"}}},\"host_name\":\"WISEA J063100.18+375425.1\",\"host_redshift\":0.022816},\"5\":{\"ra\":{\"value\":181.83263635,\"error\":0.09,\"units\":\"arcsec\"},\"dec\":{\"value\":6.84855175,\"error\":0.09,\"units\":\"arcsec\"},\"groupid\":74,\"reporter\":\"F. Forster, F.E. Bauer, G. Pignata, J. Arredondo, G. Cabrera-Vives, R. Carrasco-Davis, P.A. Estevez, P. Huijse, E. Reyes, I. Reyes, P. Sanchez-Saez, C. Valenzuela, E. Castillo, D. Ruz-Mieres, D. Rodriguez-Mancini, F.E. Bauer, M. Catelan, S. Eyheramendy, M.J. Graham on behalf of the ALeRCE broker\",\"discovery_datetime\":\"2019-11-13 12:44:11.996\",\"at_type\":1,\"internal_name\":\"ZTF19acmxymo\",\"remarks\":\"SN candidate classified by ALeRCE using the public ZTF stream. Discovery image and light curve in http:\\\\/\\\\/alerce.online\\\\/object\\\\/ZTF19acmxymo \",\"non_detection\":{\"archiveid\":0,\"archival_remarks\":\"ZTF non-detection limits not available\"},\"photometry\":{\"photometry_group\":{\"0\":{\"obsdate\":\"2019-11-13 12:44:11.996\",\"flux\":18.182207107544,\"flux_error\":0.10864316672087,\"limiting_flux\":19.261756896973,\"flux_units\":1,\"filter_value\":111,\"instrument_value\":196,\"exptime\":30,\"observer\":\"Robot\",\"comments\":\"Data provided by ZTF\"},\"1\":{\"obsdate\":\"2019-11-13 12:58:59.998\",\"flux\":18.423685073852,\"flux_error\":0.12729914486408,\"limiting_flux\":19.371580123901,\"flux_units\":1,\"filter_value\":111,\"instrument_value\":196,\"exptime\":30,\"observer\":\"Robot\",\"comments\":\"Data provided by ZTF\"}}},\"host_name\":\"WISEA J120719.68+065056.4\",\"host_redshift\":0.075337},\"6\":{\"ra\":{\"value\":199.0864167,\"error\":0.09,\"units\":\"arcsec\"},\"dec\":{\"value\":30.6802202,\"error\":0.09,\"units\":\"arcsec\"},\"groupid\":74,\"reporter\":\"F. Forster, F.E. Bauer, G. Pignata, J. Arredondo, G. Cabrera-Vives, R. Carrasco-Davis, P.A. Estevez, P. Huijse, E. Reyes, I. Reyes, P. Sanchez-Saez, C. Valenzuela, E. Castillo, D. Ruz-Mieres, D. Rodriguez-Mancini, F.E. Bauer, M. Catelan, S. Eyheramendy, M.J. Graham on behalf of the ALeRCE broker\",\"discovery_datetime\":\"2019-11-13 12:48:46.999\",\"at_type\":1,\"internal_name\":\"ZTF19ackjvtl\",\"remarks\":\"SN candidate classified by ALeRCE using the public ZTF stream. Discovery image and light curve in http:\\\\/\\\\/alerce.online\\\\/object\\\\/ZTF19ackjvtl \",\"non_detection\":{\"archiveid\":0,\"archival_remarks\":\"ZTF non-detection limits not available\"},\"photometry\":{\"photometry_group\":{\"0\":{\"obsdate\":\"2019-11-13 12:48:46.999\",\"flux\":18.186374664307,\"flux_error\":0.0970119535923,\"limiting_flux\":19.335849761963,\"flux_units\":1,\"filter_value\":111,\"instrument_value\":196,\"exptime\":30,\"observer\":\"Robot\",\"comments\":\"Data provided by ZTF\"}}},\"host_name\":\"KUG 1313+309\",\"host_redshift\":0.018883},\"7\":{\"ra\":{\"value\":194.583897,\"error\":0.09,\"units\":\"arcsec\"},\"dec\":{\"value\":31.2100923,\"error\":0.09,\"units\":\"arcsec\"},\"groupid\":74,\"reporter\":\"F. Forster, F.E. Bauer, G. Pignata, J. Arredondo, G. Cabrera-Vives, R. Carrasco-Davis, P.A. Estevez, P. Huijse, E. Reyes, I. Reyes, P. Sanchez-Saez, C. Valenzuela, E. Castillo, D. Ruz-Mieres, D. Rodriguez-Mancini, F.E. Bauer, M. Catelan, S. Eyheramendy, M.J. Graham on behalf of the ALeRCE broker\",\"discovery_datetime\":\"2019-11-13 12:48:46.999\",\"at_type\":1,\"internal_name\":\"ZTF19ackjuvd\",\"remarks\":\"SN candidate classified by ALeRCE using the public ZTF stream. Discovery image and light curve in http:\\\\/\\\\/alerce.online\\\\/object\\\\/ZTF19ackjuvd \",\"non_detection\":{\"archiveid\":0,\"archival_remarks\":\"ZTF non-detection limits not available\"},\"photometry\":{\"photometry_group\":{\"0\":{\"obsdate\":\"2019-11-13 12:48:46.999\",\"flux\":19.076717376709,\"flux_error\":0.1526365429163,\"limiting_flux\":19.407810211182,\"flux_units\":1,\"filter_value\":111,\"instrument_value\":196,\"exptime\":30,\"observer\":\"Robot\",\"comments\":\"Data provided by ZTF\"}}},\"host_name\":\"WISEA J125819.97+311238.4\",\"host_redshift\":0.101125},\"8\":{\"ra\":{\"value\":195.5860124,\"error\":0.09,\"units\":\"arcsec\"},\"dec\":{\"value\":75.4055064,\"error\":0.09,\"units\":\"arcsec\"},\"groupid\":74,\"reporter\":\"F. Forster, F.E. Bauer, G. Pignata, J. Arredondo, G. Cabrera-Vives, R. Carrasco-Davis, P.A. Estevez, P. Huijse, E. Reyes, I. Reyes, P. Sanchez-Saez, C. Valenzuela, E. Castillo, D. Ruz-Mieres, D. Rodriguez-Mancini, F.E. Bauer, M. Catelan, S. Eyheramendy, M.J. Graham on behalf of the ALeRCE broker\",\"discovery_datetime\":\"2019-11-13 12:54:40.997\",\"at_type\":1,\"internal_name\":\"ZTF19acsbxem\",\"remarks\":\"SN candidate classified by ALeRCE using the public ZTF stream. Discovery image and light curve in http:\\\\/\\\\/alerce.online\\\\/object\\\\/ZTF19acsbxem \",\"non_detection\":{\"archiveid\":0,\"archival_remarks\":\"ZTF non-detection limits not available\"},\"photometry\":{\"photometry_group\":{\"0\":{\"obsdate\":\"2019-11-13 12:54:40.997\",\"flux\":18.104173660278,\"flux_error\":0.074486374855042,\"limiting_flux\":19.637351989746,\"flux_units\":1,\"filter_value\":111,\"instrument_value\":196,\"exptime\":30,\"observer\":\"Robot\",\"comments\":\"Data provided by ZTF\"}}},\"host_name\":\"NGC 4954\",\"host_redshift\":0.030961},\"9\":{\"ra\":{\"value\":187.7920589,\"error\":0.09,\"units\":\"arcsec\"},\"dec\":{\"value\":19.5822912,\"error\":0.09,\"units\":\"arcsec\"},\"groupid\":74,\"reporter\":\"F. Forster, F.E. Bauer, G. Pignata, J. Arredondo, G. Cabrera-Vives, R. Carrasco-Davis, P.A. Estevez, P. Huijse, E. Reyes, I. Reyes, P. Sanchez-Saez, C. Valenzuela, E. Castillo, D. Ruz-Mieres, D. Rodriguez-Mancini, F.E. Bauer, M. Catelan, S. Eyheramendy, M.J. Graham on behalf of the ALeRCE broker\",\"discovery_datetime\":\"2019-11-13 12:57:41.003\",\"at_type\":1,\"internal_name\":\"ZTF19ackjtpd\",\"remarks\":\"SN candidate classified by ALeRCE using the public ZTF stream. Discovery image and light curve in http:\\\\/\\\\/alerce.online\\\\/object\\\\/ZTF19ackjtpd \",\"non_detection\":{\"archiveid\":0,\"archival_remarks\":\"ZTF non-detection limits not available\"},\"photometry\":{\"photometry_group\":{\"0\":{\"obsdate\":\"2019-11-13 12:57:41.003\",\"flux\":19.191244125366,\"flux_error\":0.15630921721458,\"limiting_flux\":19.385097503662,\"flux_units\":1,\"filter_value\":111,\"instrument_value\":196,\"exptime\":30,\"observer\":\"Robot\",\"comments\":\"Data provided by ZTF\"}}},\"host_name\":\"SDSS J123110.20+193452.8\",\"host_redshift\":0.052}}}}}'"
      ]
     },
     "execution_count": 27,
     "metadata": {},
     "output_type": "execute_result"
    }
   ],
   "source": [
    "r.content"
   ]
  },
  {
   "cell_type": "markdown",
   "metadata": {},
   "source": [
    "# Check the following [link](https://wis-tns.weizmann.ac.il/search?&discovered_period_value=1&discovered_period_units=months&unclassified_at=0&classified_sne=0&name=&name_like=0&isTNS_AT=all&public=all&ra=&decl=&radius=&coords_unit=arcsec&groupid%5B%5D=74&classifier_groupid%5B%5D=null&objtype%5B%5D=null&at_type%5B%5D=null&date_start%5Bdate%5D=&date_end%5Bdate%5D=&discovery_mag_min=&discovery_mag_max=&internal_name=&discoverer=&classifier=&spectra_count=&redshift_min=&redshift_max=&hostname=&ext_catid=&ra_range_min=&ra_range_max=&decl_range_min=&decl_range_max=&discovery_instrument%5B%5D=null&classification_instrument%5B%5D=null&associated_groups%5B%5D=null&at_rep_remarks=&class_rep_remarks=&num_page=50) and confirm that the latest SNe are from the reported day\n",
    "\n",
    "https://wis-tns.weizmann.ac.il/search"
   ]
  },
  {
   "cell_type": "code",
   "execution_count": null,
   "metadata": {},
   "outputs": [],
   "source": []
  }
 ],
 "metadata": {
  "kernelspec": {
   "display_name": "Python 3",
   "language": "python",
   "name": "python3"
  },
  "language_info": {
   "codemirror_mode": {
    "name": "ipython",
    "version": 3
   },
   "file_extension": ".py",
   "mimetype": "text/x-python",
   "name": "python",
   "nbconvert_exporter": "python",
   "pygments_lexer": "ipython3",
   "version": "3.6.5"
  }
 },
 "nbformat": 4,
 "nbformat_minor": 2
}
