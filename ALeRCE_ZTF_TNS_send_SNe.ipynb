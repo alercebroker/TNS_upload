{
 "cells": [
  {
   "cell_type": "markdown",
   "metadata": {},
   "source": [
    "# Notebook to select host galaxies and submit candidates to TNS"
   ]
  },
  {
   "cell_type": "code",
   "execution_count": 1,
   "metadata": {
    "ExecuteTime": {
     "end_time": "2021-10-24T19:38:21.998598Z",
     "start_time": "2021-10-24T19:38:21.883008Z"
    }
   },
   "outputs": [],
   "source": [
    "import sys, os\n",
    "import pandas as pd\n",
    "import numpy as np\n",
    "import ipyaladin as ipyal\n",
    "from ipywidgets import Layout, Box, widgets\n",
    "import json\n",
    "import time\n",
    "import pickle"
   ]
  },
  {
   "cell_type": "code",
   "execution_count": 2,
   "metadata": {
    "ExecuteTime": {
     "end_time": "2021-10-24T19:38:22.624487Z",
     "start_time": "2021-10-24T19:38:22.131318Z"
    }
   },
   "outputs": [],
   "source": [
    "from astroquery.ned import Ned\n",
    "from astroquery.simbad import Simbad\n",
    "from astroquery.vizier import Vizier\n",
    "import astropy.units as u\n",
    "from astropy.table import Table, Column"
   ]
  },
  {
   "cell_type": "code",
   "execution_count": 3,
   "metadata": {
    "ExecuteTime": {
     "end_time": "2021-10-24T19:38:22.641194Z",
     "start_time": "2021-10-24T19:38:22.631749Z"
    }
   },
   "outputs": [],
   "source": [
    "sys.path.append(\"./lib\")\n",
    "from alerce_tns import *"
   ]
  },
  {
   "cell_type": "code",
   "execution_count": 4,
   "metadata": {
    "ExecuteTime": {
     "end_time": "2021-10-24T19:38:22.691428Z",
     "start_time": "2021-10-24T19:38:22.674480Z"
    }
   },
   "outputs": [],
   "source": [
    "# continuously load modules (for easier debugging)\n",
    "%load_ext autoreload\n",
    "%autoreload 2"
   ]
  },
  {
   "cell_type": "markdown",
   "metadata": {},
   "source": [
    "# Start API"
   ]
  },
  {
   "cell_type": "code",
   "execution_count": 5,
   "metadata": {
    "ExecuteTime": {
     "end_time": "2021-10-24T19:38:23.348400Z",
     "start_time": "2021-10-24T19:38:23.332294Z"
    }
   },
   "outputs": [],
   "source": [
    "alerce = alerce_tns()"
   ]
  },
  {
   "cell_type": "markdown",
   "metadata": {},
   "source": [
    "# Load recent candidates\n",
    "\n",
    "**WARNING: CHECK THE DATE**"
   ]
  },
  {
   "cell_type": "code",
   "execution_count": 6,
   "metadata": {
    "ExecuteTime": {
     "end_time": "2021-10-24T19:38:26.696729Z",
     "start_time": "2021-10-24T19:38:26.684501Z"
    }
   },
   "outputs": [
    {
     "name": "stdout",
     "output_type": "stream",
     "text": [
      "['ZTF21acimjvp' 'ZTF21acistjw'] 2\n"
     ]
    }
   ],
   "source": [
    "refstring = \"20211024\"\n",
    "candidates_dir = \"candidates\"\n",
    "candidates = open(\"%s/%s.csv\" % (candidates_dir, refstring), encoding='utf-8-sig').read().splitlines()\n",
    "if \"\" in candidates:\n",
    "    candidates.remove(\"\") \n",
    "candidates = np.sort(np.unique(np.array([cand.strip() for cand in candidates])))\n",
    "print(candidates, len(candidates))"
   ]
  },
  {
   "cell_type": "markdown",
   "metadata": {},
   "source": [
    "# Select host galaxies using aladin widget"
   ]
  },
  {
   "cell_type": "markdown",
   "metadata": {},
   "source": [
    "## Do manual selection"
   ]
  },
  {
   "cell_type": "code",
   "execution_count": 7,
   "metadata": {
    "ExecuteTime": {
     "end_time": "2021-10-24T19:38:32.912663Z",
     "start_time": "2021-10-24T19:38:28.664699Z"
    },
    "scrolled": false
   },
   "outputs": [
    {
     "name": "stdout",
     "output_type": "stream",
     "text": [
      "Loading and skipping already saved hosts...\n",
      "hosts/20211024_hosts.csv\n",
      "Cannot load galaxy information, creating new information.\n"
     ]
    },
    {
     "data": {
      "application/vnd.jupyter.widget-view+json": {
       "model_id": "51732730cee6438dba70be3166f8d279",
       "version_major": 2,
       "version_minor": 0
      },
      "text/plain": [
       "Box(children=(Aladin(fov=0.025, layout=Layout(width='70%'), options=['allow_full_zoomout', 'coo_frame', 'fov',…"
      ]
     },
     "metadata": {},
     "output_type": "display_data"
    },
    {
     "name": "stdout",
     "output_type": "stream",
     "text": [
      "Saving hosts to hosts/20211024_hosts.csv\n",
      "http://skyserver.sdss.org/dr16/SkyServerWS/SearchTools/SqlSearch?cmd=select top 1 objid, z, zerr, photoerrorclass from photoz where objid=1237669767088767020&format=csv\n",
      "http://skyserver.sdss.org/dr16/SkyServerWS/SearchTools/SqlSearch?cmd=select top 1 p.objid, s.z, s.zerr, s.class, s.zwarning from photoobj as p join specobj as s on s.bestobjid = p.objid where p.objid=1237669767088767020&format=csv\n",
      "None\r"
     ]
    },
    {
     "data": {
      "text/html": [
       "<div>\n",
       "<style scoped>\n",
       "    .dataframe tbody tr th:only-of-type {\n",
       "        vertical-align: middle;\n",
       "    }\n",
       "\n",
       "    .dataframe tbody tr th {\n",
       "        vertical-align: top;\n",
       "    }\n",
       "\n",
       "    .dataframe thead th {\n",
       "        text-align: right;\n",
       "    }\n",
       "</style>\n",
       "<table border=\"1\" class=\"dataframe\">\n",
       "  <thead>\n",
       "    <tr style=\"text-align: right;\">\n",
       "      <th></th>\n",
       "      <th>host_name</th>\n",
       "      <th>host_ra</th>\n",
       "      <th>host_dec</th>\n",
       "      <th>host_offset</th>\n",
       "      <th>host_source</th>\n",
       "      <th>host_redshift_spec</th>\n",
       "      <th>host_redshift</th>\n",
       "      <th>host_redshift_error</th>\n",
       "      <th>host_redshift_type</th>\n",
       "    </tr>\n",
       "    <tr>\n",
       "      <th>oid</th>\n",
       "      <th></th>\n",
       "      <th></th>\n",
       "      <th></th>\n",
       "      <th></th>\n",
       "      <th></th>\n",
       "      <th></th>\n",
       "      <th></th>\n",
       "      <th></th>\n",
       "      <th></th>\n",
       "    </tr>\n",
       "  </thead>\n",
       "  <tbody>\n",
       "    <tr>\n",
       "      <th>ZTF21acimjvp</th>\n",
       "      <td>SDSS J011805.86+071923.4</td>\n",
       "      <td>19.524426</td>\n",
       "      <td>7.323173</td>\n",
       "      <td>7.749119</td>\n",
       "      <td>SDSSDR16</td>\n",
       "      <td>False</td>\n",
       "      <td>0.038914</td>\n",
       "      <td>0.011058</td>\n",
       "      <td>photoz</td>\n",
       "    </tr>\n",
       "  </tbody>\n",
       "</table>\n",
       "</div>"
      ],
      "text/plain": [
       "                             host_name    host_ra  host_dec  host_offset  \\\n",
       "oid                                                                        \n",
       "ZTF21acimjvp  SDSS J011805.86+071923.4  19.524426  7.323173     7.749119   \n",
       "\n",
       "             host_source  host_redshift_spec  host_redshift  \\\n",
       "oid                                                           \n",
       "ZTF21acimjvp    SDSSDR16               False       0.038914   \n",
       "\n",
       "              host_redshift_error host_redshift_type  \n",
       "oid                                                   \n",
       "ZTF21acimjvp             0.011058             photoz  "
      ]
     },
     "metadata": {},
     "output_type": "display_data"
    },
    {
     "name": "stdout",
     "output_type": "stream",
     "text": [
      "1 candidates remaining\n"
     ]
    },
    {
     "data": {
      "application/vnd.jupyter.widget-view+json": {
       "model_id": "20f5dda2496449958f4033880e4e98b1",
       "version_major": 2,
       "version_minor": 0
      },
      "text/plain": [
       "Box(children=(Aladin(fov=0.025, layout=Layout(width='70%'), options=['allow_full_zoomout', 'coo_frame', 'fov',…"
      ]
     },
     "metadata": {},
     "output_type": "display_data"
    },
    {
     "name": "stderr",
     "output_type": "stream",
     "text": [
      "/home/fforster/anaconda3/lib/python3.8/site-packages/astroquery/simbad/core.py:135: UserWarning: Warning: The script line number 3 raised an error (recorded in the `errors` attribute of the result table): '0:35:46.5774 -0:18:20.5301': No astronomical object found :\n",
      "  warnings.warn(\"Warning: The script line number %i raised \"\n"
     ]
    },
    {
     "name": "stdout",
     "output_type": "stream",
     "text": [
      "Saving hosts to hosts/20211024_hosts.csv\n",
      "http://skyserver.sdss.org/dr16/SkyServerWS/SearchTools/SqlSearch?cmd=select top 1 objid, z, zerr, photoerrorclass from photoz where objid=1237663783664419168&format=csv\n",
      "http://skyserver.sdss.org/dr16/SkyServerWS/SearchTools/SqlSearch?cmd=select top 1 p.objid, s.z, s.zerr, s.class, s.zwarning from photoobj as p join specobj as s on s.bestobjid = p.objid where p.objid=1237663783664419168&format=csv\n",
      "None\r"
     ]
    },
    {
     "data": {
      "text/html": [
       "<div>\n",
       "<style scoped>\n",
       "    .dataframe tbody tr th:only-of-type {\n",
       "        vertical-align: middle;\n",
       "    }\n",
       "\n",
       "    .dataframe tbody tr th {\n",
       "        vertical-align: top;\n",
       "    }\n",
       "\n",
       "    .dataframe thead th {\n",
       "        text-align: right;\n",
       "    }\n",
       "</style>\n",
       "<table border=\"1\" class=\"dataframe\">\n",
       "  <thead>\n",
       "    <tr style=\"text-align: right;\">\n",
       "      <th></th>\n",
       "      <th>host_name</th>\n",
       "      <th>host_ra</th>\n",
       "      <th>host_dec</th>\n",
       "      <th>host_offset</th>\n",
       "      <th>host_source</th>\n",
       "      <th>host_redshift_spec</th>\n",
       "      <th>host_redshift</th>\n",
       "      <th>host_redshift_error</th>\n",
       "      <th>host_redshift_type</th>\n",
       "    </tr>\n",
       "    <tr>\n",
       "      <th>oid</th>\n",
       "      <th></th>\n",
       "      <th></th>\n",
       "      <th></th>\n",
       "      <th></th>\n",
       "      <th></th>\n",
       "      <th></th>\n",
       "      <th></th>\n",
       "      <th></th>\n",
       "      <th></th>\n",
       "    </tr>\n",
       "  </thead>\n",
       "  <tbody>\n",
       "    <tr>\n",
       "      <th>ZTF21acistjw</th>\n",
       "      <td>SDSS J003546.56-001819.9</td>\n",
       "      <td>8.943993</td>\n",
       "      <td>-0.305529</td>\n",
       "      <td>0.687802</td>\n",
       "      <td>SDSSDR16</td>\n",
       "      <td>False</td>\n",
       "      <td>0.182095</td>\n",
       "      <td>0.074357</td>\n",
       "      <td>photoz</td>\n",
       "    </tr>\n",
       "  </tbody>\n",
       "</table>\n",
       "</div>"
      ],
      "text/plain": [
       "                             host_name   host_ra  host_dec  host_offset  \\\n",
       "oid                                                                       \n",
       "ZTF21acistjw  SDSS J003546.56-001819.9  8.943993 -0.305529     0.687802   \n",
       "\n",
       "             host_source  host_redshift_spec  host_redshift  \\\n",
       "oid                                                           \n",
       "ZTF21acistjw    SDSSDR16               False       0.182095   \n",
       "\n",
       "              host_redshift_error host_redshift_type  \n",
       "oid                                                   \n",
       "ZTF21acistjw             0.074357             photoz  "
      ]
     },
     "metadata": {},
     "output_type": "display_data"
    },
    {
     "name": "stdout",
     "output_type": "stream",
     "text": [
      "0 candidates remaining\n",
      "\n",
      "\n",
      "Summary of host galaxies:\n",
      "Saving hosts to hosts/20211024_hosts.csv\n"
     ]
    },
    {
     "data": {
      "text/html": [
       "<div>\n",
       "<style scoped>\n",
       "    .dataframe tbody tr th:only-of-type {\n",
       "        vertical-align: middle;\n",
       "    }\n",
       "\n",
       "    .dataframe tbody tr th {\n",
       "        vertical-align: top;\n",
       "    }\n",
       "\n",
       "    .dataframe thead th {\n",
       "        text-align: right;\n",
       "    }\n",
       "</style>\n",
       "<table border=\"1\" class=\"dataframe\">\n",
       "  <thead>\n",
       "    <tr style=\"text-align: right;\">\n",
       "      <th></th>\n",
       "      <th>host_name</th>\n",
       "      <th>host_ra</th>\n",
       "      <th>host_dec</th>\n",
       "      <th>host_offset</th>\n",
       "      <th>host_source</th>\n",
       "      <th>host_redshift_spec</th>\n",
       "      <th>host_redshift</th>\n",
       "      <th>host_redshift_error</th>\n",
       "      <th>host_redshift_type</th>\n",
       "    </tr>\n",
       "    <tr>\n",
       "      <th>oid</th>\n",
       "      <th></th>\n",
       "      <th></th>\n",
       "      <th></th>\n",
       "      <th></th>\n",
       "      <th></th>\n",
       "      <th></th>\n",
       "      <th></th>\n",
       "      <th></th>\n",
       "      <th></th>\n",
       "    </tr>\n",
       "  </thead>\n",
       "  <tbody>\n",
       "    <tr>\n",
       "      <th>ZTF21acistjw</th>\n",
       "      <td>SDSS J003546.56-001819.9</td>\n",
       "      <td>8.943993</td>\n",
       "      <td>-0.305529</td>\n",
       "      <td>0.687802</td>\n",
       "      <td>SDSSDR16</td>\n",
       "      <td>False</td>\n",
       "      <td>0.182095</td>\n",
       "      <td>0.074357</td>\n",
       "      <td>photoz</td>\n",
       "    </tr>\n",
       "    <tr>\n",
       "      <th>ZTF21acimjvp</th>\n",
       "      <td>SDSS J011805.86+071923.4</td>\n",
       "      <td>19.524426</td>\n",
       "      <td>7.323173</td>\n",
       "      <td>7.749119</td>\n",
       "      <td>SDSSDR16</td>\n",
       "      <td>False</td>\n",
       "      <td>0.038914</td>\n",
       "      <td>0.011058</td>\n",
       "      <td>photoz</td>\n",
       "    </tr>\n",
       "  </tbody>\n",
       "</table>\n",
       "</div>"
      ],
      "text/plain": [
       "                             host_name    host_ra  host_dec  host_offset  \\\n",
       "oid                                                                        \n",
       "ZTF21acistjw  SDSS J003546.56-001819.9   8.943993 -0.305529     0.687802   \n",
       "ZTF21acimjvp  SDSS J011805.86+071923.4  19.524426  7.323173     7.749119   \n",
       "\n",
       "             host_source  host_redshift_spec  host_redshift  \\\n",
       "oid                                                           \n",
       "ZTF21acistjw    SDSSDR16               False       0.182095   \n",
       "ZTF21acimjvp    SDSSDR16               False       0.038914   \n",
       "\n",
       "              host_redshift_error host_redshift_type  \n",
       "oid                                                   \n",
       "ZTF21acistjw             0.074357             photoz  \n",
       "ZTF21acimjvp             0.011058             photoz  "
      ]
     },
     "metadata": {},
     "output_type": "display_data"
    },
    {
     "name": "stdout",
     "output_type": "stream",
     "text": [
      "None\r"
     ]
    }
   ],
   "source": [
    "alerce.select_hosts(candidates, refstring, catsHTM=False, vizier=False)"
   ]
  },
  {
   "cell_type": "code",
   "execution_count": 8,
   "metadata": {
    "ExecuteTime": {
     "end_time": "2021-10-24T19:38:55.207013Z",
     "start_time": "2021-10-24T19:38:55.188807Z"
    }
   },
   "outputs": [
    {
     "data": {
      "text/html": [
       "<div>\n",
       "<style scoped>\n",
       "    .dataframe tbody tr th:only-of-type {\n",
       "        vertical-align: middle;\n",
       "    }\n",
       "\n",
       "    .dataframe tbody tr th {\n",
       "        vertical-align: top;\n",
       "    }\n",
       "\n",
       "    .dataframe thead th {\n",
       "        text-align: right;\n",
       "    }\n",
       "</style>\n",
       "<table border=\"1\" class=\"dataframe\">\n",
       "  <thead>\n",
       "    <tr style=\"text-align: right;\">\n",
       "      <th></th>\n",
       "      <th>host_name</th>\n",
       "      <th>host_ra</th>\n",
       "      <th>host_dec</th>\n",
       "      <th>host_offset</th>\n",
       "      <th>host_source</th>\n",
       "      <th>host_redshift_spec</th>\n",
       "      <th>host_redshift</th>\n",
       "      <th>host_redshift_error</th>\n",
       "      <th>host_redshift_type</th>\n",
       "    </tr>\n",
       "    <tr>\n",
       "      <th>oid</th>\n",
       "      <th></th>\n",
       "      <th></th>\n",
       "      <th></th>\n",
       "      <th></th>\n",
       "      <th></th>\n",
       "      <th></th>\n",
       "      <th></th>\n",
       "      <th></th>\n",
       "      <th></th>\n",
       "    </tr>\n",
       "  </thead>\n",
       "  <tbody>\n",
       "    <tr>\n",
       "      <th>ZTF21acistjw</th>\n",
       "      <td>SDSS J003546.56-001819.9</td>\n",
       "      <td>8.943993</td>\n",
       "      <td>-0.305529</td>\n",
       "      <td>0.687802</td>\n",
       "      <td>SDSSDR16</td>\n",
       "      <td>False</td>\n",
       "      <td>0.182095</td>\n",
       "      <td>0.074357</td>\n",
       "      <td>photoz</td>\n",
       "    </tr>\n",
       "    <tr>\n",
       "      <th>ZTF21acimjvp</th>\n",
       "      <td>SDSS J011805.86+071923.4</td>\n",
       "      <td>19.524426</td>\n",
       "      <td>7.323173</td>\n",
       "      <td>7.749119</td>\n",
       "      <td>SDSSDR16</td>\n",
       "      <td>False</td>\n",
       "      <td>0.038914</td>\n",
       "      <td>0.011058</td>\n",
       "      <td>photoz</td>\n",
       "    </tr>\n",
       "  </tbody>\n",
       "</table>\n",
       "</div>"
      ],
      "text/plain": [
       "                             host_name    host_ra  host_dec  host_offset  \\\n",
       "oid                                                                        \n",
       "ZTF21acistjw  SDSS J003546.56-001819.9   8.943993 -0.305529     0.687802   \n",
       "ZTF21acimjvp  SDSS J011805.86+071923.4  19.524426  7.323173     7.749119   \n",
       "\n",
       "             host_source  host_redshift_spec  host_redshift  \\\n",
       "oid                                                           \n",
       "ZTF21acistjw    SDSSDR16               False       0.182095   \n",
       "ZTF21acimjvp    SDSSDR16               False       0.038914   \n",
       "\n",
       "              host_redshift_error host_redshift_type  \n",
       "oid                                                   \n",
       "ZTF21acistjw             0.074357             photoz  \n",
       "ZTF21acimjvp             0.011058             photoz  "
      ]
     },
     "execution_count": 8,
     "metadata": {},
     "output_type": "execute_result"
    }
   ],
   "source": [
    "alerce.candidate_hosts"
   ]
  },
  {
   "cell_type": "markdown",
   "metadata": {},
   "source": [
    "## Manual modifications"
   ]
  },
  {
   "cell_type": "code",
   "execution_count": 9,
   "metadata": {
    "ExecuteTime": {
     "end_time": "2021-10-24T19:38:56.371673Z",
     "start_time": "2021-10-24T19:38:56.355683Z"
    }
   },
   "outputs": [],
   "source": [
    "#oid = \"ZTF21acbcfmh\" #ZTF21abidhcz\"\n",
    "##oid = 'ZTF20aclzygy'#ZTF20acgigfo'\n",
    "##oid = \"ZTF20aaqrmxg\" #\"ZTF20aakdppm\" #ZTF19acxrihd\"\n",
    "##oid = 'ZTF21aaryakx' #ZTF20acvbneg'\n",
    "#alerce.candidate_hosts.host_name[oid] = \"M31\"\n",
    "#alerce.candidate_hosts.host_ra[oid] = \"\"\n",
    "#alerce.candidate_hosts.host_dec[oid] = \"\"\n",
    "#alerce.candidate_hosts.host_offset[oid] = \"\"\n",
    "#alerce.candidate_hosts.host_source[oid] = \"CDS\"\n",
    "#alerce.candidate_hosts.host_redshift_spec[oid] = True\n",
    "#alerce.candidate_hosts.host_redshift[oid] = = \"0.001341\"\n",
    "#alerce.candidate_hosts.host_redshift_error[oid] = \"0.000040\"\n",
    "#alerce.candidate_hosts.host_redshift_type[oid] = \"specz\"\n",
    "# #\"nan\" #\"0.041\" #nan\"\n",
    "##for i in list(alerce.candidate_hosts):\n",
    "##    alerce.candidate_hosts.loc['ZTF21aaryakx'][i] = \"NULL\""
   ]
  },
  {
   "cell_type": "markdown",
   "metadata": {},
   "source": [
    "## Save hosts"
   ]
  },
  {
   "cell_type": "code",
   "execution_count": 10,
   "metadata": {
    "ExecuteTime": {
     "end_time": "2021-10-24T19:38:57.754417Z",
     "start_time": "2021-10-24T19:38:57.738345Z"
    }
   },
   "outputs": [
    {
     "data": {
      "text/html": [
       "<div>\n",
       "<style scoped>\n",
       "    .dataframe tbody tr th:only-of-type {\n",
       "        vertical-align: middle;\n",
       "    }\n",
       "\n",
       "    .dataframe tbody tr th {\n",
       "        vertical-align: top;\n",
       "    }\n",
       "\n",
       "    .dataframe thead th {\n",
       "        text-align: right;\n",
       "    }\n",
       "</style>\n",
       "<table border=\"1\" class=\"dataframe\">\n",
       "  <thead>\n",
       "    <tr style=\"text-align: right;\">\n",
       "      <th></th>\n",
       "      <th>host_name</th>\n",
       "      <th>host_ra</th>\n",
       "      <th>host_dec</th>\n",
       "      <th>host_offset</th>\n",
       "      <th>host_source</th>\n",
       "      <th>host_redshift_spec</th>\n",
       "      <th>host_redshift</th>\n",
       "      <th>host_redshift_error</th>\n",
       "      <th>host_redshift_type</th>\n",
       "    </tr>\n",
       "    <tr>\n",
       "      <th>oid</th>\n",
       "      <th></th>\n",
       "      <th></th>\n",
       "      <th></th>\n",
       "      <th></th>\n",
       "      <th></th>\n",
       "      <th></th>\n",
       "      <th></th>\n",
       "      <th></th>\n",
       "      <th></th>\n",
       "    </tr>\n",
       "  </thead>\n",
       "  <tbody>\n",
       "    <tr>\n",
       "      <th>ZTF21acistjw</th>\n",
       "      <td>SDSS J003546.56-001819.9</td>\n",
       "      <td>8.943993</td>\n",
       "      <td>-0.305529</td>\n",
       "      <td>0.687802</td>\n",
       "      <td>SDSSDR16</td>\n",
       "      <td>False</td>\n",
       "      <td>0.182095</td>\n",
       "      <td>0.074357</td>\n",
       "      <td>photoz</td>\n",
       "    </tr>\n",
       "    <tr>\n",
       "      <th>ZTF21acimjvp</th>\n",
       "      <td>SDSS J011805.86+071923.4</td>\n",
       "      <td>19.524426</td>\n",
       "      <td>7.323173</td>\n",
       "      <td>7.749119</td>\n",
       "      <td>SDSSDR16</td>\n",
       "      <td>False</td>\n",
       "      <td>0.038914</td>\n",
       "      <td>0.011058</td>\n",
       "      <td>photoz</td>\n",
       "    </tr>\n",
       "  </tbody>\n",
       "</table>\n",
       "</div>"
      ],
      "text/plain": [
       "                             host_name    host_ra  host_dec  host_offset  \\\n",
       "oid                                                                        \n",
       "ZTF21acistjw  SDSS J003546.56-001819.9   8.943993 -0.305529     0.687802   \n",
       "ZTF21acimjvp  SDSS J011805.86+071923.4  19.524426  7.323173     7.749119   \n",
       "\n",
       "             host_source  host_redshift_spec  host_redshift  \\\n",
       "oid                                                           \n",
       "ZTF21acistjw    SDSSDR16               False       0.182095   \n",
       "ZTF21acimjvp    SDSSDR16               False       0.038914   \n",
       "\n",
       "              host_redshift_error host_redshift_type  \n",
       "oid                                                   \n",
       "ZTF21acistjw             0.074357             photoz  \n",
       "ZTF21acimjvp             0.011058             photoz  "
      ]
     },
     "execution_count": 10,
     "metadata": {},
     "output_type": "execute_result"
    }
   ],
   "source": [
    "alerce.candidate_hosts.to_csv(\"hosts/%s_hosts.csv\" % refstring)\n",
    "alerce.candidate_hosts.head(100)"
   ]
  },
  {
   "cell_type": "markdown",
   "metadata": {},
   "source": [
    "# Show nearest sources (z < 0.01)"
   ]
  },
  {
   "cell_type": "code",
   "execution_count": 11,
   "metadata": {
    "ExecuteTime": {
     "end_time": "2021-10-24T19:38:59.321642Z",
     "start_time": "2021-10-24T19:38:59.308009Z"
    }
   },
   "outputs": [
    {
     "name": "stdout",
     "output_type": "stream",
     "text": [
      "https://alerce.online/object/ZTF21acimjvp 0.038914\n"
     ]
    }
   ],
   "source": [
    "zth = 0.1\n",
    "nearest = pd.to_numeric(alerce.candidate_hosts.loc[alerce.candidate_hosts.host_redshift != \"NULL\"].host_redshift).sort_values()\n",
    "nearest = nearest.loc[nearest < zth]\n",
    "for i in [\"https://alerce.online/object/%s %s\" % (i, alerce.candidate_hosts.host_redshift.loc[i]) for i in nearest.index]:\n",
    "    print(i)"
   ]
  },
  {
   "cell_type": "markdown",
   "metadata": {},
   "source": [
    "### Prepare TNS report"
   ]
  },
  {
   "cell_type": "markdown",
   "metadata": {},
   "source": [
    "## Sandbox or real"
   ]
  },
  {
   "cell_type": "code",
   "execution_count": 12,
   "metadata": {
    "ExecuteTime": {
     "end_time": "2021-10-24T19:39:01.257126Z",
     "start_time": "2021-10-24T19:39:01.241971Z"
    }
   },
   "outputs": [],
   "source": [
    "sandbox = False #False # True: test in sandbox, False: send to real website"
   ]
  },
  {
   "cell_type": "markdown",
   "metadata": {},
   "source": [
    "## Get API key and url"
   ]
  },
  {
   "cell_type": "code",
   "execution_count": 13,
   "metadata": {
    "ExecuteTime": {
     "end_time": "2021-10-24T19:39:02.204607Z",
     "start_time": "2021-10-24T19:39:02.187068Z"
    },
    "scrolled": true
   },
   "outputs": [
    {
     "name": "stdout",
     "output_type": "stream",
     "text": [
      "Getting API key...\n",
      "WARNING: submitting to real (not sandbox) TNS website\n"
     ]
    }
   ],
   "source": [
    "if sandbox:\n",
    "    print(\"Getting API sandbox key...\")\n",
    "    api_key = open(\"API_sandbox.key\", \"r\").read()\n",
    "    api_key = open(\"API.key\", \"r\").read() # sandbox key appears not to be working\n",
    "else:\n",
    "    print(\"Getting API key...\")\n",
    "    api_key = open(\"API.key\", \"r\").read()\n",
    "    \n",
    "if sandbox:\n",
    "    url_tns_api = \"https://sandbox.wis-tns.org/api\" #\"https://www.wis-tns.org/\" #\"https://sandbox-tns.weizmann.ac.il/api\"\n",
    "else:\n",
    "    url_tns_api = \"https://www.wis-tns.org/api\" #\"https://wis-tns.weizmann.ac.il/api\" #\"https://www.wis-tns.org/\" #\"https://wis-tns.weizmann.ac.il/api\"\n",
    "    \n",
    "if not sandbox:\n",
    "    print(\"WARNING: submitting to real (not sandbox) TNS website\")"
   ]
  },
  {
   "cell_type": "markdown",
   "metadata": {},
   "source": [
    "## Confirm reporter names\n",
    "\n",
    "This is also used for Skyportal"
   ]
  },
  {
   "cell_type": "code",
   "execution_count": 14,
   "metadata": {
    "ExecuteTime": {
     "end_time": "2021-10-24T19:39:03.657667Z",
     "start_time": "2021-10-24T19:39:03.640067Z"
    }
   },
   "outputs": [],
   "source": [
    "reporter = \"F. Forster, F.E. Bauer, A. Munoz-Arancibia, G. Pignata, A. Mourao, L. Hernandez-Garcia, L. Galbany, E. Camacho, J. Silva-Farfan, J. Arredondo, G. Cabrera-Vives, R. Carrasco-Davis, P.A. Estevez, P. Huijse, E. Reyes, I. Reyes, P. Sanchez-Saez, C. Valenzuela, E. Castillo, D. Ruz-Mieres, D. Rodriguez-Mancini, M. Catelan, S. Eyheramendy, M.J. Graham on behalf of the ALeRCE broker\"\n",
    "#F. Forster, F.E. Bauer, A. Munoz-Arancibia, G. Pignata, L. Hernandez-Garcia, L. Galbany, E. Camacho, J. Silva-Farfan, A. Mourao, J. Arredondo, G. Cabrera-Vives, R. Carrasco-Davis, P.A. Estevez, P. Huijse, E. Reyes, I. Reyes, P. Sanchez-Saez, C. Valenzuela, E. Castillo, D. Ruz-Mieres, D. Rodriguez-Mancini, M. Catelan, S. Eyheramendy, M.J. Graham on behalf of the ALeRCE broker\""
   ]
  },
  {
   "cell_type": "markdown",
   "metadata": {},
   "source": [
    "## Build the report"
   ]
  },
  {
   "cell_type": "code",
   "execution_count": 15,
   "metadata": {
    "ExecuteTime": {
     "end_time": "2021-10-24T19:39:13.334347Z",
     "start_time": "2021-10-24T19:39:05.701700Z"
    },
    "scrolled": false
   },
   "outputs": [
    {
     "name": "stdout",
     "output_type": "stream",
     "text": [
      "\n",
      " 0 ZTF21acistjw\n",
      "http://alerce.online/object/ZTF21acistjw\n"
     ]
    },
    {
     "data": {
      "text/html": [
       "\n",
       "        <div>ZTF oid: ZTF21acistjw, candid: 1757257265415015016</div>\n",
       "        <div>&emsp;&emsp;&emsp;&emsp;&emsp;\n",
       "        Science\n",
       "        &emsp;&emsp;&emsp;&emsp;&emsp;&emsp;&emsp;&emsp;&emsp;&emsp;&emsp;&emsp;\n",
       "        Template\n",
       "        &emsp;&emsp;&emsp;&emsp;&emsp;&emsp;&emsp;&emsp;&emsp;&emsp;&emsp;&emsp;\n",
       "        Difference\n",
       "        <div class=\"container\">\n",
       "        <div style=\"float:left;width:20%\"><img src=\"https://avro.alerce.online/get_stamp?oid=ZTF21acistjw&candid=1757257265415015016&type=science&format=png\"></div>\n",
       "        <div style=\"float:left;width:20%\"><img src=\"https://avro.alerce.online/get_stamp?oid=ZTF21acistjw&candid=1757257265415015016&type=template&format=png\"></div>\n",
       "        <div style=\"float:left;width:20%\"><img src=\"https://avro.alerce.online/get_stamp?oid=ZTF21acistjw&candid=1757257265415015016&type=difference&format=png\"></div>\n",
       "        </div>\n",
       "        "
      ],
      "text/plain": [
       "<IPython.core.display.HTML object>"
      ]
     },
     "metadata": {},
     "output_type": "display_data"
    },
    {
     "name": "stdout",
     "output_type": "stream",
     "text": [
      "SN candidate classified using ALeRCE's stamp classifier - see http://arxiv.org/abs/2008.03309 - and the public ZTF stream. Discovery image and light curve in http://alerce.online/object/ZTF21acistjw \n",
      "\n",
      " 1 ZTF21acimjvp\n",
      "http://alerce.online/object/ZTF21acimjvp\n"
     ]
    },
    {
     "data": {
      "text/html": [
       "\n",
       "        <div>ZTF oid: ZTF21acimjvp, candid: 1757259625415015001</div>\n",
       "        <div>&emsp;&emsp;&emsp;&emsp;&emsp;\n",
       "        Science\n",
       "        &emsp;&emsp;&emsp;&emsp;&emsp;&emsp;&emsp;&emsp;&emsp;&emsp;&emsp;&emsp;\n",
       "        Template\n",
       "        &emsp;&emsp;&emsp;&emsp;&emsp;&emsp;&emsp;&emsp;&emsp;&emsp;&emsp;&emsp;\n",
       "        Difference\n",
       "        <div class=\"container\">\n",
       "        <div style=\"float:left;width:20%\"><img src=\"https://avro.alerce.online/get_stamp?oid=ZTF21acimjvp&candid=1757259625415015001&type=science&format=png\"></div>\n",
       "        <div style=\"float:left;width:20%\"><img src=\"https://avro.alerce.online/get_stamp?oid=ZTF21acimjvp&candid=1757259625415015001&type=template&format=png\"></div>\n",
       "        <div style=\"float:left;width:20%\"><img src=\"https://avro.alerce.online/get_stamp?oid=ZTF21acimjvp&candid=1757259625415015001&type=difference&format=png\"></div>\n",
       "        </div>\n",
       "        "
      ],
      "text/plain": [
       "<IPython.core.display.HTML object>"
      ]
     },
     "metadata": {},
     "output_type": "display_data"
    },
    {
     "name": "stdout",
     "output_type": "stream",
     "text": [
      "Early SN candidate (r-rise > 0.24+-0.01 mag/day) classified using ALeRCE's stamp classifier - see http://arxiv.org/abs/2008.03309 - and the public ZTF stream. Discovery image and light curve in http://alerce.online/object/ZTF21acimjvp \n",
      "Astronomical transient is known: [{'objname': '2021acci', 'prefix': 'AT', 'objid': 94632}] \n",
      "\n",
      "Reporting info: {'discoverer': ['ATLAS'], 'objname': ['2021acci'], 'reporter': ['ATLAS'], 'internal_names': ['ATLAS21bklv']}\n",
      "Object was not reported using the same ZTF internal name, report.\n"
     ]
    }
   ],
   "source": [
    "# first author: the person submitting, 2nd author: those that vetoed, then everyone else\n",
    "tns_report = {\"at_report\": {}}\n",
    "counter = 0\n",
    "for oid in candidates[::-1]: # invert to report old candidates first\n",
    "    #if oid in [\"ZTF20aauqmwf\"]:#[\"ZTF19acgjpfd\", \"ZTF18acszatf\", \"ZTF18acrkmnm\"]:\n",
    "    #    continue\n",
    "    #if oid in [\"ZTF20acqnfkh \", \"ZTF20acneabh\"]:#ZTF20acplctd\":#aamtgd\": #ZTF19acymtgr\": #ZTF19acnqqhl\":#in [\"ZTF19acmdwjy\", \"ZTF19acmdwjz\"]:\n",
    "    #    continue\n",
    "    #if oid == \"ZTF20ablnjwh\": #ZTF20abkmxrm\":#ZTF20abgfgne\":\n",
    "    #    continue\n",
    "    #if oid in [\"ZTF21acbadml\"]: #ZTF21abgvidd\"]: #ZTF21aawgsfp\"]:#ZTF21aalcrjh\"]: #ZTF21aaanwxo\"]:#, ZTF20adadixi\"]:# ZTF20acsggey\"]:#, \"ZTF20acmevcc\", \"ZTF20acmctng\", \"ZTF20acmdvzk\"]: #== \"ZTF20acgknep\":#\"ZTF20acdcdqq\": #ZTF20acaehey\": #ZTF20abyjoxb\":#\"ZTF20abqjddh\":#ZTF20abkxqzv\":#ZTF20abgbfyk\":\n",
    "    #    continue\n",
    "    print(\"\\n\", counter, oid)\n",
    "    sn_report = alerce.do_TNS_report(api_key, oid, reporter, verbose=False, test=False)\n",
    "    if sn_report:# or oid == \"ZTF20abyptpc\":\n",
    "        tns_report[\"at_report\"][\"%i\" % counter] = sn_report\n",
    "        counter += 1\n"
   ]
  },
  {
   "cell_type": "markdown",
   "metadata": {},
   "source": [
    "## Manual modifications"
   ]
  },
  {
   "cell_type": "code",
   "execution_count": 16,
   "metadata": {
    "ExecuteTime": {
     "end_time": "2021-10-24T19:39:14.574237Z",
     "start_time": "2021-10-24T19:39:14.565896Z"
    }
   },
   "outputs": [],
   "source": [
    "#report['at_report']['0']['remarks'] = \"Fast rising transient (g-rise > 1.48 mag/day)\"#report['at_report']['3']['remarks'] = 'Nova candidate in M31 (g-rise > 0.16+-0.01 mag/day, r-rise > 0.24+-0.01 mag/day) classified by ALeRCE using the public ZTF stream. Discovery image and light curve in http://alerce.online/object/ZTF19acxrihd '"
   ]
  },
  {
   "cell_type": "code",
   "execution_count": 17,
   "metadata": {
    "ExecuteTime": {
     "end_time": "2021-10-24T19:39:15.286415Z",
     "start_time": "2021-10-24T19:39:15.272020Z"
    }
   },
   "outputs": [],
   "source": [
    "# note that the space at the end is necessary\n",
    "#report['at_report']['3']['remarks'] = 'Nova candidate in M31 (r-rise > 0.43+-0.01 mag/day) classified by ALeRCE using the public ZTF stream. Discovery image and light curve in http://alerce.online/object/ZTF20acgigfo '"
   ]
  },
  {
   "cell_type": "markdown",
   "metadata": {},
   "source": [
    "## Display report"
   ]
  },
  {
   "cell_type": "code",
   "execution_count": 18,
   "metadata": {
    "ExecuteTime": {
     "end_time": "2021-10-24T19:39:16.083033Z",
     "start_time": "2021-10-24T19:39:16.061762Z"
    },
    "scrolled": true
   },
   "outputs": [
    {
     "name": "stdout",
     "output_type": "stream",
     "text": [
      "{\n",
      "    \"at_report\": {\n",
      "        \"0\": {\n",
      "            \"at_type\": \"1\",\n",
      "            \"dec\": {\n",
      "                \"error\": \"0.085\",\n",
      "                \"units\": \"arcsec\",\n",
      "                \"value\": \"-0.3057028\"\n",
      "            },\n",
      "            \"discovery_data_source_id\": \"48\",\n",
      "            \"discovery_datetime\": \"2021-10-24 06:10:27.998\",\n",
      "            \"host_name\": \"SDSS J003546.56-001819.9\",\n",
      "            \"internal_name\": \"ZTF21acistjw\",\n",
      "            \"non_detection\": {\n",
      "                \"comments\": \"Data provided by ZTF\",\n",
      "                \"exptime\": \"30\",\n",
      "                \"filter_value\": \"111\",\n",
      "                \"flux_units\": \"1\",\n",
      "                \"instrument_value\": \"196\",\n",
      "                \"limiting_flux\": \"18.7716\",\n",
      "                \"obsdate\": \"2021-10-17 07:09:36.999\",\n",
      "                \"observer\": \"Robot\"\n",
      "            },\n",
      "            \"photometry\": {\n",
      "                \"photometry_group\": {\n",
      "                    \"0\": {\n",
      "                        \"comments\": \"Data provided by ZTF\",\n",
      "                        \"exptime\": \"30\",\n",
      "                        \"filter_value\": \"111\",\n",
      "                        \"flux\": \"20.18549\",\n",
      "                        \"flux_error\": \"0.19844276\",\n",
      "                        \"flux_units\": \"1\",\n",
      "                        \"instrument_value\": \"196\",\n",
      "                        \"limiting_flux\": \"20.048412\",\n",
      "                        \"obsdate\": \"2021-10-24 06:10:27.998\",\n",
      "                        \"observer\": \"Robot\"\n",
      "                    }\n",
      "                }\n",
      "            },\n",
      "            \"ra\": {\n",
      "                \"error\": \"0.085\",\n",
      "                \"units\": \"arcsec\",\n",
      "                \"value\": \"8.9440725\"\n",
      "            },\n",
      "            \"remarks\": \"SN candidate classified using ALeRCE's stamp classifier - see http://arxiv.org/abs/2008.03309 - and the public ZTF stream. Discovery image and light curve in http://alerce.online/object/ZTF21acistjw \",\n",
      "            \"reporter\": \"F. Forster, F.E. Bauer, A. Munoz-Arancibia, G. Pignata, A. Mourao, L. Hernandez-Garcia, L. Galbany, E. Camacho, J. Silva-Farfan, J. Arredondo, G. Cabrera-Vives, R. Carrasco-Davis, P.A. Estevez, P. Huijse, E. Reyes, I. Reyes, P. Sanchez-Saez, C. Valenzuela, E. Castillo, D. Ruz-Mieres, D. Rodriguez-Mancini, M. Catelan, S. Eyheramendy, M.J. Graham on behalf of the ALeRCE broker\",\n",
      "            \"reporting_group_id\": \"74\"\n",
      "        },\n",
      "        \"1\": {\n",
      "            \"at_type\": \"1\",\n",
      "            \"dec\": {\n",
      "                \"error\": \"0.085\",\n",
      "                \"units\": \"arcsec\",\n",
      "                \"value\": \"7.325321\"\n",
      "            },\n",
      "            \"discovery_data_source_id\": \"48\",\n",
      "            \"discovery_datetime\": \"2021-10-24 06:13:51.997\",\n",
      "            \"host_name\": \"SDSS J011805.86+071923.4\",\n",
      "            \"internal_name\": \"ZTF21acimjvp\",\n",
      "            \"non_detection\": {\n",
      "                \"comments\": \"Data provided by ZTF\",\n",
      "                \"exptime\": \"30\",\n",
      "                \"filter_value\": \"110\",\n",
      "                \"flux_units\": \"1\",\n",
      "                \"instrument_value\": \"196\",\n",
      "                \"limiting_flux\": \"19.1743\",\n",
      "                \"obsdate\": \"2021-10-17 09:44:02.000\",\n",
      "                \"observer\": \"Robot\"\n",
      "            },\n",
      "            \"photometry\": {\n",
      "                \"photometry_group\": {\n",
      "                    \"0\": {\n",
      "                        \"comments\": \"Data provided by ZTF\",\n",
      "                        \"exptime\": \"30\",\n",
      "                        \"filter_value\": \"111\",\n",
      "                        \"flux\": \"17.995419\",\n",
      "                        \"flux_error\": \"0.06851937\",\n",
      "                        \"flux_units\": \"1\",\n",
      "                        \"instrument_value\": \"196\",\n",
      "                        \"limiting_flux\": \"20.033138\",\n",
      "                        \"obsdate\": \"2021-10-24 06:13:51.997\",\n",
      "                        \"observer\": \"Robot\"\n",
      "                    }\n",
      "                }\n",
      "            },\n",
      "            \"ra\": {\n",
      "                \"error\": \"0.085\",\n",
      "                \"units\": \"arcsec\",\n",
      "                \"value\": \"19.5245675\"\n",
      "            },\n",
      "            \"remarks\": \"Early SN candidate (r-rise > 0.24+-0.01 mag/day) classified using ALeRCE's stamp classifier - see http://arxiv.org/abs/2008.03309 - and the public ZTF stream. Discovery image and light curve in http://alerce.online/object/ZTF21acimjvp \",\n",
      "            \"reporter\": \"F. Forster, F.E. Bauer, A. Munoz-Arancibia, G. Pignata, A. Mourao, L. Hernandez-Garcia, L. Galbany, E. Camacho, J. Silva-Farfan, J. Arredondo, G. Cabrera-Vives, R. Carrasco-Davis, P.A. Estevez, P. Huijse, E. Reyes, I. Reyes, P. Sanchez-Saez, C. Valenzuela, E. Castillo, D. Ruz-Mieres, D. Rodriguez-Mancini, M. Catelan, S. Eyheramendy, M.J. Graham on behalf of the ALeRCE broker\",\n",
      "            \"reporting_group_id\": \"74\"\n",
      "        }\n",
      "    }\n",
      "}\n"
     ]
    }
   ],
   "source": [
    "print(json.dumps(tns_report, indent=4, sort_keys=True))"
   ]
  },
  {
   "cell_type": "markdown",
   "metadata": {},
   "source": [
    "## Save report"
   ]
  },
  {
   "cell_type": "code",
   "execution_count": 19,
   "metadata": {
    "ExecuteTime": {
     "end_time": "2021-10-24T19:39:17.329650Z",
     "start_time": "2021-10-24T19:39:17.319880Z"
    }
   },
   "outputs": [],
   "source": [
    "json_report = '%s/%s.json' % (candidates_dir, refstring)\n",
    "with open(json_report, 'w') as outfile:\n",
    "    json.dump(tns_report, outfile)"
   ]
  },
  {
   "cell_type": "markdown",
   "metadata": {},
   "source": [
    "## Send to TNS\n",
    "\n",
    "**WARNING: key is used to send candidates!**"
   ]
  },
  {
   "cell_type": "code",
   "execution_count": 20,
   "metadata": {
    "ExecuteTime": {
     "end_time": "2021-10-24T19:39:18.226552Z",
     "start_time": "2021-10-24T19:39:18.211623Z"
    }
   },
   "outputs": [
    {
     "data": {
      "text/plain": [
       "'candidates/20211024.json'"
      ]
     },
     "execution_count": 20,
     "metadata": {},
     "output_type": "execute_result"
    }
   ],
   "source": [
    "json_report"
   ]
  },
  {
   "cell_type": "code",
   "execution_count": 21,
   "metadata": {
    "ExecuteTime": {
     "end_time": "2021-10-24T19:39:21.344366Z",
     "start_time": "2021-10-24T19:39:20.257627Z"
    }
   },
   "outputs": [],
   "source": [
    "r = alerce.send_json_report(api_key, url_tns_api, json_report)"
   ]
  },
  {
   "cell_type": "markdown",
   "metadata": {},
   "source": [
    "## Show output"
   ]
  },
  {
   "cell_type": "code",
   "execution_count": 22,
   "metadata": {
    "ExecuteTime": {
     "end_time": "2021-10-24T19:39:21.960497Z",
     "start_time": "2021-10-24T19:39:21.944095Z"
    },
    "scrolled": true
   },
   "outputs": [
    {
     "data": {
      "text/plain": [
       "b'{\"id_code\":200,\"id_message\":\"OK\",\"data\":{\"report_id\":87745,\"recieved_data\":{\"at_report\":{\"0\":{\"ra\":{\"value\":8.9440725,\"error\":0.085,\"units\":\"arcsec\"},\"dec\":{\"value\":-0.3057028,\"error\":0.085,\"units\":\"arcsec\"},\"reporting_group_id\":74,\"discovery_data_source_id\":48,\"reporter\":\"F. Forster, F.E. Bauer, A. Munoz-Arancibia, G. Pignata, A. Mourao, L. Hernandez-Garcia, L. Galbany, E. Camacho, J. Silva-Farfan, J. Arredondo, G. Cabrera-Vives, R. Carrasco-Davis, P.A. Estevez, P. Huijse, E. Reyes, I. Reyes, P. Sanchez-Saez, C. Valenzuela, E. Castillo, D. Ruz-Mieres, D. Rodriguez-Mancini, M. Catelan, S. Eyheramendy, M.J. Graham on behalf of the ALeRCE broker\",\"discovery_datetime\":\"2021-10-24 06:10:27.998\",\"at_type\":1,\"internal_name\":\"ZTF21acistjw\",\"remarks\":\"SN candidate classified using ALeRCE\\'s stamp classifier - see http:\\\\/\\\\/arxiv.org\\\\/abs\\\\/2008.03309 - and the public ZTF stream. Discovery image and light curve in http:\\\\/\\\\/alerce.online\\\\/object\\\\/ZTF21acistjw \",\"non_detection\":{\"obsdate\":\"2021-10-17 07:09:36.999\",\"limiting_flux\":18.7716,\"flux_units\":1,\"filter_value\":111,\"instrument_value\":196,\"exptime\":30,\"observer\":\"Robot\",\"comments\":\"Data provided by ZTF\"},\"photometry\":{\"photometry_group\":{\"0\":{\"obsdate\":\"2021-10-24 06:10:27.998\",\"flux\":20.18549,\"flux_error\":0.19844276,\"limiting_flux\":20.048412,\"flux_units\":1,\"filter_value\":111,\"instrument_value\":196,\"exptime\":30,\"observer\":\"Robot\",\"comments\":\"Data provided by ZTF\"}}},\"host_name\":\"SDSS J003546.56-001819.9\"},\"1\":{\"ra\":{\"value\":19.5245675,\"error\":0.085,\"units\":\"arcsec\"},\"dec\":{\"value\":7.325321,\"error\":0.085,\"units\":\"arcsec\"},\"reporting_group_id\":74,\"discovery_data_source_id\":48,\"reporter\":\"F. Forster, F.E. Bauer, A. Munoz-Arancibia, G. Pignata, A. Mourao, L. Hernandez-Garcia, L. Galbany, E. Camacho, J. Silva-Farfan, J. Arredondo, G. Cabrera-Vives, R. Carrasco-Davis, P.A. Estevez, P. Huijse, E. Reyes, I. Reyes, P. Sanchez-Saez, C. Valenzuela, E. Castillo, D. Ruz-Mieres, D. Rodriguez-Mancini, M. Catelan, S. Eyheramendy, M.J. Graham on behalf of the ALeRCE broker\",\"discovery_datetime\":\"2021-10-24 06:13:51.997\",\"at_type\":1,\"internal_name\":\"ZTF21acimjvp\",\"remarks\":\"Early SN candidate (r-rise > 0.24+-0.01 mag\\\\/day) classified using ALeRCE\\'s stamp classifier - see http:\\\\/\\\\/arxiv.org\\\\/abs\\\\/2008.03309 - and the public ZTF stream. Discovery image and light curve in http:\\\\/\\\\/alerce.online\\\\/object\\\\/ZTF21acimjvp \",\"non_detection\":{\"obsdate\":\"2021-10-17 09:44:02.000\",\"limiting_flux\":19.1743,\"flux_units\":1,\"filter_value\":110,\"instrument_value\":196,\"exptime\":30,\"observer\":\"Robot\",\"comments\":\"Data provided by ZTF\"},\"photometry\":{\"photometry_group\":{\"0\":{\"obsdate\":\"2021-10-24 06:13:51.997\",\"flux\":17.995419,\"flux_error\":0.06851937,\"limiting_flux\":20.033138,\"flux_units\":1,\"filter_value\":111,\"instrument_value\":196,\"exptime\":30,\"observer\":\"Robot\",\"comments\":\"Data provided by ZTF\"}}},\"host_name\":\"SDSS J011805.86+071923.4\"}}}}}'"
      ]
     },
     "execution_count": 22,
     "metadata": {},
     "output_type": "execute_result"
    }
   ],
   "source": [
    "r.content"
   ]
  },
  {
   "cell_type": "markdown",
   "metadata": {},
   "source": [
    "## Show feedback"
   ]
  },
  {
   "cell_type": "code",
   "execution_count": 23,
   "metadata": {
    "ExecuteTime": {
     "end_time": "2021-10-24T19:39:22.975870Z",
     "start_time": "2021-10-24T19:39:22.960969Z"
    }
   },
   "outputs": [],
   "source": [
    "# function for getting reply from report                             \n",
    "def reply(url, report_id):                                           \n",
    "    try:                                                               \n",
    "        # url for getting report reply                                   \n",
    "        reply_url=url+'/bulk-report-reply'                               \n",
    "        # construct list of (key,value) pairs                                \n",
    "        reply_data=[('api_key',(None, api_key)),                         \n",
    "                    ('report_id',(None,report_id))]                      \n",
    "        # send report ID using request module                            \n",
    "        response=requests.post(reply_url, files=reply_data, headers=alerce.tns_headers)              \n",
    "        # return response                                                \n",
    "        return response                                                  \n",
    "    except Exception as e:                                             \n",
    "        return [None,'Error message : \\n'+str(e)]  "
   ]
  },
  {
   "cell_type": "code",
   "execution_count": 24,
   "metadata": {
    "ExecuteTime": {
     "end_time": "2021-10-24T19:39:24.482054Z",
     "start_time": "2021-10-24T19:39:23.419674Z"
    }
   },
   "outputs": [
    {
     "name": "stdout",
     "output_type": "stream",
     "text": [
      "{'at_report': [{'100': {'message': 'Transient object was inserted.', 'objname': '2021accn', 'message_id': 100}, 'at_rep': {'103': {'message': 'Submitted', 'message_id': 103}}}, {'101': {'message': 'Transient object exists.', 'objname': '2021acci', 'prefix': 'AT', 'type': 'Unclassified', 'ra': '01:18:05.882', 'dec': '+07:19:31.38', 'separation': '0.31 arcsec', 'message_id': 101}, 'at_rep': {'103': {'message': 'Submitted', 'message_id': 103}}, 'object': {'124': {'message': 'Object coordinates were updated according to those specified in this report.', 'message_id': 124}}}]}\n"
     ]
    }
   ],
   "source": [
    "try:\n",
    "    feedback = reply(url_tns_api, r.json()[\"data\"][\"report_id\"]).json()[\"data\"][\"feedback\"]\n",
    "    print(feedback)\n",
    "except:\n",
    "    print(\"Report not available, probably being processed. Please try again...\")"
   ]
  },
  {
   "cell_type": "markdown",
   "metadata": {
    "ExecuteTime": {
     "end_time": "2021-07-31T20:36:26.016443Z",
     "start_time": "2021-07-31T20:36:25.984944Z"
    }
   },
   "source": [
    "## Check the following link and confirm that the latest SNe are from the reported day\n",
    "\n",
    "https://www.wis-tns.org/search?&discovered_period_value=1&discovered_period_units=days&reporting_groupid[]=74&discovery_data_source_id=48&num_page=50&format=html&edit[type]=&edit[objname]=&edit[id]=&display[redshift]=1&display[hostname]=1&display[host_redshift]=1&display[source_group_name]=1&display[classifying_source_group_name]=1&display[discovering_instrument_name]=0&display[classifing_instrument_name]=0&display[programs_name]=0&display[internal_name]=1&display[isTNS_AT]=0&display[public]=1&display[end_pop_period]=0&display[spectra_count]=1&display[discoverymag]=1&display[discmagfilter]=1&display[discoverydate]=1&display[discoverer]=1&display[remarks]=0&display[sources]=0&display[bibcode]=0&display[ext_catalogs]=0&sort=desc&order=discoverydate"
   ]
  },
  {
   "cell_type": "markdown",
   "metadata": {},
   "source": [
    "# Prepare SkyPortal report"
   ]
  },
  {
   "cell_type": "code",
   "execution_count": 25,
   "metadata": {
    "ExecuteTime": {
     "end_time": "2021-10-24T19:39:27.606450Z",
     "start_time": "2021-10-24T19:39:27.584412Z"
    }
   },
   "outputs": [
    {
     "data": {
      "text/html": [
       "<div>\n",
       "<style scoped>\n",
       "    .dataframe tbody tr th:only-of-type {\n",
       "        vertical-align: middle;\n",
       "    }\n",
       "\n",
       "    .dataframe tbody tr th {\n",
       "        vertical-align: top;\n",
       "    }\n",
       "\n",
       "    .dataframe thead th {\n",
       "        text-align: right;\n",
       "    }\n",
       "</style>\n",
       "<table border=\"1\" class=\"dataframe\">\n",
       "  <thead>\n",
       "    <tr style=\"text-align: right;\">\n",
       "      <th></th>\n",
       "      <th>host_name</th>\n",
       "      <th>host_ra</th>\n",
       "      <th>host_dec</th>\n",
       "      <th>host_offset</th>\n",
       "      <th>host_source</th>\n",
       "      <th>host_redshift_spec</th>\n",
       "      <th>host_redshift</th>\n",
       "      <th>host_redshift_error</th>\n",
       "      <th>host_redshift_type</th>\n",
       "    </tr>\n",
       "    <tr>\n",
       "      <th>oid</th>\n",
       "      <th></th>\n",
       "      <th></th>\n",
       "      <th></th>\n",
       "      <th></th>\n",
       "      <th></th>\n",
       "      <th></th>\n",
       "      <th></th>\n",
       "      <th></th>\n",
       "      <th></th>\n",
       "    </tr>\n",
       "  </thead>\n",
       "  <tbody>\n",
       "    <tr>\n",
       "      <th>ZTF21acistjw</th>\n",
       "      <td>SDSS J003546.56-001819.9</td>\n",
       "      <td>8.943993</td>\n",
       "      <td>-0.305529</td>\n",
       "      <td>0.687802</td>\n",
       "      <td>SDSSDR16</td>\n",
       "      <td>False</td>\n",
       "      <td>0.182095</td>\n",
       "      <td>0.074357</td>\n",
       "      <td>photoz</td>\n",
       "    </tr>\n",
       "    <tr>\n",
       "      <th>ZTF21acimjvp</th>\n",
       "      <td>SDSS J011805.86+071923.4</td>\n",
       "      <td>19.524426</td>\n",
       "      <td>7.323173</td>\n",
       "      <td>7.749119</td>\n",
       "      <td>SDSSDR16</td>\n",
       "      <td>False</td>\n",
       "      <td>0.038914</td>\n",
       "      <td>0.011058</td>\n",
       "      <td>photoz</td>\n",
       "    </tr>\n",
       "  </tbody>\n",
       "</table>\n",
       "</div>"
      ],
      "text/plain": [
       "                             host_name    host_ra  host_dec  host_offset  \\\n",
       "oid                                                                        \n",
       "ZTF21acistjw  SDSS J003546.56-001819.9   8.943993 -0.305529     0.687802   \n",
       "ZTF21acimjvp  SDSS J011805.86+071923.4  19.524426  7.323173     7.749119   \n",
       "\n",
       "             host_source  host_redshift_spec  host_redshift  \\\n",
       "oid                                                           \n",
       "ZTF21acistjw    SDSSDR16               False       0.182095   \n",
       "ZTF21acimjvp    SDSSDR16               False       0.038914   \n",
       "\n",
       "              host_redshift_error host_redshift_type  \n",
       "oid                                                   \n",
       "ZTF21acistjw             0.074357             photoz  \n",
       "ZTF21acimjvp             0.011058             photoz  "
      ]
     },
     "execution_count": 25,
     "metadata": {},
     "output_type": "execute_result"
    }
   ],
   "source": [
    "alerce.candidate_hosts = pd.read_csv(\"hosts/%s_hosts.csv\" % refstring)\n",
    "alerce.candidate_hosts.set_index(\"oid\", inplace=True)\n",
    "alerce.candidate_hosts.fillna(\"NULL\", inplace=True)\n",
    "alerce.candidate_hosts"
   ]
  },
  {
   "cell_type": "markdown",
   "metadata": {},
   "source": [
    "## Load credentials"
   ]
  },
  {
   "cell_type": "code",
   "execution_count": 26,
   "metadata": {
    "ExecuteTime": {
     "end_time": "2021-10-24T19:39:28.630333Z",
     "start_time": "2021-10-24T19:39:28.618539Z"
    }
   },
   "outputs": [],
   "source": [
    "skyportal_url = \"http://desi2.lbl.gov:5000/api\"\n",
    "credentials_file = \"credentials_skyportal.json\"\n",
    "with open(credentials_file) as jsonfile:\n",
    "    params = json.load(jsonfile)\n",
    "token = params[\"token\"]"
   ]
  },
  {
   "cell_type": "markdown",
   "metadata": {},
   "source": [
    "## Build the report"
   ]
  },
  {
   "cell_type": "code",
   "execution_count": 27,
   "metadata": {
    "ExecuteTime": {
     "end_time": "2021-10-24T19:39:30.558432Z",
     "start_time": "2021-10-24T19:39:29.649964Z"
    },
    "scrolled": true
   },
   "outputs": [
    {
     "name": "stdout",
     "output_type": "stream",
     "text": [
      "\n",
      " 0 ZTF21acistjw\n"
     ]
    },
    {
     "ename": "KeyError",
     "evalue": "'ALERCE'",
     "output_type": "error",
     "traceback": [
      "\u001b[0;31m---------------------------------------------------------------------------\u001b[0m",
      "\u001b[0;31mKeyError\u001b[0m                                  Traceback (most recent call last)",
      "\u001b[0;32m<ipython-input-27-d13dd75893a9>\u001b[0m in \u001b[0;36m<module>\u001b[0;34m\u001b[0m\n\u001b[1;32m      5\u001b[0m         \u001b[0;32mcontinue\u001b[0m\u001b[0;34m\u001b[0m\u001b[0;34m\u001b[0m\u001b[0m\n\u001b[1;32m      6\u001b[0m     \u001b[0mprint\u001b[0m\u001b[0;34m(\u001b[0m\u001b[0;34m\"\\n\"\u001b[0m\u001b[0;34m,\u001b[0m \u001b[0mcounter\u001b[0m\u001b[0;34m,\u001b[0m \u001b[0moid\u001b[0m\u001b[0;34m)\u001b[0m\u001b[0;34m\u001b[0m\u001b[0;34m\u001b[0m\u001b[0m\n\u001b[0;32m----> 7\u001b[0;31m     \u001b[0msn_report\u001b[0m \u001b[0;34m=\u001b[0m \u001b[0malerce\u001b[0m\u001b[0;34m.\u001b[0m\u001b[0mdo_skyportal_report\u001b[0m\u001b[0;34m(\u001b[0m\u001b[0mskyportal_url\u001b[0m\u001b[0;34m,\u001b[0m \u001b[0mtoken\u001b[0m\u001b[0;34m,\u001b[0m \u001b[0moid\u001b[0m\u001b[0;34m,\u001b[0m \u001b[0mreporter\u001b[0m\u001b[0;34m,\u001b[0m \u001b[0mverbose\u001b[0m\u001b[0;34m=\u001b[0m\u001b[0;32mFalse\u001b[0m\u001b[0;34m,\u001b[0m \u001b[0mtest\u001b[0m\u001b[0;34m=\u001b[0m\u001b[0;32mFalse\u001b[0m\u001b[0;34m)\u001b[0m\u001b[0;34m\u001b[0m\u001b[0;34m\u001b[0m\u001b[0m\n\u001b[0m\u001b[1;32m      8\u001b[0m     \u001b[0;32mif\u001b[0m \u001b[0msn_report\u001b[0m\u001b[0;34m:\u001b[0m\u001b[0;31m# or oid == \"ZTF20abyptpc\":\u001b[0m\u001b[0;34m\u001b[0m\u001b[0;34m\u001b[0m\u001b[0m\n\u001b[1;32m      9\u001b[0m         \u001b[0mskyportal_report\u001b[0m\u001b[0;34m.\u001b[0m\u001b[0mappend\u001b[0m\u001b[0;34m(\u001b[0m\u001b[0msn_report\u001b[0m\u001b[0;34m)\u001b[0m\u001b[0;34m\u001b[0m\u001b[0;34m\u001b[0m\u001b[0m\n",
      "\u001b[0;32m~/Dropbox/Work/alercebroker/TNS_upload/lib/alerce_tns.py\u001b[0m in \u001b[0;36mdo_skyportal_report\u001b[0;34m(self, url, token, oid, reporter, verbose, test)\u001b[0m\n\u001b[1;32m    886\u001b[0m         \u001b[0mreport\u001b[0m\u001b[0;34m[\u001b[0m\u001b[0;34m\"candidates\"\u001b[0m\u001b[0;34m]\u001b[0m\u001b[0;34m[\u001b[0m\u001b[0;34m\"id\"\u001b[0m\u001b[0;34m]\u001b[0m \u001b[0;34m=\u001b[0m \u001b[0moid\u001b[0m            \u001b[0;31m# Name of the object\u001b[0m\u001b[0;34m\u001b[0m\u001b[0;34m\u001b[0m\u001b[0m\n\u001b[1;32m    887\u001b[0m         \u001b[0mreport\u001b[0m\u001b[0;34m[\u001b[0m\u001b[0;34m\"candidates\"\u001b[0m\u001b[0;34m]\u001b[0m\u001b[0;34m[\u001b[0m\u001b[0;34m\"origin\"\u001b[0m\u001b[0;34m]\u001b[0m \u001b[0;34m=\u001b[0m \u001b[0;34m\"ZTF\"\u001b[0m        \u001b[0;31m# Origin of the object.\u001b[0m\u001b[0;34m\u001b[0m\u001b[0;34m\u001b[0m\u001b[0m\n\u001b[0;32m--> 888\u001b[0;31m         \u001b[0mreport\u001b[0m\u001b[0;34m[\u001b[0m\u001b[0;34m\"candidates\"\u001b[0m\u001b[0;34m]\u001b[0m\u001b[0;34m[\u001b[0m\u001b[0;34m\"filter_ids\"\u001b[0m\u001b[0;34m]\u001b[0m \u001b[0;34m=\u001b[0m \u001b[0;34m[\u001b[0m\u001b[0mself\u001b[0m\u001b[0;34m.\u001b[0m\u001b[0mget_skyportal_filter_id\u001b[0m\u001b[0;34m(\u001b[0m\u001b[0murl\u001b[0m\u001b[0;34m,\u001b[0m \u001b[0mtoken\u001b[0m\u001b[0;34m)\u001b[0m\u001b[0;34m]\u001b[0m\u001b[0;34m\u001b[0m\u001b[0;34m\u001b[0m\u001b[0m\n\u001b[0m\u001b[1;32m    889\u001b[0m         \u001b[0mreport\u001b[0m\u001b[0;34m[\u001b[0m\u001b[0;34m\"annotation\"\u001b[0m\u001b[0;34m]\u001b[0m \u001b[0;34m=\u001b[0m \u001b[0;34m{\u001b[0m\u001b[0;34m}\u001b[0m\u001b[0;34m\u001b[0m\u001b[0;34m\u001b[0m\u001b[0m\n\u001b[1;32m    890\u001b[0m         \u001b[0mreport\u001b[0m\u001b[0;34m[\u001b[0m\u001b[0;34m\"annotation\"\u001b[0m\u001b[0;34m]\u001b[0m \u001b[0;34m=\u001b[0m \u001b[0;34m{\u001b[0m\u001b[0;34m}\u001b[0m\u001b[0;34m\u001b[0m\u001b[0;34m\u001b[0m\u001b[0m\n",
      "\u001b[0;32m~/Dropbox/Work/alercebroker/TNS_upload/lib/alerce_tns.py\u001b[0m in \u001b[0;36mget_skyportal_filter_id\u001b[0;34m(self, url, token)\u001b[0m\n\u001b[1;32m    852\u001b[0m             \u001b[0;32mfor\u001b[0m \u001b[0mi\u001b[0m \u001b[0;32min\u001b[0m \u001b[0mr\u001b[0m\u001b[0;34m.\u001b[0m\u001b[0mjson\u001b[0m\u001b[0;34m(\u001b[0m\u001b[0;34m)\u001b[0m\u001b[0;34m[\u001b[0m\u001b[0;34m\"data\"\u001b[0m\u001b[0;34m]\u001b[0m\u001b[0;34m:\u001b[0m\u001b[0;34m\u001b[0m\u001b[0;34m\u001b[0m\u001b[0m\n\u001b[1;32m    853\u001b[0m                 \u001b[0midcands\u001b[0m\u001b[0;34m[\u001b[0m\u001b[0mi\u001b[0m\u001b[0;34m[\u001b[0m\u001b[0;34m\"name\"\u001b[0m\u001b[0;34m]\u001b[0m\u001b[0;34m]\u001b[0m \u001b[0;34m=\u001b[0m \u001b[0mi\u001b[0m\u001b[0;34m[\u001b[0m\u001b[0;34m\"id\"\u001b[0m\u001b[0;34m]\u001b[0m\u001b[0;34m\u001b[0m\u001b[0;34m\u001b[0m\u001b[0m\n\u001b[0;32m--> 854\u001b[0;31m         \u001b[0;32mreturn\u001b[0m \u001b[0midcands\u001b[0m\u001b[0;34m[\u001b[0m\u001b[0;34m\"ALERCE\"\u001b[0m\u001b[0;34m]\u001b[0m\u001b[0;34m\u001b[0m\u001b[0;34m\u001b[0m\u001b[0m\n\u001b[0m\u001b[1;32m    855\u001b[0m \u001b[0;34m\u001b[0m\u001b[0m\n\u001b[1;32m    856\u001b[0m     \u001b[0;31m# get filter ids\u001b[0m\u001b[0;34m\u001b[0m\u001b[0;34m\u001b[0m\u001b[0;34m\u001b[0m\u001b[0m\n",
      "\u001b[0;31mKeyError\u001b[0m: 'ALERCE'"
     ]
    }
   ],
   "source": [
    "skyportal_report = []\n",
    "counter = 0\n",
    "for oid in candidates[::-1]: # invert to report old candidates first\n",
    "    if oid in [\"ZTF21abkvttz\"]: #ZTF21abhpdgd\", \"ZTF21abgtlir\"]:\n",
    "        continue\n",
    "    print(\"\\n\", counter, oid)\n",
    "    sn_report = alerce.do_skyportal_report(skyportal_url, token, oid, reporter, verbose=False, test=False)\n",
    "    if sn_report:# or oid == \"ZTF20abyptpc\":\n",
    "        skyportal_report.append(sn_report)\n",
    "        counter += 1"
   ]
  },
  {
   "cell_type": "markdown",
   "metadata": {},
   "source": [
    "## Save report"
   ]
  },
  {
   "cell_type": "code",
   "execution_count": 29,
   "metadata": {
    "ExecuteTime": {
     "end_time": "2021-10-23T19:02:03.758275Z",
     "start_time": "2021-10-23T19:02:03.746364Z"
    },
    "scrolled": true
   },
   "outputs": [
    {
     "data": {
      "text/plain": [
       "[]"
      ]
     },
     "metadata": {},
     "output_type": "display_data"
    }
   ],
   "source": [
    "with open('%s_skyportal.pickle' % refstring, 'wb') as handle:\n",
    "    pickle.dump(skyportal_report, handle, protocol=pickle.HIGHEST_PROTOCOL)\n",
    "\n",
    "with open('%s_skyportal.pickle' % refstring, 'rb') as handle:\n",
    "    skyportal_report = pickle.load(handle)\n",
    "    \n",
    "display(skyportal_report)"
   ]
  },
  {
   "cell_type": "markdown",
   "metadata": {},
   "source": [
    "## Submit to SkyPortal"
   ]
  },
  {
   "cell_type": "code",
   "execution_count": 33,
   "metadata": {
    "ExecuteTime": {
     "end_time": "2021-10-17T20:14:51.249755Z",
     "start_time": "2021-10-17T20:14:05.192998Z"
    },
    "scrolled": false
   },
   "outputs": [
    {
     "name": "stdout",
     "output_type": "stream",
     "text": [
      "ZTF21aciiklb\n",
      "\n",
      "Reporting candidate\n",
      "HTTP code: 200, OK\n",
      "Candidate sent\n"
     ]
    },
    {
     "data": {
      "text/plain": [
       "{'status': 'success',\n",
       " 'data': {'ids': [143374]},\n",
       " 'version': '0.9.dev0+git%aI.66d9fd0'}"
      ]
     },
     "metadata": {},
     "output_type": "display_data"
    },
    {
     "name": "stdout",
     "output_type": "stream",
     "text": [
      "\n",
      "Sending annotation\n",
      "\n",
      "HTTP code: 400, Bad Request\n"
     ]
    },
    {
     "data": {
      "text/plain": [
       "{'status': 'error',\n",
       " 'message': 'HTTP 405: Method Not Allowed',\n",
       " 'data': {},\n",
       " 'version': '0.9.dev0+git%aI.66d9fd0'}"
      ]
     },
     "metadata": {},
     "output_type": "display_data"
    },
    {
     "name": "stdout",
     "output_type": "stream",
     "text": [
      "ZTF21acihxwk\n",
      "\n",
      "Reporting candidate\n",
      "HTTP code: 200, OK\n",
      "Candidate sent\n"
     ]
    },
    {
     "data": {
      "text/plain": [
       "{'status': 'success',\n",
       " 'data': {'ids': [143375]},\n",
       " 'version': '0.9.dev0+git%aI.66d9fd0'}"
      ]
     },
     "metadata": {},
     "output_type": "display_data"
    },
    {
     "name": "stdout",
     "output_type": "stream",
     "text": [
      "\n",
      "Sending annotation\n",
      "\n",
      "HTTP code: 400, Bad Request\n"
     ]
    },
    {
     "data": {
      "text/plain": [
       "{'status': 'error',\n",
       " 'message': 'HTTP 405: Method Not Allowed',\n",
       " 'data': {},\n",
       " 'version': '0.9.dev0+git%aI.66d9fd0'}"
      ]
     },
     "metadata": {},
     "output_type": "display_data"
    },
    {
     "name": "stdout",
     "output_type": "stream",
     "text": [
      "ZTF21acihskm\n",
      "\n",
      "Reporting candidate\n",
      "HTTP code: 200, OK\n",
      "Candidate sent\n"
     ]
    },
    {
     "data": {
      "text/plain": [
       "{'status': 'success',\n",
       " 'data': {'ids': [143376]},\n",
       " 'version': '0.9.dev0+git%aI.66d9fd0'}"
      ]
     },
     "metadata": {},
     "output_type": "display_data"
    },
    {
     "name": "stdout",
     "output_type": "stream",
     "text": [
      "\n",
      "Sending annotation\n",
      "\n",
      "HTTP code: 400, Bad Request\n"
     ]
    },
    {
     "data": {
      "text/plain": [
       "{'status': 'error',\n",
       " 'message': 'HTTP 405: Method Not Allowed',\n",
       " 'data': {},\n",
       " 'version': '0.9.dev0+git%aI.66d9fd0'}"
      ]
     },
     "metadata": {},
     "output_type": "display_data"
    },
    {
     "name": "stdout",
     "output_type": "stream",
     "text": [
      "ZTF21acihrxj\n",
      "\n",
      "Reporting candidate\n",
      "HTTP code: 200, OK\n",
      "Candidate sent\n"
     ]
    },
    {
     "data": {
      "text/plain": [
       "{'status': 'success',\n",
       " 'data': {'ids': [143377]},\n",
       " 'version': '0.9.dev0+git%aI.66d9fd0'}"
      ]
     },
     "metadata": {},
     "output_type": "display_data"
    },
    {
     "name": "stdout",
     "output_type": "stream",
     "text": [
      "\n",
      "Sending annotation\n",
      "\n",
      "HTTP code: 400, Bad Request\n"
     ]
    },
    {
     "data": {
      "text/plain": [
       "{'status': 'error',\n",
       " 'message': 'HTTP 405: Method Not Allowed',\n",
       " 'data': {},\n",
       " 'version': '0.9.dev0+git%aI.66d9fd0'}"
      ]
     },
     "metadata": {},
     "output_type": "display_data"
    },
    {
     "name": "stdout",
     "output_type": "stream",
     "text": [
      "ZTF21acihosl\n",
      "\n",
      "Reporting candidate\n",
      "HTTP code: 200, OK\n",
      "Candidate sent\n"
     ]
    },
    {
     "data": {
      "text/plain": [
       "{'status': 'success',\n",
       " 'data': {'ids': [143378]},\n",
       " 'version': '0.9.dev0+git%aI.66d9fd0'}"
      ]
     },
     "metadata": {},
     "output_type": "display_data"
    },
    {
     "name": "stdout",
     "output_type": "stream",
     "text": [
      "\n",
      "Sending annotation\n",
      "\n",
      "HTTP code: 400, Bad Request\n"
     ]
    },
    {
     "data": {
      "text/plain": [
       "{'status': 'error',\n",
       " 'message': 'HTTP 405: Method Not Allowed',\n",
       " 'data': {},\n",
       " 'version': '0.9.dev0+git%aI.66d9fd0'}"
      ]
     },
     "metadata": {},
     "output_type": "display_data"
    },
    {
     "name": "stdout",
     "output_type": "stream",
     "text": [
      "ZTF21acihmcc\n",
      "\n",
      "Reporting candidate\n",
      "HTTP code: 200, OK\n",
      "Candidate sent\n"
     ]
    },
    {
     "data": {
      "text/plain": [
       "{'status': 'success',\n",
       " 'data': {'ids': [143379]},\n",
       " 'version': '0.9.dev0+git%aI.66d9fd0'}"
      ]
     },
     "metadata": {},
     "output_type": "display_data"
    },
    {
     "name": "stdout",
     "output_type": "stream",
     "text": [
      "\n",
      "Sending annotation\n",
      "\n",
      "HTTP code: 400, Bad Request\n"
     ]
    },
    {
     "data": {
      "text/plain": [
       "{'status': 'error',\n",
       " 'message': 'HTTP 405: Method Not Allowed',\n",
       " 'data': {},\n",
       " 'version': '0.9.dev0+git%aI.66d9fd0'}"
      ]
     },
     "metadata": {},
     "output_type": "display_data"
    },
    {
     "name": "stdout",
     "output_type": "stream",
     "text": [
      "ZTF21acihlwh\n",
      "\n",
      "Reporting candidate\n",
      "HTTP code: 200, OK\n",
      "Candidate sent\n"
     ]
    },
    {
     "data": {
      "text/plain": [
       "{'status': 'success',\n",
       " 'data': {'ids': [143380]},\n",
       " 'version': '0.9.dev0+git%aI.66d9fd0'}"
      ]
     },
     "metadata": {},
     "output_type": "display_data"
    },
    {
     "name": "stdout",
     "output_type": "stream",
     "text": [
      "\n",
      "Sending annotation\n",
      "\n",
      "HTTP code: 400, Bad Request\n"
     ]
    },
    {
     "data": {
      "text/plain": [
       "{'status': 'error',\n",
       " 'message': 'HTTP 405: Method Not Allowed',\n",
       " 'data': {},\n",
       " 'version': '0.9.dev0+git%aI.66d9fd0'}"
      ]
     },
     "metadata": {},
     "output_type": "display_data"
    },
    {
     "name": "stdout",
     "output_type": "stream",
     "text": [
      "ZTF21acihjrf\n",
      "\n",
      "Reporting candidate\n",
      "HTTP code: 200, OK\n",
      "Candidate sent\n"
     ]
    },
    {
     "data": {
      "text/plain": [
       "{'status': 'success',\n",
       " 'data': {'ids': [143381]},\n",
       " 'version': '0.9.dev0+git%aI.66d9fd0'}"
      ]
     },
     "metadata": {},
     "output_type": "display_data"
    },
    {
     "name": "stdout",
     "output_type": "stream",
     "text": [
      "\n",
      "Sending annotation\n",
      "\n",
      "HTTP code: 400, Bad Request\n"
     ]
    },
    {
     "data": {
      "text/plain": [
       "{'status': 'error',\n",
       " 'message': 'HTTP 405: Method Not Allowed',\n",
       " 'data': {},\n",
       " 'version': '0.9.dev0+git%aI.66d9fd0'}"
      ]
     },
     "metadata": {},
     "output_type": "display_data"
    },
    {
     "name": "stdout",
     "output_type": "stream",
     "text": [
      "ZTF21acihjcp\n",
      "\n",
      "Reporting candidate\n",
      "HTTP code: 200, OK\n",
      "Candidate sent\n"
     ]
    },
    {
     "data": {
      "text/plain": [
       "{'status': 'success',\n",
       " 'data': {'ids': [143382]},\n",
       " 'version': '0.9.dev0+git%aI.66d9fd0'}"
      ]
     },
     "metadata": {},
     "output_type": "display_data"
    },
    {
     "name": "stdout",
     "output_type": "stream",
     "text": [
      "\n",
      "Sending annotation\n",
      "\n",
      "HTTP code: 400, Bad Request\n"
     ]
    },
    {
     "data": {
      "text/plain": [
       "{'status': 'error',\n",
       " 'message': 'HTTP 405: Method Not Allowed',\n",
       " 'data': {},\n",
       " 'version': '0.9.dev0+git%aI.66d9fd0'}"
      ]
     },
     "metadata": {},
     "output_type": "display_data"
    },
    {
     "name": "stdout",
     "output_type": "stream",
     "text": [
      "ZTF21acihiyy\n",
      "\n",
      "Reporting candidate\n",
      "HTTP code: 200, OK\n",
      "Candidate sent\n"
     ]
    },
    {
     "data": {
      "text/plain": [
       "{'status': 'success',\n",
       " 'data': {'ids': [143383]},\n",
       " 'version': '0.9.dev0+git%aI.66d9fd0'}"
      ]
     },
     "metadata": {},
     "output_type": "display_data"
    },
    {
     "name": "stdout",
     "output_type": "stream",
     "text": [
      "\n",
      "Sending annotation\n",
      "\n",
      "HTTP code: 400, Bad Request\n"
     ]
    },
    {
     "data": {
      "text/plain": [
       "{'status': 'error',\n",
       " 'message': 'HTTP 405: Method Not Allowed',\n",
       " 'data': {},\n",
       " 'version': '0.9.dev0+git%aI.66d9fd0'}"
      ]
     },
     "metadata": {},
     "output_type": "display_data"
    },
    {
     "name": "stdout",
     "output_type": "stream",
     "text": [
      "ZTF21acihire\n",
      "\n",
      "Reporting candidate\n",
      "HTTP code: 200, OK\n",
      "Candidate sent\n"
     ]
    },
    {
     "data": {
      "text/plain": [
       "{'status': 'success',\n",
       " 'data': {'ids': [143384]},\n",
       " 'version': '0.9.dev0+git%aI.66d9fd0'}"
      ]
     },
     "metadata": {},
     "output_type": "display_data"
    },
    {
     "name": "stdout",
     "output_type": "stream",
     "text": [
      "\n",
      "Sending annotation\n",
      "\n",
      "HTTP code: 400, Bad Request\n"
     ]
    },
    {
     "data": {
      "text/plain": [
       "{'status': 'error',\n",
       " 'message': 'HTTP 405: Method Not Allowed',\n",
       " 'data': {},\n",
       " 'version': '0.9.dev0+git%aI.66d9fd0'}"
      ]
     },
     "metadata": {},
     "output_type": "display_data"
    },
    {
     "name": "stdout",
     "output_type": "stream",
     "text": [
      "ZTF21acienfq\n",
      "\n",
      "Reporting candidate\n",
      "HTTP code: 200, OK\n",
      "Candidate sent\n"
     ]
    },
    {
     "data": {
      "text/plain": [
       "{'status': 'success',\n",
       " 'data': {'ids': [143385]},\n",
       " 'version': '0.9.dev0+git%aI.66d9fd0'}"
      ]
     },
     "metadata": {},
     "output_type": "display_data"
    },
    {
     "name": "stdout",
     "output_type": "stream",
     "text": [
      "\n",
      "Sending annotation\n",
      "\n",
      "HTTP code: 400, Bad Request\n"
     ]
    },
    {
     "data": {
      "text/plain": [
       "{'status': 'error',\n",
       " 'message': 'HTTP 405: Method Not Allowed',\n",
       " 'data': {},\n",
       " 'version': '0.9.dev0+git%aI.66d9fd0'}"
      ]
     },
     "metadata": {},
     "output_type": "display_data"
    },
    {
     "name": "stdout",
     "output_type": "stream",
     "text": [
      "ZTF21acidvcv\n",
      "\n",
      "Reporting candidate\n",
      "HTTP code: 200, OK\n",
      "Candidate sent\n"
     ]
    },
    {
     "data": {
      "text/plain": [
       "{'status': 'success',\n",
       " 'data': {'ids': [143386]},\n",
       " 'version': '0.9.dev0+git%aI.66d9fd0'}"
      ]
     },
     "metadata": {},
     "output_type": "display_data"
    },
    {
     "name": "stdout",
     "output_type": "stream",
     "text": [
      "\n",
      "Sending annotation\n",
      "\n",
      "HTTP code: 400, Bad Request\n"
     ]
    },
    {
     "data": {
      "text/plain": [
       "{'status': 'error',\n",
       " 'message': 'HTTP 405: Method Not Allowed',\n",
       " 'data': {},\n",
       " 'version': '0.9.dev0+git%aI.66d9fd0'}"
      ]
     },
     "metadata": {},
     "output_type": "display_data"
    },
    {
     "name": "stdout",
     "output_type": "stream",
     "text": [
      "ZTF21acidujd\n",
      "\n",
      "Reporting candidate\n",
      "HTTP code: 200, OK\n",
      "Candidate sent\n"
     ]
    },
    {
     "data": {
      "text/plain": [
       "{'status': 'success',\n",
       " 'data': {'ids': [143387]},\n",
       " 'version': '0.9.dev0+git%aI.66d9fd0'}"
      ]
     },
     "metadata": {},
     "output_type": "display_data"
    },
    {
     "name": "stdout",
     "output_type": "stream",
     "text": [
      "\n",
      "Sending annotation\n",
      "\n",
      "HTTP code: 400, Bad Request\n"
     ]
    },
    {
     "data": {
      "text/plain": [
       "{'status': 'error',\n",
       " 'message': 'HTTP 405: Method Not Allowed',\n",
       " 'data': {},\n",
       " 'version': '0.9.dev0+git%aI.66d9fd0'}"
      ]
     },
     "metadata": {},
     "output_type": "display_data"
    },
    {
     "name": "stdout",
     "output_type": "stream",
     "text": [
      "ZTF21achziay\n",
      "\n",
      "Reporting candidate\n",
      "HTTP code: 200, OK\n",
      "Candidate sent\n"
     ]
    },
    {
     "data": {
      "text/plain": [
       "{'status': 'success',\n",
       " 'data': {'ids': [143388]},\n",
       " 'version': '0.9.dev0+git%aI.66d9fd0'}"
      ]
     },
     "metadata": {},
     "output_type": "display_data"
    },
    {
     "name": "stdout",
     "output_type": "stream",
     "text": [
      "\n",
      "Sending annotation\n",
      "\n",
      "HTTP code: 400, Bad Request\n"
     ]
    },
    {
     "data": {
      "text/plain": [
       "{'status': 'error',\n",
       " 'message': 'HTTP 405: Method Not Allowed',\n",
       " 'data': {},\n",
       " 'version': '0.9.dev0+git%aI.66d9fd0'}"
      ]
     },
     "metadata": {},
     "output_type": "display_data"
    },
    {
     "name": "stdout",
     "output_type": "stream",
     "text": [
      "ZTF21achzfpg\n",
      "\n",
      "Reporting candidate\n",
      "HTTP code: 200, OK\n",
      "Candidate sent\n"
     ]
    },
    {
     "data": {
      "text/plain": [
       "{'status': 'success',\n",
       " 'data': {'ids': [143389]},\n",
       " 'version': '0.9.dev0+git%aI.66d9fd0'}"
      ]
     },
     "metadata": {},
     "output_type": "display_data"
    },
    {
     "name": "stdout",
     "output_type": "stream",
     "text": [
      "\n",
      "Sending annotation\n",
      "\n",
      "HTTP code: 400, Bad Request\n"
     ]
    },
    {
     "data": {
      "text/plain": [
       "{'status': 'error',\n",
       " 'message': 'HTTP 405: Method Not Allowed',\n",
       " 'data': {},\n",
       " 'version': '0.9.dev0+git%aI.66d9fd0'}"
      ]
     },
     "metadata": {},
     "output_type": "display_data"
    },
    {
     "name": "stdout",
     "output_type": "stream",
     "text": [
      "ZTF21achzfgn\n",
      "\n",
      "Reporting candidate\n",
      "HTTP code: 200, OK\n",
      "Candidate sent\n"
     ]
    },
    {
     "data": {
      "text/plain": [
       "{'status': 'success',\n",
       " 'data': {'ids': [143390]},\n",
       " 'version': '0.9.dev0+git%aI.66d9fd0'}"
      ]
     },
     "metadata": {},
     "output_type": "display_data"
    },
    {
     "name": "stdout",
     "output_type": "stream",
     "text": [
      "\n",
      "Sending annotation\n",
      "\n",
      "HTTP code: 400, Bad Request\n"
     ]
    },
    {
     "data": {
      "text/plain": [
       "{'status': 'error',\n",
       " 'message': 'HTTP 405: Method Not Allowed',\n",
       " 'data': {},\n",
       " 'version': '0.9.dev0+git%aI.66d9fd0'}"
      ]
     },
     "metadata": {},
     "output_type": "display_data"
    },
    {
     "name": "stdout",
     "output_type": "stream",
     "text": [
      "ZTF21achutpj\n",
      "\n",
      "Reporting candidate\n",
      "HTTP code: 200, OK\n",
      "Candidate sent\n"
     ]
    },
    {
     "data": {
      "text/plain": [
       "{'status': 'success',\n",
       " 'data': {'ids': [143391]},\n",
       " 'version': '0.9.dev0+git%aI.66d9fd0'}"
      ]
     },
     "metadata": {},
     "output_type": "display_data"
    },
    {
     "name": "stdout",
     "output_type": "stream",
     "text": [
      "\n",
      "Sending annotation\n",
      "\n",
      "HTTP code: 400, Bad Request\n"
     ]
    },
    {
     "data": {
      "text/plain": [
       "{'status': 'error',\n",
       " 'message': 'HTTP 405: Method Not Allowed',\n",
       " 'data': {},\n",
       " 'version': '0.9.dev0+git%aI.66d9fd0'}"
      ]
     },
     "metadata": {},
     "output_type": "display_data"
    },
    {
     "name": "stdout",
     "output_type": "stream",
     "text": [
      "ZTF21achuskc\n",
      "\n",
      "Reporting candidate\n",
      "HTTP code: 200, OK\n",
      "Candidate sent\n"
     ]
    },
    {
     "data": {
      "text/plain": [
       "{'status': 'success',\n",
       " 'data': {'ids': [143392]},\n",
       " 'version': '0.9.dev0+git%aI.66d9fd0'}"
      ]
     },
     "metadata": {},
     "output_type": "display_data"
    },
    {
     "name": "stdout",
     "output_type": "stream",
     "text": [
      "\n",
      "Sending annotation\n",
      "\n",
      "HTTP code: 400, Bad Request\n"
     ]
    },
    {
     "data": {
      "text/plain": [
       "{'status': 'error',\n",
       " 'message': 'HTTP 405: Method Not Allowed',\n",
       " 'data': {},\n",
       " 'version': '0.9.dev0+git%aI.66d9fd0'}"
      ]
     },
     "metadata": {},
     "output_type": "display_data"
    },
    {
     "name": "stdout",
     "output_type": "stream",
     "text": [
      "ZTF21achuraw\n",
      "\n",
      "Reporting candidate\n",
      "HTTP code: 200, OK\n",
      "Candidate sent\n"
     ]
    },
    {
     "data": {
      "text/plain": [
       "{'status': 'success',\n",
       " 'data': {'ids': [143393]},\n",
       " 'version': '0.9.dev0+git%aI.66d9fd0'}"
      ]
     },
     "metadata": {},
     "output_type": "display_data"
    },
    {
     "name": "stdout",
     "output_type": "stream",
     "text": [
      "\n",
      "Sending annotation\n",
      "\n",
      "HTTP code: 400, Bad Request\n"
     ]
    },
    {
     "data": {
      "text/plain": [
       "{'status': 'error',\n",
       " 'message': 'HTTP 405: Method Not Allowed',\n",
       " 'data': {},\n",
       " 'version': '0.9.dev0+git%aI.66d9fd0'}"
      ]
     },
     "metadata": {},
     "output_type": "display_data"
    },
    {
     "name": "stdout",
     "output_type": "stream",
     "text": [
      "ZTF21achewlg\n",
      "\n",
      "Reporting candidate\n",
      "HTTP code: 200, OK\n",
      "Candidate sent\n"
     ]
    },
    {
     "data": {
      "text/plain": [
       "{'status': 'success',\n",
       " 'data': {'ids': [143394]},\n",
       " 'version': '0.9.dev0+git%aI.66d9fd0'}"
      ]
     },
     "metadata": {},
     "output_type": "display_data"
    },
    {
     "name": "stdout",
     "output_type": "stream",
     "text": [
      "\n",
      "Sending annotation\n",
      "\n",
      "HTTP code: 400, Bad Request\n"
     ]
    },
    {
     "data": {
      "text/plain": [
       "{'status': 'error',\n",
       " 'message': 'HTTP 405: Method Not Allowed',\n",
       " 'data': {},\n",
       " 'version': '0.9.dev0+git%aI.66d9fd0'}"
      ]
     },
     "metadata": {},
     "output_type": "display_data"
    },
    {
     "name": "stdout",
     "output_type": "stream",
     "text": [
      "ZTF21achdsoo\n",
      "ZTF21achdsoo is in skyportal\n",
      "\n",
      "Sending annotation\n",
      "\n",
      "HTTP code: 400, Bad Request\n"
     ]
    },
    {
     "data": {
      "text/plain": [
       "{'status': 'error',\n",
       " 'message': 'HTTP 405: Method Not Allowed',\n",
       " 'data': {},\n",
       " 'version': '0.9.dev0+git%aI.66d9fd0'}"
      ]
     },
     "metadata": {},
     "output_type": "display_data"
    },
    {
     "name": "stdout",
     "output_type": "stream",
     "text": [
      "ZTF18aawxurz\n",
      "\n",
      "Reporting candidate\n",
      "HTTP code: 200, OK\n",
      "Candidate sent\n"
     ]
    },
    {
     "data": {
      "text/plain": [
       "{'status': 'success',\n",
       " 'data': {'ids': [143395]},\n",
       " 'version': '0.9.dev0+git%aI.66d9fd0'}"
      ]
     },
     "metadata": {},
     "output_type": "display_data"
    },
    {
     "name": "stdout",
     "output_type": "stream",
     "text": [
      "\n",
      "Sending annotation\n",
      "\n",
      "HTTP code: 400, Bad Request\n"
     ]
    },
    {
     "data": {
      "text/plain": [
       "{'status': 'error',\n",
       " 'message': 'HTTP 405: Method Not Allowed',\n",
       " 'data': {},\n",
       " 'version': '0.9.dev0+git%aI.66d9fd0'}"
      ]
     },
     "metadata": {},
     "output_type": "display_data"
    },
    {
     "name": "stdout",
     "output_type": "stream",
     "text": [
      "ZTF18aawitry\n",
      "ZTF18aawitry is in skyportal\n",
      "\n",
      "Sending annotation\n",
      "\n",
      "HTTP code: 400, Bad Request\n"
     ]
    },
    {
     "data": {
      "text/plain": [
       "{'status': 'error',\n",
       " 'message': 'HTTP 405: Method Not Allowed',\n",
       " 'data': {},\n",
       " 'version': '0.9.dev0+git%aI.66d9fd0'}"
      ]
     },
     "metadata": {},
     "output_type": "display_data"
    }
   ],
   "source": [
    "for report in skyportal_report:\n",
    "    print(report[\"candidates\"][\"id\"])\n",
    "    alerce.send_skyportal_report(skyportal_url, token, report)"
   ]
  },
  {
   "cell_type": "markdown",
   "metadata": {
    "ExecuteTime": {
     "end_time": "2021-03-18T01:50:52.495888Z",
     "start_time": "2021-03-18T01:50:52.464312Z"
    }
   },
   "source": [
    "## Check SkyPortal"
   ]
  },
  {
   "cell_type": "markdown",
   "metadata": {},
   "source": [
    "http://desi2.lbl.gov:5000/candidates"
   ]
  },
  {
   "cell_type": "markdown",
   "metadata": {},
   "source": []
  },
  {
   "cell_type": "code",
   "execution_count": null,
   "metadata": {},
   "outputs": [],
   "source": []
  }
 ],
 "metadata": {
  "kernelspec": {
   "display_name": "Python 3",
   "language": "python",
   "name": "python3"
  },
  "language_info": {
   "codemirror_mode": {
    "name": "ipython",
    "version": 3
   },
   "file_extension": ".py",
   "mimetype": "text/x-python",
   "name": "python",
   "nbconvert_exporter": "python",
   "pygments_lexer": "ipython3",
   "version": "3.8.8"
  },
  "toc": {
   "base_numbering": 1,
   "nav_menu": {},
   "number_sections": true,
   "sideBar": true,
   "skip_h1_title": false,
   "title_cell": "Table of Contents",
   "title_sidebar": "Contents",
   "toc_cell": false,
   "toc_position": {
    "height": "calc(100% - 180px)",
    "left": "10px",
    "top": "150px",
    "width": "165px"
   },
   "toc_section_display": true,
   "toc_window_display": true
  },
  "varInspector": {
   "cols": {
    "lenName": 16,
    "lenType": 16,
    "lenVar": 40
   },
   "kernels_config": {
    "python": {
     "delete_cmd_postfix": "",
     "delete_cmd_prefix": "del ",
     "library": "var_list.py",
     "varRefreshCmd": "print(var_dic_list())"
    },
    "r": {
     "delete_cmd_postfix": ") ",
     "delete_cmd_prefix": "rm(",
     "library": "var_list.r",
     "varRefreshCmd": "cat(var_dic_list()) "
    }
   },
   "types_to_exclude": [
    "module",
    "function",
    "builtin_function_or_method",
    "instance",
    "_Feature"
   ],
   "window_display": false
  }
 },
 "nbformat": 4,
 "nbformat_minor": 2
}
