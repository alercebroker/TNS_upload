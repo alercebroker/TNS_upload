{
 "cells": [
  {
   "cell_type": "markdown",
   "metadata": {},
   "source": [
    "# Notebook to select host galaxies and submit candidates to TNS"
   ]
  },
  {
   "cell_type": "code",
   "execution_count": 1,
   "metadata": {
    "ExecuteTime": {
     "end_time": "2020-01-30T21:28:31.113398Z",
     "start_time": "2020-01-30T21:28:30.679977Z"
    }
   },
   "outputs": [],
   "source": [
    "import sys, os\n",
    "import pandas as pd\n",
    "import numpy as np\n",
    "import ipyaladin as ipyal\n",
    "from ipywidgets import Layout, Box, widgets"
   ]
  },
  {
   "cell_type": "code",
   "execution_count": 2,
   "metadata": {
    "ExecuteTime": {
     "end_time": "2020-01-30T21:28:31.693601Z",
     "start_time": "2020-01-30T21:28:31.114889Z"
    }
   },
   "outputs": [
    {
     "name": "stderr",
     "output_type": "stream",
     "text": [
      "WARNING: AstropyDeprecationWarning: astropy.extern.six will be removed in 4.0, use the six module directly if it is still needed [astropy.extern.six]\n"
     ]
    }
   ],
   "source": [
    "from astroquery.ned import Ned\n",
    "from astroquery.simbad import Simbad\n",
    "from astroquery.vizier import Vizier\n",
    "import astropy.units as u\n",
    "from astropy.table import Table, Column"
   ]
  },
  {
   "cell_type": "code",
   "execution_count": 3,
   "metadata": {
    "ExecuteTime": {
     "end_time": "2020-01-30T21:28:31.708098Z",
     "start_time": "2020-01-30T21:28:31.695354Z"
    }
   },
   "outputs": [],
   "source": [
    "sys.path.append(\"./lib\")\n",
    "from alerce_tns import *"
   ]
  },
  {
   "cell_type": "code",
   "execution_count": 4,
   "metadata": {
    "ExecuteTime": {
     "end_time": "2020-01-30T21:28:31.724279Z",
     "start_time": "2020-01-30T21:28:31.709764Z"
    }
   },
   "outputs": [],
   "source": [
    "# continuously load modules (for easier debugging)\n",
    "#%load_ext autoreload\n",
    "#%autoreload 2"
   ]
  },
  {
   "cell_type": "markdown",
   "metadata": {},
   "source": [
    "# Start API"
   ]
  },
  {
   "cell_type": "code",
   "execution_count": 5,
   "metadata": {
    "ExecuteTime": {
     "end_time": "2020-01-30T21:28:32.035545Z",
     "start_time": "2020-01-30T21:28:31.991394Z"
    }
   },
   "outputs": [],
   "source": [
    "alerce = alerce_tns()"
   ]
  },
  {
   "cell_type": "markdown",
   "metadata": {},
   "source": [
    "# Load recent candidates\n",
    "\n",
    "# CHANGE DATE"
   ]
  },
  {
   "cell_type": "code",
   "execution_count": 6,
   "metadata": {
    "ExecuteTime": {
     "end_time": "2020-01-30T21:30:52.233651Z",
     "start_time": "2020-01-30T21:30:52.174783Z"
    }
   },
   "outputs": [
    {
     "name": "stdout",
     "output_type": "stream",
     "text": [
      "['ZTF20aakoeur', 'ZTF20aakodiq', 'ZTF20aaknzsj', 'ZTF20aakbtyz', 'ZTF20aakmbql', 'ZTF20aakocfl', 'ZTF20aakoenh', 'ZTF20aaknyfo'] 8\n"
     ]
    }
   ],
   "source": [
    "refstring = \"20200130\"\n",
    "candidates_dir = \"candidates\"\n",
    "candidates = open(\"%s/%s.csv\" % (candidates_dir, refstring)).read().splitlines()\n",
    "print(candidates, len(candidates))"
   ]
  },
  {
   "cell_type": "markdown",
   "metadata": {},
   "source": [
    "# Select host galaxies using aladin widget"
   ]
  },
  {
   "cell_type": "code",
   "execution_count": 7,
   "metadata": {
    "ExecuteTime": {
     "end_time": "2020-01-30T21:30:58.196847Z",
     "start_time": "2020-01-30T21:30:53.465029Z"
    },
    "scrolled": false
   },
   "outputs": [
    {
     "data": {
      "application/vnd.jupyter.widget-view+json": {
       "model_id": "b95d6190161b476d9b2bcb9f1ee0447c",
       "version_major": 2,
       "version_minor": 0
      },
      "text/plain": [
       "Box(children=(Aladin(fov=0.025, layout=Layout(width='70%'), options=['allow_full_zoomout', 'coo_frame', 'fov',…"
      ]
     },
     "metadata": {},
     "output_type": "display_data"
    },
    {
     "name": "stdout",
     "output_type": "stream",
     "text": [
      "None\r"
     ]
    },
    {
     "data": {
      "application/vnd.jupyter.widget-view+json": {
       "model_id": "6b54e313a6684aafa60f7bc2376138c7",
       "version_major": 2,
       "version_minor": 0
      },
      "text/plain": [
       "Box(children=(Aladin(fov=0.025, layout=Layout(width='70%'), options=['allow_full_zoomout', 'coo_frame', 'fov',…"
      ]
     },
     "metadata": {},
     "output_type": "display_data"
    },
    {
     "name": "stdout",
     "output_type": "stream",
     "text": [
      "None\r"
     ]
    },
    {
     "data": {
      "application/vnd.jupyter.widget-view+json": {
       "model_id": "98fa69b851c94364ba292a321153b5ed",
       "version_major": 2,
       "version_minor": 0
      },
      "text/plain": [
       "Box(children=(Aladin(fov=0.025, layout=Layout(width='70%'), options=['allow_full_zoomout', 'coo_frame', 'fov',…"
      ]
     },
     "metadata": {},
     "output_type": "display_data"
    },
    {
     "name": "stdout",
     "output_type": "stream",
     "text": [
      "None\r"
     ]
    },
    {
     "data": {
      "application/vnd.jupyter.widget-view+json": {
       "model_id": "16578cd2f59042f08772fe312b1d7d1b",
       "version_major": 2,
       "version_minor": 0
      },
      "text/plain": [
       "Box(children=(Aladin(fov=0.025, layout=Layout(width='70%'), options=['allow_full_zoomout', 'coo_frame', 'fov',…"
      ]
     },
     "metadata": {},
     "output_type": "display_data"
    },
    {
     "name": "stdout",
     "output_type": "stream",
     "text": [
      "Cannot connect with Simbad...\n",
      "None\r"
     ]
    },
    {
     "data": {
      "application/vnd.jupyter.widget-view+json": {
       "model_id": "c0486fb8a2f344f4a444243d954be394",
       "version_major": 2,
       "version_minor": 0
      },
      "text/plain": [
       "Box(children=(Aladin(fov=0.025, layout=Layout(width='70%'), options=['allow_full_zoomout', 'coo_frame', 'fov',…"
      ]
     },
     "metadata": {},
     "output_type": "display_data"
    },
    {
     "name": "stderr",
     "output_type": "stream",
     "text": [
      "/home/fforster/anaconda3/lib/python3.6/site-packages/astroquery/simbad/core.py:136: UserWarning: Warning: The script line number 3 raised an error (recorded in the `errors` attribute of the result table): '9:23:32.7094 +22:56:20.054': No astronomical object found :\n",
      "  (error.line, error.msg))\n"
     ]
    },
    {
     "name": "stdout",
     "output_type": "stream",
     "text": [
      "None\r"
     ]
    },
    {
     "data": {
      "application/vnd.jupyter.widget-view+json": {
       "model_id": "1e4c9594b00742f5828d82b02076147f",
       "version_major": 2,
       "version_minor": 0
      },
      "text/plain": [
       "Box(children=(Aladin(fov=0.025, layout=Layout(width='70%'), options=['allow_full_zoomout', 'coo_frame', 'fov',…"
      ]
     },
     "metadata": {},
     "output_type": "display_data"
    },
    {
     "name": "stderr",
     "output_type": "stream",
     "text": [
      "/home/fforster/anaconda3/lib/python3.6/site-packages/astroquery/simbad/core.py:136: UserWarning: Warning: The script line number 3 raised an error (recorded in the `errors` attribute of the result table): '15:24:19.1979 +61:54:30.5928': No astronomical object found :\n",
      "  (error.line, error.msg))\n"
     ]
    },
    {
     "name": "stdout",
     "output_type": "stream",
     "text": [
      "None\r"
     ]
    },
    {
     "data": {
      "application/vnd.jupyter.widget-view+json": {
       "model_id": "7e43bae933f14461a2ba75e9122d61d9",
       "version_major": 2,
       "version_minor": 0
      },
      "text/plain": [
       "Box(children=(Aladin(fov=0.025, layout=Layout(width='70%'), options=['allow_full_zoomout', 'coo_frame', 'fov',…"
      ]
     },
     "metadata": {},
     "output_type": "display_data"
    },
    {
     "name": "stdout",
     "output_type": "stream",
     "text": [
      "None\r"
     ]
    },
    {
     "data": {
      "application/vnd.jupyter.widget-view+json": {
       "model_id": "fe1afcc8eaed442094f2b007c2718c88",
       "version_major": 2,
       "version_minor": 0
      },
      "text/plain": [
       "Box(children=(Aladin(fov=0.025, layout=Layout(width='70%'), options=['allow_full_zoomout', 'coo_frame', 'fov',…"
      ]
     },
     "metadata": {},
     "output_type": "display_data"
    },
    {
     "name": "stderr",
     "output_type": "stream",
     "text": [
      "/home/fforster/anaconda3/lib/python3.6/site-packages/astroquery/simbad/core.py:136: UserWarning: Warning: The script line number 3 raised an error (recorded in the `errors` attribute of the result table): '12:40:44.5753 +60:20:24.9724': No astronomical object found :\n",
      "  (error.line, error.msg))\n"
     ]
    },
    {
     "name": "stdout",
     "output_type": "stream",
     "text": [
      "None\r"
     ]
    }
   ],
   "source": [
    "alerce.select_hosts(candidates, catsHTM=False, vizier=False)"
   ]
  },
  {
   "cell_type": "code",
   "execution_count": 8,
   "metadata": {
    "ExecuteTime": {
     "end_time": "2020-01-30T21:33:02.052757Z",
     "start_time": "2020-01-30T21:33:01.984905Z"
    }
   },
   "outputs": [
    {
     "data": {
      "text/plain": [
       "{'ZTF20aakoeur': 'WISEA J160553.79+382502.3',\n",
       " 'ZTF20aakodiq': 'WISEA J150439.71+355654.5',\n",
       " 'ZTF20aaknzsj': 'NGC 6091',\n",
       " 'ZTF20aakbtyz': 'SDSS J114219.14+445745.5',\n",
       " 'ZTF20aakmbql': 'SDSS J092332.59+225622.0',\n",
       " 'ZTF20aakocfl': 'WISEA J152419.36+615427.4',\n",
       " 'ZTF20aakoenh': 'WISEA J160709.26+693215.8',\n",
       " 'ZTF20aaknyfo': 'SDSS J124044.98+602032.3'}"
      ]
     },
     "execution_count": 8,
     "metadata": {},
     "output_type": "execute_result"
    }
   ],
   "source": [
    "alerce.candidate_host_names"
   ]
  },
  {
   "cell_type": "code",
   "execution_count": 9,
   "metadata": {
    "ExecuteTime": {
     "end_time": "2020-01-30T21:33:02.237371Z",
     "start_time": "2020-01-30T21:33:02.192676Z"
    }
   },
   "outputs": [
    {
     "data": {
      "text/plain": [
       "{'ZTF20aakoeur': 0.286071,\n",
       " 'ZTF20aakodiq': 0.045943,\n",
       " 'ZTF20aaknzsj': 0.022979,\n",
       " 'ZTF20aakbtyz': '0.090',\n",
       " 'ZTF20aakmbql': '0.213',\n",
       " 'ZTF20aakocfl': 'nan',\n",
       " 'ZTF20aakoenh': 'nan',\n",
       " 'ZTF20aaknyfo': '0.120'}"
      ]
     },
     "execution_count": 9,
     "metadata": {},
     "output_type": "execute_result"
    }
   ],
   "source": [
    "alerce.candidate_host_redshifts"
   ]
  },
  {
   "cell_type": "markdown",
   "metadata": {},
   "source": [
    "# Manual modifications"
   ]
  },
  {
   "cell_type": "code",
   "execution_count": 10,
   "metadata": {
    "ExecuteTime": {
     "end_time": "2020-01-30T21:33:02.823558Z",
     "start_time": "2020-01-30T21:33:02.781830Z"
    }
   },
   "outputs": [],
   "source": [
    "#oid = \"ZTF20aakdppm\" #ZTF19acxrihd\"\n",
    "#alerce.candidate_host_names[oid] = \"M31\"\n",
    "#alerce.candidate_host_redshifts[oid] = \"nan\""
   ]
  },
  {
   "cell_type": "markdown",
   "metadata": {},
   "source": [
    "# Clean nans"
   ]
  },
  {
   "cell_type": "code",
   "execution_count": 11,
   "metadata": {
    "ExecuteTime": {
     "end_time": "2020-01-30T21:33:03.557386Z",
     "start_time": "2020-01-30T21:33:03.511821Z"
    }
   },
   "outputs": [],
   "source": [
    "for k in list(alerce.candidate_host_redshifts.keys()):\n",
    "    if alerce.candidate_host_redshifts[k] == \"nan\":\n",
    "        alerce.candidate_host_redshifts.pop(k)"
   ]
  },
  {
   "cell_type": "markdown",
   "metadata": {},
   "source": [
    "# Save hosts"
   ]
  },
  {
   "cell_type": "code",
   "execution_count": 12,
   "metadata": {
    "ExecuteTime": {
     "end_time": "2020-01-30T21:33:04.254497Z",
     "start_time": "2020-01-30T21:33:04.161844Z"
    }
   },
   "outputs": [
    {
     "data": {
      "text/html": [
       "<div>\n",
       "<style scoped>\n",
       "    .dataframe tbody tr th:only-of-type {\n",
       "        vertical-align: middle;\n",
       "    }\n",
       "\n",
       "    .dataframe tbody tr th {\n",
       "        vertical-align: top;\n",
       "    }\n",
       "\n",
       "    .dataframe thead th {\n",
       "        text-align: right;\n",
       "    }\n",
       "</style>\n",
       "<table border=\"1\" class=\"dataframe\">\n",
       "  <thead>\n",
       "    <tr style=\"text-align: right;\">\n",
       "      <th></th>\n",
       "      <th>host_id</th>\n",
       "      <th>z</th>\n",
       "    </tr>\n",
       "    <tr>\n",
       "      <th>oid</th>\n",
       "      <th></th>\n",
       "      <th></th>\n",
       "    </tr>\n",
       "  </thead>\n",
       "  <tbody>\n",
       "    <tr>\n",
       "      <th>ZTF20aakoeur</th>\n",
       "      <td>WISEA J160553.79+382502.3</td>\n",
       "      <td>0.286071</td>\n",
       "    </tr>\n",
       "    <tr>\n",
       "      <th>ZTF20aakodiq</th>\n",
       "      <td>WISEA J150439.71+355654.5</td>\n",
       "      <td>0.045943</td>\n",
       "    </tr>\n",
       "    <tr>\n",
       "      <th>ZTF20aaknzsj</th>\n",
       "      <td>NGC 6091</td>\n",
       "      <td>0.022979</td>\n",
       "    </tr>\n",
       "    <tr>\n",
       "      <th>ZTF20aakbtyz</th>\n",
       "      <td>SDSS J114219.14+445745.5</td>\n",
       "      <td>0.090</td>\n",
       "    </tr>\n",
       "    <tr>\n",
       "      <th>ZTF20aakmbql</th>\n",
       "      <td>SDSS J092332.59+225622.0</td>\n",
       "      <td>0.213</td>\n",
       "    </tr>\n",
       "    <tr>\n",
       "      <th>ZTF20aakocfl</th>\n",
       "      <td>WISEA J152419.36+615427.4</td>\n",
       "      <td>NaN</td>\n",
       "    </tr>\n",
       "    <tr>\n",
       "      <th>ZTF20aakoenh</th>\n",
       "      <td>WISEA J160709.26+693215.8</td>\n",
       "      <td>NaN</td>\n",
       "    </tr>\n",
       "    <tr>\n",
       "      <th>ZTF20aaknyfo</th>\n",
       "      <td>SDSS J124044.98+602032.3</td>\n",
       "      <td>0.120</td>\n",
       "    </tr>\n",
       "    <tr>\n",
       "      <th>ZTF20aakdppm</th>\n",
       "      <td>M31</td>\n",
       "      <td>NaN</td>\n",
       "    </tr>\n",
       "  </tbody>\n",
       "</table>\n",
       "</div>"
      ],
      "text/plain": [
       "                                host_id         z\n",
       "oid                                              \n",
       "ZTF20aakoeur  WISEA J160553.79+382502.3  0.286071\n",
       "ZTF20aakodiq  WISEA J150439.71+355654.5  0.045943\n",
       "ZTF20aaknzsj                   NGC 6091  0.022979\n",
       "ZTF20aakbtyz   SDSS J114219.14+445745.5     0.090\n",
       "ZTF20aakmbql   SDSS J092332.59+225622.0     0.213\n",
       "ZTF20aakocfl  WISEA J152419.36+615427.4       NaN\n",
       "ZTF20aakoenh  WISEA J160709.26+693215.8       NaN\n",
       "ZTF20aaknyfo   SDSS J124044.98+602032.3     0.120\n",
       "ZTF20aakdppm                        M31       NaN"
      ]
     },
     "execution_count": 12,
     "metadata": {},
     "output_type": "execute_result"
    }
   ],
   "source": [
    "df_host_names = pd.DataFrame.from_dict(alerce.candidate_host_names, orient='index', columns=[\"host_id\"])\n",
    "df_host_names.index.name='oid'\n",
    "df_host_redshifts = pd.DataFrame.from_dict(alerce.candidate_host_redshifts, orient='index', columns=[\"z\"])\n",
    "df_host_redshifts.index.name='oid'\n",
    "df_hosts = df_host_names.join(df_host_redshifts)\n",
    "df_hosts.to_csv(\"candidates/%s_hosts.csv\" % refstring)\n",
    "df_hosts.head(100)"
   ]
  },
  {
   "cell_type": "markdown",
   "metadata": {},
   "source": [
    "# Display host galaxy properties"
   ]
  },
  {
   "cell_type": "code",
   "execution_count": 13,
   "metadata": {
    "ExecuteTime": {
     "end_time": "2020-01-30T21:33:05.916256Z",
     "start_time": "2020-01-30T21:33:05.843408Z"
    }
   },
   "outputs": [
    {
     "name": "stdout",
     "output_type": "stream",
     "text": [
      "ZTF20aakoeur WISEA J160553.79+382502.3 0.286071\n",
      "ZTF20aakodiq WISEA J150439.71+355654.5 0.045943\n",
      "ZTF20aaknzsj NGC 6091 0.022979\n",
      "ZTF20aakbtyz SDSS J114219.14+445745.5 0.090\n",
      "ZTF20aakmbql SDSS J092332.59+225622.0 0.213\n",
      "ZTF20aakocfl WISEA J152419.36+615427.4\n",
      "ZTF20aakoenh WISEA J160709.26+693215.8\n",
      "ZTF20aaknyfo SDSS J124044.98+602032.3 0.120\n"
     ]
    }
   ],
   "source": [
    "for oid in candidates:\n",
    "    if oid in alerce.candidate_host_redshifts.keys():\n",
    "        print(oid, alerce.candidate_host_names[oid], alerce.candidate_host_redshifts[oid])\n",
    "    elif oid in alerce.candidate_host_names.keys():\n",
    "        print(oid, alerce.candidate_host_names[oid])\n",
    "    else:\n",
    "        alerce.candidate_host_names[oid] = \"\"\n",
    "        alerce.candidate_host_redshifts[oid] = \"\"\n",
    "        print(oid)"
   ]
  },
  {
   "cell_type": "markdown",
   "metadata": {},
   "source": [
    "# Sandbox or real"
   ]
  },
  {
   "cell_type": "code",
   "execution_count": 14,
   "metadata": {
    "ExecuteTime": {
     "end_time": "2020-01-30T21:33:07.305262Z",
     "start_time": "2020-01-30T21:33:07.260577Z"
    }
   },
   "outputs": [],
   "source": [
    "sandbox = False # True: test in sandbox, False: send to real website"
   ]
  },
  {
   "cell_type": "markdown",
   "metadata": {},
   "source": [
    "# Get API key and url"
   ]
  },
  {
   "cell_type": "code",
   "execution_count": 15,
   "metadata": {
    "ExecuteTime": {
     "end_time": "2020-01-30T21:33:09.400445Z",
     "start_time": "2020-01-30T21:33:09.344269Z"
    },
    "scrolled": true
   },
   "outputs": [
    {
     "name": "stdout",
     "output_type": "stream",
     "text": [
      "Getting API key...\n",
      "WARNING: submitting to real (not sandbox) TNS website\n"
     ]
    }
   ],
   "source": [
    "if sandbox:\n",
    "    print(\"Getting API sandbox key...\")\n",
    "    api_key = open(\"API_sandbox.key\", \"r\").read()\n",
    "else:\n",
    "    print(\"Getting API key...\")\n",
    "    api_key = open(\"API.key\", \"r\").read()\n",
    "    \n",
    "if sandbox:\n",
    "    url_tns_api=\"https://sandbox-tns.weizmann.ac.il/api\"\n",
    "else:\n",
    "    url_tns_api=\"https://wis-tns.weizmann.ac.il/api\"\n",
    "    \n",
    "if not sandbox:\n",
    "    print(\"WARNING: submitting to real (not sandbox) TNS website\")"
   ]
  },
  {
   "cell_type": "markdown",
   "metadata": {},
   "source": [
    "# Prepare TNS report\n",
    "\n",
    "# CHECK AUTHOR LIST!!!\n",
    "(key is used to query only at this step)"
   ]
  },
  {
   "cell_type": "code",
   "execution_count": 16,
   "metadata": {
    "ExecuteTime": {
     "end_time": "2020-01-30T21:34:04.843301Z",
     "start_time": "2020-01-30T21:33:23.865457Z"
    },
    "scrolled": false
   },
   "outputs": [
    {
     "name": "stdout",
     "output_type": "stream",
     "text": [
      "\n",
      " 0 ZTF20aakoeur\n",
      "http://alerce.online/object/ZTF20aakoeur\n"
     ]
    },
    {
     "data": {
      "text/html": [
       "\n",
       "        <div>ZTF oid: ZTF20aakoeur, candid: 1124555971215015000</div>\n",
       "        <div>&emsp;&emsp;&emsp;&emsp;&emsp;\n",
       "        Science\n",
       "        &emsp;&emsp;&emsp;&emsp;&emsp;&emsp;&emsp;&emsp;&emsp;&emsp;&emsp;&emsp;\n",
       "        Template\n",
       "        &emsp;&emsp;&emsp;&emsp;&emsp;&emsp;&emsp;&emsp;&emsp;&emsp;&emsp;&emsp;\n",
       "        Difference\n",
       "        <div class=\"container\">\n",
       "        <div style=\"float:left;width:20%\"><img src=\"http://avro.alerce.online/get_stamp?oid=ZTF20aakoeur&candid=1124555971215015000&type=science&format=png\"></div>\n",
       "        <div style=\"float:left;width:20%\"><img src=\"http://avro.alerce.online/get_stamp?oid=ZTF20aakoeur&candid=1124555971215015000&type=template&format=png\"></div>\n",
       "        <div style=\"float:left;width:20%\"><img src=\"http://avro.alerce.online/get_stamp?oid=ZTF20aakoeur&candid=1124555971215015000&type=difference&format=png\"></div>\n",
       "        </div>\n",
       "        "
      ],
      "text/plain": [
       "<IPython.core.display.HTML object>"
      ]
     },
     "metadata": {},
     "output_type": "display_data"
    },
    {
     "name": "stdout",
     "output_type": "stream",
     "text": [
      "Early SN candidate (r-rise > 0.11+-0.03 mag/day) classified by ALeRCE using the public ZTF stream. Discovery image and light curve in http://alerce.online/object/ZTF20aakoeur \n",
      "Astronomical transient is known: [{'objname': '2020bkt', 'prefix': 'AT'}] \n",
      "\n",
      "\n",
      " 0 ZTF20aakodiq\n",
      "http://alerce.online/object/ZTF20aakodiq\n"
     ]
    },
    {
     "data": {
      "text/html": [
       "\n",
       "        <div>ZTF oid: ZTF20aakodiq, candid: 1124539565815015008</div>\n",
       "        <div>&emsp;&emsp;&emsp;&emsp;&emsp;\n",
       "        Science\n",
       "        &emsp;&emsp;&emsp;&emsp;&emsp;&emsp;&emsp;&emsp;&emsp;&emsp;&emsp;&emsp;\n",
       "        Template\n",
       "        &emsp;&emsp;&emsp;&emsp;&emsp;&emsp;&emsp;&emsp;&emsp;&emsp;&emsp;&emsp;\n",
       "        Difference\n",
       "        <div class=\"container\">\n",
       "        <div style=\"float:left;width:20%\"><img src=\"http://avro.alerce.online/get_stamp?oid=ZTF20aakodiq&candid=1124539565815015008&type=science&format=png\"></div>\n",
       "        <div style=\"float:left;width:20%\"><img src=\"http://avro.alerce.online/get_stamp?oid=ZTF20aakodiq&candid=1124539565815015008&type=template&format=png\"></div>\n",
       "        <div style=\"float:left;width:20%\"><img src=\"http://avro.alerce.online/get_stamp?oid=ZTF20aakodiq&candid=1124539565815015008&type=difference&format=png\"></div>\n",
       "        </div>\n",
       "        "
      ],
      "text/plain": [
       "<IPython.core.display.HTML object>"
      ]
     },
     "metadata": {},
     "output_type": "display_data"
    },
    {
     "name": "stdout",
     "output_type": "stream",
     "text": [
      "Early SN candidate (g-rise > 0.18+-0.06 mag/day, r-rise > 0.14+-0.06 mag/day) classified by ALeRCE using the public ZTF stream. Discovery image and light curve in http://alerce.online/object/ZTF20aakodiq \n",
      "\n",
      " 1 ZTF20aaknzsj\n",
      "http://alerce.online/object/ZTF20aaknzsj\n"
     ]
    },
    {
     "data": {
      "text/html": [
       "\n",
       "        <div>ZTF oid: ZTF20aaknzsj, candid: 1124508723515015006</div>\n",
       "        <div>&emsp;&emsp;&emsp;&emsp;&emsp;\n",
       "        Science\n",
       "        &emsp;&emsp;&emsp;&emsp;&emsp;&emsp;&emsp;&emsp;&emsp;&emsp;&emsp;&emsp;\n",
       "        Template\n",
       "        &emsp;&emsp;&emsp;&emsp;&emsp;&emsp;&emsp;&emsp;&emsp;&emsp;&emsp;&emsp;\n",
       "        Difference\n",
       "        <div class=\"container\">\n",
       "        <div style=\"float:left;width:20%\"><img src=\"http://avro.alerce.online/get_stamp?oid=ZTF20aaknzsj&candid=1124508723515015006&type=science&format=png\"></div>\n",
       "        <div style=\"float:left;width:20%\"><img src=\"http://avro.alerce.online/get_stamp?oid=ZTF20aaknzsj&candid=1124508723515015006&type=template&format=png\"></div>\n",
       "        <div style=\"float:left;width:20%\"><img src=\"http://avro.alerce.online/get_stamp?oid=ZTF20aaknzsj&candid=1124508723515015006&type=difference&format=png\"></div>\n",
       "        </div>\n",
       "        "
      ],
      "text/plain": [
       "<IPython.core.display.HTML object>"
      ]
     },
     "metadata": {},
     "output_type": "display_data"
    },
    {
     "name": "stdout",
     "output_type": "stream",
     "text": [
      "Early SN candidate (g-rise > 0.68+-0.07 mag/day) classified by ALeRCE using the public ZTF stream. Discovery image and light curve in http://alerce.online/object/ZTF20aaknzsj \n",
      "\n",
      " 2 ZTF20aakbtyz\n",
      "http://alerce.online/object/ZTF20aakbtyz\n"
     ]
    },
    {
     "data": {
      "text/html": [
       "\n",
       "        <div>ZTF oid: ZTF20aakbtyz, candid: 1124387120815015012</div>\n",
       "        <div>&emsp;&emsp;&emsp;&emsp;&emsp;\n",
       "        Science\n",
       "        &emsp;&emsp;&emsp;&emsp;&emsp;&emsp;&emsp;&emsp;&emsp;&emsp;&emsp;&emsp;\n",
       "        Template\n",
       "        &emsp;&emsp;&emsp;&emsp;&emsp;&emsp;&emsp;&emsp;&emsp;&emsp;&emsp;&emsp;\n",
       "        Difference\n",
       "        <div class=\"container\">\n",
       "        <div style=\"float:left;width:20%\"><img src=\"http://avro.alerce.online/get_stamp?oid=ZTF20aakbtyz&candid=1124387120815015012&type=science&format=png\"></div>\n",
       "        <div style=\"float:left;width:20%\"><img src=\"http://avro.alerce.online/get_stamp?oid=ZTF20aakbtyz&candid=1124387120815015012&type=template&format=png\"></div>\n",
       "        <div style=\"float:left;width:20%\"><img src=\"http://avro.alerce.online/get_stamp?oid=ZTF20aakbtyz&candid=1124387120815015012&type=difference&format=png\"></div>\n",
       "        </div>\n",
       "        "
      ],
      "text/plain": [
       "<IPython.core.display.HTML object>"
      ]
     },
     "metadata": {},
     "output_type": "display_data"
    },
    {
     "name": "stdout",
     "output_type": "stream",
     "text": [
      "Early SN candidate (g-rise > 0.18+-0.02 mag/day) classified by ALeRCE using the public ZTF stream. Discovery image and light curve in http://alerce.online/object/ZTF20aakbtyz \n",
      "Astronomical transient is known: [{'objname': '2020bjg', 'prefix': 'AT'}] \n",
      "\n",
      "\n",
      " 2 ZTF20aakmbql\n",
      "http://alerce.online/object/ZTF20aakmbql\n"
     ]
    },
    {
     "data": {
      "text/html": [
       "\n",
       "        <div>ZTF oid: ZTF20aakmbql, candid: 1124299641515015007</div>\n",
       "        <div>&emsp;&emsp;&emsp;&emsp;&emsp;\n",
       "        Science\n",
       "        &emsp;&emsp;&emsp;&emsp;&emsp;&emsp;&emsp;&emsp;&emsp;&emsp;&emsp;&emsp;\n",
       "        Template\n",
       "        &emsp;&emsp;&emsp;&emsp;&emsp;&emsp;&emsp;&emsp;&emsp;&emsp;&emsp;&emsp;\n",
       "        Difference\n",
       "        <div class=\"container\">\n",
       "        <div style=\"float:left;width:20%\"><img src=\"http://avro.alerce.online/get_stamp?oid=ZTF20aakmbql&candid=1124299641515015007&type=science&format=png\"></div>\n",
       "        <div style=\"float:left;width:20%\"><img src=\"http://avro.alerce.online/get_stamp?oid=ZTF20aakmbql&candid=1124299641515015007&type=template&format=png\"></div>\n",
       "        <div style=\"float:left;width:20%\"><img src=\"http://avro.alerce.online/get_stamp?oid=ZTF20aakmbql&candid=1124299641515015007&type=difference&format=png\"></div>\n",
       "        </div>\n",
       "        "
      ],
      "text/plain": [
       "<IPython.core.display.HTML object>"
      ]
     },
     "metadata": {},
     "output_type": "display_data"
    },
    {
     "name": "stdout",
     "output_type": "stream",
     "text": [
      "Early SN candidate (r-rise > 0.14+-0.05 mag/day) classified by ALeRCE using the public ZTF stream. Discovery image and light curve in http://alerce.online/object/ZTF20aakmbql \n",
      "\n",
      " 3 ZTF20aakocfl\n",
      "http://alerce.online/object/ZTF20aakocfl\n"
     ]
    },
    {
     "data": {
      "text/html": [
       "\n",
       "        <div>ZTF oid: ZTF20aakocfl, candid: 1124529622515015002</div>\n",
       "        <div>&emsp;&emsp;&emsp;&emsp;&emsp;\n",
       "        Science\n",
       "        &emsp;&emsp;&emsp;&emsp;&emsp;&emsp;&emsp;&emsp;&emsp;&emsp;&emsp;&emsp;\n",
       "        Template\n",
       "        &emsp;&emsp;&emsp;&emsp;&emsp;&emsp;&emsp;&emsp;&emsp;&emsp;&emsp;&emsp;\n",
       "        Difference\n",
       "        <div class=\"container\">\n",
       "        <div style=\"float:left;width:20%\"><img src=\"http://avro.alerce.online/get_stamp?oid=ZTF20aakocfl&candid=1124529622515015002&type=science&format=png\"></div>\n",
       "        <div style=\"float:left;width:20%\"><img src=\"http://avro.alerce.online/get_stamp?oid=ZTF20aakocfl&candid=1124529622515015002&type=template&format=png\"></div>\n",
       "        <div style=\"float:left;width:20%\"><img src=\"http://avro.alerce.online/get_stamp?oid=ZTF20aakocfl&candid=1124529622515015002&type=difference&format=png\"></div>\n",
       "        </div>\n",
       "        "
      ],
      "text/plain": [
       "<IPython.core.display.HTML object>"
      ]
     },
     "metadata": {},
     "output_type": "display_data"
    },
    {
     "name": "stdout",
     "output_type": "stream",
     "text": [
      "Early SN candidate (g-rise > 0.20+-0.10 mag/day) classified by ALeRCE using the public ZTF stream. Discovery image and light curve in http://alerce.online/object/ZTF20aakocfl \n",
      "\n",
      " 4 ZTF20aakoenh\n",
      "http://alerce.online/object/ZTF20aakoenh\n"
     ]
    },
    {
     "data": {
      "text/html": [
       "\n",
       "        <div>ZTF oid: ZTF20aakoenh, candid: 1124508723515015019</div>\n",
       "        <div>&emsp;&emsp;&emsp;&emsp;&emsp;\n",
       "        Science\n",
       "        &emsp;&emsp;&emsp;&emsp;&emsp;&emsp;&emsp;&emsp;&emsp;&emsp;&emsp;&emsp;\n",
       "        Template\n",
       "        &emsp;&emsp;&emsp;&emsp;&emsp;&emsp;&emsp;&emsp;&emsp;&emsp;&emsp;&emsp;\n",
       "        Difference\n",
       "        <div class=\"container\">\n",
       "        <div style=\"float:left;width:20%\"><img src=\"http://avro.alerce.online/get_stamp?oid=ZTF20aakoenh&candid=1124508723515015019&type=science&format=png\"></div>\n",
       "        <div style=\"float:left;width:20%\"><img src=\"http://avro.alerce.online/get_stamp?oid=ZTF20aakoenh&candid=1124508723515015019&type=template&format=png\"></div>\n",
       "        <div style=\"float:left;width:20%\"><img src=\"http://avro.alerce.online/get_stamp?oid=ZTF20aakoenh&candid=1124508723515015019&type=difference&format=png\"></div>\n",
       "        </div>\n",
       "        "
      ],
      "text/plain": [
       "<IPython.core.display.HTML object>"
      ]
     },
     "metadata": {},
     "output_type": "display_data"
    },
    {
     "name": "stdout",
     "output_type": "stream",
     "text": [
      "Early SN candidate (g-rise > 0.23+-0.16 mag/day, r-rise > 0.40+-0.11 mag/day) classified by ALeRCE using the public ZTF stream. Discovery image and light curve in http://alerce.online/object/ZTF20aakoenh \n",
      "\n",
      " 5 ZTF20aaknyfo\n",
      "http://alerce.online/object/ZTF20aaknyfo\n"
     ]
    },
    {
     "data": {
      "text/html": [
       "\n",
       "        <div>ZTF oid: ZTF20aaknyfo, candid: 1124496262615015016</div>\n",
       "        <div>&emsp;&emsp;&emsp;&emsp;&emsp;\n",
       "        Science\n",
       "        &emsp;&emsp;&emsp;&emsp;&emsp;&emsp;&emsp;&emsp;&emsp;&emsp;&emsp;&emsp;\n",
       "        Template\n",
       "        &emsp;&emsp;&emsp;&emsp;&emsp;&emsp;&emsp;&emsp;&emsp;&emsp;&emsp;&emsp;\n",
       "        Difference\n",
       "        <div class=\"container\">\n",
       "        <div style=\"float:left;width:20%\"><img src=\"http://avro.alerce.online/get_stamp?oid=ZTF20aaknyfo&candid=1124496262615015016&type=science&format=png\"></div>\n",
       "        <div style=\"float:left;width:20%\"><img src=\"http://avro.alerce.online/get_stamp?oid=ZTF20aaknyfo&candid=1124496262615015016&type=template&format=png\"></div>\n",
       "        <div style=\"float:left;width:20%\"><img src=\"http://avro.alerce.online/get_stamp?oid=ZTF20aaknyfo&candid=1124496262615015016&type=difference&format=png\"></div>\n",
       "        </div>\n",
       "        "
      ],
      "text/plain": [
       "<IPython.core.display.HTML object>"
      ]
     },
     "metadata": {},
     "output_type": "display_data"
    },
    {
     "name": "stdout",
     "output_type": "stream",
     "text": [
      "WARNING: dt = 0.00090 days\n",
      "Early SN candidate (g-rise > 1.00 mag/day) classified by ALeRCE using the public ZTF stream. Discovery image and light curve in http://alerce.online/object/ZTF20aaknyfo \n"
     ]
    }
   ],
   "source": [
    "reporter = \"G. Pignata, F.E. Bauer, F. Forster, J. Arredondo, G. Cabrera-Vives, R. Carrasco-Davis, P.A. Estevez, P. Huijse, E. Reyes, I. Reyes, P. Sanchez-Saez, C. Valenzuela, E. Castillo, D. Ruz-Mieres, D. Rodriguez-Mancini, F.E. Bauer, M. Catelan, S. Eyheramendy, M.J. Graham on behalf of the ALeRCE broker\"\n",
    "report = {\"at_report\": {}}\n",
    "counter = 0\n",
    "for oid in candidates:\n",
    "    #if oid not in test:#[\"ZTF19acgjpfd\", \"ZTF18acszatf\", \"ZTF18acrkmnm\"]:\n",
    "    #    continue\n",
    "    #if oid == \"ZTF18aamtgd\": #ZTF19acymtgr\": #ZTF19acnqqhl\":#in [\"ZTF19acmdwjy\", \"ZTF19acmdwjz\"]:\n",
    "    #    continue\n",
    "    #if oid == \"ZTF20aahofsn\":\n",
    "    #    continue\n",
    "    print(\"\\n\", counter, oid)\n",
    "    sn_report = alerce.do_TNS_report(api_key, oid, reporter, verbose=False, test=False)\n",
    "    if sn_report:\n",
    "        report[\"at_report\"][\"%i\" % counter] = sn_report\n",
    "        counter += 1\n"
   ]
  },
  {
   "cell_type": "markdown",
   "metadata": {},
   "source": [
    "# Manual modifications"
   ]
  },
  {
   "cell_type": "code",
   "execution_count": 17,
   "metadata": {
    "ExecuteTime": {
     "end_time": "2020-01-27T22:50:26.261340Z",
     "start_time": "2020-01-27T22:50:26.211769Z"
    }
   },
   "outputs": [],
   "source": [
    "#report['at_report']['3']['remarks'] = 'Nova candidate in M31 (g-rise > 0.16+-0.01 mag/day, r-rise > 0.24+-0.01 mag/day) classified by ALeRCE using the public ZTF stream. Discovery image and light curve in http://alerce.online/object/ZTF19acxrihd '"
   ]
  },
  {
   "cell_type": "markdown",
   "metadata": {},
   "source": [
    "# Display report"
   ]
  },
  {
   "cell_type": "code",
   "execution_count": 18,
   "metadata": {
    "ExecuteTime": {
     "end_time": "2020-01-27T22:50:27.331084Z",
     "start_time": "2020-01-27T22:50:27.278286Z"
    },
    "scrolled": true
   },
   "outputs": [
    {
     "name": "stdout",
     "output_type": "stream",
     "text": [
      "{\n",
      "    \"at_report\": {\n",
      "        \"0\": {\n",
      "            \"at_type\": \"1\",\n",
      "            \"dec\": {\n",
      "                \"error\": \"0.09\",\n",
      "                \"units\": \"arcsec\",\n",
      "                \"value\": \"24.0622016\"\n",
      "            },\n",
      "            \"discovery_data_source_id\": \"48\",\n",
      "            \"discovery_datetime\": \"2020-01-27 11:56:06.003\",\n",
      "            \"host_name\": \"SDSS J143816.31+240341.8\",\n",
      "            \"host_redshift\": \"0.109\",\n",
      "            \"internal_name\": \"ZTF20aajcpyy\",\n",
      "            \"non_detection\": {\n",
      "                \"comments\": \"Data provided by ZTF\",\n",
      "                \"exptime\": \"30\",\n",
      "                \"filter_value\": \"111\",\n",
      "                \"flux_units\": \"1\",\n",
      "                \"instrument_value\": \"196\",\n",
      "                \"limiting_flux\": \"20.2996006011963\",\n",
      "                \"obsdate\": \"2020-01-24 13:27:09.999\",\n",
      "                \"observer\": \"Robot\"\n",
      "            },\n",
      "            \"photometry\": {\n",
      "                \"photometry_group\": {\n",
      "                    \"0\": {\n",
      "                        \"comments\": \"Data provided by ZTF\",\n",
      "                        \"exptime\": \"30\",\n",
      "                        \"filter_value\": \"110\",\n",
      "                        \"flux\": \"20.6762008666992\",\n",
      "                        \"flux_error\": \"0.238398998975754\",\n",
      "                        \"flux_units\": \"1\",\n",
      "                        \"instrument_value\": \"196\",\n",
      "                        \"limiting_flux\": \"20.6784000396729\",\n",
      "                        \"obsdate\": \"2020-01-27 11:56:06.003\",\n",
      "                        \"observer\": \"Robot\"\n",
      "                    },\n",
      "                    \"1\": {\n",
      "                        \"comments\": \"Data provided by ZTF\",\n",
      "                        \"exptime\": \"30\",\n",
      "                        \"filter_value\": \"111\",\n",
      "                        \"flux\": \"20.2991981506348\",\n",
      "                        \"flux_error\": \"0.211517319083214\",\n",
      "                        \"flux_units\": \"1\",\n",
      "                        \"instrument_value\": \"196\",\n",
      "                        \"limiting_flux\": \"20.4572639465332\",\n",
      "                        \"obsdate\": \"2020-01-27 12:37:44.000\",\n",
      "                        \"observer\": \"Robot\"\n",
      "                    }\n",
      "                }\n",
      "            },\n",
      "            \"ra\": {\n",
      "                \"error\": \"0.09\",\n",
      "                \"units\": \"arcsec\",\n",
      "                \"value\": \"219.5676203\"\n",
      "            },\n",
      "            \"remarks\": \"SN candidate classified by ALeRCE using the public ZTF stream. Discovery image and light curve in http://alerce.online/object/ZTF20aajcpyy \",\n",
      "            \"reporter\": \"F. Forster, G. Pignata, F.E. Bauer, J. Arredondo, G. Cabrera-Vives, R. Carrasco-Davis, P.A. Estevez, P. Huijse, E. Reyes, I. Reyes, P. Sanchez-Saez, C. Valenzuela, E. Castillo, D. Ruz-Mieres, D. Rodriguez-Mancini, F.E. Bauer, M. Catelan, S. Eyheramendy, M.J. Graham on behalf of the ALeRCE broker\",\n",
      "            \"reporting_group_id\": \"74\"\n",
      "        },\n",
      "        \"1\": {\n",
      "            \"at_type\": \"1\",\n",
      "            \"dec\": {\n",
      "                \"error\": \"0.09\",\n",
      "                \"units\": \"arcsec\",\n",
      "                \"value\": \"57.7421119\"\n",
      "            },\n",
      "            \"discovery_data_source_id\": \"48\",\n",
      "            \"discovery_datetime\": \"2020-01-27 11:50:07.002\",\n",
      "            \"host_name\": \"SDSS J150137.00+574431.4\",\n",
      "            \"host_redshift\": \"0.160\",\n",
      "            \"internal_name\": \"ZTF20aajcgra\",\n",
      "            \"non_detection\": {\n",
      "                \"comments\": \"Data provided by ZTF\",\n",
      "                \"exptime\": \"30\",\n",
      "                \"filter_value\": \"111\",\n",
      "                \"flux_units\": \"1\",\n",
      "                \"instrument_value\": \"196\",\n",
      "                \"limiting_flux\": \"20.3442001342773\",\n",
      "                \"obsdate\": \"2020-01-24 13:16:28.004\",\n",
      "                \"observer\": \"Robot\"\n",
      "            },\n",
      "            \"photometry\": {\n",
      "                \"photometry_group\": {\n",
      "                    \"0\": {\n",
      "                        \"comments\": \"Data provided by ZTF\",\n",
      "                        \"exptime\": \"30\",\n",
      "                        \"filter_value\": \"110\",\n",
      "                        \"flux\": \"20.2452640533447\",\n",
      "                        \"flux_error\": \"0.197956874966621\",\n",
      "                        \"flux_units\": \"1\",\n",
      "                        \"instrument_value\": \"196\",\n",
      "                        \"limiting_flux\": \"20.4683494567871\",\n",
      "                        \"obsdate\": \"2020-01-27 11:50:07.002\",\n",
      "                        \"observer\": \"Robot\"\n",
      "                    }\n",
      "                }\n",
      "            },\n",
      "            \"ra\": {\n",
      "                \"error\": \"0.09\",\n",
      "                \"units\": \"arcsec\",\n",
      "                \"value\": \"225.4045219\"\n",
      "            },\n",
      "            \"remarks\": \"SN candidate classified by ALeRCE using the public ZTF stream. Discovery image and light curve in http://alerce.online/object/ZTF20aajcgra \",\n",
      "            \"reporter\": \"F. Forster, G. Pignata, F.E. Bauer, J. Arredondo, G. Cabrera-Vives, R. Carrasco-Davis, P.A. Estevez, P. Huijse, E. Reyes, I. Reyes, P. Sanchez-Saez, C. Valenzuela, E. Castillo, D. Ruz-Mieres, D. Rodriguez-Mancini, F.E. Bauer, M. Catelan, S. Eyheramendy, M.J. Graham on behalf of the ALeRCE broker\",\n",
      "            \"reporting_group_id\": \"74\"\n",
      "        },\n",
      "        \"10\": {\n",
      "            \"at_type\": \"1\",\n",
      "            \"dec\": {\n",
      "                \"error\": \"0.09\",\n",
      "                \"units\": \"arcsec\",\n",
      "                \"value\": \"27.1527588\"\n",
      "            },\n",
      "            \"discovery_data_source_id\": \"48\",\n",
      "            \"discovery_datetime\": \"2020-01-27 07:12:20.002\",\n",
      "            \"host_name\": \"KUG 0941+273\",\n",
      "            \"host_redshift\": \"0.033272\",\n",
      "            \"internal_name\": \"ZTF20aajanhd\",\n",
      "            \"non_detection\": {\n",
      "                \"comments\": \"Data provided by ZTF\",\n",
      "                \"exptime\": \"30\",\n",
      "                \"filter_value\": \"110\",\n",
      "                \"flux_units\": \"1\",\n",
      "                \"instrument_value\": \"196\",\n",
      "                \"limiting_flux\": \"20.9570007324219\",\n",
      "                \"obsdate\": \"2020-01-26 08:28:36.998\",\n",
      "                \"observer\": \"Robot\"\n",
      "            },\n",
      "            \"photometry\": {\n",
      "                \"photometry_group\": {\n",
      "                    \"0\": {\n",
      "                        \"comments\": \"Data provided by ZTF\",\n",
      "                        \"exptime\": \"30\",\n",
      "                        \"filter_value\": \"111\",\n",
      "                        \"flux\": \"19.3697471618652\",\n",
      "                        \"flux_error\": \"0.105547860264778\",\n",
      "                        \"flux_units\": \"1\",\n",
      "                        \"instrument_value\": \"196\",\n",
      "                        \"limiting_flux\": \"20.5341033935547\",\n",
      "                        \"obsdate\": \"2020-01-27 07:12:20.002\",\n",
      "                        \"observer\": \"Robot\"\n",
      "                    }\n",
      "                }\n",
      "            },\n",
      "            \"ra\": {\n",
      "                \"error\": \"0.09\",\n",
      "                \"units\": \"arcsec\",\n",
      "                \"value\": \"146.1437293\"\n",
      "            },\n",
      "            \"remarks\": \"Early SN candidate (r-rise > 1.44+-0.11 mag/day) classified by ALeRCE using the public ZTF stream. Discovery image and light curve in http://alerce.online/object/ZTF20aajanhd \",\n",
      "            \"reporter\": \"F. Forster, G. Pignata, F.E. Bauer, J. Arredondo, G. Cabrera-Vives, R. Carrasco-Davis, P.A. Estevez, P. Huijse, E. Reyes, I. Reyes, P. Sanchez-Saez, C. Valenzuela, E. Castillo, D. Ruz-Mieres, D. Rodriguez-Mancini, F.E. Bauer, M. Catelan, S. Eyheramendy, M.J. Graham on behalf of the ALeRCE broker\",\n",
      "            \"reporting_group_id\": \"74\"\n",
      "        },\n",
      "        \"11\": {\n",
      "            \"at_type\": \"1\",\n",
      "            \"dec\": {\n",
      "                \"error\": \"0.09\",\n",
      "                \"units\": \"arcsec\",\n",
      "                \"value\": \"60.4458756\"\n",
      "            },\n",
      "            \"discovery_data_source_id\": \"48\",\n",
      "            \"discovery_datetime\": \"2020-01-27 11:48:00.003\",\n",
      "            \"host_name\": \"SDSS J142924.31+602646.7\",\n",
      "            \"host_redshift\": \"0.278\",\n",
      "            \"internal_name\": \"ZTF20aajcgeu\",\n",
      "            \"non_detection\": {\n",
      "                \"comments\": \"Data provided by ZTF\",\n",
      "                \"exptime\": \"30\",\n",
      "                \"filter_value\": \"111\",\n",
      "                \"flux_units\": \"1\",\n",
      "                \"instrument_value\": \"196\",\n",
      "                \"limiting_flux\": \"20.5156002044678\",\n",
      "                \"obsdate\": \"2020-01-25 12:22:36.998\",\n",
      "                \"observer\": \"Robot\"\n",
      "            },\n",
      "            \"photometry\": {\n",
      "                \"photometry_group\": {\n",
      "                    \"0\": {\n",
      "                        \"comments\": \"Data provided by ZTF\",\n",
      "                        \"exptime\": \"30\",\n",
      "                        \"filter_value\": \"110\",\n",
      "                        \"flux\": \"20.0423107147217\",\n",
      "                        \"flux_error\": \"0.196906924247742\",\n",
      "                        \"flux_units\": \"1\",\n",
      "                        \"instrument_value\": \"196\",\n",
      "                        \"limiting_flux\": \"20.587085723877\",\n",
      "                        \"obsdate\": \"2020-01-27 11:48:00.003\",\n",
      "                        \"observer\": \"Robot\"\n",
      "                    }\n",
      "                }\n",
      "            },\n",
      "            \"ra\": {\n",
      "                \"error\": \"0.09\",\n",
      "                \"units\": \"arcsec\",\n",
      "                \"value\": \"217.3526091\"\n",
      "            },\n",
      "            \"remarks\": \"Early SN candidate (g-rise > 0.26+-0.09 mag/day) classified by ALeRCE using the public ZTF stream. Discovery image and light curve in http://alerce.online/object/ZTF20aajcgeu \",\n",
      "            \"reporter\": \"F. Forster, G. Pignata, F.E. Bauer, J. Arredondo, G. Cabrera-Vives, R. Carrasco-Davis, P.A. Estevez, P. Huijse, E. Reyes, I. Reyes, P. Sanchez-Saez, C. Valenzuela, E. Castillo, D. Ruz-Mieres, D. Rodriguez-Mancini, F.E. Bauer, M. Catelan, S. Eyheramendy, M.J. Graham on behalf of the ALeRCE broker\",\n",
      "            \"reporting_group_id\": \"74\"\n",
      "        },\n",
      "        \"12\": {\n",
      "            \"at_type\": \"1\",\n",
      "            \"dec\": {\n",
      "                \"error\": \"0.09\",\n",
      "                \"units\": \"arcsec\",\n",
      "                \"value\": \"5.0778836\"\n",
      "            },\n",
      "            \"discovery_data_source_id\": \"48\",\n",
      "            \"discovery_datetime\": \"2020-01-27 12:00:01.002\",\n",
      "            \"host_name\": \"SDSS J144843.75+050440.0\",\n",
      "            \"host_redshift\": \"0.118\",\n",
      "            \"internal_name\": \"ZTF20aajciaq\",\n",
      "            \"non_detection\": {\n",
      "                \"comments\": \"Data provided by ZTF\",\n",
      "                \"exptime\": \"30\",\n",
      "                \"filter_value\": \"111\",\n",
      "                \"flux_units\": \"1\",\n",
      "                \"instrument_value\": \"196\",\n",
      "                \"limiting_flux\": \"19.9027996063232\",\n",
      "                \"obsdate\": \"2020-01-24 13:33:06.002\",\n",
      "                \"observer\": \"Robot\"\n",
      "            },\n",
      "            \"photometry\": {\n",
      "                \"photometry_group\": {\n",
      "                    \"0\": {\n",
      "                        \"comments\": \"Data provided by ZTF\",\n",
      "                        \"exptime\": \"30\",\n",
      "                        \"filter_value\": \"110\",\n",
      "                        \"flux\": \"20.0238227844238\",\n",
      "                        \"flux_error\": \"0.20312662422657\",\n",
      "                        \"flux_units\": \"1\",\n",
      "                        \"instrument_value\": \"196\",\n",
      "                        \"limiting_flux\": \"20.3852138519287\",\n",
      "                        \"obsdate\": \"2020-01-27 12:00:01.002\",\n",
      "                        \"observer\": \"Robot\"\n",
      "                    }\n",
      "                }\n",
      "            },\n",
      "            \"ra\": {\n",
      "                \"error\": \"0.09\",\n",
      "                \"units\": \"arcsec\",\n",
      "                \"value\": \"222.1830815\"\n",
      "            },\n",
      "            \"remarks\": \"SN candidate classified by ALeRCE using the public ZTF stream. Discovery image and light curve in http://alerce.online/object/ZTF20aajciaq \",\n",
      "            \"reporter\": \"F. Forster, G. Pignata, F.E. Bauer, J. Arredondo, G. Cabrera-Vives, R. Carrasco-Davis, P.A. Estevez, P. Huijse, E. Reyes, I. Reyes, P. Sanchez-Saez, C. Valenzuela, E. Castillo, D. Ruz-Mieres, D. Rodriguez-Mancini, F.E. Bauer, M. Catelan, S. Eyheramendy, M.J. Graham on behalf of the ALeRCE broker\",\n",
      "            \"reporting_group_id\": \"74\"\n",
      "        },\n",
      "        \"13\": {\n",
      "            \"at_type\": \"1\",\n",
      "            \"dec\": {\n",
      "                \"error\": \"0.09\",\n",
      "                \"units\": \"arcsec\",\n",
      "                \"value\": \"-8.9528472\"\n",
      "            },\n",
      "            \"discovery_data_source_id\": \"48\",\n",
      "            \"discovery_datetime\": \"2020-01-27 03:35:37.000\",\n",
      "            \"host_name\": \"SDSS J022554.90-085711.4\",\n",
      "            \"internal_name\": \"ZTF20aaivqft\",\n",
      "            \"non_detection\": {\n",
      "                \"comments\": \"Data provided by ZTF\",\n",
      "                \"exptime\": \"30\",\n",
      "                \"filter_value\": \"111\",\n",
      "                \"flux_units\": \"1\",\n",
      "                \"instrument_value\": \"196\",\n",
      "                \"limiting_flux\": \"20.2052993774414\",\n",
      "                \"obsdate\": \"2020-01-27 02:55:01.998\",\n",
      "                \"observer\": \"Robot\"\n",
      "            },\n",
      "            \"photometry\": {\n",
      "                \"photometry_group\": {\n",
      "                    \"0\": {\n",
      "                        \"comments\": \"Data provided by ZTF\",\n",
      "                        \"exptime\": \"30\",\n",
      "                        \"filter_value\": \"110\",\n",
      "                        \"flux\": \"20.0097827911377\",\n",
      "                        \"flux_error\": \"0.187846004962921\",\n",
      "                        \"flux_units\": \"1\",\n",
      "                        \"instrument_value\": \"196\",\n",
      "                        \"limiting_flux\": \"20.3317222595215\",\n",
      "                        \"obsdate\": \"2020-01-27 03:35:37.000\",\n",
      "                        \"observer\": \"Robot\"\n",
      "                    }\n",
      "                }\n",
      "            },\n",
      "            \"ra\": {\n",
      "                \"error\": \"0.09\",\n",
      "                \"units\": \"arcsec\",\n",
      "                \"value\": \"36.4786823\"\n",
      "            },\n",
      "            \"remarks\": \"SN candidate classified by ALeRCE using the public ZTF stream. Discovery image and light curve in http://alerce.online/object/ZTF20aaivqft \",\n",
      "            \"reporter\": \"F. Forster, G. Pignata, F.E. Bauer, J. Arredondo, G. Cabrera-Vives, R. Carrasco-Davis, P.A. Estevez, P. Huijse, E. Reyes, I. Reyes, P. Sanchez-Saez, C. Valenzuela, E. Castillo, D. Ruz-Mieres, D. Rodriguez-Mancini, F.E. Bauer, M. Catelan, S. Eyheramendy, M.J. Graham on behalf of the ALeRCE broker\",\n",
      "            \"reporting_group_id\": \"74\"\n",
      "        },\n",
      "        \"2\": {\n",
      "            \"at_type\": \"1\",\n",
      "            \"dec\": {\n",
      "                \"error\": \"0.09\",\n",
      "                \"units\": \"arcsec\",\n",
      "                \"value\": \"16.4315903\"\n",
      "            },\n",
      "            \"discovery_data_source_id\": \"48\",\n",
      "            \"discovery_datetime\": \"2020-01-27 10:58:03.996\",\n",
      "            \"host_name\": \"SDSS J124216.58+162553.5\",\n",
      "            \"host_redshift\": \"0.107\",\n",
      "            \"internal_name\": \"ZTF20aajbzkm\",\n",
      "            \"non_detection\": {\n",
      "                \"comments\": \"Data provided by ZTF\",\n",
      "                \"exptime\": \"30\",\n",
      "                \"filter_value\": \"111\",\n",
      "                \"flux_units\": \"1\",\n",
      "                \"instrument_value\": \"196\",\n",
      "                \"limiting_flux\": \"20.1998996734619\",\n",
      "                \"obsdate\": \"2020-01-23 12:03:13.000\",\n",
      "                \"observer\": \"Robot\"\n",
      "            },\n",
      "            \"photometry\": {\n",
      "                \"photometry_group\": {\n",
      "                    \"0\": {\n",
      "                        \"comments\": \"Data provided by ZTF\",\n",
      "                        \"exptime\": \"30\",\n",
      "                        \"filter_value\": \"110\",\n",
      "                        \"flux\": \"20.5186500549316\",\n",
      "                        \"flux_error\": \"0.208277508616447\",\n",
      "                        \"flux_units\": \"1\",\n",
      "                        \"instrument_value\": \"196\",\n",
      "                        \"limiting_flux\": \"20.5272541046143\",\n",
      "                        \"obsdate\": \"2020-01-27 10:58:03.996\",\n",
      "                        \"observer\": \"Robot\"\n",
      "                    }\n",
      "                }\n",
      "            },\n",
      "            \"ra\": {\n",
      "                \"error\": \"0.09\",\n",
      "                \"units\": \"arcsec\",\n",
      "                \"value\": \"190.5685789\"\n",
      "            },\n",
      "            \"remarks\": \"SN candidate classified by ALeRCE using the public ZTF stream. Discovery image and light curve in http://alerce.online/object/ZTF20aajbzkm \",\n",
      "            \"reporter\": \"F. Forster, G. Pignata, F.E. Bauer, J. Arredondo, G. Cabrera-Vives, R. Carrasco-Davis, P.A. Estevez, P. Huijse, E. Reyes, I. Reyes, P. Sanchez-Saez, C. Valenzuela, E. Castillo, D. Ruz-Mieres, D. Rodriguez-Mancini, F.E. Bauer, M. Catelan, S. Eyheramendy, M.J. Graham on behalf of the ALeRCE broker\",\n",
      "            \"reporting_group_id\": \"74\"\n",
      "        },\n",
      "        \"3\": {\n",
      "            \"at_type\": \"1\",\n",
      "            \"dec\": {\n",
      "                \"error\": \"0.09\",\n",
      "                \"units\": \"arcsec\",\n",
      "                \"value\": \"47.2031672\"\n",
      "            },\n",
      "            \"discovery_data_source_id\": \"48\",\n",
      "            \"discovery_datetime\": \"2020-01-27 10:14:17.998\",\n",
      "            \"host_name\": \"SDSS J104548.18+471214.1\",\n",
      "            \"host_redshift\": \"0.289\",\n",
      "            \"internal_name\": \"ZTF20aajbtgd\",\n",
      "            \"non_detection\": {\n",
      "                \"comments\": \"Data provided by ZTF\",\n",
      "                \"exptime\": \"30\",\n",
      "                \"filter_value\": \"111\",\n",
      "                \"flux_units\": \"1\",\n",
      "                \"instrument_value\": \"196\",\n",
      "                \"limiting_flux\": \"20.3971996307373\",\n",
      "                \"obsdate\": \"2020-01-27 06:58:09.998\",\n",
      "                \"observer\": \"Robot\"\n",
      "            },\n",
      "            \"photometry\": {\n",
      "                \"photometry_group\": {\n",
      "                    \"0\": {\n",
      "                        \"comments\": \"Data provided by ZTF\",\n",
      "                        \"exptime\": \"30\",\n",
      "                        \"filter_value\": \"110\",\n",
      "                        \"flux\": \"20.5248565673828\",\n",
      "                        \"flux_error\": \"0.203328385949135\",\n",
      "                        \"flux_units\": \"1\",\n",
      "                        \"instrument_value\": \"196\",\n",
      "                        \"limiting_flux\": \"20.7348232269287\",\n",
      "                        \"obsdate\": \"2020-01-27 10:14:17.998\",\n",
      "                        \"observer\": \"Robot\"\n",
      "                    }\n",
      "                }\n",
      "            },\n",
      "            \"ra\": {\n",
      "                \"error\": \"0.09\",\n",
      "                \"units\": \"arcsec\",\n",
      "                \"value\": \"161.4503168\"\n",
      "            },\n",
      "            \"remarks\": \"Early SN candidate (g-rise > 0.16+-0.10 mag/day) classified by ALeRCE using the public ZTF stream. Discovery image and light curve in http://alerce.online/object/ZTF20aajbtgd \",\n",
      "            \"reporter\": \"F. Forster, G. Pignata, F.E. Bauer, J. Arredondo, G. Cabrera-Vives, R. Carrasco-Davis, P.A. Estevez, P. Huijse, E. Reyes, I. Reyes, P. Sanchez-Saez, C. Valenzuela, E. Castillo, D. Ruz-Mieres, D. Rodriguez-Mancini, F.E. Bauer, M. Catelan, S. Eyheramendy, M.J. Graham on behalf of the ALeRCE broker\",\n",
      "            \"reporting_group_id\": \"74\"\n",
      "        },\n",
      "        \"4\": {\n",
      "            \"at_type\": \"1\",\n",
      "            \"dec\": {\n",
      "                \"error\": \"0.09\",\n",
      "                \"units\": \"arcsec\",\n",
      "                \"value\": \"3.94361175\"\n",
      "            },\n",
      "            \"discovery_data_source_id\": \"48\",\n",
      "            \"discovery_datetime\": \"2020-01-27 02:34:53.996\",\n",
      "            \"host_name\": \"SDSS J010641.15+035637.0\",\n",
      "            \"host_redshift\": \"0.092\",\n",
      "            \"internal_name\": \"ZTF20aaivokm\",\n",
      "            \"non_detection\": {\n",
      "                \"comments\": \"Data provided by ZTF\",\n",
      "                \"exptime\": \"30\",\n",
      "                \"filter_value\": \"110\",\n",
      "                \"flux_units\": \"1\",\n",
      "                \"instrument_value\": \"196\",\n",
      "                \"limiting_flux\": \"20.1035995483398\",\n",
      "                \"obsdate\": \"2020-01-24 03:38:00.001\",\n",
      "                \"observer\": \"Robot\"\n",
      "            },\n",
      "            \"photometry\": {\n",
      "                \"photometry_group\": {\n",
      "                    \"0\": {\n",
      "                        \"comments\": \"Data provided by ZTF\",\n",
      "                        \"exptime\": \"30\",\n",
      "                        \"filter_value\": \"111\",\n",
      "                        \"flux\": \"20.5277996063232\",\n",
      "                        \"flux_error\": \"0.325428009033203\",\n",
      "                        \"flux_units\": \"1\",\n",
      "                        \"instrument_value\": \"196\",\n",
      "                        \"limiting_flux\": \"20.0942993164062\",\n",
      "                        \"obsdate\": \"2020-01-27 02:34:53.996\",\n",
      "                        \"observer\": \"Robot\"\n",
      "                    },\n",
      "                    \"1\": {\n",
      "                        \"comments\": \"Data provided by ZTF\",\n",
      "                        \"exptime\": \"30\",\n",
      "                        \"filter_value\": \"110\",\n",
      "                        \"flux\": \"20.3100433349609\",\n",
      "                        \"flux_error\": \"0.200577184557915\",\n",
      "                        \"flux_units\": \"1\",\n",
      "                        \"instrument_value\": \"196\",\n",
      "                        \"limiting_flux\": \"20.2599544525146\",\n",
      "                        \"obsdate\": \"2020-01-27 03:28:30.996\",\n",
      "                        \"observer\": \"Robot\"\n",
      "                    }\n",
      "                }\n",
      "            },\n",
      "            \"ra\": {\n",
      "                \"error\": \"0.09\",\n",
      "                \"units\": \"arcsec\",\n",
      "                \"value\": \"16.67110135\"\n",
      "            },\n",
      "            \"remarks\": \"SN candidate classified by ALeRCE using the public ZTF stream. Discovery image and light curve in http://alerce.online/object/ZTF20aaivokm \",\n",
      "            \"reporter\": \"F. Forster, G. Pignata, F.E. Bauer, J. Arredondo, G. Cabrera-Vives, R. Carrasco-Davis, P.A. Estevez, P. Huijse, E. Reyes, I. Reyes, P. Sanchez-Saez, C. Valenzuela, E. Castillo, D. Ruz-Mieres, D. Rodriguez-Mancini, F.E. Bauer, M. Catelan, S. Eyheramendy, M.J. Graham on behalf of the ALeRCE broker\",\n",
      "            \"reporting_group_id\": \"74\"\n",
      "        },\n",
      "        \"5\": {\n",
      "            \"at_type\": \"1\",\n",
      "            \"dec\": {\n",
      "                \"error\": \"0.09\",\n",
      "                \"units\": \"arcsec\",\n",
      "                \"value\": \"15.100355\"\n",
      "            },\n",
      "            \"discovery_data_source_id\": \"48\",\n",
      "            \"discovery_datetime\": \"2020-01-27 02:56:59.001\",\n",
      "            \"host_name\": \"WISEA J025547.88+150557.9\",\n",
      "            \"internal_name\": \"ZTF20aaivjce\",\n",
      "            \"non_detection\": {\n",
      "                \"comments\": \"Data provided by ZTF\",\n",
      "                \"exptime\": \"30\",\n",
      "                \"filter_value\": \"110\",\n",
      "                \"flux_units\": \"1\",\n",
      "                \"instrument_value\": \"196\",\n",
      "                \"limiting_flux\": \"20.1742000579834\",\n",
      "                \"obsdate\": \"2020-01-23 03:38:46.000\",\n",
      "                \"observer\": \"Robot\"\n",
      "            },\n",
      "            \"photometry\": {\n",
      "                \"photometry_group\": {\n",
      "                    \"0\": {\n",
      "                        \"comments\": \"Data provided by ZTF\",\n",
      "                        \"exptime\": \"30\",\n",
      "                        \"filter_value\": \"111\",\n",
      "                        \"flux\": \"18.3834114074707\",\n",
      "                        \"flux_error\": \"0.0837978273630142\",\n",
      "                        \"flux_units\": \"1\",\n",
      "                        \"instrument_value\": \"196\",\n",
      "                        \"limiting_flux\": \"20.3668003082275\",\n",
      "                        \"obsdate\": \"2020-01-27 02:56:59.001\",\n",
      "                        \"observer\": \"Robot\"\n",
      "                    }\n",
      "                }\n",
      "            },\n",
      "            \"ra\": {\n",
      "                \"error\": \"0.09\",\n",
      "                \"units\": \"arcsec\",\n",
      "                \"value\": \"43.9493197\"\n",
      "            },\n",
      "            \"remarks\": \"Early SN candidate (r-rise > 0.11+-0.01 mag/day) classified by ALeRCE using the public ZTF stream. Discovery image and light curve in http://alerce.online/object/ZTF20aaivjce \",\n",
      "            \"reporter\": \"F. Forster, G. Pignata, F.E. Bauer, J. Arredondo, G. Cabrera-Vives, R. Carrasco-Davis, P.A. Estevez, P. Huijse, E. Reyes, I. Reyes, P. Sanchez-Saez, C. Valenzuela, E. Castillo, D. Ruz-Mieres, D. Rodriguez-Mancini, F.E. Bauer, M. Catelan, S. Eyheramendy, M.J. Graham on behalf of the ALeRCE broker\",\n",
      "            \"reporting_group_id\": \"74\"\n",
      "        },\n",
      "        \"6\": {\n",
      "            \"at_type\": \"1\",\n",
      "            \"dec\": {\n",
      "                \"error\": \"0.09\",\n",
      "                \"units\": \"arcsec\",\n",
      "                \"value\": \"-8.9528472\"\n",
      "            },\n",
      "            \"discovery_data_source_id\": \"48\",\n",
      "            \"discovery_datetime\": \"2020-01-27 03:35:37.000\",\n",
      "            \"host_name\": \"SDSS J022554.90-085711.4\",\n",
      "            \"internal_name\": \"ZTF20aaivqft\",\n",
      "            \"non_detection\": {\n",
      "                \"comments\": \"Data provided by ZTF\",\n",
      "                \"exptime\": \"30\",\n",
      "                \"filter_value\": \"111\",\n",
      "                \"flux_units\": \"1\",\n",
      "                \"instrument_value\": \"196\",\n",
      "                \"limiting_flux\": \"20.2052993774414\",\n",
      "                \"obsdate\": \"2020-01-27 02:55:01.998\",\n",
      "                \"observer\": \"Robot\"\n",
      "            },\n",
      "            \"photometry\": {\n",
      "                \"photometry_group\": {\n",
      "                    \"0\": {\n",
      "                        \"comments\": \"Data provided by ZTF\",\n",
      "                        \"exptime\": \"30\",\n",
      "                        \"filter_value\": \"110\",\n",
      "                        \"flux\": \"20.0097827911377\",\n",
      "                        \"flux_error\": \"0.187846004962921\",\n",
      "                        \"flux_units\": \"1\",\n",
      "                        \"instrument_value\": \"196\",\n",
      "                        \"limiting_flux\": \"20.3317222595215\",\n",
      "                        \"obsdate\": \"2020-01-27 03:35:37.000\",\n",
      "                        \"observer\": \"Robot\"\n",
      "                    }\n",
      "                }\n",
      "            },\n",
      "            \"ra\": {\n",
      "                \"error\": \"0.09\",\n",
      "                \"units\": \"arcsec\",\n",
      "                \"value\": \"36.4786823\"\n",
      "            },\n",
      "            \"remarks\": \"SN candidate classified by ALeRCE using the public ZTF stream. Discovery image and light curve in http://alerce.online/object/ZTF20aaivqft \",\n",
      "            \"reporter\": \"F. Forster, G. Pignata, F.E. Bauer, J. Arredondo, G. Cabrera-Vives, R. Carrasco-Davis, P.A. Estevez, P. Huijse, E. Reyes, I. Reyes, P. Sanchez-Saez, C. Valenzuela, E. Castillo, D. Ruz-Mieres, D. Rodriguez-Mancini, F.E. Bauer, M. Catelan, S. Eyheramendy, M.J. Graham on behalf of the ALeRCE broker\",\n",
      "            \"reporting_group_id\": \"74\"\n",
      "        },\n",
      "        \"7\": {\n",
      "            \"at_type\": \"1\",\n",
      "            \"dec\": {\n",
      "                \"error\": \"0.09\",\n",
      "                \"units\": \"arcsec\",\n",
      "                \"value\": \"-9.4480202\"\n",
      "            },\n",
      "            \"discovery_data_source_id\": \"48\",\n",
      "            \"discovery_datetime\": \"2020-01-27 03:51:36.999\",\n",
      "            \"host_name\": \"WISEA J024818.20-092651.9\",\n",
      "            \"internal_name\": \"ZTF20aaivtof\",\n",
      "            \"non_detection\": {\n",
      "                \"comments\": \"Data provided by ZTF\",\n",
      "                \"exptime\": \"30\",\n",
      "                \"filter_value\": \"110\",\n",
      "                \"flux_units\": \"1\",\n",
      "                \"instrument_value\": \"196\",\n",
      "                \"limiting_flux\": \"20.1667003631592\",\n",
      "                \"obsdate\": \"2020-01-24 04:08:14.997\",\n",
      "                \"observer\": \"Robot\"\n",
      "            },\n",
      "            \"photometry\": {\n",
      "                \"photometry_group\": {\n",
      "                    \"0\": {\n",
      "                        \"comments\": \"Data provided by ZTF\",\n",
      "                        \"exptime\": \"30\",\n",
      "                        \"filter_value\": \"110\",\n",
      "                        \"flux\": \"18.6919479370117\",\n",
      "                        \"flux_error\": \"0.0703845396637917\",\n",
      "                        \"flux_units\": \"1\",\n",
      "                        \"instrument_value\": \"196\",\n",
      "                        \"limiting_flux\": \"20.3234558105469\",\n",
      "                        \"obsdate\": \"2020-01-27 03:51:36.999\",\n",
      "                        \"observer\": \"Robot\"\n",
      "                    }\n",
      "                }\n",
      "            },\n",
      "            \"ra\": {\n",
      "                \"error\": \"0.09\",\n",
      "                \"units\": \"arcsec\",\n",
      "                \"value\": \"42.0770741\"\n",
      "            },\n",
      "            \"remarks\": \"Early SN candidate (g-rise > 0.49+-0.02 mag/day) classified by ALeRCE using the public ZTF stream. Discovery image and light curve in http://alerce.online/object/ZTF20aaivtof \",\n",
      "            \"reporter\": \"F. Forster, G. Pignata, F.E. Bauer, J. Arredondo, G. Cabrera-Vives, R. Carrasco-Davis, P.A. Estevez, P. Huijse, E. Reyes, I. Reyes, P. Sanchez-Saez, C. Valenzuela, E. Castillo, D. Ruz-Mieres, D. Rodriguez-Mancini, F.E. Bauer, M. Catelan, S. Eyheramendy, M.J. Graham on behalf of the ALeRCE broker\",\n",
      "            \"reporting_group_id\": \"74\"\n",
      "        },\n",
      "        \"8\": {\n",
      "            \"at_type\": \"1\",\n",
      "            \"dec\": {\n",
      "                \"error\": \"0.09\",\n",
      "                \"units\": \"arcsec\",\n",
      "                \"value\": \"-13.4221071\"\n",
      "            },\n",
      "            \"discovery_data_source_id\": \"48\",\n",
      "            \"discovery_datetime\": \"2020-01-27 03:57:26.997\",\n",
      "            \"host_name\": \"WISEA J041810.01-132520.0\",\n",
      "            \"internal_name\": \"ZTF18abxuzwl\",\n",
      "            \"non_detection\": {\n",
      "                \"comments\": \"Data provided by ZTF\",\n",
      "                \"exptime\": \"30\",\n",
      "                \"filter_value\": \"110\",\n",
      "                \"flux_units\": \"1\",\n",
      "                \"instrument_value\": \"196\",\n",
      "                \"limiting_flux\": \"20.3687000274658\",\n",
      "                \"obsdate\": \"2020-01-27 03:56:47.996\",\n",
      "                \"observer\": \"Robot\"\n",
      "            },\n",
      "            \"photometry\": {\n",
      "                \"photometry_group\": {\n",
      "                    \"0\": {\n",
      "                        \"comments\": \"Data provided by ZTF\",\n",
      "                        \"exptime\": \"30\",\n",
      "                        \"filter_value\": \"110\",\n",
      "                        \"flux\": \"20.1595916748047\",\n",
      "                        \"flux_error\": \"0.174673840403557\",\n",
      "                        \"flux_units\": \"1\",\n",
      "                        \"instrument_value\": \"196\",\n",
      "                        \"limiting_flux\": \"20.4184608459473\",\n",
      "                        \"obsdate\": \"2020-01-27 03:57:26.997\",\n",
      "                        \"observer\": \"Robot\"\n",
      "                    }\n",
      "                }\n",
      "            },\n",
      "            \"ra\": {\n",
      "                \"error\": \"0.09\",\n",
      "                \"units\": \"arcsec\",\n",
      "                \"value\": \"64.5412164\"\n",
      "            },\n",
      "            \"remarks\": \"Early SN candidate (g-rise > 1.00 mag/day) classified by ALeRCE using the public ZTF stream. Discovery image and light curve in http://alerce.online/object/ZTF18abxuzwl \",\n",
      "            \"reporter\": \"F. Forster, G. Pignata, F.E. Bauer, J. Arredondo, G. Cabrera-Vives, R. Carrasco-Davis, P.A. Estevez, P. Huijse, E. Reyes, I. Reyes, P. Sanchez-Saez, C. Valenzuela, E. Castillo, D. Ruz-Mieres, D. Rodriguez-Mancini, F.E. Bauer, M. Catelan, S. Eyheramendy, M.J. Graham on behalf of the ALeRCE broker\",\n",
      "            \"reporting_group_id\": \"74\"\n",
      "        },\n",
      "        \"9\": {\n",
      "            \"at_type\": \"1\",\n",
      "            \"dec\": {\n",
      "                \"error\": \"0.09\",\n",
      "                \"units\": \"arcsec\",\n",
      "                \"value\": \"-7.2463835\"\n",
      "            },\n",
      "            \"discovery_data_source_id\": \"48\",\n",
      "            \"discovery_datetime\": \"2020-01-27 06:30:27.999\",\n",
      "            \"host_name\": \"SDSS J081150.10-071445.9\",\n",
      "            \"host_redshift\": \"0.148\",\n",
      "            \"internal_name\": \"ZTF20aaizayl\",\n",
      "            \"non_detection\": {\n",
      "                \"comments\": \"Data provided by ZTF\",\n",
      "                \"exptime\": \"30\",\n",
      "                \"filter_value\": \"111\",\n",
      "                \"flux_units\": \"1\",\n",
      "                \"instrument_value\": \"196\",\n",
      "                \"limiting_flux\": \"20.3052997589111\",\n",
      "                \"obsdate\": \"2020-01-24 07:05:09.004\",\n",
      "                \"observer\": \"Robot\"\n",
      "            },\n",
      "            \"photometry\": {\n",
      "                \"photometry_group\": {\n",
      "                    \"0\": {\n",
      "                        \"comments\": \"Data provided by ZTF\",\n",
      "                        \"exptime\": \"30\",\n",
      "                        \"filter_value\": \"111\",\n",
      "                        \"flux\": \"20.4281311035156\",\n",
      "                        \"flux_error\": \"0.210086956620216\",\n",
      "                        \"flux_units\": \"1\",\n",
      "                        \"instrument_value\": \"196\",\n",
      "                        \"limiting_flux\": \"20.5257015228271\",\n",
      "                        \"obsdate\": \"2020-01-27 06:30:27.999\",\n",
      "                        \"observer\": \"Robot\"\n",
      "                    }\n",
      "                }\n",
      "            },\n",
      "            \"ra\": {\n",
      "                \"error\": \"0.09\",\n",
      "                \"units\": \"arcsec\",\n",
      "                \"value\": \"122.9586764\"\n",
      "            },\n",
      "            \"remarks\": \"SN candidate classified by ALeRCE using the public ZTF stream. Discovery image and light curve in http://alerce.online/object/ZTF20aaizayl \",\n",
      "            \"reporter\": \"F. Forster, G. Pignata, F.E. Bauer, J. Arredondo, G. Cabrera-Vives, R. Carrasco-Davis, P.A. Estevez, P. Huijse, E. Reyes, I. Reyes, P. Sanchez-Saez, C. Valenzuela, E. Castillo, D. Ruz-Mieres, D. Rodriguez-Mancini, F.E. Bauer, M. Catelan, S. Eyheramendy, M.J. Graham on behalf of the ALeRCE broker\",\n",
      "            \"reporting_group_id\": \"74\"\n",
      "        }\n",
      "    }\n",
      "}\n"
     ]
    }
   ],
   "source": [
    "print(json.dumps(report, indent=4, sort_keys=True))"
   ]
  },
  {
   "cell_type": "markdown",
   "metadata": {},
   "source": [
    "# Save report"
   ]
  },
  {
   "cell_type": "code",
   "execution_count": 19,
   "metadata": {
    "ExecuteTime": {
     "end_time": "2020-01-27T22:50:28.491557Z",
     "start_time": "2020-01-27T22:50:28.440356Z"
    }
   },
   "outputs": [],
   "source": [
    "json_report = '%s/%s.json' % (candidates_dir, refstring)\n",
    "with open(json_report, 'w') as outfile:\n",
    "    json.dump(report, outfile)"
   ]
  },
  {
   "cell_type": "markdown",
   "metadata": {},
   "source": [
    "# Send to TNS\n",
    "\n",
    "**WARNING: key is used to send candidates!**"
   ]
  },
  {
   "cell_type": "code",
   "execution_count": 20,
   "metadata": {
    "ExecuteTime": {
     "end_time": "2020-01-27T22:50:29.423568Z",
     "start_time": "2020-01-27T22:50:29.382178Z"
    }
   },
   "outputs": [
    {
     "data": {
      "text/plain": [
       "'candidates/20200127.json'"
      ]
     },
     "execution_count": 20,
     "metadata": {},
     "output_type": "execute_result"
    }
   ],
   "source": [
    "json_report"
   ]
  },
  {
   "cell_type": "code",
   "execution_count": 21,
   "metadata": {
    "ExecuteTime": {
     "end_time": "2020-01-27T22:50:39.117258Z",
     "start_time": "2020-01-27T22:50:29.851295Z"
    }
   },
   "outputs": [],
   "source": [
    "r = alerce.send_json_report(api_key, url_tns_api, json_report)"
   ]
  },
  {
   "cell_type": "markdown",
   "metadata": {},
   "source": [
    "# Show output"
   ]
  },
  {
   "cell_type": "code",
   "execution_count": 22,
   "metadata": {
    "ExecuteTime": {
     "end_time": "2020-01-27T22:50:39.173610Z",
     "start_time": "2020-01-27T22:50:39.122480Z"
    }
   },
   "outputs": [
    {
     "data": {
      "text/plain": [
       "b'{\"id_code\":200,\"id_message\":\"OK\",\"data\":{\"report_id\":32884,\"recieved_data\":{\"at_report\":{\"0\":{\"ra\":{\"value\":219.5676203,\"error\":0.09,\"units\":\"arcsec\"},\"dec\":{\"value\":24.0622016,\"error\":0.09,\"units\":\"arcsec\"},\"reporting_group_id\":74,\"discovery_data_source_id\":48,\"reporter\":\"F. Forster, G. Pignata, F.E. Bauer, J. Arredondo, G. Cabrera-Vives, R. Carrasco-Davis, P.A. Estevez, P. Huijse, E. Reyes, I. Reyes, P. Sanchez-Saez, C. Valenzuela, E. Castillo, D. Ruz-Mieres, D. Rodriguez-Mancini, F.E. Bauer, M. Catelan, S. Eyheramendy, M.J. Graham on behalf of the ALeRCE broker\",\"discovery_datetime\":\"2020-01-27 11:56:06.003\",\"at_type\":1,\"internal_name\":\"ZTF20aajcpyy\",\"remarks\":\"SN candidate classified by ALeRCE using the public ZTF stream. Discovery image and light curve in http:\\\\/\\\\/alerce.online\\\\/object\\\\/ZTF20aajcpyy \",\"non_detection\":{\"obsdate\":\"2020-01-24 13:27:09.999\",\"limiting_flux\":20.299600601196,\"flux_units\":1,\"filter_value\":111,\"instrument_value\":196,\"exptime\":30,\"observer\":\"Robot\",\"comments\":\"Data provided by ZTF\"},\"photometry\":{\"photometry_group\":{\"0\":{\"obsdate\":\"2020-01-27 11:56:06.003\",\"flux\":20.676200866699,\"flux_error\":0.23839899897575,\"limiting_flux\":20.678400039673,\"flux_units\":1,\"filter_value\":110,\"instrument_value\":196,\"exptime\":30,\"observer\":\"Robot\",\"comments\":\"Data provided by ZTF\"},\"1\":{\"obsdate\":\"2020-01-27 12:37:44.000\",\"flux\":20.299198150635,\"flux_error\":0.21151731908321,\"limiting_flux\":20.457263946533,\"flux_units\":1,\"filter_value\":111,\"instrument_value\":196,\"exptime\":30,\"observer\":\"Robot\",\"comments\":\"Data provided by ZTF\"}}},\"host_name\":\"SDSS J143816.31+240341.8\",\"host_redshift\":0.109},\"1\":{\"ra\":{\"value\":225.4045219,\"error\":0.09,\"units\":\"arcsec\"},\"dec\":{\"value\":57.7421119,\"error\":0.09,\"units\":\"arcsec\"},\"reporting_group_id\":74,\"discovery_data_source_id\":48,\"reporter\":\"F. Forster, G. Pignata, F.E. Bauer, J. Arredondo, G. Cabrera-Vives, R. Carrasco-Davis, P.A. Estevez, P. Huijse, E. Reyes, I. Reyes, P. Sanchez-Saez, C. Valenzuela, E. Castillo, D. Ruz-Mieres, D. Rodriguez-Mancini, F.E. Bauer, M. Catelan, S. Eyheramendy, M.J. Graham on behalf of the ALeRCE broker\",\"discovery_datetime\":\"2020-01-27 11:50:07.002\",\"at_type\":1,\"internal_name\":\"ZTF20aajcgra\",\"remarks\":\"SN candidate classified by ALeRCE using the public ZTF stream. Discovery image and light curve in http:\\\\/\\\\/alerce.online\\\\/object\\\\/ZTF20aajcgra \",\"non_detection\":{\"obsdate\":\"2020-01-24 13:16:28.004\",\"limiting_flux\":20.344200134277,\"flux_units\":1,\"filter_value\":111,\"instrument_value\":196,\"exptime\":30,\"observer\":\"Robot\",\"comments\":\"Data provided by ZTF\"},\"photometry\":{\"photometry_group\":{\"0\":{\"obsdate\":\"2020-01-27 11:50:07.002\",\"flux\":20.245264053345,\"flux_error\":0.19795687496662,\"limiting_flux\":20.468349456787,\"flux_units\":1,\"filter_value\":110,\"instrument_value\":196,\"exptime\":30,\"observer\":\"Robot\",\"comments\":\"Data provided by ZTF\"}}},\"host_name\":\"SDSS J150137.00+574431.4\",\"host_redshift\":0.16},\"2\":{\"ra\":{\"value\":190.5685789,\"error\":0.09,\"units\":\"arcsec\"},\"dec\":{\"value\":16.4315903,\"error\":0.09,\"units\":\"arcsec\"},\"reporting_group_id\":74,\"discovery_data_source_id\":48,\"reporter\":\"F. Forster, G. Pignata, F.E. Bauer, J. Arredondo, G. Cabrera-Vives, R. Carrasco-Davis, P.A. Estevez, P. Huijse, E. Reyes, I. Reyes, P. Sanchez-Saez, C. Valenzuela, E. Castillo, D. Ruz-Mieres, D. Rodriguez-Mancini, F.E. Bauer, M. Catelan, S. Eyheramendy, M.J. Graham on behalf of the ALeRCE broker\",\"discovery_datetime\":\"2020-01-27 10:58:03.996\",\"at_type\":1,\"internal_name\":\"ZTF20aajbzkm\",\"remarks\":\"SN candidate classified by ALeRCE using the public ZTF stream. Discovery image and light curve in http:\\\\/\\\\/alerce.online\\\\/object\\\\/ZTF20aajbzkm \",\"non_detection\":{\"obsdate\":\"2020-01-23 12:03:13.000\",\"limiting_flux\":20.199899673462,\"flux_units\":1,\"filter_value\":111,\"instrument_value\":196,\"exptime\":30,\"observer\":\"Robot\",\"comments\":\"Data provided by ZTF\"},\"photometry\":{\"photometry_group\":{\"0\":{\"obsdate\":\"2020-01-27 10:58:03.996\",\"flux\":20.518650054932,\"flux_error\":0.20827750861645,\"limiting_flux\":20.527254104614,\"flux_units\":1,\"filter_value\":110,\"instrument_value\":196,\"exptime\":30,\"observer\":\"Robot\",\"comments\":\"Data provided by ZTF\"}}},\"host_name\":\"SDSS J124216.58+162553.5\",\"host_redshift\":0.107},\"3\":{\"ra\":{\"value\":161.4503168,\"error\":0.09,\"units\":\"arcsec\"},\"dec\":{\"value\":47.2031672,\"error\":0.09,\"units\":\"arcsec\"},\"reporting_group_id\":74,\"discovery_data_source_id\":48,\"reporter\":\"F. Forster, G. Pignata, F.E. Bauer, J. Arredondo, G. Cabrera-Vives, R. Carrasco-Davis, P.A. Estevez, P. Huijse, E. Reyes, I. Reyes, P. Sanchez-Saez, C. Valenzuela, E. Castillo, D. Ruz-Mieres, D. Rodriguez-Mancini, F.E. Bauer, M. Catelan, S. Eyheramendy, M.J. Graham on behalf of the ALeRCE broker\",\"discovery_datetime\":\"2020-01-27 10:14:17.998\",\"at_type\":1,\"internal_name\":\"ZTF20aajbtgd\",\"remarks\":\"Early SN candidate (g-rise > 0.16+-0.10 mag\\\\/day) classified by ALeRCE using the public ZTF stream. Discovery image and light curve in http:\\\\/\\\\/alerce.online\\\\/object\\\\/ZTF20aajbtgd \",\"non_detection\":{\"obsdate\":\"2020-01-27 06:58:09.998\",\"limiting_flux\":20.397199630737,\"flux_units\":1,\"filter_value\":111,\"instrument_value\":196,\"exptime\":30,\"observer\":\"Robot\",\"comments\":\"Data provided by ZTF\"},\"photometry\":{\"photometry_group\":{\"0\":{\"obsdate\":\"2020-01-27 10:14:17.998\",\"flux\":20.524856567383,\"flux_error\":0.20332838594913,\"limiting_flux\":20.734823226929,\"flux_units\":1,\"filter_value\":110,\"instrument_value\":196,\"exptime\":30,\"observer\":\"Robot\",\"comments\":\"Data provided by ZTF\"}}},\"host_name\":\"SDSS J104548.18+471214.1\",\"host_redshift\":0.289},\"4\":{\"ra\":{\"value\":16.67110135,\"error\":0.09,\"units\":\"arcsec\"},\"dec\":{\"value\":3.94361175,\"error\":0.09,\"units\":\"arcsec\"},\"reporting_group_id\":74,\"discovery_data_source_id\":48,\"reporter\":\"F. Forster, G. Pignata, F.E. Bauer, J. Arredondo, G. Cabrera-Vives, R. Carrasco-Davis, P.A. Estevez, P. Huijse, E. Reyes, I. Reyes, P. Sanchez-Saez, C. Valenzuela, E. Castillo, D. Ruz-Mieres, D. Rodriguez-Mancini, F.E. Bauer, M. Catelan, S. Eyheramendy, M.J. Graham on behalf of the ALeRCE broker\",\"discovery_datetime\":\"2020-01-27 02:34:53.996\",\"at_type\":1,\"internal_name\":\"ZTF20aaivokm\",\"remarks\":\"SN candidate classified by ALeRCE using the public ZTF stream. Discovery image and light curve in http:\\\\/\\\\/alerce.online\\\\/object\\\\/ZTF20aaivokm \",\"non_detection\":{\"obsdate\":\"2020-01-24 03:38:00.001\",\"limiting_flux\":20.10359954834,\"flux_units\":1,\"filter_value\":110,\"instrument_value\":196,\"exptime\":30,\"observer\":\"Robot\",\"comments\":\"Data provided by ZTF\"},\"photometry\":{\"photometry_group\":{\"0\":{\"obsdate\":\"2020-01-27 02:34:53.996\",\"flux\":20.527799606323,\"flux_error\":0.3254280090332,\"limiting_flux\":20.094299316406,\"flux_units\":1,\"filter_value\":111,\"instrument_value\":196,\"exptime\":30,\"observer\":\"Robot\",\"comments\":\"Data provided by ZTF\"},\"1\":{\"obsdate\":\"2020-01-27 03:28:30.996\",\"flux\":20.310043334961,\"flux_error\":0.20057718455792,\"limiting_flux\":20.259954452515,\"flux_units\":1,\"filter_value\":110,\"instrument_value\":196,\"exptime\":30,\"observer\":\"Robot\",\"comments\":\"Data provided by ZTF\"}}},\"host_name\":\"SDSS J010641.15+035637.0\",\"host_redshift\":0.092},\"5\":{\"ra\":{\"value\":43.9493197,\"error\":0.09,\"units\":\"arcsec\"},\"dec\":{\"value\":15.100355,\"error\":0.09,\"units\":\"arcsec\"},\"reporting_group_id\":74,\"discovery_data_source_id\":48,\"reporter\":\"F. Forster, G. Pignata, F.E. Bauer, J. Arredondo, G. Cabrera-Vives, R. Carrasco-Davis, P.A. Estevez, P. Huijse, E. Reyes, I. Reyes, P. Sanchez-Saez, C. Valenzuela, E. Castillo, D. Ruz-Mieres, D. Rodriguez-Mancini, F.E. Bauer, M. Catelan, S. Eyheramendy, M.J. Graham on behalf of the ALeRCE broker\",\"discovery_datetime\":\"2020-01-27 02:56:59.001\",\"at_type\":1,\"internal_name\":\"ZTF20aaivjce\",\"remarks\":\"Early SN candidate (r-rise > 0.11+-0.01 mag\\\\/day) classified by ALeRCE using the public ZTF stream. Discovery image and light curve in http:\\\\/\\\\/alerce.online\\\\/object\\\\/ZTF20aaivjce \",\"non_detection\":{\"obsdate\":\"2020-01-23 03:38:46.000\",\"limiting_flux\":20.174200057983,\"flux_units\":1,\"filter_value\":110,\"instrument_value\":196,\"exptime\":30,\"observer\":\"Robot\",\"comments\":\"Data provided by ZTF\"},\"photometry\":{\"photometry_group\":{\"0\":{\"obsdate\":\"2020-01-27 02:56:59.001\",\"flux\":18.383411407471,\"flux_error\":0.083797827363014,\"limiting_flux\":20.366800308227,\"flux_units\":1,\"filter_value\":111,\"instrument_value\":196,\"exptime\":30,\"observer\":\"Robot\",\"comments\":\"Data provided by ZTF\"}}},\"host_name\":\"WISEA J025547.88+150557.9\"},\"6\":{\"ra\":{\"value\":36.4786823,\"error\":0.09,\"units\":\"arcsec\"},\"dec\":{\"value\":-8.9528472,\"error\":0.09,\"units\":\"arcsec\"},\"reporting_group_id\":74,\"discovery_data_source_id\":48,\"reporter\":\"F. Forster, G. Pignata, F.E. Bauer, J. Arredondo, G. Cabrera-Vives, R. Carrasco-Davis, P.A. Estevez, P. Huijse, E. Reyes, I. Reyes, P. Sanchez-Saez, C. Valenzuela, E. Castillo, D. Ruz-Mieres, D. Rodriguez-Mancini, F.E. Bauer, M. Catelan, S. Eyheramendy, M.J. Graham on behalf of the ALeRCE broker\",\"discovery_datetime\":\"2020-01-27 03:35:37.000\",\"at_type\":1,\"internal_name\":\"ZTF20aaivqft\",\"remarks\":\"SN candidate classified by ALeRCE using the public ZTF stream. Discovery image and light curve in http:\\\\/\\\\/alerce.online\\\\/object\\\\/ZTF20aaivqft \",\"non_detection\":{\"obsdate\":\"2020-01-27 02:55:01.998\",\"limiting_flux\":20.205299377441,\"flux_units\":1,\"filter_value\":111,\"instrument_value\":196,\"exptime\":30,\"observer\":\"Robot\",\"comments\":\"Data provided by ZTF\"},\"photometry\":{\"photometry_group\":{\"0\":{\"obsdate\":\"2020-01-27 03:35:37.000\",\"flux\":20.009782791138,\"flux_error\":0.18784600496292,\"limiting_flux\":20.331722259521,\"flux_units\":1,\"filter_value\":110,\"instrument_value\":196,\"exptime\":30,\"observer\":\"Robot\",\"comments\":\"Data provided by ZTF\"}}},\"host_name\":\"SDSS J022554.90-085711.4\"},\"7\":{\"ra\":{\"value\":42.0770741,\"error\":0.09,\"units\":\"arcsec\"},\"dec\":{\"value\":-9.4480202,\"error\":0.09,\"units\":\"arcsec\"},\"reporting_group_id\":74,\"discovery_data_source_id\":48,\"reporter\":\"F. Forster, G. Pignata, F.E. Bauer, J. Arredondo, G. Cabrera-Vives, R. Carrasco-Davis, P.A. Estevez, P. Huijse, E. Reyes, I. Reyes, P. Sanchez-Saez, C. Valenzuela, E. Castillo, D. Ruz-Mieres, D. Rodriguez-Mancini, F.E. Bauer, M. Catelan, S. Eyheramendy, M.J. Graham on behalf of the ALeRCE broker\",\"discovery_datetime\":\"2020-01-27 03:51:36.999\",\"at_type\":1,\"internal_name\":\"ZTF20aaivtof\",\"remarks\":\"Early SN candidate (g-rise > 0.49+-0.02 mag\\\\/day) classified by ALeRCE using the public ZTF stream. Discovery image and light curve in http:\\\\/\\\\/alerce.online\\\\/object\\\\/ZTF20aaivtof \",\"non_detection\":{\"obsdate\":\"2020-01-24 04:08:14.997\",\"limiting_flux\":20.166700363159,\"flux_units\":1,\"filter_value\":110,\"instrument_value\":196,\"exptime\":30,\"observer\":\"Robot\",\"comments\":\"Data provided by ZTF\"},\"photometry\":{\"photometry_group\":{\"0\":{\"obsdate\":\"2020-01-27 03:51:36.999\",\"flux\":18.691947937012,\"flux_error\":0.070384539663792,\"limiting_flux\":20.323455810547,\"flux_units\":1,\"filter_value\":110,\"instrument_value\":196,\"exptime\":30,\"observer\":\"Robot\",\"comments\":\"Data provided by ZTF\"}}},\"host_name\":\"WISEA J024818.20-092651.9\"},\"8\":{\"ra\":{\"value\":64.5412164,\"error\":0.09,\"units\":\"arcsec\"},\"dec\":{\"value\":-13.4221071,\"error\":0.09,\"units\":\"arcsec\"},\"reporting_group_id\":74,\"discovery_data_source_id\":48,\"reporter\":\"F. Forster, G. Pignata, F.E. Bauer, J. Arredondo, G. Cabrera-Vives, R. Carrasco-Davis, P.A. Estevez, P. Huijse, E. Reyes, I. Reyes, P. Sanchez-Saez, C. Valenzuela, E. Castillo, D. Ruz-Mieres, D. Rodriguez-Mancini, F.E. Bauer, M. Catelan, S. Eyheramendy, M.J. Graham on behalf of the ALeRCE broker\",\"discovery_datetime\":\"2020-01-27 03:57:26.997\",\"at_type\":1,\"internal_name\":\"ZTF18abxuzwl\",\"remarks\":\"Early SN candidate (g-rise > 1.00 mag\\\\/day) classified by ALeRCE using the public ZTF stream. Discovery image and light curve in http:\\\\/\\\\/alerce.online\\\\/object\\\\/ZTF18abxuzwl \",\"non_detection\":{\"obsdate\":\"2020-01-27 03:56:47.996\",\"limiting_flux\":20.368700027466,\"flux_units\":1,\"filter_value\":110,\"instrument_value\":196,\"exptime\":30,\"observer\":\"Robot\",\"comments\":\"Data provided by ZTF\"},\"photometry\":{\"photometry_group\":{\"0\":{\"obsdate\":\"2020-01-27 03:57:26.997\",\"flux\":20.159591674805,\"flux_error\":0.17467384040356,\"limiting_flux\":20.418460845947,\"flux_units\":1,\"filter_value\":110,\"instrument_value\":196,\"exptime\":30,\"observer\":\"Robot\",\"comments\":\"Data provided by ZTF\"}}},\"host_name\":\"WISEA J041810.01-132520.0\"},\"9\":{\"ra\":{\"value\":122.9586764,\"error\":0.09,\"units\":\"arcsec\"},\"dec\":{\"value\":-7.2463835,\"error\":0.09,\"units\":\"arcsec\"},\"reporting_group_id\":74,\"discovery_data_source_id\":48,\"reporter\":\"F. Forster, G. Pignata, F.E. Bauer, J. Arredondo, G. Cabrera-Vives, R. Carrasco-Davis, P.A. Estevez, P. Huijse, E. Reyes, I. Reyes, P. Sanchez-Saez, C. Valenzuela, E. Castillo, D. Ruz-Mieres, D. Rodriguez-Mancini, F.E. Bauer, M. Catelan, S. Eyheramendy, M.J. Graham on behalf of the ALeRCE broker\",\"discovery_datetime\":\"2020-01-27 06:30:27.999\",\"at_type\":1,\"internal_name\":\"ZTF20aaizayl\",\"remarks\":\"SN candidate classified by ALeRCE using the public ZTF stream. Discovery image and light curve in http:\\\\/\\\\/alerce.online\\\\/object\\\\/ZTF20aaizayl \",\"non_detection\":{\"obsdate\":\"2020-01-24 07:05:09.004\",\"limiting_flux\":20.305299758911,\"flux_units\":1,\"filter_value\":111,\"instrument_value\":196,\"exptime\":30,\"observer\":\"Robot\",\"comments\":\"Data provided by ZTF\"},\"photometry\":{\"photometry_group\":{\"0\":{\"obsdate\":\"2020-01-27 06:30:27.999\",\"flux\":20.428131103516,\"flux_error\":0.21008695662022,\"limiting_flux\":20.525701522827,\"flux_units\":1,\"filter_value\":111,\"instrument_value\":196,\"exptime\":30,\"observer\":\"Robot\",\"comments\":\"Data provided by ZTF\"}}},\"host_name\":\"SDSS J081150.10-071445.9\",\"host_redshift\":0.148},\"10\":{\"ra\":{\"value\":146.1437293,\"error\":0.09,\"units\":\"arcsec\"},\"dec\":{\"value\":27.1527588,\"error\":0.09,\"units\":\"arcsec\"},\"reporting_group_id\":74,\"discovery_data_source_id\":48,\"reporter\":\"F. Forster, G. Pignata, F.E. Bauer, J. Arredondo, G. Cabrera-Vives, R. Carrasco-Davis, P.A. Estevez, P. Huijse, E. Reyes, I. Reyes, P. Sanchez-Saez, C. Valenzuela, E. Castillo, D. Ruz-Mieres, D. Rodriguez-Mancini, F.E. Bauer, M. Catelan, S. Eyheramendy, M.J. Graham on behalf of the ALeRCE broker\",\"discovery_datetime\":\"2020-01-27 07:12:20.002\",\"at_type\":1,\"internal_name\":\"ZTF20aajanhd\",\"remarks\":\"Early SN candidate (r-rise > 1.44+-0.11 mag\\\\/day) classified by ALeRCE using the public ZTF stream. Discovery image and light curve in http:\\\\/\\\\/alerce.online\\\\/object\\\\/ZTF20aajanhd \",\"non_detection\":{\"obsdate\":\"2020-01-26 08:28:36.998\",\"limiting_flux\":20.957000732422,\"flux_units\":1,\"filter_value\":110,\"instrument_value\":196,\"exptime\":30,\"observer\":\"Robot\",\"comments\":\"Data provided by ZTF\"},\"photometry\":{\"photometry_group\":{\"0\":{\"obsdate\":\"2020-01-27 07:12:20.002\",\"flux\":19.369747161865,\"flux_error\":0.10554786026478,\"limiting_flux\":20.534103393555,\"flux_units\":1,\"filter_value\":111,\"instrument_value\":196,\"exptime\":30,\"observer\":\"Robot\",\"comments\":\"Data provided by ZTF\"}}},\"host_name\":\"KUG 0941+273\",\"host_redshift\":0.033272},\"11\":{\"ra\":{\"value\":217.3526091,\"error\":0.09,\"units\":\"arcsec\"},\"dec\":{\"value\":60.4458756,\"error\":0.09,\"units\":\"arcsec\"},\"reporting_group_id\":74,\"discovery_data_source_id\":48,\"reporter\":\"F. Forster, G. Pignata, F.E. Bauer, J. Arredondo, G. Cabrera-Vives, R. Carrasco-Davis, P.A. Estevez, P. Huijse, E. Reyes, I. Reyes, P. Sanchez-Saez, C. Valenzuela, E. Castillo, D. Ruz-Mieres, D. Rodriguez-Mancini, F.E. Bauer, M. Catelan, S. Eyheramendy, M.J. Graham on behalf of the ALeRCE broker\",\"discovery_datetime\":\"2020-01-27 11:48:00.003\",\"at_type\":1,\"internal_name\":\"ZTF20aajcgeu\",\"remarks\":\"Early SN candidate (g-rise > 0.26+-0.09 mag\\\\/day) classified by ALeRCE using the public ZTF stream. Discovery image and light curve in http:\\\\/\\\\/alerce.online\\\\/object\\\\/ZTF20aajcgeu \",\"non_detection\":{\"obsdate\":\"2020-01-25 12:22:36.998\",\"limiting_flux\":20.515600204468,\"flux_units\":1,\"filter_value\":111,\"instrument_value\":196,\"exptime\":30,\"observer\":\"Robot\",\"comments\":\"Data provided by ZTF\"},\"photometry\":{\"photometry_group\":{\"0\":{\"obsdate\":\"2020-01-27 11:48:00.003\",\"flux\":20.042310714722,\"flux_error\":0.19690692424774,\"limiting_flux\":20.587085723877,\"flux_units\":1,\"filter_value\":110,\"instrument_value\":196,\"exptime\":30,\"observer\":\"Robot\",\"comments\":\"Data provided by ZTF\"}}},\"host_name\":\"SDSS J142924.31+602646.7\",\"host_redshift\":0.278},\"12\":{\"ra\":{\"value\":222.1830815,\"error\":0.09,\"units\":\"arcsec\"},\"dec\":{\"value\":5.0778836,\"error\":0.09,\"units\":\"arcsec\"},\"reporting_group_id\":74,\"discovery_data_source_id\":48,\"reporter\":\"F. Forster, G. Pignata, F.E. Bauer, J. Arredondo, G. Cabrera-Vives, R. Carrasco-Davis, P.A. Estevez, P. Huijse, E. Reyes, I. Reyes, P. Sanchez-Saez, C. Valenzuela, E. Castillo, D. Ruz-Mieres, D. Rodriguez-Mancini, F.E. Bauer, M. Catelan, S. Eyheramendy, M.J. Graham on behalf of the ALeRCE broker\",\"discovery_datetime\":\"2020-01-27 12:00:01.002\",\"at_type\":1,\"internal_name\":\"ZTF20aajciaq\",\"remarks\":\"SN candidate classified by ALeRCE using the public ZTF stream. Discovery image and light curve in http:\\\\/\\\\/alerce.online\\\\/object\\\\/ZTF20aajciaq \",\"non_detection\":{\"obsdate\":\"2020-01-24 13:33:06.002\",\"limiting_flux\":19.902799606323,\"flux_units\":1,\"filter_value\":111,\"instrument_value\":196,\"exptime\":30,\"observer\":\"Robot\",\"comments\":\"Data provided by ZTF\"},\"photometry\":{\"photometry_group\":{\"0\":{\"obsdate\":\"2020-01-27 12:00:01.002\",\"flux\":20.023822784424,\"flux_error\":0.20312662422657,\"limiting_flux\":20.385213851929,\"flux_units\":1,\"filter_value\":110,\"instrument_value\":196,\"exptime\":30,\"observer\":\"Robot\",\"comments\":\"Data provided by ZTF\"}}},\"host_name\":\"SDSS J144843.75+050440.0\",\"host_redshift\":0.118},\"13\":{\"ra\":{\"value\":36.4786823,\"error\":0.09,\"units\":\"arcsec\"},\"dec\":{\"value\":-8.9528472,\"error\":0.09,\"units\":\"arcsec\"},\"reporting_group_id\":74,\"discovery_data_source_id\":48,\"reporter\":\"F. Forster, G. Pignata, F.E. Bauer, J. Arredondo, G. Cabrera-Vives, R. Carrasco-Davis, P.A. Estevez, P. Huijse, E. Reyes, I. Reyes, P. Sanchez-Saez, C. Valenzuela, E. Castillo, D. Ruz-Mieres, D. Rodriguez-Mancini, F.E. Bauer, M. Catelan, S. Eyheramendy, M.J. Graham on behalf of the ALeRCE broker\",\"discovery_datetime\":\"2020-01-27 03:35:37.000\",\"at_type\":1,\"internal_name\":\"ZTF20aaivqft\",\"remarks\":\"SN candidate classified by ALeRCE using the public ZTF stream. Discovery image and light curve in http:\\\\/\\\\/alerce.online\\\\/object\\\\/ZTF20aaivqft \",\"non_detection\":{\"obsdate\":\"2020-01-27 02:55:01.998\",\"limiting_flux\":20.205299377441,\"flux_units\":1,\"filter_value\":111,\"instrument_value\":196,\"exptime\":30,\"observer\":\"Robot\",\"comments\":\"Data provided by ZTF\"},\"photometry\":{\"photometry_group\":{\"0\":{\"obsdate\":\"2020-01-27 03:35:37.000\",\"flux\":20.009782791138,\"flux_error\":0.18784600496292,\"limiting_flux\":20.331722259521,\"flux_units\":1,\"filter_value\":110,\"instrument_value\":196,\"exptime\":30,\"observer\":\"Robot\",\"comments\":\"Data provided by ZTF\"}}},\"host_name\":\"SDSS J022554.90-085711.4\"}}}}}'"
      ]
     },
     "execution_count": 22,
     "metadata": {},
     "output_type": "execute_result"
    }
   ],
   "source": [
    "r.content"
   ]
  },
  {
   "cell_type": "code",
   "execution_count": null,
   "metadata": {},
   "outputs": [],
   "source": []
  },
  {
   "cell_type": "markdown",
   "metadata": {},
   "source": [
    "# Check the following link and confirm that the latest SNe are from the reported day\n",
    "\n",
    "https://wis-tns.weizmann.ac.il/search?&discovered_period_value=1&discovered_period_units=days&reporting_groupid[]=74&discovery_data_source_id=48&num_page=50&format=html&edit[type]=&edit[objname]=&edit[id]=&display[redshift]=1&display[hostname]=1&display[host_redshift]=1&display[source_group_name]=1&display[classifying_source_group_name]=1&display[discovering_instrument_name]=0&display[classifing_instrument_name]=0&display[programs_name]=0&display[internal_name]=1&display[isTNS_AT]=0&display[public]=1&display[end_pop_period]=0&display[spectra_count]=1&display[discoverymag]=1&display[discmagfilter]=1&display[discoverydate]=1&display[discoverer]=1&display[remarks]=0&display[sources]=0&display[bibcode]=0&display[ext_catalogs]=0&sort=desc&order=discoverydate"
   ]
  },
  {
   "cell_type": "code",
   "execution_count": null,
   "metadata": {},
   "outputs": [],
   "source": []
  }
 ],
 "metadata": {
  "kernelspec": {
   "display_name": "Python 3",
   "language": "python",
   "name": "python3"
  },
  "language_info": {
   "codemirror_mode": {
    "name": "ipython",
    "version": 3
   },
   "file_extension": ".py",
   "mimetype": "text/x-python",
   "name": "python",
   "nbconvert_exporter": "python",
   "pygments_lexer": "ipython3",
   "version": "3.6.5"
  }
 },
 "nbformat": 4,
 "nbformat_minor": 2
}
