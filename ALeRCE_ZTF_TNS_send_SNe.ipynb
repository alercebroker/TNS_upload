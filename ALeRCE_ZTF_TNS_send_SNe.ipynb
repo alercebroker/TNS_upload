{
 "cells": [
  {
   "cell_type": "markdown",
   "metadata": {},
   "source": [
    "# Notebook to select host galaxies and submit candidates to TNS"
   ]
  },
  {
   "cell_type": "code",
   "execution_count": null,
   "metadata": {
    "ExecuteTime": {
     "end_time": "2024-02-13T17:16:40.051934Z",
     "start_time": "2024-02-13T17:16:39.838199Z"
    }
   },
   "outputs": [],
   "source": [
    "import sys, os\n",
    "import pandas as pd\n",
    "import numpy as np\n",
    "import ipyaladin as ipyal\n",
    "from ipywidgets import Layout, Box, widgets\n",
    "import json\n",
    "import time\n",
    "import pickle"
   ]
  },
  {
   "cell_type": "code",
   "execution_count": null,
   "metadata": {
    "ExecuteTime": {
     "end_time": "2024-02-13T17:16:40.579607Z",
     "start_time": "2024-02-13T17:16:40.095635Z"
    }
   },
   "outputs": [],
   "source": [
    "from astroquery.ned import Ned\n",
    "from astroquery.simbad import Simbad\n",
    "from astroquery.vizier import Vizier\n",
    "import astropy.units as u\n",
    "from astropy.table import Table, Column"
   ]
  },
  {
   "cell_type": "code",
   "execution_count": null,
   "metadata": {
    "ExecuteTime": {
     "end_time": "2024-02-13T17:16:40.593889Z",
     "start_time": "2024-02-13T17:16:40.583624Z"
    }
   },
   "outputs": [],
   "source": [
    "sys.path.append(\"./lib\")\n",
    "from alerce_tns import *\n",
    "#from alerce_tns_Ale230426 import *"
   ]
  },
  {
   "cell_type": "code",
   "execution_count": null,
   "metadata": {
    "ExecuteTime": {
     "end_time": "2024-02-13T17:16:40.599751Z",
     "start_time": "2024-02-13T17:16:40.598351Z"
    }
   },
   "outputs": [],
   "source": [
    "#!export PROTOCOL_BUFFERS_PYTHON_IMPLEMENTATION=python"
   ]
  },
  {
   "cell_type": "code",
   "execution_count": null,
   "metadata": {
    "ExecuteTime": {
     "end_time": "2024-02-13T17:16:42.846803Z",
     "start_time": "2024-02-13T17:16:40.942072Z"
    }
   },
   "outputs": [],
   "source": [
    "from delight.delight import Delight"
   ]
  },
  {
   "cell_type": "code",
   "execution_count": null,
   "metadata": {
    "ExecuteTime": {
     "end_time": "2024-02-13T17:16:42.877525Z",
     "start_time": "2024-02-13T17:16:42.851024Z"
    }
   },
   "outputs": [],
   "source": [
    "# continuously load modules (for easier debugging)\n",
    "%load_ext autoreload\n",
    "%autoreload 2"
   ]
  },
  {
   "cell_type": "markdown",
   "metadata": {},
   "source": [
    "# Start API"
   ]
  },
  {
   "cell_type": "code",
   "execution_count": null,
   "metadata": {
    "ExecuteTime": {
     "end_time": "2024-02-13T17:16:42.931710Z",
     "start_time": "2024-02-13T17:16:42.904847Z"
    }
   },
   "outputs": [],
   "source": [
    "alerce = alerce_tns()"
   ]
  },
  {
   "cell_type": "markdown",
   "metadata": {},
   "source": [
    "# Load recent candidates\n",
    "\n",
    "**WARNING: CHECK THE DATE**"
   ]
  },
  {
   "cell_type": "code",
   "execution_count": null,
   "metadata": {
    "ExecuteTime": {
     "end_time": "2024-02-13T17:16:44.898251Z",
     "start_time": "2024-02-13T17:16:44.867773Z"
    }
   },
   "outputs": [],
   "source": [
    "refstring = \"20240213\" #\"20220815\"\n",
    "candidates_dir = \"candidates\"\n",
    "candidates = open(\"%s/%s.csv\" % (candidates_dir, refstring), encoding='utf-8-sig').read().splitlines()\n",
    "if \"\" in candidates:\n",
    "    candidates.remove(\"\") \n",
    "candidates = np.sort(np.unique(np.array([cand.strip() for cand in candidates])))\n",
    "print(candidates, len(candidates))\n"
   ]
  },
  {
   "cell_type": "code",
   "execution_count": null,
   "metadata": {
    "ExecuteTime": {
     "end_time": "2024-02-13T17:19:51.958652Z",
     "start_time": "2024-02-13T17:16:46.333663Z"
    }
   },
   "outputs": [],
   "source": [
    "stats = alerce.query_objects(oid=candidates, format='pandas', page_size=len(candidates))\n",
    "delight_datadir = \"delight_data\"\n",
    "dclient = Delight(delight_datadir, candidates, stats.meanra.to_numpy(), stats.meandec.to_numpy())\n",
    "dclient.download()\n",
    "dclient.get_pix_coords()\n",
    "dclient.compute_multiresolution(nlevels=5, domask=False, doobject=True, doplot=False)\n",
    "dclient.load_model()\n",
    "print(\"Preprocessing\")\n",
    "dclient.preprocess()\n",
    "print(\"Predicting\")\n",
    "dclient.predict()"
   ]
  },
  {
   "cell_type": "code",
   "execution_count": null,
   "metadata": {
    "ExecuteTime": {
     "end_time": "2024-02-13T17:22:05.462336Z",
     "start_time": "2024-02-13T17:19:51.994115Z"
    },
    "scrolled": true
   },
   "outputs": [],
   "source": [
    "for oid in candidates:\n",
    "    dclient.plot_host(oid)"
   ]
  },
  {
   "cell_type": "markdown",
   "metadata": {},
   "source": [
    "# Select host galaxies using aladin widget"
   ]
  },
  {
   "cell_type": "markdown",
   "metadata": {},
   "source": [
    "## Do automatic selection"
   ]
  },
  {
   "cell_type": "code",
   "execution_count": null,
   "metadata": {
    "ExecuteTime": {
     "end_time": "2024-02-13T17:22:05.602551Z",
     "start_time": "2024-02-13T17:22:05.546845Z"
    }
   },
   "outputs": [],
   "source": [
    "bestguess = dclient.df[[\"ra_delight\", \"dec_delight\"]].rename({\"ra_delight\": \"ra\", \"dec_delight\": \"dec\"}, axis=1)\n",
    "alerce.bestguess = bestguess"
   ]
  },
  {
   "cell_type": "code",
   "execution_count": null,
   "metadata": {
    "ExecuteTime": {
     "end_time": "2024-02-13T17:41:55.857805Z",
     "start_time": "2024-02-13T17:33:01.952665Z"
    },
    "scrolled": false
   },
   "outputs": [],
   "source": [
    "# if ned, simbad or sdssdr16 apis fail disable their option\n",
    "alerce.select_hosts(candidates, refstring, ned=True, simbad=True, SDSSDR16=True, catsHTM=False, vizier=False)"
   ]
  },
  {
   "cell_type": "markdown",
   "metadata": {},
   "source": [
    "## Do manual selections for errors"
   ]
  },
  {
   "cell_type": "markdown",
   "metadata": {},
   "source": [
    "Errors could happen because of an error in DELIGHT or because the association favoured a more distant host with redshift."
   ]
  },
  {
   "cell_type": "code",
   "execution_count": null,
   "metadata": {
    "ExecuteTime": {
     "end_time": "2024-02-13T17:49:07.692365Z",
     "start_time": "2024-02-13T17:48:59.841812Z"
    },
    "scrolled": false
   },
   "outputs": [],
   "source": [
    "# interesting example that works well ZTF23aaqocso\n",
    "#[\"ZTF23aavmgln\"]#'ZTF23aatvump', \"ZTF23aatzjyz\"]#ZTF23aatpmpk']#\"ZTF23aaqyrha\", \"ZTF23aarvadj\"]#\"ZTF23aaqpzom\", \"ZTF23aaqqfac\"] #\"ZTF23aaqctty\"]#\"ZTF23aapssmi\", \"ZTF23aapthmh\"]#\"ZTF23aanlgap\"]#\"ZTF23aampyvc\"]#\"ZTF23aamqklj\", \"ZTF23aamscqd\"]#'ZTF23aajgivv'] #'ZTF23aaiyxbx', \"ZTF23aaiztxa\"]#\"ZTF23aailczv\"]#\"ZTF23aagaimn\"] #\"ZTF22abvvpcm\", \"ZTF23aafwzot\"]#\"ZTF23aaelbet\", \"ZTF23aafqlnn\"] #\"ZTF23aaelqpq\", \"ZTF23aaenqok\"]#\"ZTF23aadvjqb\", \"ZTF23aaeedgu\"]#\"ZTF23aaaoiap\", \"ZTF23aaapqrh\"] #\"ZTF23aaalucb\"]#\"ZTF22abyzowo\"]#\"ZTF22abyodaq\"]#\"ZTF22abtoqfj\", \"ZTF22abuqqxy\"]#\"ZTF22aboawxv\"]#\"ZTF22abpmlkx\", \"ZTF22abqtdyh\", \"ZTF22abrahwy\", \"ZTF22abrezqt\", \"ZTF22abrfsba\", \"ZTF22abrftlp\", \"ZTF22abrhrbn\"]#\"ZTF22abnvljq\", \"ZTF22abnyjut\", \"ZTF22abpqcoj\"]#\"ZTF22abivrnq\", \"ZTF22abjrcte\", \"ZTF22abjuhua\"]#\"ZTF22abhklzv\", \"ZTF22abhxqgv\", \"ZTF22abickzh\"]#\"ZTF22abhclyh\", \"ZTF22abhudnw\", \"ZTF22abhvfmz\"]#\"ZTF22abgkeqz\"] #ZTF22abfzvai\", \"ZTF22abgdolw\", \"ZTF22abghfyi\"]#ZTF22abfdiwm\"]#\"ZTF22aazuomx\"]#ZTF22aazkhnu\"]#\"ZTF22aayylvj\", \"ZTF22aazaxcu\"]#\"ZTF22aaxafin\"]#\"ZTF22aasxnjm\", \"ZTF22aatrnbl\", \"ZTF22aattadv\"] #\"ZTF22aaujkdb\", \"ZTF22aaveghe\"]\n",
    "errors = [\"ZTF24aafbfgj\"] #\"ZTF24aaekaaj\", \"ZTF24aaekogp\"]#[\"ZTF24aaaajjt\"] #[\"ZTF23abvotgv\"]#\"ZTF23abteyml\"]#\"ZTF23abooocr\"]#\"ZTF23abpbdfm\"]#\"ZTF23aajlkxc\"]#\"ZTF23abjtxza\", \"ZTF23abjwfjb\"]#\"ZTF23abjgjnm\"] #\"ZTF23abjfiiw\"]#\"ZTF23abivqyc\"]#\"ZTF23abdgsbw\", \"ZTF23abdyqcv\"]#\"ZTF23aazuzds\"]#, \"ZTF23aazzgxk\"]\n",
    "# confirm if this was a problem with DELIGHT\n",
    "#for oid in errors:\n",
    "#    dclient.plot_host(oid)\n",
    "# do manual selection\n",
    "if errors != []:\n",
    "    alerce.select_hosts(errors, refstring, ned=True, simbad=True, catsHTM=False, vizier=False, dobestguess=False)"
   ]
  },
  {
   "cell_type": "markdown",
   "metadata": {},
   "source": [
    "## Manual modifications"
   ]
  },
  {
   "cell_type": "code",
   "execution_count": null,
   "metadata": {
    "ExecuteTime": {
     "end_time": "2024-02-12T17:38:20.843271Z",
     "start_time": "2024-02-12T17:38:20.814932Z"
    }
   },
   "outputs": [],
   "source": [
    "#oid = \"ZTF18acbycde\"#oid = \"ZTF21ablxqtj\"\n",
    "#oid = \"ZTF21acbcfmh\" #ZTF21abidhcz\"\n",
    "##oid = 'ZTF20aclzygy'#ZTF20acgigfo'\n",
    "##oid = \"ZTF20aaqrmxg\" #\"ZTF20aakdppm\" #ZTF19acxrihd\"\n",
    "#oid = 'ZTF22aaajgss' #ZTF21aaryakx' #ZTF20acvbneg'\n",
    "#alerce.candidate_hosts.host_name[oid] = \"M31\"\n",
    "#alerce.candidate_hosts.host_ra[oid] = \"\"\n",
    "#alerce.candidate_hosts.host_dec[oid] = \"\"\n",
    "#alerce.candidate_hosts.host_offset[oid] = \"\"\n",
    "#alerce.candidate_hosts.host_source[oid] = \"\"\n",
    "#alerce.candidate_hosts.host_offset_bestguess[oid] = \"\"\n",
    "#alerce.candidate_hosts.bestguess_offset[oid] = \"\"\n",
    "#alerce.candidate_hosts.host_redshift_spec[oid] = True\n",
    "#alerce.candidate_hosts.host_redshift[oid] = = \"0.001341\"\n",
    "#alerce.candidate_hosts.host_redshift_error[oid] = \"0.000040\"\n",
    "#alerce.candidate_hosts.host_redshift_type[oid] = \"specz\"\n",
    "# #\"nan\" #\"0.041\" #nan\"\n",
    "##for i in list(alerce.candidate_hosts):\n",
    "##    alerce.candidate_hosts.loc['ZTF21aaryakx'][i] = \"NULL\""
   ]
  },
  {
   "cell_type": "markdown",
   "metadata": {},
   "source": [
    "## Save hosts"
   ]
  },
  {
   "cell_type": "code",
   "execution_count": null,
   "metadata": {
    "ExecuteTime": {
     "end_time": "2024-02-13T17:49:13.119760Z",
     "start_time": "2024-02-13T17:49:13.043354Z"
    }
   },
   "outputs": [],
   "source": [
    "alerce.candidate_hosts.to_csv(\"hosts/%s_hosts.csv\" % refstring)\n",
    "alerce.candidate_hosts.head(100)"
   ]
  },
  {
   "cell_type": "markdown",
   "metadata": {},
   "source": [
    "## Show nearest sources (z < 0.01)"
   ]
  },
  {
   "cell_type": "code",
   "execution_count": null,
   "metadata": {
    "ExecuteTime": {
     "end_time": "2024-02-13T17:49:14.452488Z",
     "start_time": "2024-02-13T17:49:14.391430Z"
    }
   },
   "outputs": [],
   "source": [
    "alerce.candidate_hosts.host_redshift"
   ]
  },
  {
   "cell_type": "code",
   "execution_count": null,
   "metadata": {
    "ExecuteTime": {
     "end_time": "2024-02-13T17:49:14.991782Z",
     "start_time": "2024-02-13T17:49:14.931755Z"
    }
   },
   "outputs": [],
   "source": [
    "alerce.candidate_hosts.host_redshift.loc[alerce.candidate_hosts.host_redshift == '--'] = \"NULL\""
   ]
  },
  {
   "cell_type": "code",
   "execution_count": null,
   "metadata": {
    "ExecuteTime": {
     "end_time": "2024-02-13T17:49:15.776799Z",
     "start_time": "2024-02-13T17:49:15.712958Z"
    }
   },
   "outputs": [],
   "source": [
    "zth = 0.1\n",
    "nearest = pd.to_numeric(alerce.candidate_hosts.loc[alerce.candidate_hosts.host_redshift != \"NULL\"].host_redshift).sort_values()\n",
    "nearest = nearest.loc[nearest < zth]\n",
    "for i in [\"https://alerce.online/object/%s %s\" % (i, alerce.candidate_hosts.host_redshift.loc[i]) for i in nearest.index]:\n",
    "    print(i)"
   ]
  },
  {
   "cell_type": "markdown",
   "metadata": {},
   "source": [
    "# Prepare TNS report"
   ]
  },
  {
   "cell_type": "markdown",
   "metadata": {},
   "source": [
    "## Sandbox or real"
   ]
  },
  {
   "cell_type": "code",
   "execution_count": null,
   "metadata": {
    "ExecuteTime": {
     "end_time": "2024-02-13T17:49:17.215305Z",
     "start_time": "2024-02-13T17:49:17.152751Z"
    }
   },
   "outputs": [],
   "source": [
    "sandbox = False #False # True: test in sandbox, False: send to real website"
   ]
  },
  {
   "cell_type": "markdown",
   "metadata": {},
   "source": [
    "## Get API key and url"
   ]
  },
  {
   "cell_type": "code",
   "execution_count": null,
   "metadata": {
    "ExecuteTime": {
     "end_time": "2024-02-13T17:49:18.385500Z",
     "start_time": "2024-02-13T17:49:18.322549Z"
    },
    "scrolled": true
   },
   "outputs": [],
   "source": [
    "if sandbox:\n",
    "    print(\"Getting API sandbox key...\")\n",
    "    api_key = open(\"API_sandbox.key\", \"r\").read()\n",
    "    api_key = open(\"API.key\", \"r\").read() # sandbox key appears not to be working\n",
    "else:\n",
    "    print(\"Getting API key...\")\n",
    "    api_key = open(\"API.key\", \"r\").read()\n",
    "    \n",
    "if sandbox:\n",
    "    url_tns_api = \"https://sandbox.wis-tns.org/api\" #\"https://www.wis-tns.org/\" #\"https://sandbox-tns.weizmann.ac.il/api\"\n",
    "else:\n",
    "    url_tns_api = \"https://www.wis-tns.org/api\" #\"https://wis-tns.weizmann.ac.il/api\" #\"https://www.wis-tns.org/\" #\"https://wis-tns.weizmann.ac.il/api\"\n",
    "    \n",
    "if not sandbox:\n",
    "    print(\"WARNING: submitting to real (not sandbox) TNS website\")"
   ]
  },
  {
   "cell_type": "markdown",
   "metadata": {},
   "source": [
    "## Confirm reporter names\n",
    "\n",
    "This is also used for Skyportal"
   ]
  },
  {
   "cell_type": "code",
   "execution_count": null,
   "metadata": {
    "ExecuteTime": {
     "end_time": "2024-02-13T17:49:19.412328Z",
     "start_time": "2024-02-13T17:49:19.355588Z"
    }
   },
   "outputs": [],
   "source": [
    "reporter = \"F. Forster, F.E. Bauer, G. Pignata, A. Munoz-Arancibia, A. Mourao, L. Hernandez-Garcia, J.P. Brandt, L. Galbany, J. Silva-Farfan, R. Dastidar, E. Camacho, A. Alvarez, G. Cabrera-Vives, R. Carrasco-Davis, P.A. Estevez, P. Gallardo, P. Huijse, H. Larranaga, E. Pizarro, I. Reyes, P. Sanchez-Saez, A. Sepulveda, D. Rodriguez-Mancini, M. Catelan, S. Eyheramendy, M.J. Graham on behalf of the ALeRCE broker\""
   ]
  },
  {
   "cell_type": "markdown",
   "metadata": {},
   "source": [
    "## Build the report"
   ]
  },
  {
   "cell_type": "code",
   "execution_count": null,
   "metadata": {
    "ExecuteTime": {
     "end_time": "2024-02-13T17:55:58.928684Z",
     "start_time": "2024-02-13T17:49:20.463175Z"
    },
    "scrolled": false
   },
   "outputs": [],
   "source": [
    "# first author: the person submitting, 2nd author: those that vetoed, then everyone else\n",
    "tns_report = {\"at_report\": {}}\n",
    "counter = 0\n",
    "for oid in candidates[::-1]: # invert to report old candidates first\n",
    "    #if oid in [\"ZTF20aauqmwf\"]:#[\"ZTF19acgjpfd\", \"ZTF18acszatf\", \"ZTF18acrkmnm\"]:\n",
    "    #    continue\n",
    "    #if oid in [\"ZTF20acqnfkh \", \"ZTF20acneabh\"]:#ZTF20acplctd\":#aamtgd\": #ZTF19acymtgr\": #ZTF19acnqqhl\":#in [\"ZTF19acmdwjy\", \"ZTF19acmdwjz\"]:\n",
    "    #    continue\n",
    "    #if oid == \"ZTF20ablnjwh\": #ZTF20abkmxrm\":#ZTF20abgfgne\":\n",
    "    #    continue\n",
    "    if oid in [\"ZTF23aafxbvj\", \"ZTF22aabrskg\"]: #ZTF21abgvidd\"]: #ZTF21aawgsfp\"]:#ZTF21aalcrjh\"]: #ZTF21aaanwxo\"]:#, ZTF20adadixi\"]:# ZTF20acsggey\"]:#, \"ZTF20acmevcc\", \"ZTF20acmctng\", \"ZTF20acmdvzk\"]: #== \"ZTF20acgknep\":#\"ZTF20acdcdqq\": #ZTF20acaehey\": #ZTF20abyjoxb\":#\"ZTF20abqjddh\":#ZTF20abkxqzv\":#ZTF20abgbfyk\":\n",
    "        continue\n",
    "\n",
    "    print(\"\\n\", counter, oid)\n",
    "    sn_report = alerce.do_TNS_report(api_key, oid, reporter, verbose=False, test=False)\n",
    "    if sn_report:# or oid == \"ZTF20abyptpc\":\n",
    "        tns_report[\"at_report\"][\"%i\" % counter] = sn_report\n",
    "        counter += 1\n"
   ]
  },
  {
   "cell_type": "markdown",
   "metadata": {},
   "source": [
    "## Manual modifications"
   ]
  },
  {
   "cell_type": "code",
   "execution_count": null,
   "metadata": {
    "ExecuteTime": {
     "end_time": "2024-02-13T17:55:59.054816Z",
     "start_time": "2024-02-13T17:55:59.022339Z"
    }
   },
   "outputs": [],
   "source": [
    "#report['at_report']['0']['remarks'] = \"Fast rising transient (g-rise > 1.48 mag/day)\"#report['at_report']['3']['remarks'] = 'Nova candidate in M31 (g-rise > 0.16+-0.01 mag/day, r-rise > 0.24+-0.01 mag/day) classified by ALeRCE using the public ZTF stream. Discovery image and light curve in http://alerce.online/object/ZTF19acxrihd '"
   ]
  },
  {
   "cell_type": "code",
   "execution_count": null,
   "metadata": {
    "ExecuteTime": {
     "end_time": "2024-02-13T17:55:59.145687Z",
     "start_time": "2024-02-13T17:55:59.111582Z"
    }
   },
   "outputs": [],
   "source": [
    "#oid = \"ZTF21ablxqtj\"\n",
    "#for i in tns_report[\"at_report\"].keys():\n",
    "#    if tns_report[\"at_report\"][i][\"internal_name\"] == oid:\n",
    "#        tns_report[\"at_report\"][i][\"remarks\"] = tns_report[\"at_report\"][i][\"remarks\"].replace(\"SN candidate\", \"Nova candidate in M31\")\n",
    "#        print(tns_report[\"at_report\"][i][\"remarks\"])"
   ]
  },
  {
   "cell_type": "markdown",
   "metadata": {},
   "source": [
    "## Display report"
   ]
  },
  {
   "cell_type": "code",
   "execution_count": null,
   "metadata": {
    "ExecuteTime": {
     "end_time": "2024-02-13T17:55:59.271391Z",
     "start_time": "2024-02-13T17:55:59.207126Z"
    },
    "scrolled": true
   },
   "outputs": [],
   "source": [
    "print(json.dumps(tns_report, indent=4, sort_keys=True))"
   ]
  },
  {
   "cell_type": "markdown",
   "metadata": {},
   "source": [
    "## Look for fast risers"
   ]
  },
  {
   "cell_type": "code",
   "execution_count": null,
   "metadata": {
    "ExecuteTime": {
     "end_time": "2024-02-13T17:55:59.392358Z",
     "start_time": "2024-02-13T17:55:59.356727Z"
    },
    "scrolled": false
   },
   "outputs": [],
   "source": [
    "for i in tns_report[\"at_report\"]:\n",
    "    if tns_report[\"at_report\"][i][\"remarks\"][:5] == \"Early\":\n",
    "        try:\n",
    "            for rise in re.findall(\"rise\\s>\\s(.*?)\\+-.*?\\smag\", tns_report[\"at_report\"][i][\"remarks\"]):\n",
    "                if float(rise) >= 0.25:\n",
    "                    print(tns_report[\"at_report\"][i][\"remarks\"])\n",
    "                    continue\n",
    "        except:\n",
    "            rise = float(re.findall(\"rise\\s>\\s(.*?)\\s\", tns_report[\"at_report\"][i][\"remarks\"])[0])\n",
    "            if rise >= 0.25:\n",
    "                print(tns_report[\"at_report\"][i][\"remarks\"])"
   ]
  },
  {
   "cell_type": "markdown",
   "metadata": {},
   "source": [
    "## Save report"
   ]
  },
  {
   "cell_type": "code",
   "execution_count": null,
   "metadata": {
    "ExecuteTime": {
     "end_time": "2024-02-13T17:55:59.521493Z",
     "start_time": "2024-02-13T17:55:59.476343Z"
    }
   },
   "outputs": [],
   "source": [
    "json_report = '%s/%s.json' % (candidates_dir, refstring)\n",
    "with open(json_report, 'w') as outfile:\n",
    "    json.dump(tns_report, outfile)"
   ]
  },
  {
   "cell_type": "markdown",
   "metadata": {},
   "source": [
    "## Send to TNS\n",
    "\n",
    "**WARNING: key is used to send candidates!**"
   ]
  },
  {
   "cell_type": "code",
   "execution_count": null,
   "metadata": {
    "ExecuteTime": {
     "end_time": "2024-02-13T17:56:50.961365Z",
     "start_time": "2024-02-13T17:56:50.896005Z"
    }
   },
   "outputs": [],
   "source": [
    "json_report"
   ]
  },
  {
   "cell_type": "code",
   "execution_count": null,
   "metadata": {
    "ExecuteTime": {
     "end_time": "2024-02-13T17:56:54.862825Z",
     "start_time": "2024-02-13T17:56:52.043370Z"
    }
   },
   "outputs": [],
   "source": [
    "r = alerce.send_json_report(api_key, url_tns_api, json_report)"
   ]
  },
  {
   "cell_type": "markdown",
   "metadata": {},
   "source": [
    "## Show output"
   ]
  },
  {
   "cell_type": "code",
   "execution_count": null,
   "metadata": {
    "ExecuteTime": {
     "end_time": "2024-02-13T17:56:55.059121Z",
     "start_time": "2024-02-13T17:56:54.974529Z"
    },
    "scrolled": true
   },
   "outputs": [],
   "source": [
    "r.content"
   ]
  },
  {
   "cell_type": "markdown",
   "metadata": {},
   "source": [
    "## Show feedback"
   ]
  },
  {
   "cell_type": "code",
   "execution_count": null,
   "metadata": {
    "ExecuteTime": {
     "end_time": "2024-02-13T17:56:58.708618Z",
     "start_time": "2024-02-13T17:56:58.649983Z"
    }
   },
   "outputs": [],
   "source": [
    "# function for getting reply from report                             \n",
    "def reply(url, report_id):                                           \n",
    "    try:                                                               \n",
    "        # url for getting report reply                                   \n",
    "        reply_url=url+'/bulk-report-reply'                               \n",
    "        # construct list of (key,value) pairs                                \n",
    "        reply_data=[('api_key',(None, api_key)),                         \n",
    "                    ('report_id',(None,report_id))]                      \n",
    "        # send report ID using request module                            \n",
    "        response=requests.post(reply_url, files=reply_data, headers=alerce.tns_headers)              \n",
    "        # return response                                                \n",
    "        return response                                                  \n",
    "    except Exception as e:                                             \n",
    "        return [None,'Error message : \\n'+str(e)]  "
   ]
  },
  {
   "cell_type": "code",
   "execution_count": null,
   "metadata": {
    "ExecuteTime": {
     "end_time": "2024-02-13T17:57:32.266407Z",
     "start_time": "2024-02-13T17:57:30.687607Z"
    },
    "scrolled": true
   },
   "outputs": [],
   "source": [
    "try:\n",
    "    feedback = reply(url_tns_api, r.json()[\"data\"][\"report_id\"]).json()[\"data\"][\"feedback\"]\n",
    "    print(feedback)\n",
    "except:\n",
    "    print(\"Report not available, probably being processed. Please try again...\")"
   ]
  },
  {
   "cell_type": "markdown",
   "metadata": {
    "ExecuteTime": {
     "end_time": "2021-07-31T20:36:26.016443Z",
     "start_time": "2021-07-31T20:36:25.984944Z"
    }
   },
   "source": [
    "## Check the following link and confirm that the latest SNe are from the reported day\n",
    "\n",
    "https://www.wis-tns.org/search?&discovered_period_value=1&discovered_period_units=days&reporting_groupid[]=74&discovery_data_source_id=48&num_page=50&format=html&edit[type]=&edit[objname]=&edit[id]=&display[redshift]=1&display[hostname]=1&display[host_redshift]=1&display[source_group_name]=1&display[classifying_source_group_name]=1&display[discovering_instrument_name]=0&display[classifing_instrument_name]=0&display[programs_name]=0&display[internal_name]=1&display[isTNS_AT]=0&display[public]=1&display[end_pop_period]=0&display[spectra_count]=1&display[discoverymag]=1&display[discmagfilter]=1&display[discoverydate]=1&display[discoverer]=1&display[remarks]=0&display[sources]=0&display[bibcode]=0&display[ext_catalogs]=0&sort=desc&order=discoverydate"
   ]
  },
  {
   "cell_type": "code",
   "execution_count": null,
   "metadata": {},
   "outputs": [],
   "source": []
  },
  {
   "cell_type": "code",
   "execution_count": null,
   "metadata": {},
   "outputs": [],
   "source": []
  },
  {
   "cell_type": "code",
   "execution_count": null,
   "metadata": {},
   "outputs": [],
   "source": []
  },
  {
   "cell_type": "code",
   "execution_count": null,
   "metadata": {},
   "outputs": [],
   "source": []
  },
  {
   "cell_type": "markdown",
   "metadata": {},
   "source": [
    "Ignore everything from here"
   ]
  },
  {
   "cell_type": "markdown",
   "metadata": {},
   "source": [
    "# Prepare SkyPortal report"
   ]
  },
  {
   "cell_type": "code",
   "execution_count": null,
   "metadata": {
    "ExecuteTime": {
     "end_time": "2024-01-27T21:01:09.871447Z",
     "start_time": "2024-01-27T21:01:09.776090Z"
    }
   },
   "outputs": [],
   "source": [
    "alerce.candidate_hosts = pd.read_csv(\"hosts/%s_hosts.csv\" % refstring)\n",
    "alerce.candidate_hosts.set_index(\"oid\", inplace=True)\n",
    "alerce.candidate_hosts.fillna(\"NULL\", inplace=True)\n",
    "alerce.candidate_hosts"
   ]
  },
  {
   "cell_type": "markdown",
   "metadata": {},
   "source": [
    "## Load credentials"
   ]
  },
  {
   "cell_type": "code",
   "execution_count": null,
   "metadata": {
    "ExecuteTime": {
     "end_time": "2024-01-27T21:01:11.533166Z",
     "start_time": "2024-01-27T21:01:11.451444Z"
    }
   },
   "outputs": [],
   "source": [
    "skyportal_url = \"http://desi2.lbl.gov:5000/api\"\n",
    "credentials_file = \"credentials_skyportal.json\"\n",
    "with open(credentials_file) as jsonfile:\n",
    "    params = json.load(jsonfile)\n",
    "token = params[\"token\"]"
   ]
  },
  {
   "cell_type": "markdown",
   "metadata": {},
   "source": [
    "## Build the report"
   ]
  },
  {
   "cell_type": "code",
   "execution_count": null,
   "metadata": {
    "ExecuteTime": {
     "end_time": "2024-01-27T21:01:21.779863Z",
     "start_time": "2024-01-27T21:01:20.573203Z"
    },
    "scrolled": true
   },
   "outputs": [],
   "source": [
    "skyportal_report = []\n",
    "counter = 0\n",
    "for oid in candidates[::-1]: # invert to report old candidates first\n",
    "    if oid in [\"ZTF21abkvttz\"]: #ZTF21abhpdgd\", \"ZTF21abgtlir\"]:\n",
    "        continue\n",
    "    print(\"\\n\", counter, oid)\n",
    "    sn_report = alerce.do_skyportal_report(skyportal_url, token, oid, reporter, verbose=False, test=False)\n",
    "    if sn_report:# or oid == \"ZTF20abyptpc\":\n",
    "        skyportal_report.append(sn_report)\n",
    "        counter += 1"
   ]
  },
  {
   "cell_type": "markdown",
   "metadata": {},
   "source": [
    "## Save report"
   ]
  },
  {
   "cell_type": "code",
   "execution_count": null,
   "metadata": {
    "ExecuteTime": {
     "end_time": "2021-10-23T19:02:03.758275Z",
     "start_time": "2021-10-23T19:02:03.746364Z"
    },
    "scrolled": true
   },
   "outputs": [],
   "source": [
    "with open('%s_skyportal.pickle' % refstring, 'wb') as handle:\n",
    "    pickle.dump(skyportal_report, handle, protocol=pickle.HIGHEST_PROTOCOL)\n",
    "\n",
    "with open('%s_skyportal.pickle' % refstring, 'rb') as handle:\n",
    "    skyportal_report = pickle.load(handle)\n",
    "    \n",
    "display(skyportal_report)"
   ]
  },
  {
   "cell_type": "markdown",
   "metadata": {},
   "source": [
    "## Submit to SkyPortal"
   ]
  },
  {
   "cell_type": "code",
   "execution_count": null,
   "metadata": {
    "ExecuteTime": {
     "end_time": "2021-10-17T20:14:51.249755Z",
     "start_time": "2021-10-17T20:14:05.192998Z"
    },
    "scrolled": true
   },
   "outputs": [],
   "source": [
    "for report in skyportal_report:\n",
    "    print(report[\"candidates\"][\"id\"])\n",
    "    alerce.send_skyportal_report(skyportal_url, token, report)"
   ]
  },
  {
   "cell_type": "markdown",
   "metadata": {
    "ExecuteTime": {
     "end_time": "2021-03-18T01:50:52.495888Z",
     "start_time": "2021-03-18T01:50:52.464312Z"
    }
   },
   "source": [
    "## Check SkyPortal"
   ]
  },
  {
   "cell_type": "markdown",
   "metadata": {},
   "source": [
    "http://desi2.lbl.gov:5000/candidates"
   ]
  },
  {
   "cell_type": "markdown",
   "metadata": {},
   "source": []
  },
  {
   "cell_type": "code",
   "execution_count": null,
   "metadata": {},
   "outputs": [],
   "source": []
  }
 ],
 "metadata": {
  "kernelspec": {
   "display_name": "Python 3",
   "language": "python",
   "name": "python3"
  },
  "language_info": {
   "codemirror_mode": {
    "name": "ipython",
    "version": 3
   },
   "file_extension": ".py",
   "mimetype": "text/x-python",
   "name": "python",
   "nbconvert_exporter": "python",
   "pygments_lexer": "ipython3",
   "version": "3.8.8"
  },
  "toc": {
   "base_numbering": 1,
   "nav_menu": {},
   "number_sections": true,
   "sideBar": true,
   "skip_h1_title": false,
   "title_cell": "Table of Contents",
   "title_sidebar": "Contents",
   "toc_cell": false,
   "toc_position": {
    "height": "calc(100% - 180px)",
    "left": "10px",
    "top": "150px",
    "width": "165px"
   },
   "toc_section_display": true,
   "toc_window_display": true
  },
  "varInspector": {
   "cols": {
    "lenName": 16,
    "lenType": 16,
    "lenVar": 40
   },
   "kernels_config": {
    "python": {
     "delete_cmd_postfix": "",
     "delete_cmd_prefix": "del ",
     "library": "var_list.py",
     "varRefreshCmd": "print(var_dic_list())"
    },
    "r": {
     "delete_cmd_postfix": ") ",
     "delete_cmd_prefix": "rm(",
     "library": "var_list.r",
     "varRefreshCmd": "cat(var_dic_list()) "
    }
   },
   "types_to_exclude": [
    "module",
    "function",
    "builtin_function_or_method",
    "instance",
    "_Feature"
   ],
   "window_display": false
  }
 },
 "nbformat": 4,
 "nbformat_minor": 2
}
