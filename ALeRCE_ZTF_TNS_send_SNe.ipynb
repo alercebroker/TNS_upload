{
 "cells": [
  {
   "cell_type": "markdown",
   "metadata": {},
   "source": [
    "# Notebook to select host galaxies and submit candidates to TNS"
   ]
  },
  {
   "cell_type": "code",
   "execution_count": 1,
   "metadata": {
    "ExecuteTime": {
     "end_time": "2020-11-15T19:53:28.393788Z",
     "start_time": "2020-11-15T19:53:27.612155Z"
    }
   },
   "outputs": [],
   "source": [
    "import sys, os\n",
    "import pandas as pd\n",
    "import numpy as np\n",
    "import ipyaladin as ipyal\n",
    "from ipywidgets import Layout, Box, widgets"
   ]
  },
  {
   "cell_type": "code",
   "execution_count": 2,
   "metadata": {
    "ExecuteTime": {
     "end_time": "2020-11-15T19:53:29.099323Z",
     "start_time": "2020-11-15T19:53:28.395387Z"
    }
   },
   "outputs": [],
   "source": [
    "from astroquery.ned import Ned\n",
    "from astroquery.simbad import Simbad\n",
    "from astroquery.vizier import Vizier\n",
    "import astropy.units as u\n",
    "from astropy.table import Table, Column"
   ]
  },
  {
   "cell_type": "code",
   "execution_count": 3,
   "metadata": {
    "ExecuteTime": {
     "end_time": "2020-11-15T19:53:29.127236Z",
     "start_time": "2020-11-15T19:53:29.101243Z"
    }
   },
   "outputs": [],
   "source": [
    "sys.path.append(\"./lib\")\n",
    "from alerce_tns import *"
   ]
  },
  {
   "cell_type": "code",
   "execution_count": 4,
   "metadata": {
    "ExecuteTime": {
     "end_time": "2020-11-15T19:53:29.142769Z",
     "start_time": "2020-11-15T19:53:29.128779Z"
    }
   },
   "outputs": [],
   "source": [
    "# continuously load modules (for easier debugging)\n",
    "%load_ext autoreload\n",
    "%autoreload 2"
   ]
  },
  {
   "cell_type": "markdown",
   "metadata": {},
   "source": [
    "# Start API"
   ]
  },
  {
   "cell_type": "code",
   "execution_count": 5,
   "metadata": {
    "ExecuteTime": {
     "end_time": "2020-11-15T19:53:29.156468Z",
     "start_time": "2020-11-15T19:53:29.144425Z"
    }
   },
   "outputs": [],
   "source": [
    "alerce = alerce_tns()"
   ]
  },
  {
   "cell_type": "markdown",
   "metadata": {},
   "source": [
    "# Load recent candidates\n",
    "\n",
    "# CHANGE DATE"
   ]
  },
  {
   "cell_type": "code",
   "execution_count": 28,
   "metadata": {
    "ExecuteTime": {
     "end_time": "2020-11-15T20:23:29.913220Z",
     "start_time": "2020-11-15T20:23:29.891201Z"
    }
   },
   "outputs": [
    {
     "name": "stdout",
     "output_type": "stream",
     "text": [
      "['ZTF20acqnfkh'] 1\n"
     ]
    }
   ],
   "source": [
    "refstring = \"20201115b\"\n",
    "candidates_dir = \"candidates\"\n",
    "candidates = open(\"%s/%s.csv\" % (candidates_dir, refstring), encoding='utf-8-sig').read().splitlines()\n",
    "print(candidates, len(candidates))"
   ]
  },
  {
   "cell_type": "markdown",
   "metadata": {},
   "source": [
    "# Select host galaxies using aladin widget"
   ]
  },
  {
   "cell_type": "code",
   "execution_count": 29,
   "metadata": {
    "ExecuteTime": {
     "end_time": "2020-11-15T20:23:43.354200Z",
     "start_time": "2020-11-15T20:23:31.376844Z"
    },
    "scrolled": false
   },
   "outputs": [
    {
     "data": {
      "application/vnd.jupyter.widget-view+json": {
       "model_id": "31dee570c3a64334a8b7156b0e8408bb",
       "version_major": 2,
       "version_minor": 0
      },
      "text/plain": [
       "Box(children=(Aladin(fov=0.025, layout=Layout(width='70%'), options=['allow_full_zoomout', 'coo_frame', 'fov',…"
      ]
     },
     "metadata": {},
     "output_type": "display_data"
    },
    {
     "name": "stderr",
     "output_type": "stream",
     "text": [
      "/home/fforster/anaconda3/lib/python3.6/site-packages/astroquery/simbad/core.py:138: UserWarning: Warning: The script line number 3 raised an error (recorded in the `errors` attribute of the result table): '8:24:47.8419 -20:48:47.1802': No astronomical object found :\n",
      "  (error.line, error.msg))\n"
     ]
    },
    {
     "name": "stdout",
     "output_type": "stream",
     "text": [
      "None\r"
     ]
    }
   ],
   "source": [
    "alerce.select_hosts(candidates, catsHTM=False, vizier=False)"
   ]
  },
  {
   "cell_type": "code",
   "execution_count": 30,
   "metadata": {
    "ExecuteTime": {
     "end_time": "2020-11-15T20:23:48.824287Z",
     "start_time": "2020-11-15T20:23:48.796062Z"
    },
    "scrolled": false
   },
   "outputs": [
    {
     "data": {
      "text/plain": [
       "{'ZTF20acqnfkh': 'WISEA J082447.77-204847.1'}"
      ]
     },
     "execution_count": 30,
     "metadata": {},
     "output_type": "execute_result"
    }
   ],
   "source": [
    "alerce.candidate_host_names"
   ]
  },
  {
   "cell_type": "code",
   "execution_count": 31,
   "metadata": {
    "ExecuteTime": {
     "end_time": "2020-11-15T20:23:49.279732Z",
     "start_time": "2020-11-15T20:23:49.250390Z"
    }
   },
   "outputs": [
    {
     "data": {
      "text/plain": [
       "{'ZTF20acqnfkh': 'nan'}"
      ]
     },
     "execution_count": 31,
     "metadata": {},
     "output_type": "execute_result"
    }
   ],
   "source": [
    "alerce.candidate_host_redshifts"
   ]
  },
  {
   "cell_type": "markdown",
   "metadata": {},
   "source": [
    "# Manual modifications"
   ]
  },
  {
   "cell_type": "code",
   "execution_count": 32,
   "metadata": {
    "ExecuteTime": {
     "end_time": "2020-11-15T20:23:50.307207Z",
     "start_time": "2020-11-15T20:23:50.290266Z"
    }
   },
   "outputs": [],
   "source": [
    "#oid = \"ZTF20acpkmtf\"\n",
    "#oid = 'ZTF20aclzygy'#ZTF20acgigfo'\n",
    "#oid = \"ZTF20aaqrmxg\" #\"ZTF20aakdppm\" #ZTF19acxrihd\"\n",
    "#oid = 'ZTF20acoqrpm'\n",
    "#alerce.candidate_host_names[oid] = \"M31\"\n",
    "#alerce.candidate_host_redshifts[oid] = \"nan\" #\"0.041\" #nan\""
   ]
  },
  {
   "cell_type": "markdown",
   "metadata": {},
   "source": [
    "# Clean nans or -999 or -9999"
   ]
  },
  {
   "cell_type": "code",
   "execution_count": 33,
   "metadata": {
    "ExecuteTime": {
     "end_time": "2020-11-15T20:23:50.958797Z",
     "start_time": "2020-11-15T20:23:50.934294Z"
    }
   },
   "outputs": [
    {
     "name": "stdout",
     "output_type": "stream",
     "text": [
      "ZTF20acqnfkh\n"
     ]
    }
   ],
   "source": [
    "for k in list(alerce.candidate_host_redshifts.keys()):\n",
    "    if alerce.candidate_host_redshifts[k] in [\"nan\", \"-99\", \"-999.0\", \"-9999.0\"]:\n",
    "        print(k)\n",
    "        alerce.candidate_host_redshifts.pop(k)"
   ]
  },
  {
   "cell_type": "markdown",
   "metadata": {},
   "source": [
    "# Save hosts"
   ]
  },
  {
   "cell_type": "code",
   "execution_count": 34,
   "metadata": {
    "ExecuteTime": {
     "end_time": "2020-11-15T20:23:52.629709Z",
     "start_time": "2020-11-15T20:23:52.590902Z"
    }
   },
   "outputs": [
    {
     "data": {
      "text/html": [
       "<div>\n",
       "<style scoped>\n",
       "    .dataframe tbody tr th:only-of-type {\n",
       "        vertical-align: middle;\n",
       "    }\n",
       "\n",
       "    .dataframe tbody tr th {\n",
       "        vertical-align: top;\n",
       "    }\n",
       "\n",
       "    .dataframe thead th {\n",
       "        text-align: right;\n",
       "    }\n",
       "</style>\n",
       "<table border=\"1\" class=\"dataframe\">\n",
       "  <thead>\n",
       "    <tr style=\"text-align: right;\">\n",
       "      <th></th>\n",
       "      <th>host_id</th>\n",
       "      <th>z</th>\n",
       "    </tr>\n",
       "    <tr>\n",
       "      <th>oid</th>\n",
       "      <th></th>\n",
       "      <th></th>\n",
       "    </tr>\n",
       "  </thead>\n",
       "  <tbody>\n",
       "    <tr>\n",
       "      <td>ZTF20acqnfkh</td>\n",
       "      <td>WISEA J082447.77-204847.1</td>\n",
       "      <td>NaN</td>\n",
       "    </tr>\n",
       "  </tbody>\n",
       "</table>\n",
       "</div>"
      ],
      "text/plain": [
       "                                host_id    z\n",
       "oid                                         \n",
       "ZTF20acqnfkh  WISEA J082447.77-204847.1  NaN"
      ]
     },
     "execution_count": 34,
     "metadata": {},
     "output_type": "execute_result"
    }
   ],
   "source": [
    "df_host_names = pd.DataFrame.from_dict(alerce.candidate_host_names, orient='index', columns=[\"host_id\"])\n",
    "df_host_names.index.name='oid'\n",
    "df_host_redshifts = pd.DataFrame.from_dict(alerce.candidate_host_redshifts, orient='index', columns=[\"z\"])\n",
    "df_host_redshifts.index.name='oid'\n",
    "df_hosts = df_host_names.join(df_host_redshifts)\n",
    "df_hosts.to_csv(\"candidates/%s_hosts.csv\" % refstring)\n",
    "df_hosts.head(100)"
   ]
  },
  {
   "cell_type": "markdown",
   "metadata": {},
   "source": [
    "# Display host galaxy properties"
   ]
  },
  {
   "cell_type": "code",
   "execution_count": 35,
   "metadata": {
    "ExecuteTime": {
     "end_time": "2020-11-15T20:23:54.375874Z",
     "start_time": "2020-11-15T20:23:54.362070Z"
    }
   },
   "outputs": [
    {
     "name": "stdout",
     "output_type": "stream",
     "text": [
      "ZTF20acqnfkh WISEA J082447.77-204847.1\n"
     ]
    }
   ],
   "source": [
    "for oid in candidates:\n",
    "    if oid in alerce.candidate_host_redshifts.keys():\n",
    "        print(oid, alerce.candidate_host_names[oid], alerce.candidate_host_redshifts[oid])\n",
    "    elif oid in alerce.candidate_host_names.keys():\n",
    "        print(oid, alerce.candidate_host_names[oid])\n",
    "    else:\n",
    "        alerce.candidate_host_names[oid] = \"\"\n",
    "        alerce.candidate_host_redshifts[oid] = \"\"\n",
    "        print(oid)"
   ]
  },
  {
   "cell_type": "markdown",
   "metadata": {},
   "source": [
    "# Sandbox or real"
   ]
  },
  {
   "cell_type": "code",
   "execution_count": 36,
   "metadata": {
    "ExecuteTime": {
     "end_time": "2020-11-15T20:23:55.520856Z",
     "start_time": "2020-11-15T20:23:55.488166Z"
    }
   },
   "outputs": [],
   "source": [
    "sandbox = False # True: test in sandbox, False: send to real website"
   ]
  },
  {
   "cell_type": "markdown",
   "metadata": {},
   "source": [
    "# Get API key and url"
   ]
  },
  {
   "cell_type": "code",
   "execution_count": 37,
   "metadata": {
    "ExecuteTime": {
     "end_time": "2020-11-15T20:23:56.126114Z",
     "start_time": "2020-11-15T20:23:56.097509Z"
    },
    "scrolled": true
   },
   "outputs": [
    {
     "name": "stdout",
     "output_type": "stream",
     "text": [
      "Getting API key...\n",
      "WARNING: submitting to real (not sandbox) TNS website\n"
     ]
    }
   ],
   "source": [
    "if sandbox:\n",
    "    print(\"Getting API sandbox key...\")\n",
    "    api_key = open(\"API_sandbox.key\", \"r\").read()\n",
    "else:\n",
    "    print(\"Getting API key...\")\n",
    "    api_key = open(\"API.key\", \"r\").read()\n",
    "    \n",
    "if sandbox:\n",
    "    url_tns_api=\"https://sandbox-tns.weizmann.ac.il/api\"\n",
    "else:\n",
    "    url_tns_api=\"https://wis-tns.weizmann.ac.il/api\"\n",
    "    \n",
    "if not sandbox:\n",
    "    print(\"WARNING: submitting to real (not sandbox) TNS website\")"
   ]
  },
  {
   "cell_type": "markdown",
   "metadata": {},
   "source": [
    "# Prepare TNS report\n",
    "\n",
    "** CHECK AUTHOR LIST!!! **\n",
    "\n",
    "(key is used to query only at this step)"
   ]
  },
  {
   "cell_type": "code",
   "execution_count": 38,
   "metadata": {
    "ExecuteTime": {
     "end_time": "2020-11-15T20:23:57.045586Z",
     "start_time": "2020-11-15T20:23:57.033297Z"
    }
   },
   "outputs": [
    {
     "data": {
      "text/plain": [
       "1"
      ]
     },
     "execution_count": 38,
     "metadata": {},
     "output_type": "execute_result"
    }
   ],
   "source": [
    "len(candidates)"
   ]
  },
  {
   "cell_type": "code",
   "execution_count": 39,
   "metadata": {
    "ExecuteTime": {
     "end_time": "2020-11-15T20:24:08.270062Z",
     "start_time": "2020-11-15T20:24:03.090145Z"
    },
    "scrolled": false
   },
   "outputs": [
    {
     "name": "stdout",
     "output_type": "stream",
     "text": [
      "\n",
      " 0 ZTF20acqnfkh\n",
      "http://alerce.online/object/ZTF20acqnfkh\n"
     ]
    },
    {
     "data": {
      "text/html": [
       "\n",
       "        <div>ZTF oid: ZTF20acqnfkh, candid: 1413480195615015012</div>\n",
       "        <div>&emsp;&emsp;&emsp;&emsp;&emsp;\n",
       "        Science\n",
       "        &emsp;&emsp;&emsp;&emsp;&emsp;&emsp;&emsp;&emsp;&emsp;&emsp;&emsp;&emsp;\n",
       "        Template\n",
       "        &emsp;&emsp;&emsp;&emsp;&emsp;&emsp;&emsp;&emsp;&emsp;&emsp;&emsp;&emsp;\n",
       "        Difference\n",
       "        <div class=\"container\">\n",
       "        <div style=\"float:left;width:20%\"><img src=\"http://avro.alerce.online/get_stamp?oid=ZTF20acqnfkh&candid=1413480195615015012&type=science&format=png\"></div>\n",
       "        <div style=\"float:left;width:20%\"><img src=\"http://avro.alerce.online/get_stamp?oid=ZTF20acqnfkh&candid=1413480195615015012&type=template&format=png\"></div>\n",
       "        <div style=\"float:left;width:20%\"><img src=\"http://avro.alerce.online/get_stamp?oid=ZTF20acqnfkh&candid=1413480195615015012&type=difference&format=png\"></div>\n",
       "        </div>\n",
       "        "
      ],
      "text/plain": [
       "<IPython.core.display.HTML object>"
      ]
     },
     "metadata": {},
     "output_type": "display_data"
    },
    {
     "name": "stdout",
     "output_type": "stream",
     "text": [
      "WARNING: non detections limits not available\n",
      "SN candidate classified by ALeRCE using the public ZTF stream. Discovery image and light curve in http://alerce.online/object/ZTF20acqnfkh \n"
     ]
    }
   ],
   "source": [
    "reporter = \"F. Forster, F.E. Bauer, A. Munoz-Arancibia, L. Hernandez-Garcia, G. Pignata, L. Galbany, G. Pignata, E. Camacho, J. Silva-Farfan, A. Mourao, J. Arredondo, G. Cabrera-Vives, R. Carrasco-Davis, P.A. Estevez, P. Huijse, E. Reyes, I. Reyes, P. Sanchez-Saez, C. Valenzuela, E. Castillo, D. Ruz-Mieres, D. Rodriguez-Mancini, M. Catelan, S. Eyheramendy, M.J. Graham on behalf of the ALeRCE broker\"\n",
    "report = {\"at_report\": {}}\n",
    "counter = 0\n",
    "for oid in candidates[::-1]: # invert to report old candidates first\n",
    "    #if oid in [\"ZTF20aauqmwf\"]:#[\"ZTF19acgjpfd\", \"ZTF18acszatf\", \"ZTF18acrkmnm\"]:\n",
    "    #    continue\n",
    "    #if oid in [\"ZTF20acqnfkh \", \"ZTF20acneabh\"]:#ZTF20acplctd\":#aamtgd\": #ZTF19acymtgr\": #ZTF19acnqqhl\":#in [\"ZTF19acmdwjy\", \"ZTF19acmdwjz\"]:\n",
    "    #    continue\n",
    "    #if oid == \"ZTF20ablnjwh\": #ZTF20abkmxrm\":#ZTF20abgfgne\":\n",
    "    #    continue\n",
    "    #if oid in [\"ZTF20acmevcc\", \"ZTF20acmctng\", \"ZTF20acmdvzk\"]: #== \"ZTF20acgknep\":#\"ZTF20acdcdqq\": #ZTF20acaehey\": #ZTF20abyjoxb\":#\"ZTF20abqjddh\":#ZTF20abkxqzv\":#ZTF20abgbfyk\":\n",
    "    #    continue\n",
    "    print(\"\\n\", counter, oid)\n",
    "    sn_report = alerce.do_TNS_report(api_key, oid, reporter, verbose=False, test=False)\n",
    "    if sn_report:# or oid == \"ZTF20abyptpc\":\n",
    "        report[\"at_report\"][\"%i\" % counter] = sn_report\n",
    "        counter += 1\n"
   ]
  },
  {
   "cell_type": "markdown",
   "metadata": {},
   "source": [
    "# Manual modifications"
   ]
  },
  {
   "cell_type": "code",
   "execution_count": 40,
   "metadata": {
    "ExecuteTime": {
     "end_time": "2020-11-15T20:24:08.361767Z",
     "start_time": "2020-11-15T20:24:08.350487Z"
    }
   },
   "outputs": [],
   "source": [
    "#report['at_report']['0']['remarks'] = \"Fast rising transient (g-rise > 1.48 mag/day)\"#report['at_report']['3']['remarks'] = 'Nova candidate in M31 (g-rise > 0.16+-0.01 mag/day, r-rise > 0.24+-0.01 mag/day) classified by ALeRCE using the public ZTF stream. Discovery image and light curve in http://alerce.online/object/ZTF19acxrihd '"
   ]
  },
  {
   "cell_type": "code",
   "execution_count": 41,
   "metadata": {
    "ExecuteTime": {
     "end_time": "2020-11-15T20:24:08.684672Z",
     "start_time": "2020-11-15T20:24:08.666027Z"
    }
   },
   "outputs": [],
   "source": [
    "# note that the space at the end is necessary\n",
    "#report['at_report']['3']['remarks'] = 'Nova candidate in M31 (r-rise > 0.43+-0.01 mag/day) classified by ALeRCE using the public ZTF stream. Discovery image and light curve in http://alerce.online/object/ZTF20acgigfo '"
   ]
  },
  {
   "cell_type": "markdown",
   "metadata": {},
   "source": [
    "# Display report"
   ]
  },
  {
   "cell_type": "code",
   "execution_count": 42,
   "metadata": {
    "ExecuteTime": {
     "end_time": "2020-11-15T20:24:09.669092Z",
     "start_time": "2020-11-15T20:24:09.631666Z"
    },
    "scrolled": true
   },
   "outputs": [
    {
     "name": "stdout",
     "output_type": "stream",
     "text": [
      "{\n",
      "    \"at_report\": {\n",
      "        \"0\": {\n",
      "            \"at_type\": \"1\",\n",
      "            \"dec\": {\n",
      "                \"error\": \"0.09\",\n",
      "                \"units\": \"arcsec\",\n",
      "                \"value\": \"-20.8131056\"\n",
      "            },\n",
      "            \"discovery_data_source_id\": \"48\",\n",
      "            \"discovery_datetime\": \"2020-11-14 11:31:29.004\",\n",
      "            \"host_name\": \"WISEA J082447.77-204847.1\",\n",
      "            \"internal_name\": \"ZTF20acqnfkh\",\n",
      "            \"non_detection\": {\n",
      "                \"archival_remarks\": \"ZTF non-detection limits not available\",\n",
      "                \"archiveid\": \"0\"\n",
      "            },\n",
      "            \"photometry\": {\n",
      "                \"photometry_group\": {\n",
      "                    \"0\": {\n",
      "                        \"comments\": \"Data provided by ZTF\",\n",
      "                        \"exptime\": \"30\",\n",
      "                        \"filter_value\": \"111\",\n",
      "                        \"flux\": \"18.9069576263428\",\n",
      "                        \"flux_error\": \"0.0956765487790108\",\n",
      "                        \"flux_units\": \"1\",\n",
      "                        \"instrument_value\": \"196\",\n",
      "                        \"limiting_flux\": \"19.8893699645996\",\n",
      "                        \"obsdate\": \"2020-11-14 11:31:29.004\",\n",
      "                        \"observer\": \"Robot\"\n",
      "                    },\n",
      "                    \"1\": {\n",
      "                        \"comments\": \"Data provided by ZTF\",\n",
      "                        \"exptime\": \"30\",\n",
      "                        \"filter_value\": \"111\",\n",
      "                        \"flux\": \"18.9200839996338\",\n",
      "                        \"flux_error\": \"0.118572093546391\",\n",
      "                        \"flux_units\": \"1\",\n",
      "                        \"instrument_value\": \"196\",\n",
      "                        \"limiting_flux\": \"20.0639133453369\",\n",
      "                        \"obsdate\": \"2020-11-15 12:33:00.996\",\n",
      "                        \"observer\": \"Robot\"\n",
      "                    }\n",
      "                }\n",
      "            },\n",
      "            \"ra\": {\n",
      "                \"error\": \"0.09\",\n",
      "                \"units\": \"arcsec\",\n",
      "                \"value\": \"126.19934135\"\n",
      "            },\n",
      "            \"remarks\": \"SN candidate classified by ALeRCE using the public ZTF stream. Discovery image and light curve in http://alerce.online/object/ZTF20acqnfkh \",\n",
      "            \"reporter\": \"F. Forster, F.E. Bauer, A. Munoz-Arancibia, L. Hernandez-Garcia, G. Pignata, L. Galbany, G. Pignata, E. Camacho, J. Silva-Farfan, A. Mourao, J. Arredondo, G. Cabrera-Vives, R. Carrasco-Davis, P.A. Estevez, P. Huijse, E. Reyes, I. Reyes, P. Sanchez-Saez, C. Valenzuela, E. Castillo, D. Ruz-Mieres, D. Rodriguez-Mancini, M. Catelan, S. Eyheramendy, M.J. Graham on behalf of the ALeRCE broker\",\n",
      "            \"reporting_group_id\": \"74\"\n",
      "        }\n",
      "    }\n",
      "}\n"
     ]
    }
   ],
   "source": [
    "print(json.dumps(report, indent=4, sort_keys=True))"
   ]
  },
  {
   "cell_type": "markdown",
   "metadata": {},
   "source": [
    "# Save report"
   ]
  },
  {
   "cell_type": "code",
   "execution_count": 43,
   "metadata": {
    "ExecuteTime": {
     "end_time": "2020-11-15T20:24:11.125776Z",
     "start_time": "2020-11-15T20:24:11.094291Z"
    }
   },
   "outputs": [],
   "source": [
    "json_report = '%s/%s.json' % (candidates_dir, refstring)\n",
    "with open(json_report, 'w') as outfile:\n",
    "    json.dump(report, outfile)"
   ]
  },
  {
   "cell_type": "markdown",
   "metadata": {},
   "source": [
    "# Send to TNS\n",
    "\n",
    "**WARNING: key is used to send candidates!**"
   ]
  },
  {
   "cell_type": "code",
   "execution_count": 44,
   "metadata": {
    "ExecuteTime": {
     "end_time": "2020-11-15T20:24:12.461879Z",
     "start_time": "2020-11-15T20:24:12.433451Z"
    }
   },
   "outputs": [
    {
     "data": {
      "text/plain": [
       "'candidates/20201115b.json'"
      ]
     },
     "execution_count": 44,
     "metadata": {},
     "output_type": "execute_result"
    }
   ],
   "source": [
    "json_report"
   ]
  },
  {
   "cell_type": "code",
   "execution_count": 45,
   "metadata": {
    "ExecuteTime": {
     "end_time": "2020-11-15T20:24:15.271434Z",
     "start_time": "2020-11-15T20:24:13.118682Z"
    }
   },
   "outputs": [],
   "source": [
    "r = alerce.send_json_report(api_key, url_tns_api, json_report)"
   ]
  },
  {
   "cell_type": "markdown",
   "metadata": {},
   "source": [
    "# Show output"
   ]
  },
  {
   "cell_type": "code",
   "execution_count": 46,
   "metadata": {
    "ExecuteTime": {
     "end_time": "2020-11-15T20:24:15.297752Z",
     "start_time": "2020-11-15T20:24:15.276952Z"
    },
    "scrolled": true
   },
   "outputs": [
    {
     "data": {
      "text/plain": [
       "b'{\"id_code\":200,\"id_message\":\"OK\",\"data\":{\"report_id\":54947,\"recieved_data\":{\"at_report\":{\"0\":{\"ra\":{\"value\":126.19934135,\"error\":0.09,\"units\":\"arcsec\"},\"dec\":{\"value\":-20.8131056,\"error\":0.09,\"units\":\"arcsec\"},\"reporting_group_id\":74,\"discovery_data_source_id\":48,\"reporter\":\"F. Forster, F.E. Bauer, A. Munoz-Arancibia, L. Hernandez-Garcia, G. Pignata, L. Galbany, G. Pignata, E. Camacho, J. Silva-Farfan, A. Mourao, J. Arredondo, G. Cabrera-Vives, R. Carrasco-Davis, P.A. Estevez, P. Huijse, E. Reyes, I. Reyes, P. Sanchez-Saez, C. Valenzuela, E. Castillo, D. Ruz-Mieres, D. Rodriguez-Mancini, M. Catelan, S. Eyheramendy, M.J. Graham on behalf of the ALeRCE broker\",\"discovery_datetime\":\"2020-11-14 11:31:29.004\",\"at_type\":1,\"internal_name\":\"ZTF20acqnfkh\",\"remarks\":\"SN candidate classified by ALeRCE using the public ZTF stream. Discovery image and light curve in http:\\\\/\\\\/alerce.online\\\\/object\\\\/ZTF20acqnfkh \",\"non_detection\":{\"archiveid\":0,\"archival_remarks\":\"ZTF non-detection limits not available\"},\"photometry\":{\"photometry_group\":{\"0\":{\"obsdate\":\"2020-11-14 11:31:29.004\",\"flux\":18.906957626343,\"flux_error\":0.095676548779011,\"limiting_flux\":19.8893699646,\"flux_units\":1,\"filter_value\":111,\"instrument_value\":196,\"exptime\":30,\"observer\":\"Robot\",\"comments\":\"Data provided by ZTF\"},\"1\":{\"obsdate\":\"2020-11-15 12:33:00.996\",\"flux\":18.920083999634,\"flux_error\":0.11857209354639,\"limiting_flux\":20.063913345337,\"flux_units\":1,\"filter_value\":111,\"instrument_value\":196,\"exptime\":30,\"observer\":\"Robot\",\"comments\":\"Data provided by ZTF\"}}},\"host_name\":\"WISEA J082447.77-204847.1\"}}}}}'"
      ]
     },
     "execution_count": 46,
     "metadata": {},
     "output_type": "execute_result"
    }
   ],
   "source": [
    "r.content"
   ]
  },
  {
   "cell_type": "code",
   "execution_count": null,
   "metadata": {},
   "outputs": [],
   "source": []
  },
  {
   "cell_type": "markdown",
   "metadata": {},
   "source": [
    "# Check the following link and confirm that the latest SNe are from the reported day\n",
    "\n",
    "https://wis-tns.weizmann.ac.il/search?&discovered_period_value=1&discovered_period_units=days&reporting_groupid[]=74&discovery_data_source_id=48&num_page=50&format=html&edit[type]=&edit[objname]=&edit[id]=&display[redshift]=1&display[hostname]=1&display[host_redshift]=1&display[source_group_name]=1&display[classifying_source_group_name]=1&display[discovering_instrument_name]=0&display[classifing_instrument_name]=0&display[programs_name]=0&display[internal_name]=1&display[isTNS_AT]=0&display[public]=1&display[end_pop_period]=0&display[spectra_count]=1&display[discoverymag]=1&display[discmagfilter]=1&display[discoverydate]=1&display[discoverer]=1&display[remarks]=0&display[sources]=0&display[bibcode]=0&display[ext_catalogs]=0&sort=desc&order=discoverydate"
   ]
  },
  {
   "cell_type": "code",
   "execution_count": null,
   "metadata": {},
   "outputs": [],
   "source": []
  }
 ],
 "metadata": {
  "kernelspec": {
   "display_name": "Python 3",
   "language": "python",
   "name": "python3"
  },
  "language_info": {
   "codemirror_mode": {
    "name": "ipython",
    "version": 3
   },
   "file_extension": ".py",
   "mimetype": "text/x-python",
   "name": "python",
   "nbconvert_exporter": "python",
   "pygments_lexer": "ipython3",
   "version": "3.6.5"
  },
  "toc": {
   "base_numbering": 1,
   "nav_menu": {},
   "number_sections": true,
   "sideBar": true,
   "skip_h1_title": false,
   "title_cell": "Table of Contents",
   "title_sidebar": "Contents",
   "toc_cell": false,
   "toc_position": {},
   "toc_section_display": true,
   "toc_window_display": true
  }
 },
 "nbformat": 4,
 "nbformat_minor": 2
}
