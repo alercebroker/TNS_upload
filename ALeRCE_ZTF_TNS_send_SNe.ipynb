{
 "cells": [
  {
   "cell_type": "markdown",
   "metadata": {},
   "source": [
    "# Notebook to select host galaxies and submit candidates to TNS"
   ]
  },
  {
   "cell_type": "code",
   "execution_count": 1,
   "metadata": {
    "ExecuteTime": {
     "end_time": "2022-07-24T06:49:07.572318Z",
     "start_time": "2022-07-24T06:49:07.448230Z"
    }
   },
   "outputs": [],
   "source": [
    "import sys, os\n",
    "import pandas as pd\n",
    "import numpy as np\n",
    "import ipyaladin as ipyal\n",
    "from ipywidgets import Layout, Box, widgets\n",
    "import json\n",
    "import time\n",
    "import pickle"
   ]
  },
  {
   "cell_type": "code",
   "execution_count": 2,
   "metadata": {
    "ExecuteTime": {
     "end_time": "2022-07-24T06:49:08.398415Z",
     "start_time": "2022-07-24T06:49:07.956143Z"
    }
   },
   "outputs": [],
   "source": [
    "from astroquery.ned import Ned\n",
    "from astroquery.simbad import Simbad\n",
    "from astroquery.vizier import Vizier\n",
    "import astropy.units as u\n",
    "from astropy.table import Table, Column"
   ]
  },
  {
   "cell_type": "code",
   "execution_count": 3,
   "metadata": {
    "ExecuteTime": {
     "end_time": "2022-07-24T06:49:08.963946Z",
     "start_time": "2022-07-24T06:49:08.941365Z"
    }
   },
   "outputs": [],
   "source": [
    "sys.path.append(\"./lib\")\n",
    "from alerce_tns import *"
   ]
  },
  {
   "cell_type": "code",
   "execution_count": 4,
   "metadata": {
    "ExecuteTime": {
     "end_time": "2022-07-24T06:49:11.155340Z",
     "start_time": "2022-07-24T06:49:09.376675Z"
    }
   },
   "outputs": [],
   "source": [
    "from delight.delight import Delight"
   ]
  },
  {
   "cell_type": "code",
   "execution_count": 5,
   "metadata": {
    "ExecuteTime": {
     "end_time": "2022-07-24T06:49:11.255652Z",
     "start_time": "2022-07-24T06:49:11.216393Z"
    }
   },
   "outputs": [],
   "source": [
    "# continuously load modules (for easier debugging)\n",
    "%load_ext autoreload\n",
    "%autoreload 2"
   ]
  },
  {
   "cell_type": "markdown",
   "metadata": {},
   "source": [
    "# Start API"
   ]
  },
  {
   "cell_type": "code",
   "execution_count": 12,
   "metadata": {
    "ExecuteTime": {
     "end_time": "2022-07-24T06:49:29.851751Z",
     "start_time": "2022-07-24T06:49:29.813445Z"
    }
   },
   "outputs": [],
   "source": [
    "alerce = alerce_tns()"
   ]
  },
  {
   "cell_type": "markdown",
   "metadata": {},
   "source": [
    "# Load recent candidates\n",
    "\n",
    "**WARNING: CHECK THE DATE**"
   ]
  },
  {
   "cell_type": "code",
   "execution_count": 13,
   "metadata": {
    "ExecuteTime": {
     "end_time": "2022-07-24T06:49:30.410421Z",
     "start_time": "2022-07-24T06:49:30.387890Z"
    }
   },
   "outputs": [
    {
     "name": "stdout",
     "output_type": "stream",
     "text": [
      "['ZTF18aanabqp' 'ZTF22aatpwfw' 'ZTF22aatxslc' 'ZTF22aatylyb'\n",
      " 'ZTF22aatymow' 'ZTF22aaudjgc' 'ZTF22aaugvnu' 'ZTF22aauhudo'\n",
      " 'ZTF22aaujkdb' 'ZTF22aaunsga' 'ZTF22aautnrr' 'ZTF22aautntp'\n",
      " 'ZTF22aautpdb' 'ZTF22aautrcf' 'ZTF22aauuvby' 'ZTF22aauuxul'\n",
      " 'ZTF22aauvseh' 'ZTF22aauwylz' 'ZTF22aauxltc' 'ZTF22aauxsyt'\n",
      " 'ZTF22aavcccu' 'ZTF22aavclih' 'ZTF22aavcrgy' 'ZTF22aavcvtr'\n",
      " 'ZTF22aavcyir' 'ZTF22aavczfb' 'ZTF22aavdcsu' 'ZTF22aavdrbx'\n",
      " 'ZTF22aavdrdz' 'ZTF22aavdscs' 'ZTF22aavdubl' 'ZTF22aavdzpf'\n",
      " 'ZTF22aavebae' 'ZTF22aavecme' 'ZTF22aaveghe' 'ZTF22aavfgyf'\n",
      " 'ZTF22aavgzjc' 'ZTF22aavicyh' 'ZTF22aavjwht' 'ZTF22aavklii'] 40\n"
     ]
    }
   ],
   "source": [
    "refstring = \"20220723\"\n",
    "candidates_dir = \"candidates\"\n",
    "candidates = open(\"%s/%s.csv\" % (candidates_dir, refstring), encoding='utf-8-sig').read().splitlines()\n",
    "if \"\" in candidates:\n",
    "    candidates.remove(\"\") \n",
    "candidates = np.sort(np.unique(np.array([cand.strip() for cand in candidates])))\n",
    "print(candidates, len(candidates))"
   ]
  },
  {
   "cell_type": "code",
   "execution_count": 14,
   "metadata": {
    "ExecuteTime": {
     "end_time": "2022-07-24T06:49:37.434758Z",
     "start_time": "2022-07-24T06:49:30.950042Z"
    }
   },
   "outputs": [
    {
     "name": "stdout",
     "output_type": "stream",
     "text": [
      "Downloading 0 missing files.\n",
      "Loading WCS information\n"
     ]
    }
   ],
   "source": [
    "stats = alerce.query_objects(oid=candidates, format='pandas', page_size=len(candidates))\n",
    "delight_datadir = \"delight_data\"\n",
    "dclient = Delight(delight_datadir, candidates, stats.meanra.to_numpy(), stats.meandec.to_numpy())\n",
    "dclient.download()\n",
    "dclient.get_pix_coords()\n",
    "dclient.compute_multiresolution(nlevels=5, domask=False, doobject=True, doplot=False)\n",
    "model_dir = \"/home/fforster/Dropbox/Work/DELIGHT/data/model\"\n",
    "model_name = \"DELIGHT_v1.h5\"\n",
    "dclient.load_model(model_dir, model_name)\n",
    "dclient.preprocess()\n",
    "dclient.predict()"
   ]
  },
  {
   "cell_type": "code",
   "execution_count": 15,
   "metadata": {
    "ExecuteTime": {
     "end_time": "2022-07-24T06:49:37.968527Z",
     "start_time": "2022-07-24T06:49:37.949839Z"
    },
    "scrolled": true
   },
   "outputs": [],
   "source": [
    "#for oid in candidates:\n",
    "#    dclient.plot_host(oid)"
   ]
  },
  {
   "cell_type": "markdown",
   "metadata": {},
   "source": [
    "# Select host galaxies using aladin widget"
   ]
  },
  {
   "cell_type": "markdown",
   "metadata": {},
   "source": [
    "## Do automatic selection"
   ]
  },
  {
   "cell_type": "code",
   "execution_count": 16,
   "metadata": {
    "ExecuteTime": {
     "end_time": "2022-07-24T06:49:38.518088Z",
     "start_time": "2022-07-24T06:49:38.497892Z"
    }
   },
   "outputs": [],
   "source": [
    "bestguess = dclient.df[[\"ra_delight\", \"dec_delight\"]].rename({\"ra_delight\": \"ra\", \"dec_delight\": \"dec\"}, axis=1)\n",
    "alerce.bestguess = bestguess"
   ]
  },
  {
   "cell_type": "code",
   "execution_count": 17,
   "metadata": {
    "ExecuteTime": {
     "end_time": "2022-07-24T06:51:14.531249Z",
     "start_time": "2022-07-24T06:49:39.023119Z"
    },
    "scrolled": false
   },
   "outputs": [
    {
     "name": "stdout",
     "output_type": "stream",
     "text": [
      "Loading and skipping already saved hosts...\n",
      "hosts/20220723_hosts.csv\n",
      "Cannot load galaxy information, creating new information.\n"
     ]
    },
    {
     "data": {
      "application/vnd.jupyter.widget-view+json": {
       "model_id": "b35d8583c02c4eff923510df2d6447e9",
       "version_major": 2,
       "version_minor": 0
      },
      "text/plain": [
       "Box(children=(Aladin(fov=0.025, layout=Layout(width='70%'), options=['allow_full_zoomout', 'coo_frame', 'fov',…"
      ]
     },
     "metadata": {},
     "output_type": "display_data"
    },
    {
     "data": {
      "text/html": [
       "<div>\n",
       "<style scoped>\n",
       "    .dataframe tbody tr th:only-of-type {\n",
       "        vertical-align: middle;\n",
       "    }\n",
       "\n",
       "    .dataframe tbody tr th {\n",
       "        vertical-align: top;\n",
       "    }\n",
       "\n",
       "    .dataframe thead th {\n",
       "        text-align: right;\n",
       "    }\n",
       "</style>\n",
       "<table border=\"1\" class=\"dataframe\">\n",
       "  <thead>\n",
       "    <tr style=\"text-align: right;\">\n",
       "      <th></th>\n",
       "      <th>host_name</th>\n",
       "      <th>host_ra</th>\n",
       "      <th>host_dec</th>\n",
       "      <th>host_offset</th>\n",
       "      <th>host_offset_bestguess</th>\n",
       "      <th>host_source</th>\n",
       "      <th>host_redshift_spec</th>\n",
       "      <th>host_redshift</th>\n",
       "      <th>host_redshift_error</th>\n",
       "      <th>host_redshift_type</th>\n",
       "    </tr>\n",
       "    <tr>\n",
       "      <th>oid</th>\n",
       "      <th></th>\n",
       "      <th></th>\n",
       "      <th></th>\n",
       "      <th></th>\n",
       "      <th></th>\n",
       "      <th></th>\n",
       "      <th></th>\n",
       "      <th></th>\n",
       "      <th></th>\n",
       "      <th></th>\n",
       "    </tr>\n",
       "  </thead>\n",
       "  <tbody>\n",
       "    <tr>\n",
       "      <th>ZTF18aanabqp</th>\n",
       "      <td>SDSS J152003.79+451811.3</td>\n",
       "      <td>230.015804</td>\n",
       "      <td>45.303156</td>\n",
       "      <td>1.230081</td>\n",
       "      <td>0.352793</td>\n",
       "      <td>SDSSDR16</td>\n",
       "      <td>True</td>\n",
       "      <td>0.098949</td>\n",
       "      <td>0.00001</td>\n",
       "      <td>specz</td>\n",
       "    </tr>\n",
       "  </tbody>\n",
       "</table>\n",
       "</div>"
      ],
      "text/plain": [
       "                             host_name     host_ra   host_dec host_offset  \\\n",
       "oid                                                                         \n",
       "ZTF18aanabqp  SDSS J152003.79+451811.3  230.015804  45.303156    1.230081   \n",
       "\n",
       "             host_offset_bestguess host_source host_redshift_spec  \\\n",
       "oid                                                                 \n",
       "ZTF18aanabqp              0.352793    SDSSDR16               True   \n",
       "\n",
       "             host_redshift host_redshift_error host_redshift_type  \n",
       "oid                                                                \n",
       "ZTF18aanabqp      0.098949             0.00001              specz  "
      ]
     },
     "metadata": {},
     "output_type": "display_data"
    },
    {
     "name": "stdout",
     "output_type": "stream",
     "text": [
      "39 candidates remaining\n"
     ]
    },
    {
     "data": {
      "application/vnd.jupyter.widget-view+json": {
       "model_id": "faebf38e21de4160ab9ce7ebda2e7d77",
       "version_major": 2,
       "version_minor": 0
      },
      "text/plain": [
       "Box(children=(Aladin(fov=0.025, layout=Layout(width='70%'), options=['allow_full_zoomout', 'coo_frame', 'fov',…"
      ]
     },
     "metadata": {},
     "output_type": "display_data"
    },
    {
     "data": {
      "text/html": [
       "<div>\n",
       "<style scoped>\n",
       "    .dataframe tbody tr th:only-of-type {\n",
       "        vertical-align: middle;\n",
       "    }\n",
       "\n",
       "    .dataframe tbody tr th {\n",
       "        vertical-align: top;\n",
       "    }\n",
       "\n",
       "    .dataframe thead th {\n",
       "        text-align: right;\n",
       "    }\n",
       "</style>\n",
       "<table border=\"1\" class=\"dataframe\">\n",
       "  <thead>\n",
       "    <tr style=\"text-align: right;\">\n",
       "      <th></th>\n",
       "      <th>host_name</th>\n",
       "      <th>host_ra</th>\n",
       "      <th>host_dec</th>\n",
       "      <th>host_offset</th>\n",
       "      <th>host_offset_bestguess</th>\n",
       "      <th>host_source</th>\n",
       "      <th>host_redshift_spec</th>\n",
       "      <th>host_redshift</th>\n",
       "      <th>host_redshift_error</th>\n",
       "      <th>host_redshift_type</th>\n",
       "    </tr>\n",
       "    <tr>\n",
       "      <th>oid</th>\n",
       "      <th></th>\n",
       "      <th></th>\n",
       "      <th></th>\n",
       "      <th></th>\n",
       "      <th></th>\n",
       "      <th></th>\n",
       "      <th></th>\n",
       "      <th></th>\n",
       "      <th></th>\n",
       "      <th></th>\n",
       "    </tr>\n",
       "  </thead>\n",
       "  <tbody>\n",
       "    <tr>\n",
       "      <th>ZTF22aatpwfw</th>\n",
       "      <td>SDSS J220527.01-003200.4</td>\n",
       "      <td>331.362548</td>\n",
       "      <td>-0.533467</td>\n",
       "      <td>8.968743</td>\n",
       "      <td>0.10698</td>\n",
       "      <td>SDSSDR16</td>\n",
       "      <td>True</td>\n",
       "      <td>0.031092</td>\n",
       "      <td>0.000013</td>\n",
       "      <td>specz</td>\n",
       "    </tr>\n",
       "  </tbody>\n",
       "</table>\n",
       "</div>"
      ],
      "text/plain": [
       "                             host_name     host_ra  host_dec host_offset  \\\n",
       "oid                                                                        \n",
       "ZTF22aatpwfw  SDSS J220527.01-003200.4  331.362548 -0.533467    8.968743   \n",
       "\n",
       "             host_offset_bestguess host_source host_redshift_spec  \\\n",
       "oid                                                                 \n",
       "ZTF22aatpwfw               0.10698    SDSSDR16               True   \n",
       "\n",
       "             host_redshift host_redshift_error host_redshift_type  \n",
       "oid                                                                \n",
       "ZTF22aatpwfw      0.031092            0.000013              specz  "
      ]
     },
     "metadata": {},
     "output_type": "display_data"
    },
    {
     "name": "stdout",
     "output_type": "stream",
     "text": [
      "38 candidates remaining\n"
     ]
    },
    {
     "data": {
      "application/vnd.jupyter.widget-view+json": {
       "model_id": "db8a8440acaf44f6bcc3adb8ce1d871f",
       "version_major": 2,
       "version_minor": 0
      },
      "text/plain": [
       "Box(children=(Aladin(fov=0.025, layout=Layout(width='70%'), options=['allow_full_zoomout', 'coo_frame', 'fov',…"
      ]
     },
     "metadata": {},
     "output_type": "display_data"
    },
    {
     "data": {
      "text/html": [
       "<div>\n",
       "<style scoped>\n",
       "    .dataframe tbody tr th:only-of-type {\n",
       "        vertical-align: middle;\n",
       "    }\n",
       "\n",
       "    .dataframe tbody tr th {\n",
       "        vertical-align: top;\n",
       "    }\n",
       "\n",
       "    .dataframe thead th {\n",
       "        text-align: right;\n",
       "    }\n",
       "</style>\n",
       "<table border=\"1\" class=\"dataframe\">\n",
       "  <thead>\n",
       "    <tr style=\"text-align: right;\">\n",
       "      <th></th>\n",
       "      <th>host_name</th>\n",
       "      <th>host_ra</th>\n",
       "      <th>host_dec</th>\n",
       "      <th>host_offset</th>\n",
       "      <th>host_offset_bestguess</th>\n",
       "      <th>host_source</th>\n",
       "      <th>host_redshift_spec</th>\n",
       "      <th>host_redshift</th>\n",
       "      <th>host_redshift_error</th>\n",
       "      <th>host_redshift_type</th>\n",
       "    </tr>\n",
       "    <tr>\n",
       "      <th>oid</th>\n",
       "      <th></th>\n",
       "      <th></th>\n",
       "      <th></th>\n",
       "      <th></th>\n",
       "      <th></th>\n",
       "      <th></th>\n",
       "      <th></th>\n",
       "      <th></th>\n",
       "      <th></th>\n",
       "      <th></th>\n",
       "    </tr>\n",
       "  </thead>\n",
       "  <tbody>\n",
       "    <tr>\n",
       "      <th>ZTF22aatxslc</th>\n",
       "      <td>SDSS J150953.06+003330.2</td>\n",
       "      <td>227.471084</td>\n",
       "      <td>0.558396</td>\n",
       "      <td>0.787259</td>\n",
       "      <td>0.398124</td>\n",
       "      <td>SDSSDR16</td>\n",
       "      <td>True</td>\n",
       "      <td>0.087317</td>\n",
       "      <td>0.000027</td>\n",
       "      <td>specz</td>\n",
       "    </tr>\n",
       "  </tbody>\n",
       "</table>\n",
       "</div>"
      ],
      "text/plain": [
       "                             host_name     host_ra  host_dec host_offset  \\\n",
       "oid                                                                        \n",
       "ZTF22aatxslc  SDSS J150953.06+003330.2  227.471084  0.558396    0.787259   \n",
       "\n",
       "             host_offset_bestguess host_source host_redshift_spec  \\\n",
       "oid                                                                 \n",
       "ZTF22aatxslc              0.398124    SDSSDR16               True   \n",
       "\n",
       "             host_redshift host_redshift_error host_redshift_type  \n",
       "oid                                                                \n",
       "ZTF22aatxslc      0.087317            0.000027              specz  "
      ]
     },
     "metadata": {},
     "output_type": "display_data"
    },
    {
     "name": "stdout",
     "output_type": "stream",
     "text": [
      "37 candidates remaining\n"
     ]
    },
    {
     "data": {
      "application/vnd.jupyter.widget-view+json": {
       "model_id": "5a427cbf876e4599b88eff4e400b7866",
       "version_major": 2,
       "version_minor": 0
      },
      "text/plain": [
       "Box(children=(Aladin(fov=0.025, layout=Layout(width='70%'), options=['allow_full_zoomout', 'coo_frame', 'fov',…"
      ]
     },
     "metadata": {},
     "output_type": "display_data"
    },
    {
     "name": "stderr",
     "output_type": "stream",
     "text": [
      "/home/fforster/anaconda3/lib/python3.8/site-packages/astroquery/simbad/core.py:135: UserWarning: Warning: The script line number 3 raised an error (recorded in the `errors` attribute of the result table): '15:18:37.2537 +52:31:55.5217': No astronomical object found :\n",
      "  warnings.warn(\"Warning: The script line number %i raised \"\n"
     ]
    },
    {
     "data": {
      "text/html": [
       "<div>\n",
       "<style scoped>\n",
       "    .dataframe tbody tr th:only-of-type {\n",
       "        vertical-align: middle;\n",
       "    }\n",
       "\n",
       "    .dataframe tbody tr th {\n",
       "        vertical-align: top;\n",
       "    }\n",
       "\n",
       "    .dataframe thead th {\n",
       "        text-align: right;\n",
       "    }\n",
       "</style>\n",
       "<table border=\"1\" class=\"dataframe\">\n",
       "  <thead>\n",
       "    <tr style=\"text-align: right;\">\n",
       "      <th></th>\n",
       "      <th>host_name</th>\n",
       "      <th>host_ra</th>\n",
       "      <th>host_dec</th>\n",
       "      <th>host_offset</th>\n",
       "      <th>host_offset_bestguess</th>\n",
       "      <th>host_source</th>\n",
       "      <th>host_redshift_spec</th>\n",
       "      <th>host_redshift</th>\n",
       "      <th>host_redshift_error</th>\n",
       "      <th>host_redshift_type</th>\n",
       "    </tr>\n",
       "    <tr>\n",
       "      <th>oid</th>\n",
       "      <th></th>\n",
       "      <th></th>\n",
       "      <th></th>\n",
       "      <th></th>\n",
       "      <th></th>\n",
       "      <th></th>\n",
       "      <th></th>\n",
       "      <th></th>\n",
       "      <th></th>\n",
       "      <th></th>\n",
       "    </tr>\n",
       "  </thead>\n",
       "  <tbody>\n",
       "    <tr>\n",
       "      <th>ZTF22aatylyb</th>\n",
       "      <td>SDSS J151837.27+523155.4</td>\n",
       "      <td>229.655296</td>\n",
       "      <td>52.532061</td>\n",
       "      <td>0.862461</td>\n",
       "      <td>0.187453</td>\n",
       "      <td>SDSSDR16</td>\n",
       "      <td>False</td>\n",
       "      <td>0.080097</td>\n",
       "      <td>0.079861</td>\n",
       "      <td>photoz</td>\n",
       "    </tr>\n",
       "  </tbody>\n",
       "</table>\n",
       "</div>"
      ],
      "text/plain": [
       "                             host_name     host_ra   host_dec host_offset  \\\n",
       "oid                                                                         \n",
       "ZTF22aatylyb  SDSS J151837.27+523155.4  229.655296  52.532061    0.862461   \n",
       "\n",
       "             host_offset_bestguess host_source host_redshift_spec  \\\n",
       "oid                                                                 \n",
       "ZTF22aatylyb              0.187453    SDSSDR16              False   \n",
       "\n",
       "             host_redshift host_redshift_error host_redshift_type  \n",
       "oid                                                                \n",
       "ZTF22aatylyb      0.080097            0.079861             photoz  "
      ]
     },
     "metadata": {},
     "output_type": "display_data"
    },
    {
     "name": "stdout",
     "output_type": "stream",
     "text": [
      "36 candidates remaining\n"
     ]
    },
    {
     "data": {
      "application/vnd.jupyter.widget-view+json": {
       "model_id": "e2a3923e27974ab896aa977c657a7456",
       "version_major": 2,
       "version_minor": 0
      },
      "text/plain": [
       "Box(children=(Aladin(fov=0.025, layout=Layout(width='70%'), options=['allow_full_zoomout', 'coo_frame', 'fov',…"
      ]
     },
     "metadata": {},
     "output_type": "display_data"
    },
    {
     "name": "stderr",
     "output_type": "stream",
     "text": [
      "/home/fforster/anaconda3/lib/python3.8/site-packages/astroquery/simbad/core.py:135: UserWarning: Warning: The script line number 3 raised an error (recorded in the `errors` attribute of the result table): '16:50:38.3682 +31:42:44.5967': No astronomical object found :\n",
      "  warnings.warn(\"Warning: The script line number %i raised \"\n"
     ]
    },
    {
     "data": {
      "text/html": [
       "<div>\n",
       "<style scoped>\n",
       "    .dataframe tbody tr th:only-of-type {\n",
       "        vertical-align: middle;\n",
       "    }\n",
       "\n",
       "    .dataframe tbody tr th {\n",
       "        vertical-align: top;\n",
       "    }\n",
       "\n",
       "    .dataframe thead th {\n",
       "        text-align: right;\n",
       "    }\n",
       "</style>\n",
       "<table border=\"1\" class=\"dataframe\">\n",
       "  <thead>\n",
       "    <tr style=\"text-align: right;\">\n",
       "      <th></th>\n",
       "      <th>host_name</th>\n",
       "      <th>host_ra</th>\n",
       "      <th>host_dec</th>\n",
       "      <th>host_offset</th>\n",
       "      <th>host_offset_bestguess</th>\n",
       "      <th>host_source</th>\n",
       "      <th>host_redshift_spec</th>\n",
       "      <th>host_redshift</th>\n",
       "      <th>host_redshift_error</th>\n",
       "      <th>host_redshift_type</th>\n",
       "    </tr>\n",
       "    <tr>\n",
       "      <th>oid</th>\n",
       "      <th></th>\n",
       "      <th></th>\n",
       "      <th></th>\n",
       "      <th></th>\n",
       "      <th></th>\n",
       "      <th></th>\n",
       "      <th></th>\n",
       "      <th></th>\n",
       "      <th></th>\n",
       "      <th></th>\n",
       "    </tr>\n",
       "  </thead>\n",
       "  <tbody>\n",
       "    <tr>\n",
       "      <th>ZTF22aatymow</th>\n",
       "      <td>SDSS J165038.39+314244.3</td>\n",
       "      <td>252.659958</td>\n",
       "      <td>31.712319</td>\n",
       "      <td>2.215634</td>\n",
       "      <td>0.372325</td>\n",
       "      <td>SDSSDR16</td>\n",
       "      <td>False</td>\n",
       "      <td>0.12621</td>\n",
       "      <td>0.03717</td>\n",
       "      <td>photoz</td>\n",
       "    </tr>\n",
       "  </tbody>\n",
       "</table>\n",
       "</div>"
      ],
      "text/plain": [
       "                             host_name     host_ra   host_dec host_offset  \\\n",
       "oid                                                                         \n",
       "ZTF22aatymow  SDSS J165038.39+314244.3  252.659958  31.712319    2.215634   \n",
       "\n",
       "             host_offset_bestguess host_source host_redshift_spec  \\\n",
       "oid                                                                 \n",
       "ZTF22aatymow              0.372325    SDSSDR16              False   \n",
       "\n",
       "             host_redshift host_redshift_error host_redshift_type  \n",
       "oid                                                                \n",
       "ZTF22aatymow       0.12621             0.03717             photoz  "
      ]
     },
     "metadata": {},
     "output_type": "display_data"
    },
    {
     "name": "stdout",
     "output_type": "stream",
     "text": [
      "35 candidates remaining\n"
     ]
    },
    {
     "data": {
      "application/vnd.jupyter.widget-view+json": {
       "model_id": "f260b30bae4b431c9f3599f3aa1a0341",
       "version_major": 2,
       "version_minor": 0
      },
      "text/plain": [
       "Box(children=(Aladin(fov=0.025, layout=Layout(width='70%'), options=['allow_full_zoomout', 'coo_frame', 'fov',…"
      ]
     },
     "metadata": {},
     "output_type": "display_data"
    },
    {
     "data": {
      "text/html": [
       "<div>\n",
       "<style scoped>\n",
       "    .dataframe tbody tr th:only-of-type {\n",
       "        vertical-align: middle;\n",
       "    }\n",
       "\n",
       "    .dataframe tbody tr th {\n",
       "        vertical-align: top;\n",
       "    }\n",
       "\n",
       "    .dataframe thead th {\n",
       "        text-align: right;\n",
       "    }\n",
       "</style>\n",
       "<table border=\"1\" class=\"dataframe\">\n",
       "  <thead>\n",
       "    <tr style=\"text-align: right;\">\n",
       "      <th></th>\n",
       "      <th>host_name</th>\n",
       "      <th>host_ra</th>\n",
       "      <th>host_dec</th>\n",
       "      <th>host_offset</th>\n",
       "      <th>host_offset_bestguess</th>\n",
       "      <th>host_source</th>\n",
       "      <th>host_redshift_spec</th>\n",
       "      <th>host_redshift</th>\n",
       "      <th>host_redshift_error</th>\n",
       "      <th>host_redshift_type</th>\n",
       "    </tr>\n",
       "    <tr>\n",
       "      <th>oid</th>\n",
       "      <th></th>\n",
       "      <th></th>\n",
       "      <th></th>\n",
       "      <th></th>\n",
       "      <th></th>\n",
       "      <th></th>\n",
       "      <th></th>\n",
       "      <th></th>\n",
       "      <th></th>\n",
       "      <th></th>\n",
       "    </tr>\n",
       "  </thead>\n",
       "  <tbody>\n",
       "    <tr>\n",
       "      <th>ZTF22aaudjgc</th>\n",
       "      <td>SDSS J215050.94-005052.5</td>\n",
       "      <td>327.71223</td>\n",
       "      <td>-0.847933</td>\n",
       "      <td>3.700471</td>\n",
       "      <td>0.201355</td>\n",
       "      <td>SDSSDR16</td>\n",
       "      <td>True</td>\n",
       "      <td>0.027197</td>\n",
       "      <td>0.000008</td>\n",
       "      <td>specz</td>\n",
       "    </tr>\n",
       "  </tbody>\n",
       "</table>\n",
       "</div>"
      ],
      "text/plain": [
       "                             host_name    host_ra  host_dec host_offset  \\\n",
       "oid                                                                       \n",
       "ZTF22aaudjgc  SDSS J215050.94-005052.5  327.71223 -0.847933    3.700471   \n",
       "\n",
       "             host_offset_bestguess host_source host_redshift_spec  \\\n",
       "oid                                                                 \n",
       "ZTF22aaudjgc              0.201355    SDSSDR16               True   \n",
       "\n",
       "             host_redshift host_redshift_error host_redshift_type  \n",
       "oid                                                                \n",
       "ZTF22aaudjgc      0.027197            0.000008              specz  "
      ]
     },
     "metadata": {},
     "output_type": "display_data"
    },
    {
     "name": "stdout",
     "output_type": "stream",
     "text": [
      "34 candidates remaining\n"
     ]
    },
    {
     "data": {
      "application/vnd.jupyter.widget-view+json": {
       "model_id": "610d34494dc94181984359e23342f617",
       "version_major": 2,
       "version_minor": 0
      },
      "text/plain": [
       "Box(children=(Aladin(fov=0.025, layout=Layout(width='70%'), options=['allow_full_zoomout', 'coo_frame', 'fov',…"
      ]
     },
     "metadata": {},
     "output_type": "display_data"
    },
    {
     "name": "stderr",
     "output_type": "stream",
     "text": [
      "/home/fforster/anaconda3/lib/python3.8/site-packages/astroquery/simbad/core.py:135: UserWarning: Warning: The script line number 3 raised an error (recorded in the `errors` attribute of the result table): '16:59:00.9058 +38:04:35.4562': No astronomical object found :\n",
      "  warnings.warn(\"Warning: The script line number %i raised \"\n"
     ]
    },
    {
     "data": {
      "text/html": [
       "<div>\n",
       "<style scoped>\n",
       "    .dataframe tbody tr th:only-of-type {\n",
       "        vertical-align: middle;\n",
       "    }\n",
       "\n",
       "    .dataframe tbody tr th {\n",
       "        vertical-align: top;\n",
       "    }\n",
       "\n",
       "    .dataframe thead th {\n",
       "        text-align: right;\n",
       "    }\n",
       "</style>\n",
       "<table border=\"1\" class=\"dataframe\">\n",
       "  <thead>\n",
       "    <tr style=\"text-align: right;\">\n",
       "      <th></th>\n",
       "      <th>host_name</th>\n",
       "      <th>host_ra</th>\n",
       "      <th>host_dec</th>\n",
       "      <th>host_offset</th>\n",
       "      <th>host_offset_bestguess</th>\n",
       "      <th>host_source</th>\n",
       "      <th>host_redshift_spec</th>\n",
       "      <th>host_redshift</th>\n",
       "      <th>host_redshift_error</th>\n",
       "      <th>host_redshift_type</th>\n",
       "    </tr>\n",
       "    <tr>\n",
       "      <th>oid</th>\n",
       "      <th></th>\n",
       "      <th></th>\n",
       "      <th></th>\n",
       "      <th></th>\n",
       "      <th></th>\n",
       "      <th></th>\n",
       "      <th></th>\n",
       "      <th></th>\n",
       "      <th></th>\n",
       "      <th></th>\n",
       "    </tr>\n",
       "  </thead>\n",
       "  <tbody>\n",
       "    <tr>\n",
       "      <th>ZTF22aaugvnu</th>\n",
       "      <td>SDSS J165900.93+380435.0</td>\n",
       "      <td>254.753875</td>\n",
       "      <td>38.0764</td>\n",
       "      <td>1.677029</td>\n",
       "      <td>0.504463</td>\n",
       "      <td>SDSSDR16</td>\n",
       "      <td>False</td>\n",
       "      <td>0.2027</td>\n",
       "      <td>0.028486</td>\n",
       "      <td>photoz</td>\n",
       "    </tr>\n",
       "  </tbody>\n",
       "</table>\n",
       "</div>"
      ],
      "text/plain": [
       "                             host_name     host_ra host_dec host_offset  \\\n",
       "oid                                                                       \n",
       "ZTF22aaugvnu  SDSS J165900.93+380435.0  254.753875  38.0764    1.677029   \n",
       "\n",
       "             host_offset_bestguess host_source host_redshift_spec  \\\n",
       "oid                                                                 \n",
       "ZTF22aaugvnu              0.504463    SDSSDR16              False   \n",
       "\n",
       "             host_redshift host_redshift_error host_redshift_type  \n",
       "oid                                                                \n",
       "ZTF22aaugvnu        0.2027            0.028486             photoz  "
      ]
     },
     "metadata": {},
     "output_type": "display_data"
    },
    {
     "name": "stdout",
     "output_type": "stream",
     "text": [
      "33 candidates remaining\n"
     ]
    },
    {
     "data": {
      "application/vnd.jupyter.widget-view+json": {
       "model_id": "b5e086a3d0024de28630a096c5ed7953",
       "version_major": 2,
       "version_minor": 0
      },
      "text/plain": [
       "Box(children=(Aladin(fov=0.025, layout=Layout(width='70%'), options=['allow_full_zoomout', 'coo_frame', 'fov',…"
      ]
     },
     "metadata": {},
     "output_type": "display_data"
    },
    {
     "data": {
      "text/html": [
       "<div>\n",
       "<style scoped>\n",
       "    .dataframe tbody tr th:only-of-type {\n",
       "        vertical-align: middle;\n",
       "    }\n",
       "\n",
       "    .dataframe tbody tr th {\n",
       "        vertical-align: top;\n",
       "    }\n",
       "\n",
       "    .dataframe thead th {\n",
       "        text-align: right;\n",
       "    }\n",
       "</style>\n",
       "<table border=\"1\" class=\"dataframe\">\n",
       "  <thead>\n",
       "    <tr style=\"text-align: right;\">\n",
       "      <th></th>\n",
       "      <th>host_name</th>\n",
       "      <th>host_ra</th>\n",
       "      <th>host_dec</th>\n",
       "      <th>host_offset</th>\n",
       "      <th>host_offset_bestguess</th>\n",
       "      <th>host_source</th>\n",
       "      <th>host_redshift_spec</th>\n",
       "      <th>host_redshift</th>\n",
       "      <th>host_redshift_error</th>\n",
       "      <th>host_redshift_type</th>\n",
       "    </tr>\n",
       "    <tr>\n",
       "      <th>oid</th>\n",
       "      <th></th>\n",
       "      <th></th>\n",
       "      <th></th>\n",
       "      <th></th>\n",
       "      <th></th>\n",
       "      <th></th>\n",
       "      <th></th>\n",
       "      <th></th>\n",
       "      <th></th>\n",
       "      <th></th>\n",
       "    </tr>\n",
       "  </thead>\n",
       "  <tbody>\n",
       "    <tr>\n",
       "      <th>ZTF22aauhudo</th>\n",
       "      <td>SDSSCGB 71288.1</td>\n",
       "      <td>253.29058999999995</td>\n",
       "      <td>43.263264444444445</td>\n",
       "      <td>0.602711</td>\n",
       "      <td>0.079893</td>\n",
       "      <td>Simbad</td>\n",
       "      <td>True</td>\n",
       "      <td>0.11356</td>\n",
       "      <td>0.00014</td>\n",
       "      <td>C</td>\n",
       "    </tr>\n",
       "  </tbody>\n",
       "</table>\n",
       "</div>"
      ],
      "text/plain": [
       "                    host_name             host_ra            host_dec  \\\n",
       "oid                                                                     \n",
       "ZTF22aauhudo  SDSSCGB 71288.1  253.29058999999995  43.263264444444445   \n",
       "\n",
       "             host_offset host_offset_bestguess host_source host_redshift_spec  \\\n",
       "oid                                                                             \n",
       "ZTF22aauhudo    0.602711              0.079893      Simbad               True   \n",
       "\n",
       "             host_redshift host_redshift_error host_redshift_type  \n",
       "oid                                                                \n",
       "ZTF22aauhudo       0.11356             0.00014                  C  "
      ]
     },
     "metadata": {},
     "output_type": "display_data"
    },
    {
     "name": "stdout",
     "output_type": "stream",
     "text": [
      "32 candidates remaining\n"
     ]
    },
    {
     "data": {
      "application/vnd.jupyter.widget-view+json": {
       "model_id": "dba77ed61c854354bd896827c32a7588",
       "version_major": 2,
       "version_minor": 0
      },
      "text/plain": [
       "Box(children=(Aladin(fov=0.025, layout=Layout(width='70%'), options=['allow_full_zoomout', 'coo_frame', 'fov',…"
      ]
     },
     "metadata": {},
     "output_type": "display_data"
    },
    {
     "data": {
      "text/html": [
       "<div>\n",
       "<style scoped>\n",
       "    .dataframe tbody tr th:only-of-type {\n",
       "        vertical-align: middle;\n",
       "    }\n",
       "\n",
       "    .dataframe tbody tr th {\n",
       "        vertical-align: top;\n",
       "    }\n",
       "\n",
       "    .dataframe thead th {\n",
       "        text-align: right;\n",
       "    }\n",
       "</style>\n",
       "<table border=\"1\" class=\"dataframe\">\n",
       "  <thead>\n",
       "    <tr style=\"text-align: right;\">\n",
       "      <th></th>\n",
       "      <th>host_name</th>\n",
       "      <th>host_ra</th>\n",
       "      <th>host_dec</th>\n",
       "      <th>host_offset</th>\n",
       "      <th>host_offset_bestguess</th>\n",
       "      <th>host_source</th>\n",
       "      <th>host_redshift_spec</th>\n",
       "      <th>host_redshift</th>\n",
       "      <th>host_redshift_error</th>\n",
       "      <th>host_redshift_type</th>\n",
       "    </tr>\n",
       "    <tr>\n",
       "      <th>oid</th>\n",
       "      <th></th>\n",
       "      <th></th>\n",
       "      <th></th>\n",
       "      <th></th>\n",
       "      <th></th>\n",
       "      <th></th>\n",
       "      <th></th>\n",
       "      <th></th>\n",
       "      <th></th>\n",
       "      <th></th>\n",
       "    </tr>\n",
       "  </thead>\n",
       "  <tbody>\n",
       "    <tr>\n",
       "      <th>ZTF22aaujkdb</th>\n",
       "      <td>SDSS J212447.84-045040.4</td>\n",
       "      <td>321.199327</td>\n",
       "      <td>-4.844576</td>\n",
       "      <td>1.773429</td>\n",
       "      <td>0.224119</td>\n",
       "      <td>SDSSDR16</td>\n",
       "      <td>False</td>\n",
       "      <td>0.133148</td>\n",
       "      <td>0.009054</td>\n",
       "      <td>photoz</td>\n",
       "    </tr>\n",
       "  </tbody>\n",
       "</table>\n",
       "</div>"
      ],
      "text/plain": [
       "                             host_name     host_ra  host_dec host_offset  \\\n",
       "oid                                                                        \n",
       "ZTF22aaujkdb  SDSS J212447.84-045040.4  321.199327 -4.844576    1.773429   \n",
       "\n",
       "             host_offset_bestguess host_source host_redshift_spec  \\\n",
       "oid                                                                 \n",
       "ZTF22aaujkdb              0.224119    SDSSDR16              False   \n",
       "\n",
       "             host_redshift host_redshift_error host_redshift_type  \n",
       "oid                                                                \n",
       "ZTF22aaujkdb      0.133148            0.009054             photoz  "
      ]
     },
     "metadata": {},
     "output_type": "display_data"
    },
    {
     "name": "stdout",
     "output_type": "stream",
     "text": [
      "31 candidates remaining\n"
     ]
    },
    {
     "data": {
      "application/vnd.jupyter.widget-view+json": {
       "model_id": "6d85ee1133b04fec9d319fffcb753b60",
       "version_major": 2,
       "version_minor": 0
      },
      "text/plain": [
       "Box(children=(Aladin(fov=0.025, layout=Layout(width='70%'), options=['allow_full_zoomout', 'coo_frame', 'fov',…"
      ]
     },
     "metadata": {},
     "output_type": "display_data"
    },
    {
     "name": "stderr",
     "output_type": "stream",
     "text": [
      "/home/fforster/anaconda3/lib/python3.8/site-packages/astroquery/simbad/core.py:135: UserWarning: Warning: The script line number 3 raised an error (recorded in the `errors` attribute of the result table): '19:50:59.6904 +58:51:22.2366': No astronomical object found :\n",
      "  warnings.warn(\"Warning: The script line number %i raised \"\n"
     ]
    },
    {
     "data": {
      "text/html": [
       "<div>\n",
       "<style scoped>\n",
       "    .dataframe tbody tr th:only-of-type {\n",
       "        vertical-align: middle;\n",
       "    }\n",
       "\n",
       "    .dataframe tbody tr th {\n",
       "        vertical-align: top;\n",
       "    }\n",
       "\n",
       "    .dataframe thead th {\n",
       "        text-align: right;\n",
       "    }\n",
       "</style>\n",
       "<table border=\"1\" class=\"dataframe\">\n",
       "  <thead>\n",
       "    <tr style=\"text-align: right;\">\n",
       "      <th></th>\n",
       "      <th>host_name</th>\n",
       "      <th>host_ra</th>\n",
       "      <th>host_dec</th>\n",
       "      <th>host_offset</th>\n",
       "      <th>host_offset_bestguess</th>\n",
       "      <th>host_source</th>\n",
       "      <th>host_redshift_spec</th>\n",
       "      <th>host_redshift</th>\n",
       "      <th>host_redshift_error</th>\n",
       "      <th>host_redshift_type</th>\n",
       "    </tr>\n",
       "    <tr>\n",
       "      <th>oid</th>\n",
       "      <th></th>\n",
       "      <th></th>\n",
       "      <th></th>\n",
       "      <th></th>\n",
       "      <th></th>\n",
       "      <th></th>\n",
       "      <th></th>\n",
       "      <th></th>\n",
       "      <th></th>\n",
       "      <th></th>\n",
       "    </tr>\n",
       "  </thead>\n",
       "  <tbody>\n",
       "    <tr>\n",
       "      <th>ZTF22aaunsga</th>\n",
       "      <td>WISEA J195059.71+585122.0</td>\n",
       "      <td>297.74873</td>\n",
       "      <td>58.85609</td>\n",
       "      <td>1.36989</td>\n",
       "      <td>0.314772</td>\n",
       "      <td>NED</td>\n",
       "      <td>False</td>\n",
       "      <td>NaN</td>\n",
       "      <td>NaN</td>\n",
       "      <td>NaN</td>\n",
       "    </tr>\n",
       "  </tbody>\n",
       "</table>\n",
       "</div>"
      ],
      "text/plain": [
       "                              host_name    host_ra  host_dec host_offset  \\\n",
       "oid                                                                        \n",
       "ZTF22aaunsga  WISEA J195059.71+585122.0  297.74873  58.85609     1.36989   \n",
       "\n",
       "             host_offset_bestguess host_source host_redshift_spec  \\\n",
       "oid                                                                 \n",
       "ZTF22aaunsga              0.314772         NED              False   \n",
       "\n",
       "             host_redshift host_redshift_error host_redshift_type  \n",
       "oid                                                                \n",
       "ZTF22aaunsga           NaN                 NaN                NaN  "
      ]
     },
     "metadata": {},
     "output_type": "display_data"
    },
    {
     "name": "stdout",
     "output_type": "stream",
     "text": [
      "30 candidates remaining\n"
     ]
    },
    {
     "data": {
      "application/vnd.jupyter.widget-view+json": {
       "model_id": "054d63d0619d461f8ec3ba555caa8641",
       "version_major": 2,
       "version_minor": 0
      },
      "text/plain": [
       "Box(children=(Aladin(fov=0.025, layout=Layout(width='70%'), options=['allow_full_zoomout', 'coo_frame', 'fov',…"
      ]
     },
     "metadata": {},
     "output_type": "display_data"
    },
    {
     "name": "stderr",
     "output_type": "stream",
     "text": [
      "/home/fforster/anaconda3/lib/python3.8/site-packages/astroquery/simbad/core.py:135: UserWarning: Warning: The script line number 3 raised an error (recorded in the `errors` attribute of the result table): '14:40:17.5083 +45:18:37.1141': No astronomical object found :\n",
      "  warnings.warn(\"Warning: The script line number %i raised \"\n"
     ]
    },
    {
     "data": {
      "text/html": [
       "<div>\n",
       "<style scoped>\n",
       "    .dataframe tbody tr th:only-of-type {\n",
       "        vertical-align: middle;\n",
       "    }\n",
       "\n",
       "    .dataframe tbody tr th {\n",
       "        vertical-align: top;\n",
       "    }\n",
       "\n",
       "    .dataframe thead th {\n",
       "        text-align: right;\n",
       "    }\n",
       "</style>\n",
       "<table border=\"1\" class=\"dataframe\">\n",
       "  <thead>\n",
       "    <tr style=\"text-align: right;\">\n",
       "      <th></th>\n",
       "      <th>host_name</th>\n",
       "      <th>host_ra</th>\n",
       "      <th>host_dec</th>\n",
       "      <th>host_offset</th>\n",
       "      <th>host_offset_bestguess</th>\n",
       "      <th>host_source</th>\n",
       "      <th>host_redshift_spec</th>\n",
       "      <th>host_redshift</th>\n",
       "      <th>host_redshift_error</th>\n",
       "      <th>host_redshift_type</th>\n",
       "    </tr>\n",
       "    <tr>\n",
       "      <th>oid</th>\n",
       "      <th></th>\n",
       "      <th></th>\n",
       "      <th></th>\n",
       "      <th></th>\n",
       "      <th></th>\n",
       "      <th></th>\n",
       "      <th></th>\n",
       "      <th></th>\n",
       "      <th></th>\n",
       "      <th></th>\n",
       "    </tr>\n",
       "  </thead>\n",
       "  <tbody>\n",
       "    <tr>\n",
       "      <th>ZTF22aautnrr</th>\n",
       "      <td>SDSS J144017.49+451836.7</td>\n",
       "      <td>220.072879</td>\n",
       "      <td>45.310216</td>\n",
       "      <td>1.265058</td>\n",
       "      <td>0.382179</td>\n",
       "      <td>SDSSDR16</td>\n",
       "      <td>False</td>\n",
       "      <td>0.439006</td>\n",
       "      <td>0.125007</td>\n",
       "      <td>photoz</td>\n",
       "    </tr>\n",
       "  </tbody>\n",
       "</table>\n",
       "</div>"
      ],
      "text/plain": [
       "                             host_name     host_ra   host_dec host_offset  \\\n",
       "oid                                                                         \n",
       "ZTF22aautnrr  SDSS J144017.49+451836.7  220.072879  45.310216    1.265058   \n",
       "\n",
       "             host_offset_bestguess host_source host_redshift_spec  \\\n",
       "oid                                                                 \n",
       "ZTF22aautnrr              0.382179    SDSSDR16              False   \n",
       "\n",
       "             host_redshift host_redshift_error host_redshift_type  \n",
       "oid                                                                \n",
       "ZTF22aautnrr      0.439006            0.125007             photoz  "
      ]
     },
     "metadata": {},
     "output_type": "display_data"
    },
    {
     "name": "stdout",
     "output_type": "stream",
     "text": [
      "29 candidates remaining\n"
     ]
    },
    {
     "data": {
      "application/vnd.jupyter.widget-view+json": {
       "model_id": "7e4ddf8cb5984c29b6409eac125bd08e",
       "version_major": 2,
       "version_minor": 0
      },
      "text/plain": [
       "Box(children=(Aladin(fov=0.025, layout=Layout(width='70%'), options=['allow_full_zoomout', 'coo_frame', 'fov',…"
      ]
     },
     "metadata": {},
     "output_type": "display_data"
    },
    {
     "name": "stderr",
     "output_type": "stream",
     "text": [
      "/home/fforster/anaconda3/lib/python3.8/site-packages/astroquery/simbad/core.py:135: UserWarning: Warning: The script line number 3 raised an error (recorded in the `errors` attribute of the result table): '14:59:13.4206 +63:12:49.5284': No astronomical object found :\n",
      "  warnings.warn(\"Warning: The script line number %i raised \"\n"
     ]
    },
    {
     "data": {
      "text/html": [
       "<div>\n",
       "<style scoped>\n",
       "    .dataframe tbody tr th:only-of-type {\n",
       "        vertical-align: middle;\n",
       "    }\n",
       "\n",
       "    .dataframe tbody tr th {\n",
       "        vertical-align: top;\n",
       "    }\n",
       "\n",
       "    .dataframe thead th {\n",
       "        text-align: right;\n",
       "    }\n",
       "</style>\n",
       "<table border=\"1\" class=\"dataframe\">\n",
       "  <thead>\n",
       "    <tr style=\"text-align: right;\">\n",
       "      <th></th>\n",
       "      <th>host_name</th>\n",
       "      <th>host_ra</th>\n",
       "      <th>host_dec</th>\n",
       "      <th>host_offset</th>\n",
       "      <th>host_offset_bestguess</th>\n",
       "      <th>host_source</th>\n",
       "      <th>host_redshift_spec</th>\n",
       "      <th>host_redshift</th>\n",
       "      <th>host_redshift_error</th>\n",
       "      <th>host_redshift_type</th>\n",
       "    </tr>\n",
       "    <tr>\n",
       "      <th>oid</th>\n",
       "      <th></th>\n",
       "      <th></th>\n",
       "      <th></th>\n",
       "      <th></th>\n",
       "      <th></th>\n",
       "      <th></th>\n",
       "      <th></th>\n",
       "      <th></th>\n",
       "      <th></th>\n",
       "      <th></th>\n",
       "    </tr>\n",
       "  </thead>\n",
       "  <tbody>\n",
       "    <tr>\n",
       "      <th>ZTF22aautntp</th>\n",
       "      <td>SDSS J145913.50+631249.0</td>\n",
       "      <td>224.806248</td>\n",
       "      <td>63.213621</td>\n",
       "      <td>2.043399</td>\n",
       "      <td>0.7259</td>\n",
       "      <td>SDSSDR16</td>\n",
       "      <td>False</td>\n",
       "      <td>0.18608</td>\n",
       "      <td>0.083539</td>\n",
       "      <td>photoz</td>\n",
       "    </tr>\n",
       "  </tbody>\n",
       "</table>\n",
       "</div>"
      ],
      "text/plain": [
       "                             host_name     host_ra   host_dec host_offset  \\\n",
       "oid                                                                         \n",
       "ZTF22aautntp  SDSS J145913.50+631249.0  224.806248  63.213621    2.043399   \n",
       "\n",
       "             host_offset_bestguess host_source host_redshift_spec  \\\n",
       "oid                                                                 \n",
       "ZTF22aautntp                0.7259    SDSSDR16              False   \n",
       "\n",
       "             host_redshift host_redshift_error host_redshift_type  \n",
       "oid                                                                \n",
       "ZTF22aautntp       0.18608            0.083539             photoz  "
      ]
     },
     "metadata": {},
     "output_type": "display_data"
    },
    {
     "name": "stdout",
     "output_type": "stream",
     "text": [
      "28 candidates remaining\n"
     ]
    },
    {
     "data": {
      "application/vnd.jupyter.widget-view+json": {
       "model_id": "9d2880083f7f4cad917181ef783354df",
       "version_major": 2,
       "version_minor": 0
      },
      "text/plain": [
       "Box(children=(Aladin(fov=0.025, layout=Layout(width='70%'), options=['allow_full_zoomout', 'coo_frame', 'fov',…"
      ]
     },
     "metadata": {},
     "output_type": "display_data"
    },
    {
     "name": "stderr",
     "output_type": "stream",
     "text": [
      "/home/fforster/anaconda3/lib/python3.8/site-packages/astroquery/simbad/core.py:135: UserWarning: Warning: The script line number 3 raised an error (recorded in the `errors` attribute of the result table): '13:49:49.939 +71:36:16.5161': No astronomical object found :\n",
      "  warnings.warn(\"Warning: The script line number %i raised \"\n"
     ]
    },
    {
     "data": {
      "text/html": [
       "<div>\n",
       "<style scoped>\n",
       "    .dataframe tbody tr th:only-of-type {\n",
       "        vertical-align: middle;\n",
       "    }\n",
       "\n",
       "    .dataframe tbody tr th {\n",
       "        vertical-align: top;\n",
       "    }\n",
       "\n",
       "    .dataframe thead th {\n",
       "        text-align: right;\n",
       "    }\n",
       "</style>\n",
       "<table border=\"1\" class=\"dataframe\">\n",
       "  <thead>\n",
       "    <tr style=\"text-align: right;\">\n",
       "      <th></th>\n",
       "      <th>host_name</th>\n",
       "      <th>host_ra</th>\n",
       "      <th>host_dec</th>\n",
       "      <th>host_offset</th>\n",
       "      <th>host_offset_bestguess</th>\n",
       "      <th>host_source</th>\n",
       "      <th>host_redshift_spec</th>\n",
       "      <th>host_redshift</th>\n",
       "      <th>host_redshift_error</th>\n",
       "      <th>host_redshift_type</th>\n",
       "    </tr>\n",
       "    <tr>\n",
       "      <th>oid</th>\n",
       "      <th></th>\n",
       "      <th></th>\n",
       "      <th></th>\n",
       "      <th></th>\n",
       "      <th></th>\n",
       "      <th></th>\n",
       "      <th></th>\n",
       "      <th></th>\n",
       "      <th></th>\n",
       "      <th></th>\n",
       "    </tr>\n",
       "  </thead>\n",
       "  <tbody>\n",
       "    <tr>\n",
       "      <th>ZTF22aautpdb</th>\n",
       "      <td>WISEA J134949.97+713616.1</td>\n",
       "      <td>207.45809</td>\n",
       "      <td>71.60437</td>\n",
       "      <td>2.371596</td>\n",
       "      <td>0.784226</td>\n",
       "      <td>NED</td>\n",
       "      <td>False</td>\n",
       "      <td>NaN</td>\n",
       "      <td>NaN</td>\n",
       "      <td>NaN</td>\n",
       "    </tr>\n",
       "  </tbody>\n",
       "</table>\n",
       "</div>"
      ],
      "text/plain": [
       "                              host_name    host_ra  host_dec host_offset  \\\n",
       "oid                                                                        \n",
       "ZTF22aautpdb  WISEA J134949.97+713616.1  207.45809  71.60437    2.371596   \n",
       "\n",
       "             host_offset_bestguess host_source host_redshift_spec  \\\n",
       "oid                                                                 \n",
       "ZTF22aautpdb              0.784226         NED              False   \n",
       "\n",
       "             host_redshift host_redshift_error host_redshift_type  \n",
       "oid                                                                \n",
       "ZTF22aautpdb           NaN                 NaN                NaN  "
      ]
     },
     "metadata": {},
     "output_type": "display_data"
    },
    {
     "name": "stdout",
     "output_type": "stream",
     "text": [
      "27 candidates remaining\n"
     ]
    },
    {
     "data": {
      "application/vnd.jupyter.widget-view+json": {
       "model_id": "613a170b938444a4b3004a1a1275ecb5",
       "version_major": 2,
       "version_minor": 0
      },
      "text/plain": [
       "Box(children=(Aladin(fov=0.025, layout=Layout(width='70%'), options=['allow_full_zoomout', 'coo_frame', 'fov',…"
      ]
     },
     "metadata": {},
     "output_type": "display_data"
    },
    {
     "name": "stderr",
     "output_type": "stream",
     "text": [
      "/home/fforster/anaconda3/lib/python3.8/site-packages/astroquery/simbad/core.py:135: UserWarning: Warning: The script line number 3 raised an error (recorded in the `errors` attribute of the result table): '16:38:23.6546 +24:52:29.3792': No astronomical object found :\n",
      "  warnings.warn(\"Warning: The script line number %i raised \"\n"
     ]
    },
    {
     "data": {
      "text/html": [
       "<div>\n",
       "<style scoped>\n",
       "    .dataframe tbody tr th:only-of-type {\n",
       "        vertical-align: middle;\n",
       "    }\n",
       "\n",
       "    .dataframe tbody tr th {\n",
       "        vertical-align: top;\n",
       "    }\n",
       "\n",
       "    .dataframe thead th {\n",
       "        text-align: right;\n",
       "    }\n",
       "</style>\n",
       "<table border=\"1\" class=\"dataframe\">\n",
       "  <thead>\n",
       "    <tr style=\"text-align: right;\">\n",
       "      <th></th>\n",
       "      <th>host_name</th>\n",
       "      <th>host_ra</th>\n",
       "      <th>host_dec</th>\n",
       "      <th>host_offset</th>\n",
       "      <th>host_offset_bestguess</th>\n",
       "      <th>host_source</th>\n",
       "      <th>host_redshift_spec</th>\n",
       "      <th>host_redshift</th>\n",
       "      <th>host_redshift_error</th>\n",
       "      <th>host_redshift_type</th>\n",
       "    </tr>\n",
       "    <tr>\n",
       "      <th>oid</th>\n",
       "      <th></th>\n",
       "      <th></th>\n",
       "      <th></th>\n",
       "      <th></th>\n",
       "      <th></th>\n",
       "      <th></th>\n",
       "      <th></th>\n",
       "      <th></th>\n",
       "      <th></th>\n",
       "      <th></th>\n",
       "    </tr>\n",
       "  </thead>\n",
       "  <tbody>\n",
       "    <tr>\n",
       "      <th>ZTF22aautrcf</th>\n",
       "      <td>SDSS J163823.66+245229.0</td>\n",
       "      <td>249.598592</td>\n",
       "      <td>24.874731</td>\n",
       "      <td>1.321846</td>\n",
       "      <td>0.36099</td>\n",
       "      <td>SDSSDR16</td>\n",
       "      <td>False</td>\n",
       "      <td>0.156572</td>\n",
       "      <td>0.057523</td>\n",
       "      <td>photoz</td>\n",
       "    </tr>\n",
       "  </tbody>\n",
       "</table>\n",
       "</div>"
      ],
      "text/plain": [
       "                             host_name     host_ra   host_dec host_offset  \\\n",
       "oid                                                                         \n",
       "ZTF22aautrcf  SDSS J163823.66+245229.0  249.598592  24.874731    1.321846   \n",
       "\n",
       "             host_offset_bestguess host_source host_redshift_spec  \\\n",
       "oid                                                                 \n",
       "ZTF22aautrcf               0.36099    SDSSDR16              False   \n",
       "\n",
       "             host_redshift host_redshift_error host_redshift_type  \n",
       "oid                                                                \n",
       "ZTF22aautrcf      0.156572            0.057523             photoz  "
      ]
     },
     "metadata": {},
     "output_type": "display_data"
    },
    {
     "name": "stdout",
     "output_type": "stream",
     "text": [
      "26 candidates remaining\n"
     ]
    },
    {
     "data": {
      "application/vnd.jupyter.widget-view+json": {
       "model_id": "9bc8d4653a22419c81924719c8aa7912",
       "version_major": 2,
       "version_minor": 0
      },
      "text/plain": [
       "Box(children=(Aladin(fov=0.025, layout=Layout(width='70%'), options=['allow_full_zoomout', 'coo_frame', 'fov',…"
      ]
     },
     "metadata": {},
     "output_type": "display_data"
    },
    {
     "data": {
      "text/html": [
       "<div>\n",
       "<style scoped>\n",
       "    .dataframe tbody tr th:only-of-type {\n",
       "        vertical-align: middle;\n",
       "    }\n",
       "\n",
       "    .dataframe tbody tr th {\n",
       "        vertical-align: top;\n",
       "    }\n",
       "\n",
       "    .dataframe thead th {\n",
       "        text-align: right;\n",
       "    }\n",
       "</style>\n",
       "<table border=\"1\" class=\"dataframe\">\n",
       "  <thead>\n",
       "    <tr style=\"text-align: right;\">\n",
       "      <th></th>\n",
       "      <th>host_name</th>\n",
       "      <th>host_ra</th>\n",
       "      <th>host_dec</th>\n",
       "      <th>host_offset</th>\n",
       "      <th>host_offset_bestguess</th>\n",
       "      <th>host_source</th>\n",
       "      <th>host_redshift_spec</th>\n",
       "      <th>host_redshift</th>\n",
       "      <th>host_redshift_error</th>\n",
       "      <th>host_redshift_type</th>\n",
       "    </tr>\n",
       "    <tr>\n",
       "      <th>oid</th>\n",
       "      <th></th>\n",
       "      <th></th>\n",
       "      <th></th>\n",
       "      <th></th>\n",
       "      <th></th>\n",
       "      <th></th>\n",
       "      <th></th>\n",
       "      <th></th>\n",
       "      <th></th>\n",
       "      <th></th>\n",
       "    </tr>\n",
       "  </thead>\n",
       "  <tbody>\n",
       "    <tr>\n",
       "      <th>ZTF22aauuvby</th>\n",
       "      <td>WISEA J172031.51+485326.0</td>\n",
       "      <td>260.13121</td>\n",
       "      <td>48.89048</td>\n",
       "      <td>5.447045</td>\n",
       "      <td>0.364267</td>\n",
       "      <td>NED</td>\n",
       "      <td>False</td>\n",
       "      <td>NaN</td>\n",
       "      <td>NaN</td>\n",
       "      <td>NaN</td>\n",
       "    </tr>\n",
       "  </tbody>\n",
       "</table>\n",
       "</div>"
      ],
      "text/plain": [
       "                              host_name    host_ra  host_dec host_offset  \\\n",
       "oid                                                                        \n",
       "ZTF22aauuvby  WISEA J172031.51+485326.0  260.13121  48.89048    5.447045   \n",
       "\n",
       "             host_offset_bestguess host_source host_redshift_spec  \\\n",
       "oid                                                                 \n",
       "ZTF22aauuvby              0.364267         NED              False   \n",
       "\n",
       "             host_redshift host_redshift_error host_redshift_type  \n",
       "oid                                                                \n",
       "ZTF22aauuvby           NaN                 NaN                NaN  "
      ]
     },
     "metadata": {},
     "output_type": "display_data"
    },
    {
     "name": "stdout",
     "output_type": "stream",
     "text": [
      "25 candidates remaining\n"
     ]
    },
    {
     "data": {
      "application/vnd.jupyter.widget-view+json": {
       "model_id": "cc1aa02766c24c259fe5380f7166bf31",
       "version_major": 2,
       "version_minor": 0
      },
      "text/plain": [
       "Box(children=(Aladin(fov=0.025, layout=Layout(width='70%'), options=['allow_full_zoomout', 'coo_frame', 'fov',…"
      ]
     },
     "metadata": {},
     "output_type": "display_data"
    },
    {
     "name": "stderr",
     "output_type": "stream",
     "text": [
      "/home/fforster/anaconda3/lib/python3.8/site-packages/astroquery/simbad/core.py:135: UserWarning: Warning: The script line number 3 raised an error (recorded in the `errors` attribute of the result table): '15:39:30.5998 +34:51:17.5413': No astronomical object found :\n",
      "  warnings.warn(\"Warning: The script line number %i raised \"\n"
     ]
    },
    {
     "data": {
      "text/html": [
       "<div>\n",
       "<style scoped>\n",
       "    .dataframe tbody tr th:only-of-type {\n",
       "        vertical-align: middle;\n",
       "    }\n",
       "\n",
       "    .dataframe tbody tr th {\n",
       "        vertical-align: top;\n",
       "    }\n",
       "\n",
       "    .dataframe thead th {\n",
       "        text-align: right;\n",
       "    }\n",
       "</style>\n",
       "<table border=\"1\" class=\"dataframe\">\n",
       "  <thead>\n",
       "    <tr style=\"text-align: right;\">\n",
       "      <th></th>\n",
       "      <th>host_name</th>\n",
       "      <th>host_ra</th>\n",
       "      <th>host_dec</th>\n",
       "      <th>host_offset</th>\n",
       "      <th>host_offset_bestguess</th>\n",
       "      <th>host_source</th>\n",
       "      <th>host_redshift_spec</th>\n",
       "      <th>host_redshift</th>\n",
       "      <th>host_redshift_error</th>\n",
       "      <th>host_redshift_type</th>\n",
       "    </tr>\n",
       "    <tr>\n",
       "      <th>oid</th>\n",
       "      <th></th>\n",
       "      <th></th>\n",
       "      <th></th>\n",
       "      <th></th>\n",
       "      <th></th>\n",
       "      <th></th>\n",
       "      <th></th>\n",
       "      <th></th>\n",
       "      <th></th>\n",
       "      <th></th>\n",
       "    </tr>\n",
       "  </thead>\n",
       "  <tbody>\n",
       "    <tr>\n",
       "      <th>ZTF22aauuxul</th>\n",
       "      <td>WISEA J153930.60+345117.1</td>\n",
       "      <td>234.87757</td>\n",
       "      <td>34.85492</td>\n",
       "      <td>2.193836</td>\n",
       "      <td>0.269608</td>\n",
       "      <td>NED</td>\n",
       "      <td>True</td>\n",
       "      <td>0.084925</td>\n",
       "      <td>NaN</td>\n",
       "      <td>SPEC</td>\n",
       "    </tr>\n",
       "  </tbody>\n",
       "</table>\n",
       "</div>"
      ],
      "text/plain": [
       "                              host_name    host_ra  host_dec host_offset  \\\n",
       "oid                                                                        \n",
       "ZTF22aauuxul  WISEA J153930.60+345117.1  234.87757  34.85492    2.193836   \n",
       "\n",
       "             host_offset_bestguess host_source host_redshift_spec  \\\n",
       "oid                                                                 \n",
       "ZTF22aauuxul              0.269608         NED               True   \n",
       "\n",
       "             host_redshift host_redshift_error host_redshift_type  \n",
       "oid                                                                \n",
       "ZTF22aauuxul      0.084925                 NaN               SPEC  "
      ]
     },
     "metadata": {},
     "output_type": "display_data"
    },
    {
     "name": "stdout",
     "output_type": "stream",
     "text": [
      "24 candidates remaining\n"
     ]
    },
    {
     "data": {
      "application/vnd.jupyter.widget-view+json": {
       "model_id": "ee9e988fbab14601821ac036e62f2a45",
       "version_major": 2,
       "version_minor": 0
      },
      "text/plain": [
       "Box(children=(Aladin(fov=0.025, layout=Layout(width='70%'), options=['allow_full_zoomout', 'coo_frame', 'fov',…"
      ]
     },
     "metadata": {},
     "output_type": "display_data"
    },
    {
     "data": {
      "text/html": [
       "<div>\n",
       "<style scoped>\n",
       "    .dataframe tbody tr th:only-of-type {\n",
       "        vertical-align: middle;\n",
       "    }\n",
       "\n",
       "    .dataframe tbody tr th {\n",
       "        vertical-align: top;\n",
       "    }\n",
       "\n",
       "    .dataframe thead th {\n",
       "        text-align: right;\n",
       "    }\n",
       "</style>\n",
       "<table border=\"1\" class=\"dataframe\">\n",
       "  <thead>\n",
       "    <tr style=\"text-align: right;\">\n",
       "      <th></th>\n",
       "      <th>host_name</th>\n",
       "      <th>host_ra</th>\n",
       "      <th>host_dec</th>\n",
       "      <th>host_offset</th>\n",
       "      <th>host_offset_bestguess</th>\n",
       "      <th>host_source</th>\n",
       "      <th>host_redshift_spec</th>\n",
       "      <th>host_redshift</th>\n",
       "      <th>host_redshift_error</th>\n",
       "      <th>host_redshift_type</th>\n",
       "    </tr>\n",
       "    <tr>\n",
       "      <th>oid</th>\n",
       "      <th></th>\n",
       "      <th></th>\n",
       "      <th></th>\n",
       "      <th></th>\n",
       "      <th></th>\n",
       "      <th></th>\n",
       "      <th></th>\n",
       "      <th></th>\n",
       "      <th></th>\n",
       "      <th></th>\n",
       "    </tr>\n",
       "  </thead>\n",
       "  <tbody>\n",
       "    <tr>\n",
       "      <th>ZTF22aauvseh</th>\n",
       "      <td>WISEA J203136.33-123937.2</td>\n",
       "      <td>307.90146</td>\n",
       "      <td>-12.66061</td>\n",
       "      <td>4.803517</td>\n",
       "      <td>0.81901</td>\n",
       "      <td>NED</td>\n",
       "      <td>False</td>\n",
       "      <td>0.175839</td>\n",
       "      <td>NaN</td>\n",
       "      <td>PHOT</td>\n",
       "    </tr>\n",
       "  </tbody>\n",
       "</table>\n",
       "</div>"
      ],
      "text/plain": [
       "                              host_name    host_ra  host_dec host_offset  \\\n",
       "oid                                                                        \n",
       "ZTF22aauvseh  WISEA J203136.33-123937.2  307.90146 -12.66061    4.803517   \n",
       "\n",
       "             host_offset_bestguess host_source host_redshift_spec  \\\n",
       "oid                                                                 \n",
       "ZTF22aauvseh               0.81901         NED              False   \n",
       "\n",
       "             host_redshift host_redshift_error host_redshift_type  \n",
       "oid                                                                \n",
       "ZTF22aauvseh      0.175839                 NaN               PHOT  "
      ]
     },
     "metadata": {},
     "output_type": "display_data"
    },
    {
     "name": "stdout",
     "output_type": "stream",
     "text": [
      "23 candidates remaining\n"
     ]
    },
    {
     "data": {
      "application/vnd.jupyter.widget-view+json": {
       "model_id": "7ea19426955b4d49a2406b9cb15278ae",
       "version_major": 2,
       "version_minor": 0
      },
      "text/plain": [
       "Box(children=(Aladin(fov=0.025, layout=Layout(width='70%'), options=['allow_full_zoomout', 'coo_frame', 'fov',…"
      ]
     },
     "metadata": {},
     "output_type": "display_data"
    },
    {
     "name": "stderr",
     "output_type": "stream",
     "text": [
      "/home/fforster/anaconda3/lib/python3.8/site-packages/astroquery/simbad/core.py:135: UserWarning: Warning: The script line number 3 raised an error (recorded in the `errors` attribute of the result table): '14:51:00.5775 +23:35:22.1208': No astronomical object found :\n",
      "  warnings.warn(\"Warning: The script line number %i raised \"\n"
     ]
    },
    {
     "data": {
      "text/html": [
       "<div>\n",
       "<style scoped>\n",
       "    .dataframe tbody tr th:only-of-type {\n",
       "        vertical-align: middle;\n",
       "    }\n",
       "\n",
       "    .dataframe tbody tr th {\n",
       "        vertical-align: top;\n",
       "    }\n",
       "\n",
       "    .dataframe thead th {\n",
       "        text-align: right;\n",
       "    }\n",
       "</style>\n",
       "<table border=\"1\" class=\"dataframe\">\n",
       "  <thead>\n",
       "    <tr style=\"text-align: right;\">\n",
       "      <th></th>\n",
       "      <th>host_name</th>\n",
       "      <th>host_ra</th>\n",
       "      <th>host_dec</th>\n",
       "      <th>host_offset</th>\n",
       "      <th>host_offset_bestguess</th>\n",
       "      <th>host_source</th>\n",
       "      <th>host_redshift_spec</th>\n",
       "      <th>host_redshift</th>\n",
       "      <th>host_redshift_error</th>\n",
       "      <th>host_redshift_type</th>\n",
       "    </tr>\n",
       "    <tr>\n",
       "      <th>oid</th>\n",
       "      <th></th>\n",
       "      <th></th>\n",
       "      <th></th>\n",
       "      <th></th>\n",
       "      <th></th>\n",
       "      <th></th>\n",
       "      <th></th>\n",
       "      <th></th>\n",
       "      <th></th>\n",
       "      <th></th>\n",
       "    </tr>\n",
       "  </thead>\n",
       "  <tbody>\n",
       "    <tr>\n",
       "      <th>ZTF22aauwylz</th>\n",
       "      <td>SDSS J145100.60+233521.7</td>\n",
       "      <td>222.752494</td>\n",
       "      <td>23.589371</td>\n",
       "      <td>1.024663</td>\n",
       "      <td>0.482507</td>\n",
       "      <td>SDSSDR16</td>\n",
       "      <td>False</td>\n",
       "      <td>0.152285</td>\n",
       "      <td>0.048373</td>\n",
       "      <td>photoz</td>\n",
       "    </tr>\n",
       "  </tbody>\n",
       "</table>\n",
       "</div>"
      ],
      "text/plain": [
       "                             host_name     host_ra   host_dec host_offset  \\\n",
       "oid                                                                         \n",
       "ZTF22aauwylz  SDSS J145100.60+233521.7  222.752494  23.589371    1.024663   \n",
       "\n",
       "             host_offset_bestguess host_source host_redshift_spec  \\\n",
       "oid                                                                 \n",
       "ZTF22aauwylz              0.482507    SDSSDR16              False   \n",
       "\n",
       "             host_redshift host_redshift_error host_redshift_type  \n",
       "oid                                                                \n",
       "ZTF22aauwylz      0.152285            0.048373             photoz  "
      ]
     },
     "metadata": {},
     "output_type": "display_data"
    },
    {
     "name": "stdout",
     "output_type": "stream",
     "text": [
      "22 candidates remaining\n"
     ]
    },
    {
     "data": {
      "application/vnd.jupyter.widget-view+json": {
       "model_id": "20a775bb4680448789ffe49c97706376",
       "version_major": 2,
       "version_minor": 0
      },
      "text/plain": [
       "Box(children=(Aladin(fov=0.025, layout=Layout(width='70%'), options=['allow_full_zoomout', 'coo_frame', 'fov',…"
      ]
     },
     "metadata": {},
     "output_type": "display_data"
    },
    {
     "name": "stderr",
     "output_type": "stream",
     "text": [
      "/home/fforster/anaconda3/lib/python3.8/site-packages/astroquery/simbad/core.py:135: UserWarning: Warning: The script line number 3 raised an error (recorded in the `errors` attribute of the result table): '15:33:16.3466 +52:36:09.5181': No astronomical object found :\n",
      "  warnings.warn(\"Warning: The script line number %i raised \"\n"
     ]
    },
    {
     "data": {
      "text/html": [
       "<div>\n",
       "<style scoped>\n",
       "    .dataframe tbody tr th:only-of-type {\n",
       "        vertical-align: middle;\n",
       "    }\n",
       "\n",
       "    .dataframe tbody tr th {\n",
       "        vertical-align: top;\n",
       "    }\n",
       "\n",
       "    .dataframe thead th {\n",
       "        text-align: right;\n",
       "    }\n",
       "</style>\n",
       "<table border=\"1\" class=\"dataframe\">\n",
       "  <thead>\n",
       "    <tr style=\"text-align: right;\">\n",
       "      <th></th>\n",
       "      <th>host_name</th>\n",
       "      <th>host_ra</th>\n",
       "      <th>host_dec</th>\n",
       "      <th>host_offset</th>\n",
       "      <th>host_offset_bestguess</th>\n",
       "      <th>host_source</th>\n",
       "      <th>host_redshift_spec</th>\n",
       "      <th>host_redshift</th>\n",
       "      <th>host_redshift_error</th>\n",
       "      <th>host_redshift_type</th>\n",
       "    </tr>\n",
       "    <tr>\n",
       "      <th>oid</th>\n",
       "      <th></th>\n",
       "      <th></th>\n",
       "      <th></th>\n",
       "      <th></th>\n",
       "      <th></th>\n",
       "      <th></th>\n",
       "      <th></th>\n",
       "      <th></th>\n",
       "      <th></th>\n",
       "      <th></th>\n",
       "    </tr>\n",
       "  </thead>\n",
       "  <tbody>\n",
       "    <tr>\n",
       "      <th>ZTF22aauxltc</th>\n",
       "      <td>SDSS J153316.38+523609.1</td>\n",
       "      <td>233.318253</td>\n",
       "      <td>52.602534</td>\n",
       "      <td>2.534611</td>\n",
       "      <td>0.502788</td>\n",
       "      <td>SDSSDR16</td>\n",
       "      <td>False</td>\n",
       "      <td>0.18792</td>\n",
       "      <td>0.032021</td>\n",
       "      <td>photoz</td>\n",
       "    </tr>\n",
       "  </tbody>\n",
       "</table>\n",
       "</div>"
      ],
      "text/plain": [
       "                             host_name     host_ra   host_dec host_offset  \\\n",
       "oid                                                                         \n",
       "ZTF22aauxltc  SDSS J153316.38+523609.1  233.318253  52.602534    2.534611   \n",
       "\n",
       "             host_offset_bestguess host_source host_redshift_spec  \\\n",
       "oid                                                                 \n",
       "ZTF22aauxltc              0.502788    SDSSDR16              False   \n",
       "\n",
       "             host_redshift host_redshift_error host_redshift_type  \n",
       "oid                                                                \n",
       "ZTF22aauxltc       0.18792            0.032021             photoz  "
      ]
     },
     "metadata": {},
     "output_type": "display_data"
    },
    {
     "name": "stdout",
     "output_type": "stream",
     "text": [
      "21 candidates remaining\n"
     ]
    },
    {
     "data": {
      "application/vnd.jupyter.widget-view+json": {
       "model_id": "edfc8d1298d54c61a6505e4d1b075f96",
       "version_major": 2,
       "version_minor": 0
      },
      "text/plain": [
       "Box(children=(Aladin(fov=0.025, layout=Layout(width='70%'), options=['allow_full_zoomout', 'coo_frame', 'fov',…"
      ]
     },
     "metadata": {},
     "output_type": "display_data"
    },
    {
     "data": {
      "text/html": [
       "<div>\n",
       "<style scoped>\n",
       "    .dataframe tbody tr th:only-of-type {\n",
       "        vertical-align: middle;\n",
       "    }\n",
       "\n",
       "    .dataframe tbody tr th {\n",
       "        vertical-align: top;\n",
       "    }\n",
       "\n",
       "    .dataframe thead th {\n",
       "        text-align: right;\n",
       "    }\n",
       "</style>\n",
       "<table border=\"1\" class=\"dataframe\">\n",
       "  <thead>\n",
       "    <tr style=\"text-align: right;\">\n",
       "      <th></th>\n",
       "      <th>host_name</th>\n",
       "      <th>host_ra</th>\n",
       "      <th>host_dec</th>\n",
       "      <th>host_offset</th>\n",
       "      <th>host_offset_bestguess</th>\n",
       "      <th>host_source</th>\n",
       "      <th>host_redshift_spec</th>\n",
       "      <th>host_redshift</th>\n",
       "      <th>host_redshift_error</th>\n",
       "      <th>host_redshift_type</th>\n",
       "    </tr>\n",
       "    <tr>\n",
       "      <th>oid</th>\n",
       "      <th></th>\n",
       "      <th></th>\n",
       "      <th></th>\n",
       "      <th></th>\n",
       "      <th></th>\n",
       "      <th></th>\n",
       "      <th></th>\n",
       "      <th></th>\n",
       "      <th></th>\n",
       "      <th></th>\n",
       "    </tr>\n",
       "  </thead>\n",
       "  <tbody>\n",
       "    <tr>\n",
       "      <th>ZTF22aauxsyt</th>\n",
       "      <td>2MASX J16485739+3605446</td>\n",
       "      <td>252.2393166666666</td>\n",
       "      <td>36.095711111111115</td>\n",
       "      <td>3.352263</td>\n",
       "      <td>0.310758</td>\n",
       "      <td>Simbad</td>\n",
       "      <td>True</td>\n",
       "      <td>0.11516</td>\n",
       "      <td>0.00002</td>\n",
       "      <td>C</td>\n",
       "    </tr>\n",
       "  </tbody>\n",
       "</table>\n",
       "</div>"
      ],
      "text/plain": [
       "                            host_name            host_ra            host_dec  \\\n",
       "oid                                                                            \n",
       "ZTF22aauxsyt  2MASX J16485739+3605446  252.2393166666666  36.095711111111115   \n",
       "\n",
       "             host_offset host_offset_bestguess host_source host_redshift_spec  \\\n",
       "oid                                                                             \n",
       "ZTF22aauxsyt    3.352263              0.310758      Simbad               True   \n",
       "\n",
       "             host_redshift host_redshift_error host_redshift_type  \n",
       "oid                                                                \n",
       "ZTF22aauxsyt       0.11516             0.00002                  C  "
      ]
     },
     "metadata": {},
     "output_type": "display_data"
    },
    {
     "name": "stdout",
     "output_type": "stream",
     "text": [
      "20 candidates remaining\n"
     ]
    },
    {
     "data": {
      "application/vnd.jupyter.widget-view+json": {
       "model_id": "723a8b6c2f20479aab77622df70191e7",
       "version_major": 2,
       "version_minor": 0
      },
      "text/plain": [
       "Box(children=(Aladin(fov=0.025, layout=Layout(width='70%'), options=['allow_full_zoomout', 'coo_frame', 'fov',…"
      ]
     },
     "metadata": {},
     "output_type": "display_data"
    },
    {
     "name": "stderr",
     "output_type": "stream",
     "text": [
      "/home/fforster/anaconda3/lib/python3.8/site-packages/astroquery/simbad/core.py:135: UserWarning: Warning: The script line number 3 raised an error (recorded in the `errors` attribute of the result table): '16:21:45.5444 +55:34:40.2984': No astronomical object found :\n",
      "  warnings.warn(\"Warning: The script line number %i raised \"\n"
     ]
    },
    {
     "data": {
      "text/html": [
       "<div>\n",
       "<style scoped>\n",
       "    .dataframe tbody tr th:only-of-type {\n",
       "        vertical-align: middle;\n",
       "    }\n",
       "\n",
       "    .dataframe tbody tr th {\n",
       "        vertical-align: top;\n",
       "    }\n",
       "\n",
       "    .dataframe thead th {\n",
       "        text-align: right;\n",
       "    }\n",
       "</style>\n",
       "<table border=\"1\" class=\"dataframe\">\n",
       "  <thead>\n",
       "    <tr style=\"text-align: right;\">\n",
       "      <th></th>\n",
       "      <th>host_name</th>\n",
       "      <th>host_ra</th>\n",
       "      <th>host_dec</th>\n",
       "      <th>host_offset</th>\n",
       "      <th>host_offset_bestguess</th>\n",
       "      <th>host_source</th>\n",
       "      <th>host_redshift_spec</th>\n",
       "      <th>host_redshift</th>\n",
       "      <th>host_redshift_error</th>\n",
       "      <th>host_redshift_type</th>\n",
       "    </tr>\n",
       "    <tr>\n",
       "      <th>oid</th>\n",
       "      <th></th>\n",
       "      <th></th>\n",
       "      <th></th>\n",
       "      <th></th>\n",
       "      <th></th>\n",
       "      <th></th>\n",
       "      <th></th>\n",
       "      <th></th>\n",
       "      <th></th>\n",
       "      <th></th>\n",
       "    </tr>\n",
       "  </thead>\n",
       "  <tbody>\n",
       "    <tr>\n",
       "      <th>ZTF22aavcccu</th>\n",
       "      <td>SDSS J162145.52+553440.2</td>\n",
       "      <td>245.43966</td>\n",
       "      <td>55.577858</td>\n",
       "      <td>0.264029</td>\n",
       "      <td>0.220492</td>\n",
       "      <td>SDSSDR16</td>\n",
       "      <td>False</td>\n",
       "      <td>0.300539</td>\n",
       "      <td>0.114951</td>\n",
       "      <td>photoz</td>\n",
       "    </tr>\n",
       "  </tbody>\n",
       "</table>\n",
       "</div>"
      ],
      "text/plain": [
       "                             host_name    host_ra   host_dec host_offset  \\\n",
       "oid                                                                        \n",
       "ZTF22aavcccu  SDSS J162145.52+553440.2  245.43966  55.577858    0.264029   \n",
       "\n",
       "             host_offset_bestguess host_source host_redshift_spec  \\\n",
       "oid                                                                 \n",
       "ZTF22aavcccu              0.220492    SDSSDR16              False   \n",
       "\n",
       "             host_redshift host_redshift_error host_redshift_type  \n",
       "oid                                                                \n",
       "ZTF22aavcccu      0.300539            0.114951             photoz  "
      ]
     },
     "metadata": {},
     "output_type": "display_data"
    },
    {
     "name": "stdout",
     "output_type": "stream",
     "text": [
      "19 candidates remaining\n"
     ]
    },
    {
     "data": {
      "application/vnd.jupyter.widget-view+json": {
       "model_id": "6a867482796a4b3e9cbf103b316ab7c6",
       "version_major": 2,
       "version_minor": 0
      },
      "text/plain": [
       "Box(children=(Aladin(fov=0.025, layout=Layout(width='70%'), options=['allow_full_zoomout', 'coo_frame', 'fov',…"
      ]
     },
     "metadata": {},
     "output_type": "display_data"
    },
    {
     "data": {
      "text/html": [
       "<div>\n",
       "<style scoped>\n",
       "    .dataframe tbody tr th:only-of-type {\n",
       "        vertical-align: middle;\n",
       "    }\n",
       "\n",
       "    .dataframe tbody tr th {\n",
       "        vertical-align: top;\n",
       "    }\n",
       "\n",
       "    .dataframe thead th {\n",
       "        text-align: right;\n",
       "    }\n",
       "</style>\n",
       "<table border=\"1\" class=\"dataframe\">\n",
       "  <thead>\n",
       "    <tr style=\"text-align: right;\">\n",
       "      <th></th>\n",
       "      <th>host_name</th>\n",
       "      <th>host_ra</th>\n",
       "      <th>host_dec</th>\n",
       "      <th>host_offset</th>\n",
       "      <th>host_offset_bestguess</th>\n",
       "      <th>host_source</th>\n",
       "      <th>host_redshift_spec</th>\n",
       "      <th>host_redshift</th>\n",
       "      <th>host_redshift_error</th>\n",
       "      <th>host_redshift_type</th>\n",
       "    </tr>\n",
       "    <tr>\n",
       "      <th>oid</th>\n",
       "      <th></th>\n",
       "      <th></th>\n",
       "      <th></th>\n",
       "      <th></th>\n",
       "      <th></th>\n",
       "      <th></th>\n",
       "      <th></th>\n",
       "      <th></th>\n",
       "      <th></th>\n",
       "      <th></th>\n",
       "    </tr>\n",
       "  </thead>\n",
       "  <tbody>\n",
       "    <tr>\n",
       "      <th>ZTF22aavclih</th>\n",
       "      <td>SDSS J151111.22+182527.5</td>\n",
       "      <td>227.796743</td>\n",
       "      <td>18.424329</td>\n",
       "      <td>1.700477</td>\n",
       "      <td>0.500786</td>\n",
       "      <td>SDSSDR16</td>\n",
       "      <td>True</td>\n",
       "      <td>0.107937</td>\n",
       "      <td>0.000013</td>\n",
       "      <td>specz</td>\n",
       "    </tr>\n",
       "  </tbody>\n",
       "</table>\n",
       "</div>"
      ],
      "text/plain": [
       "                             host_name     host_ra   host_dec host_offset  \\\n",
       "oid                                                                         \n",
       "ZTF22aavclih  SDSS J151111.22+182527.5  227.796743  18.424329    1.700477   \n",
       "\n",
       "             host_offset_bestguess host_source host_redshift_spec  \\\n",
       "oid                                                                 \n",
       "ZTF22aavclih              0.500786    SDSSDR16               True   \n",
       "\n",
       "             host_redshift host_redshift_error host_redshift_type  \n",
       "oid                                                                \n",
       "ZTF22aavclih      0.107937            0.000013              specz  "
      ]
     },
     "metadata": {},
     "output_type": "display_data"
    },
    {
     "name": "stdout",
     "output_type": "stream",
     "text": [
      "18 candidates remaining\n"
     ]
    },
    {
     "data": {
      "application/vnd.jupyter.widget-view+json": {
       "model_id": "abfbfe79dddf41a19189f76423590b04",
       "version_major": 2,
       "version_minor": 0
      },
      "text/plain": [
       "Box(children=(Aladin(fov=0.025, layout=Layout(width='70%'), options=['allow_full_zoomout', 'coo_frame', 'fov',…"
      ]
     },
     "metadata": {},
     "output_type": "display_data"
    },
    {
     "name": "stderr",
     "output_type": "stream",
     "text": [
      "/home/fforster/anaconda3/lib/python3.8/site-packages/astroquery/simbad/core.py:135: UserWarning: Warning: The script line number 3 raised an error (recorded in the `errors` attribute of the result table): '16:07:02.116 +28:50:05.8843': No astronomical object found :\n",
      "  warnings.warn(\"Warning: The script line number %i raised \"\n"
     ]
    },
    {
     "data": {
      "text/html": [
       "<div>\n",
       "<style scoped>\n",
       "    .dataframe tbody tr th:only-of-type {\n",
       "        vertical-align: middle;\n",
       "    }\n",
       "\n",
       "    .dataframe tbody tr th {\n",
       "        vertical-align: top;\n",
       "    }\n",
       "\n",
       "    .dataframe thead th {\n",
       "        text-align: right;\n",
       "    }\n",
       "</style>\n",
       "<table border=\"1\" class=\"dataframe\">\n",
       "  <thead>\n",
       "    <tr style=\"text-align: right;\">\n",
       "      <th></th>\n",
       "      <th>host_name</th>\n",
       "      <th>host_ra</th>\n",
       "      <th>host_dec</th>\n",
       "      <th>host_offset</th>\n",
       "      <th>host_offset_bestguess</th>\n",
       "      <th>host_source</th>\n",
       "      <th>host_redshift_spec</th>\n",
       "      <th>host_redshift</th>\n",
       "      <th>host_redshift_error</th>\n",
       "      <th>host_redshift_type</th>\n",
       "    </tr>\n",
       "    <tr>\n",
       "      <th>oid</th>\n",
       "      <th></th>\n",
       "      <th></th>\n",
       "      <th></th>\n",
       "      <th></th>\n",
       "      <th></th>\n",
       "      <th></th>\n",
       "      <th></th>\n",
       "      <th></th>\n",
       "      <th></th>\n",
       "      <th></th>\n",
       "    </tr>\n",
       "  </thead>\n",
       "  <tbody>\n",
       "    <tr>\n",
       "      <th>ZTF22aavcrgy</th>\n",
       "      <td>SDSS J160702.13+285005.3</td>\n",
       "      <td>241.758894</td>\n",
       "      <td>28.834805</td>\n",
       "      <td>3.058275</td>\n",
       "      <td>0.636012</td>\n",
       "      <td>SDSSDR16</td>\n",
       "      <td>False</td>\n",
       "      <td>0.195771</td>\n",
       "      <td>0.037661</td>\n",
       "      <td>photoz</td>\n",
       "    </tr>\n",
       "  </tbody>\n",
       "</table>\n",
       "</div>"
      ],
      "text/plain": [
       "                             host_name     host_ra   host_dec host_offset  \\\n",
       "oid                                                                         \n",
       "ZTF22aavcrgy  SDSS J160702.13+285005.3  241.758894  28.834805    3.058275   \n",
       "\n",
       "             host_offset_bestguess host_source host_redshift_spec  \\\n",
       "oid                                                                 \n",
       "ZTF22aavcrgy              0.636012    SDSSDR16              False   \n",
       "\n",
       "             host_redshift host_redshift_error host_redshift_type  \n",
       "oid                                                                \n",
       "ZTF22aavcrgy      0.195771            0.037661             photoz  "
      ]
     },
     "metadata": {},
     "output_type": "display_data"
    },
    {
     "name": "stdout",
     "output_type": "stream",
     "text": [
      "17 candidates remaining\n"
     ]
    },
    {
     "data": {
      "application/vnd.jupyter.widget-view+json": {
       "model_id": "1f435b717cae4de18ef56c13f189d376",
       "version_major": 2,
       "version_minor": 0
      },
      "text/plain": [
       "Box(children=(Aladin(fov=0.025, layout=Layout(width='70%'), options=['allow_full_zoomout', 'coo_frame', 'fov',…"
      ]
     },
     "metadata": {},
     "output_type": "display_data"
    },
    {
     "name": "stderr",
     "output_type": "stream",
     "text": [
      "/home/fforster/anaconda3/lib/python3.8/site-packages/astroquery/simbad/core.py:135: UserWarning: Warning: The script line number 3 raised an error (recorded in the `errors` attribute of the result table): '18:08:17.9652 +57:08:28.9894': No astronomical object found :\n",
      "  warnings.warn(\"Warning: The script line number %i raised \"\n"
     ]
    },
    {
     "data": {
      "text/html": [
       "<div>\n",
       "<style scoped>\n",
       "    .dataframe tbody tr th:only-of-type {\n",
       "        vertical-align: middle;\n",
       "    }\n",
       "\n",
       "    .dataframe tbody tr th {\n",
       "        vertical-align: top;\n",
       "    }\n",
       "\n",
       "    .dataframe thead th {\n",
       "        text-align: right;\n",
       "    }\n",
       "</style>\n",
       "<table border=\"1\" class=\"dataframe\">\n",
       "  <thead>\n",
       "    <tr style=\"text-align: right;\">\n",
       "      <th></th>\n",
       "      <th>host_name</th>\n",
       "      <th>host_ra</th>\n",
       "      <th>host_dec</th>\n",
       "      <th>host_offset</th>\n",
       "      <th>host_offset_bestguess</th>\n",
       "      <th>host_source</th>\n",
       "      <th>host_redshift_spec</th>\n",
       "      <th>host_redshift</th>\n",
       "      <th>host_redshift_error</th>\n",
       "      <th>host_redshift_type</th>\n",
       "    </tr>\n",
       "    <tr>\n",
       "      <th>oid</th>\n",
       "      <th></th>\n",
       "      <th></th>\n",
       "      <th></th>\n",
       "      <th></th>\n",
       "      <th></th>\n",
       "      <th></th>\n",
       "      <th></th>\n",
       "      <th></th>\n",
       "      <th></th>\n",
       "      <th></th>\n",
       "    </tr>\n",
       "  </thead>\n",
       "  <tbody>\n",
       "    <tr>\n",
       "      <th>ZTF22aavcvtr</th>\n",
       "      <td>WISEA J180817.99+570827.7</td>\n",
       "      <td>272.07497</td>\n",
       "      <td>57.14105</td>\n",
       "      <td>3.688715</td>\n",
       "      <td>1.230132</td>\n",
       "      <td>NED</td>\n",
       "      <td>False</td>\n",
       "      <td>NaN</td>\n",
       "      <td>NaN</td>\n",
       "      <td>NaN</td>\n",
       "    </tr>\n",
       "  </tbody>\n",
       "</table>\n",
       "</div>"
      ],
      "text/plain": [
       "                              host_name    host_ra  host_dec host_offset  \\\n",
       "oid                                                                        \n",
       "ZTF22aavcvtr  WISEA J180817.99+570827.7  272.07497  57.14105    3.688715   \n",
       "\n",
       "             host_offset_bestguess host_source host_redshift_spec  \\\n",
       "oid                                                                 \n",
       "ZTF22aavcvtr              1.230132         NED              False   \n",
       "\n",
       "             host_redshift host_redshift_error host_redshift_type  \n",
       "oid                                                                \n",
       "ZTF22aavcvtr           NaN                 NaN                NaN  "
      ]
     },
     "metadata": {},
     "output_type": "display_data"
    },
    {
     "name": "stdout",
     "output_type": "stream",
     "text": [
      "16 candidates remaining\n"
     ]
    },
    {
     "data": {
      "application/vnd.jupyter.widget-view+json": {
       "model_id": "6325c3773d534ec4850f0aede422bee7",
       "version_major": 2,
       "version_minor": 0
      },
      "text/plain": [
       "Box(children=(Aladin(fov=0.025, layout=Layout(width='70%'), options=['allow_full_zoomout', 'coo_frame', 'fov',…"
      ]
     },
     "metadata": {},
     "output_type": "display_data"
    },
    {
     "name": "stderr",
     "output_type": "stream",
     "text": [
      "/home/fforster/anaconda3/lib/python3.8/site-packages/astroquery/simbad/core.py:135: UserWarning: Warning: The script line number 3 raised an error (recorded in the `errors` attribute of the result table): '16:44:01.2826 +50:29:25.1353': No astronomical object found :\n",
      "  warnings.warn(\"Warning: The script line number %i raised \"\n"
     ]
    },
    {
     "data": {
      "text/html": [
       "<div>\n",
       "<style scoped>\n",
       "    .dataframe tbody tr th:only-of-type {\n",
       "        vertical-align: middle;\n",
       "    }\n",
       "\n",
       "    .dataframe tbody tr th {\n",
       "        vertical-align: top;\n",
       "    }\n",
       "\n",
       "    .dataframe thead th {\n",
       "        text-align: right;\n",
       "    }\n",
       "</style>\n",
       "<table border=\"1\" class=\"dataframe\">\n",
       "  <thead>\n",
       "    <tr style=\"text-align: right;\">\n",
       "      <th></th>\n",
       "      <th>host_name</th>\n",
       "      <th>host_ra</th>\n",
       "      <th>host_dec</th>\n",
       "      <th>host_offset</th>\n",
       "      <th>host_offset_bestguess</th>\n",
       "      <th>host_source</th>\n",
       "      <th>host_redshift_spec</th>\n",
       "      <th>host_redshift</th>\n",
       "      <th>host_redshift_error</th>\n",
       "      <th>host_redshift_type</th>\n",
       "    </tr>\n",
       "    <tr>\n",
       "      <th>oid</th>\n",
       "      <th></th>\n",
       "      <th></th>\n",
       "      <th></th>\n",
       "      <th></th>\n",
       "      <th></th>\n",
       "      <th></th>\n",
       "      <th></th>\n",
       "      <th></th>\n",
       "      <th></th>\n",
       "      <th></th>\n",
       "    </tr>\n",
       "  </thead>\n",
       "  <tbody>\n",
       "    <tr>\n",
       "      <th>ZTF22aavcyir</th>\n",
       "      <td>SDSS J164401.31+502924.7</td>\n",
       "      <td>251.005461</td>\n",
       "      <td>50.490205</td>\n",
       "      <td>1.436175</td>\n",
       "      <td>0.477623</td>\n",
       "      <td>SDSSDR16</td>\n",
       "      <td>False</td>\n",
       "      <td>0.105624</td>\n",
       "      <td>0.034998</td>\n",
       "      <td>photoz</td>\n",
       "    </tr>\n",
       "  </tbody>\n",
       "</table>\n",
       "</div>"
      ],
      "text/plain": [
       "                             host_name     host_ra   host_dec host_offset  \\\n",
       "oid                                                                         \n",
       "ZTF22aavcyir  SDSS J164401.31+502924.7  251.005461  50.490205    1.436175   \n",
       "\n",
       "             host_offset_bestguess host_source host_redshift_spec  \\\n",
       "oid                                                                 \n",
       "ZTF22aavcyir              0.477623    SDSSDR16              False   \n",
       "\n",
       "             host_redshift host_redshift_error host_redshift_type  \n",
       "oid                                                                \n",
       "ZTF22aavcyir      0.105624            0.034998             photoz  "
      ]
     },
     "metadata": {},
     "output_type": "display_data"
    },
    {
     "name": "stdout",
     "output_type": "stream",
     "text": [
      "15 candidates remaining\n"
     ]
    },
    {
     "data": {
      "application/vnd.jupyter.widget-view+json": {
       "model_id": "f63e2e848f1e47348df4f08619f87236",
       "version_major": 2,
       "version_minor": 0
      },
      "text/plain": [
       "Box(children=(Aladin(fov=0.025, layout=Layout(width='70%'), options=['allow_full_zoomout', 'coo_frame', 'fov',…"
      ]
     },
     "metadata": {},
     "output_type": "display_data"
    },
    {
     "name": "stderr",
     "output_type": "stream",
     "text": [
      "/home/fforster/anaconda3/lib/python3.8/site-packages/astroquery/simbad/core.py:135: UserWarning: Warning: The script line number 3 raised an error (recorded in the `errors` attribute of the result table): '16:47:06.7478 +30:50:51.9226': No astronomical object found :\n",
      "  warnings.warn(\"Warning: The script line number %i raised \"\n"
     ]
    },
    {
     "data": {
      "text/html": [
       "<div>\n",
       "<style scoped>\n",
       "    .dataframe tbody tr th:only-of-type {\n",
       "        vertical-align: middle;\n",
       "    }\n",
       "\n",
       "    .dataframe tbody tr th {\n",
       "        vertical-align: top;\n",
       "    }\n",
       "\n",
       "    .dataframe thead th {\n",
       "        text-align: right;\n",
       "    }\n",
       "</style>\n",
       "<table border=\"1\" class=\"dataframe\">\n",
       "  <thead>\n",
       "    <tr style=\"text-align: right;\">\n",
       "      <th></th>\n",
       "      <th>host_name</th>\n",
       "      <th>host_ra</th>\n",
       "      <th>host_dec</th>\n",
       "      <th>host_offset</th>\n",
       "      <th>host_offset_bestguess</th>\n",
       "      <th>host_source</th>\n",
       "      <th>host_redshift_spec</th>\n",
       "      <th>host_redshift</th>\n",
       "      <th>host_redshift_error</th>\n",
       "      <th>host_redshift_type</th>\n",
       "    </tr>\n",
       "    <tr>\n",
       "      <th>oid</th>\n",
       "      <th></th>\n",
       "      <th></th>\n",
       "      <th></th>\n",
       "      <th></th>\n",
       "      <th></th>\n",
       "      <th></th>\n",
       "      <th></th>\n",
       "      <th></th>\n",
       "      <th></th>\n",
       "      <th></th>\n",
       "    </tr>\n",
       "  </thead>\n",
       "  <tbody>\n",
       "    <tr>\n",
       "      <th>ZTF22aavczfb</th>\n",
       "      <td>SDSS J164706.81+305051.3</td>\n",
       "      <td>251.778364</td>\n",
       "      <td>30.847599</td>\n",
       "      <td>1.425135</td>\n",
       "      <td>0.953185</td>\n",
       "      <td>SDSSDR16</td>\n",
       "      <td>False</td>\n",
       "      <td>0.193229</td>\n",
       "      <td>0.095575</td>\n",
       "      <td>photoz</td>\n",
       "    </tr>\n",
       "  </tbody>\n",
       "</table>\n",
       "</div>"
      ],
      "text/plain": [
       "                             host_name     host_ra   host_dec host_offset  \\\n",
       "oid                                                                         \n",
       "ZTF22aavczfb  SDSS J164706.81+305051.3  251.778364  30.847599    1.425135   \n",
       "\n",
       "             host_offset_bestguess host_source host_redshift_spec  \\\n",
       "oid                                                                 \n",
       "ZTF22aavczfb              0.953185    SDSSDR16              False   \n",
       "\n",
       "             host_redshift host_redshift_error host_redshift_type  \n",
       "oid                                                                \n",
       "ZTF22aavczfb      0.193229            0.095575             photoz  "
      ]
     },
     "metadata": {},
     "output_type": "display_data"
    },
    {
     "name": "stdout",
     "output_type": "stream",
     "text": [
      "14 candidates remaining\n"
     ]
    },
    {
     "data": {
      "application/vnd.jupyter.widget-view+json": {
       "model_id": "cb8ae82590894b6bb5ddd0a508e39977",
       "version_major": 2,
       "version_minor": 0
      },
      "text/plain": [
       "Box(children=(Aladin(fov=0.025, layout=Layout(width='70%'), options=['allow_full_zoomout', 'coo_frame', 'fov',…"
      ]
     },
     "metadata": {},
     "output_type": "display_data"
    },
    {
     "name": "stderr",
     "output_type": "stream",
     "text": [
      "/home/fforster/anaconda3/lib/python3.8/site-packages/astroquery/simbad/core.py:135: UserWarning: Warning: The script line number 3 raised an error (recorded in the `errors` attribute of the result table): '16:28:35.0812 +15:49:22.6925': No astronomical object found :\n",
      "  warnings.warn(\"Warning: The script line number %i raised \"\n"
     ]
    },
    {
     "data": {
      "text/html": [
       "<div>\n",
       "<style scoped>\n",
       "    .dataframe tbody tr th:only-of-type {\n",
       "        vertical-align: middle;\n",
       "    }\n",
       "\n",
       "    .dataframe tbody tr th {\n",
       "        vertical-align: top;\n",
       "    }\n",
       "\n",
       "    .dataframe thead th {\n",
       "        text-align: right;\n",
       "    }\n",
       "</style>\n",
       "<table border=\"1\" class=\"dataframe\">\n",
       "  <thead>\n",
       "    <tr style=\"text-align: right;\">\n",
       "      <th></th>\n",
       "      <th>host_name</th>\n",
       "      <th>host_ra</th>\n",
       "      <th>host_dec</th>\n",
       "      <th>host_offset</th>\n",
       "      <th>host_offset_bestguess</th>\n",
       "      <th>host_source</th>\n",
       "      <th>host_redshift_spec</th>\n",
       "      <th>host_redshift</th>\n",
       "      <th>host_redshift_error</th>\n",
       "      <th>host_redshift_type</th>\n",
       "    </tr>\n",
       "    <tr>\n",
       "      <th>oid</th>\n",
       "      <th></th>\n",
       "      <th></th>\n",
       "      <th></th>\n",
       "      <th></th>\n",
       "      <th></th>\n",
       "      <th></th>\n",
       "      <th></th>\n",
       "      <th></th>\n",
       "      <th></th>\n",
       "      <th></th>\n",
       "    </tr>\n",
       "  </thead>\n",
       "  <tbody>\n",
       "    <tr>\n",
       "      <th>ZTF22aavdcsu</th>\n",
       "      <td>SDSS J162835.11+154922.4</td>\n",
       "      <td>247.146282</td>\n",
       "      <td>15.822892</td>\n",
       "      <td>0.59715</td>\n",
       "      <td>0.475054</td>\n",
       "      <td>SDSSDR16</td>\n",
       "      <td>False</td>\n",
       "      <td>0.127936</td>\n",
       "      <td>0.043671</td>\n",
       "      <td>photoz</td>\n",
       "    </tr>\n",
       "  </tbody>\n",
       "</table>\n",
       "</div>"
      ],
      "text/plain": [
       "                             host_name     host_ra   host_dec host_offset  \\\n",
       "oid                                                                         \n",
       "ZTF22aavdcsu  SDSS J162835.11+154922.4  247.146282  15.822892     0.59715   \n",
       "\n",
       "             host_offset_bestguess host_source host_redshift_spec  \\\n",
       "oid                                                                 \n",
       "ZTF22aavdcsu              0.475054    SDSSDR16              False   \n",
       "\n",
       "             host_redshift host_redshift_error host_redshift_type  \n",
       "oid                                                                \n",
       "ZTF22aavdcsu      0.127936            0.043671             photoz  "
      ]
     },
     "metadata": {},
     "output_type": "display_data"
    },
    {
     "name": "stdout",
     "output_type": "stream",
     "text": [
      "13 candidates remaining\n"
     ]
    },
    {
     "data": {
      "application/vnd.jupyter.widget-view+json": {
       "model_id": "d009ace4c5024840860bd37dd0927219",
       "version_major": 2,
       "version_minor": 0
      },
      "text/plain": [
       "Box(children=(Aladin(fov=0.025, layout=Layout(width='70%'), options=['allow_full_zoomout', 'coo_frame', 'fov',…"
      ]
     },
     "metadata": {},
     "output_type": "display_data"
    },
    {
     "name": "stderr",
     "output_type": "stream",
     "text": [
      "/home/fforster/anaconda3/lib/python3.8/site-packages/astroquery/simbad/core.py:135: UserWarning: Warning: The script line number 3 raised an error (recorded in the `errors` attribute of the result table): '20:27:18.0186 -8:25:13.362': No astronomical object found :\n",
      "  warnings.warn(\"Warning: The script line number %i raised \"\n"
     ]
    },
    {
     "data": {
      "text/html": [
       "<div>\n",
       "<style scoped>\n",
       "    .dataframe tbody tr th:only-of-type {\n",
       "        vertical-align: middle;\n",
       "    }\n",
       "\n",
       "    .dataframe tbody tr th {\n",
       "        vertical-align: top;\n",
       "    }\n",
       "\n",
       "    .dataframe thead th {\n",
       "        text-align: right;\n",
       "    }\n",
       "</style>\n",
       "<table border=\"1\" class=\"dataframe\">\n",
       "  <thead>\n",
       "    <tr style=\"text-align: right;\">\n",
       "      <th></th>\n",
       "      <th>host_name</th>\n",
       "      <th>host_ra</th>\n",
       "      <th>host_dec</th>\n",
       "      <th>host_offset</th>\n",
       "      <th>host_offset_bestguess</th>\n",
       "      <th>host_source</th>\n",
       "      <th>host_redshift_spec</th>\n",
       "      <th>host_redshift</th>\n",
       "      <th>host_redshift_error</th>\n",
       "      <th>host_redshift_type</th>\n",
       "    </tr>\n",
       "    <tr>\n",
       "      <th>oid</th>\n",
       "      <th></th>\n",
       "      <th></th>\n",
       "      <th></th>\n",
       "      <th></th>\n",
       "      <th></th>\n",
       "      <th></th>\n",
       "      <th></th>\n",
       "      <th></th>\n",
       "      <th></th>\n",
       "      <th></th>\n",
       "    </tr>\n",
       "  </thead>\n",
       "  <tbody>\n",
       "    <tr>\n",
       "      <th>ZTF22aavdrbx</th>\n",
       "      <td>WISEA J202718.04-082513.2</td>\n",
       "      <td>306.82517</td>\n",
       "      <td>-8.42031</td>\n",
       "      <td>6.556706</td>\n",
       "      <td>0.41135</td>\n",
       "      <td>NED</td>\n",
       "      <td>False</td>\n",
       "      <td>0.136686</td>\n",
       "      <td>NaN</td>\n",
       "      <td>PHOT</td>\n",
       "    </tr>\n",
       "  </tbody>\n",
       "</table>\n",
       "</div>"
      ],
      "text/plain": [
       "                              host_name    host_ra host_dec host_offset  \\\n",
       "oid                                                                       \n",
       "ZTF22aavdrbx  WISEA J202718.04-082513.2  306.82517 -8.42031    6.556706   \n",
       "\n",
       "             host_offset_bestguess host_source host_redshift_spec  \\\n",
       "oid                                                                 \n",
       "ZTF22aavdrbx               0.41135         NED              False   \n",
       "\n",
       "             host_redshift host_redshift_error host_redshift_type  \n",
       "oid                                                                \n",
       "ZTF22aavdrbx      0.136686                 NaN               PHOT  "
      ]
     },
     "metadata": {},
     "output_type": "display_data"
    },
    {
     "name": "stdout",
     "output_type": "stream",
     "text": [
      "12 candidates remaining\n"
     ]
    },
    {
     "data": {
      "application/vnd.jupyter.widget-view+json": {
       "model_id": "da25d118efc74e9c8707d5c930de5a32",
       "version_major": 2,
       "version_minor": 0
      },
      "text/plain": [
       "Box(children=(Aladin(fov=0.025, layout=Layout(width='70%'), options=['allow_full_zoomout', 'coo_frame', 'fov',…"
      ]
     },
     "metadata": {},
     "output_type": "display_data"
    },
    {
     "name": "stderr",
     "output_type": "stream",
     "text": [
      "/home/fforster/anaconda3/lib/python3.8/site-packages/astroquery/simbad/core.py:135: UserWarning: Warning: The script line number 3 raised an error (recorded in the `errors` attribute of the result table): '20:37:54.2135 -9:05:02.8024': No astronomical object found :\n",
      "  warnings.warn(\"Warning: The script line number %i raised \"\n"
     ]
    },
    {
     "data": {
      "text/html": [
       "<div>\n",
       "<style scoped>\n",
       "    .dataframe tbody tr th:only-of-type {\n",
       "        vertical-align: middle;\n",
       "    }\n",
       "\n",
       "    .dataframe tbody tr th {\n",
       "        vertical-align: top;\n",
       "    }\n",
       "\n",
       "    .dataframe thead th {\n",
       "        text-align: right;\n",
       "    }\n",
       "</style>\n",
       "<table border=\"1\" class=\"dataframe\">\n",
       "  <thead>\n",
       "    <tr style=\"text-align: right;\">\n",
       "      <th></th>\n",
       "      <th>host_name</th>\n",
       "      <th>host_ra</th>\n",
       "      <th>host_dec</th>\n",
       "      <th>host_offset</th>\n",
       "      <th>host_offset_bestguess</th>\n",
       "      <th>host_source</th>\n",
       "      <th>host_redshift_spec</th>\n",
       "      <th>host_redshift</th>\n",
       "      <th>host_redshift_error</th>\n",
       "      <th>host_redshift_type</th>\n",
       "    </tr>\n",
       "    <tr>\n",
       "      <th>oid</th>\n",
       "      <th></th>\n",
       "      <th></th>\n",
       "      <th></th>\n",
       "      <th></th>\n",
       "      <th></th>\n",
       "      <th></th>\n",
       "      <th></th>\n",
       "      <th></th>\n",
       "      <th></th>\n",
       "      <th></th>\n",
       "    </tr>\n",
       "  </thead>\n",
       "  <tbody>\n",
       "    <tr>\n",
       "      <th>ZTF22aavdrdz</th>\n",
       "      <td>WISEA J203754.23-090502.9</td>\n",
       "      <td>309.47595</td>\n",
       "      <td>-9.08417</td>\n",
       "      <td>1.857342</td>\n",
       "      <td>0.2996</td>\n",
       "      <td>NED</td>\n",
       "      <td>False</td>\n",
       "      <td>NaN</td>\n",
       "      <td>NaN</td>\n",
       "      <td>NaN</td>\n",
       "    </tr>\n",
       "  </tbody>\n",
       "</table>\n",
       "</div>"
      ],
      "text/plain": [
       "                              host_name    host_ra host_dec host_offset  \\\n",
       "oid                                                                       \n",
       "ZTF22aavdrdz  WISEA J203754.23-090502.9  309.47595 -9.08417    1.857342   \n",
       "\n",
       "             host_offset_bestguess host_source host_redshift_spec  \\\n",
       "oid                                                                 \n",
       "ZTF22aavdrdz                0.2996         NED              False   \n",
       "\n",
       "             host_redshift host_redshift_error host_redshift_type  \n",
       "oid                                                                \n",
       "ZTF22aavdrdz           NaN                 NaN                NaN  "
      ]
     },
     "metadata": {},
     "output_type": "display_data"
    },
    {
     "name": "stdout",
     "output_type": "stream",
     "text": [
      "11 candidates remaining\n"
     ]
    },
    {
     "data": {
      "application/vnd.jupyter.widget-view+json": {
       "model_id": "619c7b7feaf24d69a791f53d47fa4b74",
       "version_major": 2,
       "version_minor": 0
      },
      "text/plain": [
       "Box(children=(Aladin(fov=0.025, layout=Layout(width='70%'), options=['allow_full_zoomout', 'coo_frame', 'fov',…"
      ]
     },
     "metadata": {},
     "output_type": "display_data"
    },
    {
     "name": "stderr",
     "output_type": "stream",
     "text": [
      "/home/fforster/anaconda3/lib/python3.8/site-packages/astroquery/simbad/core.py:135: UserWarning: Warning: The script line number 3 raised an error (recorded in the `errors` attribute of the result table): '20:01:34.4415 -27:21:20.294': No astronomical object found :\n",
      "  warnings.warn(\"Warning: The script line number %i raised \"\n"
     ]
    },
    {
     "data": {
      "text/html": [
       "<div>\n",
       "<style scoped>\n",
       "    .dataframe tbody tr th:only-of-type {\n",
       "        vertical-align: middle;\n",
       "    }\n",
       "\n",
       "    .dataframe tbody tr th {\n",
       "        vertical-align: top;\n",
       "    }\n",
       "\n",
       "    .dataframe thead th {\n",
       "        text-align: right;\n",
       "    }\n",
       "</style>\n",
       "<table border=\"1\" class=\"dataframe\">\n",
       "  <thead>\n",
       "    <tr style=\"text-align: right;\">\n",
       "      <th></th>\n",
       "      <th>host_name</th>\n",
       "      <th>host_ra</th>\n",
       "      <th>host_dec</th>\n",
       "      <th>host_offset</th>\n",
       "      <th>host_offset_bestguess</th>\n",
       "      <th>host_source</th>\n",
       "      <th>host_redshift_spec</th>\n",
       "      <th>host_redshift</th>\n",
       "      <th>host_redshift_error</th>\n",
       "      <th>host_redshift_type</th>\n",
       "    </tr>\n",
       "    <tr>\n",
       "      <th>oid</th>\n",
       "      <th></th>\n",
       "      <th></th>\n",
       "      <th></th>\n",
       "      <th></th>\n",
       "      <th></th>\n",
       "      <th></th>\n",
       "      <th></th>\n",
       "      <th></th>\n",
       "      <th></th>\n",
       "      <th></th>\n",
       "    </tr>\n",
       "  </thead>\n",
       "  <tbody>\n",
       "    <tr>\n",
       "      <th>ZTF22aavdscs</th>\n",
       "      <td>WISEA J200134.36-272122.0</td>\n",
       "      <td>300.39323</td>\n",
       "      <td>-27.35598</td>\n",
       "      <td>6.352681</td>\n",
       "      <td>1.517278</td>\n",
       "      <td>NED</td>\n",
       "      <td>False</td>\n",
       "      <td>NaN</td>\n",
       "      <td>NaN</td>\n",
       "      <td>NaN</td>\n",
       "    </tr>\n",
       "  </tbody>\n",
       "</table>\n",
       "</div>"
      ],
      "text/plain": [
       "                              host_name    host_ra  host_dec host_offset  \\\n",
       "oid                                                                        \n",
       "ZTF22aavdscs  WISEA J200134.36-272122.0  300.39323 -27.35598    6.352681   \n",
       "\n",
       "             host_offset_bestguess host_source host_redshift_spec  \\\n",
       "oid                                                                 \n",
       "ZTF22aavdscs              1.517278         NED              False   \n",
       "\n",
       "             host_redshift host_redshift_error host_redshift_type  \n",
       "oid                                                                \n",
       "ZTF22aavdscs           NaN                 NaN                NaN  "
      ]
     },
     "metadata": {},
     "output_type": "display_data"
    },
    {
     "name": "stdout",
     "output_type": "stream",
     "text": [
      "10 candidates remaining\n"
     ]
    },
    {
     "data": {
      "application/vnd.jupyter.widget-view+json": {
       "model_id": "8a268829d1ff467aa175d409f2323743",
       "version_major": 2,
       "version_minor": 0
      },
      "text/plain": [
       "Box(children=(Aladin(fov=0.025, layout=Layout(width='70%'), options=['allow_full_zoomout', 'coo_frame', 'fov',…"
      ]
     },
     "metadata": {},
     "output_type": "display_data"
    },
    {
     "name": "stderr",
     "output_type": "stream",
     "text": [
      "/home/fforster/anaconda3/lib/python3.8/site-packages/astroquery/simbad/core.py:135: UserWarning: Warning: The script line number 3 raised an error (recorded in the `errors` attribute of the result table): '22:35:04.0189 -13:26:10.6184': No astronomical object found :\n",
      "  warnings.warn(\"Warning: The script line number %i raised \"\n"
     ]
    },
    {
     "data": {
      "text/html": [
       "<div>\n",
       "<style scoped>\n",
       "    .dataframe tbody tr th:only-of-type {\n",
       "        vertical-align: middle;\n",
       "    }\n",
       "\n",
       "    .dataframe tbody tr th {\n",
       "        vertical-align: top;\n",
       "    }\n",
       "\n",
       "    .dataframe thead th {\n",
       "        text-align: right;\n",
       "    }\n",
       "</style>\n",
       "<table border=\"1\" class=\"dataframe\">\n",
       "  <thead>\n",
       "    <tr style=\"text-align: right;\">\n",
       "      <th></th>\n",
       "      <th>host_name</th>\n",
       "      <th>host_ra</th>\n",
       "      <th>host_dec</th>\n",
       "      <th>host_offset</th>\n",
       "      <th>host_offset_bestguess</th>\n",
       "      <th>host_source</th>\n",
       "      <th>host_redshift_spec</th>\n",
       "      <th>host_redshift</th>\n",
       "      <th>host_redshift_error</th>\n",
       "      <th>host_redshift_type</th>\n",
       "    </tr>\n",
       "    <tr>\n",
       "      <th>oid</th>\n",
       "      <th></th>\n",
       "      <th></th>\n",
       "      <th></th>\n",
       "      <th></th>\n",
       "      <th></th>\n",
       "      <th></th>\n",
       "      <th></th>\n",
       "      <th></th>\n",
       "      <th></th>\n",
       "      <th></th>\n",
       "    </tr>\n",
       "  </thead>\n",
       "  <tbody>\n",
       "    <tr>\n",
       "      <th>ZTF22aavdubl</th>\n",
       "      <td>WISEA J223504.05-132610.8</td>\n",
       "      <td>338.76688</td>\n",
       "      <td>-13.43634</td>\n",
       "      <td>0.826059</td>\n",
       "      <td>0.513955</td>\n",
       "      <td>NED</td>\n",
       "      <td>False</td>\n",
       "      <td>NaN</td>\n",
       "      <td>NaN</td>\n",
       "      <td>NaN</td>\n",
       "    </tr>\n",
       "  </tbody>\n",
       "</table>\n",
       "</div>"
      ],
      "text/plain": [
       "                              host_name    host_ra  host_dec host_offset  \\\n",
       "oid                                                                        \n",
       "ZTF22aavdubl  WISEA J223504.05-132610.8  338.76688 -13.43634    0.826059   \n",
       "\n",
       "             host_offset_bestguess host_source host_redshift_spec  \\\n",
       "oid                                                                 \n",
       "ZTF22aavdubl              0.513955         NED              False   \n",
       "\n",
       "             host_redshift host_redshift_error host_redshift_type  \n",
       "oid                                                                \n",
       "ZTF22aavdubl           NaN                 NaN                NaN  "
      ]
     },
     "metadata": {},
     "output_type": "display_data"
    },
    {
     "name": "stdout",
     "output_type": "stream",
     "text": [
      "9 candidates remaining\n"
     ]
    },
    {
     "data": {
      "application/vnd.jupyter.widget-view+json": {
       "model_id": "9054c6cef619472db1eadec8ad562d40",
       "version_major": 2,
       "version_minor": 0
      },
      "text/plain": [
       "Box(children=(Aladin(fov=0.025, layout=Layout(width='70%'), options=['allow_full_zoomout', 'coo_frame', 'fov',…"
      ]
     },
     "metadata": {},
     "output_type": "display_data"
    },
    {
     "name": "stderr",
     "output_type": "stream",
     "text": [
      "/home/fforster/anaconda3/lib/python3.8/site-packages/astroquery/simbad/core.py:135: UserWarning: Warning: The script line number 3 raised an error (recorded in the `errors` attribute of the result table): '22:46:33.9807 +39:45:57.8393': No astronomical object found :\n",
      "  warnings.warn(\"Warning: The script line number %i raised \"\n"
     ]
    },
    {
     "data": {
      "text/html": [
       "<div>\n",
       "<style scoped>\n",
       "    .dataframe tbody tr th:only-of-type {\n",
       "        vertical-align: middle;\n",
       "    }\n",
       "\n",
       "    .dataframe tbody tr th {\n",
       "        vertical-align: top;\n",
       "    }\n",
       "\n",
       "    .dataframe thead th {\n",
       "        text-align: right;\n",
       "    }\n",
       "</style>\n",
       "<table border=\"1\" class=\"dataframe\">\n",
       "  <thead>\n",
       "    <tr style=\"text-align: right;\">\n",
       "      <th></th>\n",
       "      <th>host_name</th>\n",
       "      <th>host_ra</th>\n",
       "      <th>host_dec</th>\n",
       "      <th>host_offset</th>\n",
       "      <th>host_offset_bestguess</th>\n",
       "      <th>host_source</th>\n",
       "      <th>host_redshift_spec</th>\n",
       "      <th>host_redshift</th>\n",
       "      <th>host_redshift_error</th>\n",
       "      <th>host_redshift_type</th>\n",
       "    </tr>\n",
       "    <tr>\n",
       "      <th>oid</th>\n",
       "      <th></th>\n",
       "      <th></th>\n",
       "      <th></th>\n",
       "      <th></th>\n",
       "      <th></th>\n",
       "      <th></th>\n",
       "      <th></th>\n",
       "      <th></th>\n",
       "      <th></th>\n",
       "      <th></th>\n",
       "    </tr>\n",
       "  </thead>\n",
       "  <tbody>\n",
       "    <tr>\n",
       "      <th>ZTF22aavdzpf</th>\n",
       "      <td>WISEA J224634.04+394557.4</td>\n",
       "      <td>341.64188</td>\n",
       "      <td>39.76654</td>\n",
       "      <td>9.747363</td>\n",
       "      <td>1.888651</td>\n",
       "      <td>NED</td>\n",
       "      <td>False</td>\n",
       "      <td>NaN</td>\n",
       "      <td>NaN</td>\n",
       "      <td>NaN</td>\n",
       "    </tr>\n",
       "  </tbody>\n",
       "</table>\n",
       "</div>"
      ],
      "text/plain": [
       "                              host_name    host_ra  host_dec host_offset  \\\n",
       "oid                                                                        \n",
       "ZTF22aavdzpf  WISEA J224634.04+394557.4  341.64188  39.76654    9.747363   \n",
       "\n",
       "             host_offset_bestguess host_source host_redshift_spec  \\\n",
       "oid                                                                 \n",
       "ZTF22aavdzpf              1.888651         NED              False   \n",
       "\n",
       "             host_redshift host_redshift_error host_redshift_type  \n",
       "oid                                                                \n",
       "ZTF22aavdzpf           NaN                 NaN                NaN  "
      ]
     },
     "metadata": {},
     "output_type": "display_data"
    },
    {
     "name": "stdout",
     "output_type": "stream",
     "text": [
      "8 candidates remaining\n"
     ]
    },
    {
     "data": {
      "application/vnd.jupyter.widget-view+json": {
       "model_id": "c0a6059c00274caa91da48249c4f0e5e",
       "version_major": 2,
       "version_minor": 0
      },
      "text/plain": [
       "Box(children=(Aladin(fov=0.025, layout=Layout(width='70%'), options=['allow_full_zoomout', 'coo_frame', 'fov',…"
      ]
     },
     "metadata": {},
     "output_type": "display_data"
    },
    {
     "data": {
      "text/html": [
       "<div>\n",
       "<style scoped>\n",
       "    .dataframe tbody tr th:only-of-type {\n",
       "        vertical-align: middle;\n",
       "    }\n",
       "\n",
       "    .dataframe tbody tr th {\n",
       "        vertical-align: top;\n",
       "    }\n",
       "\n",
       "    .dataframe thead th {\n",
       "        text-align: right;\n",
       "    }\n",
       "</style>\n",
       "<table border=\"1\" class=\"dataframe\">\n",
       "  <thead>\n",
       "    <tr style=\"text-align: right;\">\n",
       "      <th></th>\n",
       "      <th>host_name</th>\n",
       "      <th>host_ra</th>\n",
       "      <th>host_dec</th>\n",
       "      <th>host_offset</th>\n",
       "      <th>host_offset_bestguess</th>\n",
       "      <th>host_source</th>\n",
       "      <th>host_redshift_spec</th>\n",
       "      <th>host_redshift</th>\n",
       "      <th>host_redshift_error</th>\n",
       "      <th>host_redshift_type</th>\n",
       "    </tr>\n",
       "    <tr>\n",
       "      <th>oid</th>\n",
       "      <th></th>\n",
       "      <th></th>\n",
       "      <th></th>\n",
       "      <th></th>\n",
       "      <th></th>\n",
       "      <th></th>\n",
       "      <th></th>\n",
       "      <th></th>\n",
       "      <th></th>\n",
       "      <th></th>\n",
       "    </tr>\n",
       "  </thead>\n",
       "  <tbody>\n",
       "    <tr>\n",
       "      <th>ZTF22aavebae</th>\n",
       "      <td>SDSS J000034.44+273640.5</td>\n",
       "      <td>0.143508</td>\n",
       "      <td>27.611273</td>\n",
       "      <td>1.219457</td>\n",
       "      <td>0.47243</td>\n",
       "      <td>SDSSDR16</td>\n",
       "      <td>False</td>\n",
       "      <td>0.167596</td>\n",
       "      <td>0.037761</td>\n",
       "      <td>photoz</td>\n",
       "    </tr>\n",
       "  </tbody>\n",
       "</table>\n",
       "</div>"
      ],
      "text/plain": [
       "                             host_name   host_ra   host_dec host_offset  \\\n",
       "oid                                                                       \n",
       "ZTF22aavebae  SDSS J000034.44+273640.5  0.143508  27.611273    1.219457   \n",
       "\n",
       "             host_offset_bestguess host_source host_redshift_spec  \\\n",
       "oid                                                                 \n",
       "ZTF22aavebae               0.47243    SDSSDR16              False   \n",
       "\n",
       "             host_redshift host_redshift_error host_redshift_type  \n",
       "oid                                                                \n",
       "ZTF22aavebae      0.167596            0.037761             photoz  "
      ]
     },
     "metadata": {},
     "output_type": "display_data"
    },
    {
     "name": "stdout",
     "output_type": "stream",
     "text": [
      "7 candidates remaining\n"
     ]
    },
    {
     "data": {
      "application/vnd.jupyter.widget-view+json": {
       "model_id": "3ca121cca38446028ea16bcf61f5d94e",
       "version_major": 2,
       "version_minor": 0
      },
      "text/plain": [
       "Box(children=(Aladin(fov=0.025, layout=Layout(width='70%'), options=['allow_full_zoomout', 'coo_frame', 'fov',…"
      ]
     },
     "metadata": {},
     "output_type": "display_data"
    },
    {
     "name": "stderr",
     "output_type": "stream",
     "text": [
      "/home/fforster/anaconda3/lib/python3.8/site-packages/astroquery/simbad/core.py:135: UserWarning: Warning: The script line number 3 raised an error (recorded in the `errors` attribute of the result table): '23:21:37.7643 +30:15:59.8312': No astronomical object found :\n",
      "  warnings.warn(\"Warning: The script line number %i raised \"\n"
     ]
    },
    {
     "data": {
      "text/html": [
       "<div>\n",
       "<style scoped>\n",
       "    .dataframe tbody tr th:only-of-type {\n",
       "        vertical-align: middle;\n",
       "    }\n",
       "\n",
       "    .dataframe tbody tr th {\n",
       "        vertical-align: top;\n",
       "    }\n",
       "\n",
       "    .dataframe thead th {\n",
       "        text-align: right;\n",
       "    }\n",
       "</style>\n",
       "<table border=\"1\" class=\"dataframe\">\n",
       "  <thead>\n",
       "    <tr style=\"text-align: right;\">\n",
       "      <th></th>\n",
       "      <th>host_name</th>\n",
       "      <th>host_ra</th>\n",
       "      <th>host_dec</th>\n",
       "      <th>host_offset</th>\n",
       "      <th>host_offset_bestguess</th>\n",
       "      <th>host_source</th>\n",
       "      <th>host_redshift_spec</th>\n",
       "      <th>host_redshift</th>\n",
       "      <th>host_redshift_error</th>\n",
       "      <th>host_redshift_type</th>\n",
       "    </tr>\n",
       "    <tr>\n",
       "      <th>oid</th>\n",
       "      <th></th>\n",
       "      <th></th>\n",
       "      <th></th>\n",
       "      <th></th>\n",
       "      <th></th>\n",
       "      <th></th>\n",
       "      <th></th>\n",
       "      <th></th>\n",
       "      <th></th>\n",
       "      <th></th>\n",
       "    </tr>\n",
       "  </thead>\n",
       "  <tbody>\n",
       "    <tr>\n",
       "      <th>ZTF22aavecme</th>\n",
       "      <td>SDSS J232137.80+301559.5</td>\n",
       "      <td>350.407492</td>\n",
       "      <td>30.266537</td>\n",
       "      <td>2.732855</td>\n",
       "      <td>0.530824</td>\n",
       "      <td>SDSSDR16</td>\n",
       "      <td>False</td>\n",
       "      <td>0.1266</td>\n",
       "      <td>0.029964</td>\n",
       "      <td>photoz</td>\n",
       "    </tr>\n",
       "  </tbody>\n",
       "</table>\n",
       "</div>"
      ],
      "text/plain": [
       "                             host_name     host_ra   host_dec host_offset  \\\n",
       "oid                                                                         \n",
       "ZTF22aavecme  SDSS J232137.80+301559.5  350.407492  30.266537    2.732855   \n",
       "\n",
       "             host_offset_bestguess host_source host_redshift_spec  \\\n",
       "oid                                                                 \n",
       "ZTF22aavecme              0.530824    SDSSDR16              False   \n",
       "\n",
       "             host_redshift host_redshift_error host_redshift_type  \n",
       "oid                                                                \n",
       "ZTF22aavecme        0.1266            0.029964             photoz  "
      ]
     },
     "metadata": {},
     "output_type": "display_data"
    },
    {
     "name": "stdout",
     "output_type": "stream",
     "text": [
      "6 candidates remaining\n"
     ]
    },
    {
     "data": {
      "application/vnd.jupyter.widget-view+json": {
       "model_id": "77142c668c95434f833c25b3be613838",
       "version_major": 2,
       "version_minor": 0
      },
      "text/plain": [
       "Box(children=(Aladin(fov=0.025, layout=Layout(width='70%'), options=['allow_full_zoomout', 'coo_frame', 'fov',…"
      ]
     },
     "metadata": {},
     "output_type": "display_data"
    },
    {
     "data": {
      "text/html": [
       "<div>\n",
       "<style scoped>\n",
       "    .dataframe tbody tr th:only-of-type {\n",
       "        vertical-align: middle;\n",
       "    }\n",
       "\n",
       "    .dataframe tbody tr th {\n",
       "        vertical-align: top;\n",
       "    }\n",
       "\n",
       "    .dataframe thead th {\n",
       "        text-align: right;\n",
       "    }\n",
       "</style>\n",
       "<table border=\"1\" class=\"dataframe\">\n",
       "  <thead>\n",
       "    <tr style=\"text-align: right;\">\n",
       "      <th></th>\n",
       "      <th>host_name</th>\n",
       "      <th>host_ra</th>\n",
       "      <th>host_dec</th>\n",
       "      <th>host_offset</th>\n",
       "      <th>host_offset_bestguess</th>\n",
       "      <th>host_source</th>\n",
       "      <th>host_redshift_spec</th>\n",
       "      <th>host_redshift</th>\n",
       "      <th>host_redshift_error</th>\n",
       "      <th>host_redshift_type</th>\n",
       "    </tr>\n",
       "    <tr>\n",
       "      <th>oid</th>\n",
       "      <th></th>\n",
       "      <th></th>\n",
       "      <th></th>\n",
       "      <th></th>\n",
       "      <th></th>\n",
       "      <th></th>\n",
       "      <th></th>\n",
       "      <th></th>\n",
       "      <th></th>\n",
       "      <th></th>\n",
       "    </tr>\n",
       "  </thead>\n",
       "  <tbody>\n",
       "    <tr>\n",
       "      <th>ZTF22aaveghe</th>\n",
       "      <td>SDSS J211616.28-022232.8</td>\n",
       "      <td>319.067849</td>\n",
       "      <td>-2.375778</td>\n",
       "      <td>1.400294</td>\n",
       "      <td>0.576217</td>\n",
       "      <td>SDSSDR16</td>\n",
       "      <td>False</td>\n",
       "      <td>0.117027</td>\n",
       "      <td>0.013094</td>\n",
       "      <td>photoz</td>\n",
       "    </tr>\n",
       "  </tbody>\n",
       "</table>\n",
       "</div>"
      ],
      "text/plain": [
       "                             host_name     host_ra  host_dec host_offset  \\\n",
       "oid                                                                        \n",
       "ZTF22aaveghe  SDSS J211616.28-022232.8  319.067849 -2.375778    1.400294   \n",
       "\n",
       "             host_offset_bestguess host_source host_redshift_spec  \\\n",
       "oid                                                                 \n",
       "ZTF22aaveghe              0.576217    SDSSDR16              False   \n",
       "\n",
       "             host_redshift host_redshift_error host_redshift_type  \n",
       "oid                                                                \n",
       "ZTF22aaveghe      0.117027            0.013094             photoz  "
      ]
     },
     "metadata": {},
     "output_type": "display_data"
    },
    {
     "name": "stdout",
     "output_type": "stream",
     "text": [
      "5 candidates remaining\n"
     ]
    },
    {
     "data": {
      "application/vnd.jupyter.widget-view+json": {
       "model_id": "fb374a67cdde45388960a12f66801393",
       "version_major": 2,
       "version_minor": 0
      },
      "text/plain": [
       "Box(children=(Aladin(fov=0.025, layout=Layout(width='70%'), options=['allow_full_zoomout', 'coo_frame', 'fov',…"
      ]
     },
     "metadata": {},
     "output_type": "display_data"
    },
    {
     "data": {
      "text/html": [
       "<div>\n",
       "<style scoped>\n",
       "    .dataframe tbody tr th:only-of-type {\n",
       "        vertical-align: middle;\n",
       "    }\n",
       "\n",
       "    .dataframe tbody tr th {\n",
       "        vertical-align: top;\n",
       "    }\n",
       "\n",
       "    .dataframe thead th {\n",
       "        text-align: right;\n",
       "    }\n",
       "</style>\n",
       "<table border=\"1\" class=\"dataframe\">\n",
       "  <thead>\n",
       "    <tr style=\"text-align: right;\">\n",
       "      <th></th>\n",
       "      <th>host_name</th>\n",
       "      <th>host_ra</th>\n",
       "      <th>host_dec</th>\n",
       "      <th>host_offset</th>\n",
       "      <th>host_offset_bestguess</th>\n",
       "      <th>host_source</th>\n",
       "      <th>host_redshift_spec</th>\n",
       "      <th>host_redshift</th>\n",
       "      <th>host_redshift_error</th>\n",
       "      <th>host_redshift_type</th>\n",
       "    </tr>\n",
       "    <tr>\n",
       "      <th>oid</th>\n",
       "      <th></th>\n",
       "      <th></th>\n",
       "      <th></th>\n",
       "      <th></th>\n",
       "      <th></th>\n",
       "      <th></th>\n",
       "      <th></th>\n",
       "      <th></th>\n",
       "      <th></th>\n",
       "      <th></th>\n",
       "    </tr>\n",
       "  </thead>\n",
       "  <tbody>\n",
       "    <tr>\n",
       "      <th>ZTF22aavfgyf</th>\n",
       "      <td>2MASX J22102557-0917296</td>\n",
       "      <td>332.60670166666665</td>\n",
       "      <td>-9.2914775</td>\n",
       "      <td>5.095737</td>\n",
       "      <td>0.385926</td>\n",
       "      <td>Simbad</td>\n",
       "      <td>True</td>\n",
       "      <td>0.07012</td>\n",
       "      <td>0.00001</td>\n",
       "      <td>C</td>\n",
       "    </tr>\n",
       "  </tbody>\n",
       "</table>\n",
       "</div>"
      ],
      "text/plain": [
       "                            host_name             host_ra    host_dec  \\\n",
       "oid                                                                     \n",
       "ZTF22aavfgyf  2MASX J22102557-0917296  332.60670166666665  -9.2914775   \n",
       "\n",
       "             host_offset host_offset_bestguess host_source host_redshift_spec  \\\n",
       "oid                                                                             \n",
       "ZTF22aavfgyf    5.095737              0.385926      Simbad               True   \n",
       "\n",
       "             host_redshift host_redshift_error host_redshift_type  \n",
       "oid                                                                \n",
       "ZTF22aavfgyf       0.07012             0.00001                  C  "
      ]
     },
     "metadata": {},
     "output_type": "display_data"
    },
    {
     "name": "stdout",
     "output_type": "stream",
     "text": [
      "4 candidates remaining\n"
     ]
    },
    {
     "data": {
      "application/vnd.jupyter.widget-view+json": {
       "model_id": "5ba4744bd16347bab93d137b0822c22b",
       "version_major": 2,
       "version_minor": 0
      },
      "text/plain": [
       "Box(children=(Aladin(fov=0.025, layout=Layout(width='70%'), options=['allow_full_zoomout', 'coo_frame', 'fov',…"
      ]
     },
     "metadata": {},
     "output_type": "display_data"
    },
    {
     "name": "stderr",
     "output_type": "stream",
     "text": [
      "/home/fforster/anaconda3/lib/python3.8/site-packages/astroquery/simbad/core.py:135: UserWarning: Warning: The script line number 3 raised an error (recorded in the `errors` attribute of the result table): '0:28:16.8359 +51:07:06.2027': No astronomical object found :\n",
      "  warnings.warn(\"Warning: The script line number %i raised \"\n"
     ]
    },
    {
     "data": {
      "text/html": [
       "<div>\n",
       "<style scoped>\n",
       "    .dataframe tbody tr th:only-of-type {\n",
       "        vertical-align: middle;\n",
       "    }\n",
       "\n",
       "    .dataframe tbody tr th {\n",
       "        vertical-align: top;\n",
       "    }\n",
       "\n",
       "    .dataframe thead th {\n",
       "        text-align: right;\n",
       "    }\n",
       "</style>\n",
       "<table border=\"1\" class=\"dataframe\">\n",
       "  <thead>\n",
       "    <tr style=\"text-align: right;\">\n",
       "      <th></th>\n",
       "      <th>host_name</th>\n",
       "      <th>host_ra</th>\n",
       "      <th>host_dec</th>\n",
       "      <th>host_offset</th>\n",
       "      <th>host_offset_bestguess</th>\n",
       "      <th>host_source</th>\n",
       "      <th>host_redshift_spec</th>\n",
       "      <th>host_redshift</th>\n",
       "      <th>host_redshift_error</th>\n",
       "      <th>host_redshift_type</th>\n",
       "    </tr>\n",
       "    <tr>\n",
       "      <th>oid</th>\n",
       "      <th></th>\n",
       "      <th></th>\n",
       "      <th></th>\n",
       "      <th></th>\n",
       "      <th></th>\n",
       "      <th></th>\n",
       "      <th></th>\n",
       "      <th></th>\n",
       "      <th></th>\n",
       "      <th></th>\n",
       "    </tr>\n",
       "  </thead>\n",
       "  <tbody>\n",
       "    <tr>\n",
       "      <th>ZTF22aavgzjc</th>\n",
       "      <td>WISEA J002816.83+510706.3</td>\n",
       "      <td>7.07014</td>\n",
       "      <td>51.11843</td>\n",
       "      <td>0.22963</td>\n",
       "      <td>0.146808</td>\n",
       "      <td>NED</td>\n",
       "      <td>False</td>\n",
       "      <td>NaN</td>\n",
       "      <td>NaN</td>\n",
       "      <td>NaN</td>\n",
       "    </tr>\n",
       "  </tbody>\n",
       "</table>\n",
       "</div>"
      ],
      "text/plain": [
       "                              host_name  host_ra  host_dec host_offset  \\\n",
       "oid                                                                      \n",
       "ZTF22aavgzjc  WISEA J002816.83+510706.3  7.07014  51.11843     0.22963   \n",
       "\n",
       "             host_offset_bestguess host_source host_redshift_spec  \\\n",
       "oid                                                                 \n",
       "ZTF22aavgzjc              0.146808         NED              False   \n",
       "\n",
       "             host_redshift host_redshift_error host_redshift_type  \n",
       "oid                                                                \n",
       "ZTF22aavgzjc           NaN                 NaN                NaN  "
      ]
     },
     "metadata": {},
     "output_type": "display_data"
    },
    {
     "name": "stdout",
     "output_type": "stream",
     "text": [
      "3 candidates remaining\n"
     ]
    },
    {
     "data": {
      "application/vnd.jupyter.widget-view+json": {
       "model_id": "05f86cbcf810425686997cddabde4307",
       "version_major": 2,
       "version_minor": 0
      },
      "text/plain": [
       "Box(children=(Aladin(fov=0.025, layout=Layout(width='70%'), options=['allow_full_zoomout', 'coo_frame', 'fov',…"
      ]
     },
     "metadata": {},
     "output_type": "display_data"
    },
    {
     "name": "stderr",
     "output_type": "stream",
     "text": [
      "/home/fforster/anaconda3/lib/python3.8/site-packages/astroquery/simbad/core.py:135: UserWarning: Warning: The script line number 3 raised an error (recorded in the `errors` attribute of the result table): '0:53:10.3787 -7:03:33.9654': No astronomical object found :\n",
      "  warnings.warn(\"Warning: The script line number %i raised \"\n"
     ]
    },
    {
     "data": {
      "text/html": [
       "<div>\n",
       "<style scoped>\n",
       "    .dataframe tbody tr th:only-of-type {\n",
       "        vertical-align: middle;\n",
       "    }\n",
       "\n",
       "    .dataframe tbody tr th {\n",
       "        vertical-align: top;\n",
       "    }\n",
       "\n",
       "    .dataframe thead th {\n",
       "        text-align: right;\n",
       "    }\n",
       "</style>\n",
       "<table border=\"1\" class=\"dataframe\">\n",
       "  <thead>\n",
       "    <tr style=\"text-align: right;\">\n",
       "      <th></th>\n",
       "      <th>host_name</th>\n",
       "      <th>host_ra</th>\n",
       "      <th>host_dec</th>\n",
       "      <th>host_offset</th>\n",
       "      <th>host_offset_bestguess</th>\n",
       "      <th>host_source</th>\n",
       "      <th>host_redshift_spec</th>\n",
       "      <th>host_redshift</th>\n",
       "      <th>host_redshift_error</th>\n",
       "      <th>host_redshift_type</th>\n",
       "    </tr>\n",
       "    <tr>\n",
       "      <th>oid</th>\n",
       "      <th></th>\n",
       "      <th></th>\n",
       "      <th></th>\n",
       "      <th></th>\n",
       "      <th></th>\n",
       "      <th></th>\n",
       "      <th></th>\n",
       "      <th></th>\n",
       "      <th></th>\n",
       "      <th></th>\n",
       "    </tr>\n",
       "  </thead>\n",
       "  <tbody>\n",
       "    <tr>\n",
       "      <th>ZTF22aavicyh</th>\n",
       "      <td>SDSS J005310.39-070334.1</td>\n",
       "      <td>13.293302</td>\n",
       "      <td>-7.059494</td>\n",
       "      <td>0.370979</td>\n",
       "      <td>0.295969</td>\n",
       "      <td>SDSSDR16</td>\n",
       "      <td>False</td>\n",
       "      <td>0.143345</td>\n",
       "      <td>0.070323</td>\n",
       "      <td>photoz</td>\n",
       "    </tr>\n",
       "  </tbody>\n",
       "</table>\n",
       "</div>"
      ],
      "text/plain": [
       "                             host_name    host_ra  host_dec host_offset  \\\n",
       "oid                                                                       \n",
       "ZTF22aavicyh  SDSS J005310.39-070334.1  13.293302 -7.059494    0.370979   \n",
       "\n",
       "             host_offset_bestguess host_source host_redshift_spec  \\\n",
       "oid                                                                 \n",
       "ZTF22aavicyh              0.295969    SDSSDR16              False   \n",
       "\n",
       "             host_redshift host_redshift_error host_redshift_type  \n",
       "oid                                                                \n",
       "ZTF22aavicyh      0.143345            0.070323             photoz  "
      ]
     },
     "metadata": {},
     "output_type": "display_data"
    },
    {
     "name": "stdout",
     "output_type": "stream",
     "text": [
      "2 candidates remaining\n"
     ]
    },
    {
     "data": {
      "application/vnd.jupyter.widget-view+json": {
       "model_id": "d1ce4453f73e47a79ebb2b26814eb745",
       "version_major": 2,
       "version_minor": 0
      },
      "text/plain": [
       "Box(children=(Aladin(fov=0.025, layout=Layout(width='70%'), options=['allow_full_zoomout', 'coo_frame', 'fov',…"
      ]
     },
     "metadata": {},
     "output_type": "display_data"
    },
    {
     "name": "stderr",
     "output_type": "stream",
     "text": [
      "/home/fforster/anaconda3/lib/python3.8/site-packages/astroquery/simbad/core.py:135: UserWarning: Warning: The script line number 3 raised an error (recorded in the `errors` attribute of the result table): '0:37:01.9289 +18:49:39.0383': No astronomical object found :\n",
      "  warnings.warn(\"Warning: The script line number %i raised \"\n"
     ]
    },
    {
     "data": {
      "text/html": [
       "<div>\n",
       "<style scoped>\n",
       "    .dataframe tbody tr th:only-of-type {\n",
       "        vertical-align: middle;\n",
       "    }\n",
       "\n",
       "    .dataframe tbody tr th {\n",
       "        vertical-align: top;\n",
       "    }\n",
       "\n",
       "    .dataframe thead th {\n",
       "        text-align: right;\n",
       "    }\n",
       "</style>\n",
       "<table border=\"1\" class=\"dataframe\">\n",
       "  <thead>\n",
       "    <tr style=\"text-align: right;\">\n",
       "      <th></th>\n",
       "      <th>host_name</th>\n",
       "      <th>host_ra</th>\n",
       "      <th>host_dec</th>\n",
       "      <th>host_offset</th>\n",
       "      <th>host_offset_bestguess</th>\n",
       "      <th>host_source</th>\n",
       "      <th>host_redshift_spec</th>\n",
       "      <th>host_redshift</th>\n",
       "      <th>host_redshift_error</th>\n",
       "      <th>host_redshift_type</th>\n",
       "    </tr>\n",
       "    <tr>\n",
       "      <th>oid</th>\n",
       "      <th></th>\n",
       "      <th></th>\n",
       "      <th></th>\n",
       "      <th></th>\n",
       "      <th></th>\n",
       "      <th></th>\n",
       "      <th></th>\n",
       "      <th></th>\n",
       "      <th></th>\n",
       "      <th></th>\n",
       "    </tr>\n",
       "  </thead>\n",
       "  <tbody>\n",
       "    <tr>\n",
       "      <th>ZTF22aavjwht</th>\n",
       "      <td>SDSS J003701.95+184939.0</td>\n",
       "      <td>9.258119</td>\n",
       "      <td>18.827518</td>\n",
       "      <td>0.448959</td>\n",
       "      <td>0.279929</td>\n",
       "      <td>SDSSDR16</td>\n",
       "      <td>False</td>\n",
       "      <td>0.150257</td>\n",
       "      <td>0.035163</td>\n",
       "      <td>photoz</td>\n",
       "    </tr>\n",
       "  </tbody>\n",
       "</table>\n",
       "</div>"
      ],
      "text/plain": [
       "                             host_name   host_ra   host_dec host_offset  \\\n",
       "oid                                                                       \n",
       "ZTF22aavjwht  SDSS J003701.95+184939.0  9.258119  18.827518    0.448959   \n",
       "\n",
       "             host_offset_bestguess host_source host_redshift_spec  \\\n",
       "oid                                                                 \n",
       "ZTF22aavjwht              0.279929    SDSSDR16              False   \n",
       "\n",
       "             host_redshift host_redshift_error host_redshift_type  \n",
       "oid                                                                \n",
       "ZTF22aavjwht      0.150257            0.035163             photoz  "
      ]
     },
     "metadata": {},
     "output_type": "display_data"
    },
    {
     "name": "stdout",
     "output_type": "stream",
     "text": [
      "1 candidates remaining\n"
     ]
    },
    {
     "data": {
      "application/vnd.jupyter.widget-view+json": {
       "model_id": "43d76792cd4d405587493cb543b2a190",
       "version_major": 2,
       "version_minor": 0
      },
      "text/plain": [
       "Box(children=(Aladin(fov=0.025, layout=Layout(width='70%'), options=['allow_full_zoomout', 'coo_frame', 'fov',…"
      ]
     },
     "metadata": {},
     "output_type": "display_data"
    },
    {
     "name": "stderr",
     "output_type": "stream",
     "text": [
      "/home/fforster/anaconda3/lib/python3.8/site-packages/astroquery/simbad/core.py:135: UserWarning: Warning: The script line number 3 raised an error (recorded in the `errors` attribute of the result table): '5:10:48.1422 +28:40:25.0101': No astronomical object found :\n",
      "  warnings.warn(\"Warning: The script line number %i raised \"\n"
     ]
    },
    {
     "data": {
      "text/html": [
       "<div>\n",
       "<style scoped>\n",
       "    .dataframe tbody tr th:only-of-type {\n",
       "        vertical-align: middle;\n",
       "    }\n",
       "\n",
       "    .dataframe tbody tr th {\n",
       "        vertical-align: top;\n",
       "    }\n",
       "\n",
       "    .dataframe thead th {\n",
       "        text-align: right;\n",
       "    }\n",
       "</style>\n",
       "<table border=\"1\" class=\"dataframe\">\n",
       "  <thead>\n",
       "    <tr style=\"text-align: right;\">\n",
       "      <th></th>\n",
       "      <th>host_name</th>\n",
       "      <th>host_ra</th>\n",
       "      <th>host_dec</th>\n",
       "      <th>host_offset</th>\n",
       "      <th>host_offset_bestguess</th>\n",
       "      <th>host_source</th>\n",
       "      <th>host_redshift_spec</th>\n",
       "      <th>host_redshift</th>\n",
       "      <th>host_redshift_error</th>\n",
       "      <th>host_redshift_type</th>\n",
       "    </tr>\n",
       "    <tr>\n",
       "      <th>oid</th>\n",
       "      <th></th>\n",
       "      <th></th>\n",
       "      <th></th>\n",
       "      <th></th>\n",
       "      <th></th>\n",
       "      <th></th>\n",
       "      <th></th>\n",
       "      <th></th>\n",
       "      <th></th>\n",
       "      <th></th>\n",
       "    </tr>\n",
       "  </thead>\n",
       "  <tbody>\n",
       "    <tr>\n",
       "      <th>ZTF22aavklii</th>\n",
       "      <td>WISEA J051048.14+284024.4</td>\n",
       "      <td>77.70063</td>\n",
       "      <td>28.67344</td>\n",
       "      <td>0.748188</td>\n",
       "      <td>0.637173</td>\n",
       "      <td>NED</td>\n",
       "      <td>False</td>\n",
       "      <td>0.022256</td>\n",
       "      <td>NaN</td>\n",
       "      <td>PHOT</td>\n",
       "    </tr>\n",
       "  </tbody>\n",
       "</table>\n",
       "</div>"
      ],
      "text/plain": [
       "                              host_name   host_ra  host_dec host_offset  \\\n",
       "oid                                                                       \n",
       "ZTF22aavklii  WISEA J051048.14+284024.4  77.70063  28.67344    0.748188   \n",
       "\n",
       "             host_offset_bestguess host_source host_redshift_spec  \\\n",
       "oid                                                                 \n",
       "ZTF22aavklii              0.637173         NED              False   \n",
       "\n",
       "             host_redshift host_redshift_error host_redshift_type  \n",
       "oid                                                                \n",
       "ZTF22aavklii      0.022256                 NaN               PHOT  "
      ]
     },
     "metadata": {},
     "output_type": "display_data"
    },
    {
     "name": "stdout",
     "output_type": "stream",
     "text": [
      "0 candidates remaining\n",
      "\n",
      "\n",
      "Summary of host galaxies:\n",
      "Saving hosts to hosts/20220723_hosts.csv\n"
     ]
    },
    {
     "data": {
      "text/html": [
       "<div>\n",
       "<style scoped>\n",
       "    .dataframe tbody tr th:only-of-type {\n",
       "        vertical-align: middle;\n",
       "    }\n",
       "\n",
       "    .dataframe tbody tr th {\n",
       "        vertical-align: top;\n",
       "    }\n",
       "\n",
       "    .dataframe thead th {\n",
       "        text-align: right;\n",
       "    }\n",
       "</style>\n",
       "<table border=\"1\" class=\"dataframe\">\n",
       "  <thead>\n",
       "    <tr style=\"text-align: right;\">\n",
       "      <th></th>\n",
       "      <th>host_name</th>\n",
       "      <th>host_ra</th>\n",
       "      <th>host_dec</th>\n",
       "      <th>host_offset</th>\n",
       "      <th>host_offset_bestguess</th>\n",
       "      <th>host_source</th>\n",
       "      <th>host_redshift_spec</th>\n",
       "      <th>host_redshift</th>\n",
       "      <th>host_redshift_error</th>\n",
       "      <th>host_redshift_type</th>\n",
       "    </tr>\n",
       "    <tr>\n",
       "      <th>oid</th>\n",
       "      <th></th>\n",
       "      <th></th>\n",
       "      <th></th>\n",
       "      <th></th>\n",
       "      <th></th>\n",
       "      <th></th>\n",
       "      <th></th>\n",
       "      <th></th>\n",
       "      <th></th>\n",
       "      <th></th>\n",
       "    </tr>\n",
       "  </thead>\n",
       "  <tbody>\n",
       "    <tr>\n",
       "      <th>ZTF22aavklii</th>\n",
       "      <td>WISEA J051048.14+284024.4</td>\n",
       "      <td>77.70063</td>\n",
       "      <td>28.67344</td>\n",
       "      <td>0.748188</td>\n",
       "      <td>0.637173</td>\n",
       "      <td>NED</td>\n",
       "      <td>False</td>\n",
       "      <td>0.022256</td>\n",
       "      <td>NaN</td>\n",
       "      <td>PHOT</td>\n",
       "    </tr>\n",
       "    <tr>\n",
       "      <th>ZTF22aavjwht</th>\n",
       "      <td>SDSS J003701.95+184939.0</td>\n",
       "      <td>9.258119</td>\n",
       "      <td>18.827518</td>\n",
       "      <td>0.448959</td>\n",
       "      <td>0.279929</td>\n",
       "      <td>SDSSDR16</td>\n",
       "      <td>False</td>\n",
       "      <td>0.150257</td>\n",
       "      <td>0.035163</td>\n",
       "      <td>photoz</td>\n",
       "    </tr>\n",
       "    <tr>\n",
       "      <th>ZTF22aavicyh</th>\n",
       "      <td>SDSS J005310.39-070334.1</td>\n",
       "      <td>13.293302</td>\n",
       "      <td>-7.059494</td>\n",
       "      <td>0.370979</td>\n",
       "      <td>0.295969</td>\n",
       "      <td>SDSSDR16</td>\n",
       "      <td>False</td>\n",
       "      <td>0.143345</td>\n",
       "      <td>0.070323</td>\n",
       "      <td>photoz</td>\n",
       "    </tr>\n",
       "    <tr>\n",
       "      <th>ZTF22aavgzjc</th>\n",
       "      <td>WISEA J002816.83+510706.3</td>\n",
       "      <td>7.07014</td>\n",
       "      <td>51.11843</td>\n",
       "      <td>0.22963</td>\n",
       "      <td>0.146808</td>\n",
       "      <td>NED</td>\n",
       "      <td>False</td>\n",
       "      <td>NaN</td>\n",
       "      <td>NaN</td>\n",
       "      <td>NaN</td>\n",
       "    </tr>\n",
       "    <tr>\n",
       "      <th>ZTF22aavfgyf</th>\n",
       "      <td>2MASX J22102557-0917296</td>\n",
       "      <td>332.60670166666665</td>\n",
       "      <td>-9.2914775</td>\n",
       "      <td>5.095737</td>\n",
       "      <td>0.385926</td>\n",
       "      <td>Simbad</td>\n",
       "      <td>True</td>\n",
       "      <td>0.07012</td>\n",
       "      <td>0.00001</td>\n",
       "      <td>C</td>\n",
       "    </tr>\n",
       "    <tr>\n",
       "      <th>ZTF22aaveghe</th>\n",
       "      <td>SDSS J211616.28-022232.8</td>\n",
       "      <td>319.067849</td>\n",
       "      <td>-2.375778</td>\n",
       "      <td>1.400294</td>\n",
       "      <td>0.576217</td>\n",
       "      <td>SDSSDR16</td>\n",
       "      <td>False</td>\n",
       "      <td>0.117027</td>\n",
       "      <td>0.013094</td>\n",
       "      <td>photoz</td>\n",
       "    </tr>\n",
       "    <tr>\n",
       "      <th>ZTF22aavecme</th>\n",
       "      <td>SDSS J232137.80+301559.5</td>\n",
       "      <td>350.407492</td>\n",
       "      <td>30.266537</td>\n",
       "      <td>2.732855</td>\n",
       "      <td>0.530824</td>\n",
       "      <td>SDSSDR16</td>\n",
       "      <td>False</td>\n",
       "      <td>0.1266</td>\n",
       "      <td>0.029964</td>\n",
       "      <td>photoz</td>\n",
       "    </tr>\n",
       "    <tr>\n",
       "      <th>ZTF22aavebae</th>\n",
       "      <td>SDSS J000034.44+273640.5</td>\n",
       "      <td>0.143508</td>\n",
       "      <td>27.611273</td>\n",
       "      <td>1.219457</td>\n",
       "      <td>0.47243</td>\n",
       "      <td>SDSSDR16</td>\n",
       "      <td>False</td>\n",
       "      <td>0.167596</td>\n",
       "      <td>0.037761</td>\n",
       "      <td>photoz</td>\n",
       "    </tr>\n",
       "    <tr>\n",
       "      <th>ZTF22aavdzpf</th>\n",
       "      <td>WISEA J224634.04+394557.4</td>\n",
       "      <td>341.64188</td>\n",
       "      <td>39.76654</td>\n",
       "      <td>9.747363</td>\n",
       "      <td>1.888651</td>\n",
       "      <td>NED</td>\n",
       "      <td>False</td>\n",
       "      <td>NaN</td>\n",
       "      <td>NaN</td>\n",
       "      <td>NaN</td>\n",
       "    </tr>\n",
       "    <tr>\n",
       "      <th>ZTF22aavdubl</th>\n",
       "      <td>WISEA J223504.05-132610.8</td>\n",
       "      <td>338.76688</td>\n",
       "      <td>-13.43634</td>\n",
       "      <td>0.826059</td>\n",
       "      <td>0.513955</td>\n",
       "      <td>NED</td>\n",
       "      <td>False</td>\n",
       "      <td>NaN</td>\n",
       "      <td>NaN</td>\n",
       "      <td>NaN</td>\n",
       "    </tr>\n",
       "    <tr>\n",
       "      <th>ZTF22aavdscs</th>\n",
       "      <td>WISEA J200134.36-272122.0</td>\n",
       "      <td>300.39323</td>\n",
       "      <td>-27.35598</td>\n",
       "      <td>6.352681</td>\n",
       "      <td>1.517278</td>\n",
       "      <td>NED</td>\n",
       "      <td>False</td>\n",
       "      <td>NaN</td>\n",
       "      <td>NaN</td>\n",
       "      <td>NaN</td>\n",
       "    </tr>\n",
       "    <tr>\n",
       "      <th>ZTF22aavdrdz</th>\n",
       "      <td>WISEA J203754.23-090502.9</td>\n",
       "      <td>309.47595</td>\n",
       "      <td>-9.08417</td>\n",
       "      <td>1.857342</td>\n",
       "      <td>0.2996</td>\n",
       "      <td>NED</td>\n",
       "      <td>False</td>\n",
       "      <td>NaN</td>\n",
       "      <td>NaN</td>\n",
       "      <td>NaN</td>\n",
       "    </tr>\n",
       "    <tr>\n",
       "      <th>ZTF22aavdrbx</th>\n",
       "      <td>WISEA J202718.04-082513.2</td>\n",
       "      <td>306.82517</td>\n",
       "      <td>-8.42031</td>\n",
       "      <td>6.556706</td>\n",
       "      <td>0.41135</td>\n",
       "      <td>NED</td>\n",
       "      <td>False</td>\n",
       "      <td>0.136686</td>\n",
       "      <td>NaN</td>\n",
       "      <td>PHOT</td>\n",
       "    </tr>\n",
       "    <tr>\n",
       "      <th>ZTF22aavdcsu</th>\n",
       "      <td>SDSS J162835.11+154922.4</td>\n",
       "      <td>247.146282</td>\n",
       "      <td>15.822892</td>\n",
       "      <td>0.59715</td>\n",
       "      <td>0.475054</td>\n",
       "      <td>SDSSDR16</td>\n",
       "      <td>False</td>\n",
       "      <td>0.127936</td>\n",
       "      <td>0.043671</td>\n",
       "      <td>photoz</td>\n",
       "    </tr>\n",
       "    <tr>\n",
       "      <th>ZTF22aavczfb</th>\n",
       "      <td>SDSS J164706.81+305051.3</td>\n",
       "      <td>251.778364</td>\n",
       "      <td>30.847599</td>\n",
       "      <td>1.425135</td>\n",
       "      <td>0.953185</td>\n",
       "      <td>SDSSDR16</td>\n",
       "      <td>False</td>\n",
       "      <td>0.193229</td>\n",
       "      <td>0.095575</td>\n",
       "      <td>photoz</td>\n",
       "    </tr>\n",
       "    <tr>\n",
       "      <th>ZTF22aavcyir</th>\n",
       "      <td>SDSS J164401.31+502924.7</td>\n",
       "      <td>251.005461</td>\n",
       "      <td>50.490205</td>\n",
       "      <td>1.436175</td>\n",
       "      <td>0.477623</td>\n",
       "      <td>SDSSDR16</td>\n",
       "      <td>False</td>\n",
       "      <td>0.105624</td>\n",
       "      <td>0.034998</td>\n",
       "      <td>photoz</td>\n",
       "    </tr>\n",
       "    <tr>\n",
       "      <th>ZTF22aavcvtr</th>\n",
       "      <td>WISEA J180817.99+570827.7</td>\n",
       "      <td>272.07497</td>\n",
       "      <td>57.14105</td>\n",
       "      <td>3.688715</td>\n",
       "      <td>1.230132</td>\n",
       "      <td>NED</td>\n",
       "      <td>False</td>\n",
       "      <td>NaN</td>\n",
       "      <td>NaN</td>\n",
       "      <td>NaN</td>\n",
       "    </tr>\n",
       "    <tr>\n",
       "      <th>ZTF22aavcrgy</th>\n",
       "      <td>SDSS J160702.13+285005.3</td>\n",
       "      <td>241.758894</td>\n",
       "      <td>28.834805</td>\n",
       "      <td>3.058275</td>\n",
       "      <td>0.636012</td>\n",
       "      <td>SDSSDR16</td>\n",
       "      <td>False</td>\n",
       "      <td>0.195771</td>\n",
       "      <td>0.037661</td>\n",
       "      <td>photoz</td>\n",
       "    </tr>\n",
       "    <tr>\n",
       "      <th>ZTF22aavclih</th>\n",
       "      <td>SDSS J151111.22+182527.5</td>\n",
       "      <td>227.796743</td>\n",
       "      <td>18.424329</td>\n",
       "      <td>1.700477</td>\n",
       "      <td>0.500786</td>\n",
       "      <td>SDSSDR16</td>\n",
       "      <td>True</td>\n",
       "      <td>0.107937</td>\n",
       "      <td>0.000013</td>\n",
       "      <td>specz</td>\n",
       "    </tr>\n",
       "    <tr>\n",
       "      <th>ZTF22aavcccu</th>\n",
       "      <td>SDSS J162145.52+553440.2</td>\n",
       "      <td>245.43966</td>\n",
       "      <td>55.577858</td>\n",
       "      <td>0.264029</td>\n",
       "      <td>0.220492</td>\n",
       "      <td>SDSSDR16</td>\n",
       "      <td>False</td>\n",
       "      <td>0.300539</td>\n",
       "      <td>0.114951</td>\n",
       "      <td>photoz</td>\n",
       "    </tr>\n",
       "    <tr>\n",
       "      <th>ZTF22aauxsyt</th>\n",
       "      <td>2MASX J16485739+3605446</td>\n",
       "      <td>252.2393166666666</td>\n",
       "      <td>36.095711111111115</td>\n",
       "      <td>3.352263</td>\n",
       "      <td>0.310758</td>\n",
       "      <td>Simbad</td>\n",
       "      <td>True</td>\n",
       "      <td>0.11516</td>\n",
       "      <td>0.00002</td>\n",
       "      <td>C</td>\n",
       "    </tr>\n",
       "    <tr>\n",
       "      <th>ZTF22aauxltc</th>\n",
       "      <td>SDSS J153316.38+523609.1</td>\n",
       "      <td>233.318253</td>\n",
       "      <td>52.602534</td>\n",
       "      <td>2.534611</td>\n",
       "      <td>0.502788</td>\n",
       "      <td>SDSSDR16</td>\n",
       "      <td>False</td>\n",
       "      <td>0.18792</td>\n",
       "      <td>0.032021</td>\n",
       "      <td>photoz</td>\n",
       "    </tr>\n",
       "    <tr>\n",
       "      <th>ZTF22aauwylz</th>\n",
       "      <td>SDSS J145100.60+233521.7</td>\n",
       "      <td>222.752494</td>\n",
       "      <td>23.589371</td>\n",
       "      <td>1.024663</td>\n",
       "      <td>0.482507</td>\n",
       "      <td>SDSSDR16</td>\n",
       "      <td>False</td>\n",
       "      <td>0.152285</td>\n",
       "      <td>0.048373</td>\n",
       "      <td>photoz</td>\n",
       "    </tr>\n",
       "    <tr>\n",
       "      <th>ZTF22aauvseh</th>\n",
       "      <td>WISEA J203136.33-123937.2</td>\n",
       "      <td>307.90146</td>\n",
       "      <td>-12.66061</td>\n",
       "      <td>4.803517</td>\n",
       "      <td>0.81901</td>\n",
       "      <td>NED</td>\n",
       "      <td>False</td>\n",
       "      <td>0.175839</td>\n",
       "      <td>NaN</td>\n",
       "      <td>PHOT</td>\n",
       "    </tr>\n",
       "    <tr>\n",
       "      <th>ZTF22aauuxul</th>\n",
       "      <td>WISEA J153930.60+345117.1</td>\n",
       "      <td>234.87757</td>\n",
       "      <td>34.85492</td>\n",
       "      <td>2.193836</td>\n",
       "      <td>0.269608</td>\n",
       "      <td>NED</td>\n",
       "      <td>True</td>\n",
       "      <td>0.084925</td>\n",
       "      <td>NaN</td>\n",
       "      <td>SPEC</td>\n",
       "    </tr>\n",
       "    <tr>\n",
       "      <th>ZTF22aauuvby</th>\n",
       "      <td>WISEA J172031.51+485326.0</td>\n",
       "      <td>260.13121</td>\n",
       "      <td>48.89048</td>\n",
       "      <td>5.447045</td>\n",
       "      <td>0.364267</td>\n",
       "      <td>NED</td>\n",
       "      <td>False</td>\n",
       "      <td>NaN</td>\n",
       "      <td>NaN</td>\n",
       "      <td>NaN</td>\n",
       "    </tr>\n",
       "    <tr>\n",
       "      <th>ZTF22aautrcf</th>\n",
       "      <td>SDSS J163823.66+245229.0</td>\n",
       "      <td>249.598592</td>\n",
       "      <td>24.874731</td>\n",
       "      <td>1.321846</td>\n",
       "      <td>0.36099</td>\n",
       "      <td>SDSSDR16</td>\n",
       "      <td>False</td>\n",
       "      <td>0.156572</td>\n",
       "      <td>0.057523</td>\n",
       "      <td>photoz</td>\n",
       "    </tr>\n",
       "    <tr>\n",
       "      <th>ZTF22aautpdb</th>\n",
       "      <td>WISEA J134949.97+713616.1</td>\n",
       "      <td>207.45809</td>\n",
       "      <td>71.60437</td>\n",
       "      <td>2.371596</td>\n",
       "      <td>0.784226</td>\n",
       "      <td>NED</td>\n",
       "      <td>False</td>\n",
       "      <td>NaN</td>\n",
       "      <td>NaN</td>\n",
       "      <td>NaN</td>\n",
       "    </tr>\n",
       "    <tr>\n",
       "      <th>ZTF22aautntp</th>\n",
       "      <td>SDSS J145913.50+631249.0</td>\n",
       "      <td>224.806248</td>\n",
       "      <td>63.213621</td>\n",
       "      <td>2.043399</td>\n",
       "      <td>0.7259</td>\n",
       "      <td>SDSSDR16</td>\n",
       "      <td>False</td>\n",
       "      <td>0.18608</td>\n",
       "      <td>0.083539</td>\n",
       "      <td>photoz</td>\n",
       "    </tr>\n",
       "    <tr>\n",
       "      <th>ZTF22aautnrr</th>\n",
       "      <td>SDSS J144017.49+451836.7</td>\n",
       "      <td>220.072879</td>\n",
       "      <td>45.310216</td>\n",
       "      <td>1.265058</td>\n",
       "      <td>0.382179</td>\n",
       "      <td>SDSSDR16</td>\n",
       "      <td>False</td>\n",
       "      <td>0.439006</td>\n",
       "      <td>0.125007</td>\n",
       "      <td>photoz</td>\n",
       "    </tr>\n",
       "    <tr>\n",
       "      <th>ZTF22aaunsga</th>\n",
       "      <td>WISEA J195059.71+585122.0</td>\n",
       "      <td>297.74873</td>\n",
       "      <td>58.85609</td>\n",
       "      <td>1.36989</td>\n",
       "      <td>0.314772</td>\n",
       "      <td>NED</td>\n",
       "      <td>False</td>\n",
       "      <td>NaN</td>\n",
       "      <td>NaN</td>\n",
       "      <td>NaN</td>\n",
       "    </tr>\n",
       "    <tr>\n",
       "      <th>ZTF22aaujkdb</th>\n",
       "      <td>SDSS J212447.84-045040.4</td>\n",
       "      <td>321.199327</td>\n",
       "      <td>-4.844576</td>\n",
       "      <td>1.773429</td>\n",
       "      <td>0.224119</td>\n",
       "      <td>SDSSDR16</td>\n",
       "      <td>False</td>\n",
       "      <td>0.133148</td>\n",
       "      <td>0.009054</td>\n",
       "      <td>photoz</td>\n",
       "    </tr>\n",
       "    <tr>\n",
       "      <th>ZTF22aauhudo</th>\n",
       "      <td>SDSSCGB 71288.1</td>\n",
       "      <td>253.29058999999995</td>\n",
       "      <td>43.263264444444445</td>\n",
       "      <td>0.602711</td>\n",
       "      <td>0.079893</td>\n",
       "      <td>Simbad</td>\n",
       "      <td>True</td>\n",
       "      <td>0.11356</td>\n",
       "      <td>0.00014</td>\n",
       "      <td>C</td>\n",
       "    </tr>\n",
       "    <tr>\n",
       "      <th>ZTF22aaugvnu</th>\n",
       "      <td>SDSS J165900.93+380435.0</td>\n",
       "      <td>254.753875</td>\n",
       "      <td>38.0764</td>\n",
       "      <td>1.677029</td>\n",
       "      <td>0.504463</td>\n",
       "      <td>SDSSDR16</td>\n",
       "      <td>False</td>\n",
       "      <td>0.2027</td>\n",
       "      <td>0.028486</td>\n",
       "      <td>photoz</td>\n",
       "    </tr>\n",
       "    <tr>\n",
       "      <th>ZTF22aaudjgc</th>\n",
       "      <td>SDSS J215050.94-005052.5</td>\n",
       "      <td>327.71223</td>\n",
       "      <td>-0.847933</td>\n",
       "      <td>3.700471</td>\n",
       "      <td>0.201355</td>\n",
       "      <td>SDSSDR16</td>\n",
       "      <td>True</td>\n",
       "      <td>0.027197</td>\n",
       "      <td>0.000008</td>\n",
       "      <td>specz</td>\n",
       "    </tr>\n",
       "    <tr>\n",
       "      <th>ZTF22aatymow</th>\n",
       "      <td>SDSS J165038.39+314244.3</td>\n",
       "      <td>252.659958</td>\n",
       "      <td>31.712319</td>\n",
       "      <td>2.215634</td>\n",
       "      <td>0.372325</td>\n",
       "      <td>SDSSDR16</td>\n",
       "      <td>False</td>\n",
       "      <td>0.12621</td>\n",
       "      <td>0.03717</td>\n",
       "      <td>photoz</td>\n",
       "    </tr>\n",
       "    <tr>\n",
       "      <th>ZTF22aatylyb</th>\n",
       "      <td>SDSS J151837.27+523155.4</td>\n",
       "      <td>229.655296</td>\n",
       "      <td>52.532061</td>\n",
       "      <td>0.862461</td>\n",
       "      <td>0.187453</td>\n",
       "      <td>SDSSDR16</td>\n",
       "      <td>False</td>\n",
       "      <td>0.080097</td>\n",
       "      <td>0.079861</td>\n",
       "      <td>photoz</td>\n",
       "    </tr>\n",
       "    <tr>\n",
       "      <th>ZTF22aatxslc</th>\n",
       "      <td>SDSS J150953.06+003330.2</td>\n",
       "      <td>227.471084</td>\n",
       "      <td>0.558396</td>\n",
       "      <td>0.787259</td>\n",
       "      <td>0.398124</td>\n",
       "      <td>SDSSDR16</td>\n",
       "      <td>True</td>\n",
       "      <td>0.087317</td>\n",
       "      <td>0.000027</td>\n",
       "      <td>specz</td>\n",
       "    </tr>\n",
       "    <tr>\n",
       "      <th>ZTF22aatpwfw</th>\n",
       "      <td>SDSS J220527.01-003200.4</td>\n",
       "      <td>331.362548</td>\n",
       "      <td>-0.533467</td>\n",
       "      <td>8.968743</td>\n",
       "      <td>0.10698</td>\n",
       "      <td>SDSSDR16</td>\n",
       "      <td>True</td>\n",
       "      <td>0.031092</td>\n",
       "      <td>0.000013</td>\n",
       "      <td>specz</td>\n",
       "    </tr>\n",
       "    <tr>\n",
       "      <th>ZTF18aanabqp</th>\n",
       "      <td>SDSS J152003.79+451811.3</td>\n",
       "      <td>230.015804</td>\n",
       "      <td>45.303156</td>\n",
       "      <td>1.230081</td>\n",
       "      <td>0.352793</td>\n",
       "      <td>SDSSDR16</td>\n",
       "      <td>True</td>\n",
       "      <td>0.098949</td>\n",
       "      <td>0.00001</td>\n",
       "      <td>specz</td>\n",
       "    </tr>\n",
       "  </tbody>\n",
       "</table>\n",
       "</div>"
      ],
      "text/plain": [
       "                              host_name             host_ra  \\\n",
       "oid                                                           \n",
       "ZTF22aavklii  WISEA J051048.14+284024.4            77.70063   \n",
       "ZTF22aavjwht   SDSS J003701.95+184939.0            9.258119   \n",
       "ZTF22aavicyh   SDSS J005310.39-070334.1           13.293302   \n",
       "ZTF22aavgzjc  WISEA J002816.83+510706.3             7.07014   \n",
       "ZTF22aavfgyf    2MASX J22102557-0917296  332.60670166666665   \n",
       "ZTF22aaveghe   SDSS J211616.28-022232.8          319.067849   \n",
       "ZTF22aavecme   SDSS J232137.80+301559.5          350.407492   \n",
       "ZTF22aavebae   SDSS J000034.44+273640.5            0.143508   \n",
       "ZTF22aavdzpf  WISEA J224634.04+394557.4           341.64188   \n",
       "ZTF22aavdubl  WISEA J223504.05-132610.8           338.76688   \n",
       "ZTF22aavdscs  WISEA J200134.36-272122.0           300.39323   \n",
       "ZTF22aavdrdz  WISEA J203754.23-090502.9           309.47595   \n",
       "ZTF22aavdrbx  WISEA J202718.04-082513.2           306.82517   \n",
       "ZTF22aavdcsu   SDSS J162835.11+154922.4          247.146282   \n",
       "ZTF22aavczfb   SDSS J164706.81+305051.3          251.778364   \n",
       "ZTF22aavcyir   SDSS J164401.31+502924.7          251.005461   \n",
       "ZTF22aavcvtr  WISEA J180817.99+570827.7           272.07497   \n",
       "ZTF22aavcrgy   SDSS J160702.13+285005.3          241.758894   \n",
       "ZTF22aavclih   SDSS J151111.22+182527.5          227.796743   \n",
       "ZTF22aavcccu   SDSS J162145.52+553440.2           245.43966   \n",
       "ZTF22aauxsyt    2MASX J16485739+3605446   252.2393166666666   \n",
       "ZTF22aauxltc   SDSS J153316.38+523609.1          233.318253   \n",
       "ZTF22aauwylz   SDSS J145100.60+233521.7          222.752494   \n",
       "ZTF22aauvseh  WISEA J203136.33-123937.2           307.90146   \n",
       "ZTF22aauuxul  WISEA J153930.60+345117.1           234.87757   \n",
       "ZTF22aauuvby  WISEA J172031.51+485326.0           260.13121   \n",
       "ZTF22aautrcf   SDSS J163823.66+245229.0          249.598592   \n",
       "ZTF22aautpdb  WISEA J134949.97+713616.1           207.45809   \n",
       "ZTF22aautntp   SDSS J145913.50+631249.0          224.806248   \n",
       "ZTF22aautnrr   SDSS J144017.49+451836.7          220.072879   \n",
       "ZTF22aaunsga  WISEA J195059.71+585122.0           297.74873   \n",
       "ZTF22aaujkdb   SDSS J212447.84-045040.4          321.199327   \n",
       "ZTF22aauhudo            SDSSCGB 71288.1  253.29058999999995   \n",
       "ZTF22aaugvnu   SDSS J165900.93+380435.0          254.753875   \n",
       "ZTF22aaudjgc   SDSS J215050.94-005052.5           327.71223   \n",
       "ZTF22aatymow   SDSS J165038.39+314244.3          252.659958   \n",
       "ZTF22aatylyb   SDSS J151837.27+523155.4          229.655296   \n",
       "ZTF22aatxslc   SDSS J150953.06+003330.2          227.471084   \n",
       "ZTF22aatpwfw   SDSS J220527.01-003200.4          331.362548   \n",
       "ZTF18aanabqp   SDSS J152003.79+451811.3          230.015804   \n",
       "\n",
       "                        host_dec host_offset host_offset_bestguess  \\\n",
       "oid                                                                  \n",
       "ZTF22aavklii            28.67344    0.748188              0.637173   \n",
       "ZTF22aavjwht           18.827518    0.448959              0.279929   \n",
       "ZTF22aavicyh           -7.059494    0.370979              0.295969   \n",
       "ZTF22aavgzjc            51.11843     0.22963              0.146808   \n",
       "ZTF22aavfgyf          -9.2914775    5.095737              0.385926   \n",
       "ZTF22aaveghe           -2.375778    1.400294              0.576217   \n",
       "ZTF22aavecme           30.266537    2.732855              0.530824   \n",
       "ZTF22aavebae           27.611273    1.219457               0.47243   \n",
       "ZTF22aavdzpf            39.76654    9.747363              1.888651   \n",
       "ZTF22aavdubl           -13.43634    0.826059              0.513955   \n",
       "ZTF22aavdscs           -27.35598    6.352681              1.517278   \n",
       "ZTF22aavdrdz            -9.08417    1.857342                0.2996   \n",
       "ZTF22aavdrbx            -8.42031    6.556706               0.41135   \n",
       "ZTF22aavdcsu           15.822892     0.59715              0.475054   \n",
       "ZTF22aavczfb           30.847599    1.425135              0.953185   \n",
       "ZTF22aavcyir           50.490205    1.436175              0.477623   \n",
       "ZTF22aavcvtr            57.14105    3.688715              1.230132   \n",
       "ZTF22aavcrgy           28.834805    3.058275              0.636012   \n",
       "ZTF22aavclih           18.424329    1.700477              0.500786   \n",
       "ZTF22aavcccu           55.577858    0.264029              0.220492   \n",
       "ZTF22aauxsyt  36.095711111111115    3.352263              0.310758   \n",
       "ZTF22aauxltc           52.602534    2.534611              0.502788   \n",
       "ZTF22aauwylz           23.589371    1.024663              0.482507   \n",
       "ZTF22aauvseh           -12.66061    4.803517               0.81901   \n",
       "ZTF22aauuxul            34.85492    2.193836              0.269608   \n",
       "ZTF22aauuvby            48.89048    5.447045              0.364267   \n",
       "ZTF22aautrcf           24.874731    1.321846               0.36099   \n",
       "ZTF22aautpdb            71.60437    2.371596              0.784226   \n",
       "ZTF22aautntp           63.213621    2.043399                0.7259   \n",
       "ZTF22aautnrr           45.310216    1.265058              0.382179   \n",
       "ZTF22aaunsga            58.85609     1.36989              0.314772   \n",
       "ZTF22aaujkdb           -4.844576    1.773429              0.224119   \n",
       "ZTF22aauhudo  43.263264444444445    0.602711              0.079893   \n",
       "ZTF22aaugvnu             38.0764    1.677029              0.504463   \n",
       "ZTF22aaudjgc           -0.847933    3.700471              0.201355   \n",
       "ZTF22aatymow           31.712319    2.215634              0.372325   \n",
       "ZTF22aatylyb           52.532061    0.862461              0.187453   \n",
       "ZTF22aatxslc            0.558396    0.787259              0.398124   \n",
       "ZTF22aatpwfw           -0.533467    8.968743               0.10698   \n",
       "ZTF18aanabqp           45.303156    1.230081              0.352793   \n",
       "\n",
       "             host_source host_redshift_spec host_redshift host_redshift_error  \\\n",
       "oid                                                                             \n",
       "ZTF22aavklii         NED              False      0.022256                 NaN   \n",
       "ZTF22aavjwht    SDSSDR16              False      0.150257            0.035163   \n",
       "ZTF22aavicyh    SDSSDR16              False      0.143345            0.070323   \n",
       "ZTF22aavgzjc         NED              False           NaN                 NaN   \n",
       "ZTF22aavfgyf      Simbad               True       0.07012             0.00001   \n",
       "ZTF22aaveghe    SDSSDR16              False      0.117027            0.013094   \n",
       "ZTF22aavecme    SDSSDR16              False        0.1266            0.029964   \n",
       "ZTF22aavebae    SDSSDR16              False      0.167596            0.037761   \n",
       "ZTF22aavdzpf         NED              False           NaN                 NaN   \n",
       "ZTF22aavdubl         NED              False           NaN                 NaN   \n",
       "ZTF22aavdscs         NED              False           NaN                 NaN   \n",
       "ZTF22aavdrdz         NED              False           NaN                 NaN   \n",
       "ZTF22aavdrbx         NED              False      0.136686                 NaN   \n",
       "ZTF22aavdcsu    SDSSDR16              False      0.127936            0.043671   \n",
       "ZTF22aavczfb    SDSSDR16              False      0.193229            0.095575   \n",
       "ZTF22aavcyir    SDSSDR16              False      0.105624            0.034998   \n",
       "ZTF22aavcvtr         NED              False           NaN                 NaN   \n",
       "ZTF22aavcrgy    SDSSDR16              False      0.195771            0.037661   \n",
       "ZTF22aavclih    SDSSDR16               True      0.107937            0.000013   \n",
       "ZTF22aavcccu    SDSSDR16              False      0.300539            0.114951   \n",
       "ZTF22aauxsyt      Simbad               True       0.11516             0.00002   \n",
       "ZTF22aauxltc    SDSSDR16              False       0.18792            0.032021   \n",
       "ZTF22aauwylz    SDSSDR16              False      0.152285            0.048373   \n",
       "ZTF22aauvseh         NED              False      0.175839                 NaN   \n",
       "ZTF22aauuxul         NED               True      0.084925                 NaN   \n",
       "ZTF22aauuvby         NED              False           NaN                 NaN   \n",
       "ZTF22aautrcf    SDSSDR16              False      0.156572            0.057523   \n",
       "ZTF22aautpdb         NED              False           NaN                 NaN   \n",
       "ZTF22aautntp    SDSSDR16              False       0.18608            0.083539   \n",
       "ZTF22aautnrr    SDSSDR16              False      0.439006            0.125007   \n",
       "ZTF22aaunsga         NED              False           NaN                 NaN   \n",
       "ZTF22aaujkdb    SDSSDR16              False      0.133148            0.009054   \n",
       "ZTF22aauhudo      Simbad               True       0.11356             0.00014   \n",
       "ZTF22aaugvnu    SDSSDR16              False        0.2027            0.028486   \n",
       "ZTF22aaudjgc    SDSSDR16               True      0.027197            0.000008   \n",
       "ZTF22aatymow    SDSSDR16              False       0.12621             0.03717   \n",
       "ZTF22aatylyb    SDSSDR16              False      0.080097            0.079861   \n",
       "ZTF22aatxslc    SDSSDR16               True      0.087317            0.000027   \n",
       "ZTF22aatpwfw    SDSSDR16               True      0.031092            0.000013   \n",
       "ZTF18aanabqp    SDSSDR16               True      0.098949             0.00001   \n",
       "\n",
       "             host_redshift_type  \n",
       "oid                              \n",
       "ZTF22aavklii               PHOT  \n",
       "ZTF22aavjwht             photoz  \n",
       "ZTF22aavicyh             photoz  \n",
       "ZTF22aavgzjc                NaN  \n",
       "ZTF22aavfgyf                  C  \n",
       "ZTF22aaveghe             photoz  \n",
       "ZTF22aavecme             photoz  \n",
       "ZTF22aavebae             photoz  \n",
       "ZTF22aavdzpf                NaN  \n",
       "ZTF22aavdubl                NaN  \n",
       "ZTF22aavdscs                NaN  \n",
       "ZTF22aavdrdz                NaN  \n",
       "ZTF22aavdrbx               PHOT  \n",
       "ZTF22aavdcsu             photoz  \n",
       "ZTF22aavczfb             photoz  \n",
       "ZTF22aavcyir             photoz  \n",
       "ZTF22aavcvtr                NaN  \n",
       "ZTF22aavcrgy             photoz  \n",
       "ZTF22aavclih              specz  \n",
       "ZTF22aavcccu             photoz  \n",
       "ZTF22aauxsyt                  C  \n",
       "ZTF22aauxltc             photoz  \n",
       "ZTF22aauwylz             photoz  \n",
       "ZTF22aauvseh               PHOT  \n",
       "ZTF22aauuxul               SPEC  \n",
       "ZTF22aauuvby                NaN  \n",
       "ZTF22aautrcf             photoz  \n",
       "ZTF22aautpdb                NaN  \n",
       "ZTF22aautntp             photoz  \n",
       "ZTF22aautnrr             photoz  \n",
       "ZTF22aaunsga                NaN  \n",
       "ZTF22aaujkdb             photoz  \n",
       "ZTF22aauhudo                  C  \n",
       "ZTF22aaugvnu             photoz  \n",
       "ZTF22aaudjgc              specz  \n",
       "ZTF22aatymow             photoz  \n",
       "ZTF22aatylyb             photoz  \n",
       "ZTF22aatxslc              specz  \n",
       "ZTF22aatpwfw              specz  \n",
       "ZTF18aanabqp              specz  "
      ]
     },
     "metadata": {},
     "output_type": "display_data"
    },
    {
     "name": "stdout",
     "output_type": "stream",
     "text": [
      "Saving hosts to hosts/20220723_hosts.csv\n",
      "Saving hosts to hosts/20220723_hosts.csv\n",
      "Saving hosts to hosts/20220723_hosts.csv\n",
      "Saving hosts to hosts/20220723_hosts.csv\n",
      "Saving hosts to hosts/20220723_hosts.csv\n",
      "Saving hosts to hosts/20220723_hosts.csv\n",
      "Saving hosts to hosts/20220723_hosts.csv\n",
      "Saving hosts to hosts/20220723_hosts.csv\n",
      "Saving hosts to hosts/20220723_hosts.csv\n",
      "Saving hosts to hosts/20220723_hosts.csv\n",
      "Saving hosts to hosts/20220723_hosts.csv\n",
      "Saving hosts to hosts/20220723_hosts.csv\n",
      "Saving hosts to hosts/20220723_hosts.csv\n",
      "Saving hosts to hosts/20220723_hosts.csv\n",
      "Saving hosts to hosts/20220723_hosts.csv\n",
      "Saving hosts to hosts/20220723_hosts.csv\n",
      "Saving hosts to hosts/20220723_hosts.csv\n",
      "Saving hosts to hosts/20220723_hosts.csv\n",
      "Saving hosts to hosts/20220723_hosts.csv\n",
      "Saving hosts to hosts/20220723_hosts.csv\n",
      "Saving hosts to hosts/20220723_hosts.csv\n",
      "Saving hosts to hosts/20220723_hosts.csv\n",
      "Saving hosts to hosts/20220723_hosts.csv\n",
      "Saving hosts to hosts/20220723_hosts.csv\n",
      "Saving hosts to hosts/20220723_hosts.csv\n",
      "Saving hosts to hosts/20220723_hosts.csv\n",
      "Saving hosts to hosts/20220723_hosts.csv\n",
      "Saving hosts to hosts/20220723_hosts.csv\n",
      "Saving hosts to hosts/20220723_hosts.csv\n",
      "Saving hosts to hosts/20220723_hosts.csv\n",
      "Saving hosts to hosts/20220723_hosts.csv\n",
      "Saving hosts to hosts/20220723_hosts.csv\n",
      "Saving hosts to hosts/20220723_hosts.csv\n",
      "Saving hosts to hosts/20220723_hosts.csv\n",
      "Saving hosts to hosts/20220723_hosts.csv\n",
      "Saving hosts to hosts/20220723_hosts.csv\n",
      "Saving hosts to hosts/20220723_hosts.csv\n",
      "Saving hosts to hosts/20220723_hosts.csv\n",
      "Saving hosts to hosts/20220723_hosts.csv\n",
      "Saving hosts to hosts/20220723_hosts.csv\n"
     ]
    }
   ],
   "source": [
    "alerce.select_hosts(candidates, refstring, ned=True, simbad=True, catsHTM=False, vizier=False)"
   ]
  },
  {
   "cell_type": "markdown",
   "metadata": {},
   "source": [
    "## Do manual selections for errors"
   ]
  },
  {
   "cell_type": "markdown",
   "metadata": {},
   "source": [
    "Errors could happen because of an error in DELIGHT or because the association favoured a more distant host with redshift."
   ]
  },
  {
   "cell_type": "code",
   "execution_count": 20,
   "metadata": {
    "ExecuteTime": {
     "end_time": "2022-07-24T06:54:07.545276Z",
     "start_time": "2022-07-24T06:54:07.523138Z"
    },
    "scrolled": false
   },
   "outputs": [],
   "source": [
    "errors = []#\"ZTF22aaujkdb\", \"ZTF22aaveghe\"]\n",
    "# confirm if this was a problem with DELIGHT\n",
    "for oid in errors:\n",
    "    dclient.plot_host(oid)\n",
    "# do manual selection\n",
    "if errors != []:\n",
    "    alerce.select_hosts(errors, refstring, ned=True, simbad=True, catsHTM=False, vizier=False, dobestguess=False)"
   ]
  },
  {
   "cell_type": "markdown",
   "metadata": {},
   "source": [
    "## Manual modifications"
   ]
  },
  {
   "cell_type": "code",
   "execution_count": 158,
   "metadata": {
    "ExecuteTime": {
     "end_time": "2022-07-23T23:49:13.938710Z",
     "start_time": "2022-07-23T23:49:13.909255Z"
    }
   },
   "outputs": [],
   "source": [
    "#oid = \"ZTF21acbcfmh\" #ZTF21abidhcz\"\n",
    "##oid = 'ZTF20aclzygy'#ZTF20acgigfo'\n",
    "##oid = \"ZTF20aaqrmxg\" #\"ZTF20aakdppm\" #ZTF19acxrihd\"\n",
    "#oid = 'ZTF22aaajgss' #ZTF21aaryakx' #ZTF20acvbneg'\n",
    "#alerce.candidate_hosts.host_name[oid] = \"M31\"\n",
    "#alerce.candidate_hosts.host_ra[oid] = \"\"\n",
    "#alerce.candidate_hosts.host_dec[oid] = \"\"\n",
    "#alerce.candidate_hosts.host_offset[oid] = \"\"\n",
    "#alerce.candidate_hosts.host_source[oid] = \"CDS\"\n",
    "#alerce.candidate_hosts.host_redshift_spec[oid] = True\n",
    "#alerce.candidate_hosts.host_redshift[oid] = = \"0.001341\"\n",
    "#alerce.candidate_hosts.host_redshift_error[oid] = \"0.000040\"\n",
    "#alerce.candidate_hosts.host_redshift_type[oid] = \"specz\"\n",
    "# #\"nan\" #\"0.041\" #nan\"\n",
    "##for i in list(alerce.candidate_hosts):\n",
    "##    alerce.candidate_hosts.loc['ZTF21aaryakx'][i] = \"NULL\""
   ]
  },
  {
   "cell_type": "markdown",
   "metadata": {},
   "source": [
    "## Save hosts"
   ]
  },
  {
   "cell_type": "code",
   "execution_count": 159,
   "metadata": {
    "ExecuteTime": {
     "end_time": "2022-07-23T23:49:16.025407Z",
     "start_time": "2022-07-23T23:49:15.968027Z"
    }
   },
   "outputs": [
    {
     "data": {
      "text/html": [
       "<div>\n",
       "<style scoped>\n",
       "    .dataframe tbody tr th:only-of-type {\n",
       "        vertical-align: middle;\n",
       "    }\n",
       "\n",
       "    .dataframe tbody tr th {\n",
       "        vertical-align: top;\n",
       "    }\n",
       "\n",
       "    .dataframe thead th {\n",
       "        text-align: right;\n",
       "    }\n",
       "</style>\n",
       "<table border=\"1\" class=\"dataframe\">\n",
       "  <thead>\n",
       "    <tr style=\"text-align: right;\">\n",
       "      <th></th>\n",
       "      <th>host_name</th>\n",
       "      <th>host_ra</th>\n",
       "      <th>host_dec</th>\n",
       "      <th>host_offset</th>\n",
       "      <th>host_source</th>\n",
       "      <th>host_redshift_spec</th>\n",
       "      <th>host_redshift</th>\n",
       "      <th>host_redshift_error</th>\n",
       "      <th>host_redshift_type</th>\n",
       "    </tr>\n",
       "    <tr>\n",
       "      <th>oid</th>\n",
       "      <th></th>\n",
       "      <th></th>\n",
       "      <th></th>\n",
       "      <th></th>\n",
       "      <th></th>\n",
       "      <th></th>\n",
       "      <th></th>\n",
       "      <th></th>\n",
       "      <th></th>\n",
       "    </tr>\n",
       "  </thead>\n",
       "  <tbody>\n",
       "    <tr>\n",
       "      <th>ZTF22aavklii</th>\n",
       "      <td>WISEA J051048.14+284024.4</td>\n",
       "      <td>77.700630</td>\n",
       "      <td>28.673440</td>\n",
       "      <td>0.748188</td>\n",
       "      <td>NED</td>\n",
       "      <td>False</td>\n",
       "      <td>0.022256</td>\n",
       "      <td>NULL</td>\n",
       "      <td>PHOT</td>\n",
       "    </tr>\n",
       "    <tr>\n",
       "      <th>ZTF22aavjwht</th>\n",
       "      <td>SDSS J003701.95+184939.0</td>\n",
       "      <td>9.258119</td>\n",
       "      <td>18.827518</td>\n",
       "      <td>0.448959</td>\n",
       "      <td>SDSSDR16</td>\n",
       "      <td>False</td>\n",
       "      <td>0.150257</td>\n",
       "      <td>0.035163</td>\n",
       "      <td>photoz</td>\n",
       "    </tr>\n",
       "    <tr>\n",
       "      <th>ZTF22aavicyh</th>\n",
       "      <td>SDSS J005310.39-070334.1</td>\n",
       "      <td>13.293302</td>\n",
       "      <td>-7.059494</td>\n",
       "      <td>0.370979</td>\n",
       "      <td>SDSSDR16</td>\n",
       "      <td>False</td>\n",
       "      <td>0.143345</td>\n",
       "      <td>0.070323</td>\n",
       "      <td>photoz</td>\n",
       "    </tr>\n",
       "    <tr>\n",
       "      <th>ZTF22aavgzjc</th>\n",
       "      <td>WISEA J002816.83+510706.3</td>\n",
       "      <td>7.070140</td>\n",
       "      <td>51.118430</td>\n",
       "      <td>0.229630</td>\n",
       "      <td>NED</td>\n",
       "      <td>NULL</td>\n",
       "      <td>NULL</td>\n",
       "      <td>NULL</td>\n",
       "      <td>NULL</td>\n",
       "    </tr>\n",
       "    <tr>\n",
       "      <th>ZTF22aavfgyf</th>\n",
       "      <td>2MASX J22102557-0917296</td>\n",
       "      <td>332.606720</td>\n",
       "      <td>-9.291480</td>\n",
       "      <td>5.157590</td>\n",
       "      <td>NED</td>\n",
       "      <td>True</td>\n",
       "      <td>0.070118</td>\n",
       "      <td>NULL</td>\n",
       "      <td>SPEC</td>\n",
       "    </tr>\n",
       "    <tr>\n",
       "      <th>ZTF22aaveghe</th>\n",
       "      <td>SDSS J211616.28-022232.8</td>\n",
       "      <td>319.067849</td>\n",
       "      <td>-2.375778</td>\n",
       "      <td>1.400294</td>\n",
       "      <td>SDSSDR16</td>\n",
       "      <td>False</td>\n",
       "      <td>0.117027</td>\n",
       "      <td>0.013094</td>\n",
       "      <td>photoz</td>\n",
       "    </tr>\n",
       "    <tr>\n",
       "      <th>ZTF22aavecme</th>\n",
       "      <td>SDSS J232137.80+301559.5</td>\n",
       "      <td>350.407492</td>\n",
       "      <td>30.266537</td>\n",
       "      <td>2.732855</td>\n",
       "      <td>SDSSDR16</td>\n",
       "      <td>False</td>\n",
       "      <td>0.1266</td>\n",
       "      <td>0.029964</td>\n",
       "      <td>photoz</td>\n",
       "    </tr>\n",
       "    <tr>\n",
       "      <th>ZTF22aavebae</th>\n",
       "      <td>SDSS J000034.44+273640.5</td>\n",
       "      <td>0.143508</td>\n",
       "      <td>27.611273</td>\n",
       "      <td>1.219457</td>\n",
       "      <td>SDSSDR16</td>\n",
       "      <td>False</td>\n",
       "      <td>0.167596</td>\n",
       "      <td>0.037761</td>\n",
       "      <td>photoz</td>\n",
       "    </tr>\n",
       "    <tr>\n",
       "      <th>ZTF22aavdzpf</th>\n",
       "      <td>WISEA J224634.04+394557.4</td>\n",
       "      <td>341.641880</td>\n",
       "      <td>39.766540</td>\n",
       "      <td>9.747363</td>\n",
       "      <td>NED</td>\n",
       "      <td>NULL</td>\n",
       "      <td>NULL</td>\n",
       "      <td>NULL</td>\n",
       "      <td>NULL</td>\n",
       "    </tr>\n",
       "    <tr>\n",
       "      <th>ZTF22aavdubl</th>\n",
       "      <td>WISEA J223504.05-132610.8</td>\n",
       "      <td>338.766880</td>\n",
       "      <td>-13.436340</td>\n",
       "      <td>0.826059</td>\n",
       "      <td>NED</td>\n",
       "      <td>NULL</td>\n",
       "      <td>NULL</td>\n",
       "      <td>NULL</td>\n",
       "      <td>NULL</td>\n",
       "    </tr>\n",
       "    <tr>\n",
       "      <th>ZTF22aavdscs</th>\n",
       "      <td>WISEA J200134.36-272122.0</td>\n",
       "      <td>300.393230</td>\n",
       "      <td>-27.355980</td>\n",
       "      <td>6.352681</td>\n",
       "      <td>NED</td>\n",
       "      <td>NULL</td>\n",
       "      <td>NULL</td>\n",
       "      <td>NULL</td>\n",
       "      <td>NULL</td>\n",
       "    </tr>\n",
       "    <tr>\n",
       "      <th>ZTF22aavdrdz</th>\n",
       "      <td>WISEA J203754.23-090502.9</td>\n",
       "      <td>309.475950</td>\n",
       "      <td>-9.084170</td>\n",
       "      <td>1.857342</td>\n",
       "      <td>NED</td>\n",
       "      <td>NULL</td>\n",
       "      <td>NULL</td>\n",
       "      <td>NULL</td>\n",
       "      <td>NULL</td>\n",
       "    </tr>\n",
       "    <tr>\n",
       "      <th>ZTF22aavdrbx</th>\n",
       "      <td>WISEA J202718.04-082513.2</td>\n",
       "      <td>306.825170</td>\n",
       "      <td>-8.420310</td>\n",
       "      <td>6.556706</td>\n",
       "      <td>NED</td>\n",
       "      <td>False</td>\n",
       "      <td>0.136686</td>\n",
       "      <td>NULL</td>\n",
       "      <td>PHOT</td>\n",
       "    </tr>\n",
       "    <tr>\n",
       "      <th>ZTF22aavdcsu</th>\n",
       "      <td>SDSS J162835.11+154922.4</td>\n",
       "      <td>247.146282</td>\n",
       "      <td>15.822892</td>\n",
       "      <td>0.597150</td>\n",
       "      <td>SDSSDR16</td>\n",
       "      <td>False</td>\n",
       "      <td>0.127936</td>\n",
       "      <td>0.043671</td>\n",
       "      <td>photoz</td>\n",
       "    </tr>\n",
       "    <tr>\n",
       "      <th>ZTF22aavczfb</th>\n",
       "      <td>SDSS J164706.81+305051.3</td>\n",
       "      <td>251.778364</td>\n",
       "      <td>30.847599</td>\n",
       "      <td>1.425135</td>\n",
       "      <td>SDSSDR16</td>\n",
       "      <td>False</td>\n",
       "      <td>0.193229</td>\n",
       "      <td>0.095575</td>\n",
       "      <td>photoz</td>\n",
       "    </tr>\n",
       "    <tr>\n",
       "      <th>ZTF22aavcyir</th>\n",
       "      <td>SDSS J164401.31+502924.7</td>\n",
       "      <td>251.005461</td>\n",
       "      <td>50.490205</td>\n",
       "      <td>1.436175</td>\n",
       "      <td>SDSSDR16</td>\n",
       "      <td>False</td>\n",
       "      <td>0.105624</td>\n",
       "      <td>0.034998</td>\n",
       "      <td>photoz</td>\n",
       "    </tr>\n",
       "    <tr>\n",
       "      <th>ZTF22aavcvtr</th>\n",
       "      <td>WISEA J180817.99+570827.7</td>\n",
       "      <td>272.074970</td>\n",
       "      <td>57.141050</td>\n",
       "      <td>3.688715</td>\n",
       "      <td>NED</td>\n",
       "      <td>NULL</td>\n",
       "      <td>NULL</td>\n",
       "      <td>NULL</td>\n",
       "      <td>NULL</td>\n",
       "    </tr>\n",
       "    <tr>\n",
       "      <th>ZTF22aavcrgy</th>\n",
       "      <td>SDSS J160702.13+285005.3</td>\n",
       "      <td>241.758894</td>\n",
       "      <td>28.834805</td>\n",
       "      <td>3.058275</td>\n",
       "      <td>SDSSDR16</td>\n",
       "      <td>False</td>\n",
       "      <td>0.195771</td>\n",
       "      <td>0.037661</td>\n",
       "      <td>photoz</td>\n",
       "    </tr>\n",
       "    <tr>\n",
       "      <th>ZTF22aavclih</th>\n",
       "      <td>SDSS J151111.22+182527.5</td>\n",
       "      <td>227.796743</td>\n",
       "      <td>18.424329</td>\n",
       "      <td>1.700477</td>\n",
       "      <td>SDSSDR16</td>\n",
       "      <td>True</td>\n",
       "      <td>0.107937</td>\n",
       "      <td>0.000013</td>\n",
       "      <td>specz</td>\n",
       "    </tr>\n",
       "    <tr>\n",
       "      <th>ZTF22aavcccu</th>\n",
       "      <td>SDSS J162145.52+553440.2</td>\n",
       "      <td>245.439660</td>\n",
       "      <td>55.577858</td>\n",
       "      <td>0.264029</td>\n",
       "      <td>SDSSDR16</td>\n",
       "      <td>False</td>\n",
       "      <td>0.300539</td>\n",
       "      <td>0.114951</td>\n",
       "      <td>photoz</td>\n",
       "    </tr>\n",
       "    <tr>\n",
       "      <th>ZTF22aauxsyt</th>\n",
       "      <td>WISEA J164857.43+360544.7</td>\n",
       "      <td>252.239310</td>\n",
       "      <td>36.095720</td>\n",
       "      <td>3.369384</td>\n",
       "      <td>NED</td>\n",
       "      <td>True</td>\n",
       "      <td>0.115161</td>\n",
       "      <td>NULL</td>\n",
       "      <td>SPEC</td>\n",
       "    </tr>\n",
       "    <tr>\n",
       "      <th>ZTF22aauxltc</th>\n",
       "      <td>SDSS J153316.38+523609.1</td>\n",
       "      <td>233.318253</td>\n",
       "      <td>52.602534</td>\n",
       "      <td>2.534611</td>\n",
       "      <td>SDSSDR16</td>\n",
       "      <td>False</td>\n",
       "      <td>0.18792</td>\n",
       "      <td>0.032021</td>\n",
       "      <td>photoz</td>\n",
       "    </tr>\n",
       "    <tr>\n",
       "      <th>ZTF22aauwylz</th>\n",
       "      <td>SDSS J145100.60+233521.7</td>\n",
       "      <td>222.752494</td>\n",
       "      <td>23.589371</td>\n",
       "      <td>1.024663</td>\n",
       "      <td>SDSSDR16</td>\n",
       "      <td>False</td>\n",
       "      <td>0.152285</td>\n",
       "      <td>0.048373</td>\n",
       "      <td>photoz</td>\n",
       "    </tr>\n",
       "    <tr>\n",
       "      <th>ZTF22aauvseh</th>\n",
       "      <td>WISEA J203136.33-123937.2</td>\n",
       "      <td>307.901460</td>\n",
       "      <td>-12.660610</td>\n",
       "      <td>4.803517</td>\n",
       "      <td>NED</td>\n",
       "      <td>False</td>\n",
       "      <td>0.175839</td>\n",
       "      <td>NULL</td>\n",
       "      <td>PHOT</td>\n",
       "    </tr>\n",
       "    <tr>\n",
       "      <th>ZTF22aauuxul</th>\n",
       "      <td>WISEA J153930.60+345117.1</td>\n",
       "      <td>234.877570</td>\n",
       "      <td>34.854920</td>\n",
       "      <td>2.193836</td>\n",
       "      <td>NED</td>\n",
       "      <td>True</td>\n",
       "      <td>0.084925</td>\n",
       "      <td>NULL</td>\n",
       "      <td>SPEC</td>\n",
       "    </tr>\n",
       "    <tr>\n",
       "      <th>ZTF22aauuvby</th>\n",
       "      <td>WISEA J172031.51+485326.0</td>\n",
       "      <td>260.131210</td>\n",
       "      <td>48.890480</td>\n",
       "      <td>5.447045</td>\n",
       "      <td>NED</td>\n",
       "      <td>NULL</td>\n",
       "      <td>NULL</td>\n",
       "      <td>NULL</td>\n",
       "      <td>NULL</td>\n",
       "    </tr>\n",
       "    <tr>\n",
       "      <th>ZTF22aautrcf</th>\n",
       "      <td>SDSS J163823.66+245229.0</td>\n",
       "      <td>249.598592</td>\n",
       "      <td>24.874731</td>\n",
       "      <td>1.321846</td>\n",
       "      <td>SDSSDR16</td>\n",
       "      <td>False</td>\n",
       "      <td>0.156572</td>\n",
       "      <td>0.057523</td>\n",
       "      <td>photoz</td>\n",
       "    </tr>\n",
       "    <tr>\n",
       "      <th>ZTF22aautpdb</th>\n",
       "      <td>WISEA J134949.97+713616.1</td>\n",
       "      <td>207.458090</td>\n",
       "      <td>71.604370</td>\n",
       "      <td>2.371596</td>\n",
       "      <td>NED</td>\n",
       "      <td>NULL</td>\n",
       "      <td>NULL</td>\n",
       "      <td>NULL</td>\n",
       "      <td>NULL</td>\n",
       "    </tr>\n",
       "    <tr>\n",
       "      <th>ZTF22aautntp</th>\n",
       "      <td>SDSS J145913.50+631249.0</td>\n",
       "      <td>224.806248</td>\n",
       "      <td>63.213621</td>\n",
       "      <td>2.043399</td>\n",
       "      <td>SDSSDR16</td>\n",
       "      <td>False</td>\n",
       "      <td>0.18608</td>\n",
       "      <td>0.083539</td>\n",
       "      <td>photoz</td>\n",
       "    </tr>\n",
       "    <tr>\n",
       "      <th>ZTF22aautnrr</th>\n",
       "      <td>SDSS J144017.49+451836.7</td>\n",
       "      <td>220.072879</td>\n",
       "      <td>45.310216</td>\n",
       "      <td>1.265058</td>\n",
       "      <td>SDSSDR16</td>\n",
       "      <td>False</td>\n",
       "      <td>0.439006</td>\n",
       "      <td>0.125007</td>\n",
       "      <td>photoz</td>\n",
       "    </tr>\n",
       "    <tr>\n",
       "      <th>ZTF22aaunsga</th>\n",
       "      <td>WISEA J195059.71+585122.0</td>\n",
       "      <td>297.748730</td>\n",
       "      <td>58.856090</td>\n",
       "      <td>1.369890</td>\n",
       "      <td>NED</td>\n",
       "      <td>NULL</td>\n",
       "      <td>NULL</td>\n",
       "      <td>NULL</td>\n",
       "      <td>NULL</td>\n",
       "    </tr>\n",
       "    <tr>\n",
       "      <th>ZTF22aaujkdb</th>\n",
       "      <td>SDSS J212447.84-045040.4</td>\n",
       "      <td>321.199327</td>\n",
       "      <td>-4.844576</td>\n",
       "      <td>1.773429</td>\n",
       "      <td>SDSSDR16</td>\n",
       "      <td>False</td>\n",
       "      <td>0.133148</td>\n",
       "      <td>0.009054</td>\n",
       "      <td>photoz</td>\n",
       "    </tr>\n",
       "    <tr>\n",
       "      <th>ZTF22aauhudo</th>\n",
       "      <td>SDSS J165309.74+431547.7</td>\n",
       "      <td>253.290584</td>\n",
       "      <td>43.263263</td>\n",
       "      <td>0.617547</td>\n",
       "      <td>SDSSDR16</td>\n",
       "      <td>True</td>\n",
       "      <td>0.113452</td>\n",
       "      <td>0.000025</td>\n",
       "      <td>specz</td>\n",
       "    </tr>\n",
       "    <tr>\n",
       "      <th>ZTF22aaugvnu</th>\n",
       "      <td>SDSS J165900.93+380435.0</td>\n",
       "      <td>254.753875</td>\n",
       "      <td>38.076400</td>\n",
       "      <td>1.677029</td>\n",
       "      <td>SDSSDR16</td>\n",
       "      <td>False</td>\n",
       "      <td>0.2027</td>\n",
       "      <td>0.028486</td>\n",
       "      <td>photoz</td>\n",
       "    </tr>\n",
       "    <tr>\n",
       "      <th>ZTF22aaudjgc</th>\n",
       "      <td>SDSS J215050.94-005052.5</td>\n",
       "      <td>327.712230</td>\n",
       "      <td>-0.847933</td>\n",
       "      <td>3.700471</td>\n",
       "      <td>SDSSDR16</td>\n",
       "      <td>True</td>\n",
       "      <td>0.027197</td>\n",
       "      <td>0.000008</td>\n",
       "      <td>specz</td>\n",
       "    </tr>\n",
       "    <tr>\n",
       "      <th>ZTF22aatymow</th>\n",
       "      <td>SDSS J165038.39+314244.3</td>\n",
       "      <td>252.659958</td>\n",
       "      <td>31.712319</td>\n",
       "      <td>2.215634</td>\n",
       "      <td>SDSSDR16</td>\n",
       "      <td>False</td>\n",
       "      <td>0.12621</td>\n",
       "      <td>0.03717</td>\n",
       "      <td>photoz</td>\n",
       "    </tr>\n",
       "    <tr>\n",
       "      <th>ZTF22aatylyb</th>\n",
       "      <td>SDSS J151837.27+523155.4</td>\n",
       "      <td>229.655296</td>\n",
       "      <td>52.532061</td>\n",
       "      <td>0.862461</td>\n",
       "      <td>SDSSDR16</td>\n",
       "      <td>False</td>\n",
       "      <td>0.080097</td>\n",
       "      <td>0.079861</td>\n",
       "      <td>photoz</td>\n",
       "    </tr>\n",
       "    <tr>\n",
       "      <th>ZTF22aatxslc</th>\n",
       "      <td>SDSS J150953.06+003330.2</td>\n",
       "      <td>227.471084</td>\n",
       "      <td>0.558396</td>\n",
       "      <td>0.787259</td>\n",
       "      <td>SDSSDR16</td>\n",
       "      <td>True</td>\n",
       "      <td>0.087317</td>\n",
       "      <td>0.000027</td>\n",
       "      <td>specz</td>\n",
       "    </tr>\n",
       "    <tr>\n",
       "      <th>ZTF22aatpwfw</th>\n",
       "      <td>SDSS J220527.01-003200.4</td>\n",
       "      <td>331.362548</td>\n",
       "      <td>-0.533467</td>\n",
       "      <td>8.968743</td>\n",
       "      <td>SDSSDR16</td>\n",
       "      <td>True</td>\n",
       "      <td>0.031092</td>\n",
       "      <td>0.000013</td>\n",
       "      <td>specz</td>\n",
       "    </tr>\n",
       "    <tr>\n",
       "      <th>ZTF18aanabqp</th>\n",
       "      <td>SDSS J152003.79+451811.3</td>\n",
       "      <td>230.015804</td>\n",
       "      <td>45.303156</td>\n",
       "      <td>1.230081</td>\n",
       "      <td>SDSSDR16</td>\n",
       "      <td>True</td>\n",
       "      <td>0.098949</td>\n",
       "      <td>0.00001</td>\n",
       "      <td>specz</td>\n",
       "    </tr>\n",
       "  </tbody>\n",
       "</table>\n",
       "</div>"
      ],
      "text/plain": [
       "                              host_name     host_ra   host_dec  host_offset  \\\n",
       "oid                                                                           \n",
       "ZTF22aavklii  WISEA J051048.14+284024.4   77.700630  28.673440     0.748188   \n",
       "ZTF22aavjwht   SDSS J003701.95+184939.0    9.258119  18.827518     0.448959   \n",
       "ZTF22aavicyh   SDSS J005310.39-070334.1   13.293302  -7.059494     0.370979   \n",
       "ZTF22aavgzjc  WISEA J002816.83+510706.3    7.070140  51.118430     0.229630   \n",
       "ZTF22aavfgyf    2MASX J22102557-0917296  332.606720  -9.291480     5.157590   \n",
       "ZTF22aaveghe   SDSS J211616.28-022232.8  319.067849  -2.375778     1.400294   \n",
       "ZTF22aavecme   SDSS J232137.80+301559.5  350.407492  30.266537     2.732855   \n",
       "ZTF22aavebae   SDSS J000034.44+273640.5    0.143508  27.611273     1.219457   \n",
       "ZTF22aavdzpf  WISEA J224634.04+394557.4  341.641880  39.766540     9.747363   \n",
       "ZTF22aavdubl  WISEA J223504.05-132610.8  338.766880 -13.436340     0.826059   \n",
       "ZTF22aavdscs  WISEA J200134.36-272122.0  300.393230 -27.355980     6.352681   \n",
       "ZTF22aavdrdz  WISEA J203754.23-090502.9  309.475950  -9.084170     1.857342   \n",
       "ZTF22aavdrbx  WISEA J202718.04-082513.2  306.825170  -8.420310     6.556706   \n",
       "ZTF22aavdcsu   SDSS J162835.11+154922.4  247.146282  15.822892     0.597150   \n",
       "ZTF22aavczfb   SDSS J164706.81+305051.3  251.778364  30.847599     1.425135   \n",
       "ZTF22aavcyir   SDSS J164401.31+502924.7  251.005461  50.490205     1.436175   \n",
       "ZTF22aavcvtr  WISEA J180817.99+570827.7  272.074970  57.141050     3.688715   \n",
       "ZTF22aavcrgy   SDSS J160702.13+285005.3  241.758894  28.834805     3.058275   \n",
       "ZTF22aavclih   SDSS J151111.22+182527.5  227.796743  18.424329     1.700477   \n",
       "ZTF22aavcccu   SDSS J162145.52+553440.2  245.439660  55.577858     0.264029   \n",
       "ZTF22aauxsyt  WISEA J164857.43+360544.7  252.239310  36.095720     3.369384   \n",
       "ZTF22aauxltc   SDSS J153316.38+523609.1  233.318253  52.602534     2.534611   \n",
       "ZTF22aauwylz   SDSS J145100.60+233521.7  222.752494  23.589371     1.024663   \n",
       "ZTF22aauvseh  WISEA J203136.33-123937.2  307.901460 -12.660610     4.803517   \n",
       "ZTF22aauuxul  WISEA J153930.60+345117.1  234.877570  34.854920     2.193836   \n",
       "ZTF22aauuvby  WISEA J172031.51+485326.0  260.131210  48.890480     5.447045   \n",
       "ZTF22aautrcf   SDSS J163823.66+245229.0  249.598592  24.874731     1.321846   \n",
       "ZTF22aautpdb  WISEA J134949.97+713616.1  207.458090  71.604370     2.371596   \n",
       "ZTF22aautntp   SDSS J145913.50+631249.0  224.806248  63.213621     2.043399   \n",
       "ZTF22aautnrr   SDSS J144017.49+451836.7  220.072879  45.310216     1.265058   \n",
       "ZTF22aaunsga  WISEA J195059.71+585122.0  297.748730  58.856090     1.369890   \n",
       "ZTF22aaujkdb   SDSS J212447.84-045040.4  321.199327  -4.844576     1.773429   \n",
       "ZTF22aauhudo   SDSS J165309.74+431547.7  253.290584  43.263263     0.617547   \n",
       "ZTF22aaugvnu   SDSS J165900.93+380435.0  254.753875  38.076400     1.677029   \n",
       "ZTF22aaudjgc   SDSS J215050.94-005052.5  327.712230  -0.847933     3.700471   \n",
       "ZTF22aatymow   SDSS J165038.39+314244.3  252.659958  31.712319     2.215634   \n",
       "ZTF22aatylyb   SDSS J151837.27+523155.4  229.655296  52.532061     0.862461   \n",
       "ZTF22aatxslc   SDSS J150953.06+003330.2  227.471084   0.558396     0.787259   \n",
       "ZTF22aatpwfw   SDSS J220527.01-003200.4  331.362548  -0.533467     8.968743   \n",
       "ZTF18aanabqp   SDSS J152003.79+451811.3  230.015804  45.303156     1.230081   \n",
       "\n",
       "             host_source host_redshift_spec host_redshift host_redshift_error  \\\n",
       "oid                                                                             \n",
       "ZTF22aavklii         NED              False      0.022256                NULL   \n",
       "ZTF22aavjwht    SDSSDR16              False      0.150257            0.035163   \n",
       "ZTF22aavicyh    SDSSDR16              False      0.143345            0.070323   \n",
       "ZTF22aavgzjc         NED               NULL          NULL                NULL   \n",
       "ZTF22aavfgyf         NED               True      0.070118                NULL   \n",
       "ZTF22aaveghe    SDSSDR16              False      0.117027            0.013094   \n",
       "ZTF22aavecme    SDSSDR16              False        0.1266            0.029964   \n",
       "ZTF22aavebae    SDSSDR16              False      0.167596            0.037761   \n",
       "ZTF22aavdzpf         NED               NULL          NULL                NULL   \n",
       "ZTF22aavdubl         NED               NULL          NULL                NULL   \n",
       "ZTF22aavdscs         NED               NULL          NULL                NULL   \n",
       "ZTF22aavdrdz         NED               NULL          NULL                NULL   \n",
       "ZTF22aavdrbx         NED              False      0.136686                NULL   \n",
       "ZTF22aavdcsu    SDSSDR16              False      0.127936            0.043671   \n",
       "ZTF22aavczfb    SDSSDR16              False      0.193229            0.095575   \n",
       "ZTF22aavcyir    SDSSDR16              False      0.105624            0.034998   \n",
       "ZTF22aavcvtr         NED               NULL          NULL                NULL   \n",
       "ZTF22aavcrgy    SDSSDR16              False      0.195771            0.037661   \n",
       "ZTF22aavclih    SDSSDR16               True      0.107937            0.000013   \n",
       "ZTF22aavcccu    SDSSDR16              False      0.300539            0.114951   \n",
       "ZTF22aauxsyt         NED               True      0.115161                NULL   \n",
       "ZTF22aauxltc    SDSSDR16              False       0.18792            0.032021   \n",
       "ZTF22aauwylz    SDSSDR16              False      0.152285            0.048373   \n",
       "ZTF22aauvseh         NED              False      0.175839                NULL   \n",
       "ZTF22aauuxul         NED               True      0.084925                NULL   \n",
       "ZTF22aauuvby         NED               NULL          NULL                NULL   \n",
       "ZTF22aautrcf    SDSSDR16              False      0.156572            0.057523   \n",
       "ZTF22aautpdb         NED               NULL          NULL                NULL   \n",
       "ZTF22aautntp    SDSSDR16              False       0.18608            0.083539   \n",
       "ZTF22aautnrr    SDSSDR16              False      0.439006            0.125007   \n",
       "ZTF22aaunsga         NED               NULL          NULL                NULL   \n",
       "ZTF22aaujkdb    SDSSDR16              False      0.133148            0.009054   \n",
       "ZTF22aauhudo    SDSSDR16               True      0.113452            0.000025   \n",
       "ZTF22aaugvnu    SDSSDR16              False        0.2027            0.028486   \n",
       "ZTF22aaudjgc    SDSSDR16               True      0.027197            0.000008   \n",
       "ZTF22aatymow    SDSSDR16              False       0.12621             0.03717   \n",
       "ZTF22aatylyb    SDSSDR16              False      0.080097            0.079861   \n",
       "ZTF22aatxslc    SDSSDR16               True      0.087317            0.000027   \n",
       "ZTF22aatpwfw    SDSSDR16               True      0.031092            0.000013   \n",
       "ZTF18aanabqp    SDSSDR16               True      0.098949             0.00001   \n",
       "\n",
       "             host_redshift_type  \n",
       "oid                              \n",
       "ZTF22aavklii               PHOT  \n",
       "ZTF22aavjwht             photoz  \n",
       "ZTF22aavicyh             photoz  \n",
       "ZTF22aavgzjc               NULL  \n",
       "ZTF22aavfgyf               SPEC  \n",
       "ZTF22aaveghe             photoz  \n",
       "ZTF22aavecme             photoz  \n",
       "ZTF22aavebae             photoz  \n",
       "ZTF22aavdzpf               NULL  \n",
       "ZTF22aavdubl               NULL  \n",
       "ZTF22aavdscs               NULL  \n",
       "ZTF22aavdrdz               NULL  \n",
       "ZTF22aavdrbx               PHOT  \n",
       "ZTF22aavdcsu             photoz  \n",
       "ZTF22aavczfb             photoz  \n",
       "ZTF22aavcyir             photoz  \n",
       "ZTF22aavcvtr               NULL  \n",
       "ZTF22aavcrgy             photoz  \n",
       "ZTF22aavclih              specz  \n",
       "ZTF22aavcccu             photoz  \n",
       "ZTF22aauxsyt               SPEC  \n",
       "ZTF22aauxltc             photoz  \n",
       "ZTF22aauwylz             photoz  \n",
       "ZTF22aauvseh               PHOT  \n",
       "ZTF22aauuxul               SPEC  \n",
       "ZTF22aauuvby               NULL  \n",
       "ZTF22aautrcf             photoz  \n",
       "ZTF22aautpdb               NULL  \n",
       "ZTF22aautntp             photoz  \n",
       "ZTF22aautnrr             photoz  \n",
       "ZTF22aaunsga               NULL  \n",
       "ZTF22aaujkdb             photoz  \n",
       "ZTF22aauhudo              specz  \n",
       "ZTF22aaugvnu             photoz  \n",
       "ZTF22aaudjgc              specz  \n",
       "ZTF22aatymow             photoz  \n",
       "ZTF22aatylyb             photoz  \n",
       "ZTF22aatxslc              specz  \n",
       "ZTF22aatpwfw              specz  \n",
       "ZTF18aanabqp              specz  "
      ]
     },
     "execution_count": 159,
     "metadata": {},
     "output_type": "execute_result"
    }
   ],
   "source": [
    "alerce.candidate_hosts.to_csv(\"hosts/%s_hosts.csv\" % refstring)\n",
    "alerce.candidate_hosts.head(100)"
   ]
  },
  {
   "cell_type": "markdown",
   "metadata": {},
   "source": [
    "## Show nearest sources (z < 0.01)"
   ]
  },
  {
   "cell_type": "code",
   "execution_count": 160,
   "metadata": {
    "ExecuteTime": {
     "end_time": "2022-07-23T23:49:17.638186Z",
     "start_time": "2022-07-23T23:49:17.594973Z"
    }
   },
   "outputs": [
    {
     "name": "stdout",
     "output_type": "stream",
     "text": [
      "https://alerce.online/object/ZTF22aavklii 0.022256\n",
      "https://alerce.online/object/ZTF22aaudjgc 0.02719698\n",
      "https://alerce.online/object/ZTF22aatpwfw 0.03109159\n",
      "https://alerce.online/object/ZTF22aavfgyf 0.070118\n",
      "https://alerce.online/object/ZTF22aatylyb 0.080097\n",
      "https://alerce.online/object/ZTF22aauuxul 0.084925\n",
      "https://alerce.online/object/ZTF22aatxslc 0.0873167\n",
      "https://alerce.online/object/ZTF18aanabqp 0.09894894\n"
     ]
    }
   ],
   "source": [
    "zth = 0.1\n",
    "nearest = pd.to_numeric(alerce.candidate_hosts.loc[alerce.candidate_hosts.host_redshift != \"NULL\"].host_redshift).sort_values()\n",
    "nearest = nearest.loc[nearest < zth]\n",
    "for i in [\"https://alerce.online/object/%s %s\" % (i, alerce.candidate_hosts.host_redshift.loc[i]) for i in nearest.index]:\n",
    "    print(i)"
   ]
  },
  {
   "cell_type": "markdown",
   "metadata": {},
   "source": [
    "# Prepare TNS report"
   ]
  },
  {
   "cell_type": "markdown",
   "metadata": {},
   "source": [
    "## Sandbox or real"
   ]
  },
  {
   "cell_type": "code",
   "execution_count": 161,
   "metadata": {
    "ExecuteTime": {
     "end_time": "2022-07-23T23:49:19.643122Z",
     "start_time": "2022-07-23T23:49:19.606604Z"
    }
   },
   "outputs": [],
   "source": [
    "sandbox = False #False # True: test in sandbox, False: send to real website"
   ]
  },
  {
   "cell_type": "markdown",
   "metadata": {},
   "source": [
    "## Get API key and url"
   ]
  },
  {
   "cell_type": "code",
   "execution_count": 162,
   "metadata": {
    "ExecuteTime": {
     "end_time": "2022-07-23T23:49:21.494741Z",
     "start_time": "2022-07-23T23:49:21.457040Z"
    },
    "scrolled": true
   },
   "outputs": [
    {
     "name": "stdout",
     "output_type": "stream",
     "text": [
      "Getting API key...\n",
      "WARNING: submitting to real (not sandbox) TNS website\n"
     ]
    }
   ],
   "source": [
    "if sandbox:\n",
    "    print(\"Getting API sandbox key...\")\n",
    "    api_key = open(\"API_sandbox.key\", \"r\").read()\n",
    "    api_key = open(\"API.key\", \"r\").read() # sandbox key appears not to be working\n",
    "else:\n",
    "    print(\"Getting API key...\")\n",
    "    api_key = open(\"API.key\", \"r\").read()\n",
    "    \n",
    "if sandbox:\n",
    "    url_tns_api = \"https://sandbox.wis-tns.org/api\" #\"https://www.wis-tns.org/\" #\"https://sandbox-tns.weizmann.ac.il/api\"\n",
    "else:\n",
    "    url_tns_api = \"https://www.wis-tns.org/api\" #\"https://wis-tns.weizmann.ac.il/api\" #\"https://www.wis-tns.org/\" #\"https://wis-tns.weizmann.ac.il/api\"\n",
    "    \n",
    "if not sandbox:\n",
    "    print(\"WARNING: submitting to real (not sandbox) TNS website\")"
   ]
  },
  {
   "cell_type": "markdown",
   "metadata": {},
   "source": [
    "## Confirm reporter names\n",
    "\n",
    "This is also used for Skyportal"
   ]
  },
  {
   "cell_type": "code",
   "execution_count": 163,
   "metadata": {
    "ExecuteTime": {
     "end_time": "2022-07-23T23:49:35.194046Z",
     "start_time": "2022-07-23T23:49:35.145188Z"
    }
   },
   "outputs": [],
   "source": [
    "reporter = \"F. Forster, F.E. Bauer, G. Pignata, A. Munoz-Arancibia, A. Mourao, R. Dastidar, L. Hernandez-Garcia, L. Galbany, E. Camacho, J. Silva-Farfan, J. Arredondo, G. Cabrera-Vives, R. Carrasco-Davis, P.A. Estevez, P. Huijse, E. Reyes, I. Reyes, P. Sanchez-Saez, C. Valenzuela, E. Castillo, D. Ruz-Mieres, D. Rodriguez-Mancini, M. Catelan, S. Eyheramendy, M.J. Graham on behalf of the ALeRCE broker\"\n",
    "#F. Forster, F.E. Bauer, A. Munoz-Arancibia, G. Pignata, L. Hernandez-Garcia, L. Galbany, E. Camacho, J. Silva-Farfan, A. Mourao, J. Arredondo, G. Cabrera-Vives, R. Carrasco-Davis, P.A. Estevez, P. Huijse, E. Reyes, I. Reyes, P. Sanchez-Saez, C. Valenzuela, E. Castillo, D. Ruz-Mieres, D. Rodriguez-Mancini, M. Catelan, S. Eyheramendy, M.J. Graham on behalf of the ALeRCE broker\""
   ]
  },
  {
   "cell_type": "markdown",
   "metadata": {},
   "source": [
    "## Build the report"
   ]
  },
  {
   "cell_type": "code",
   "execution_count": 164,
   "metadata": {
    "ExecuteTime": {
     "end_time": "2022-07-23T23:54:00.730825Z",
     "start_time": "2022-07-23T23:49:36.264707Z"
    },
    "scrolled": false
   },
   "outputs": [
    {
     "name": "stdout",
     "output_type": "stream",
     "text": [
      "\n",
      " 0 ZTF22aavklii\n",
      "http://alerce.online/object/ZTF22aavklii\n"
     ]
    },
    {
     "data": {
      "text/html": [
       "\n",
       "        <div>ZTF oid: ZTF22aavklii, candid: 2029487145515015002</div>\n",
       "        <div>&emsp;&emsp;&emsp;&emsp;&emsp;\n",
       "        Science\n",
       "        &emsp;&emsp;&emsp;&emsp;&emsp;&emsp;&emsp;&emsp;&emsp;&emsp;&emsp;&emsp;\n",
       "        Template\n",
       "        &emsp;&emsp;&emsp;&emsp;&emsp;&emsp;&emsp;&emsp;&emsp;&emsp;&emsp;&emsp;\n",
       "        Difference\n",
       "        <div class=\"container\">\n",
       "        <div style=\"float:left;width:20%\"><img src=\"https://avro.alerce.online/get_stamp?oid=ZTF22aavklii&candid=2029487145515015002&type=science&format=png\"></div>\n",
       "        <div style=\"float:left;width:20%\"><img src=\"https://avro.alerce.online/get_stamp?oid=ZTF22aavklii&candid=2029487145515015002&type=template&format=png\"></div>\n",
       "        <div style=\"float:left;width:20%\"><img src=\"https://avro.alerce.online/get_stamp?oid=ZTF22aavklii&candid=2029487145515015002&type=difference&format=png\"></div>\n",
       "        </div>\n",
       "        "
      ],
      "text/plain": [
       "<IPython.core.display.HTML object>"
      ]
     },
     "metadata": {},
     "output_type": "display_data"
    },
    {
     "name": "stdout",
     "output_type": "stream",
     "text": [
      "SN candidate classified using ALeRCE's stamp classifier (Carrasco-Davis et al. 2021) and the public ZTF stream. Discovery image and light curve in http://alerce.online/object/ZTF22aavklii \n",
      "\n",
      " 1 ZTF22aavjwht\n",
      "http://alerce.online/object/ZTF22aavjwht\n"
     ]
    },
    {
     "data": {
      "text/html": [
       "\n",
       "        <div>ZTF oid: ZTF22aavjwht, candid: 2029468202115015001</div>\n",
       "        <div>&emsp;&emsp;&emsp;&emsp;&emsp;\n",
       "        Science\n",
       "        &emsp;&emsp;&emsp;&emsp;&emsp;&emsp;&emsp;&emsp;&emsp;&emsp;&emsp;&emsp;\n",
       "        Template\n",
       "        &emsp;&emsp;&emsp;&emsp;&emsp;&emsp;&emsp;&emsp;&emsp;&emsp;&emsp;&emsp;\n",
       "        Difference\n",
       "        <div class=\"container\">\n",
       "        <div style=\"float:left;width:20%\"><img src=\"https://avro.alerce.online/get_stamp?oid=ZTF22aavjwht&candid=2029468202115015001&type=science&format=png\"></div>\n",
       "        <div style=\"float:left;width:20%\"><img src=\"https://avro.alerce.online/get_stamp?oid=ZTF22aavjwht&candid=2029468202115015001&type=template&format=png\"></div>\n",
       "        <div style=\"float:left;width:20%\"><img src=\"https://avro.alerce.online/get_stamp?oid=ZTF22aavjwht&candid=2029468202115015001&type=difference&format=png\"></div>\n",
       "        </div>\n",
       "        "
      ],
      "text/plain": [
       "<IPython.core.display.HTML object>"
      ]
     },
     "metadata": {},
     "output_type": "display_data"
    },
    {
     "name": "stdout",
     "output_type": "stream",
     "text": [
      "SN candidate classified using ALeRCE's stamp classifier (Carrasco-Davis et al. 2021) and the public ZTF stream. Discovery image and light curve in http://alerce.online/object/ZTF22aavjwht \n",
      "\n",
      " 2 ZTF22aavicyh\n",
      "http://alerce.online/object/ZTF22aavicyh\n"
     ]
    },
    {
     "data": {
      "text/html": [
       "\n",
       "        <div>ZTF oid: ZTF22aavicyh, candid: 2029422855515015001</div>\n",
       "        <div>&emsp;&emsp;&emsp;&emsp;&emsp;\n",
       "        Science\n",
       "        &emsp;&emsp;&emsp;&emsp;&emsp;&emsp;&emsp;&emsp;&emsp;&emsp;&emsp;&emsp;\n",
       "        Template\n",
       "        &emsp;&emsp;&emsp;&emsp;&emsp;&emsp;&emsp;&emsp;&emsp;&emsp;&emsp;&emsp;\n",
       "        Difference\n",
       "        <div class=\"container\">\n",
       "        <div style=\"float:left;width:20%\"><img src=\"https://avro.alerce.online/get_stamp?oid=ZTF22aavicyh&candid=2029422855515015001&type=science&format=png\"></div>\n",
       "        <div style=\"float:left;width:20%\"><img src=\"https://avro.alerce.online/get_stamp?oid=ZTF22aavicyh&candid=2029422855515015001&type=template&format=png\"></div>\n",
       "        <div style=\"float:left;width:20%\"><img src=\"https://avro.alerce.online/get_stamp?oid=ZTF22aavicyh&candid=2029422855515015001&type=difference&format=png\"></div>\n",
       "        </div>\n",
       "        "
      ],
      "text/plain": [
       "<IPython.core.display.HTML object>"
      ]
     },
     "metadata": {},
     "output_type": "display_data"
    },
    {
     "name": "stdout",
     "output_type": "stream",
     "text": [
      "SN candidate classified using ALeRCE's stamp classifier (Carrasco-Davis et al. 2021) and the public ZTF stream. Discovery image and light curve in http://alerce.online/object/ZTF22aavicyh \n",
      "\n",
      " 3 ZTF22aavgzjc\n",
      "http://alerce.online/object/ZTF22aavgzjc\n"
     ]
    },
    {
     "data": {
      "text/html": [
       "\n",
       "        <div>ZTF oid: ZTF22aavgzjc, candid: 2029407326115015014</div>\n",
       "        <div>&emsp;&emsp;&emsp;&emsp;&emsp;\n",
       "        Science\n",
       "        &emsp;&emsp;&emsp;&emsp;&emsp;&emsp;&emsp;&emsp;&emsp;&emsp;&emsp;&emsp;\n",
       "        Template\n",
       "        &emsp;&emsp;&emsp;&emsp;&emsp;&emsp;&emsp;&emsp;&emsp;&emsp;&emsp;&emsp;\n",
       "        Difference\n",
       "        <div class=\"container\">\n",
       "        <div style=\"float:left;width:20%\"><img src=\"https://avro.alerce.online/get_stamp?oid=ZTF22aavgzjc&candid=2029407326115015014&type=science&format=png\"></div>\n",
       "        <div style=\"float:left;width:20%\"><img src=\"https://avro.alerce.online/get_stamp?oid=ZTF22aavgzjc&candid=2029407326115015014&type=template&format=png\"></div>\n",
       "        <div style=\"float:left;width:20%\"><img src=\"https://avro.alerce.online/get_stamp?oid=ZTF22aavgzjc&candid=2029407326115015014&type=difference&format=png\"></div>\n",
       "        </div>\n",
       "        "
      ],
      "text/plain": [
       "<IPython.core.display.HTML object>"
      ]
     },
     "metadata": {},
     "output_type": "display_data"
    },
    {
     "name": "stdout",
     "output_type": "stream",
     "text": [
      "SN candidate classified using ALeRCE's stamp classifier (Carrasco-Davis et al. 2021) and the public ZTF stream. Discovery image and light curve in http://alerce.online/object/ZTF22aavgzjc \n",
      "\n",
      " 4 ZTF22aavfgyf\n",
      "http://alerce.online/object/ZTF22aavfgyf\n"
     ]
    },
    {
     "data": {
      "text/html": [
       "\n",
       "        <div>ZTF oid: ZTF22aavfgyf, candid: 2029392703415015011</div>\n",
       "        <div>&emsp;&emsp;&emsp;&emsp;&emsp;\n",
       "        Science\n",
       "        &emsp;&emsp;&emsp;&emsp;&emsp;&emsp;&emsp;&emsp;&emsp;&emsp;&emsp;&emsp;\n",
       "        Template\n",
       "        &emsp;&emsp;&emsp;&emsp;&emsp;&emsp;&emsp;&emsp;&emsp;&emsp;&emsp;&emsp;\n",
       "        Difference\n",
       "        <div class=\"container\">\n",
       "        <div style=\"float:left;width:20%\"><img src=\"https://avro.alerce.online/get_stamp?oid=ZTF22aavfgyf&candid=2029392703415015011&type=science&format=png\"></div>\n",
       "        <div style=\"float:left;width:20%\"><img src=\"https://avro.alerce.online/get_stamp?oid=ZTF22aavfgyf&candid=2029392703415015011&type=template&format=png\"></div>\n",
       "        <div style=\"float:left;width:20%\"><img src=\"https://avro.alerce.online/get_stamp?oid=ZTF22aavfgyf&candid=2029392703415015011&type=difference&format=png\"></div>\n",
       "        </div>\n",
       "        "
      ],
      "text/plain": [
       "<IPython.core.display.HTML object>"
      ]
     },
     "metadata": {},
     "output_type": "display_data"
    },
    {
     "name": "stdout",
     "output_type": "stream",
     "text": [
      "SN candidate classified using ALeRCE's stamp classifier (Carrasco-Davis et al. 2021) and the public ZTF stream. Discovery image and light curve in http://alerce.online/object/ZTF22aavfgyf \n",
      "\n",
      " 5 ZTF22aaveghe\n",
      "http://alerce.online/object/ZTF22aaveghe\n"
     ]
    },
    {
     "data": {
      "text/html": [
       "\n",
       "        <div>ZTF oid: ZTF22aaveghe, candid: 2029352934315015020</div>\n",
       "        <div>&emsp;&emsp;&emsp;&emsp;&emsp;\n",
       "        Science\n",
       "        &emsp;&emsp;&emsp;&emsp;&emsp;&emsp;&emsp;&emsp;&emsp;&emsp;&emsp;&emsp;\n",
       "        Template\n",
       "        &emsp;&emsp;&emsp;&emsp;&emsp;&emsp;&emsp;&emsp;&emsp;&emsp;&emsp;&emsp;\n",
       "        Difference\n",
       "        <div class=\"container\">\n",
       "        <div style=\"float:left;width:20%\"><img src=\"https://avro.alerce.online/get_stamp?oid=ZTF22aaveghe&candid=2029352934315015020&type=science&format=png\"></div>\n",
       "        <div style=\"float:left;width:20%\"><img src=\"https://avro.alerce.online/get_stamp?oid=ZTF22aaveghe&candid=2029352934315015020&type=template&format=png\"></div>\n",
       "        <div style=\"float:left;width:20%\"><img src=\"https://avro.alerce.online/get_stamp?oid=ZTF22aaveghe&candid=2029352934315015020&type=difference&format=png\"></div>\n",
       "        </div>\n",
       "        "
      ],
      "text/plain": [
       "<IPython.core.display.HTML object>"
      ]
     },
     "metadata": {},
     "output_type": "display_data"
    },
    {
     "name": "stdout",
     "output_type": "stream",
     "text": [
      "SN candidate classified using ALeRCE's stamp classifier (Carrasco-Davis et al. 2021) and the public ZTF stream. Discovery image and light curve in http://alerce.online/object/ZTF22aaveghe \n",
      "\n",
      " 6 ZTF22aavecme\n",
      "http://alerce.online/object/ZTF22aavecme\n"
     ]
    },
    {
     "data": {
      "text/html": [
       "\n",
       "        <div>ZTF oid: ZTF22aavecme, candid: 2029347291515015002</div>\n",
       "        <div>&emsp;&emsp;&emsp;&emsp;&emsp;\n",
       "        Science\n",
       "        &emsp;&emsp;&emsp;&emsp;&emsp;&emsp;&emsp;&emsp;&emsp;&emsp;&emsp;&emsp;\n",
       "        Template\n",
       "        &emsp;&emsp;&emsp;&emsp;&emsp;&emsp;&emsp;&emsp;&emsp;&emsp;&emsp;&emsp;\n",
       "        Difference\n",
       "        <div class=\"container\">\n",
       "        <div style=\"float:left;width:20%\"><img src=\"https://avro.alerce.online/get_stamp?oid=ZTF22aavecme&candid=2029347291515015002&type=science&format=png\"></div>\n",
       "        <div style=\"float:left;width:20%\"><img src=\"https://avro.alerce.online/get_stamp?oid=ZTF22aavecme&candid=2029347291515015002&type=template&format=png\"></div>\n",
       "        <div style=\"float:left;width:20%\"><img src=\"https://avro.alerce.online/get_stamp?oid=ZTF22aavecme&candid=2029347291515015002&type=difference&format=png\"></div>\n",
       "        </div>\n",
       "        "
      ],
      "text/plain": [
       "<IPython.core.display.HTML object>"
      ]
     },
     "metadata": {},
     "output_type": "display_data"
    },
    {
     "name": "stdout",
     "output_type": "stream",
     "text": [
      "SN candidate classified using ALeRCE's stamp classifier (Carrasco-Davis et al. 2021) and the public ZTF stream. Discovery image and light curve in http://alerce.online/object/ZTF22aavecme \n",
      "\n",
      " 7 ZTF22aavebae\n",
      "http://alerce.online/object/ZTF22aavebae\n"
     ]
    },
    {
     "data": {
      "text/html": [
       "\n",
       "        <div>ZTF oid: ZTF22aavebae, candid: 2029346344015015002</div>\n",
       "        <div>&emsp;&emsp;&emsp;&emsp;&emsp;\n",
       "        Science\n",
       "        &emsp;&emsp;&emsp;&emsp;&emsp;&emsp;&emsp;&emsp;&emsp;&emsp;&emsp;&emsp;\n",
       "        Template\n",
       "        &emsp;&emsp;&emsp;&emsp;&emsp;&emsp;&emsp;&emsp;&emsp;&emsp;&emsp;&emsp;\n",
       "        Difference\n",
       "        <div class=\"container\">\n",
       "        <div style=\"float:left;width:20%\"><img src=\"https://avro.alerce.online/get_stamp?oid=ZTF22aavebae&candid=2029346344015015002&type=science&format=png\"></div>\n",
       "        <div style=\"float:left;width:20%\"><img src=\"https://avro.alerce.online/get_stamp?oid=ZTF22aavebae&candid=2029346344015015002&type=template&format=png\"></div>\n",
       "        <div style=\"float:left;width:20%\"><img src=\"https://avro.alerce.online/get_stamp?oid=ZTF22aavebae&candid=2029346344015015002&type=difference&format=png\"></div>\n",
       "        </div>\n",
       "        "
      ],
      "text/plain": [
       "<IPython.core.display.HTML object>"
      ]
     },
     "metadata": {},
     "output_type": "display_data"
    },
    {
     "name": "stdout",
     "output_type": "stream",
     "text": [
      "Early SN candidate (g-rise > 0.09+-0.02 mag/day) classified using ALeRCE's stamp classifier (Carrasco-Davis et al. 2021) and the public ZTF stream. Discovery image and light curve in http://alerce.online/object/ZTF22aavebae \n",
      "\n",
      " 8 ZTF22aavdzpf\n",
      "http://alerce.online/object/ZTF22aavdzpf\n"
     ]
    },
    {
     "data": {
      "text/html": [
       "\n",
       "        <div>ZTF oid: ZTF22aavdzpf, candid: 2029341501715015011</div>\n",
       "        <div>&emsp;&emsp;&emsp;&emsp;&emsp;\n",
       "        Science\n",
       "        &emsp;&emsp;&emsp;&emsp;&emsp;&emsp;&emsp;&emsp;&emsp;&emsp;&emsp;&emsp;\n",
       "        Template\n",
       "        &emsp;&emsp;&emsp;&emsp;&emsp;&emsp;&emsp;&emsp;&emsp;&emsp;&emsp;&emsp;\n",
       "        Difference\n",
       "        <div class=\"container\">\n",
       "        <div style=\"float:left;width:20%\"><img src=\"https://avro.alerce.online/get_stamp?oid=ZTF22aavdzpf&candid=2029341501715015011&type=science&format=png\"></div>\n",
       "        <div style=\"float:left;width:20%\"><img src=\"https://avro.alerce.online/get_stamp?oid=ZTF22aavdzpf&candid=2029341501715015011&type=template&format=png\"></div>\n",
       "        <div style=\"float:left;width:20%\"><img src=\"https://avro.alerce.online/get_stamp?oid=ZTF22aavdzpf&candid=2029341501715015011&type=difference&format=png\"></div>\n",
       "        </div>\n",
       "        "
      ],
      "text/plain": [
       "<IPython.core.display.HTML object>"
      ]
     },
     "metadata": {},
     "output_type": "display_data"
    },
    {
     "name": "stdout",
     "output_type": "stream",
     "text": [
      "SN candidate classified using ALeRCE's stamp classifier (Carrasco-Davis et al. 2021) and the public ZTF stream. Discovery image and light curve in http://alerce.online/object/ZTF22aavdzpf \n",
      "\n",
      " 9 ZTF22aavdubl\n",
      "http://alerce.online/object/ZTF22aavdubl\n"
     ]
    },
    {
     "data": {
      "text/html": [
       "\n",
       "        <div>ZTF oid: ZTF22aavdubl, candid: 2029351990715015031</div>\n",
       "        <div>&emsp;&emsp;&emsp;&emsp;&emsp;\n",
       "        Science\n",
       "        &emsp;&emsp;&emsp;&emsp;&emsp;&emsp;&emsp;&emsp;&emsp;&emsp;&emsp;&emsp;\n",
       "        Template\n",
       "        &emsp;&emsp;&emsp;&emsp;&emsp;&emsp;&emsp;&emsp;&emsp;&emsp;&emsp;&emsp;\n",
       "        Difference\n",
       "        <div class=\"container\">\n",
       "        <div style=\"float:left;width:20%\"><img src=\"https://avro.alerce.online/get_stamp?oid=ZTF22aavdubl&candid=2029351990715015031&type=science&format=png\"></div>\n",
       "        <div style=\"float:left;width:20%\"><img src=\"https://avro.alerce.online/get_stamp?oid=ZTF22aavdubl&candid=2029351990715015031&type=template&format=png\"></div>\n",
       "        <div style=\"float:left;width:20%\"><img src=\"https://avro.alerce.online/get_stamp?oid=ZTF22aavdubl&candid=2029351990715015031&type=difference&format=png\"></div>\n",
       "        </div>\n",
       "        "
      ],
      "text/plain": [
       "<IPython.core.display.HTML object>"
      ]
     },
     "metadata": {},
     "output_type": "display_data"
    },
    {
     "name": "stdout",
     "output_type": "stream",
     "text": [
      "SN candidate classified using ALeRCE's stamp classifier (Carrasco-Davis et al. 2021) and the public ZTF stream. Discovery image and light curve in http://alerce.online/object/ZTF22aavdubl \n",
      "Sleep for 41 sec\n",
      "\n",
      " 10 ZTF22aavdscs\n",
      "http://alerce.online/object/ZTF22aavdscs\n"
     ]
    },
    {
     "data": {
      "text/html": [
       "\n",
       "        <div>ZTF oid: ZTF22aavdscs, candid: 2029331871015015008</div>\n",
       "        <div>&emsp;&emsp;&emsp;&emsp;&emsp;\n",
       "        Science\n",
       "        &emsp;&emsp;&emsp;&emsp;&emsp;&emsp;&emsp;&emsp;&emsp;&emsp;&emsp;&emsp;\n",
       "        Template\n",
       "        &emsp;&emsp;&emsp;&emsp;&emsp;&emsp;&emsp;&emsp;&emsp;&emsp;&emsp;&emsp;\n",
       "        Difference\n",
       "        <div class=\"container\">\n",
       "        <div style=\"float:left;width:20%\"><img src=\"https://avro.alerce.online/get_stamp?oid=ZTF22aavdscs&candid=2029331871015015008&type=science&format=png\"></div>\n",
       "        <div style=\"float:left;width:20%\"><img src=\"https://avro.alerce.online/get_stamp?oid=ZTF22aavdscs&candid=2029331871015015008&type=template&format=png\"></div>\n",
       "        <div style=\"float:left;width:20%\"><img src=\"https://avro.alerce.online/get_stamp?oid=ZTF22aavdscs&candid=2029331871015015008&type=difference&format=png\"></div>\n",
       "        </div>\n",
       "        "
      ],
      "text/plain": [
       "<IPython.core.display.HTML object>"
      ]
     },
     "metadata": {},
     "output_type": "display_data"
    },
    {
     "name": "stdout",
     "output_type": "stream",
     "text": [
      "SN candidate classified using ALeRCE's stamp classifier (Carrasco-Davis et al. 2021) and the public ZTF stream. Discovery image and light curve in http://alerce.online/object/ZTF22aavdscs \n",
      "\n",
      " 11 ZTF22aavdrdz\n",
      "http://alerce.online/object/ZTF22aavdrdz\n"
     ]
    },
    {
     "data": {
      "text/html": [
       "\n",
       "        <div>ZTF oid: ZTF22aavdrdz, candid: 2029330463815015007</div>\n",
       "        <div>&emsp;&emsp;&emsp;&emsp;&emsp;\n",
       "        Science\n",
       "        &emsp;&emsp;&emsp;&emsp;&emsp;&emsp;&emsp;&emsp;&emsp;&emsp;&emsp;&emsp;\n",
       "        Template\n",
       "        &emsp;&emsp;&emsp;&emsp;&emsp;&emsp;&emsp;&emsp;&emsp;&emsp;&emsp;&emsp;\n",
       "        Difference\n",
       "        <div class=\"container\">\n",
       "        <div style=\"float:left;width:20%\"><img src=\"https://avro.alerce.online/get_stamp?oid=ZTF22aavdrdz&candid=2029330463815015007&type=science&format=png\"></div>\n",
       "        <div style=\"float:left;width:20%\"><img src=\"https://avro.alerce.online/get_stamp?oid=ZTF22aavdrdz&candid=2029330463815015007&type=template&format=png\"></div>\n",
       "        <div style=\"float:left;width:20%\"><img src=\"https://avro.alerce.online/get_stamp?oid=ZTF22aavdrdz&candid=2029330463815015007&type=difference&format=png\"></div>\n",
       "        </div>\n",
       "        "
      ],
      "text/plain": [
       "<IPython.core.display.HTML object>"
      ]
     },
     "metadata": {},
     "output_type": "display_data"
    },
    {
     "name": "stdout",
     "output_type": "stream",
     "text": [
      "SN candidate classified using ALeRCE's stamp classifier (Carrasco-Davis et al. 2021) and the public ZTF stream. Discovery image and light curve in http://alerce.online/object/ZTF22aavdrdz \n",
      "\n",
      " 12 ZTF22aavdrbx\n",
      "http://alerce.online/object/ZTF22aavdrbx\n"
     ]
    },
    {
     "data": {
      "text/html": [
       "\n",
       "        <div>ZTF oid: ZTF22aavdrbx, candid: 2029330464415015015</div>\n",
       "        <div>&emsp;&emsp;&emsp;&emsp;&emsp;\n",
       "        Science\n",
       "        &emsp;&emsp;&emsp;&emsp;&emsp;&emsp;&emsp;&emsp;&emsp;&emsp;&emsp;&emsp;\n",
       "        Template\n",
       "        &emsp;&emsp;&emsp;&emsp;&emsp;&emsp;&emsp;&emsp;&emsp;&emsp;&emsp;&emsp;\n",
       "        Difference\n",
       "        <div class=\"container\">\n",
       "        <div style=\"float:left;width:20%\"><img src=\"https://avro.alerce.online/get_stamp?oid=ZTF22aavdrbx&candid=2029330464415015015&type=science&format=png\"></div>\n",
       "        <div style=\"float:left;width:20%\"><img src=\"https://avro.alerce.online/get_stamp?oid=ZTF22aavdrbx&candid=2029330464415015015&type=template&format=png\"></div>\n",
       "        <div style=\"float:left;width:20%\"><img src=\"https://avro.alerce.online/get_stamp?oid=ZTF22aavdrbx&candid=2029330464415015015&type=difference&format=png\"></div>\n",
       "        </div>\n",
       "        "
      ],
      "text/plain": [
       "<IPython.core.display.HTML object>"
      ]
     },
     "metadata": {},
     "output_type": "display_data"
    },
    {
     "name": "stdout",
     "output_type": "stream",
     "text": [
      "SN candidate classified using ALeRCE's stamp classifier (Carrasco-Davis et al. 2021) and the public ZTF stream. Discovery image and light curve in http://alerce.online/object/ZTF22aavdrbx \n",
      "\n",
      " 13 ZTF22aavdcsu\n",
      "http://alerce.online/object/ZTF22aavdcsu\n"
     ]
    },
    {
     "data": {
      "text/html": [
       "\n",
       "        <div>ZTF oid: ZTF22aavdcsu, candid: 2029307440715015011</div>\n",
       "        <div>&emsp;&emsp;&emsp;&emsp;&emsp;\n",
       "        Science\n",
       "        &emsp;&emsp;&emsp;&emsp;&emsp;&emsp;&emsp;&emsp;&emsp;&emsp;&emsp;&emsp;\n",
       "        Template\n",
       "        &emsp;&emsp;&emsp;&emsp;&emsp;&emsp;&emsp;&emsp;&emsp;&emsp;&emsp;&emsp;\n",
       "        Difference\n",
       "        <div class=\"container\">\n",
       "        <div style=\"float:left;width:20%\"><img src=\"https://avro.alerce.online/get_stamp?oid=ZTF22aavdcsu&candid=2029307440715015011&type=science&format=png\"></div>\n",
       "        <div style=\"float:left;width:20%\"><img src=\"https://avro.alerce.online/get_stamp?oid=ZTF22aavdcsu&candid=2029307440715015011&type=template&format=png\"></div>\n",
       "        <div style=\"float:left;width:20%\"><img src=\"https://avro.alerce.online/get_stamp?oid=ZTF22aavdcsu&candid=2029307440715015011&type=difference&format=png\"></div>\n",
       "        </div>\n",
       "        "
      ],
      "text/plain": [
       "<IPython.core.display.HTML object>"
      ]
     },
     "metadata": {},
     "output_type": "display_data"
    },
    {
     "name": "stdout",
     "output_type": "stream",
     "text": [
      "SN candidate classified using ALeRCE's stamp classifier (Carrasco-Davis et al. 2021) and the public ZTF stream. Discovery image and light curve in http://alerce.online/object/ZTF22aavdcsu \n",
      "\n",
      " 14 ZTF22aavczfb\n",
      "http://alerce.online/object/ZTF22aavczfb\n"
     ]
    },
    {
     "data": {
      "text/html": [
       "\n",
       "        <div>ZTF oid: ZTF22aavczfb, candid: 2029305550515015009</div>\n",
       "        <div>&emsp;&emsp;&emsp;&emsp;&emsp;\n",
       "        Science\n",
       "        &emsp;&emsp;&emsp;&emsp;&emsp;&emsp;&emsp;&emsp;&emsp;&emsp;&emsp;&emsp;\n",
       "        Template\n",
       "        &emsp;&emsp;&emsp;&emsp;&emsp;&emsp;&emsp;&emsp;&emsp;&emsp;&emsp;&emsp;\n",
       "        Difference\n",
       "        <div class=\"container\">\n",
       "        <div style=\"float:left;width:20%\"><img src=\"https://avro.alerce.online/get_stamp?oid=ZTF22aavczfb&candid=2029305550515015009&type=science&format=png\"></div>\n",
       "        <div style=\"float:left;width:20%\"><img src=\"https://avro.alerce.online/get_stamp?oid=ZTF22aavczfb&candid=2029305550515015009&type=template&format=png\"></div>\n",
       "        <div style=\"float:left;width:20%\"><img src=\"https://avro.alerce.online/get_stamp?oid=ZTF22aavczfb&candid=2029305550515015009&type=difference&format=png\"></div>\n",
       "        </div>\n",
       "        "
      ],
      "text/plain": [
       "<IPython.core.display.HTML object>"
      ]
     },
     "metadata": {},
     "output_type": "display_data"
    },
    {
     "name": "stdout",
     "output_type": "stream",
     "text": [
      "SN candidate classified using ALeRCE's stamp classifier (Carrasco-Davis et al. 2021) and the public ZTF stream. Discovery image and light curve in http://alerce.online/object/ZTF22aavczfb \n",
      "\n",
      " 15 ZTF22aavcyir\n",
      "http://alerce.online/object/ZTF22aavcyir\n"
     ]
    },
    {
     "data": {
      "text/html": [
       "\n",
       "        <div>ZTF oid: ZTF22aavcyir, candid: 2029302155815015007</div>\n",
       "        <div>&emsp;&emsp;&emsp;&emsp;&emsp;\n",
       "        Science\n",
       "        &emsp;&emsp;&emsp;&emsp;&emsp;&emsp;&emsp;&emsp;&emsp;&emsp;&emsp;&emsp;\n",
       "        Template\n",
       "        &emsp;&emsp;&emsp;&emsp;&emsp;&emsp;&emsp;&emsp;&emsp;&emsp;&emsp;&emsp;\n",
       "        Difference\n",
       "        <div class=\"container\">\n",
       "        <div style=\"float:left;width:20%\"><img src=\"https://avro.alerce.online/get_stamp?oid=ZTF22aavcyir&candid=2029302155815015007&type=science&format=png\"></div>\n",
       "        <div style=\"float:left;width:20%\"><img src=\"https://avro.alerce.online/get_stamp?oid=ZTF22aavcyir&candid=2029302155815015007&type=template&format=png\"></div>\n",
       "        <div style=\"float:left;width:20%\"><img src=\"https://avro.alerce.online/get_stamp?oid=ZTF22aavcyir&candid=2029302155815015007&type=difference&format=png\"></div>\n",
       "        </div>\n",
       "        "
      ],
      "text/plain": [
       "<IPython.core.display.HTML object>"
      ]
     },
     "metadata": {},
     "output_type": "display_data"
    },
    {
     "name": "stdout",
     "output_type": "stream",
     "text": [
      "SN candidate classified using ALeRCE's stamp classifier (Carrasco-Davis et al. 2021) and the public ZTF stream. Discovery image and light curve in http://alerce.online/object/ZTF22aavcyir \n",
      "\n",
      " 16 ZTF22aavcvtr\n",
      "http://alerce.online/object/ZTF22aavcvtr\n"
     ]
    },
    {
     "data": {
      "text/html": [
       "\n",
       "        <div>ZTF oid: ZTF22aavcvtr, candid: 2029298655515015029</div>\n",
       "        <div>&emsp;&emsp;&emsp;&emsp;&emsp;\n",
       "        Science\n",
       "        &emsp;&emsp;&emsp;&emsp;&emsp;&emsp;&emsp;&emsp;&emsp;&emsp;&emsp;&emsp;\n",
       "        Template\n",
       "        &emsp;&emsp;&emsp;&emsp;&emsp;&emsp;&emsp;&emsp;&emsp;&emsp;&emsp;&emsp;\n",
       "        Difference\n",
       "        <div class=\"container\">\n",
       "        <div style=\"float:left;width:20%\"><img src=\"https://avro.alerce.online/get_stamp?oid=ZTF22aavcvtr&candid=2029298655515015029&type=science&format=png\"></div>\n",
       "        <div style=\"float:left;width:20%\"><img src=\"https://avro.alerce.online/get_stamp?oid=ZTF22aavcvtr&candid=2029298655515015029&type=template&format=png\"></div>\n",
       "        <div style=\"float:left;width:20%\"><img src=\"https://avro.alerce.online/get_stamp?oid=ZTF22aavcvtr&candid=2029298655515015029&type=difference&format=png\"></div>\n",
       "        </div>\n",
       "        "
      ],
      "text/plain": [
       "<IPython.core.display.HTML object>"
      ]
     },
     "metadata": {},
     "output_type": "display_data"
    },
    {
     "name": "stdout",
     "output_type": "stream",
     "text": [
      "SN candidate classified using ALeRCE's stamp classifier (Carrasco-Davis et al. 2021) and the public ZTF stream. Discovery image and light curve in http://alerce.online/object/ZTF22aavcvtr \n",
      "Astronomical transient is known: [{'objname': '2022pkc', 'prefix': 'AT', 'objid': 112461}] \n",
      "\n",
      "Reporting info: {'discoverer': ['Pan-STARRS'], 'objname': ['2022pkc'], 'reporter': ['Pan-STARRS'], 'internal_names': ['PS22ghl']}\n",
      "Object was not reported using the same ZTF internal name, report.\n",
      "\n",
      " 17 ZTF22aavcrgy\n",
      "http://alerce.online/object/ZTF22aavcrgy\n"
     ]
    },
    {
     "data": {
      "text/html": [
       "\n",
       "        <div>ZTF oid: ZTF22aavcrgy, candid: 2029287195415015002</div>\n",
       "        <div>&emsp;&emsp;&emsp;&emsp;&emsp;\n",
       "        Science\n",
       "        &emsp;&emsp;&emsp;&emsp;&emsp;&emsp;&emsp;&emsp;&emsp;&emsp;&emsp;&emsp;\n",
       "        Template\n",
       "        &emsp;&emsp;&emsp;&emsp;&emsp;&emsp;&emsp;&emsp;&emsp;&emsp;&emsp;&emsp;\n",
       "        Difference\n",
       "        <div class=\"container\">\n",
       "        <div style=\"float:left;width:20%\"><img src=\"https://avro.alerce.online/get_stamp?oid=ZTF22aavcrgy&candid=2029287195415015002&type=science&format=png\"></div>\n",
       "        <div style=\"float:left;width:20%\"><img src=\"https://avro.alerce.online/get_stamp?oid=ZTF22aavcrgy&candid=2029287195415015002&type=template&format=png\"></div>\n",
       "        <div style=\"float:left;width:20%\"><img src=\"https://avro.alerce.online/get_stamp?oid=ZTF22aavcrgy&candid=2029287195415015002&type=difference&format=png\"></div>\n",
       "        </div>\n",
       "        "
      ],
      "text/plain": [
       "<IPython.core.display.HTML object>"
      ]
     },
     "metadata": {},
     "output_type": "display_data"
    },
    {
     "name": "stdout",
     "output_type": "stream",
     "text": [
      "SN candidate classified using ALeRCE's stamp classifier (Carrasco-Davis et al. 2021) and the public ZTF stream. Discovery image and light curve in http://alerce.online/object/ZTF22aavcrgy \n",
      "\n",
      " 18 ZTF22aavclih\n",
      "http://alerce.online/object/ZTF22aavclih\n"
     ]
    },
    {
     "data": {
      "text/html": [
       "\n",
       "        <div>ZTF oid: ZTF22aavclih, candid: 2029277192915015004</div>\n",
       "        <div>&emsp;&emsp;&emsp;&emsp;&emsp;\n",
       "        Science\n",
       "        &emsp;&emsp;&emsp;&emsp;&emsp;&emsp;&emsp;&emsp;&emsp;&emsp;&emsp;&emsp;\n",
       "        Template\n",
       "        &emsp;&emsp;&emsp;&emsp;&emsp;&emsp;&emsp;&emsp;&emsp;&emsp;&emsp;&emsp;\n",
       "        Difference\n",
       "        <div class=\"container\">\n",
       "        <div style=\"float:left;width:20%\"><img src=\"https://avro.alerce.online/get_stamp?oid=ZTF22aavclih&candid=2029277192915015004&type=science&format=png\"></div>\n",
       "        <div style=\"float:left;width:20%\"><img src=\"https://avro.alerce.online/get_stamp?oid=ZTF22aavclih&candid=2029277192915015004&type=template&format=png\"></div>\n",
       "        <div style=\"float:left;width:20%\"><img src=\"https://avro.alerce.online/get_stamp?oid=ZTF22aavclih&candid=2029277192915015004&type=difference&format=png\"></div>\n",
       "        </div>\n",
       "        "
      ],
      "text/plain": [
       "<IPython.core.display.HTML object>"
      ]
     },
     "metadata": {},
     "output_type": "display_data"
    },
    {
     "name": "stdout",
     "output_type": "stream",
     "text": [
      "Early SN candidate (g-rise > 0.18+-0.10 mag/day, r-rise > 0.14+-0.05 mag/day) classified using ALeRCE's stamp classifier (Carrasco-Davis et al. 2021) and the public ZTF stream. Discovery image and light curve in http://alerce.online/object/ZTF22aavclih \n",
      "Sleep for 41 sec\n",
      "\n",
      " 19 ZTF22aavcccu\n",
      "http://alerce.online/object/ZTF22aavcccu\n"
     ]
    },
    {
     "data": {
      "text/html": [
       "\n",
       "        <div>ZTF oid: ZTF22aavcccu, candid: 2029261804315015003</div>\n",
       "        <div>&emsp;&emsp;&emsp;&emsp;&emsp;\n",
       "        Science\n",
       "        &emsp;&emsp;&emsp;&emsp;&emsp;&emsp;&emsp;&emsp;&emsp;&emsp;&emsp;&emsp;\n",
       "        Template\n",
       "        &emsp;&emsp;&emsp;&emsp;&emsp;&emsp;&emsp;&emsp;&emsp;&emsp;&emsp;&emsp;\n",
       "        Difference\n",
       "        <div class=\"container\">\n",
       "        <div style=\"float:left;width:20%\"><img src=\"https://avro.alerce.online/get_stamp?oid=ZTF22aavcccu&candid=2029261804315015003&type=science&format=png\"></div>\n",
       "        <div style=\"float:left;width:20%\"><img src=\"https://avro.alerce.online/get_stamp?oid=ZTF22aavcccu&candid=2029261804315015003&type=template&format=png\"></div>\n",
       "        <div style=\"float:left;width:20%\"><img src=\"https://avro.alerce.online/get_stamp?oid=ZTF22aavcccu&candid=2029261804315015003&type=difference&format=png\"></div>\n",
       "        </div>\n",
       "        "
      ],
      "text/plain": [
       "<IPython.core.display.HTML object>"
      ]
     },
     "metadata": {},
     "output_type": "display_data"
    },
    {
     "name": "stdout",
     "output_type": "stream",
     "text": [
      "SN candidate classified using ALeRCE's stamp classifier (Carrasco-Davis et al. 2021) and the public ZTF stream. Discovery image and light curve in http://alerce.online/object/ZTF22aavcccu \n",
      "\n",
      " 20 ZTF22aauxsyt\n",
      "http://alerce.online/object/ZTF22aauxsyt\n"
     ]
    },
    {
     "data": {
      "text/html": [
       "\n",
       "        <div>ZTF oid: ZTF22aauxsyt, candid: 2029305555415015004</div>\n",
       "        <div>&emsp;&emsp;&emsp;&emsp;&emsp;\n",
       "        Science\n",
       "        &emsp;&emsp;&emsp;&emsp;&emsp;&emsp;&emsp;&emsp;&emsp;&emsp;&emsp;&emsp;\n",
       "        Template\n",
       "        &emsp;&emsp;&emsp;&emsp;&emsp;&emsp;&emsp;&emsp;&emsp;&emsp;&emsp;&emsp;\n",
       "        Difference\n",
       "        <div class=\"container\">\n",
       "        <div style=\"float:left;width:20%\"><img src=\"https://avro.alerce.online/get_stamp?oid=ZTF22aauxsyt&candid=2029305555415015004&type=science&format=png\"></div>\n",
       "        <div style=\"float:left;width:20%\"><img src=\"https://avro.alerce.online/get_stamp?oid=ZTF22aauxsyt&candid=2029305555415015004&type=template&format=png\"></div>\n",
       "        <div style=\"float:left;width:20%\"><img src=\"https://avro.alerce.online/get_stamp?oid=ZTF22aauxsyt&candid=2029305555415015004&type=difference&format=png\"></div>\n",
       "        </div>\n",
       "        "
      ],
      "text/plain": [
       "<IPython.core.display.HTML object>"
      ]
     },
     "metadata": {},
     "output_type": "display_data"
    },
    {
     "name": "stdout",
     "output_type": "stream",
     "text": [
      "SN candidate classified using ALeRCE's stamp classifier (Carrasco-Davis et al. 2021) and the public ZTF stream. Discovery image and light curve in http://alerce.online/object/ZTF22aauxsyt \n",
      "\n",
      " 21 ZTF22aauxltc\n",
      "http://alerce.online/object/ZTF22aauxltc\n"
     ]
    },
    {
     "data": {
      "text/html": [
       "\n",
       "        <div>ZTF oid: ZTF22aauxltc, candid: 2028260450915015003</div>\n",
       "        <div>&emsp;&emsp;&emsp;&emsp;&emsp;\n",
       "        Science\n",
       "        &emsp;&emsp;&emsp;&emsp;&emsp;&emsp;&emsp;&emsp;&emsp;&emsp;&emsp;&emsp;\n",
       "        Template\n",
       "        &emsp;&emsp;&emsp;&emsp;&emsp;&emsp;&emsp;&emsp;&emsp;&emsp;&emsp;&emsp;\n",
       "        Difference\n",
       "        <div class=\"container\">\n",
       "        <div style=\"float:left;width:20%\"><img src=\"https://avro.alerce.online/get_stamp?oid=ZTF22aauxltc&candid=2028260450915015003&type=science&format=png\"></div>\n",
       "        <div style=\"float:left;width:20%\"><img src=\"https://avro.alerce.online/get_stamp?oid=ZTF22aauxltc&candid=2028260450915015003&type=template&format=png\"></div>\n",
       "        <div style=\"float:left;width:20%\"><img src=\"https://avro.alerce.online/get_stamp?oid=ZTF22aauxltc&candid=2028260450915015003&type=difference&format=png\"></div>\n",
       "        </div>\n",
       "        "
      ],
      "text/plain": [
       "<IPython.core.display.HTML object>"
      ]
     },
     "metadata": {},
     "output_type": "display_data"
    },
    {
     "name": "stdout",
     "output_type": "stream",
     "text": [
      "SN candidate classified using ALeRCE's stamp classifier (Carrasco-Davis et al. 2021) and the public ZTF stream. Discovery image and light curve in http://alerce.online/object/ZTF22aauxltc \n",
      "\n",
      " 22 ZTF22aauwylz\n",
      "http://alerce.online/object/ZTF22aauwylz\n"
     ]
    },
    {
     "data": {
      "text/html": [
       "\n",
       "        <div>ZTF oid: ZTF22aauwylz, candid: 2029266161315015016</div>\n",
       "        <div>&emsp;&emsp;&emsp;&emsp;&emsp;\n",
       "        Science\n",
       "        &emsp;&emsp;&emsp;&emsp;&emsp;&emsp;&emsp;&emsp;&emsp;&emsp;&emsp;&emsp;\n",
       "        Template\n",
       "        &emsp;&emsp;&emsp;&emsp;&emsp;&emsp;&emsp;&emsp;&emsp;&emsp;&emsp;&emsp;\n",
       "        Difference\n",
       "        <div class=\"container\">\n",
       "        <div style=\"float:left;width:20%\"><img src=\"https://avro.alerce.online/get_stamp?oid=ZTF22aauwylz&candid=2029266161315015016&type=science&format=png\"></div>\n",
       "        <div style=\"float:left;width:20%\"><img src=\"https://avro.alerce.online/get_stamp?oid=ZTF22aauwylz&candid=2029266161315015016&type=template&format=png\"></div>\n",
       "        <div style=\"float:left;width:20%\"><img src=\"https://avro.alerce.online/get_stamp?oid=ZTF22aauwylz&candid=2029266161315015016&type=difference&format=png\"></div>\n",
       "        </div>\n",
       "        "
      ],
      "text/plain": [
       "<IPython.core.display.HTML object>"
      ]
     },
     "metadata": {},
     "output_type": "display_data"
    },
    {
     "name": "stdout",
     "output_type": "stream",
     "text": [
      "Early SN candidate (r-rise > 0.11+-0.05 mag/day) classified using ALeRCE's stamp classifier (Carrasco-Davis et al. 2021) and the public ZTF stream. Discovery image and light curve in http://alerce.online/object/ZTF22aauwylz \n",
      "\n",
      " 23 ZTF22aauvseh\n",
      "http://alerce.online/object/ZTF22aauvseh\n"
     ]
    },
    {
     "data": {
      "text/html": [
       "\n",
       "        <div>ZTF oid: ZTF22aauvseh, candid: 2027356860815015011</div>\n",
       "        <div>&emsp;&emsp;&emsp;&emsp;&emsp;\n",
       "        Science\n",
       "        &emsp;&emsp;&emsp;&emsp;&emsp;&emsp;&emsp;&emsp;&emsp;&emsp;&emsp;&emsp;\n",
       "        Template\n",
       "        &emsp;&emsp;&emsp;&emsp;&emsp;&emsp;&emsp;&emsp;&emsp;&emsp;&emsp;&emsp;\n",
       "        Difference\n",
       "        <div class=\"container\">\n",
       "        <div style=\"float:left;width:20%\"><img src=\"https://avro.alerce.online/get_stamp?oid=ZTF22aauvseh&candid=2027356860815015011&type=science&format=png\"></div>\n",
       "        <div style=\"float:left;width:20%\"><img src=\"https://avro.alerce.online/get_stamp?oid=ZTF22aauvseh&candid=2027356860815015011&type=template&format=png\"></div>\n",
       "        <div style=\"float:left;width:20%\"><img src=\"https://avro.alerce.online/get_stamp?oid=ZTF22aauvseh&candid=2027356860815015011&type=difference&format=png\"></div>\n",
       "        </div>\n",
       "        "
      ],
      "text/plain": [
       "<IPython.core.display.HTML object>"
      ]
     },
     "metadata": {},
     "output_type": "display_data"
    },
    {
     "name": "stdout",
     "output_type": "stream",
     "text": [
      "SN candidate classified using ALeRCE's stamp classifier (Carrasco-Davis et al. 2021) and the public ZTF stream. Discovery image and light curve in http://alerce.online/object/ZTF22aauvseh \n",
      "\n",
      " 24 ZTF22aauuxul\n",
      "http://alerce.online/object/ZTF22aauuxul\n"
     ]
    },
    {
     "data": {
      "text/html": [
       "\n",
       "        <div>ZTF oid: ZTF22aauuxul, candid: 2028199644015015003</div>\n",
       "        <div>&emsp;&emsp;&emsp;&emsp;&emsp;\n",
       "        Science\n",
       "        &emsp;&emsp;&emsp;&emsp;&emsp;&emsp;&emsp;&emsp;&emsp;&emsp;&emsp;&emsp;\n",
       "        Template\n",
       "        &emsp;&emsp;&emsp;&emsp;&emsp;&emsp;&emsp;&emsp;&emsp;&emsp;&emsp;&emsp;\n",
       "        Difference\n",
       "        <div class=\"container\">\n",
       "        <div style=\"float:left;width:20%\"><img src=\"https://avro.alerce.online/get_stamp?oid=ZTF22aauuxul&candid=2028199644015015003&type=science&format=png\"></div>\n",
       "        <div style=\"float:left;width:20%\"><img src=\"https://avro.alerce.online/get_stamp?oid=ZTF22aauuxul&candid=2028199644015015003&type=template&format=png\"></div>\n",
       "        <div style=\"float:left;width:20%\"><img src=\"https://avro.alerce.online/get_stamp?oid=ZTF22aauuxul&candid=2028199644015015003&type=difference&format=png\"></div>\n",
       "        </div>\n",
       "        "
      ],
      "text/plain": [
       "<IPython.core.display.HTML object>"
      ]
     },
     "metadata": {},
     "output_type": "display_data"
    },
    {
     "name": "stdout",
     "output_type": "stream",
     "text": [
      "Early SN candidate (g-rise > 0.10+-0.01 mag/day, r-rise > 0.31+-0.03 mag/day) classified using ALeRCE's stamp classifier (Carrasco-Davis et al. 2021) and the public ZTF stream. Discovery image and light curve in http://alerce.online/object/ZTF22aauuxul \n",
      "Astronomical transient is known: [{'objname': '2022pfd', 'prefix': 'AT', 'objid': 112331}] \n",
      "\n",
      "Reporting info: {'discoverer': ['ATLAS'], 'objname': ['2022pfd'], 'reporter': ['ATLAS'], 'internal_names': ['ATLAS22vly', 'ZTF22aauuxul']}\n",
      "Object was reported using the same ZTF internal name, do not report.\n",
      "\n",
      " 24 ZTF22aauuvby\n",
      "http://alerce.online/object/ZTF22aauuvby\n"
     ]
    },
    {
     "data": {
      "text/html": [
       "\n",
       "        <div>ZTF oid: ZTF22aauuvby, candid: 2029302624415015015</div>\n",
       "        <div>&emsp;&emsp;&emsp;&emsp;&emsp;\n",
       "        Science\n",
       "        &emsp;&emsp;&emsp;&emsp;&emsp;&emsp;&emsp;&emsp;&emsp;&emsp;&emsp;&emsp;\n",
       "        Template\n",
       "        &emsp;&emsp;&emsp;&emsp;&emsp;&emsp;&emsp;&emsp;&emsp;&emsp;&emsp;&emsp;\n",
       "        Difference\n",
       "        <div class=\"container\">\n",
       "        <div style=\"float:left;width:20%\"><img src=\"https://avro.alerce.online/get_stamp?oid=ZTF22aauuvby&candid=2029302624415015015&type=science&format=png\"></div>\n",
       "        <div style=\"float:left;width:20%\"><img src=\"https://avro.alerce.online/get_stamp?oid=ZTF22aauuvby&candid=2029302624415015015&type=template&format=png\"></div>\n",
       "        <div style=\"float:left;width:20%\"><img src=\"https://avro.alerce.online/get_stamp?oid=ZTF22aauuvby&candid=2029302624415015015&type=difference&format=png\"></div>\n",
       "        </div>\n",
       "        "
      ],
      "text/plain": [
       "<IPython.core.display.HTML object>"
      ]
     },
     "metadata": {},
     "output_type": "display_data"
    },
    {
     "name": "stdout",
     "output_type": "stream",
     "text": [
      "WARNING: dt = 0.05461 days\n",
      "SN candidate classified using ALeRCE's stamp classifier (Carrasco-Davis et al. 2021) and the public ZTF stream. Discovery image and light curve in http://alerce.online/object/ZTF22aauuvby \n",
      "\n",
      " 25 ZTF22aautrcf\n",
      "http://alerce.online/object/ZTF22aautrcf\n"
     ]
    },
    {
     "data": {
      "text/html": [
       "\n",
       "        <div>ZTF oid: ZTF22aautrcf, candid: 2027247252315015006</div>\n",
       "        <div>&emsp;&emsp;&emsp;&emsp;&emsp;\n",
       "        Science\n",
       "        &emsp;&emsp;&emsp;&emsp;&emsp;&emsp;&emsp;&emsp;&emsp;&emsp;&emsp;&emsp;\n",
       "        Template\n",
       "        &emsp;&emsp;&emsp;&emsp;&emsp;&emsp;&emsp;&emsp;&emsp;&emsp;&emsp;&emsp;\n",
       "        Difference\n",
       "        <div class=\"container\">\n",
       "        <div style=\"float:left;width:20%\"><img src=\"https://avro.alerce.online/get_stamp?oid=ZTF22aautrcf&candid=2027247252315015006&type=science&format=png\"></div>\n",
       "        <div style=\"float:left;width:20%\"><img src=\"https://avro.alerce.online/get_stamp?oid=ZTF22aautrcf&candid=2027247252315015006&type=template&format=png\"></div>\n",
       "        <div style=\"float:left;width:20%\"><img src=\"https://avro.alerce.online/get_stamp?oid=ZTF22aautrcf&candid=2027247252315015006&type=difference&format=png\"></div>\n",
       "        </div>\n",
       "        "
      ],
      "text/plain": [
       "<IPython.core.display.HTML object>"
      ]
     },
     "metadata": {},
     "output_type": "display_data"
    },
    {
     "name": "stdout",
     "output_type": "stream",
     "text": [
      "SN candidate classified using ALeRCE's stamp classifier (Carrasco-Davis et al. 2021) and the public ZTF stream. Discovery image and light curve in http://alerce.online/object/ZTF22aautrcf \n",
      "\n",
      " 26 ZTF22aautpdb\n",
      "http://alerce.online/object/ZTF22aautpdb\n"
     ]
    },
    {
     "data": {
      "text/html": [
       "\n",
       "        <div>ZTF oid: ZTF22aautpdb, candid: 2029301116315015006</div>\n",
       "        <div>&emsp;&emsp;&emsp;&emsp;&emsp;\n",
       "        Science\n",
       "        &emsp;&emsp;&emsp;&emsp;&emsp;&emsp;&emsp;&emsp;&emsp;&emsp;&emsp;&emsp;\n",
       "        Template\n",
       "        &emsp;&emsp;&emsp;&emsp;&emsp;&emsp;&emsp;&emsp;&emsp;&emsp;&emsp;&emsp;\n",
       "        Difference\n",
       "        <div class=\"container\">\n",
       "        <div style=\"float:left;width:20%\"><img src=\"https://avro.alerce.online/get_stamp?oid=ZTF22aautpdb&candid=2029301116315015006&type=science&format=png\"></div>\n",
       "        <div style=\"float:left;width:20%\"><img src=\"https://avro.alerce.online/get_stamp?oid=ZTF22aautpdb&candid=2029301116315015006&type=template&format=png\"></div>\n",
       "        <div style=\"float:left;width:20%\"><img src=\"https://avro.alerce.online/get_stamp?oid=ZTF22aautpdb&candid=2029301116315015006&type=difference&format=png\"></div>\n",
       "        </div>\n",
       "        "
      ],
      "text/plain": [
       "<IPython.core.display.HTML object>"
      ]
     },
     "metadata": {},
     "output_type": "display_data"
    },
    {
     "name": "stdout",
     "output_type": "stream",
     "text": [
      "Early SN candidate (g-rise > 0.31+-0.07 mag/day) classified using ALeRCE's stamp classifier (Carrasco-Davis et al. 2021) and the public ZTF stream. Discovery image and light curve in http://alerce.online/object/ZTF22aautpdb \n",
      "Sleep for 41 sec\n",
      "\n",
      " 27 ZTF22aautntp\n",
      "http://alerce.online/object/ZTF22aautntp\n"
     ]
    },
    {
     "data": {
      "text/html": [
       "\n",
       "        <div>ZTF oid: ZTF22aautntp, candid: 2027238063315015009</div>\n",
       "        <div>&emsp;&emsp;&emsp;&emsp;&emsp;\n",
       "        Science\n",
       "        &emsp;&emsp;&emsp;&emsp;&emsp;&emsp;&emsp;&emsp;&emsp;&emsp;&emsp;&emsp;\n",
       "        Template\n",
       "        &emsp;&emsp;&emsp;&emsp;&emsp;&emsp;&emsp;&emsp;&emsp;&emsp;&emsp;&emsp;\n",
       "        Difference\n",
       "        <div class=\"container\">\n",
       "        <div style=\"float:left;width:20%\"><img src=\"https://avro.alerce.online/get_stamp?oid=ZTF22aautntp&candid=2027238063315015009&type=science&format=png\"></div>\n",
       "        <div style=\"float:left;width:20%\"><img src=\"https://avro.alerce.online/get_stamp?oid=ZTF22aautntp&candid=2027238063315015009&type=template&format=png\"></div>\n",
       "        <div style=\"float:left;width:20%\"><img src=\"https://avro.alerce.online/get_stamp?oid=ZTF22aautntp&candid=2027238063315015009&type=difference&format=png\"></div>\n",
       "        </div>\n",
       "        "
      ],
      "text/plain": [
       "<IPython.core.display.HTML object>"
      ]
     },
     "metadata": {},
     "output_type": "display_data"
    },
    {
     "name": "stdout",
     "output_type": "stream",
     "text": [
      "SN candidate classified using ALeRCE's stamp classifier (Carrasco-Davis et al. 2021) and the public ZTF stream. Discovery image and light curve in http://alerce.online/object/ZTF22aautntp \n",
      "\n",
      " 28 ZTF22aautnrr\n",
      "http://alerce.online/object/ZTF22aautnrr\n"
     ]
    },
    {
     "data": {
      "text/html": [
       "\n",
       "        <div>ZTF oid: ZTF22aautnrr, candid: 2029283411315015005</div>\n",
       "        <div>&emsp;&emsp;&emsp;&emsp;&emsp;\n",
       "        Science\n",
       "        &emsp;&emsp;&emsp;&emsp;&emsp;&emsp;&emsp;&emsp;&emsp;&emsp;&emsp;&emsp;\n",
       "        Template\n",
       "        &emsp;&emsp;&emsp;&emsp;&emsp;&emsp;&emsp;&emsp;&emsp;&emsp;&emsp;&emsp;\n",
       "        Difference\n",
       "        <div class=\"container\">\n",
       "        <div style=\"float:left;width:20%\"><img src=\"https://avro.alerce.online/get_stamp?oid=ZTF22aautnrr&candid=2029283411315015005&type=science&format=png\"></div>\n",
       "        <div style=\"float:left;width:20%\"><img src=\"https://avro.alerce.online/get_stamp?oid=ZTF22aautnrr&candid=2029283411315015005&type=template&format=png\"></div>\n",
       "        <div style=\"float:left;width:20%\"><img src=\"https://avro.alerce.online/get_stamp?oid=ZTF22aautnrr&candid=2029283411315015005&type=difference&format=png\"></div>\n",
       "        </div>\n",
       "        "
      ],
      "text/plain": [
       "<IPython.core.display.HTML object>"
      ]
     },
     "metadata": {},
     "output_type": "display_data"
    },
    {
     "name": "stdout",
     "output_type": "stream",
     "text": [
      "SN candidate classified using ALeRCE's stamp classifier (Carrasco-Davis et al. 2021) and the public ZTF stream. Discovery image and light curve in http://alerce.online/object/ZTF22aautnrr \n",
      "\n",
      " 29 ZTF22aaunsga\n",
      "http://alerce.online/object/ZTF22aaunsga\n"
     ]
    },
    {
     "data": {
      "text/html": [
       "\n",
       "        <div>ZTF oid: ZTF22aaunsga, candid: 2027282091015015006</div>\n",
       "        <div>&emsp;&emsp;&emsp;&emsp;&emsp;\n",
       "        Science\n",
       "        &emsp;&emsp;&emsp;&emsp;&emsp;&emsp;&emsp;&emsp;&emsp;&emsp;&emsp;&emsp;\n",
       "        Template\n",
       "        &emsp;&emsp;&emsp;&emsp;&emsp;&emsp;&emsp;&emsp;&emsp;&emsp;&emsp;&emsp;\n",
       "        Difference\n",
       "        <div class=\"container\">\n",
       "        <div style=\"float:left;width:20%\"><img src=\"https://avro.alerce.online/get_stamp?oid=ZTF22aaunsga&candid=2027282091015015006&type=science&format=png\"></div>\n",
       "        <div style=\"float:left;width:20%\"><img src=\"https://avro.alerce.online/get_stamp?oid=ZTF22aaunsga&candid=2027282091015015006&type=template&format=png\"></div>\n",
       "        <div style=\"float:left;width:20%\"><img src=\"https://avro.alerce.online/get_stamp?oid=ZTF22aaunsga&candid=2027282091015015006&type=difference&format=png\"></div>\n",
       "        </div>\n",
       "        "
      ],
      "text/plain": [
       "<IPython.core.display.HTML object>"
      ]
     },
     "metadata": {},
     "output_type": "display_data"
    },
    {
     "name": "stdout",
     "output_type": "stream",
     "text": [
      "Early SN candidate (g-rise > 0.08+-0.01 mag/day) classified using ALeRCE's stamp classifier (Carrasco-Davis et al. 2021) and the public ZTF stream. Discovery image and light curve in http://alerce.online/object/ZTF22aaunsga \n",
      "\n",
      " 30 ZTF22aaujkdb\n",
      "http://alerce.online/object/ZTF22aaujkdb\n"
     ]
    },
    {
     "data": {
      "text/html": [
       "\n",
       "        <div>ZTF oid: ZTF22aaujkdb, candid: 2029352930415015005</div>\n",
       "        <div>&emsp;&emsp;&emsp;&emsp;&emsp;\n",
       "        Science\n",
       "        &emsp;&emsp;&emsp;&emsp;&emsp;&emsp;&emsp;&emsp;&emsp;&emsp;&emsp;&emsp;\n",
       "        Template\n",
       "        &emsp;&emsp;&emsp;&emsp;&emsp;&emsp;&emsp;&emsp;&emsp;&emsp;&emsp;&emsp;\n",
       "        Difference\n",
       "        <div class=\"container\">\n",
       "        <div style=\"float:left;width:20%\"><img src=\"https://avro.alerce.online/get_stamp?oid=ZTF22aaujkdb&candid=2029352930415015005&type=science&format=png\"></div>\n",
       "        <div style=\"float:left;width:20%\"><img src=\"https://avro.alerce.online/get_stamp?oid=ZTF22aaujkdb&candid=2029352930415015005&type=template&format=png\"></div>\n",
       "        <div style=\"float:left;width:20%\"><img src=\"https://avro.alerce.online/get_stamp?oid=ZTF22aaujkdb&candid=2029352930415015005&type=difference&format=png\"></div>\n",
       "        </div>\n",
       "        "
      ],
      "text/plain": [
       "<IPython.core.display.HTML object>"
      ]
     },
     "metadata": {},
     "output_type": "display_data"
    },
    {
     "name": "stdout",
     "output_type": "stream",
     "text": [
      "SN candidate classified using ALeRCE's stamp classifier (Carrasco-Davis et al. 2021) and the public ZTF stream. Discovery image and light curve in http://alerce.online/object/ZTF22aaujkdb \n",
      "\n",
      " 31 ZTF22aauhudo\n",
      "http://alerce.online/object/ZTF22aauhudo\n"
     ]
    },
    {
     "data": {
      "text/html": [
       "\n",
       "        <div>ZTF oid: ZTF22aauhudo, candid: 2025302495415015002</div>\n",
       "        <div>&emsp;&emsp;&emsp;&emsp;&emsp;\n",
       "        Science\n",
       "        &emsp;&emsp;&emsp;&emsp;&emsp;&emsp;&emsp;&emsp;&emsp;&emsp;&emsp;&emsp;\n",
       "        Template\n",
       "        &emsp;&emsp;&emsp;&emsp;&emsp;&emsp;&emsp;&emsp;&emsp;&emsp;&emsp;&emsp;\n",
       "        Difference\n",
       "        <div class=\"container\">\n",
       "        <div style=\"float:left;width:20%\"><img src=\"https://avro.alerce.online/get_stamp?oid=ZTF22aauhudo&candid=2025302495415015002&type=science&format=png\"></div>\n",
       "        <div style=\"float:left;width:20%\"><img src=\"https://avro.alerce.online/get_stamp?oid=ZTF22aauhudo&candid=2025302495415015002&type=template&format=png\"></div>\n",
       "        <div style=\"float:left;width:20%\"><img src=\"https://avro.alerce.online/get_stamp?oid=ZTF22aauhudo&candid=2025302495415015002&type=difference&format=png\"></div>\n",
       "        </div>\n",
       "        "
      ],
      "text/plain": [
       "<IPython.core.display.HTML object>"
      ]
     },
     "metadata": {},
     "output_type": "display_data"
    },
    {
     "name": "stdout",
     "output_type": "stream",
     "text": [
      "WARNING: dt = 0.04095 days\n",
      "Early SN candidate (r-rise > 1.00 mag/day) classified using ALeRCE's stamp classifier (Carrasco-Davis et al. 2021) and the public ZTF stream. Discovery image and light curve in http://alerce.online/object/ZTF22aauhudo \n",
      "\n",
      " 32 ZTF22aaugvnu\n",
      "http://alerce.online/object/ZTF22aaugvnu\n"
     ]
    },
    {
     "data": {
      "text/html": [
       "\n",
       "        <div>ZTF oid: ZTF22aaugvnu, candid: 2029259450415015013</div>\n",
       "        <div>&emsp;&emsp;&emsp;&emsp;&emsp;\n",
       "        Science\n",
       "        &emsp;&emsp;&emsp;&emsp;&emsp;&emsp;&emsp;&emsp;&emsp;&emsp;&emsp;&emsp;\n",
       "        Template\n",
       "        &emsp;&emsp;&emsp;&emsp;&emsp;&emsp;&emsp;&emsp;&emsp;&emsp;&emsp;&emsp;\n",
       "        Difference\n",
       "        <div class=\"container\">\n",
       "        <div style=\"float:left;width:20%\"><img src=\"https://avro.alerce.online/get_stamp?oid=ZTF22aaugvnu&candid=2029259450415015013&type=science&format=png\"></div>\n",
       "        <div style=\"float:left;width:20%\"><img src=\"https://avro.alerce.online/get_stamp?oid=ZTF22aaugvnu&candid=2029259450415015013&type=template&format=png\"></div>\n",
       "        <div style=\"float:left;width:20%\"><img src=\"https://avro.alerce.online/get_stamp?oid=ZTF22aaugvnu&candid=2029259450415015013&type=difference&format=png\"></div>\n",
       "        </div>\n",
       "        "
      ],
      "text/plain": [
       "<IPython.core.display.HTML object>"
      ]
     },
     "metadata": {},
     "output_type": "display_data"
    },
    {
     "name": "stdout",
     "output_type": "stream",
     "text": [
      "SN candidate classified using ALeRCE's stamp classifier (Carrasco-Davis et al. 2021) and the public ZTF stream. Discovery image and light curve in http://alerce.online/object/ZTF22aaugvnu \n",
      "\n",
      " 33 ZTF22aaudjgc\n",
      "http://alerce.online/object/ZTF22aaudjgc\n"
     ]
    },
    {
     "data": {
      "text/html": [
       "\n",
       "        <div>ZTF oid: ZTF22aaudjgc, candid: 2028319183615015004</div>\n",
       "        <div>&emsp;&emsp;&emsp;&emsp;&emsp;\n",
       "        Science\n",
       "        &emsp;&emsp;&emsp;&emsp;&emsp;&emsp;&emsp;&emsp;&emsp;&emsp;&emsp;&emsp;\n",
       "        Template\n",
       "        &emsp;&emsp;&emsp;&emsp;&emsp;&emsp;&emsp;&emsp;&emsp;&emsp;&emsp;&emsp;\n",
       "        Difference\n",
       "        <div class=\"container\">\n",
       "        <div style=\"float:left;width:20%\"><img src=\"https://avro.alerce.online/get_stamp?oid=ZTF22aaudjgc&candid=2028319183615015004&type=science&format=png\"></div>\n",
       "        <div style=\"float:left;width:20%\"><img src=\"https://avro.alerce.online/get_stamp?oid=ZTF22aaudjgc&candid=2028319183615015004&type=template&format=png\"></div>\n",
       "        <div style=\"float:left;width:20%\"><img src=\"https://avro.alerce.online/get_stamp?oid=ZTF22aaudjgc&candid=2028319183615015004&type=difference&format=png\"></div>\n",
       "        </div>\n",
       "        "
      ],
      "text/plain": [
       "<IPython.core.display.HTML object>"
      ]
     },
     "metadata": {},
     "output_type": "display_data"
    },
    {
     "name": "stdout",
     "output_type": "stream",
     "text": [
      "Early SN candidate (g-rise > 0.64+-0.03 mag/day, r-rise > 0.23+-0.01 mag/day) classified using ALeRCE's stamp classifier (Carrasco-Davis et al. 2021) and the public ZTF stream. Discovery image and light curve in http://alerce.online/object/ZTF22aaudjgc \n",
      "Astronomical transient is known: [{'objname': '2022pfx', 'prefix': 'AT', 'objid': 112351}] \n",
      "\n",
      "Reporting info: {'discoverer': ['ZTF'], 'objname': ['2022pfx'], 'reporter': ['ZTF'], 'internal_names': ['ZTF22aaudjgc']}\n",
      "Object was reported using the same ZTF internal name, do not report.\n",
      "\n",
      " 33 ZTF22aatymow\n",
      "http://alerce.online/object/ZTF22aatymow\n"
     ]
    },
    {
     "data": {
      "text/html": [
       "\n",
       "        <div>ZTF oid: ZTF22aatymow, candid: 2029258982315015018</div>\n",
       "        <div>&emsp;&emsp;&emsp;&emsp;&emsp;\n",
       "        Science\n",
       "        &emsp;&emsp;&emsp;&emsp;&emsp;&emsp;&emsp;&emsp;&emsp;&emsp;&emsp;&emsp;\n",
       "        Template\n",
       "        &emsp;&emsp;&emsp;&emsp;&emsp;&emsp;&emsp;&emsp;&emsp;&emsp;&emsp;&emsp;\n",
       "        Difference\n",
       "        <div class=\"container\">\n",
       "        <div style=\"float:left;width:20%\"><img src=\"https://avro.alerce.online/get_stamp?oid=ZTF22aatymow&candid=2029258982315015018&type=science&format=png\"></div>\n",
       "        <div style=\"float:left;width:20%\"><img src=\"https://avro.alerce.online/get_stamp?oid=ZTF22aatymow&candid=2029258982315015018&type=template&format=png\"></div>\n",
       "        <div style=\"float:left;width:20%\"><img src=\"https://avro.alerce.online/get_stamp?oid=ZTF22aatymow&candid=2029258982315015018&type=difference&format=png\"></div>\n",
       "        </div>\n",
       "        "
      ],
      "text/plain": [
       "<IPython.core.display.HTML object>"
      ]
     },
     "metadata": {},
     "output_type": "display_data"
    },
    {
     "name": "stdout",
     "output_type": "stream",
     "text": [
      "SN candidate classified using ALeRCE's stamp classifier (Carrasco-Davis et al. 2021) and the public ZTF stream. Discovery image and light curve in http://alerce.online/object/ZTF22aatymow \n",
      "\n",
      " 34 ZTF22aatylyb\n",
      "http://alerce.online/object/ZTF22aatylyb\n"
     ]
    },
    {
     "data": {
      "text/html": [
       "\n",
       "        <div>ZTF oid: ZTF22aatylyb, candid: 2029265170015015003</div>\n",
       "        <div>&emsp;&emsp;&emsp;&emsp;&emsp;\n",
       "        Science\n",
       "        &emsp;&emsp;&emsp;&emsp;&emsp;&emsp;&emsp;&emsp;&emsp;&emsp;&emsp;&emsp;\n",
       "        Template\n",
       "        &emsp;&emsp;&emsp;&emsp;&emsp;&emsp;&emsp;&emsp;&emsp;&emsp;&emsp;&emsp;\n",
       "        Difference\n",
       "        <div class=\"container\">\n",
       "        <div style=\"float:left;width:20%\"><img src=\"https://avro.alerce.online/get_stamp?oid=ZTF22aatylyb&candid=2029265170015015003&type=science&format=png\"></div>\n",
       "        <div style=\"float:left;width:20%\"><img src=\"https://avro.alerce.online/get_stamp?oid=ZTF22aatylyb&candid=2029265170015015003&type=template&format=png\"></div>\n",
       "        <div style=\"float:left;width:20%\"><img src=\"https://avro.alerce.online/get_stamp?oid=ZTF22aatylyb&candid=2029265170015015003&type=difference&format=png\"></div>\n",
       "        </div>\n",
       "        "
      ],
      "text/plain": [
       "<IPython.core.display.HTML object>"
      ]
     },
     "metadata": {},
     "output_type": "display_data"
    },
    {
     "name": "stdout",
     "output_type": "stream",
     "text": [
      "SN candidate classified using ALeRCE's stamp classifier (Carrasco-Davis et al. 2021) and the public ZTF stream. Discovery image and light curve in http://alerce.online/object/ZTF22aatylyb \n",
      "Sleep for 41 sec\n",
      "\n",
      " 35 ZTF22aatxslc\n",
      "http://alerce.online/object/ZTF22aatxslc\n"
     ]
    },
    {
     "data": {
      "text/html": [
       "\n",
       "        <div>ZTF oid: ZTF22aatxslc, candid: 2024192475615015016</div>\n",
       "        <div>&emsp;&emsp;&emsp;&emsp;&emsp;\n",
       "        Science\n",
       "        &emsp;&emsp;&emsp;&emsp;&emsp;&emsp;&emsp;&emsp;&emsp;&emsp;&emsp;&emsp;\n",
       "        Template\n",
       "        &emsp;&emsp;&emsp;&emsp;&emsp;&emsp;&emsp;&emsp;&emsp;&emsp;&emsp;&emsp;\n",
       "        Difference\n",
       "        <div class=\"container\">\n",
       "        <div style=\"float:left;width:20%\"><img src=\"https://avro.alerce.online/get_stamp?oid=ZTF22aatxslc&candid=2024192475615015016&type=science&format=png\"></div>\n",
       "        <div style=\"float:left;width:20%\"><img src=\"https://avro.alerce.online/get_stamp?oid=ZTF22aatxslc&candid=2024192475615015016&type=template&format=png\"></div>\n",
       "        <div style=\"float:left;width:20%\"><img src=\"https://avro.alerce.online/get_stamp?oid=ZTF22aatxslc&candid=2024192475615015016&type=difference&format=png\"></div>\n",
       "        </div>\n",
       "        "
      ],
      "text/plain": [
       "<IPython.core.display.HTML object>"
      ]
     },
     "metadata": {},
     "output_type": "display_data"
    },
    {
     "name": "stdout",
     "output_type": "stream",
     "text": [
      "SN candidate classified using ALeRCE's stamp classifier (Carrasco-Davis et al. 2021) and the public ZTF stream. Discovery image and light curve in http://alerce.online/object/ZTF22aatxslc \n",
      "Astronomical transient is known: [{'objname': '2022pfw', 'prefix': 'AT', 'objid': 112350}] \n",
      "\n",
      "Reporting info: {'discoverer': ['ZTF'], 'objname': ['2022pfw'], 'reporter': ['SGLF'], 'internal_names': ['ZTF22aatxslc', 'PS22ggs']}\n",
      "Object was reported using the same ZTF internal name, do not report.\n",
      "\n",
      " 35 ZTF22aatpwfw\n",
      "http://alerce.online/object/ZTF22aatpwfw\n"
     ]
    },
    {
     "data": {
      "text/html": [
       "\n",
       "        <div>ZTF oid: ZTF22aatpwfw, candid: 2024408466315015011</div>\n",
       "        <div>&emsp;&emsp;&emsp;&emsp;&emsp;\n",
       "        Science\n",
       "        &emsp;&emsp;&emsp;&emsp;&emsp;&emsp;&emsp;&emsp;&emsp;&emsp;&emsp;&emsp;\n",
       "        Template\n",
       "        &emsp;&emsp;&emsp;&emsp;&emsp;&emsp;&emsp;&emsp;&emsp;&emsp;&emsp;&emsp;\n",
       "        Difference\n",
       "        <div class=\"container\">\n",
       "        <div style=\"float:left;width:20%\"><img src=\"https://avro.alerce.online/get_stamp?oid=ZTF22aatpwfw&candid=2024408466315015011&type=science&format=png\"></div>\n",
       "        <div style=\"float:left;width:20%\"><img src=\"https://avro.alerce.online/get_stamp?oid=ZTF22aatpwfw&candid=2024408466315015011&type=template&format=png\"></div>\n",
       "        <div style=\"float:left;width:20%\"><img src=\"https://avro.alerce.online/get_stamp?oid=ZTF22aatpwfw&candid=2024408466315015011&type=difference&format=png\"></div>\n",
       "        </div>\n",
       "        "
      ],
      "text/plain": [
       "<IPython.core.display.HTML object>"
      ]
     },
     "metadata": {},
     "output_type": "display_data"
    },
    {
     "name": "stdout",
     "output_type": "stream",
     "text": [
      "Early SN candidate (g-rise > 0.14+-0.01 mag/day, r-rise > 0.10+-0.01 mag/day) classified using ALeRCE's stamp classifier (Carrasco-Davis et al. 2021) and the public ZTF stream. Discovery image and light curve in http://alerce.online/object/ZTF22aatpwfw \n",
      "Astronomical transient is known: [{'objname': '2022paf', 'prefix': 'AT', 'objid': 112197}] \n",
      "\n",
      "Reporting info: {'discoverer': ['ZTF'], 'objname': ['2022paf'], 'reporter': ['ZTF'], 'internal_names': ['ZTF22aatpwfw']}\n",
      "Object was reported using the same ZTF internal name, do not report.\n",
      "\n",
      " 35 ZTF18aanabqp\n",
      "http://alerce.online/object/ZTF18aanabqp\n"
     ]
    },
    {
     "data": {
      "text/html": [
       "\n",
       "        <div>ZTF oid: ZTF18aanabqp, candid: 2028261861315015018</div>\n",
       "        <div>&emsp;&emsp;&emsp;&emsp;&emsp;\n",
       "        Science\n",
       "        &emsp;&emsp;&emsp;&emsp;&emsp;&emsp;&emsp;&emsp;&emsp;&emsp;&emsp;&emsp;\n",
       "        Template\n",
       "        &emsp;&emsp;&emsp;&emsp;&emsp;&emsp;&emsp;&emsp;&emsp;&emsp;&emsp;&emsp;\n",
       "        Difference\n",
       "        <div class=\"container\">\n",
       "        <div style=\"float:left;width:20%\"><img src=\"https://avro.alerce.online/get_stamp?oid=ZTF18aanabqp&candid=2028261861315015018&type=science&format=png\"></div>\n",
       "        <div style=\"float:left;width:20%\"><img src=\"https://avro.alerce.online/get_stamp?oid=ZTF18aanabqp&candid=2028261861315015018&type=template&format=png\"></div>\n",
       "        <div style=\"float:left;width:20%\"><img src=\"https://avro.alerce.online/get_stamp?oid=ZTF18aanabqp&candid=2028261861315015018&type=difference&format=png\"></div>\n",
       "        </div>\n",
       "        "
      ],
      "text/plain": [
       "<IPython.core.display.HTML object>"
      ]
     },
     "metadata": {},
     "output_type": "display_data"
    },
    {
     "name": "stdout",
     "output_type": "stream",
     "text": [
      "Early SN candidate (r-rise > 0.16+-0.03 mag/day) classified using ALeRCE's stamp classifier (Carrasco-Davis et al. 2021) and the public ZTF stream. Discovery image and light curve in http://alerce.online/object/ZTF18aanabqp \n"
     ]
    }
   ],
   "source": [
    "# first author: the person submitting, 2nd author: those that vetoed, then everyone else\n",
    "tns_report = {\"at_report\": {}}\n",
    "counter = 0\n",
    "for oid in candidates[::-1]: # invert to report old candidates first\n",
    "    #if oid in [\"ZTF20aauqmwf\"]:#[\"ZTF19acgjpfd\", \"ZTF18acszatf\", \"ZTF18acrkmnm\"]:\n",
    "    #    continue\n",
    "    #if oid in [\"ZTF20acqnfkh \", \"ZTF20acneabh\"]:#ZTF20acplctd\":#aamtgd\": #ZTF19acymtgr\": #ZTF19acnqqhl\":#in [\"ZTF19acmdwjy\", \"ZTF19acmdwjz\"]:\n",
    "    #    continue\n",
    "    #if oid == \"ZTF20ablnjwh\": #ZTF20abkmxrm\":#ZTF20abgfgne\":\n",
    "    #    continue\n",
    "    if oid in [\"ZTF22aabrskg\"]: #ZTF21abgvidd\"]: #ZTF21aawgsfp\"]:#ZTF21aalcrjh\"]: #ZTF21aaanwxo\"]:#, ZTF20adadixi\"]:# ZTF20acsggey\"]:#, \"ZTF20acmevcc\", \"ZTF20acmctng\", \"ZTF20acmdvzk\"]: #== \"ZTF20acgknep\":#\"ZTF20acdcdqq\": #ZTF20acaehey\": #ZTF20abyjoxb\":#\"ZTF20abqjddh\":#ZTF20abkxqzv\":#ZTF20abgbfyk\":\n",
    "        continue\n",
    "\n",
    "    print(\"\\n\", counter, oid)\n",
    "    sn_report = alerce.do_TNS_report(api_key, oid, reporter, verbose=False, test=False)\n",
    "    if sn_report:# or oid == \"ZTF20abyptpc\":\n",
    "        tns_report[\"at_report\"][\"%i\" % counter] = sn_report\n",
    "        counter += 1\n"
   ]
  },
  {
   "cell_type": "markdown",
   "metadata": {},
   "source": [
    "## Manual modifications"
   ]
  },
  {
   "cell_type": "code",
   "execution_count": 165,
   "metadata": {
    "ExecuteTime": {
     "end_time": "2022-07-23T23:57:00.342758Z",
     "start_time": "2022-07-23T23:57:00.310030Z"
    }
   },
   "outputs": [],
   "source": [
    "#report['at_report']['0']['remarks'] = \"Fast rising transient (g-rise > 1.48 mag/day)\"#report['at_report']['3']['remarks'] = 'Nova candidate in M31 (g-rise > 0.16+-0.01 mag/day, r-rise > 0.24+-0.01 mag/day) classified by ALeRCE using the public ZTF stream. Discovery image and light curve in http://alerce.online/object/ZTF19acxrihd '"
   ]
  },
  {
   "cell_type": "code",
   "execution_count": 166,
   "metadata": {
    "ExecuteTime": {
     "end_time": "2022-07-23T23:57:00.581257Z",
     "start_time": "2022-07-23T23:57:00.541963Z"
    }
   },
   "outputs": [],
   "source": [
    "# note that the space at the end is necessary\n",
    "#report['at_report']['3']['remarks'] = 'Nova candidate in M31 (r-rise > 0.43+-0.01 mag/day) classified by ALeRCE using the public ZTF stream. Discovery image and light curve in http://alerce.online/object/ZTF20acgigfo '"
   ]
  },
  {
   "cell_type": "markdown",
   "metadata": {},
   "source": [
    "## Display report"
   ]
  },
  {
   "cell_type": "code",
   "execution_count": 167,
   "metadata": {
    "ExecuteTime": {
     "end_time": "2022-07-23T23:57:01.161979Z",
     "start_time": "2022-07-23T23:57:01.113665Z"
    },
    "scrolled": true
   },
   "outputs": [
    {
     "name": "stdout",
     "output_type": "stream",
     "text": [
      "{\n",
      "    \"at_report\": {\n",
      "        \"0\": {\n",
      "            \"at_type\": \"1\",\n",
      "            \"dec\": {\n",
      "                \"error\": \"0.085\",\n",
      "                \"units\": \"arcsec\",\n",
      "                \"value\": \"28.67364345\"\n",
      "            },\n",
      "            \"discovery_data_source_id\": \"48\",\n",
      "            \"discovery_datetime\": \"2022-07-23 11:38:01.000\",\n",
      "            \"host_name\": \"WISEA J051048.14+284024.4\",\n",
      "            \"internal_name\": \"ZTF22aavklii\",\n",
      "            \"non_detection\": {\n",
      "                \"comments\": \"Data provided by ZTF\",\n",
      "                \"exptime\": \"30\",\n",
      "                \"filter_value\": \"111\",\n",
      "                \"flux_units\": \"1\",\n",
      "                \"instrument_value\": \"196\",\n",
      "                \"limiting_flux\": \"18.4507\",\n",
      "                \"obsdate\": \"2022-07-22 11:49:29.997\",\n",
      "                \"observer\": \"Robot\"\n",
      "            },\n",
      "            \"photometry\": {\n",
      "                \"photometry_group\": {\n",
      "                    \"0\": {\n",
      "                        \"comments\": \"Data provided by ZTF\",\n",
      "                        \"exptime\": \"30\",\n",
      "                        \"filter_value\": \"111\",\n",
      "                        \"flux\": \"19.0613\",\n",
      "                        \"flux_error\": \"0.222315\",\n",
      "                        \"flux_units\": \"1\",\n",
      "                        \"instrument_value\": \"196\",\n",
      "                        \"limiting_flux\": \"19.4486\",\n",
      "                        \"obsdate\": \"2022-07-23 11:38:01.000\",\n",
      "                        \"observer\": \"Robot\"\n",
      "                    },\n",
      "                    \"1\": {\n",
      "                        \"comments\": \"Data provided by ZTF\",\n",
      "                        \"exptime\": \"30\",\n",
      "                        \"filter_value\": \"111\",\n",
      "                        \"flux\": \"19.24329\",\n",
      "                        \"flux_error\": \"0.17418087\",\n",
      "                        \"flux_units\": \"1\",\n",
      "                        \"instrument_value\": \"196\",\n",
      "                        \"limiting_flux\": \"19.500185\",\n",
      "                        \"obsdate\": \"2022-07-23 11:41:29.000\",\n",
      "                        \"observer\": \"Robot\"\n",
      "                    },\n",
      "                    \"2\": {\n",
      "                        \"comments\": \"Data provided by ZTF\",\n",
      "                        \"exptime\": \"30\",\n",
      "                        \"filter_value\": \"111\",\n",
      "                        \"flux\": \"19.2115\",\n",
      "                        \"flux_error\": \"0.218184\",\n",
      "                        \"flux_units\": \"1\",\n",
      "                        \"instrument_value\": \"196\",\n",
      "                        \"limiting_flux\": \"19.1398\",\n",
      "                        \"obsdate\": \"2022-07-23 11:44:59.004\",\n",
      "                        \"observer\": \"Robot\"\n",
      "                    },\n",
      "                    \"3\": {\n",
      "                        \"comments\": \"Data provided by ZTF\",\n",
      "                        \"exptime\": \"30\",\n",
      "                        \"filter_value\": \"111\",\n",
      "                        \"flux\": \"18.991241\",\n",
      "                        \"flux_error\": \"0.15879317\",\n",
      "                        \"flux_units\": \"1\",\n",
      "                        \"instrument_value\": \"196\",\n",
      "                        \"limiting_flux\": \"19.28114\",\n",
      "                        \"obsdate\": \"2022-07-23 11:51:58.000\",\n",
      "                        \"observer\": \"Robot\"\n",
      "                    }\n",
      "                }\n",
      "            },\n",
      "            \"ra\": {\n",
      "                \"error\": \"0.085\",\n",
      "                \"units\": \"arcsec\",\n",
      "                \"value\": \"77.700678375\"\n",
      "            },\n",
      "            \"remarks\": \"SN candidate classified using ALeRCE's stamp classifier (Carrasco-Davis et al. 2021) and the public ZTF stream. Discovery image and light curve in http://alerce.online/object/ZTF22aavklii \",\n",
      "            \"reporter\": \"F. Forster, F.E. Bauer, G. Pignata, A. Munoz-Arancibia, A. Mourao, R. Dastidar, L. Hernandez-Garcia, L. Galbany, E. Camacho, J. Silva-Farfan, J. Arredondo, G. Cabrera-Vives, R. Carrasco-Davis, P.A. Estevez, P. Huijse, E. Reyes, I. Reyes, P. Sanchez-Saez, C. Valenzuela, E. Castillo, D. Ruz-Mieres, D. Rodriguez-Mancini, M. Catelan, S. Eyheramendy, M.J. Graham on behalf of the ALeRCE broker\",\n",
      "            \"reporting_group_id\": \"74\"\n",
      "        },\n",
      "        \"1\": {\n",
      "            \"at_type\": \"1\",\n",
      "            \"dec\": {\n",
      "                \"error\": \"0.085\",\n",
      "                \"units\": \"arcsec\",\n",
      "                \"value\": \"18.8273944\"\n",
      "            },\n",
      "            \"discovery_data_source_id\": \"48\",\n",
      "            \"discovery_datetime\": \"2022-07-23 10:22:41.002\",\n",
      "            \"host_name\": \"SDSS J003701.95+184939.0\",\n",
      "            \"internal_name\": \"ZTF22aavjwht\",\n",
      "            \"non_detection\": {\n",
      "                \"comments\": \"Data provided by ZTF\",\n",
      "                \"exptime\": \"30\",\n",
      "                \"filter_value\": \"110\",\n",
      "                \"flux_units\": \"1\",\n",
      "                \"instrument_value\": \"196\",\n",
      "                \"limiting_flux\": \"19.2464\",\n",
      "                \"obsdate\": \"2022-07-21 10:35:36.001\",\n",
      "                \"observer\": \"Robot\"\n",
      "            },\n",
      "            \"photometry\": {\n",
      "                \"photometry_group\": {\n",
      "                    \"0\": {\n",
      "                        \"comments\": \"Data provided by ZTF\",\n",
      "                        \"exptime\": \"30\",\n",
      "                        \"filter_value\": \"110\",\n",
      "                        \"flux\": \"20.6135\",\n",
      "                        \"flux_error\": \"0.231934\",\n",
      "                        \"flux_units\": \"1\",\n",
      "                        \"instrument_value\": \"196\",\n",
      "                        \"limiting_flux\": \"20.6207\",\n",
      "                        \"obsdate\": \"2022-07-23 10:22:41.002\",\n",
      "                        \"observer\": \"Robot\"\n",
      "                    },\n",
      "                    \"1\": {\n",
      "                        \"comments\": \"Data provided by ZTF\",\n",
      "                        \"exptime\": \"30\",\n",
      "                        \"filter_value\": \"111\",\n",
      "                        \"flux\": \"20.420694\",\n",
      "                        \"flux_error\": \"0.21619894\",\n",
      "                        \"flux_units\": \"1\",\n",
      "                        \"instrument_value\": \"196\",\n",
      "                        \"limiting_flux\": \"20.68679\",\n",
      "                        \"obsdate\": \"2022-07-23 11:14:12.998\",\n",
      "                        \"observer\": \"Robot\"\n",
      "                    }\n",
      "                }\n",
      "            },\n",
      "            \"ra\": {\n",
      "                \"error\": \"0.085\",\n",
      "                \"units\": \"arcsec\",\n",
      "                \"value\": \"9.25813415\"\n",
      "            },\n",
      "            \"remarks\": \"SN candidate classified using ALeRCE's stamp classifier (Carrasco-Davis et al. 2021) and the public ZTF stream. Discovery image and light curve in http://alerce.online/object/ZTF22aavjwht \",\n",
      "            \"reporter\": \"F. Forster, F.E. Bauer, G. Pignata, A. Munoz-Arancibia, A. Mourao, R. Dastidar, L. Hernandez-Garcia, L. Galbany, E. Camacho, J. Silva-Farfan, J. Arredondo, G. Cabrera-Vives, R. Carrasco-Davis, P.A. Estevez, P. Huijse, E. Reyes, I. Reyes, P. Sanchez-Saez, C. Valenzuela, E. Castillo, D. Ruz-Mieres, D. Rodriguez-Mancini, M. Catelan, S. Eyheramendy, M.J. Graham on behalf of the ALeRCE broker\",\n",
      "            \"reporting_group_id\": \"74\"\n",
      "        },\n",
      "        \"10\": {\n",
      "            \"at_type\": \"1\",\n",
      "            \"dec\": {\n",
      "                \"error\": \"0.085\",\n",
      "                \"units\": \"arcsec\",\n",
      "                \"value\": \"-27.354524825\"\n",
      "            },\n",
      "            \"discovery_data_source_id\": \"48\",\n",
      "            \"discovery_datetime\": \"2022-07-19 09:02:32.997\",\n",
      "            \"host_name\": \"WISEA J200134.36-272122.0\",\n",
      "            \"internal_name\": \"ZTF22aavdscs\",\n",
      "            \"non_detection\": {\n",
      "                \"comments\": \"Data provided by ZTF\",\n",
      "                \"exptime\": \"30\",\n",
      "                \"filter_value\": \"111\",\n",
      "                \"flux_units\": \"1\",\n",
      "                \"instrument_value\": \"196\",\n",
      "                \"limiting_flux\": \"19.3596\",\n",
      "                \"obsdate\": \"2022-07-16 08:32:00.004\",\n",
      "                \"observer\": \"Robot\"\n",
      "            },\n",
      "            \"photometry\": {\n",
      "                \"photometry_group\": {\n",
      "                    \"0\": {\n",
      "                        \"comments\": \"Data provided by ZTF\",\n",
      "                        \"exptime\": \"30\",\n",
      "                        \"filter_value\": \"111\",\n",
      "                        \"flux\": \"20.0456\",\n",
      "                        \"flux_error\": \"0.239205\",\n",
      "                        \"flux_units\": \"1\",\n",
      "                        \"instrument_value\": \"196\",\n",
      "                        \"limiting_flux\": \"19.8104\",\n",
      "                        \"obsdate\": \"2022-07-19 09:02:32.997\",\n",
      "                        \"observer\": \"Robot\"\n",
      "                    },\n",
      "                    \"1\": {\n",
      "                        \"comments\": \"Data provided by ZTF\",\n",
      "                        \"exptime\": \"30\",\n",
      "                        \"filter_value\": \"110\",\n",
      "                        \"flux\": \"19.8353\",\n",
      "                        \"flux_error\": \"0.365945\",\n",
      "                        \"flux_units\": \"1\",\n",
      "                        \"instrument_value\": \"196\",\n",
      "                        \"limiting_flux\": \"19.3929\",\n",
      "                        \"obsdate\": \"2022-07-21 08:31:51.001\",\n",
      "                        \"observer\": \"Robot\"\n",
      "                    },\n",
      "                    \"2\": {\n",
      "                        \"comments\": \"Data provided by ZTF\",\n",
      "                        \"exptime\": \"30\",\n",
      "                        \"filter_value\": \"110\",\n",
      "                        \"flux\": \"19.74365\",\n",
      "                        \"flux_error\": \"0.1702762\",\n",
      "                        \"flux_units\": \"1\",\n",
      "                        \"instrument_value\": \"196\",\n",
      "                        \"limiting_flux\": \"20.21822\",\n",
      "                        \"obsdate\": \"2022-07-23 07:57:54.000\",\n",
      "                        \"observer\": \"Robot\"\n",
      "                    },\n",
      "                    \"3\": {\n",
      "                        \"comments\": \"Data provided by ZTF\",\n",
      "                        \"exptime\": \"30\",\n",
      "                        \"filter_value\": \"111\",\n",
      "                        \"flux\": \"19.833752\",\n",
      "                        \"flux_error\": \"0.16826768\",\n",
      "                        \"flux_units\": \"1\",\n",
      "                        \"instrument_value\": \"196\",\n",
      "                        \"limiting_flux\": \"20.225037\",\n",
      "                        \"obsdate\": \"2022-07-23 09:01:23.998\",\n",
      "                        \"observer\": \"Robot\"\n",
      "                    }\n",
      "                }\n",
      "            },\n",
      "            \"ra\": {\n",
      "                \"error\": \"0.085\",\n",
      "                \"units\": \"arcsec\",\n",
      "                \"value\": \"300.394353875\"\n",
      "            },\n",
      "            \"remarks\": \"SN candidate classified using ALeRCE's stamp classifier (Carrasco-Davis et al. 2021) and the public ZTF stream. Discovery image and light curve in http://alerce.online/object/ZTF22aavdscs \",\n",
      "            \"reporter\": \"F. Forster, F.E. Bauer, G. Pignata, A. Munoz-Arancibia, A. Mourao, R. Dastidar, L. Hernandez-Garcia, L. Galbany, E. Camacho, J. Silva-Farfan, J. Arredondo, G. Cabrera-Vives, R. Carrasco-Davis, P.A. Estevez, P. Huijse, E. Reyes, I. Reyes, P. Sanchez-Saez, C. Valenzuela, E. Castillo, D. Ruz-Mieres, D. Rodriguez-Mancini, M. Catelan, S. Eyheramendy, M.J. Graham on behalf of the ALeRCE broker\",\n",
      "            \"reporting_group_id\": \"74\"\n",
      "        },\n",
      "        \"11\": {\n",
      "            \"at_type\": \"1\",\n",
      "            \"dec\": {\n",
      "                \"error\": \"0.085\",\n",
      "                \"units\": \"arcsec\",\n",
      "                \"value\": \"-9.0839201\"\n",
      "            },\n",
      "            \"discovery_data_source_id\": \"48\",\n",
      "            \"discovery_datetime\": \"2022-07-23 07:55:52.003\",\n",
      "            \"host_name\": \"WISEA J203754.23-090502.9\",\n",
      "            \"internal_name\": \"ZTF22aavdrdz\",\n",
      "            \"non_detection\": {\n",
      "                \"comments\": \"Data provided by ZTF\",\n",
      "                \"exptime\": \"30\",\n",
      "                \"filter_value\": \"110\",\n",
      "                \"flux_units\": \"1\",\n",
      "                \"instrument_value\": \"196\",\n",
      "                \"limiting_flux\": \"17.9202\",\n",
      "                \"obsdate\": \"2022-07-21 10:03:33.998\",\n",
      "                \"observer\": \"Robot\"\n",
      "            },\n",
      "            \"photometry\": {\n",
      "                \"photometry_group\": {\n",
      "                    \"0\": {\n",
      "                        \"comments\": \"Data provided by ZTF\",\n",
      "                        \"exptime\": \"30\",\n",
      "                        \"filter_value\": \"110\",\n",
      "                        \"flux\": \"20.061491\",\n",
      "                        \"flux_error\": \"0.21327011\",\n",
      "                        \"flux_units\": \"1\",\n",
      "                        \"instrument_value\": \"196\",\n",
      "                        \"limiting_flux\": \"20.666538\",\n",
      "                        \"obsdate\": \"2022-07-23 07:55:52.003\",\n",
      "                        \"observer\": \"Robot\"\n",
      "                    }\n",
      "                }\n",
      "            },\n",
      "            \"ra\": {\n",
      "                \"error\": \"0.085\",\n",
      "                \"units\": \"arcsec\",\n",
      "                \"value\": \"309.4764071\"\n",
      "            },\n",
      "            \"remarks\": \"SN candidate classified using ALeRCE's stamp classifier (Carrasco-Davis et al. 2021) and the public ZTF stream. Discovery image and light curve in http://alerce.online/object/ZTF22aavdrdz \",\n",
      "            \"reporter\": \"F. Forster, F.E. Bauer, G. Pignata, A. Munoz-Arancibia, A. Mourao, R. Dastidar, L. Hernandez-Garcia, L. Galbany, E. Camacho, J. Silva-Farfan, J. Arredondo, G. Cabrera-Vives, R. Carrasco-Davis, P.A. Estevez, P. Huijse, E. Reyes, I. Reyes, P. Sanchez-Saez, C. Valenzuela, E. Castillo, D. Ruz-Mieres, D. Rodriguez-Mancini, M. Catelan, S. Eyheramendy, M.J. Graham on behalf of the ALeRCE broker\",\n",
      "            \"reporting_group_id\": \"74\"\n",
      "        },\n",
      "        \"12\": {\n",
      "            \"at_type\": \"1\",\n",
      "            \"dec\": {\n",
      "                \"error\": \"0.085\",\n",
      "                \"units\": \"arcsec\",\n",
      "                \"value\": \"-8.4220893\"\n",
      "            },\n",
      "            \"discovery_data_source_id\": \"48\",\n",
      "            \"discovery_datetime\": \"2022-07-21 08:33:52.998\",\n",
      "            \"host_name\": \"WISEA J202718.04-082513.2\",\n",
      "            \"internal_name\": \"ZTF22aavdrbx\",\n",
      "            \"non_detection\": {\n",
      "                \"comments\": \"Data provided by ZTF\",\n",
      "                \"exptime\": \"30\",\n",
      "                \"filter_value\": \"111\",\n",
      "                \"flux_units\": \"1\",\n",
      "                \"instrument_value\": \"196\",\n",
      "                \"limiting_flux\": \"20.1769\",\n",
      "                \"obsdate\": \"2022-07-19 09:03:54.999\",\n",
      "                \"observer\": \"Robot\"\n",
      "            },\n",
      "            \"photometry\": {\n",
      "                \"photometry_group\": {\n",
      "                    \"0\": {\n",
      "                        \"comments\": \"Data provided by ZTF\",\n",
      "                        \"exptime\": \"30\",\n",
      "                        \"filter_value\": \"110\",\n",
      "                        \"flux\": \"20.6243\",\n",
      "                        \"flux_error\": \"0.270536\",\n",
      "                        \"flux_units\": \"1\",\n",
      "                        \"instrument_value\": \"196\",\n",
      "                        \"limiting_flux\": \"20.2703\",\n",
      "                        \"obsdate\": \"2022-07-21 08:33:52.998\",\n",
      "                        \"observer\": \"Robot\"\n",
      "                    },\n",
      "                    \"1\": {\n",
      "                        \"comments\": \"Data provided by ZTF\",\n",
      "                        \"exptime\": \"30\",\n",
      "                        \"filter_value\": \"110\",\n",
      "                        \"flux\": \"20.425415\",\n",
      "                        \"flux_error\": \"0.18479101\",\n",
      "                        \"flux_units\": \"1\",\n",
      "                        \"instrument_value\": \"196\",\n",
      "                        \"limiting_flux\": \"20.768633\",\n",
      "                        \"obsdate\": \"2022-07-23 07:55:52.003\",\n",
      "                        \"observer\": \"Robot\"\n",
      "                    }\n",
      "                }\n",
      "            },\n",
      "            \"ra\": {\n",
      "                \"error\": \"0.085\",\n",
      "                \"units\": \"arcsec\",\n",
      "                \"value\": \"306.82556315\"\n",
      "            },\n",
      "            \"remarks\": \"SN candidate classified using ALeRCE's stamp classifier (Carrasco-Davis et al. 2021) and the public ZTF stream. Discovery image and light curve in http://alerce.online/object/ZTF22aavdrbx \",\n",
      "            \"reporter\": \"F. Forster, F.E. Bauer, G. Pignata, A. Munoz-Arancibia, A. Mourao, R. Dastidar, L. Hernandez-Garcia, L. Galbany, E. Camacho, J. Silva-Farfan, J. Arredondo, G. Cabrera-Vives, R. Carrasco-Davis, P.A. Estevez, P. Huijse, E. Reyes, I. Reyes, P. Sanchez-Saez, C. Valenzuela, E. Castillo, D. Ruz-Mieres, D. Rodriguez-Mancini, M. Catelan, S. Eyheramendy, M.J. Graham on behalf of the ALeRCE broker\",\n",
      "            \"reporting_group_id\": \"74\"\n",
      "        },\n",
      "        \"13\": {\n",
      "            \"at_type\": \"1\",\n",
      "            \"dec\": {\n",
      "                \"error\": \"0.085\",\n",
      "                \"units\": \"arcsec\",\n",
      "                \"value\": \"15.82279112\"\n",
      "            },\n",
      "            \"discovery_data_source_id\": \"48\",\n",
      "            \"discovery_datetime\": \"2022-07-17 05:05:53.002\",\n",
      "            \"host_name\": \"SDSS J162835.11+154922.4\",\n",
      "            \"internal_name\": \"ZTF22aavdcsu\",\n",
      "            \"non_detection\": {\n",
      "                \"comments\": \"Data provided by ZTF\",\n",
      "                \"exptime\": \"30\",\n",
      "                \"filter_value\": \"111\",\n",
      "                \"flux_units\": \"1\",\n",
      "                \"instrument_value\": \"196\",\n",
      "                \"limiting_flux\": \"19.8203\",\n",
      "                \"obsdate\": \"2022-07-15 07:36:59.999\",\n",
      "                \"observer\": \"Robot\"\n",
      "            },\n",
      "            \"photometry\": {\n",
      "                \"photometry_group\": {\n",
      "                    \"0\": {\n",
      "                        \"comments\": \"Data provided by ZTF\",\n",
      "                        \"exptime\": \"30\",\n",
      "                        \"filter_value\": \"111\",\n",
      "                        \"flux\": \"20.9808\",\n",
      "                        \"flux_error\": \"0.287105\",\n",
      "                        \"flux_units\": \"1\",\n",
      "                        \"instrument_value\": \"196\",\n",
      "                        \"limiting_flux\": \"20.5325\",\n",
      "                        \"obsdate\": \"2022-07-17 05:05:53.002\",\n",
      "                        \"observer\": \"Robot\"\n",
      "                    },\n",
      "                    \"1\": {\n",
      "                        \"comments\": \"Data provided by ZTF\",\n",
      "                        \"exptime\": \"30\",\n",
      "                        \"filter_value\": \"111\",\n",
      "                        \"flux\": \"20.4062\",\n",
      "                        \"flux_error\": \"0.238874\",\n",
      "                        \"flux_units\": \"1\",\n",
      "                        \"instrument_value\": \"196\",\n",
      "                        \"limiting_flux\": \"20.391\",\n",
      "                        \"obsdate\": \"2022-07-19 05:38:06.003\",\n",
      "                        \"observer\": \"Robot\"\n",
      "                    },\n",
      "                    \"2\": {\n",
      "                        \"comments\": \"Data provided by ZTF\",\n",
      "                        \"exptime\": \"30\",\n",
      "                        \"filter_value\": \"110\",\n",
      "                        \"flux\": \"20.3053\",\n",
      "                        \"flux_error\": \"0.23518\",\n",
      "                        \"flux_units\": \"1\",\n",
      "                        \"instrument_value\": \"196\",\n",
      "                        \"limiting_flux\": \"20.5676\",\n",
      "                        \"obsdate\": \"2022-07-21 05:35:59.004\",\n",
      "                        \"observer\": \"Robot\"\n",
      "                    },\n",
      "                    \"3\": {\n",
      "                        \"comments\": \"Data provided by ZTF\",\n",
      "                        \"exptime\": \"30\",\n",
      "                        \"filter_value\": \"110\",\n",
      "                        \"flux\": \"20.2399\",\n",
      "                        \"flux_error\": \"0.217952\",\n",
      "                        \"flux_units\": \"1\",\n",
      "                        \"instrument_value\": \"196\",\n",
      "                        \"limiting_flux\": \"20.4729\",\n",
      "                        \"obsdate\": \"2022-07-21 06:11:17.998\",\n",
      "                        \"observer\": \"Robot\"\n",
      "                    },\n",
      "                    \"4\": {\n",
      "                        \"comments\": \"Data provided by ZTF\",\n",
      "                        \"exptime\": \"30\",\n",
      "                        \"filter_value\": \"110\",\n",
      "                        \"flux\": \"20.27856\",\n",
      "                        \"flux_error\": \"0.19135357\",\n",
      "                        \"flux_units\": \"1\",\n",
      "                        \"instrument_value\": \"196\",\n",
      "                        \"limiting_flux\": \"20.556961\",\n",
      "                        \"obsdate\": \"2022-07-23 07:22:42.997\",\n",
      "                        \"observer\": \"Robot\"\n",
      "                    }\n",
      "                }\n",
      "            },\n",
      "            \"ra\": {\n",
      "                \"error\": \"0.085\",\n",
      "                \"units\": \"arcsec\",\n",
      "                \"value\": \"247.14614579999997\"\n",
      "            },\n",
      "            \"remarks\": \"SN candidate classified using ALeRCE's stamp classifier (Carrasco-Davis et al. 2021) and the public ZTF stream. Discovery image and light curve in http://alerce.online/object/ZTF22aavdcsu \",\n",
      "            \"reporter\": \"F. Forster, F.E. Bauer, G. Pignata, A. Munoz-Arancibia, A. Mourao, R. Dastidar, L. Hernandez-Garcia, L. Galbany, E. Camacho, J. Silva-Farfan, J. Arredondo, G. Cabrera-Vives, R. Carrasco-Davis, P.A. Estevez, P. Huijse, E. Reyes, I. Reyes, P. Sanchez-Saez, C. Valenzuela, E. Castillo, D. Ruz-Mieres, D. Rodriguez-Mancini, M. Catelan, S. Eyheramendy, M.J. Graham on behalf of the ALeRCE broker\",\n",
      "            \"reporting_group_id\": \"74\"\n",
      "        },\n",
      "        \"14\": {\n",
      "            \"at_type\": \"1\",\n",
      "            \"dec\": {\n",
      "                \"error\": \"0.085\",\n",
      "                \"units\": \"arcsec\",\n",
      "                \"value\": \"30.847815750000002\"\n",
      "            },\n",
      "            \"discovery_data_source_id\": \"48\",\n",
      "            \"discovery_datetime\": \"2022-07-21 06:14:42.999\",\n",
      "            \"host_name\": \"SDSS J164706.81+305051.3\",\n",
      "            \"internal_name\": \"ZTF22aavczfb\",\n",
      "            \"non_detection\": {\n",
      "                \"comments\": \"Data provided by ZTF\",\n",
      "                \"exptime\": \"30\",\n",
      "                \"filter_value\": \"110\",\n",
      "                \"flux_units\": \"1\",\n",
      "                \"instrument_value\": \"196\",\n",
      "                \"limiting_flux\": \"20.6337\",\n",
      "                \"obsdate\": \"2022-07-21 05:54:41.003\",\n",
      "                \"observer\": \"Robot\"\n",
      "            },\n",
      "            \"photometry\": {\n",
      "                \"photometry_group\": {\n",
      "                    \"0\": {\n",
      "                        \"comments\": \"Data provided by ZTF\",\n",
      "                        \"exptime\": \"30\",\n",
      "                        \"filter_value\": \"110\",\n",
      "                        \"flux\": \"20.7233\",\n",
      "                        \"flux_error\": \"0.249718\",\n",
      "                        \"flux_units\": \"1\",\n",
      "                        \"instrument_value\": \"196\",\n",
      "                        \"limiting_flux\": \"20.5939\",\n",
      "                        \"obsdate\": \"2022-07-21 06:14:42.999\",\n",
      "                        \"observer\": \"Robot\"\n",
      "                    },\n",
      "                    \"1\": {\n",
      "                        \"comments\": \"Data provided by ZTF\",\n",
      "                        \"exptime\": \"30\",\n",
      "                        \"filter_value\": \"110\",\n",
      "                        \"flux\": \"20.020054\",\n",
      "                        \"flux_error\": \"0.16118038\",\n",
      "                        \"flux_units\": \"1\",\n",
      "                        \"instrument_value\": \"196\",\n",
      "                        \"limiting_flux\": \"20.681925\",\n",
      "                        \"obsdate\": \"2022-07-23 07:20:00.004\",\n",
      "                        \"observer\": \"Robot\"\n",
      "                    }\n",
      "                }\n",
      "            },\n",
      "            \"ra\": {\n",
      "                \"error\": \"0.085\",\n",
      "                \"units\": \"arcsec\",\n",
      "                \"value\": \"251.77875065\"\n",
      "            },\n",
      "            \"remarks\": \"SN candidate classified using ALeRCE's stamp classifier (Carrasco-Davis et al. 2021) and the public ZTF stream. Discovery image and light curve in http://alerce.online/object/ZTF22aavczfb \",\n",
      "            \"reporter\": \"F. Forster, F.E. Bauer, G. Pignata, A. Munoz-Arancibia, A. Mourao, R. Dastidar, L. Hernandez-Garcia, L. Galbany, E. Camacho, J. Silva-Farfan, J. Arredondo, G. Cabrera-Vives, R. Carrasco-Davis, P.A. Estevez, P. Huijse, E. Reyes, I. Reyes, P. Sanchez-Saez, C. Valenzuela, E. Castillo, D. Ruz-Mieres, D. Rodriguez-Mancini, M. Catelan, S. Eyheramendy, M.J. Graham on behalf of the ALeRCE broker\",\n",
      "            \"reporting_group_id\": \"74\"\n",
      "        },\n",
      "        \"15\": {\n",
      "            \"at_type\": \"1\",\n",
      "            \"dec\": {\n",
      "                \"error\": \"0.085\",\n",
      "                \"units\": \"arcsec\",\n",
      "                \"value\": \"50.4905923\"\n",
      "            },\n",
      "            \"discovery_data_source_id\": \"48\",\n",
      "            \"discovery_datetime\": \"2022-07-23 06:16:18.998\",\n",
      "            \"host_name\": \"SDSS J164401.31+502924.7\",\n",
      "            \"internal_name\": \"ZTF22aavcyir\",\n",
      "            \"non_detection\": {\n",
      "                \"comments\": \"Data provided by ZTF\",\n",
      "                \"exptime\": \"30\",\n",
      "                \"filter_value\": \"110\",\n",
      "                \"flux_units\": \"1\",\n",
      "                \"instrument_value\": \"196\",\n",
      "                \"limiting_flux\": \"20.1719\",\n",
      "                \"obsdate\": \"2022-07-21 08:11:15.999\",\n",
      "                \"observer\": \"Robot\"\n",
      "            },\n",
      "            \"photometry\": {\n",
      "                \"photometry_group\": {\n",
      "                    \"0\": {\n",
      "                        \"comments\": \"Data provided by ZTF\",\n",
      "                        \"exptime\": \"30\",\n",
      "                        \"filter_value\": \"111\",\n",
      "                        \"flux\": \"20.6749\",\n",
      "                        \"flux_error\": \"0.240828\",\n",
      "                        \"flux_units\": \"1\",\n",
      "                        \"instrument_value\": \"196\",\n",
      "                        \"limiting_flux\": \"20.691\",\n",
      "                        \"obsdate\": \"2022-07-23 06:16:18.998\",\n",
      "                        \"observer\": \"Robot\"\n",
      "                    },\n",
      "                    \"1\": {\n",
      "                        \"comments\": \"Data provided by ZTF\",\n",
      "                        \"exptime\": \"30\",\n",
      "                        \"filter_value\": \"110\",\n",
      "                        \"flux\": \"20.724241\",\n",
      "                        \"flux_error\": \"0.19668292\",\n",
      "                        \"flux_units\": \"1\",\n",
      "                        \"instrument_value\": \"196\",\n",
      "                        \"limiting_flux\": \"20.766361\",\n",
      "                        \"obsdate\": \"2022-07-23 07:15:06.002\",\n",
      "                        \"observer\": \"Robot\"\n",
      "                    }\n",
      "                }\n",
      "            },\n",
      "            \"ra\": {\n",
      "                \"error\": \"0.085\",\n",
      "                \"units\": \"arcsec\",\n",
      "                \"value\": \"251.00561234999998\"\n",
      "            },\n",
      "            \"remarks\": \"SN candidate classified using ALeRCE's stamp classifier (Carrasco-Davis et al. 2021) and the public ZTF stream. Discovery image and light curve in http://alerce.online/object/ZTF22aavcyir \",\n",
      "            \"reporter\": \"F. Forster, F.E. Bauer, G. Pignata, A. Munoz-Arancibia, A. Mourao, R. Dastidar, L. Hernandez-Garcia, L. Galbany, E. Camacho, J. Silva-Farfan, J. Arredondo, G. Cabrera-Vives, R. Carrasco-Davis, P.A. Estevez, P. Huijse, E. Reyes, I. Reyes, P. Sanchez-Saez, C. Valenzuela, E. Castillo, D. Ruz-Mieres, D. Rodriguez-Mancini, M. Catelan, S. Eyheramendy, M.J. Graham on behalf of the ALeRCE broker\",\n",
      "            \"reporting_group_id\": \"74\"\n",
      "        },\n",
      "        \"16\": {\n",
      "            \"at_type\": \"1\",\n",
      "            \"dec\": {\n",
      "                \"error\": \"0.085\",\n",
      "                \"units\": \"arcsec\",\n",
      "                \"value\": \"57.142074433333335\"\n",
      "            },\n",
      "            \"discovery_data_source_id\": \"48\",\n",
      "            \"discovery_datetime\": \"2022-07-19 06:25:10.998\",\n",
      "            \"host_name\": \"WISEA J180817.99+570827.7\",\n",
      "            \"internal_name\": \"ZTF22aavcvtr\",\n",
      "            \"non_detection\": {\n",
      "                \"comments\": \"Data provided by ZTF\",\n",
      "                \"exptime\": \"30\",\n",
      "                \"filter_value\": \"111\",\n",
      "                \"flux_units\": \"1\",\n",
      "                \"instrument_value\": \"196\",\n",
      "                \"limiting_flux\": \"20.2592\",\n",
      "                \"obsdate\": \"2022-07-16 07:51:15.998\",\n",
      "                \"observer\": \"Robot\"\n",
      "            },\n",
      "            \"photometry\": {\n",
      "                \"photometry_group\": {\n",
      "                    \"0\": {\n",
      "                        \"comments\": \"Data provided by ZTF\",\n",
      "                        \"exptime\": \"30\",\n",
      "                        \"filter_value\": \"111\",\n",
      "                        \"flux\": \"20.9587\",\n",
      "                        \"flux_error\": \"0.324095\",\n",
      "                        \"flux_units\": \"1\",\n",
      "                        \"instrument_value\": \"196\",\n",
      "                        \"limiting_flux\": \"20.6479\",\n",
      "                        \"obsdate\": \"2022-07-19 06:25:10.998\",\n",
      "                        \"observer\": \"Robot\"\n",
      "                    },\n",
      "                    \"1\": {\n",
      "                        \"comments\": \"Data provided by ZTF\",\n",
      "                        \"exptime\": \"30\",\n",
      "                        \"filter_value\": \"111\",\n",
      "                        \"flux\": \"20.7152\",\n",
      "                        \"flux_error\": \"0.379092\",\n",
      "                        \"flux_units\": \"1\",\n",
      "                        \"instrument_value\": \"196\",\n",
      "                        \"limiting_flux\": \"20.3467\",\n",
      "                        \"obsdate\": \"2022-07-19 07:30:05.003\",\n",
      "                        \"observer\": \"Robot\"\n",
      "                    },\n",
      "                    \"2\": {\n",
      "                        \"comments\": \"Data provided by ZTF\",\n",
      "                        \"exptime\": \"30\",\n",
      "                        \"filter_value\": \"110\",\n",
      "                        \"flux\": \"20.756207\",\n",
      "                        \"flux_error\": \"0.20588641\",\n",
      "                        \"flux_units\": \"1\",\n",
      "                        \"instrument_value\": \"196\",\n",
      "                        \"limiting_flux\": \"20.85907\",\n",
      "                        \"obsdate\": \"2022-07-23 07:10:03.999\",\n",
      "                        \"observer\": \"Robot\"\n",
      "                    }\n",
      "                }\n",
      "            },\n",
      "            \"ra\": {\n",
      "                \"error\": \"0.085\",\n",
      "                \"units\": \"arcsec\",\n",
      "                \"value\": \"272.0750082\"\n",
      "            },\n",
      "            \"remarks\": \"SN candidate classified using ALeRCE's stamp classifier (Carrasco-Davis et al. 2021) and the public ZTF stream. Discovery image and light curve in http://alerce.online/object/ZTF22aavcvtr \",\n",
      "            \"reporter\": \"F. Forster, F.E. Bauer, G. Pignata, A. Munoz-Arancibia, A. Mourao, R. Dastidar, L. Hernandez-Garcia, L. Galbany, E. Camacho, J. Silva-Farfan, J. Arredondo, G. Cabrera-Vives, R. Carrasco-Davis, P.A. Estevez, P. Huijse, E. Reyes, I. Reyes, P. Sanchez-Saez, C. Valenzuela, E. Castillo, D. Ruz-Mieres, D. Rodriguez-Mancini, M. Catelan, S. Eyheramendy, M.J. Graham on behalf of the ALeRCE broker\",\n",
      "            \"reporting_group_id\": \"74\"\n",
      "        },\n",
      "        \"17\": {\n",
      "            \"at_type\": \"1\",\n",
      "            \"dec\": {\n",
      "                \"error\": \"0.085\",\n",
      "                \"units\": \"arcsec\",\n",
      "                \"value\": \"28.8345805\"\n",
      "            },\n",
      "            \"discovery_data_source_id\": \"48\",\n",
      "            \"discovery_datetime\": \"2022-07-19 05:39:27.996\",\n",
      "            \"host_name\": \"SDSS J160702.13+285005.3\",\n",
      "            \"internal_name\": \"ZTF22aavcrgy\",\n",
      "            \"non_detection\": {\n",
      "                \"comments\": \"Data provided by ZTF\",\n",
      "                \"exptime\": \"30\",\n",
      "                \"filter_value\": \"111\",\n",
      "                \"flux_units\": \"1\",\n",
      "                \"instrument_value\": \"196\",\n",
      "                \"limiting_flux\": \"20.5454\",\n",
      "                \"obsdate\": \"2022-07-17 05:08:43.002\",\n",
      "                \"observer\": \"Robot\"\n",
      "            },\n",
      "            \"photometry\": {\n",
      "                \"photometry_group\": {\n",
      "                    \"0\": {\n",
      "                        \"comments\": \"Data provided by ZTF\",\n",
      "                        \"exptime\": \"30\",\n",
      "                        \"filter_value\": \"111\",\n",
      "                        \"flux\": \"20.8994\",\n",
      "                        \"flux_error\": \"0.258196\",\n",
      "                        \"flux_units\": \"1\",\n",
      "                        \"instrument_value\": \"196\",\n",
      "                        \"limiting_flux\": \"20.5806\",\n",
      "                        \"obsdate\": \"2022-07-19 05:39:27.996\",\n",
      "                        \"observer\": \"Robot\"\n",
      "                    },\n",
      "                    \"1\": {\n",
      "                        \"comments\": \"Data provided by ZTF\",\n",
      "                        \"exptime\": \"30\",\n",
      "                        \"filter_value\": \"110\",\n",
      "                        \"flux\": \"20.471\",\n",
      "                        \"flux_error\": \"0.260853\",\n",
      "                        \"flux_units\": \"1\",\n",
      "                        \"instrument_value\": \"196\",\n",
      "                        \"limiting_flux\": \"20.5054\",\n",
      "                        \"obsdate\": \"2022-07-21 06:16:44.996\",\n",
      "                        \"observer\": \"Robot\"\n",
      "                    },\n",
      "                    \"2\": {\n",
      "                        \"comments\": \"Data provided by ZTF\",\n",
      "                        \"exptime\": \"30\",\n",
      "                        \"filter_value\": \"110\",\n",
      "                        \"flux\": \"20.424297\",\n",
      "                        \"flux_error\": \"0.21639992\",\n",
      "                        \"flux_units\": \"1\",\n",
      "                        \"instrument_value\": \"196\",\n",
      "                        \"limiting_flux\": \"20.65241\",\n",
      "                        \"obsdate\": \"2022-07-23 06:53:34.002\",\n",
      "                        \"observer\": \"Robot\"\n",
      "                    }\n",
      "                }\n",
      "            },\n",
      "            \"ra\": {\n",
      "                \"error\": \"0.085\",\n",
      "                \"units\": \"arcsec\",\n",
      "                \"value\": \"241.75982910000002\"\n",
      "            },\n",
      "            \"remarks\": \"SN candidate classified using ALeRCE's stamp classifier (Carrasco-Davis et al. 2021) and the public ZTF stream. Discovery image and light curve in http://alerce.online/object/ZTF22aavcrgy \",\n",
      "            \"reporter\": \"F. Forster, F.E. Bauer, G. Pignata, A. Munoz-Arancibia, A. Mourao, R. Dastidar, L. Hernandez-Garcia, L. Galbany, E. Camacho, J. Silva-Farfan, J. Arredondo, G. Cabrera-Vives, R. Carrasco-Davis, P.A. Estevez, P. Huijse, E. Reyes, I. Reyes, P. Sanchez-Saez, C. Valenzuela, E. Castillo, D. Ruz-Mieres, D. Rodriguez-Mancini, M. Catelan, S. Eyheramendy, M.J. Graham on behalf of the ALeRCE broker\",\n",
      "            \"reporting_group_id\": \"74\"\n",
      "        },\n",
      "        \"18\": {\n",
      "            \"at_type\": \"1\",\n",
      "            \"dec\": {\n",
      "                \"error\": \"0.085\",\n",
      "                \"units\": \"arcsec\",\n",
      "                \"value\": \"18.423857599999998\"\n",
      "            },\n",
      "            \"discovery_data_source_id\": \"48\",\n",
      "            \"discovery_datetime\": \"2022-07-23 06:23:57.998\",\n",
      "            \"host_name\": \"SDSS J151111.22+182527.5\",\n",
      "            \"host_redshift\": \"0.1079369\",\n",
      "            \"internal_name\": \"ZTF22aavclih\",\n",
      "            \"non_detection\": {\n",
      "                \"comments\": \"Data provided by ZTF\",\n",
      "                \"exptime\": \"30\",\n",
      "                \"filter_value\": \"110\",\n",
      "                \"flux_units\": \"1\",\n",
      "                \"instrument_value\": \"196\",\n",
      "                \"limiting_flux\": \"20.4089\",\n",
      "                \"obsdate\": \"2022-07-21 05:38:02.003\",\n",
      "                \"observer\": \"Robot\"\n",
      "            },\n",
      "            \"photometry\": {\n",
      "                \"photometry_group\": {\n",
      "                    \"0\": {\n",
      "                        \"comments\": \"Data provided by ZTF\",\n",
      "                        \"exptime\": \"30\",\n",
      "                        \"filter_value\": \"111\",\n",
      "                        \"flux\": \"19.9255\",\n",
      "                        \"flux_error\": \"0.217825\",\n",
      "                        \"flux_units\": \"1\",\n",
      "                        \"instrument_value\": \"196\",\n",
      "                        \"limiting_flux\": \"20.2506\",\n",
      "                        \"obsdate\": \"2022-07-23 06:23:57.998\",\n",
      "                        \"observer\": \"Robot\"\n",
      "                    },\n",
      "                    \"1\": {\n",
      "                        \"comments\": \"Data provided by ZTF\",\n",
      "                        \"exptime\": \"30\",\n",
      "                        \"filter_value\": \"110\",\n",
      "                        \"flux\": \"20.049896\",\n",
      "                        \"flux_error\": \"0.19726226\",\n",
      "                        \"flux_units\": \"1\",\n",
      "                        \"instrument_value\": \"196\",\n",
      "                        \"limiting_flux\": \"20.375193\",\n",
      "                        \"obsdate\": \"2022-07-23 06:39:10.002\",\n",
      "                        \"observer\": \"Robot\"\n",
      "                    }\n",
      "                }\n",
      "            },\n",
      "            \"ra\": {\n",
      "                \"error\": \"0.085\",\n",
      "                \"units\": \"arcsec\",\n",
      "                \"value\": \"227.79670955\"\n",
      "            },\n",
      "            \"remarks\": \"Early SN candidate (g-rise > 0.18+-0.10 mag/day, r-rise > 0.14+-0.05 mag/day) classified using ALeRCE's stamp classifier (Carrasco-Davis et al. 2021) and the public ZTF stream. Discovery image and light curve in http://alerce.online/object/ZTF22aavclih \",\n",
      "            \"reporter\": \"F. Forster, F.E. Bauer, G. Pignata, A. Munoz-Arancibia, A. Mourao, R. Dastidar, L. Hernandez-Garcia, L. Galbany, E. Camacho, J. Silva-Farfan, J. Arredondo, G. Cabrera-Vives, R. Carrasco-Davis, P.A. Estevez, P. Huijse, E. Reyes, I. Reyes, P. Sanchez-Saez, C. Valenzuela, E. Castillo, D. Ruz-Mieres, D. Rodriguez-Mancini, M. Catelan, S. Eyheramendy, M.J. Graham on behalf of the ALeRCE broker\",\n",
      "            \"reporting_group_id\": \"74\"\n",
      "        },\n",
      "        \"19\": {\n",
      "            \"at_type\": \"1\",\n",
      "            \"dec\": {\n",
      "                \"error\": \"0.085\",\n",
      "                \"units\": \"arcsec\",\n",
      "                \"value\": \"55.577833633333334\"\n",
      "            },\n",
      "            \"discovery_data_source_id\": \"48\",\n",
      "            \"discovery_datetime\": \"2022-07-21 05:51:17.004\",\n",
      "            \"host_name\": \"SDSS J162145.52+553440.2\",\n",
      "            \"internal_name\": \"ZTF22aavcccu\",\n",
      "            \"non_detection\": {\n",
      "                \"comments\": \"Data provided by ZTF\",\n",
      "                \"exptime\": \"30\",\n",
      "                \"filter_value\": \"111\",\n",
      "                \"flux_units\": \"1\",\n",
      "                \"instrument_value\": \"196\",\n",
      "                \"limiting_flux\": \"20.4303\",\n",
      "                \"obsdate\": \"2022-07-19 07:25:55.998\",\n",
      "                \"observer\": \"Robot\"\n",
      "            },\n",
      "            \"photometry\": {\n",
      "                \"photometry_group\": {\n",
      "                    \"0\": {\n",
      "                        \"comments\": \"Data provided by ZTF\",\n",
      "                        \"exptime\": \"30\",\n",
      "                        \"filter_value\": \"110\",\n",
      "                        \"flux\": \"20.8402\",\n",
      "                        \"flux_error\": \"0.314535\",\n",
      "                        \"flux_units\": \"1\",\n",
      "                        \"instrument_value\": \"196\",\n",
      "                        \"limiting_flux\": \"20.5124\",\n",
      "                        \"obsdate\": \"2022-07-21 05:51:17.004\",\n",
      "                        \"observer\": \"Robot\"\n",
      "                    },\n",
      "                    \"1\": {\n",
      "                        \"comments\": \"Data provided by ZTF\",\n",
      "                        \"exptime\": \"30\",\n",
      "                        \"filter_value\": \"110\",\n",
      "                        \"flux\": \"20.6027\",\n",
      "                        \"flux_error\": \"0.30033\",\n",
      "                        \"flux_units\": \"1\",\n",
      "                        \"instrument_value\": \"196\",\n",
      "                        \"limiting_flux\": \"20.5373\",\n",
      "                        \"obsdate\": \"2022-07-21 06:21:30.997\",\n",
      "                        \"observer\": \"Robot\"\n",
      "                    },\n",
      "                    \"2\": {\n",
      "                        \"comments\": \"Data provided by ZTF\",\n",
      "                        \"exptime\": \"30\",\n",
      "                        \"filter_value\": \"111\",\n",
      "                        \"flux\": \"20.32695\",\n",
      "                        \"flux_error\": \"0.18599464\",\n",
      "                        \"flux_units\": \"1\",\n",
      "                        \"instrument_value\": \"196\",\n",
      "                        \"limiting_flux\": \"20.74484\",\n",
      "                        \"obsdate\": \"2022-07-23 06:17:00.004\",\n",
      "                        \"observer\": \"Robot\"\n",
      "                    }\n",
      "                }\n",
      "            },\n",
      "            \"ra\": {\n",
      "                \"error\": \"0.085\",\n",
      "                \"units\": \"arcsec\",\n",
      "                \"value\": \"245.4397828\"\n",
      "            },\n",
      "            \"remarks\": \"SN candidate classified using ALeRCE's stamp classifier (Carrasco-Davis et al. 2021) and the public ZTF stream. Discovery image and light curve in http://alerce.online/object/ZTF22aavcccu \",\n",
      "            \"reporter\": \"F. Forster, F.E. Bauer, G. Pignata, A. Munoz-Arancibia, A. Mourao, R. Dastidar, L. Hernandez-Garcia, L. Galbany, E. Camacho, J. Silva-Farfan, J. Arredondo, G. Cabrera-Vives, R. Carrasco-Davis, P.A. Estevez, P. Huijse, E. Reyes, I. Reyes, P. Sanchez-Saez, C. Valenzuela, E. Castillo, D. Ruz-Mieres, D. Rodriguez-Mancini, M. Catelan, S. Eyheramendy, M.J. Graham on behalf of the ALeRCE broker\",\n",
      "            \"reporting_group_id\": \"74\"\n",
      "        },\n",
      "        \"2\": {\n",
      "            \"at_type\": \"1\",\n",
      "            \"dec\": {\n",
      "                \"error\": \"0.085\",\n",
      "                \"units\": \"arcsec\",\n",
      "                \"value\": \"-7.0595969\"\n",
      "            },\n",
      "            \"discovery_data_source_id\": \"48\",\n",
      "            \"discovery_datetime\": \"2022-07-23 10:08:55.000\",\n",
      "            \"host_name\": \"SDSS J005310.39-070334.1\",\n",
      "            \"internal_name\": \"ZTF22aavicyh\",\n",
      "            \"non_detection\": {\n",
      "                \"comments\": \"Data provided by ZTF\",\n",
      "                \"exptime\": \"30\",\n",
      "                \"filter_value\": \"110\",\n",
      "                \"flux_units\": \"1\",\n",
      "                \"instrument_value\": \"196\",\n",
      "                \"limiting_flux\": \"19.4009\",\n",
      "                \"obsdate\": \"2022-07-20 11:03:12.997\",\n",
      "                \"observer\": \"Robot\"\n",
      "            },\n",
      "            \"photometry\": {\n",
      "                \"photometry_group\": {\n",
      "                    \"0\": {\n",
      "                        \"comments\": \"Data provided by ZTF\",\n",
      "                        \"exptime\": \"30\",\n",
      "                        \"filter_value\": \"110\",\n",
      "                        \"flux\": \"20.02692\",\n",
      "                        \"flux_error\": \"0.18578121\",\n",
      "                        \"flux_units\": \"1\",\n",
      "                        \"instrument_value\": \"196\",\n",
      "                        \"limiting_flux\": \"20.302412\",\n",
      "                        \"obsdate\": \"2022-07-23 10:08:55.000\",\n",
      "                        \"observer\": \"Robot\"\n",
      "                    }\n",
      "                }\n",
      "            },\n",
      "            \"ra\": {\n",
      "                \"error\": \"0.085\",\n",
      "                \"units\": \"arcsec\",\n",
      "                \"value\": \"13.2933101\"\n",
      "            },\n",
      "            \"remarks\": \"SN candidate classified using ALeRCE's stamp classifier (Carrasco-Davis et al. 2021) and the public ZTF stream. Discovery image and light curve in http://alerce.online/object/ZTF22aavicyh \",\n",
      "            \"reporter\": \"F. Forster, F.E. Bauer, G. Pignata, A. Munoz-Arancibia, A. Mourao, R. Dastidar, L. Hernandez-Garcia, L. Galbany, E. Camacho, J. Silva-Farfan, J. Arredondo, G. Cabrera-Vives, R. Carrasco-Davis, P.A. Estevez, P. Huijse, E. Reyes, I. Reyes, P. Sanchez-Saez, C. Valenzuela, E. Castillo, D. Ruz-Mieres, D. Rodriguez-Mancini, M. Catelan, S. Eyheramendy, M.J. Graham on behalf of the ALeRCE broker\",\n",
      "            \"reporting_group_id\": \"74\"\n",
      "        },\n",
      "        \"20\": {\n",
      "            \"at_type\": \"1\",\n",
      "            \"dec\": {\n",
      "                \"error\": \"0.085\",\n",
      "                \"units\": \"arcsec\",\n",
      "                \"value\": \"36.09578045000001\"\n",
      "            },\n",
      "            \"discovery_data_source_id\": \"48\",\n",
      "            \"discovery_datetime\": \"2022-07-21 05:54:41.003\",\n",
      "            \"host_name\": \"WISEA J164857.43+360544.7\",\n",
      "            \"host_redshift\": \"0.115161\",\n",
      "            \"internal_name\": \"ZTF22aauxsyt\",\n",
      "            \"non_detection\": {\n",
      "                \"comments\": \"Data provided by ZTF\",\n",
      "                \"exptime\": \"30\",\n",
      "                \"filter_value\": \"111\",\n",
      "                \"flux_units\": \"1\",\n",
      "                \"instrument_value\": \"196\",\n",
      "                \"limiting_flux\": \"20.3744\",\n",
      "                \"obsdate\": \"2022-07-19 07:16:57.000\",\n",
      "                \"observer\": \"Robot\"\n",
      "            },\n",
      "            \"photometry\": {\n",
      "                \"photometry_group\": {\n",
      "                    \"0\": {\n",
      "                        \"comments\": \"Data provided by ZTF\",\n",
      "                        \"exptime\": \"30\",\n",
      "                        \"filter_value\": \"110\",\n",
      "                        \"flux\": \"20.5248\",\n",
      "                        \"flux_error\": \"0.26821\",\n",
      "                        \"flux_units\": \"1\",\n",
      "                        \"instrument_value\": \"196\",\n",
      "                        \"limiting_flux\": \"20.5755\",\n",
      "                        \"obsdate\": \"2022-07-21 05:54:41.003\",\n",
      "                        \"observer\": \"Robot\"\n",
      "                    },\n",
      "                    \"1\": {\n",
      "                        \"comments\": \"Data provided by ZTF\",\n",
      "                        \"exptime\": \"30\",\n",
      "                        \"filter_value\": \"110\",\n",
      "                        \"flux\": \"20.6477\",\n",
      "                        \"flux_error\": \"0.229597\",\n",
      "                        \"flux_units\": \"1\",\n",
      "                        \"instrument_value\": \"196\",\n",
      "                        \"limiting_flux\": \"20.6567\",\n",
      "                        \"obsdate\": \"2022-07-21 06:14:42.999\",\n",
      "                        \"observer\": \"Robot\"\n",
      "                    },\n",
      "                    \"2\": {\n",
      "                        \"comments\": \"Data provided by ZTF\",\n",
      "                        \"exptime\": \"30\",\n",
      "                        \"filter_value\": \"111\",\n",
      "                        \"flux\": \"20.4655\",\n",
      "                        \"flux_error\": \"0.28017\",\n",
      "                        \"flux_units\": \"1\",\n",
      "                        \"instrument_value\": \"196\",\n",
      "                        \"limiting_flux\": \"20.6617\",\n",
      "                        \"obsdate\": \"2022-07-23 06:12:56.002\",\n",
      "                        \"observer\": \"Robot\"\n",
      "                    },\n",
      "                    \"3\": {\n",
      "                        \"comments\": \"Data provided by ZTF\",\n",
      "                        \"exptime\": \"30\",\n",
      "                        \"filter_value\": \"110\",\n",
      "                        \"flux\": \"20.19436\",\n",
      "                        \"flux_error\": \"0.1944113\",\n",
      "                        \"flux_units\": \"1\",\n",
      "                        \"instrument_value\": \"196\",\n",
      "                        \"limiting_flux\": \"20.742296\",\n",
      "                        \"obsdate\": \"2022-07-23 07:20:00.004\",\n",
      "                        \"observer\": \"Robot\"\n",
      "                    }\n",
      "                }\n",
      "            },\n",
      "            \"ra\": {\n",
      "                \"error\": \"0.085\",\n",
      "                \"units\": \"arcsec\",\n",
      "                \"value\": \"252.240465875\"\n",
      "            },\n",
      "            \"remarks\": \"SN candidate classified using ALeRCE's stamp classifier (Carrasco-Davis et al. 2021) and the public ZTF stream. Discovery image and light curve in http://alerce.online/object/ZTF22aauxsyt \",\n",
      "            \"reporter\": \"F. Forster, F.E. Bauer, G. Pignata, A. Munoz-Arancibia, A. Mourao, R. Dastidar, L. Hernandez-Garcia, L. Galbany, E. Camacho, J. Silva-Farfan, J. Arredondo, G. Cabrera-Vives, R. Carrasco-Davis, P.A. Estevez, P. Huijse, E. Reyes, I. Reyes, P. Sanchez-Saez, C. Valenzuela, E. Castillo, D. Ruz-Mieres, D. Rodriguez-Mancini, M. Catelan, S. Eyheramendy, M.J. Graham on behalf of the ALeRCE broker\",\n",
      "            \"reporting_group_id\": \"74\"\n",
      "        },\n",
      "        \"21\": {\n",
      "            \"at_type\": \"1\",\n",
      "            \"dec\": {\n",
      "                \"error\": \"0.085\",\n",
      "                \"units\": \"arcsec\",\n",
      "                \"value\": \"52.603083549999994\"\n",
      "            },\n",
      "            \"discovery_data_source_id\": \"48\",\n",
      "            \"discovery_datetime\": \"2022-07-17 05:21:57.001\",\n",
      "            \"host_name\": \"SDSS J153316.38+523609.1\",\n",
      "            \"internal_name\": \"ZTF22aauxltc\",\n",
      "            \"non_detection\": {\n",
      "                \"comments\": \"Data provided by ZTF\",\n",
      "                \"exptime\": \"30\",\n",
      "                \"filter_value\": \"111\",\n",
      "                \"flux_units\": \"1\",\n",
      "                \"instrument_value\": \"196\",\n",
      "                \"limiting_flux\": \"19.8349\",\n",
      "                \"obsdate\": \"2022-07-15 07:54:05.999\",\n",
      "                \"observer\": \"Robot\"\n",
      "            },\n",
      "            \"photometry\": {\n",
      "                \"photometry_group\": {\n",
      "                    \"0\": {\n",
      "                        \"comments\": \"Data provided by ZTF\",\n",
      "                        \"exptime\": \"30\",\n",
      "                        \"filter_value\": \"111\",\n",
      "                        \"flux\": \"20.7136\",\n",
      "                        \"flux_error\": \"0.292899\",\n",
      "                        \"flux_units\": \"1\",\n",
      "                        \"instrument_value\": \"196\",\n",
      "                        \"limiting_flux\": \"20.5942\",\n",
      "                        \"obsdate\": \"2022-07-17 05:21:57.001\",\n",
      "                        \"observer\": \"Robot\"\n",
      "                    },\n",
      "                    \"1\": {\n",
      "                        \"comments\": \"Data provided by ZTF\",\n",
      "                        \"exptime\": \"30\",\n",
      "                        \"filter_value\": \"111\",\n",
      "                        \"flux\": \"20.5529\",\n",
      "                        \"flux_error\": \"0.229456\",\n",
      "                        \"flux_units\": \"1\",\n",
      "                        \"instrument_value\": \"196\",\n",
      "                        \"limiting_flux\": \"20.4379\",\n",
      "                        \"obsdate\": \"2022-07-18 05:15:59.003\",\n",
      "                        \"observer\": \"Robot\"\n",
      "                    },\n",
      "                    \"2\": {\n",
      "                        \"comments\": \"Data provided by ZTF\",\n",
      "                        \"exptime\": \"30\",\n",
      "                        \"filter_value\": \"110\",\n",
      "                        \"flux\": \"20.1853\",\n",
      "                        \"flux_error\": \"0.247043\",\n",
      "                        \"flux_units\": \"1\",\n",
      "                        \"instrument_value\": \"196\",\n",
      "                        \"limiting_flux\": \"19.9566\",\n",
      "                        \"obsdate\": \"2022-07-20 06:46:26.996\",\n",
      "                        \"observer\": \"Robot\"\n",
      "                    },\n",
      "                    \"3\": {\n",
      "                        \"comments\": \"Data provided by ZTF\",\n",
      "                        \"exptime\": \"30\",\n",
      "                        \"filter_value\": \"111\",\n",
      "                        \"flux\": \"20.397411\",\n",
      "                        \"flux_error\": \"0.20784743\",\n",
      "                        \"flux_units\": \"1\",\n",
      "                        \"instrument_value\": \"196\",\n",
      "                        \"limiting_flux\": \"20.521315\",\n",
      "                        \"obsdate\": \"2022-07-22 06:15:03.001\",\n",
      "                        \"observer\": \"Robot\"\n",
      "                    }\n",
      "                }\n",
      "            },\n",
      "            \"ra\": {\n",
      "                \"error\": \"0.085\",\n",
      "                \"units\": \"arcsec\",\n",
      "                \"value\": \"233.318978225\"\n",
      "            },\n",
      "            \"remarks\": \"SN candidate classified using ALeRCE's stamp classifier (Carrasco-Davis et al. 2021) and the public ZTF stream. Discovery image and light curve in http://alerce.online/object/ZTF22aauxltc \",\n",
      "            \"reporter\": \"F. Forster, F.E. Bauer, G. Pignata, A. Munoz-Arancibia, A. Mourao, R. Dastidar, L. Hernandez-Garcia, L. Galbany, E. Camacho, J. Silva-Farfan, J. Arredondo, G. Cabrera-Vives, R. Carrasco-Davis, P.A. Estevez, P. Huijse, E. Reyes, I. Reyes, P. Sanchez-Saez, C. Valenzuela, E. Castillo, D. Ruz-Mieres, D. Rodriguez-Mancini, M. Catelan, S. Eyheramendy, M.J. Graham on behalf of the ALeRCE broker\",\n",
      "            \"reporting_group_id\": \"74\"\n",
      "        },\n",
      "        \"22\": {\n",
      "            \"at_type\": \"1\",\n",
      "            \"dec\": {\n",
      "                \"error\": \"0.085\",\n",
      "                \"units\": \"arcsec\",\n",
      "                \"value\": \"23.589646400000003\"\n",
      "            },\n",
      "            \"discovery_data_source_id\": \"48\",\n",
      "            \"discovery_datetime\": \"2022-07-21 05:40:03.999\",\n",
      "            \"host_name\": \"SDSS J145100.60+233521.7\",\n",
      "            \"internal_name\": \"ZTF22aauwylz\",\n",
      "            \"non_detection\": {\n",
      "                \"comments\": \"Data provided by ZTF\",\n",
      "                \"exptime\": \"30\",\n",
      "                \"filter_value\": \"111\",\n",
      "                \"flux_units\": \"1\",\n",
      "                \"instrument_value\": \"196\",\n",
      "                \"limiting_flux\": \"20.0111\",\n",
      "                \"obsdate\": \"2022-07-19 05:59:00.997\",\n",
      "                \"observer\": \"Robot\"\n",
      "            },\n",
      "            \"photometry\": {\n",
      "                \"photometry_group\": {\n",
      "                    \"0\": {\n",
      "                        \"comments\": \"Data provided by ZTF\",\n",
      "                        \"exptime\": \"30\",\n",
      "                        \"filter_value\": \"110\",\n",
      "                        \"flux\": \"20.426\",\n",
      "                        \"flux_error\": \"0.237059\",\n",
      "                        \"flux_units\": \"1\",\n",
      "                        \"instrument_value\": \"196\",\n",
      "                        \"limiting_flux\": \"20.3103\",\n",
      "                        \"obsdate\": \"2022-07-21 05:40:03.999\",\n",
      "                        \"observer\": \"Robot\"\n",
      "                    },\n",
      "                    \"1\": {\n",
      "                        \"comments\": \"Data provided by ZTF\",\n",
      "                        \"exptime\": \"30\",\n",
      "                        \"filter_value\": \"111\",\n",
      "                        \"flux\": \"19.83237\",\n",
      "                        \"flux_error\": \"0.20680533\",\n",
      "                        \"flux_units\": \"1\",\n",
      "                        \"instrument_value\": \"196\",\n",
      "                        \"limiting_flux\": \"20.11664\",\n",
      "                        \"obsdate\": \"2022-07-23 06:23:17.002\",\n",
      "                        \"observer\": \"Robot\"\n",
      "                    },\n",
      "                    \"2\": {\n",
      "                        \"comments\": \"Data provided by ZTF\",\n",
      "                        \"exptime\": \"30\",\n",
      "                        \"filter_value\": \"110\",\n",
      "                        \"flux\": \"19.84491\",\n",
      "                        \"flux_error\": \"0.14891902\",\n",
      "                        \"flux_units\": \"1\",\n",
      "                        \"instrument_value\": \"196\",\n",
      "                        \"limiting_flux\": \"20.381113\",\n",
      "                        \"obsdate\": \"2022-07-23 06:39:50.999\",\n",
      "                        \"observer\": \"Robot\"\n",
      "                    }\n",
      "                }\n",
      "            },\n",
      "            \"ra\": {\n",
      "                \"error\": \"0.085\",\n",
      "                \"units\": \"arcsec\",\n",
      "                \"value\": \"222.75257273333332\"\n",
      "            },\n",
      "            \"remarks\": \"Early SN candidate (r-rise > 0.11+-0.05 mag/day) classified using ALeRCE's stamp classifier (Carrasco-Davis et al. 2021) and the public ZTF stream. Discovery image and light curve in http://alerce.online/object/ZTF22aauwylz \",\n",
      "            \"reporter\": \"F. Forster, F.E. Bauer, G. Pignata, A. Munoz-Arancibia, A. Mourao, R. Dastidar, L. Hernandez-Garcia, L. Galbany, E. Camacho, J. Silva-Farfan, J. Arredondo, G. Cabrera-Vives, R. Carrasco-Davis, P.A. Estevez, P. Huijse, E. Reyes, I. Reyes, P. Sanchez-Saez, C. Valenzuela, E. Castillo, D. Ruz-Mieres, D. Rodriguez-Mancini, M. Catelan, S. Eyheramendy, M.J. Graham on behalf of the ALeRCE broker\",\n",
      "            \"reporting_group_id\": \"74\"\n",
      "        },\n",
      "        \"23\": {\n",
      "            \"at_type\": \"1\",\n",
      "            \"dec\": {\n",
      "                \"error\": \"0.085\",\n",
      "                \"units\": \"arcsec\",\n",
      "                \"value\": \"-12.661394600000001\"\n",
      "            },\n",
      "            \"discovery_data_source_id\": \"48\",\n",
      "            \"discovery_datetime\": \"2022-07-21 08:33:52.998\",\n",
      "            \"host_name\": \"WISEA J203136.33-123937.2\",\n",
      "            \"internal_name\": \"ZTF22aauvseh\",\n",
      "            \"non_detection\": {\n",
      "                \"comments\": \"Data provided by ZTF\",\n",
      "                \"exptime\": \"30\",\n",
      "                \"filter_value\": \"111\",\n",
      "                \"flux_units\": \"1\",\n",
      "                \"instrument_value\": \"196\",\n",
      "                \"limiting_flux\": \"20.2411\",\n",
      "                \"obsdate\": \"2022-07-19 09:03:54.999\",\n",
      "                \"observer\": \"Robot\"\n",
      "            },\n",
      "            \"photometry\": {\n",
      "                \"photometry_group\": {\n",
      "                    \"0\": {\n",
      "                        \"comments\": \"Data provided by ZTF\",\n",
      "                        \"exptime\": \"30\",\n",
      "                        \"filter_value\": \"110\",\n",
      "                        \"flux\": \"20.116236\",\n",
      "                        \"flux_error\": \"0.18510465\",\n",
      "                        \"flux_units\": \"1\",\n",
      "                        \"instrument_value\": \"196\",\n",
      "                        \"limiting_flux\": \"20.199038\",\n",
      "                        \"obsdate\": \"2022-07-21 08:33:52.998\",\n",
      "                        \"observer\": \"Robot\"\n",
      "                    },\n",
      "                    \"1\": {\n",
      "                        \"comments\": \"Data provided by ZTF\",\n",
      "                        \"exptime\": \"30\",\n",
      "                        \"filter_value\": \"111\",\n",
      "                        \"flux\": \"20.252636\",\n",
      "                        \"flux_error\": \"0.17265338\",\n",
      "                        \"flux_units\": \"1\",\n",
      "                        \"instrument_value\": \"196\",\n",
      "                        \"limiting_flux\": \"20.630198\",\n",
      "                        \"obsdate\": \"2022-07-23 08:57:42.002\",\n",
      "                        \"observer\": \"Robot\"\n",
      "                    }\n",
      "                }\n",
      "            },\n",
      "            \"ra\": {\n",
      "                \"error\": \"0.085\",\n",
      "                \"units\": \"arcsec\",\n",
      "                \"value\": \"307.90256615\"\n",
      "            },\n",
      "            \"remarks\": \"SN candidate classified using ALeRCE's stamp classifier (Carrasco-Davis et al. 2021) and the public ZTF stream. Discovery image and light curve in http://alerce.online/object/ZTF22aauvseh \",\n",
      "            \"reporter\": \"F. Forster, F.E. Bauer, G. Pignata, A. Munoz-Arancibia, A. Mourao, R. Dastidar, L. Hernandez-Garcia, L. Galbany, E. Camacho, J. Silva-Farfan, J. Arredondo, G. Cabrera-Vives, R. Carrasco-Davis, P.A. Estevez, P. Huijse, E. Reyes, I. Reyes, P. Sanchez-Saez, C. Valenzuela, E. Castillo, D. Ruz-Mieres, D. Rodriguez-Mancini, M. Catelan, S. Eyheramendy, M.J. Graham on behalf of the ALeRCE broker\",\n",
      "            \"reporting_group_id\": \"74\"\n",
      "        },\n",
      "        \"24\": {\n",
      "            \"at_type\": \"1\",\n",
      "            \"dec\": {\n",
      "                \"error\": \"0.085\",\n",
      "                \"units\": \"arcsec\",\n",
      "                \"value\": \"48.89138773333334\"\n",
      "            },\n",
      "            \"discovery_data_source_id\": \"48\",\n",
      "            \"discovery_datetime\": \"2022-07-21 08:10:35.003\",\n",
      "            \"host_name\": \"WISEA J172031.51+485326.0\",\n",
      "            \"internal_name\": \"ZTF22aauuvby\",\n",
      "            \"non_detection\": {\n",
      "                \"comments\": \"Data provided by ZTF\",\n",
      "                \"exptime\": \"30\",\n",
      "                \"filter_value\": \"110\",\n",
      "                \"flux_units\": \"1\",\n",
      "                \"instrument_value\": \"196\",\n",
      "                \"limiting_flux\": \"20.7237\",\n",
      "                \"obsdate\": \"2022-07-21 06:51:57.001\",\n",
      "                \"observer\": \"Robot\"\n",
      "            },\n",
      "            \"photometry\": {\n",
      "                \"photometry_group\": {\n",
      "                    \"0\": {\n",
      "                        \"comments\": \"Data provided by ZTF\",\n",
      "                        \"exptime\": \"30\",\n",
      "                        \"filter_value\": \"110\",\n",
      "                        \"flux\": \"20.3276\",\n",
      "                        \"flux_error\": \"0.237411\",\n",
      "                        \"flux_units\": \"1\",\n",
      "                        \"instrument_value\": \"196\",\n",
      "                        \"limiting_flux\": \"20.2798\",\n",
      "                        \"obsdate\": \"2022-07-21 08:10:35.003\",\n",
      "                        \"observer\": \"Robot\"\n",
      "                    },\n",
      "                    \"1\": {\n",
      "                        \"comments\": \"Data provided by ZTF\",\n",
      "                        \"exptime\": \"30\",\n",
      "                        \"filter_value\": \"111\",\n",
      "                        \"flux\": \"20.5876\",\n",
      "                        \"flux_error\": \"0.26572\",\n",
      "                        \"flux_units\": \"1\",\n",
      "                        \"instrument_value\": \"196\",\n",
      "                        \"limiting_flux\": \"20.7826\",\n",
      "                        \"obsdate\": \"2022-07-23 06:14:57.998\",\n",
      "                        \"observer\": \"Robot\"\n",
      "                    },\n",
      "                    \"2\": {\n",
      "                        \"comments\": \"Data provided by ZTF\",\n",
      "                        \"exptime\": \"30\",\n",
      "                        \"filter_value\": \"110\",\n",
      "                        \"flux\": \"20.333294\",\n",
      "                        \"flux_error\": \"0.2033366\",\n",
      "                        \"flux_units\": \"1\",\n",
      "                        \"instrument_value\": \"196\",\n",
      "                        \"limiting_flux\": \"20.846823\",\n",
      "                        \"obsdate\": \"2022-07-23 07:15:46.999\",\n",
      "                        \"observer\": \"Robot\"\n",
      "                    }\n",
      "                }\n",
      "            },\n",
      "            \"ra\": {\n",
      "                \"error\": \"0.085\",\n",
      "                \"units\": \"arcsec\",\n",
      "                \"value\": \"260.1330511333333\"\n",
      "            },\n",
      "            \"remarks\": \"SN candidate classified using ALeRCE's stamp classifier (Carrasco-Davis et al. 2021) and the public ZTF stream. Discovery image and light curve in http://alerce.online/object/ZTF22aauuvby \",\n",
      "            \"reporter\": \"F. Forster, F.E. Bauer, G. Pignata, A. Munoz-Arancibia, A. Mourao, R. Dastidar, L. Hernandez-Garcia, L. Galbany, E. Camacho, J. Silva-Farfan, J. Arredondo, G. Cabrera-Vives, R. Carrasco-Davis, P.A. Estevez, P. Huijse, E. Reyes, I. Reyes, P. Sanchez-Saez, C. Valenzuela, E. Castillo, D. Ruz-Mieres, D. Rodriguez-Mancini, M. Catelan, S. Eyheramendy, M.J. Graham on behalf of the ALeRCE broker\",\n",
      "            \"reporting_group_id\": \"74\"\n",
      "        },\n",
      "        \"25\": {\n",
      "            \"at_type\": \"1\",\n",
      "            \"dec\": {\n",
      "                \"error\": \"0.085\",\n",
      "                \"units\": \"arcsec\",\n",
      "                \"value\": \"24.875095549999998\"\n",
      "            },\n",
      "            \"discovery_data_source_id\": \"48\",\n",
      "            \"discovery_datetime\": \"2022-07-21 05:56:02.996\",\n",
      "            \"host_name\": \"SDSS J163823.66+245229.0\",\n",
      "            \"internal_name\": \"ZTF22aautrcf\",\n",
      "            \"non_detection\": {\n",
      "                \"comments\": \"Data provided by ZTF\",\n",
      "                \"exptime\": \"30\",\n",
      "                \"filter_value\": \"111\",\n",
      "                \"flux_units\": \"1\",\n",
      "                \"instrument_value\": \"196\",\n",
      "                \"limiting_flux\": \"20.364\",\n",
      "                \"obsdate\": \"2022-07-19 07:19:40.002\",\n",
      "                \"observer\": \"Robot\"\n",
      "            },\n",
      "            \"photometry\": {\n",
      "                \"photometry_group\": {\n",
      "                    \"0\": {\n",
      "                        \"comments\": \"Data provided by ZTF\",\n",
      "                        \"exptime\": \"30\",\n",
      "                        \"filter_value\": \"110\",\n",
      "                        \"flux\": \"20.4155\",\n",
      "                        \"flux_error\": \"0.21592908\",\n",
      "                        \"flux_units\": \"1\",\n",
      "                        \"instrument_value\": \"196\",\n",
      "                        \"limiting_flux\": \"20.73069\",\n",
      "                        \"obsdate\": \"2022-07-21 05:56:02.996\",\n",
      "                        \"observer\": \"Robot\"\n",
      "                    },\n",
      "                    \"1\": {\n",
      "                        \"comments\": \"Data provided by ZTF\",\n",
      "                        \"exptime\": \"30\",\n",
      "                        \"filter_value\": \"110\",\n",
      "                        \"flux\": \"20.507294\",\n",
      "                        \"flux_error\": \"0.20825422\",\n",
      "                        \"flux_units\": \"1\",\n",
      "                        \"instrument_value\": \"196\",\n",
      "                        \"limiting_flux\": \"20.703669\",\n",
      "                        \"obsdate\": \"2022-07-21 06:13:20.004\",\n",
      "                        \"observer\": \"Robot\"\n",
      "                    },\n",
      "                    \"2\": {\n",
      "                        \"comments\": \"Data provided by ZTF\",\n",
      "                        \"exptime\": \"30\",\n",
      "                        \"filter_value\": \"111\",\n",
      "                        \"flux\": \"20.540623\",\n",
      "                        \"flux_error\": \"0.1868075\",\n",
      "                        \"flux_units\": \"1\",\n",
      "                        \"instrument_value\": \"196\",\n",
      "                        \"limiting_flux\": \"20.743519\",\n",
      "                        \"obsdate\": \"2022-07-23 06:10:11.997\",\n",
      "                        \"observer\": \"Robot\"\n",
      "                    },\n",
      "                    \"3\": {\n",
      "                        \"comments\": \"Data provided by ZTF\",\n",
      "                        \"exptime\": \"30\",\n",
      "                        \"filter_value\": \"110\",\n",
      "                        \"flux\": \"20.370066\",\n",
      "                        \"flux_error\": \"0.15061733\",\n",
      "                        \"flux_units\": \"1\",\n",
      "                        \"instrument_value\": \"196\",\n",
      "                        \"limiting_flux\": \"20.834248\",\n",
      "                        \"obsdate\": \"2022-07-23 06:52:52.997\",\n",
      "                        \"observer\": \"Robot\"\n",
      "                    }\n",
      "                }\n",
      "            },\n",
      "            \"ra\": {\n",
      "                \"error\": \"0.085\",\n",
      "                \"units\": \"arcsec\",\n",
      "                \"value\": \"249.598540425\"\n",
      "            },\n",
      "            \"remarks\": \"SN candidate classified using ALeRCE's stamp classifier (Carrasco-Davis et al. 2021) and the public ZTF stream. Discovery image and light curve in http://alerce.online/object/ZTF22aautrcf \",\n",
      "            \"reporter\": \"F. Forster, F.E. Bauer, G. Pignata, A. Munoz-Arancibia, A. Mourao, R. Dastidar, L. Hernandez-Garcia, L. Galbany, E. Camacho, J. Silva-Farfan, J. Arredondo, G. Cabrera-Vives, R. Carrasco-Davis, P.A. Estevez, P. Huijse, E. Reyes, I. Reyes, P. Sanchez-Saez, C. Valenzuela, E. Castillo, D. Ruz-Mieres, D. Rodriguez-Mancini, M. Catelan, S. Eyheramendy, M.J. Graham on behalf of the ALeRCE broker\",\n",
      "            \"reporting_group_id\": \"74\"\n",
      "        },\n",
      "        \"26\": {\n",
      "            \"at_type\": \"1\",\n",
      "            \"dec\": {\n",
      "                \"error\": \"0.085\",\n",
      "                \"units\": \"arcsec\",\n",
      "                \"value\": \"71.6046447\"\n",
      "            },\n",
      "            \"discovery_data_source_id\": \"48\",\n",
      "            \"discovery_datetime\": \"2022-07-23 07:13:35.999\",\n",
      "            \"host_name\": \"WISEA J134949.97+713616.1\",\n",
      "            \"internal_name\": \"ZTF22aautpdb\",\n",
      "            \"non_detection\": {\n",
      "                \"comments\": \"Data provided by ZTF\",\n",
      "                \"exptime\": \"30\",\n",
      "                \"filter_value\": \"111\",\n",
      "                \"flux_units\": \"1\",\n",
      "                \"instrument_value\": \"196\",\n",
      "                \"limiting_flux\": \"20.3605\",\n",
      "                \"obsdate\": \"2022-07-23 06:19:07.003\",\n",
      "                \"observer\": \"Robot\"\n",
      "            },\n",
      "            \"photometry\": {\n",
      "                \"photometry_group\": {\n",
      "                    \"0\": {\n",
      "                        \"comments\": \"Data provided by ZTF\",\n",
      "                        \"exptime\": \"30\",\n",
      "                        \"filter_value\": \"110\",\n",
      "                        \"flux\": \"19.639542\",\n",
      "                        \"flux_error\": \"0.14902227\",\n",
      "                        \"flux_units\": \"1\",\n",
      "                        \"instrument_value\": \"196\",\n",
      "                        \"limiting_flux\": \"20.41195\",\n",
      "                        \"obsdate\": \"2022-07-23 07:13:35.999\",\n",
      "                        \"observer\": \"Robot\"\n",
      "                    }\n",
      "                }\n",
      "            },\n",
      "            \"ra\": {\n",
      "                \"error\": \"0.085\",\n",
      "                \"units\": \"arcsec\",\n",
      "                \"value\": \"207.4599874\"\n",
      "            },\n",
      "            \"remarks\": \"Early SN candidate (g-rise > 0.31+-0.07 mag/day) classified using ALeRCE's stamp classifier (Carrasco-Davis et al. 2021) and the public ZTF stream. Discovery image and light curve in http://alerce.online/object/ZTF22aautpdb \",\n",
      "            \"reporter\": \"F. Forster, F.E. Bauer, G. Pignata, A. Munoz-Arancibia, A. Mourao, R. Dastidar, L. Hernandez-Garcia, L. Galbany, E. Camacho, J. Silva-Farfan, J. Arredondo, G. Cabrera-Vives, R. Carrasco-Davis, P.A. Estevez, P. Huijse, E. Reyes, I. Reyes, P. Sanchez-Saez, C. Valenzuela, E. Castillo, D. Ruz-Mieres, D. Rodriguez-Mancini, M. Catelan, S. Eyheramendy, M.J. Graham on behalf of the ALeRCE broker\",\n",
      "            \"reporting_group_id\": \"74\"\n",
      "        },\n",
      "        \"27\": {\n",
      "            \"at_type\": \"1\",\n",
      "            \"dec\": {\n",
      "                \"error\": \"0.085\",\n",
      "                \"units\": \"arcsec\",\n",
      "                \"value\": \"63.21416535\"\n",
      "            },\n",
      "            \"discovery_data_source_id\": \"48\",\n",
      "            \"discovery_datetime\": \"2022-07-19 05:51:13.997\",\n",
      "            \"host_name\": \"SDSS J145913.50+631249.0\",\n",
      "            \"internal_name\": \"ZTF22aautntp\",\n",
      "            \"non_detection\": {\n",
      "                \"comments\": \"Data provided by ZTF\",\n",
      "                \"exptime\": \"30\",\n",
      "                \"filter_value\": \"111\",\n",
      "                \"flux_units\": \"1\",\n",
      "                \"instrument_value\": \"196\",\n",
      "                \"limiting_flux\": \"19.9418\",\n",
      "                \"obsdate\": \"2022-07-16 07:45:43.004\",\n",
      "                \"observer\": \"Robot\"\n",
      "            },\n",
      "            \"photometry\": {\n",
      "                \"photometry_group\": {\n",
      "                    \"0\": {\n",
      "                        \"comments\": \"Data provided by ZTF\",\n",
      "                        \"exptime\": \"30\",\n",
      "                        \"filter_value\": \"111\",\n",
      "                        \"flux\": \"20.7746\",\n",
      "                        \"flux_error\": \"0.295983\",\n",
      "                        \"flux_units\": \"1\",\n",
      "                        \"instrument_value\": \"196\",\n",
      "                        \"limiting_flux\": \"20.3825\",\n",
      "                        \"obsdate\": \"2022-07-19 05:51:13.997\",\n",
      "                        \"observer\": \"Robot\"\n",
      "                    },\n",
      "                    \"1\": {\n",
      "                        \"comments\": \"Data provided by ZTF\",\n",
      "                        \"exptime\": \"30\",\n",
      "                        \"filter_value\": \"110\",\n",
      "                        \"flux\": \"20.35245\",\n",
      "                        \"flux_error\": \"0.2124425\",\n",
      "                        \"flux_units\": \"1\",\n",
      "                        \"instrument_value\": \"196\",\n",
      "                        \"limiting_flux\": \"20.392187\",\n",
      "                        \"obsdate\": \"2022-07-21 05:42:48.997\",\n",
      "                        \"observer\": \"Robot\"\n",
      "                    }\n",
      "                }\n",
      "            },\n",
      "            \"ra\": {\n",
      "                \"error\": \"0.085\",\n",
      "                \"units\": \"arcsec\",\n",
      "                \"value\": \"224.80660890000001\"\n",
      "            },\n",
      "            \"remarks\": \"SN candidate classified using ALeRCE's stamp classifier (Carrasco-Davis et al. 2021) and the public ZTF stream. Discovery image and light curve in http://alerce.online/object/ZTF22aautntp \",\n",
      "            \"reporter\": \"F. Forster, F.E. Bauer, G. Pignata, A. Munoz-Arancibia, A. Mourao, R. Dastidar, L. Hernandez-Garcia, L. Galbany, E. Camacho, J. Silva-Farfan, J. Arredondo, G. Cabrera-Vives, R. Carrasco-Davis, P.A. Estevez, P. Huijse, E. Reyes, I. Reyes, P. Sanchez-Saez, C. Valenzuela, E. Castillo, D. Ruz-Mieres, D. Rodriguez-Mancini, M. Catelan, S. Eyheramendy, M.J. Graham on behalf of the ALeRCE broker\",\n",
      "            \"reporting_group_id\": \"74\"\n",
      "        },\n",
      "        \"28\": {\n",
      "            \"at_type\": \"1\",\n",
      "            \"dec\": {\n",
      "                \"error\": \"0.085\",\n",
      "                \"units\": \"arcsec\",\n",
      "                \"value\": \"45.310005024999995\"\n",
      "            },\n",
      "            \"discovery_data_source_id\": \"48\",\n",
      "            \"discovery_datetime\": \"2022-07-19 05:48:30.001\",\n",
      "            \"host_name\": \"SDSS J144017.49+451836.7\",\n",
      "            \"internal_name\": \"ZTF22aautnrr\",\n",
      "            \"non_detection\": {\n",
      "                \"comments\": \"Data provided by ZTF\",\n",
      "                \"exptime\": \"30\",\n",
      "                \"filter_value\": \"111\",\n",
      "                \"flux_units\": \"1\",\n",
      "                \"instrument_value\": \"196\",\n",
      "                \"limiting_flux\": \"20.3971\",\n",
      "                \"obsdate\": \"2022-07-19 04:44:36.001\",\n",
      "                \"observer\": \"Robot\"\n",
      "            },\n",
      "            \"photometry\": {\n",
      "                \"photometry_group\": {\n",
      "                    \"0\": {\n",
      "                        \"comments\": \"Data provided by ZTF\",\n",
      "                        \"exptime\": \"30\",\n",
      "                        \"filter_value\": \"111\",\n",
      "                        \"flux\": \"20.7484\",\n",
      "                        \"flux_error\": \"0.350923\",\n",
      "                        \"flux_units\": \"1\",\n",
      "                        \"instrument_value\": \"196\",\n",
      "                        \"limiting_flux\": \"20.3232\",\n",
      "                        \"obsdate\": \"2022-07-19 05:48:30.001\",\n",
      "                        \"observer\": \"Robot\"\n",
      "                    },\n",
      "                    \"1\": {\n",
      "                        \"comments\": \"Data provided by ZTF\",\n",
      "                        \"exptime\": \"30\",\n",
      "                        \"filter_value\": \"110\",\n",
      "                        \"flux\": \"20.4557\",\n",
      "                        \"flux_error\": \"0.237264\",\n",
      "                        \"flux_units\": \"1\",\n",
      "                        \"instrument_value\": \"196\",\n",
      "                        \"limiting_flux\": \"20.413\",\n",
      "                        \"obsdate\": \"2022-07-21 05:49:08.000\",\n",
      "                        \"observer\": \"Robot\"\n",
      "                    },\n",
      "                    \"2\": {\n",
      "                        \"comments\": \"Data provided by ZTF\",\n",
      "                        \"exptime\": \"30\",\n",
      "                        \"filter_value\": \"111\",\n",
      "                        \"flux\": \"20.2159\",\n",
      "                        \"flux_error\": \"0.276553\",\n",
      "                        \"flux_units\": \"1\",\n",
      "                        \"instrument_value\": \"196\",\n",
      "                        \"limiting_flux\": \"20.1984\",\n",
      "                        \"obsdate\": \"2022-07-23 06:21:10.002\",\n",
      "                        \"observer\": \"Robot\"\n",
      "                    },\n",
      "                    \"3\": {\n",
      "                        \"comments\": \"Data provided by ZTF\",\n",
      "                        \"exptime\": \"30\",\n",
      "                        \"filter_value\": \"110\",\n",
      "                        \"flux\": \"20.071705\",\n",
      "                        \"flux_error\": \"0.2119405\",\n",
      "                        \"flux_units\": \"1\",\n",
      "                        \"instrument_value\": \"196\",\n",
      "                        \"limiting_flux\": \"20.4351\",\n",
      "                        \"obsdate\": \"2022-07-23 06:48:07.004\",\n",
      "                        \"observer\": \"Robot\"\n",
      "                    }\n",
      "                }\n",
      "            },\n",
      "            \"ra\": {\n",
      "                \"error\": \"0.085\",\n",
      "                \"units\": \"arcsec\",\n",
      "                \"value\": \"220.07327899999999\"\n",
      "            },\n",
      "            \"remarks\": \"SN candidate classified using ALeRCE's stamp classifier (Carrasco-Davis et al. 2021) and the public ZTF stream. Discovery image and light curve in http://alerce.online/object/ZTF22aautnrr \",\n",
      "            \"reporter\": \"F. Forster, F.E. Bauer, G. Pignata, A. Munoz-Arancibia, A. Mourao, R. Dastidar, L. Hernandez-Garcia, L. Galbany, E. Camacho, J. Silva-Farfan, J. Arredondo, G. Cabrera-Vives, R. Carrasco-Davis, P.A. Estevez, P. Huijse, E. Reyes, I. Reyes, P. Sanchez-Saez, C. Valenzuela, E. Castillo, D. Ruz-Mieres, D. Rodriguez-Mancini, M. Catelan, S. Eyheramendy, M.J. Graham on behalf of the ALeRCE broker\",\n",
      "            \"reporting_group_id\": \"74\"\n",
      "        },\n",
      "        \"29\": {\n",
      "            \"at_type\": \"1\",\n",
      "            \"dec\": {\n",
      "                \"error\": \"0.085\",\n",
      "                \"units\": \"arcsec\",\n",
      "                \"value\": \"58.855789200000004\"\n",
      "            },\n",
      "            \"discovery_data_source_id\": \"48\",\n",
      "            \"discovery_datetime\": \"2022-07-21 06:46:12.999\",\n",
      "            \"host_name\": \"WISEA J195059.71+585122.0\",\n",
      "            \"internal_name\": \"ZTF22aaunsga\",\n",
      "            \"non_detection\": {\n",
      "                \"comments\": \"Data provided by ZTF\",\n",
      "                \"exptime\": \"30\",\n",
      "                \"filter_value\": \"111\",\n",
      "                \"flux_units\": \"1\",\n",
      "                \"instrument_value\": \"196\",\n",
      "                \"limiting_flux\": \"20.3353\",\n",
      "                \"obsdate\": \"2022-07-19 09:11:21.998\",\n",
      "                \"observer\": \"Robot\"\n",
      "            },\n",
      "            \"photometry\": {\n",
      "                \"photometry_group\": {\n",
      "                    \"0\": {\n",
      "                        \"comments\": \"Data provided by ZTF\",\n",
      "                        \"exptime\": \"30\",\n",
      "                        \"filter_value\": \"110\",\n",
      "                        \"flux\": \"19.693003\",\n",
      "                        \"flux_error\": \"0.11374256\",\n",
      "                        \"flux_units\": \"1\",\n",
      "                        \"instrument_value\": \"196\",\n",
      "                        \"limiting_flux\": \"20.454239\",\n",
      "                        \"obsdate\": \"2022-07-21 06:46:12.999\",\n",
      "                        \"observer\": \"Robot\"\n",
      "                    },\n",
      "                    \"1\": {\n",
      "                        \"comments\": \"Data provided by ZTF\",\n",
      "                        \"exptime\": \"30\",\n",
      "                        \"filter_value\": \"110\",\n",
      "                        \"flux\": \"19.863806\",\n",
      "                        \"flux_error\": \"0.1414871\",\n",
      "                        \"flux_units\": \"1\",\n",
      "                        \"instrument_value\": \"196\",\n",
      "                        \"limiting_flux\": \"20.29499\",\n",
      "                        \"obsdate\": \"2022-07-21 08:52:42.997\",\n",
      "                        \"observer\": \"Robot\"\n",
      "                    },\n",
      "                    \"2\": {\n",
      "                        \"comments\": \"Data provided by ZTF\",\n",
      "                        \"exptime\": \"30\",\n",
      "                        \"filter_value\": \"110\",\n",
      "                        \"flux\": \"19.841076\",\n",
      "                        \"flux_error\": \"0.11428616\",\n",
      "                        \"flux_units\": \"1\",\n",
      "                        \"instrument_value\": \"196\",\n",
      "                        \"limiting_flux\": \"20.614164\",\n",
      "                        \"obsdate\": \"2022-07-23 07:06:32.000\",\n",
      "                        \"observer\": \"Robot\"\n",
      "                    }\n",
      "                }\n",
      "            },\n",
      "            \"ra\": {\n",
      "                \"error\": \"0.085\",\n",
      "                \"units\": \"arcsec\",\n",
      "                \"value\": \"297.7491806333333\"\n",
      "            },\n",
      "            \"remarks\": \"Early SN candidate (g-rise > 0.08+-0.01 mag/day) classified using ALeRCE's stamp classifier (Carrasco-Davis et al. 2021) and the public ZTF stream. Discovery image and light curve in http://alerce.online/object/ZTF22aaunsga \",\n",
      "            \"reporter\": \"F. Forster, F.E. Bauer, G. Pignata, A. Munoz-Arancibia, A. Mourao, R. Dastidar, L. Hernandez-Garcia, L. Galbany, E. Camacho, J. Silva-Farfan, J. Arredondo, G. Cabrera-Vives, R. Carrasco-Davis, P.A. Estevez, P. Huijse, E. Reyes, I. Reyes, P. Sanchez-Saez, C. Valenzuela, E. Castillo, D. Ruz-Mieres, D. Rodriguez-Mancini, M. Catelan, S. Eyheramendy, M.J. Graham on behalf of the ALeRCE broker\",\n",
      "            \"reporting_group_id\": \"74\"\n",
      "        },\n",
      "        \"3\": {\n",
      "            \"at_type\": \"1\",\n",
      "            \"dec\": {\n",
      "                \"error\": \"0.085\",\n",
      "                \"units\": \"arcsec\",\n",
      "                \"value\": \"51.118376500000004\"\n",
      "            },\n",
      "            \"discovery_data_source_id\": \"48\",\n",
      "            \"discovery_datetime\": \"2022-07-18 11:06:39.001\",\n",
      "            \"host_name\": \"WISEA J002816.83+510706.3\",\n",
      "            \"internal_name\": \"ZTF22aavgzjc\",\n",
      "            \"non_detection\": {\n",
      "                \"comments\": \"Data provided by ZTF\",\n",
      "                \"exptime\": \"30\",\n",
      "                \"filter_value\": \"111\",\n",
      "                \"flux_units\": \"1\",\n",
      "                \"instrument_value\": \"196\",\n",
      "                \"limiting_flux\": \"19.92\",\n",
      "                \"obsdate\": \"2022-07-18 10:43:16.003\",\n",
      "                \"observer\": \"Robot\"\n",
      "            },\n",
      "            \"photometry\": {\n",
      "                \"photometry_group\": {\n",
      "                    \"0\": {\n",
      "                        \"comments\": \"Data provided by ZTF\",\n",
      "                        \"exptime\": \"30\",\n",
      "                        \"filter_value\": \"111\",\n",
      "                        \"flux\": \"20.2571\",\n",
      "                        \"flux_error\": \"0.297764\",\n",
      "                        \"flux_units\": \"1\",\n",
      "                        \"instrument_value\": \"196\",\n",
      "                        \"limiting_flux\": \"20.0021\",\n",
      "                        \"obsdate\": \"2022-07-18 11:06:39.001\",\n",
      "                        \"observer\": \"Robot\"\n",
      "                    },\n",
      "                    \"1\": {\n",
      "                        \"comments\": \"Data provided by ZTF\",\n",
      "                        \"exptime\": \"30\",\n",
      "                        \"filter_value\": \"110\",\n",
      "                        \"flux\": \"20.3734\",\n",
      "                        \"flux_error\": \"0.285478\",\n",
      "                        \"flux_units\": \"1\",\n",
      "                        \"instrument_value\": \"196\",\n",
      "                        \"limiting_flux\": \"20.4331\",\n",
      "                        \"obsdate\": \"2022-07-22 10:47:47.999\",\n",
      "                        \"observer\": \"Robot\"\n",
      "                    },\n",
      "                    \"2\": {\n",
      "                        \"comments\": \"Data provided by ZTF\",\n",
      "                        \"exptime\": \"30\",\n",
      "                        \"filter_value\": \"111\",\n",
      "                        \"flux\": \"20.24841\",\n",
      "                        \"flux_error\": \"0.213745\",\n",
      "                        \"flux_units\": \"1\",\n",
      "                        \"instrument_value\": \"196\",\n",
      "                        \"limiting_flux\": \"20.401636\",\n",
      "                        \"obsdate\": \"2022-07-23 09:46:33.001\",\n",
      "                        \"observer\": \"Robot\"\n",
      "                    }\n",
      "                }\n",
      "            },\n",
      "            \"ra\": {\n",
      "                \"error\": \"0.085\",\n",
      "                \"units\": \"arcsec\",\n",
      "                \"value\": \"7.070195333333333\"\n",
      "            },\n",
      "            \"remarks\": \"SN candidate classified using ALeRCE's stamp classifier (Carrasco-Davis et al. 2021) and the public ZTF stream. Discovery image and light curve in http://alerce.online/object/ZTF22aavgzjc \",\n",
      "            \"reporter\": \"F. Forster, F.E. Bauer, G. Pignata, A. Munoz-Arancibia, A. Mourao, R. Dastidar, L. Hernandez-Garcia, L. Galbany, E. Camacho, J. Silva-Farfan, J. Arredondo, G. Cabrera-Vives, R. Carrasco-Davis, P.A. Estevez, P. Huijse, E. Reyes, I. Reyes, P. Sanchez-Saez, C. Valenzuela, E. Castillo, D. Ruz-Mieres, D. Rodriguez-Mancini, M. Catelan, S. Eyheramendy, M.J. Graham on behalf of the ALeRCE broker\",\n",
      "            \"reporting_group_id\": \"74\"\n",
      "        },\n",
      "        \"30\": {\n",
      "            \"at_type\": \"1\",\n",
      "            \"dec\": {\n",
      "                \"error\": \"0.085\",\n",
      "                \"units\": \"arcsec\",\n",
      "                \"value\": \"-4.844109433333333\"\n",
      "            },\n",
      "            \"discovery_data_source_id\": \"48\",\n",
      "            \"discovery_datetime\": \"2022-07-19 10:32:00.001\",\n",
      "            \"host_name\": \"SDSS J212447.84-045040.4\",\n",
      "            \"internal_name\": \"ZTF22aaujkdb\",\n",
      "            \"non_detection\": {\n",
      "                \"comments\": \"Data provided by ZTF\",\n",
      "                \"exptime\": \"30\",\n",
      "                \"filter_value\": \"111\",\n",
      "                \"flux_units\": \"1\",\n",
      "                \"instrument_value\": \"196\",\n",
      "                \"limiting_flux\": \"19.3939\",\n",
      "                \"obsdate\": \"2022-07-16 10:03:59.003\",\n",
      "                \"observer\": \"Robot\"\n",
      "            },\n",
      "            \"photometry\": {\n",
      "                \"photometry_group\": {\n",
      "                    \"0\": {\n",
      "                        \"comments\": \"Data provided by ZTF\",\n",
      "                        \"exptime\": \"30\",\n",
      "                        \"filter_value\": \"111\",\n",
      "                        \"flux\": \"20.1472\",\n",
      "                        \"flux_error\": \"0.233713\",\n",
      "                        \"flux_units\": \"1\",\n",
      "                        \"instrument_value\": \"196\",\n",
      "                        \"limiting_flux\": \"20.1497\",\n",
      "                        \"obsdate\": \"2022-07-19 10:32:00.001\",\n",
      "                        \"observer\": \"Robot\"\n",
      "                    },\n",
      "                    \"1\": {\n",
      "                        \"comments\": \"Data provided by ZTF\",\n",
      "                        \"exptime\": \"30\",\n",
      "                        \"filter_value\": \"110\",\n",
      "                        \"flux\": \"20.0662\",\n",
      "                        \"flux_error\": \"0.247868\",\n",
      "                        \"flux_units\": \"1\",\n",
      "                        \"instrument_value\": \"196\",\n",
      "                        \"limiting_flux\": \"20.0546\",\n",
      "                        \"obsdate\": \"2022-07-21 08:37:16.997\",\n",
      "                        \"observer\": \"Robot\"\n",
      "                    },\n",
      "                    \"2\": {\n",
      "                        \"comments\": \"Data provided by ZTF\",\n",
      "                        \"exptime\": \"30\",\n",
      "                        \"filter_value\": \"110\",\n",
      "                        \"flux\": \"20.006914\",\n",
      "                        \"flux_error\": \"0.15255904\",\n",
      "                        \"flux_units\": \"1\",\n",
      "                        \"instrument_value\": \"196\",\n",
      "                        \"limiting_flux\": \"20.76013\",\n",
      "                        \"obsdate\": \"2022-07-23 08:28:13.999\",\n",
      "                        \"observer\": \"Robot\"\n",
      "                    }\n",
      "                }\n",
      "            },\n",
      "            \"ra\": {\n",
      "                \"error\": \"0.085\",\n",
      "                \"units\": \"arcsec\",\n",
      "                \"value\": \"321.1991689333333\"\n",
      "            },\n",
      "            \"remarks\": \"SN candidate classified using ALeRCE's stamp classifier (Carrasco-Davis et al. 2021) and the public ZTF stream. Discovery image and light curve in http://alerce.online/object/ZTF22aaujkdb \",\n",
      "            \"reporter\": \"F. Forster, F.E. Bauer, G. Pignata, A. Munoz-Arancibia, A. Mourao, R. Dastidar, L. Hernandez-Garcia, L. Galbany, E. Camacho, J. Silva-Farfan, J. Arredondo, G. Cabrera-Vives, R. Carrasco-Davis, P.A. Estevez, P. Huijse, E. Reyes, I. Reyes, P. Sanchez-Saez, C. Valenzuela, E. Castillo, D. Ruz-Mieres, D. Rodriguez-Mancini, M. Catelan, S. Eyheramendy, M.J. Graham on behalf of the ALeRCE broker\",\n",
      "            \"reporting_group_id\": \"74\"\n",
      "        },\n",
      "        \"31\": {\n",
      "            \"at_type\": \"1\",\n",
      "            \"dec\": {\n",
      "                \"error\": \"0.085\",\n",
      "                \"units\": \"arcsec\",\n",
      "                \"value\": \"43.263249333333334\"\n",
      "            },\n",
      "            \"discovery_data_source_id\": \"48\",\n",
      "            \"discovery_datetime\": \"2022-07-19 07:15:36.000\",\n",
      "            \"host_name\": \"SDSS J165309.74+431547.7\",\n",
      "            \"host_redshift\": \"0.1134516\",\n",
      "            \"internal_name\": \"ZTF22aauhudo\",\n",
      "            \"non_detection\": {\n",
      "                \"comments\": \"Data provided by ZTF\",\n",
      "                \"exptime\": \"30\",\n",
      "                \"filter_value\": \"111\",\n",
      "                \"flux_units\": \"1\",\n",
      "                \"instrument_value\": \"196\",\n",
      "                \"limiting_flux\": \"20.5971\",\n",
      "                \"obsdate\": \"2022-07-19 06:16:37.998\",\n",
      "                \"observer\": \"Robot\"\n",
      "            },\n",
      "            \"photometry\": {\n",
      "                \"photometry_group\": {\n",
      "                    \"0\": {\n",
      "                        \"comments\": \"Data provided by ZTF\",\n",
      "                        \"exptime\": \"30\",\n",
      "                        \"filter_value\": \"111\",\n",
      "                        \"flux\": \"20.039715\",\n",
      "                        \"flux_error\": \"0.18860479\",\n",
      "                        \"flux_units\": \"1\",\n",
      "                        \"instrument_value\": \"196\",\n",
      "                        \"limiting_flux\": \"20.41101\",\n",
      "                        \"obsdate\": \"2022-07-19 07:15:36.000\",\n",
      "                        \"observer\": \"Robot\"\n",
      "                    },\n",
      "                    \"1\": {\n",
      "                        \"comments\": \"Data provided by ZTF\",\n",
      "                        \"exptime\": \"30\",\n",
      "                        \"filter_value\": \"110\",\n",
      "                        \"flux\": \"20.25684\",\n",
      "                        \"flux_error\": \"0.15681185\",\n",
      "                        \"flux_units\": \"1\",\n",
      "                        \"instrument_value\": \"196\",\n",
      "                        \"limiting_flux\": \"20.664627\",\n",
      "                        \"obsdate\": \"2022-07-21 06:18:06.998\",\n",
      "                        \"observer\": \"Robot\"\n",
      "                    },\n",
      "                    \"2\": {\n",
      "                        \"comments\": \"Data provided by ZTF\",\n",
      "                        \"exptime\": \"30\",\n",
      "                        \"filter_value\": \"111\",\n",
      "                        \"flux\": \"19.93447\",\n",
      "                        \"flux_error\": \"0.1849779\",\n",
      "                        \"flux_units\": \"1\",\n",
      "                        \"instrument_value\": \"196\",\n",
      "                        \"limiting_flux\": \"20.590218\",\n",
      "                        \"obsdate\": \"2022-07-23 06:13:36.998\",\n",
      "                        \"observer\": \"Robot\"\n",
      "                    }\n",
      "                }\n",
      "            },\n",
      "            \"ra\": {\n",
      "                \"error\": \"0.085\",\n",
      "                \"units\": \"arcsec\",\n",
      "                \"value\": \"253.2908189666667\"\n",
      "            },\n",
      "            \"remarks\": \"Early SN candidate (r-rise > 1.00 mag/day) classified using ALeRCE's stamp classifier (Carrasco-Davis et al. 2021) and the public ZTF stream. Discovery image and light curve in http://alerce.online/object/ZTF22aauhudo \",\n",
      "            \"reporter\": \"F. Forster, F.E. Bauer, G. Pignata, A. Munoz-Arancibia, A. Mourao, R. Dastidar, L. Hernandez-Garcia, L. Galbany, E. Camacho, J. Silva-Farfan, J. Arredondo, G. Cabrera-Vives, R. Carrasco-Davis, P.A. Estevez, P. Huijse, E. Reyes, I. Reyes, P. Sanchez-Saez, C. Valenzuela, E. Castillo, D. Ruz-Mieres, D. Rodriguez-Mancini, M. Catelan, S. Eyheramendy, M.J. Graham on behalf of the ALeRCE broker\",\n",
      "            \"reporting_group_id\": \"74\"\n",
      "        },\n",
      "        \"32\": {\n",
      "            \"at_type\": \"1\",\n",
      "            \"dec\": {\n",
      "                \"error\": \"0.085\",\n",
      "                \"units\": \"arcsec\",\n",
      "                \"value\": \"38.076430574999996\"\n",
      "            },\n",
      "            \"discovery_data_source_id\": \"48\",\n",
      "            \"discovery_datetime\": \"2022-07-19 06:16:37.998\",\n",
      "            \"host_name\": \"SDSS J165900.93+380435.0\",\n",
      "            \"internal_name\": \"ZTF22aaugvnu\",\n",
      "            \"non_detection\": {\n",
      "                \"comments\": \"Data provided by ZTF\",\n",
      "                \"exptime\": \"30\",\n",
      "                \"filter_value\": \"111\",\n",
      "                \"flux_units\": \"1\",\n",
      "                \"instrument_value\": \"196\",\n",
      "                \"limiting_flux\": \"20.2073\",\n",
      "                \"obsdate\": \"2022-07-16 07:52:39.003\",\n",
      "                \"observer\": \"Robot\"\n",
      "            },\n",
      "            \"photometry\": {\n",
      "                \"photometry_group\": {\n",
      "                    \"0\": {\n",
      "                        \"comments\": \"Data provided by ZTF\",\n",
      "                        \"exptime\": \"30\",\n",
      "                        \"filter_value\": \"111\",\n",
      "                        \"flux\": \"20.7673\",\n",
      "                        \"flux_error\": \"0.28873\",\n",
      "                        \"flux_units\": \"1\",\n",
      "                        \"instrument_value\": \"196\",\n",
      "                        \"limiting_flux\": \"20.7064\",\n",
      "                        \"obsdate\": \"2022-07-19 06:16:37.998\",\n",
      "                        \"observer\": \"Robot\"\n",
      "                    },\n",
      "                    \"1\": {\n",
      "                        \"comments\": \"Data provided by ZTF\",\n",
      "                        \"exptime\": \"30\",\n",
      "                        \"filter_value\": \"111\",\n",
      "                        \"flux\": \"20.6131\",\n",
      "                        \"flux_error\": \"0.280005\",\n",
      "                        \"flux_units\": \"1\",\n",
      "                        \"instrument_value\": \"196\",\n",
      "                        \"limiting_flux\": \"20.5111\",\n",
      "                        \"obsdate\": \"2022-07-19 07:15:36.000\",\n",
      "                        \"observer\": \"Robot\"\n",
      "                    },\n",
      "                    \"2\": {\n",
      "                        \"comments\": \"Data provided by ZTF\",\n",
      "                        \"exptime\": \"30\",\n",
      "                        \"filter_value\": \"110\",\n",
      "                        \"flux\": \"20.5634\",\n",
      "                        \"flux_error\": \"0.249036\",\n",
      "                        \"flux_units\": \"1\",\n",
      "                        \"instrument_value\": \"196\",\n",
      "                        \"limiting_flux\": \"20.6527\",\n",
      "                        \"obsdate\": \"2022-07-21 06:18:06.998\",\n",
      "                        \"observer\": \"Robot\"\n",
      "                    },\n",
      "                    \"3\": {\n",
      "                        \"comments\": \"Data provided by ZTF\",\n",
      "                        \"exptime\": \"30\",\n",
      "                        \"filter_value\": \"111\",\n",
      "                        \"flux\": \"20.599493\",\n",
      "                        \"flux_error\": \"0.19572867\",\n",
      "                        \"flux_units\": \"1\",\n",
      "                        \"instrument_value\": \"196\",\n",
      "                        \"limiting_flux\": \"20.782799\",\n",
      "                        \"obsdate\": \"2022-07-23 06:13:36.998\",\n",
      "                        \"observer\": \"Robot\"\n",
      "                    }\n",
      "                }\n",
      "            },\n",
      "            \"ra\": {\n",
      "                \"error\": \"0.085\",\n",
      "                \"units\": \"arcsec\",\n",
      "                \"value\": \"254.75328439999998\"\n",
      "            },\n",
      "            \"remarks\": \"SN candidate classified using ALeRCE's stamp classifier (Carrasco-Davis et al. 2021) and the public ZTF stream. Discovery image and light curve in http://alerce.online/object/ZTF22aaugvnu \",\n",
      "            \"reporter\": \"F. Forster, F.E. Bauer, G. Pignata, A. Munoz-Arancibia, A. Mourao, R. Dastidar, L. Hernandez-Garcia, L. Galbany, E. Camacho, J. Silva-Farfan, J. Arredondo, G. Cabrera-Vives, R. Carrasco-Davis, P.A. Estevez, P. Huijse, E. Reyes, I. Reyes, P. Sanchez-Saez, C. Valenzuela, E. Castillo, D. Ruz-Mieres, D. Rodriguez-Mancini, M. Catelan, S. Eyheramendy, M.J. Graham on behalf of the ALeRCE broker\",\n",
      "            \"reporting_group_id\": \"74\"\n",
      "        },\n",
      "        \"33\": {\n",
      "            \"at_type\": \"1\",\n",
      "            \"dec\": {\n",
      "                \"error\": \"0.085\",\n",
      "                \"units\": \"arcsec\",\n",
      "                \"value\": \"31.7121462\"\n",
      "            },\n",
      "            \"discovery_data_source_id\": \"48\",\n",
      "            \"discovery_datetime\": \"2022-07-21 06:14:42.999\",\n",
      "            \"host_name\": \"SDSS J165038.39+314244.3\",\n",
      "            \"internal_name\": \"ZTF22aatymow\",\n",
      "            \"non_detection\": {\n",
      "                \"comments\": \"Data provided by ZTF\",\n",
      "                \"exptime\": \"30\",\n",
      "                \"filter_value\": \"110\",\n",
      "                \"flux_units\": \"1\",\n",
      "                \"instrument_value\": \"196\",\n",
      "                \"limiting_flux\": \"20.7331\",\n",
      "                \"obsdate\": \"2022-07-21 05:54:41.003\",\n",
      "                \"observer\": \"Robot\"\n",
      "            },\n",
      "            \"photometry\": {\n",
      "                \"photometry_group\": {\n",
      "                    \"0\": {\n",
      "                        \"comments\": \"Data provided by ZTF\",\n",
      "                        \"exptime\": \"30\",\n",
      "                        \"filter_value\": \"110\",\n",
      "                        \"flux\": \"20.7455\",\n",
      "                        \"flux_error\": \"0.272479\",\n",
      "                        \"flux_units\": \"1\",\n",
      "                        \"instrument_value\": \"196\",\n",
      "                        \"limiting_flux\": \"20.7284\",\n",
      "                        \"obsdate\": \"2022-07-21 06:14:42.999\",\n",
      "                        \"observer\": \"Robot\"\n",
      "                    },\n",
      "                    \"1\": {\n",
      "                        \"comments\": \"Data provided by ZTF\",\n",
      "                        \"exptime\": \"30\",\n",
      "                        \"filter_value\": \"111\",\n",
      "                        \"flux\": \"20.754187\",\n",
      "                        \"flux_error\": \"0.1974771\",\n",
      "                        \"flux_units\": \"1\",\n",
      "                        \"instrument_value\": \"196\",\n",
      "                        \"limiting_flux\": \"20.77025\",\n",
      "                        \"obsdate\": \"2022-07-23 06:12:56.002\",\n",
      "                        \"observer\": \"Robot\"\n",
      "                    }\n",
      "                }\n",
      "            },\n",
      "            \"ra\": {\n",
      "                \"error\": \"0.085\",\n",
      "                \"units\": \"arcsec\",\n",
      "                \"value\": \"252.6592641\"\n",
      "            },\n",
      "            \"remarks\": \"SN candidate classified using ALeRCE's stamp classifier (Carrasco-Davis et al. 2021) and the public ZTF stream. Discovery image and light curve in http://alerce.online/object/ZTF22aatymow \",\n",
      "            \"reporter\": \"F. Forster, F.E. Bauer, G. Pignata, A. Munoz-Arancibia, A. Mourao, R. Dastidar, L. Hernandez-Garcia, L. Galbany, E. Camacho, J. Silva-Farfan, J. Arredondo, G. Cabrera-Vives, R. Carrasco-Davis, P.A. Estevez, P. Huijse, E. Reyes, I. Reyes, P. Sanchez-Saez, C. Valenzuela, E. Castillo, D. Ruz-Mieres, D. Rodriguez-Mancini, M. Catelan, S. Eyheramendy, M.J. Graham on behalf of the ALeRCE broker\",\n",
      "            \"reporting_group_id\": \"74\"\n",
      "        },\n",
      "        \"34\": {\n",
      "            \"at_type\": \"1\",\n",
      "            \"dec\": {\n",
      "                \"error\": \"0.085\",\n",
      "                \"units\": \"arcsec\",\n",
      "                \"value\": \"52.531838025\"\n",
      "            },\n",
      "            \"discovery_data_source_id\": \"48\",\n",
      "            \"discovery_datetime\": \"2022-07-21 06:27:09.003\",\n",
      "            \"host_name\": \"SDSS J151837.27+523155.4\",\n",
      "            \"internal_name\": \"ZTF22aatylyb\",\n",
      "            \"non_detection\": {\n",
      "                \"comments\": \"Data provided by ZTF\",\n",
      "                \"exptime\": \"30\",\n",
      "                \"filter_value\": \"110\",\n",
      "                \"flux_units\": \"1\",\n",
      "                \"instrument_value\": \"196\",\n",
      "                \"limiting_flux\": \"20.0895\",\n",
      "                \"obsdate\": \"2022-07-20 06:46:26.996\",\n",
      "                \"observer\": \"Robot\"\n",
      "            },\n",
      "            \"photometry\": {\n",
      "                \"photometry_group\": {\n",
      "                    \"0\": {\n",
      "                        \"comments\": \"Data provided by ZTF\",\n",
      "                        \"exptime\": \"30\",\n",
      "                        \"filter_value\": \"110\",\n",
      "                        \"flux\": \"20.3921\",\n",
      "                        \"flux_error\": \"0.267371\",\n",
      "                        \"flux_units\": \"1\",\n",
      "                        \"instrument_value\": \"196\",\n",
      "                        \"limiting_flux\": \"20.2931\",\n",
      "                        \"obsdate\": \"2022-07-21 06:27:09.003\",\n",
      "                        \"observer\": \"Robot\"\n",
      "                    },\n",
      "                    \"1\": {\n",
      "                        \"comments\": \"Data provided by ZTF\",\n",
      "                        \"exptime\": \"30\",\n",
      "                        \"filter_value\": \"110\",\n",
      "                        \"flux\": \"20.2703\",\n",
      "                        \"flux_error\": \"0.294896\",\n",
      "                        \"flux_units\": \"1\",\n",
      "                        \"instrument_value\": \"196\",\n",
      "                        \"limiting_flux\": \"20.1697\",\n",
      "                        \"obsdate\": \"2022-07-22 06:49:58.002\",\n",
      "                        \"observer\": \"Robot\"\n",
      "                    },\n",
      "                    \"2\": {\n",
      "                        \"comments\": \"Data provided by ZTF\",\n",
      "                        \"exptime\": \"30\",\n",
      "                        \"filter_value\": \"111\",\n",
      "                        \"flux\": \"19.996662\",\n",
      "                        \"flux_error\": \"0.13768415\",\n",
      "                        \"flux_units\": \"1\",\n",
      "                        \"instrument_value\": \"196\",\n",
      "                        \"limiting_flux\": \"20.4633\",\n",
      "                        \"obsdate\": \"2022-07-23 06:21:50.999\",\n",
      "                        \"observer\": \"Robot\"\n",
      "                    },\n",
      "                    \"3\": {\n",
      "                        \"comments\": \"Data provided by ZTF\",\n",
      "                        \"exptime\": \"30\",\n",
      "                        \"filter_value\": \"110\",\n",
      "                        \"flux\": \"19.74738\",\n",
      "                        \"flux_error\": \"0.13120386\",\n",
      "                        \"flux_units\": \"1\",\n",
      "                        \"instrument_value\": \"196\",\n",
      "                        \"limiting_flux\": \"20.531668\",\n",
      "                        \"obsdate\": \"2022-07-23 06:46:03.996\",\n",
      "                        \"observer\": \"Robot\"\n",
      "                    }\n",
      "                }\n",
      "            },\n",
      "            \"ra\": {\n",
      "                \"error\": \"0.085\",\n",
      "                \"units\": \"arcsec\",\n",
      "                \"value\": \"229.655153725\"\n",
      "            },\n",
      "            \"remarks\": \"SN candidate classified using ALeRCE's stamp classifier (Carrasco-Davis et al. 2021) and the public ZTF stream. Discovery image and light curve in http://alerce.online/object/ZTF22aatylyb \",\n",
      "            \"reporter\": \"F. Forster, F.E. Bauer, G. Pignata, A. Munoz-Arancibia, A. Mourao, R. Dastidar, L. Hernandez-Garcia, L. Galbany, E. Camacho, J. Silva-Farfan, J. Arredondo, G. Cabrera-Vives, R. Carrasco-Davis, P.A. Estevez, P. Huijse, E. Reyes, I. Reyes, P. Sanchez-Saez, C. Valenzuela, E. Castillo, D. Ruz-Mieres, D. Rodriguez-Mancini, M. Catelan, S. Eyheramendy, M.J. Graham on behalf of the ALeRCE broker\",\n",
      "            \"reporting_group_id\": \"74\"\n",
      "        },\n",
      "        \"35\": {\n",
      "            \"at_type\": \"1\",\n",
      "            \"dec\": {\n",
      "                \"error\": \"0.085\",\n",
      "                \"units\": \"arcsec\",\n",
      "                \"value\": \"45.302818699999996\"\n",
      "            },\n",
      "            \"discovery_data_source_id\": \"48\",\n",
      "            \"discovery_datetime\": \"2022-07-20 06:08:19.997\",\n",
      "            \"host_name\": \"SDSS J152003.79+451811.3\",\n",
      "            \"host_redshift\": \"0.09894894\",\n",
      "            \"internal_name\": \"ZTF18aanabqp\",\n",
      "            \"non_detection\": {\n",
      "                \"comments\": \"Data provided by ZTF\",\n",
      "                \"exptime\": \"30\",\n",
      "                \"filter_value\": \"111\",\n",
      "                \"flux_units\": \"1\",\n",
      "                \"instrument_value\": \"196\",\n",
      "                \"limiting_flux\": \"20.416\",\n",
      "                \"obsdate\": \"2022-07-17 05:21:16.004\",\n",
      "                \"observer\": \"Robot\"\n",
      "            },\n",
      "            \"photometry\": {\n",
      "                \"photometry_group\": {\n",
      "                    \"0\": {\n",
      "                        \"comments\": \"Data provided by ZTF\",\n",
      "                        \"exptime\": \"30\",\n",
      "                        \"filter_value\": \"110\",\n",
      "                        \"flux\": \"19.9729\",\n",
      "                        \"flux_error\": \"0.220618\",\n",
      "                        \"flux_units\": \"1\",\n",
      "                        \"instrument_value\": \"196\",\n",
      "                        \"limiting_flux\": \"20.3271\",\n",
      "                        \"obsdate\": \"2022-07-20 06:08:19.997\",\n",
      "                        \"observer\": \"Robot\"\n",
      "                    },\n",
      "                    \"1\": {\n",
      "                        \"comments\": \"Data provided by ZTF\",\n",
      "                        \"exptime\": \"30\",\n",
      "                        \"filter_value\": \"111\",\n",
      "                        \"flux\": \"19.588713\",\n",
      "                        \"flux_error\": \"0.1635155\",\n",
      "                        \"flux_units\": \"1\",\n",
      "                        \"instrument_value\": \"196\",\n",
      "                        \"limiting_flux\": \"20.163166\",\n",
      "                        \"obsdate\": \"2022-07-22 06:17:04.998\",\n",
      "                        \"observer\": \"Robot\"\n",
      "                    },\n",
      "                    \"2\": {\n",
      "                        \"comments\": \"Data provided by ZTF\",\n",
      "                        \"exptime\": \"30\",\n",
      "                        \"filter_value\": \"110\",\n",
      "                        \"flux\": \"19.556711\",\n",
      "                        \"flux_error\": \"0.1464324\",\n",
      "                        \"flux_units\": \"1\",\n",
      "                        \"instrument_value\": \"196\",\n",
      "                        \"limiting_flux\": \"20.272678\",\n",
      "                        \"obsdate\": \"2022-07-22 06:54:51.002\",\n",
      "                        \"observer\": \"Robot\"\n",
      "                    }\n",
      "                }\n",
      "            },\n",
      "            \"ra\": {\n",
      "                \"error\": \"0.085\",\n",
      "                \"units\": \"arcsec\",\n",
      "                \"value\": \"230.01572356666665\"\n",
      "            },\n",
      "            \"remarks\": \"Early SN candidate (r-rise > 0.16+-0.03 mag/day) classified using ALeRCE's stamp classifier (Carrasco-Davis et al. 2021) and the public ZTF stream. Discovery image and light curve in http://alerce.online/object/ZTF18aanabqp \",\n",
      "            \"reporter\": \"F. Forster, F.E. Bauer, G. Pignata, A. Munoz-Arancibia, A. Mourao, R. Dastidar, L. Hernandez-Garcia, L. Galbany, E. Camacho, J. Silva-Farfan, J. Arredondo, G. Cabrera-Vives, R. Carrasco-Davis, P.A. Estevez, P. Huijse, E. Reyes, I. Reyes, P. Sanchez-Saez, C. Valenzuela, E. Castillo, D. Ruz-Mieres, D. Rodriguez-Mancini, M. Catelan, S. Eyheramendy, M.J. Graham on behalf of the ALeRCE broker\",\n",
      "            \"reporting_group_id\": \"74\"\n",
      "        },\n",
      "        \"4\": {\n",
      "            \"at_type\": \"1\",\n",
      "            \"dec\": {\n",
      "                \"error\": \"0.085\",\n",
      "                \"units\": \"arcsec\",\n",
      "                \"value\": \"-9.2908168\"\n",
      "            },\n",
      "            \"discovery_data_source_id\": \"48\",\n",
      "            \"discovery_datetime\": \"2022-07-23 09:25:29.997\",\n",
      "            \"host_name\": \"2MASX J22102557-0917296\",\n",
      "            \"host_redshift\": \"0.070118\",\n",
      "            \"internal_name\": \"ZTF22aavfgyf\",\n",
      "            \"non_detection\": {\n",
      "                \"comments\": \"Data provided by ZTF\",\n",
      "                \"exptime\": \"30\",\n",
      "                \"filter_value\": \"110\",\n",
      "                \"flux_units\": \"1\",\n",
      "                \"instrument_value\": \"196\",\n",
      "                \"limiting_flux\": \"18.3967\",\n",
      "                \"obsdate\": \"2022-07-21 10:14:28.003\",\n",
      "                \"observer\": \"Robot\"\n",
      "            },\n",
      "            \"photometry\": {\n",
      "                \"photometry_group\": {\n",
      "                    \"0\": {\n",
      "                        \"comments\": \"Data provided by ZTF\",\n",
      "                        \"exptime\": \"30\",\n",
      "                        \"filter_value\": \"111\",\n",
      "                        \"flux\": \"20.219614\",\n",
      "                        \"flux_error\": \"0.1992371\",\n",
      "                        \"flux_units\": \"1\",\n",
      "                        \"instrument_value\": \"196\",\n",
      "                        \"limiting_flux\": \"20.454895\",\n",
      "                        \"obsdate\": \"2022-07-23 09:25:29.997\",\n",
      "                        \"observer\": \"Robot\"\n",
      "                    }\n",
      "                }\n",
      "            },\n",
      "            \"ra\": {\n",
      "                \"error\": \"0.085\",\n",
      "                \"units\": \"arcsec\",\n",
      "                \"value\": \"332.6054332\"\n",
      "            },\n",
      "            \"remarks\": \"SN candidate classified using ALeRCE's stamp classifier (Carrasco-Davis et al. 2021) and the public ZTF stream. Discovery image and light curve in http://alerce.online/object/ZTF22aavfgyf \",\n",
      "            \"reporter\": \"F. Forster, F.E. Bauer, G. Pignata, A. Munoz-Arancibia, A. Mourao, R. Dastidar, L. Hernandez-Garcia, L. Galbany, E. Camacho, J. Silva-Farfan, J. Arredondo, G. Cabrera-Vives, R. Carrasco-Davis, P.A. Estevez, P. Huijse, E. Reyes, I. Reyes, P. Sanchez-Saez, C. Valenzuela, E. Castillo, D. Ruz-Mieres, D. Rodriguez-Mancini, M. Catelan, S. Eyheramendy, M.J. Graham on behalf of the ALeRCE broker\",\n",
      "            \"reporting_group_id\": \"74\"\n",
      "        },\n",
      "        \"5\": {\n",
      "            \"at_type\": \"1\",\n",
      "            \"dec\": {\n",
      "                \"error\": \"0.085\",\n",
      "                \"units\": \"arcsec\",\n",
      "                \"value\": \"-2.3760871\"\n",
      "            },\n",
      "            \"discovery_data_source_id\": \"48\",\n",
      "            \"discovery_datetime\": \"2022-07-21 08:37:16.997\",\n",
      "            \"host_name\": \"SDSS J211616.28-022232.8\",\n",
      "            \"internal_name\": \"ZTF22aaveghe\",\n",
      "            \"non_detection\": {\n",
      "                \"comments\": \"Data provided by ZTF\",\n",
      "                \"exptime\": \"30\",\n",
      "                \"filter_value\": \"111\",\n",
      "                \"flux_units\": \"1\",\n",
      "                \"instrument_value\": \"196\",\n",
      "                \"limiting_flux\": \"20.1283\",\n",
      "                \"obsdate\": \"2022-07-19 10:32:00.001\",\n",
      "                \"observer\": \"Robot\"\n",
      "            },\n",
      "            \"photometry\": {\n",
      "                \"photometry_group\": {\n",
      "                    \"0\": {\n",
      "                        \"comments\": \"Data provided by ZTF\",\n",
      "                        \"exptime\": \"30\",\n",
      "                        \"filter_value\": \"110\",\n",
      "                        \"flux\": \"20.328\",\n",
      "                        \"flux_error\": \"0.326813\",\n",
      "                        \"flux_units\": \"1\",\n",
      "                        \"instrument_value\": \"196\",\n",
      "                        \"limiting_flux\": \"20.0892\",\n",
      "                        \"obsdate\": \"2022-07-21 08:37:16.997\",\n",
      "                        \"observer\": \"Robot\"\n",
      "                    },\n",
      "                    \"1\": {\n",
      "                        \"comments\": \"Data provided by ZTF\",\n",
      "                        \"exptime\": \"30\",\n",
      "                        \"filter_value\": \"110\",\n",
      "                        \"flux\": \"20.364693\",\n",
      "                        \"flux_error\": \"0.21451518\",\n",
      "                        \"flux_units\": \"1\",\n",
      "                        \"instrument_value\": \"196\",\n",
      "                        \"limiting_flux\": \"20.660397\",\n",
      "                        \"obsdate\": \"2022-07-23 08:28:13.999\",\n",
      "                        \"observer\": \"Robot\"\n",
      "                    }\n",
      "                }\n",
      "            },\n",
      "            \"ra\": {\n",
      "                \"error\": \"0.085\",\n",
      "                \"units\": \"arcsec\",\n",
      "                \"value\": \"319.06761335\"\n",
      "            },\n",
      "            \"remarks\": \"SN candidate classified using ALeRCE's stamp classifier (Carrasco-Davis et al. 2021) and the public ZTF stream. Discovery image and light curve in http://alerce.online/object/ZTF22aaveghe \",\n",
      "            \"reporter\": \"F. Forster, F.E. Bauer, G. Pignata, A. Munoz-Arancibia, A. Mourao, R. Dastidar, L. Hernandez-Garcia, L. Galbany, E. Camacho, J. Silva-Farfan, J. Arredondo, G. Cabrera-Vives, R. Carrasco-Davis, P.A. Estevez, P. Huijse, E. Reyes, I. Reyes, P. Sanchez-Saez, C. Valenzuela, E. Castillo, D. Ruz-Mieres, D. Rodriguez-Mancini, M. Catelan, S. Eyheramendy, M.J. Graham on behalf of the ALeRCE broker\",\n",
      "            \"reporting_group_id\": \"74\"\n",
      "        },\n",
      "        \"6\": {\n",
      "            \"at_type\": \"1\",\n",
      "            \"dec\": {\n",
      "                \"error\": \"0.085\",\n",
      "                \"units\": \"arcsec\",\n",
      "                \"value\": \"30.2659089\"\n",
      "            },\n",
      "            \"discovery_data_source_id\": \"48\",\n",
      "            \"discovery_datetime\": \"2022-07-19 10:10:39.000\",\n",
      "            \"host_name\": \"SDSS J232137.80+301559.5\",\n",
      "            \"internal_name\": \"ZTF22aavecme\",\n",
      "            \"non_detection\": {\n",
      "                \"comments\": \"Data provided by ZTF\",\n",
      "                \"exptime\": \"30\",\n",
      "                \"filter_value\": \"111\",\n",
      "                \"flux_units\": \"1\",\n",
      "                \"instrument_value\": \"196\",\n",
      "                \"limiting_flux\": \"19.9896\",\n",
      "                \"obsdate\": \"2022-07-16 10:48:31.000\",\n",
      "                \"observer\": \"Robot\"\n",
      "            },\n",
      "            \"photometry\": {\n",
      "                \"photometry_group\": {\n",
      "                    \"0\": {\n",
      "                        \"comments\": \"Data provided by ZTF\",\n",
      "                        \"exptime\": \"30\",\n",
      "                        \"filter_value\": \"111\",\n",
      "                        \"flux\": \"20.2954\",\n",
      "                        \"flux_error\": \"0.245051\",\n",
      "                        \"flux_units\": \"1\",\n",
      "                        \"instrument_value\": \"196\",\n",
      "                        \"limiting_flux\": \"20.2143\",\n",
      "                        \"obsdate\": \"2022-07-19 10:10:39.000\",\n",
      "                        \"observer\": \"Robot\"\n",
      "                    },\n",
      "                    \"1\": {\n",
      "                        \"comments\": \"Data provided by ZTF\",\n",
      "                        \"exptime\": \"30\",\n",
      "                        \"filter_value\": \"110\",\n",
      "                        \"flux\": \"20.2766\",\n",
      "                        \"flux_error\": \"0.263692\",\n",
      "                        \"flux_units\": \"1\",\n",
      "                        \"instrument_value\": \"196\",\n",
      "                        \"limiting_flux\": \"20.1718\",\n",
      "                        \"obsdate\": \"2022-07-21 09:09:48.004\",\n",
      "                        \"observer\": \"Robot\"\n",
      "                    },\n",
      "                    \"2\": {\n",
      "                        \"comments\": \"Data provided by ZTF\",\n",
      "                        \"exptime\": \"30\",\n",
      "                        \"filter_value\": \"110\",\n",
      "                        \"flux\": \"19.934324\",\n",
      "                        \"flux_error\": \"0.11789111\",\n",
      "                        \"flux_units\": \"1\",\n",
      "                        \"instrument_value\": \"196\",\n",
      "                        \"limiting_flux\": \"20.784063\",\n",
      "                        \"obsdate\": \"2022-07-23 08:20:06.003\",\n",
      "                        \"observer\": \"Robot\"\n",
      "                    }\n",
      "                }\n",
      "            },\n",
      "            \"ra\": {\n",
      "                \"error\": \"0.085\",\n",
      "                \"units\": \"arcsec\",\n",
      "                \"value\": \"350.40699766666665\"\n",
      "            },\n",
      "            \"remarks\": \"SN candidate classified using ALeRCE's stamp classifier (Carrasco-Davis et al. 2021) and the public ZTF stream. Discovery image and light curve in http://alerce.online/object/ZTF22aavecme \",\n",
      "            \"reporter\": \"F. Forster, F.E. Bauer, G. Pignata, A. Munoz-Arancibia, A. Mourao, R. Dastidar, L. Hernandez-Garcia, L. Galbany, E. Camacho, J. Silva-Farfan, J. Arredondo, G. Cabrera-Vives, R. Carrasco-Davis, P.A. Estevez, P. Huijse, E. Reyes, I. Reyes, P. Sanchez-Saez, C. Valenzuela, E. Castillo, D. Ruz-Mieres, D. Rodriguez-Mancini, M. Catelan, S. Eyheramendy, M.J. Graham on behalf of the ALeRCE broker\",\n",
      "            \"reporting_group_id\": \"74\"\n",
      "        },\n",
      "        \"7\": {\n",
      "            \"at_type\": \"1\",\n",
      "            \"dec\": {\n",
      "                \"error\": \"0.085\",\n",
      "                \"units\": \"arcsec\",\n",
      "                \"value\": \"27.6116099\"\n",
      "            },\n",
      "            \"discovery_data_source_id\": \"48\",\n",
      "            \"discovery_datetime\": \"2022-07-21 09:10:29.001\",\n",
      "            \"host_name\": \"SDSS J000034.44+273640.5\",\n",
      "            \"internal_name\": \"ZTF22aavebae\",\n",
      "            \"non_detection\": {\n",
      "                \"comments\": \"Data provided by ZTF\",\n",
      "                \"exptime\": \"30\",\n",
      "                \"filter_value\": \"111\",\n",
      "                \"flux_units\": \"1\",\n",
      "                \"instrument_value\": \"196\",\n",
      "                \"limiting_flux\": \"20.0811\",\n",
      "                \"obsdate\": \"2022-07-19 10:42:21.001\",\n",
      "                \"observer\": \"Robot\"\n",
      "            },\n",
      "            \"photometry\": {\n",
      "                \"photometry_group\": {\n",
      "                    \"0\": {\n",
      "                        \"comments\": \"Data provided by ZTF\",\n",
      "                        \"exptime\": \"30\",\n",
      "                        \"filter_value\": \"110\",\n",
      "                        \"flux\": \"20.0366\",\n",
      "                        \"flux_error\": \"0.233007\",\n",
      "                        \"flux_units\": \"1\",\n",
      "                        \"instrument_value\": \"196\",\n",
      "                        \"limiting_flux\": \"19.942\",\n",
      "                        \"obsdate\": \"2022-07-21 09:10:29.001\",\n",
      "                        \"observer\": \"Robot\"\n",
      "                    },\n",
      "                    \"1\": {\n",
      "                        \"comments\": \"Data provided by ZTF\",\n",
      "                        \"exptime\": \"30\",\n",
      "                        \"filter_value\": \"110\",\n",
      "                        \"flux\": \"19.72\",\n",
      "                        \"flux_error\": \"0.268352\",\n",
      "                        \"flux_units\": \"1\",\n",
      "                        \"instrument_value\": \"196\",\n",
      "                        \"limiting_flux\": \"19.5767\",\n",
      "                        \"obsdate\": \"2022-07-21 10:36:57.001\",\n",
      "                        \"observer\": \"Robot\"\n",
      "                    },\n",
      "                    \"2\": {\n",
      "                        \"comments\": \"Data provided by ZTF\",\n",
      "                        \"exptime\": \"30\",\n",
      "                        \"filter_value\": \"110\",\n",
      "                        \"flux\": \"19.853851\",\n",
      "                        \"flux_error\": \"0.14781226\",\n",
      "                        \"flux_units\": \"1\",\n",
      "                        \"instrument_value\": \"196\",\n",
      "                        \"limiting_flux\": \"20.665174\",\n",
      "                        \"obsdate\": \"2022-07-23 08:18:44.001\",\n",
      "                        \"observer\": \"Robot\"\n",
      "                    }\n",
      "                }\n",
      "            },\n",
      "            \"ra\": {\n",
      "                \"error\": \"0.085\",\n",
      "                \"units\": \"arcsec\",\n",
      "                \"value\": \"0.14347269999999998\"\n",
      "            },\n",
      "            \"remarks\": \"Early SN candidate (g-rise > 0.09+-0.02 mag/day) classified using ALeRCE's stamp classifier (Carrasco-Davis et al. 2021) and the public ZTF stream. Discovery image and light curve in http://alerce.online/object/ZTF22aavebae \",\n",
      "            \"reporter\": \"F. Forster, F.E. Bauer, G. Pignata, A. Munoz-Arancibia, A. Mourao, R. Dastidar, L. Hernandez-Garcia, L. Galbany, E. Camacho, J. Silva-Farfan, J. Arredondo, G. Cabrera-Vives, R. Carrasco-Davis, P.A. Estevez, P. Huijse, E. Reyes, I. Reyes, P. Sanchez-Saez, C. Valenzuela, E. Castillo, D. Ruz-Mieres, D. Rodriguez-Mancini, M. Catelan, S. Eyheramendy, M.J. Graham on behalf of the ALeRCE broker\",\n",
      "            \"reporting_group_id\": \"74\"\n",
      "        },\n",
      "        \"8\": {\n",
      "            \"at_type\": \"1\",\n",
      "            \"dec\": {\n",
      "                \"error\": \"0.085\",\n",
      "                \"units\": \"arcsec\",\n",
      "                \"value\": \"39.76620577999999\"\n",
      "            },\n",
      "            \"discovery_data_source_id\": \"48\",\n",
      "            \"discovery_datetime\": \"2022-07-19 09:17:29.000\",\n",
      "            \"host_name\": \"WISEA J224634.04+394557.4\",\n",
      "            \"internal_name\": \"ZTF22aavdzpf\",\n",
      "            \"non_detection\": {\n",
      "                \"comments\": \"Data provided by ZTF\",\n",
      "                \"exptime\": \"30\",\n",
      "                \"filter_value\": \"111\",\n",
      "                \"flux_units\": \"1\",\n",
      "                \"instrument_value\": \"196\",\n",
      "                \"limiting_flux\": \"20.0831\",\n",
      "                \"obsdate\": \"2022-07-16 10:53:41.004\",\n",
      "                \"observer\": \"Robot\"\n",
      "            },\n",
      "            \"photometry\": {\n",
      "                \"photometry_group\": {\n",
      "                    \"0\": {\n",
      "                        \"comments\": \"Data provided by ZTF\",\n",
      "                        \"exptime\": \"30\",\n",
      "                        \"filter_value\": \"111\",\n",
      "                        \"flux\": \"20.5687\",\n",
      "                        \"flux_error\": \"0.292159\",\n",
      "                        \"flux_units\": \"1\",\n",
      "                        \"instrument_value\": \"196\",\n",
      "                        \"limiting_flux\": \"20.3613\",\n",
      "                        \"obsdate\": \"2022-07-19 09:17:29.000\",\n",
      "                        \"observer\": \"Robot\"\n",
      "                    },\n",
      "                    \"1\": {\n",
      "                        \"comments\": \"Data provided by ZTF\",\n",
      "                        \"exptime\": \"30\",\n",
      "                        \"filter_value\": \"110\",\n",
      "                        \"flux\": \"20.3337\",\n",
      "                        \"flux_error\": \"0.238953\",\n",
      "                        \"flux_units\": \"1\",\n",
      "                        \"instrument_value\": \"196\",\n",
      "                        \"limiting_flux\": \"20.3214\",\n",
      "                        \"obsdate\": \"2022-07-21 08:50:29.000\",\n",
      "                        \"observer\": \"Robot\"\n",
      "                    },\n",
      "                    \"2\": {\n",
      "                        \"comments\": \"Data provided by ZTF\",\n",
      "                        \"exptime\": \"30\",\n",
      "                        \"filter_value\": \"110\",\n",
      "                        \"flux\": \"19.7479\",\n",
      "                        \"flux_error\": \"0.267258\",\n",
      "                        \"flux_units\": \"1\",\n",
      "                        \"instrument_value\": \"196\",\n",
      "                        \"limiting_flux\": \"19.6125\",\n",
      "                        \"obsdate\": \"2022-07-21 10:21:31.000\",\n",
      "                        \"observer\": \"Robot\"\n",
      "                    },\n",
      "                    \"3\": {\n",
      "                        \"comments\": \"Data provided by ZTF\",\n",
      "                        \"exptime\": \"30\",\n",
      "                        \"filter_value\": \"110\",\n",
      "                        \"flux\": \"19.85139\",\n",
      "                        \"flux_error\": \"0.13249655\",\n",
      "                        \"flux_units\": \"1\",\n",
      "                        \"instrument_value\": \"196\",\n",
      "                        \"limiting_flux\": \"20.853815\",\n",
      "                        \"obsdate\": \"2022-07-23 08:11:45.997\",\n",
      "                        \"observer\": \"Robot\"\n",
      "                    },\n",
      "                    \"4\": {\n",
      "                        \"comments\": \"Data provided by ZTF\",\n",
      "                        \"exptime\": \"30\",\n",
      "                        \"filter_value\": \"111\",\n",
      "                        \"flux\": \"20.07078\",\n",
      "                        \"flux_error\": \"0.15969546\",\n",
      "                        \"flux_units\": \"1\",\n",
      "                        \"instrument_value\": \"196\",\n",
      "                        \"limiting_flux\": \"20.450314\",\n",
      "                        \"obsdate\": \"2022-07-23 09:15:43.998\",\n",
      "                        \"observer\": \"Robot\"\n",
      "                    }\n",
      "                }\n",
      "            },\n",
      "            \"ra\": {\n",
      "                \"error\": \"0.085\",\n",
      "                \"units\": \"arcsec\",\n",
      "                \"value\": \"341.64537556\"\n",
      "            },\n",
      "            \"remarks\": \"SN candidate classified using ALeRCE's stamp classifier (Carrasco-Davis et al. 2021) and the public ZTF stream. Discovery image and light curve in http://alerce.online/object/ZTF22aavdzpf \",\n",
      "            \"reporter\": \"F. Forster, F.E. Bauer, G. Pignata, A. Munoz-Arancibia, A. Mourao, R. Dastidar, L. Hernandez-Garcia, L. Galbany, E. Camacho, J. Silva-Farfan, J. Arredondo, G. Cabrera-Vives, R. Carrasco-Davis, P.A. Estevez, P. Huijse, E. Reyes, I. Reyes, P. Sanchez-Saez, C. Valenzuela, E. Castillo, D. Ruz-Mieres, D. Rodriguez-Mancini, M. Catelan, S. Eyheramendy, M.J. Graham on behalf of the ALeRCE broker\",\n",
      "            \"reporting_group_id\": \"74\"\n",
      "        },\n",
      "        \"9\": {\n",
      "            \"at_type\": \"1\",\n",
      "            \"dec\": {\n",
      "                \"error\": \"0.085\",\n",
      "                \"units\": \"arcsec\",\n",
      "                \"value\": \"-13.436511733333333\"\n",
      "            },\n",
      "            \"discovery_data_source_id\": \"48\",\n",
      "            \"discovery_datetime\": \"2022-07-18 10:34:59.998\",\n",
      "            \"host_name\": \"WISEA J223504.05-132610.8\",\n",
      "            \"internal_name\": \"ZTF22aavdubl\",\n",
      "            \"non_detection\": {\n",
      "                \"comments\": \"Data provided by ZTF\",\n",
      "                \"exptime\": \"30\",\n",
      "                \"filter_value\": \"111\",\n",
      "                \"flux_units\": \"1\",\n",
      "                \"instrument_value\": \"196\",\n",
      "                \"limiting_flux\": \"19.1576\",\n",
      "                \"obsdate\": \"2022-07-18 10:04:07.003\",\n",
      "                \"observer\": \"Robot\"\n",
      "            },\n",
      "            \"photometry\": {\n",
      "                \"photometry_group\": {\n",
      "                    \"0\": {\n",
      "                        \"comments\": \"Data provided by ZTF\",\n",
      "                        \"exptime\": \"30\",\n",
      "                        \"filter_value\": \"111\",\n",
      "                        \"flux\": \"19.8821\",\n",
      "                        \"flux_error\": \"0.274412\",\n",
      "                        \"flux_units\": \"1\",\n",
      "                        \"instrument_value\": \"196\",\n",
      "                        \"limiting_flux\": \"19.5398\",\n",
      "                        \"obsdate\": \"2022-07-18 10:34:59.998\",\n",
      "                        \"observer\": \"Robot\"\n",
      "                    },\n",
      "                    \"1\": {\n",
      "                        \"comments\": \"Data provided by ZTF\",\n",
      "                        \"exptime\": \"30\",\n",
      "                        \"filter_value\": \"110\",\n",
      "                        \"flux\": \"20.287\",\n",
      "                        \"flux_error\": \"0.292076\",\n",
      "                        \"flux_units\": \"1\",\n",
      "                        \"instrument_value\": \"196\",\n",
      "                        \"limiting_flux\": \"20.0533\",\n",
      "                        \"obsdate\": \"2022-07-20 10:29:42.996\",\n",
      "                        \"observer\": \"Robot\"\n",
      "                    },\n",
      "                    \"2\": {\n",
      "                        \"comments\": \"Data provided by ZTF\",\n",
      "                        \"exptime\": \"30\",\n",
      "                        \"filter_value\": \"110\",\n",
      "                        \"flux\": \"20.081223\",\n",
      "                        \"flux_error\": \"0.17245507\",\n",
      "                        \"flux_units\": \"1\",\n",
      "                        \"instrument_value\": \"196\",\n",
      "                        \"limiting_flux\": \"20.433636\",\n",
      "                        \"obsdate\": \"2022-07-23 08:26:51.996\",\n",
      "                        \"observer\": \"Robot\"\n",
      "                    }\n",
      "                }\n",
      "            },\n",
      "            \"ra\": {\n",
      "                \"error\": \"0.085\",\n",
      "                \"units\": \"arcsec\",\n",
      "                \"value\": \"338.76672353333333\"\n",
      "            },\n",
      "            \"remarks\": \"SN candidate classified using ALeRCE's stamp classifier (Carrasco-Davis et al. 2021) and the public ZTF stream. Discovery image and light curve in http://alerce.online/object/ZTF22aavdubl \",\n",
      "            \"reporter\": \"F. Forster, F.E. Bauer, G. Pignata, A. Munoz-Arancibia, A. Mourao, R. Dastidar, L. Hernandez-Garcia, L. Galbany, E. Camacho, J. Silva-Farfan, J. Arredondo, G. Cabrera-Vives, R. Carrasco-Davis, P.A. Estevez, P. Huijse, E. Reyes, I. Reyes, P. Sanchez-Saez, C. Valenzuela, E. Castillo, D. Ruz-Mieres, D. Rodriguez-Mancini, M. Catelan, S. Eyheramendy, M.J. Graham on behalf of the ALeRCE broker\",\n",
      "            \"reporting_group_id\": \"74\"\n",
      "        }\n",
      "    }\n",
      "}\n"
     ]
    }
   ],
   "source": [
    "print(json.dumps(tns_report, indent=4, sort_keys=True))"
   ]
  },
  {
   "cell_type": "markdown",
   "metadata": {},
   "source": [
    "## Look for fast risers"
   ]
  },
  {
   "cell_type": "code",
   "execution_count": 168,
   "metadata": {
    "ExecuteTime": {
     "end_time": "2022-07-23T23:57:02.918325Z",
     "start_time": "2022-07-23T23:57:02.878804Z"
    },
    "scrolled": false
   },
   "outputs": [
    {
     "name": "stdout",
     "output_type": "stream",
     "text": [
      "Early SN candidate (g-rise > 0.31+-0.07 mag/day) classified using ALeRCE's stamp classifier (Carrasco-Davis et al. 2021) and the public ZTF stream. Discovery image and light curve in http://alerce.online/object/ZTF22aautpdb \n",
      "Early SN candidate (r-rise > 1.00 mag/day) classified using ALeRCE's stamp classifier (Carrasco-Davis et al. 2021) and the public ZTF stream. Discovery image and light curve in http://alerce.online/object/ZTF22aauhudo \n"
     ]
    }
   ],
   "source": [
    "for i in tns_report[\"at_report\"]:\n",
    "    if tns_report[\"at_report\"][i][\"remarks\"][:5] == \"Early\":\n",
    "        try:\n",
    "            rise = float(re.findall(\"rise\\s>\\s(.*?)\\+-.*?\\smag\", tns_report[\"at_report\"][i][\"remarks\"])[0])\n",
    "            if rise >= 0.25:\n",
    "                print(tns_report[\"at_report\"][i][\"remarks\"])\n",
    "        except:\n",
    "            rise = float(re.findall(\"rise\\s>\\s(.*?)\\s\", tns_report[\"at_report\"][i][\"remarks\"])[0])\n",
    "            if rise >= 0.25:\n",
    "                print(tns_report[\"at_report\"][i][\"remarks\"])"
   ]
  },
  {
   "cell_type": "markdown",
   "metadata": {},
   "source": [
    "## Save report"
   ]
  },
  {
   "cell_type": "code",
   "execution_count": 169,
   "metadata": {
    "ExecuteTime": {
     "end_time": "2022-07-23T23:57:04.048368Z",
     "start_time": "2022-07-23T23:57:04.023297Z"
    }
   },
   "outputs": [],
   "source": [
    "json_report = '%s/%s.json' % (candidates_dir, refstring)\n",
    "with open(json_report, 'w') as outfile:\n",
    "    json.dump(tns_report, outfile)"
   ]
  },
  {
   "cell_type": "markdown",
   "metadata": {},
   "source": [
    "## Send to TNS\n",
    "\n",
    "**WARNING: key is used to send candidates!**"
   ]
  },
  {
   "cell_type": "code",
   "execution_count": 170,
   "metadata": {
    "ExecuteTime": {
     "end_time": "2022-07-23T23:57:05.212535Z",
     "start_time": "2022-07-23T23:57:05.188001Z"
    }
   },
   "outputs": [
    {
     "data": {
      "text/plain": [
       "'candidates/20220723.json'"
      ]
     },
     "execution_count": 170,
     "metadata": {},
     "output_type": "execute_result"
    }
   ],
   "source": [
    "json_report"
   ]
  },
  {
   "cell_type": "code",
   "execution_count": 171,
   "metadata": {
    "ExecuteTime": {
     "end_time": "2022-07-23T23:57:08.202317Z",
     "start_time": "2022-07-23T23:57:05.800761Z"
    }
   },
   "outputs": [],
   "source": [
    "r = alerce.send_json_report(api_key, url_tns_api, json_report)"
   ]
  },
  {
   "cell_type": "markdown",
   "metadata": {},
   "source": [
    "## Show output"
   ]
  },
  {
   "cell_type": "code",
   "execution_count": 172,
   "metadata": {
    "ExecuteTime": {
     "end_time": "2022-07-23T23:57:08.284386Z",
     "start_time": "2022-07-23T23:57:08.254426Z"
    },
    "scrolled": true
   },
   "outputs": [
    {
     "data": {
      "text/plain": [
       "b'{\"id_code\":200,\"id_message\":\"OK\",\"data\":{\"report_id\":110943,\"recieved_data\":{\"at_report\":{\"0\":{\"ra\":{\"value\":77.700678375,\"error\":0.085,\"units\":\"arcsec\"},\"dec\":{\"value\":28.67364345,\"error\":0.085,\"units\":\"arcsec\"},\"reporting_group_id\":74,\"discovery_data_source_id\":48,\"reporter\":\"F. Forster, F.E. Bauer, G. Pignata, A. Munoz-Arancibia, A. Mourao, R. Dastidar, L. Hernandez-Garcia, L. Galbany, E. Camacho, J. Silva-Farfan, J. Arredondo, G. Cabrera-Vives, R. Carrasco-Davis, P.A. Estevez, P. Huijse, E. Reyes, I. Reyes, P. Sanchez-Saez, C. Valenzuela, E. Castillo, D. Ruz-Mieres, D. Rodriguez-Mancini, M. Catelan, S. Eyheramendy, M.J. Graham on behalf of the ALeRCE broker\",\"discovery_datetime\":\"2022-07-23 11:38:01.000\",\"at_type\":1,\"internal_name\":\"ZTF22aavklii\",\"remarks\":\"SN candidate classified using ALeRCE\\'s stamp classifier (Carrasco-Davis et al. 2021) and the public ZTF stream. Discovery image and light curve in http:\\\\/\\\\/alerce.online\\\\/object\\\\/ZTF22aavklii \",\"non_detection\":{\"obsdate\":\"2022-07-22 11:49:29.997\",\"limiting_flux\":18.4507,\"flux_units\":1,\"filter_value\":111,\"instrument_value\":196,\"exptime\":30,\"observer\":\"Robot\",\"comments\":\"Data provided by ZTF\"},\"photometry\":{\"photometry_group\":{\"0\":{\"obsdate\":\"2022-07-23 11:38:01.000\",\"flux\":19.0613,\"flux_error\":0.222315,\"limiting_flux\":19.4486,\"flux_units\":1,\"filter_value\":111,\"instrument_value\":196,\"exptime\":30,\"observer\":\"Robot\",\"comments\":\"Data provided by ZTF\"},\"1\":{\"obsdate\":\"2022-07-23 11:41:29.000\",\"flux\":19.24329,\"flux_error\":0.17418087,\"limiting_flux\":19.500185,\"flux_units\":1,\"filter_value\":111,\"instrument_value\":196,\"exptime\":30,\"observer\":\"Robot\",\"comments\":\"Data provided by ZTF\"},\"2\":{\"obsdate\":\"2022-07-23 11:44:59.004\",\"flux\":19.2115,\"flux_error\":0.218184,\"limiting_flux\":19.1398,\"flux_units\":1,\"filter_value\":111,\"instrument_value\":196,\"exptime\":30,\"observer\":\"Robot\",\"comments\":\"Data provided by ZTF\"},\"3\":{\"obsdate\":\"2022-07-23 11:51:58.000\",\"flux\":18.991241,\"flux_error\":0.15879317,\"limiting_flux\":19.28114,\"flux_units\":1,\"filter_value\":111,\"instrument_value\":196,\"exptime\":30,\"observer\":\"Robot\",\"comments\":\"Data provided by ZTF\"}}},\"host_name\":\"WISEA J051048.14+284024.4\"},\"1\":{\"ra\":{\"value\":9.25813415,\"error\":0.085,\"units\":\"arcsec\"},\"dec\":{\"value\":18.8273944,\"error\":0.085,\"units\":\"arcsec\"},\"reporting_group_id\":74,\"discovery_data_source_id\":48,\"reporter\":\"F. Forster, F.E. Bauer, G. Pignata, A. Munoz-Arancibia, A. Mourao, R. Dastidar, L. Hernandez-Garcia, L. Galbany, E. Camacho, J. Silva-Farfan, J. Arredondo, G. Cabrera-Vives, R. Carrasco-Davis, P.A. Estevez, P. Huijse, E. Reyes, I. Reyes, P. Sanchez-Saez, C. Valenzuela, E. Castillo, D. Ruz-Mieres, D. Rodriguez-Mancini, M. Catelan, S. Eyheramendy, M.J. Graham on behalf of the ALeRCE broker\",\"discovery_datetime\":\"2022-07-23 10:22:41.002\",\"at_type\":1,\"internal_name\":\"ZTF22aavjwht\",\"remarks\":\"SN candidate classified using ALeRCE\\'s stamp classifier (Carrasco-Davis et al. 2021) and the public ZTF stream. Discovery image and light curve in http:\\\\/\\\\/alerce.online\\\\/object\\\\/ZTF22aavjwht \",\"non_detection\":{\"obsdate\":\"2022-07-21 10:35:36.001\",\"limiting_flux\":19.2464,\"flux_units\":1,\"filter_value\":110,\"instrument_value\":196,\"exptime\":30,\"observer\":\"Robot\",\"comments\":\"Data provided by ZTF\"},\"photometry\":{\"photometry_group\":{\"0\":{\"obsdate\":\"2022-07-23 10:22:41.002\",\"flux\":20.6135,\"flux_error\":0.231934,\"limiting_flux\":20.6207,\"flux_units\":1,\"filter_value\":110,\"instrument_value\":196,\"exptime\":30,\"observer\":\"Robot\",\"comments\":\"Data provided by ZTF\"},\"1\":{\"obsdate\":\"2022-07-23 11:14:12.998\",\"flux\":20.420694,\"flux_error\":0.21619894,\"limiting_flux\":20.68679,\"flux_units\":1,\"filter_value\":111,\"instrument_value\":196,\"exptime\":30,\"observer\":\"Robot\",\"comments\":\"Data provided by ZTF\"}}},\"host_name\":\"SDSS J003701.95+184939.0\"},\"2\":{\"ra\":{\"value\":13.2933101,\"error\":0.085,\"units\":\"arcsec\"},\"dec\":{\"value\":-7.0595969,\"error\":0.085,\"units\":\"arcsec\"},\"reporting_group_id\":74,\"discovery_data_source_id\":48,\"reporter\":\"F. Forster, F.E. Bauer, G. Pignata, A. Munoz-Arancibia, A. Mourao, R. Dastidar, L. Hernandez-Garcia, L. Galbany, E. Camacho, J. Silva-Farfan, J. Arredondo, G. Cabrera-Vives, R. Carrasco-Davis, P.A. Estevez, P. Huijse, E. Reyes, I. Reyes, P. Sanchez-Saez, C. Valenzuela, E. Castillo, D. Ruz-Mieres, D. Rodriguez-Mancini, M. Catelan, S. Eyheramendy, M.J. Graham on behalf of the ALeRCE broker\",\"discovery_datetime\":\"2022-07-23 10:08:55.000\",\"at_type\":1,\"internal_name\":\"ZTF22aavicyh\",\"remarks\":\"SN candidate classified using ALeRCE\\'s stamp classifier (Carrasco-Davis et al. 2021) and the public ZTF stream. Discovery image and light curve in http:\\\\/\\\\/alerce.online\\\\/object\\\\/ZTF22aavicyh \",\"non_detection\":{\"obsdate\":\"2022-07-20 11:03:12.997\",\"limiting_flux\":19.4009,\"flux_units\":1,\"filter_value\":110,\"instrument_value\":196,\"exptime\":30,\"observer\":\"Robot\",\"comments\":\"Data provided by ZTF\"},\"photometry\":{\"photometry_group\":{\"0\":{\"obsdate\":\"2022-07-23 10:08:55.000\",\"flux\":20.02692,\"flux_error\":0.18578121,\"limiting_flux\":20.302412,\"flux_units\":1,\"filter_value\":110,\"instrument_value\":196,\"exptime\":30,\"observer\":\"Robot\",\"comments\":\"Data provided by ZTF\"}}},\"host_name\":\"SDSS J005310.39-070334.1\"},\"3\":{\"ra\":{\"value\":7.070195333333333,\"error\":0.085,\"units\":\"arcsec\"},\"dec\":{\"value\":51.118376500000004,\"error\":0.085,\"units\":\"arcsec\"},\"reporting_group_id\":74,\"discovery_data_source_id\":48,\"reporter\":\"F. Forster, F.E. Bauer, G. Pignata, A. Munoz-Arancibia, A. Mourao, R. Dastidar, L. Hernandez-Garcia, L. Galbany, E. Camacho, J. Silva-Farfan, J. Arredondo, G. Cabrera-Vives, R. Carrasco-Davis, P.A. Estevez, P. Huijse, E. Reyes, I. Reyes, P. Sanchez-Saez, C. Valenzuela, E. Castillo, D. Ruz-Mieres, D. Rodriguez-Mancini, M. Catelan, S. Eyheramendy, M.J. Graham on behalf of the ALeRCE broker\",\"discovery_datetime\":\"2022-07-18 11:06:39.001\",\"at_type\":1,\"internal_name\":\"ZTF22aavgzjc\",\"remarks\":\"SN candidate classified using ALeRCE\\'s stamp classifier (Carrasco-Davis et al. 2021) and the public ZTF stream. Discovery image and light curve in http:\\\\/\\\\/alerce.online\\\\/object\\\\/ZTF22aavgzjc \",\"non_detection\":{\"obsdate\":\"2022-07-18 10:43:16.003\",\"limiting_flux\":19.92,\"flux_units\":1,\"filter_value\":111,\"instrument_value\":196,\"exptime\":30,\"observer\":\"Robot\",\"comments\":\"Data provided by ZTF\"},\"photometry\":{\"photometry_group\":{\"0\":{\"obsdate\":\"2022-07-18 11:06:39.001\",\"flux\":20.2571,\"flux_error\":0.297764,\"limiting_flux\":20.0021,\"flux_units\":1,\"filter_value\":111,\"instrument_value\":196,\"exptime\":30,\"observer\":\"Robot\",\"comments\":\"Data provided by ZTF\"},\"1\":{\"obsdate\":\"2022-07-22 10:47:47.999\",\"flux\":20.3734,\"flux_error\":0.285478,\"limiting_flux\":20.4331,\"flux_units\":1,\"filter_value\":110,\"instrument_value\":196,\"exptime\":30,\"observer\":\"Robot\",\"comments\":\"Data provided by ZTF\"},\"2\":{\"obsdate\":\"2022-07-23 09:46:33.001\",\"flux\":20.24841,\"flux_error\":0.213745,\"limiting_flux\":20.401636,\"flux_units\":1,\"filter_value\":111,\"instrument_value\":196,\"exptime\":30,\"observer\":\"Robot\",\"comments\":\"Data provided by ZTF\"}}},\"host_name\":\"WISEA J002816.83+510706.3\"},\"4\":{\"ra\":{\"value\":332.6054332,\"error\":0.085,\"units\":\"arcsec\"},\"dec\":{\"value\":-9.2908168,\"error\":0.085,\"units\":\"arcsec\"},\"reporting_group_id\":74,\"discovery_data_source_id\":48,\"reporter\":\"F. Forster, F.E. Bauer, G. Pignata, A. Munoz-Arancibia, A. Mourao, R. Dastidar, L. Hernandez-Garcia, L. Galbany, E. Camacho, J. Silva-Farfan, J. Arredondo, G. Cabrera-Vives, R. Carrasco-Davis, P.A. Estevez, P. Huijse, E. Reyes, I. Reyes, P. Sanchez-Saez, C. Valenzuela, E. Castillo, D. Ruz-Mieres, D. Rodriguez-Mancini, M. Catelan, S. Eyheramendy, M.J. Graham on behalf of the ALeRCE broker\",\"discovery_datetime\":\"2022-07-23 09:25:29.997\",\"at_type\":1,\"internal_name\":\"ZTF22aavfgyf\",\"remarks\":\"SN candidate classified using ALeRCE\\'s stamp classifier (Carrasco-Davis et al. 2021) and the public ZTF stream. Discovery image and light curve in http:\\\\/\\\\/alerce.online\\\\/object\\\\/ZTF22aavfgyf \",\"non_detection\":{\"obsdate\":\"2022-07-21 10:14:28.003\",\"limiting_flux\":18.3967,\"flux_units\":1,\"filter_value\":110,\"instrument_value\":196,\"exptime\":30,\"observer\":\"Robot\",\"comments\":\"Data provided by ZTF\"},\"photometry\":{\"photometry_group\":{\"0\":{\"obsdate\":\"2022-07-23 09:25:29.997\",\"flux\":20.219614,\"flux_error\":0.1992371,\"limiting_flux\":20.454895,\"flux_units\":1,\"filter_value\":111,\"instrument_value\":196,\"exptime\":30,\"observer\":\"Robot\",\"comments\":\"Data provided by ZTF\"}}},\"host_name\":\"2MASX J22102557-0917296\",\"host_redshift\":0.070118},\"5\":{\"ra\":{\"value\":319.06761335,\"error\":0.085,\"units\":\"arcsec\"},\"dec\":{\"value\":-2.3760871,\"error\":0.085,\"units\":\"arcsec\"},\"reporting_group_id\":74,\"discovery_data_source_id\":48,\"reporter\":\"F. Forster, F.E. Bauer, G. Pignata, A. Munoz-Arancibia, A. Mourao, R. Dastidar, L. Hernandez-Garcia, L. Galbany, E. Camacho, J. Silva-Farfan, J. Arredondo, G. Cabrera-Vives, R. Carrasco-Davis, P.A. Estevez, P. Huijse, E. Reyes, I. Reyes, P. Sanchez-Saez, C. Valenzuela, E. Castillo, D. Ruz-Mieres, D. Rodriguez-Mancini, M. Catelan, S. Eyheramendy, M.J. Graham on behalf of the ALeRCE broker\",\"discovery_datetime\":\"2022-07-21 08:37:16.997\",\"at_type\":1,\"internal_name\":\"ZTF22aaveghe\",\"remarks\":\"SN candidate classified using ALeRCE\\'s stamp classifier (Carrasco-Davis et al. 2021) and the public ZTF stream. Discovery image and light curve in http:\\\\/\\\\/alerce.online\\\\/object\\\\/ZTF22aaveghe \",\"non_detection\":{\"obsdate\":\"2022-07-19 10:32:00.001\",\"limiting_flux\":20.1283,\"flux_units\":1,\"filter_value\":111,\"instrument_value\":196,\"exptime\":30,\"observer\":\"Robot\",\"comments\":\"Data provided by ZTF\"},\"photometry\":{\"photometry_group\":{\"0\":{\"obsdate\":\"2022-07-21 08:37:16.997\",\"flux\":20.328,\"flux_error\":0.326813,\"limiting_flux\":20.0892,\"flux_units\":1,\"filter_value\":110,\"instrument_value\":196,\"exptime\":30,\"observer\":\"Robot\",\"comments\":\"Data provided by ZTF\"},\"1\":{\"obsdate\":\"2022-07-23 08:28:13.999\",\"flux\":20.364693,\"flux_error\":0.21451518,\"limiting_flux\":20.660397,\"flux_units\":1,\"filter_value\":110,\"instrument_value\":196,\"exptime\":30,\"observer\":\"Robot\",\"comments\":\"Data provided by ZTF\"}}},\"host_name\":\"SDSS J211616.28-022232.8\"},\"6\":{\"ra\":{\"value\":350.40699766666665,\"error\":0.085,\"units\":\"arcsec\"},\"dec\":{\"value\":30.2659089,\"error\":0.085,\"units\":\"arcsec\"},\"reporting_group_id\":74,\"discovery_data_source_id\":48,\"reporter\":\"F. Forster, F.E. Bauer, G. Pignata, A. Munoz-Arancibia, A. Mourao, R. Dastidar, L. Hernandez-Garcia, L. Galbany, E. Camacho, J. Silva-Farfan, J. Arredondo, G. Cabrera-Vives, R. Carrasco-Davis, P.A. Estevez, P. Huijse, E. Reyes, I. Reyes, P. Sanchez-Saez, C. Valenzuela, E. Castillo, D. Ruz-Mieres, D. Rodriguez-Mancini, M. Catelan, S. Eyheramendy, M.J. Graham on behalf of the ALeRCE broker\",\"discovery_datetime\":\"2022-07-19 10:10:39.000\",\"at_type\":1,\"internal_name\":\"ZTF22aavecme\",\"remarks\":\"SN candidate classified using ALeRCE\\'s stamp classifier (Carrasco-Davis et al. 2021) and the public ZTF stream. Discovery image and light curve in http:\\\\/\\\\/alerce.online\\\\/object\\\\/ZTF22aavecme \",\"non_detection\":{\"obsdate\":\"2022-07-16 10:48:31.000\",\"limiting_flux\":19.9896,\"flux_units\":1,\"filter_value\":111,\"instrument_value\":196,\"exptime\":30,\"observer\":\"Robot\",\"comments\":\"Data provided by ZTF\"},\"photometry\":{\"photometry_group\":{\"0\":{\"obsdate\":\"2022-07-19 10:10:39.000\",\"flux\":20.2954,\"flux_error\":0.245051,\"limiting_flux\":20.2143,\"flux_units\":1,\"filter_value\":111,\"instrument_value\":196,\"exptime\":30,\"observer\":\"Robot\",\"comments\":\"Data provided by ZTF\"},\"1\":{\"obsdate\":\"2022-07-21 09:09:48.004\",\"flux\":20.2766,\"flux_error\":0.263692,\"limiting_flux\":20.1718,\"flux_units\":1,\"filter_value\":110,\"instrument_value\":196,\"exptime\":30,\"observer\":\"Robot\",\"comments\":\"Data provided by ZTF\"},\"2\":{\"obsdate\":\"2022-07-23 08:20:06.003\",\"flux\":19.934324,\"flux_error\":0.11789111,\"limiting_flux\":20.784063,\"flux_units\":1,\"filter_value\":110,\"instrument_value\":196,\"exptime\":30,\"observer\":\"Robot\",\"comments\":\"Data provided by ZTF\"}}},\"host_name\":\"SDSS J232137.80+301559.5\"},\"7\":{\"ra\":{\"value\":0.14347269999999998,\"error\":0.085,\"units\":\"arcsec\"},\"dec\":{\"value\":27.6116099,\"error\":0.085,\"units\":\"arcsec\"},\"reporting_group_id\":74,\"discovery_data_source_id\":48,\"reporter\":\"F. Forster, F.E. Bauer, G. Pignata, A. Munoz-Arancibia, A. Mourao, R. Dastidar, L. Hernandez-Garcia, L. Galbany, E. Camacho, J. Silva-Farfan, J. Arredondo, G. Cabrera-Vives, R. Carrasco-Davis, P.A. Estevez, P. Huijse, E. Reyes, I. Reyes, P. Sanchez-Saez, C. Valenzuela, E. Castillo, D. Ruz-Mieres, D. Rodriguez-Mancini, M. Catelan, S. Eyheramendy, M.J. Graham on behalf of the ALeRCE broker\",\"discovery_datetime\":\"2022-07-21 09:10:29.001\",\"at_type\":1,\"internal_name\":\"ZTF22aavebae\",\"remarks\":\"Early SN candidate (g-rise > 0.09+-0.02 mag\\\\/day) classified using ALeRCE\\'s stamp classifier (Carrasco-Davis et al. 2021) and the public ZTF stream. Discovery image and light curve in http:\\\\/\\\\/alerce.online\\\\/object\\\\/ZTF22aavebae \",\"non_detection\":{\"obsdate\":\"2022-07-19 10:42:21.001\",\"limiting_flux\":20.0811,\"flux_units\":1,\"filter_value\":111,\"instrument_value\":196,\"exptime\":30,\"observer\":\"Robot\",\"comments\":\"Data provided by ZTF\"},\"photometry\":{\"photometry_group\":{\"0\":{\"obsdate\":\"2022-07-21 09:10:29.001\",\"flux\":20.0366,\"flux_error\":0.233007,\"limiting_flux\":19.942,\"flux_units\":1,\"filter_value\":110,\"instrument_value\":196,\"exptime\":30,\"observer\":\"Robot\",\"comments\":\"Data provided by ZTF\"},\"1\":{\"obsdate\":\"2022-07-21 10:36:57.001\",\"flux\":19.72,\"flux_error\":0.268352,\"limiting_flux\":19.5767,\"flux_units\":1,\"filter_value\":110,\"instrument_value\":196,\"exptime\":30,\"observer\":\"Robot\",\"comments\":\"Data provided by ZTF\"},\"2\":{\"obsdate\":\"2022-07-23 08:18:44.001\",\"flux\":19.853851,\"flux_error\":0.14781226,\"limiting_flux\":20.665174,\"flux_units\":1,\"filter_value\":110,\"instrument_value\":196,\"exptime\":30,\"observer\":\"Robot\",\"comments\":\"Data provided by ZTF\"}}},\"host_name\":\"SDSS J000034.44+273640.5\"},\"8\":{\"ra\":{\"value\":341.64537556,\"error\":0.085,\"units\":\"arcsec\"},\"dec\":{\"value\":39.76620577999999,\"error\":0.085,\"units\":\"arcsec\"},\"reporting_group_id\":74,\"discovery_data_source_id\":48,\"reporter\":\"F. Forster, F.E. Bauer, G. Pignata, A. Munoz-Arancibia, A. Mourao, R. Dastidar, L. Hernandez-Garcia, L. Galbany, E. Camacho, J. Silva-Farfan, J. Arredondo, G. Cabrera-Vives, R. Carrasco-Davis, P.A. Estevez, P. Huijse, E. Reyes, I. Reyes, P. Sanchez-Saez, C. Valenzuela, E. Castillo, D. Ruz-Mieres, D. Rodriguez-Mancini, M. Catelan, S. Eyheramendy, M.J. Graham on behalf of the ALeRCE broker\",\"discovery_datetime\":\"2022-07-19 09:17:29.000\",\"at_type\":1,\"internal_name\":\"ZTF22aavdzpf\",\"remarks\":\"SN candidate classified using ALeRCE\\'s stamp classifier (Carrasco-Davis et al. 2021) and the public ZTF stream. Discovery image and light curve in http:\\\\/\\\\/alerce.online\\\\/object\\\\/ZTF22aavdzpf \",\"non_detection\":{\"obsdate\":\"2022-07-16 10:53:41.004\",\"limiting_flux\":20.0831,\"flux_units\":1,\"filter_value\":111,\"instrument_value\":196,\"exptime\":30,\"observer\":\"Robot\",\"comments\":\"Data provided by ZTF\"},\"photometry\":{\"photometry_group\":{\"0\":{\"obsdate\":\"2022-07-19 09:17:29.000\",\"flux\":20.5687,\"flux_error\":0.292159,\"limiting_flux\":20.3613,\"flux_units\":1,\"filter_value\":111,\"instrument_value\":196,\"exptime\":30,\"observer\":\"Robot\",\"comments\":\"Data provided by ZTF\"},\"1\":{\"obsdate\":\"2022-07-21 08:50:29.000\",\"flux\":20.3337,\"flux_error\":0.238953,\"limiting_flux\":20.3214,\"flux_units\":1,\"filter_value\":110,\"instrument_value\":196,\"exptime\":30,\"observer\":\"Robot\",\"comments\":\"Data provided by ZTF\"},\"2\":{\"obsdate\":\"2022-07-21 10:21:31.000\",\"flux\":19.7479,\"flux_error\":0.267258,\"limiting_flux\":19.6125,\"flux_units\":1,\"filter_value\":110,\"instrument_value\":196,\"exptime\":30,\"observer\":\"Robot\",\"comments\":\"Data provided by ZTF\"},\"3\":{\"obsdate\":\"2022-07-23 08:11:45.997\",\"flux\":19.85139,\"flux_error\":0.13249655,\"limiting_flux\":20.853815,\"flux_units\":1,\"filter_value\":110,\"instrument_value\":196,\"exptime\":30,\"observer\":\"Robot\",\"comments\":\"Data provided by ZTF\"},\"4\":{\"obsdate\":\"2022-07-23 09:15:43.998\",\"flux\":20.07078,\"flux_error\":0.15969546,\"limiting_flux\":20.450314,\"flux_units\":1,\"filter_value\":111,\"instrument_value\":196,\"exptime\":30,\"observer\":\"Robot\",\"comments\":\"Data provided by ZTF\"}}},\"host_name\":\"WISEA J224634.04+394557.4\"},\"9\":{\"ra\":{\"value\":338.76672353333333,\"error\":0.085,\"units\":\"arcsec\"},\"dec\":{\"value\":-13.436511733333333,\"error\":0.085,\"units\":\"arcsec\"},\"reporting_group_id\":74,\"discovery_data_source_id\":48,\"reporter\":\"F. Forster, F.E. Bauer, G. Pignata, A. Munoz-Arancibia, A. Mourao, R. Dastidar, L. Hernandez-Garcia, L. Galbany, E. Camacho, J. Silva-Farfan, J. Arredondo, G. Cabrera-Vives, R. Carrasco-Davis, P.A. Estevez, P. Huijse, E. Reyes, I. Reyes, P. Sanchez-Saez, C. Valenzuela, E. Castillo, D. Ruz-Mieres, D. Rodriguez-Mancini, M. Catelan, S. Eyheramendy, M.J. Graham on behalf of the ALeRCE broker\",\"discovery_datetime\":\"2022-07-18 10:34:59.998\",\"at_type\":1,\"internal_name\":\"ZTF22aavdubl\",\"remarks\":\"SN candidate classified using ALeRCE\\'s stamp classifier (Carrasco-Davis et al. 2021) and the public ZTF stream. Discovery image and light curve in http:\\\\/\\\\/alerce.online\\\\/object\\\\/ZTF22aavdubl \",\"non_detection\":{\"obsdate\":\"2022-07-18 10:04:07.003\",\"limiting_flux\":19.1576,\"flux_units\":1,\"filter_value\":111,\"instrument_value\":196,\"exptime\":30,\"observer\":\"Robot\",\"comments\":\"Data provided by ZTF\"},\"photometry\":{\"photometry_group\":{\"0\":{\"obsdate\":\"2022-07-18 10:34:59.998\",\"flux\":19.8821,\"flux_error\":0.274412,\"limiting_flux\":19.5398,\"flux_units\":1,\"filter_value\":111,\"instrument_value\":196,\"exptime\":30,\"observer\":\"Robot\",\"comments\":\"Data provided by ZTF\"},\"1\":{\"obsdate\":\"2022-07-20 10:29:42.996\",\"flux\":20.287,\"flux_error\":0.292076,\"limiting_flux\":20.0533,\"flux_units\":1,\"filter_value\":110,\"instrument_value\":196,\"exptime\":30,\"observer\":\"Robot\",\"comments\":\"Data provided by ZTF\"},\"2\":{\"obsdate\":\"2022-07-23 08:26:51.996\",\"flux\":20.081223,\"flux_error\":0.17245507,\"limiting_flux\":20.433636,\"flux_units\":1,\"filter_value\":110,\"instrument_value\":196,\"exptime\":30,\"observer\":\"Robot\",\"comments\":\"Data provided by ZTF\"}}},\"host_name\":\"WISEA J223504.05-132610.8\"},\"10\":{\"ra\":{\"value\":300.394353875,\"error\":0.085,\"units\":\"arcsec\"},\"dec\":{\"value\":-27.354524825,\"error\":0.085,\"units\":\"arcsec\"},\"reporting_group_id\":74,\"discovery_data_source_id\":48,\"reporter\":\"F. Forster, F.E. Bauer, G. Pignata, A. Munoz-Arancibia, A. Mourao, R. Dastidar, L. Hernandez-Garcia, L. Galbany, E. Camacho, J. Silva-Farfan, J. Arredondo, G. Cabrera-Vives, R. Carrasco-Davis, P.A. Estevez, P. Huijse, E. Reyes, I. Reyes, P. Sanchez-Saez, C. Valenzuela, E. Castillo, D. Ruz-Mieres, D. Rodriguez-Mancini, M. Catelan, S. Eyheramendy, M.J. Graham on behalf of the ALeRCE broker\",\"discovery_datetime\":\"2022-07-19 09:02:32.997\",\"at_type\":1,\"internal_name\":\"ZTF22aavdscs\",\"remarks\":\"SN candidate classified using ALeRCE\\'s stamp classifier (Carrasco-Davis et al. 2021) and the public ZTF stream. Discovery image and light curve in http:\\\\/\\\\/alerce.online\\\\/object\\\\/ZTF22aavdscs \",\"non_detection\":{\"obsdate\":\"2022-07-16 08:32:00.004\",\"limiting_flux\":19.3596,\"flux_units\":1,\"filter_value\":111,\"instrument_value\":196,\"exptime\":30,\"observer\":\"Robot\",\"comments\":\"Data provided by ZTF\"},\"photometry\":{\"photometry_group\":{\"0\":{\"obsdate\":\"2022-07-19 09:02:32.997\",\"flux\":20.0456,\"flux_error\":0.239205,\"limiting_flux\":19.8104,\"flux_units\":1,\"filter_value\":111,\"instrument_value\":196,\"exptime\":30,\"observer\":\"Robot\",\"comments\":\"Data provided by ZTF\"},\"1\":{\"obsdate\":\"2022-07-21 08:31:51.001\",\"flux\":19.8353,\"flux_error\":0.365945,\"limiting_flux\":19.3929,\"flux_units\":1,\"filter_value\":110,\"instrument_value\":196,\"exptime\":30,\"observer\":\"Robot\",\"comments\":\"Data provided by ZTF\"},\"2\":{\"obsdate\":\"2022-07-23 07:57:54.000\",\"flux\":19.74365,\"flux_error\":0.1702762,\"limiting_flux\":20.21822,\"flux_units\":1,\"filter_value\":110,\"instrument_value\":196,\"exptime\":30,\"observer\":\"Robot\",\"comments\":\"Data provided by ZTF\"},\"3\":{\"obsdate\":\"2022-07-23 09:01:23.998\",\"flux\":19.833752,\"flux_error\":0.16826768,\"limiting_flux\":20.225037,\"flux_units\":1,\"filter_value\":111,\"instrument_value\":196,\"exptime\":30,\"observer\":\"Robot\",\"comments\":\"Data provided by ZTF\"}}},\"host_name\":\"WISEA J200134.36-272122.0\"},\"11\":{\"ra\":{\"value\":309.4764071,\"error\":0.085,\"units\":\"arcsec\"},\"dec\":{\"value\":-9.0839201,\"error\":0.085,\"units\":\"arcsec\"},\"reporting_group_id\":74,\"discovery_data_source_id\":48,\"reporter\":\"F. Forster, F.E. Bauer, G. Pignata, A. Munoz-Arancibia, A. Mourao, R. Dastidar, L. Hernandez-Garcia, L. Galbany, E. Camacho, J. Silva-Farfan, J. Arredondo, G. Cabrera-Vives, R. Carrasco-Davis, P.A. Estevez, P. Huijse, E. Reyes, I. Reyes, P. Sanchez-Saez, C. Valenzuela, E. Castillo, D. Ruz-Mieres, D. Rodriguez-Mancini, M. Catelan, S. Eyheramendy, M.J. Graham on behalf of the ALeRCE broker\",\"discovery_datetime\":\"2022-07-23 07:55:52.003\",\"at_type\":1,\"internal_name\":\"ZTF22aavdrdz\",\"remarks\":\"SN candidate classified using ALeRCE\\'s stamp classifier (Carrasco-Davis et al. 2021) and the public ZTF stream. Discovery image and light curve in http:\\\\/\\\\/alerce.online\\\\/object\\\\/ZTF22aavdrdz \",\"non_detection\":{\"obsdate\":\"2022-07-21 10:03:33.998\",\"limiting_flux\":17.9202,\"flux_units\":1,\"filter_value\":110,\"instrument_value\":196,\"exptime\":30,\"observer\":\"Robot\",\"comments\":\"Data provided by ZTF\"},\"photometry\":{\"photometry_group\":{\"0\":{\"obsdate\":\"2022-07-23 07:55:52.003\",\"flux\":20.061491,\"flux_error\":0.21327011,\"limiting_flux\":20.666538,\"flux_units\":1,\"filter_value\":110,\"instrument_value\":196,\"exptime\":30,\"observer\":\"Robot\",\"comments\":\"Data provided by ZTF\"}}},\"host_name\":\"WISEA J203754.23-090502.9\"},\"12\":{\"ra\":{\"value\":306.82556315,\"error\":0.085,\"units\":\"arcsec\"},\"dec\":{\"value\":-8.4220893,\"error\":0.085,\"units\":\"arcsec\"},\"reporting_group_id\":74,\"discovery_data_source_id\":48,\"reporter\":\"F. Forster, F.E. Bauer, G. Pignata, A. Munoz-Arancibia, A. Mourao, R. Dastidar, L. Hernandez-Garcia, L. Galbany, E. Camacho, J. Silva-Farfan, J. Arredondo, G. Cabrera-Vives, R. Carrasco-Davis, P.A. Estevez, P. Huijse, E. Reyes, I. Reyes, P. Sanchez-Saez, C. Valenzuela, E. Castillo, D. Ruz-Mieres, D. Rodriguez-Mancini, M. Catelan, S. Eyheramendy, M.J. Graham on behalf of the ALeRCE broker\",\"discovery_datetime\":\"2022-07-21 08:33:52.998\",\"at_type\":1,\"internal_name\":\"ZTF22aavdrbx\",\"remarks\":\"SN candidate classified using ALeRCE\\'s stamp classifier (Carrasco-Davis et al. 2021) and the public ZTF stream. Discovery image and light curve in http:\\\\/\\\\/alerce.online\\\\/object\\\\/ZTF22aavdrbx \",\"non_detection\":{\"obsdate\":\"2022-07-19 09:03:54.999\",\"limiting_flux\":20.1769,\"flux_units\":1,\"filter_value\":111,\"instrument_value\":196,\"exptime\":30,\"observer\":\"Robot\",\"comments\":\"Data provided by ZTF\"},\"photometry\":{\"photometry_group\":{\"0\":{\"obsdate\":\"2022-07-21 08:33:52.998\",\"flux\":20.6243,\"flux_error\":0.270536,\"limiting_flux\":20.2703,\"flux_units\":1,\"filter_value\":110,\"instrument_value\":196,\"exptime\":30,\"observer\":\"Robot\",\"comments\":\"Data provided by ZTF\"},\"1\":{\"obsdate\":\"2022-07-23 07:55:52.003\",\"flux\":20.425415,\"flux_error\":0.18479101,\"limiting_flux\":20.768633,\"flux_units\":1,\"filter_value\":110,\"instrument_value\":196,\"exptime\":30,\"observer\":\"Robot\",\"comments\":\"Data provided by ZTF\"}}},\"host_name\":\"WISEA J202718.04-082513.2\"},\"13\":{\"ra\":{\"value\":247.14614579999997,\"error\":0.085,\"units\":\"arcsec\"},\"dec\":{\"value\":15.82279112,\"error\":0.085,\"units\":\"arcsec\"},\"reporting_group_id\":74,\"discovery_data_source_id\":48,\"reporter\":\"F. Forster, F.E. Bauer, G. Pignata, A. Munoz-Arancibia, A. Mourao, R. Dastidar, L. Hernandez-Garcia, L. Galbany, E. Camacho, J. Silva-Farfan, J. Arredondo, G. Cabrera-Vives, R. Carrasco-Davis, P.A. Estevez, P. Huijse, E. Reyes, I. Reyes, P. Sanchez-Saez, C. Valenzuela, E. Castillo, D. Ruz-Mieres, D. Rodriguez-Mancini, M. Catelan, S. Eyheramendy, M.J. Graham on behalf of the ALeRCE broker\",\"discovery_datetime\":\"2022-07-17 05:05:53.002\",\"at_type\":1,\"internal_name\":\"ZTF22aavdcsu\",\"remarks\":\"SN candidate classified using ALeRCE\\'s stamp classifier (Carrasco-Davis et al. 2021) and the public ZTF stream. Discovery image and light curve in http:\\\\/\\\\/alerce.online\\\\/object\\\\/ZTF22aavdcsu \",\"non_detection\":{\"obsdate\":\"2022-07-15 07:36:59.999\",\"limiting_flux\":19.8203,\"flux_units\":1,\"filter_value\":111,\"instrument_value\":196,\"exptime\":30,\"observer\":\"Robot\",\"comments\":\"Data provided by ZTF\"},\"photometry\":{\"photometry_group\":{\"0\":{\"obsdate\":\"2022-07-17 05:05:53.002\",\"flux\":20.9808,\"flux_error\":0.287105,\"limiting_flux\":20.5325,\"flux_units\":1,\"filter_value\":111,\"instrument_value\":196,\"exptime\":30,\"observer\":\"Robot\",\"comments\":\"Data provided by ZTF\"},\"1\":{\"obsdate\":\"2022-07-19 05:38:06.003\",\"flux\":20.4062,\"flux_error\":0.238874,\"limiting_flux\":20.391,\"flux_units\":1,\"filter_value\":111,\"instrument_value\":196,\"exptime\":30,\"observer\":\"Robot\",\"comments\":\"Data provided by ZTF\"},\"2\":{\"obsdate\":\"2022-07-21 05:35:59.004\",\"flux\":20.3053,\"flux_error\":0.23518,\"limiting_flux\":20.5676,\"flux_units\":1,\"filter_value\":110,\"instrument_value\":196,\"exptime\":30,\"observer\":\"Robot\",\"comments\":\"Data provided by ZTF\"},\"3\":{\"obsdate\":\"2022-07-21 06:11:17.998\",\"flux\":20.2399,\"flux_error\":0.217952,\"limiting_flux\":20.4729,\"flux_units\":1,\"filter_value\":110,\"instrument_value\":196,\"exptime\":30,\"observer\":\"Robot\",\"comments\":\"Data provided by ZTF\"},\"4\":{\"obsdate\":\"2022-07-23 07:22:42.997\",\"flux\":20.27856,\"flux_error\":0.19135357,\"limiting_flux\":20.556961,\"flux_units\":1,\"filter_value\":110,\"instrument_value\":196,\"exptime\":30,\"observer\":\"Robot\",\"comments\":\"Data provided by ZTF\"}}},\"host_name\":\"SDSS J162835.11+154922.4\"},\"14\":{\"ra\":{\"value\":251.77875065,\"error\":0.085,\"units\":\"arcsec\"},\"dec\":{\"value\":30.847815750000002,\"error\":0.085,\"units\":\"arcsec\"},\"reporting_group_id\":74,\"discovery_data_source_id\":48,\"reporter\":\"F. Forster, F.E. Bauer, G. Pignata, A. Munoz-Arancibia, A. Mourao, R. Dastidar, L. Hernandez-Garcia, L. Galbany, E. Camacho, J. Silva-Farfan, J. Arredondo, G. Cabrera-Vives, R. Carrasco-Davis, P.A. Estevez, P. Huijse, E. Reyes, I. Reyes, P. Sanchez-Saez, C. Valenzuela, E. Castillo, D. Ruz-Mieres, D. Rodriguez-Mancini, M. Catelan, S. Eyheramendy, M.J. Graham on behalf of the ALeRCE broker\",\"discovery_datetime\":\"2022-07-21 06:14:42.999\",\"at_type\":1,\"internal_name\":\"ZTF22aavczfb\",\"remarks\":\"SN candidate classified using ALeRCE\\'s stamp classifier (Carrasco-Davis et al. 2021) and the public ZTF stream. Discovery image and light curve in http:\\\\/\\\\/alerce.online\\\\/object\\\\/ZTF22aavczfb \",\"non_detection\":{\"obsdate\":\"2022-07-21 05:54:41.003\",\"limiting_flux\":20.6337,\"flux_units\":1,\"filter_value\":110,\"instrument_value\":196,\"exptime\":30,\"observer\":\"Robot\",\"comments\":\"Data provided by ZTF\"},\"photometry\":{\"photometry_group\":{\"0\":{\"obsdate\":\"2022-07-21 06:14:42.999\",\"flux\":20.7233,\"flux_error\":0.249718,\"limiting_flux\":20.5939,\"flux_units\":1,\"filter_value\":110,\"instrument_value\":196,\"exptime\":30,\"observer\":\"Robot\",\"comments\":\"Data provided by ZTF\"},\"1\":{\"obsdate\":\"2022-07-23 07:20:00.004\",\"flux\":20.020054,\"flux_error\":0.16118038,\"limiting_flux\":20.681925,\"flux_units\":1,\"filter_value\":110,\"instrument_value\":196,\"exptime\":30,\"observer\":\"Robot\",\"comments\":\"Data provided by ZTF\"}}},\"host_name\":\"SDSS J164706.81+305051.3\"},\"15\":{\"ra\":{\"value\":251.00561234999998,\"error\":0.085,\"units\":\"arcsec\"},\"dec\":{\"value\":50.4905923,\"error\":0.085,\"units\":\"arcsec\"},\"reporting_group_id\":74,\"discovery_data_source_id\":48,\"reporter\":\"F. Forster, F.E. Bauer, G. Pignata, A. Munoz-Arancibia, A. Mourao, R. Dastidar, L. Hernandez-Garcia, L. Galbany, E. Camacho, J. Silva-Farfan, J. Arredondo, G. Cabrera-Vives, R. Carrasco-Davis, P.A. Estevez, P. Huijse, E. Reyes, I. Reyes, P. Sanchez-Saez, C. Valenzuela, E. Castillo, D. Ruz-Mieres, D. Rodriguez-Mancini, M. Catelan, S. Eyheramendy, M.J. Graham on behalf of the ALeRCE broker\",\"discovery_datetime\":\"2022-07-23 06:16:18.998\",\"at_type\":1,\"internal_name\":\"ZTF22aavcyir\",\"remarks\":\"SN candidate classified using ALeRCE\\'s stamp classifier (Carrasco-Davis et al. 2021) and the public ZTF stream. Discovery image and light curve in http:\\\\/\\\\/alerce.online\\\\/object\\\\/ZTF22aavcyir \",\"non_detection\":{\"obsdate\":\"2022-07-21 08:11:15.999\",\"limiting_flux\":20.1719,\"flux_units\":1,\"filter_value\":110,\"instrument_value\":196,\"exptime\":30,\"observer\":\"Robot\",\"comments\":\"Data provided by ZTF\"},\"photometry\":{\"photometry_group\":{\"0\":{\"obsdate\":\"2022-07-23 06:16:18.998\",\"flux\":20.6749,\"flux_error\":0.240828,\"limiting_flux\":20.691,\"flux_units\":1,\"filter_value\":111,\"instrument_value\":196,\"exptime\":30,\"observer\":\"Robot\",\"comments\":\"Data provided by ZTF\"},\"1\":{\"obsdate\":\"2022-07-23 07:15:06.002\",\"flux\":20.724241,\"flux_error\":0.19668292,\"limiting_flux\":20.766361,\"flux_units\":1,\"filter_value\":110,\"instrument_value\":196,\"exptime\":30,\"observer\":\"Robot\",\"comments\":\"Data provided by ZTF\"}}},\"host_name\":\"SDSS J164401.31+502924.7\"},\"16\":{\"ra\":{\"value\":272.0750082,\"error\":0.085,\"units\":\"arcsec\"},\"dec\":{\"value\":57.142074433333335,\"error\":0.085,\"units\":\"arcsec\"},\"reporting_group_id\":74,\"discovery_data_source_id\":48,\"reporter\":\"F. Forster, F.E. Bauer, G. Pignata, A. Munoz-Arancibia, A. Mourao, R. Dastidar, L. Hernandez-Garcia, L. Galbany, E. Camacho, J. Silva-Farfan, J. Arredondo, G. Cabrera-Vives, R. Carrasco-Davis, P.A. Estevez, P. Huijse, E. Reyes, I. Reyes, P. Sanchez-Saez, C. Valenzuela, E. Castillo, D. Ruz-Mieres, D. Rodriguez-Mancini, M. Catelan, S. Eyheramendy, M.J. Graham on behalf of the ALeRCE broker\",\"discovery_datetime\":\"2022-07-19 06:25:10.998\",\"at_type\":1,\"internal_name\":\"ZTF22aavcvtr\",\"remarks\":\"SN candidate classified using ALeRCE\\'s stamp classifier (Carrasco-Davis et al. 2021) and the public ZTF stream. Discovery image and light curve in http:\\\\/\\\\/alerce.online\\\\/object\\\\/ZTF22aavcvtr \",\"non_detection\":{\"obsdate\":\"2022-07-16 07:51:15.998\",\"limiting_flux\":20.2592,\"flux_units\":1,\"filter_value\":111,\"instrument_value\":196,\"exptime\":30,\"observer\":\"Robot\",\"comments\":\"Data provided by ZTF\"},\"photometry\":{\"photometry_group\":{\"0\":{\"obsdate\":\"2022-07-19 06:25:10.998\",\"flux\":20.9587,\"flux_error\":0.324095,\"limiting_flux\":20.6479,\"flux_units\":1,\"filter_value\":111,\"instrument_value\":196,\"exptime\":30,\"observer\":\"Robot\",\"comments\":\"Data provided by ZTF\"},\"1\":{\"obsdate\":\"2022-07-19 07:30:05.003\",\"flux\":20.7152,\"flux_error\":0.379092,\"limiting_flux\":20.3467,\"flux_units\":1,\"filter_value\":111,\"instrument_value\":196,\"exptime\":30,\"observer\":\"Robot\",\"comments\":\"Data provided by ZTF\"},\"2\":{\"obsdate\":\"2022-07-23 07:10:03.999\",\"flux\":20.756207,\"flux_error\":0.20588641,\"limiting_flux\":20.85907,\"flux_units\":1,\"filter_value\":110,\"instrument_value\":196,\"exptime\":30,\"observer\":\"Robot\",\"comments\":\"Data provided by ZTF\"}}},\"host_name\":\"WISEA J180817.99+570827.7\"},\"17\":{\"ra\":{\"value\":241.75982910000002,\"error\":0.085,\"units\":\"arcsec\"},\"dec\":{\"value\":28.8345805,\"error\":0.085,\"units\":\"arcsec\"},\"reporting_group_id\":74,\"discovery_data_source_id\":48,\"reporter\":\"F. Forster, F.E. Bauer, G. Pignata, A. Munoz-Arancibia, A. Mourao, R. Dastidar, L. Hernandez-Garcia, L. Galbany, E. Camacho, J. Silva-Farfan, J. Arredondo, G. Cabrera-Vives, R. Carrasco-Davis, P.A. Estevez, P. Huijse, E. Reyes, I. Reyes, P. Sanchez-Saez, C. Valenzuela, E. Castillo, D. Ruz-Mieres, D. Rodriguez-Mancini, M. Catelan, S. Eyheramendy, M.J. Graham on behalf of the ALeRCE broker\",\"discovery_datetime\":\"2022-07-19 05:39:27.996\",\"at_type\":1,\"internal_name\":\"ZTF22aavcrgy\",\"remarks\":\"SN candidate classified using ALeRCE\\'s stamp classifier (Carrasco-Davis et al. 2021) and the public ZTF stream. Discovery image and light curve in http:\\\\/\\\\/alerce.online\\\\/object\\\\/ZTF22aavcrgy \",\"non_detection\":{\"obsdate\":\"2022-07-17 05:08:43.002\",\"limiting_flux\":20.5454,\"flux_units\":1,\"filter_value\":111,\"instrument_value\":196,\"exptime\":30,\"observer\":\"Robot\",\"comments\":\"Data provided by ZTF\"},\"photometry\":{\"photometry_group\":{\"0\":{\"obsdate\":\"2022-07-19 05:39:27.996\",\"flux\":20.8994,\"flux_error\":0.258196,\"limiting_flux\":20.5806,\"flux_units\":1,\"filter_value\":111,\"instrument_value\":196,\"exptime\":30,\"observer\":\"Robot\",\"comments\":\"Data provided by ZTF\"},\"1\":{\"obsdate\":\"2022-07-21 06:16:44.996\",\"flux\":20.471,\"flux_error\":0.260853,\"limiting_flux\":20.5054,\"flux_units\":1,\"filter_value\":110,\"instrument_value\":196,\"exptime\":30,\"observer\":\"Robot\",\"comments\":\"Data provided by ZTF\"},\"2\":{\"obsdate\":\"2022-07-23 06:53:34.002\",\"flux\":20.424297,\"flux_error\":0.21639992,\"limiting_flux\":20.65241,\"flux_units\":1,\"filter_value\":110,\"instrument_value\":196,\"exptime\":30,\"observer\":\"Robot\",\"comments\":\"Data provided by ZTF\"}}},\"host_name\":\"SDSS J160702.13+285005.3\"},\"18\":{\"ra\":{\"value\":227.79670955,\"error\":0.085,\"units\":\"arcsec\"},\"dec\":{\"value\":18.423857599999998,\"error\":0.085,\"units\":\"arcsec\"},\"reporting_group_id\":74,\"discovery_data_source_id\":48,\"reporter\":\"F. Forster, F.E. Bauer, G. Pignata, A. Munoz-Arancibia, A. Mourao, R. Dastidar, L. Hernandez-Garcia, L. Galbany, E. Camacho, J. Silva-Farfan, J. Arredondo, G. Cabrera-Vives, R. Carrasco-Davis, P.A. Estevez, P. Huijse, E. Reyes, I. Reyes, P. Sanchez-Saez, C. Valenzuela, E. Castillo, D. Ruz-Mieres, D. Rodriguez-Mancini, M. Catelan, S. Eyheramendy, M.J. Graham on behalf of the ALeRCE broker\",\"discovery_datetime\":\"2022-07-23 06:23:57.998\",\"at_type\":1,\"internal_name\":\"ZTF22aavclih\",\"remarks\":\"Early SN candidate (g-rise > 0.18+-0.10 mag\\\\/day, r-rise > 0.14+-0.05 mag\\\\/day) classified using ALeRCE\\'s stamp classifier (Carrasco-Davis et al. 2021) and the public ZTF stream. Discovery image and light curve in http:\\\\/\\\\/alerce.online\\\\/object\\\\/ZTF22aavclih \",\"non_detection\":{\"obsdate\":\"2022-07-21 05:38:02.003\",\"limiting_flux\":20.4089,\"flux_units\":1,\"filter_value\":110,\"instrument_value\":196,\"exptime\":30,\"observer\":\"Robot\",\"comments\":\"Data provided by ZTF\"},\"photometry\":{\"photometry_group\":{\"0\":{\"obsdate\":\"2022-07-23 06:23:57.998\",\"flux\":19.9255,\"flux_error\":0.217825,\"limiting_flux\":20.2506,\"flux_units\":1,\"filter_value\":111,\"instrument_value\":196,\"exptime\":30,\"observer\":\"Robot\",\"comments\":\"Data provided by ZTF\"},\"1\":{\"obsdate\":\"2022-07-23 06:39:10.002\",\"flux\":20.049896,\"flux_error\":0.19726226,\"limiting_flux\":20.375193,\"flux_units\":1,\"filter_value\":110,\"instrument_value\":196,\"exptime\":30,\"observer\":\"Robot\",\"comments\":\"Data provided by ZTF\"}}},\"host_name\":\"SDSS J151111.22+182527.5\",\"host_redshift\":0.1079369},\"19\":{\"ra\":{\"value\":245.4397828,\"error\":0.085,\"units\":\"arcsec\"},\"dec\":{\"value\":55.577833633333334,\"error\":0.085,\"units\":\"arcsec\"},\"reporting_group_id\":74,\"discovery_data_source_id\":48,\"reporter\":\"F. Forster, F.E. Bauer, G. Pignata, A. Munoz-Arancibia, A. Mourao, R. Dastidar, L. Hernandez-Garcia, L. Galbany, E. Camacho, J. Silva-Farfan, J. Arredondo, G. Cabrera-Vives, R. Carrasco-Davis, P.A. Estevez, P. Huijse, E. Reyes, I. Reyes, P. Sanchez-Saez, C. Valenzuela, E. Castillo, D. Ruz-Mieres, D. Rodriguez-Mancini, M. Catelan, S. Eyheramendy, M.J. Graham on behalf of the ALeRCE broker\",\"discovery_datetime\":\"2022-07-21 05:51:17.004\",\"at_type\":1,\"internal_name\":\"ZTF22aavcccu\",\"remarks\":\"SN candidate classified using ALeRCE\\'s stamp classifier (Carrasco-Davis et al. 2021) and the public ZTF stream. Discovery image and light curve in http:\\\\/\\\\/alerce.online\\\\/object\\\\/ZTF22aavcccu \",\"non_detection\":{\"obsdate\":\"2022-07-19 07:25:55.998\",\"limiting_flux\":20.4303,\"flux_units\":1,\"filter_value\":111,\"instrument_value\":196,\"exptime\":30,\"observer\":\"Robot\",\"comments\":\"Data provided by ZTF\"},\"photometry\":{\"photometry_group\":{\"0\":{\"obsdate\":\"2022-07-21 05:51:17.004\",\"flux\":20.8402,\"flux_error\":0.314535,\"limiting_flux\":20.5124,\"flux_units\":1,\"filter_value\":110,\"instrument_value\":196,\"exptime\":30,\"observer\":\"Robot\",\"comments\":\"Data provided by ZTF\"},\"1\":{\"obsdate\":\"2022-07-21 06:21:30.997\",\"flux\":20.6027,\"flux_error\":0.30033,\"limiting_flux\":20.5373,\"flux_units\":1,\"filter_value\":110,\"instrument_value\":196,\"exptime\":30,\"observer\":\"Robot\",\"comments\":\"Data provided by ZTF\"},\"2\":{\"obsdate\":\"2022-07-23 06:17:00.004\",\"flux\":20.32695,\"flux_error\":0.18599464,\"limiting_flux\":20.74484,\"flux_units\":1,\"filter_value\":111,\"instrument_value\":196,\"exptime\":30,\"observer\":\"Robot\",\"comments\":\"Data provided by ZTF\"}}},\"host_name\":\"SDSS J162145.52+553440.2\"},\"20\":{\"ra\":{\"value\":252.240465875,\"error\":0.085,\"units\":\"arcsec\"},\"dec\":{\"value\":36.09578045000001,\"error\":0.085,\"units\":\"arcsec\"},\"reporting_group_id\":74,\"discovery_data_source_id\":48,\"reporter\":\"F. Forster, F.E. Bauer, G. Pignata, A. Munoz-Arancibia, A. Mourao, R. Dastidar, L. Hernandez-Garcia, L. Galbany, E. Camacho, J. Silva-Farfan, J. Arredondo, G. Cabrera-Vives, R. Carrasco-Davis, P.A. Estevez, P. Huijse, E. Reyes, I. Reyes, P. Sanchez-Saez, C. Valenzuela, E. Castillo, D. Ruz-Mieres, D. Rodriguez-Mancini, M. Catelan, S. Eyheramendy, M.J. Graham on behalf of the ALeRCE broker\",\"discovery_datetime\":\"2022-07-21 05:54:41.003\",\"at_type\":1,\"internal_name\":\"ZTF22aauxsyt\",\"remarks\":\"SN candidate classified using ALeRCE\\'s stamp classifier (Carrasco-Davis et al. 2021) and the public ZTF stream. Discovery image and light curve in http:\\\\/\\\\/alerce.online\\\\/object\\\\/ZTF22aauxsyt \",\"non_detection\":{\"obsdate\":\"2022-07-19 07:16:57.000\",\"limiting_flux\":20.3744,\"flux_units\":1,\"filter_value\":111,\"instrument_value\":196,\"exptime\":30,\"observer\":\"Robot\",\"comments\":\"Data provided by ZTF\"},\"photometry\":{\"photometry_group\":{\"0\":{\"obsdate\":\"2022-07-21 05:54:41.003\",\"flux\":20.5248,\"flux_error\":0.26821,\"limiting_flux\":20.5755,\"flux_units\":1,\"filter_value\":110,\"instrument_value\":196,\"exptime\":30,\"observer\":\"Robot\",\"comments\":\"Data provided by ZTF\"},\"1\":{\"obsdate\":\"2022-07-21 06:14:42.999\",\"flux\":20.6477,\"flux_error\":0.229597,\"limiting_flux\":20.6567,\"flux_units\":1,\"filter_value\":110,\"instrument_value\":196,\"exptime\":30,\"observer\":\"Robot\",\"comments\":\"Data provided by ZTF\"},\"2\":{\"obsdate\":\"2022-07-23 06:12:56.002\",\"flux\":20.4655,\"flux_error\":0.28017,\"limiting_flux\":20.6617,\"flux_units\":1,\"filter_value\":111,\"instrument_value\":196,\"exptime\":30,\"observer\":\"Robot\",\"comments\":\"Data provided by ZTF\"},\"3\":{\"obsdate\":\"2022-07-23 07:20:00.004\",\"flux\":20.19436,\"flux_error\":0.1944113,\"limiting_flux\":20.742296,\"flux_units\":1,\"filter_value\":110,\"instrument_value\":196,\"exptime\":30,\"observer\":\"Robot\",\"comments\":\"Data provided by ZTF\"}}},\"host_name\":\"WISEA J164857.43+360544.7\",\"host_redshift\":0.115161},\"21\":{\"ra\":{\"value\":233.318978225,\"error\":0.085,\"units\":\"arcsec\"},\"dec\":{\"value\":52.603083549999994,\"error\":0.085,\"units\":\"arcsec\"},\"reporting_group_id\":74,\"discovery_data_source_id\":48,\"reporter\":\"F. Forster, F.E. Bauer, G. Pignata, A. Munoz-Arancibia, A. Mourao, R. Dastidar, L. Hernandez-Garcia, L. Galbany, E. Camacho, J. Silva-Farfan, J. Arredondo, G. Cabrera-Vives, R. Carrasco-Davis, P.A. Estevez, P. Huijse, E. Reyes, I. Reyes, P. Sanchez-Saez, C. Valenzuela, E. Castillo, D. Ruz-Mieres, D. Rodriguez-Mancini, M. Catelan, S. Eyheramendy, M.J. Graham on behalf of the ALeRCE broker\",\"discovery_datetime\":\"2022-07-17 05:21:57.001\",\"at_type\":1,\"internal_name\":\"ZTF22aauxltc\",\"remarks\":\"SN candidate classified using ALeRCE\\'s stamp classifier (Carrasco-Davis et al. 2021) and the public ZTF stream. Discovery image and light curve in http:\\\\/\\\\/alerce.online\\\\/object\\\\/ZTF22aauxltc \",\"non_detection\":{\"obsdate\":\"2022-07-15 07:54:05.999\",\"limiting_flux\":19.8349,\"flux_units\":1,\"filter_value\":111,\"instrument_value\":196,\"exptime\":30,\"observer\":\"Robot\",\"comments\":\"Data provided by ZTF\"},\"photometry\":{\"photometry_group\":{\"0\":{\"obsdate\":\"2022-07-17 05:21:57.001\",\"flux\":20.7136,\"flux_error\":0.292899,\"limiting_flux\":20.5942,\"flux_units\":1,\"filter_value\":111,\"instrument_value\":196,\"exptime\":30,\"observer\":\"Robot\",\"comments\":\"Data provided by ZTF\"},\"1\":{\"obsdate\":\"2022-07-18 05:15:59.003\",\"flux\":20.5529,\"flux_error\":0.229456,\"limiting_flux\":20.4379,\"flux_units\":1,\"filter_value\":111,\"instrument_value\":196,\"exptime\":30,\"observer\":\"Robot\",\"comments\":\"Data provided by ZTF\"},\"2\":{\"obsdate\":\"2022-07-20 06:46:26.996\",\"flux\":20.1853,\"flux_error\":0.247043,\"limiting_flux\":19.9566,\"flux_units\":1,\"filter_value\":110,\"instrument_value\":196,\"exptime\":30,\"observer\":\"Robot\",\"comments\":\"Data provided by ZTF\"},\"3\":{\"obsdate\":\"2022-07-22 06:15:03.001\",\"flux\":20.397411,\"flux_error\":0.20784743,\"limiting_flux\":20.521315,\"flux_units\":1,\"filter_value\":111,\"instrument_value\":196,\"exptime\":30,\"observer\":\"Robot\",\"comments\":\"Data provided by ZTF\"}}},\"host_name\":\"SDSS J153316.38+523609.1\"},\"22\":{\"ra\":{\"value\":222.75257273333332,\"error\":0.085,\"units\":\"arcsec\"},\"dec\":{\"value\":23.589646400000003,\"error\":0.085,\"units\":\"arcsec\"},\"reporting_group_id\":74,\"discovery_data_source_id\":48,\"reporter\":\"F. Forster, F.E. Bauer, G. Pignata, A. Munoz-Arancibia, A. Mourao, R. Dastidar, L. Hernandez-Garcia, L. Galbany, E. Camacho, J. Silva-Farfan, J. Arredondo, G. Cabrera-Vives, R. Carrasco-Davis, P.A. Estevez, P. Huijse, E. Reyes, I. Reyes, P. Sanchez-Saez, C. Valenzuela, E. Castillo, D. Ruz-Mieres, D. Rodriguez-Mancini, M. Catelan, S. Eyheramendy, M.J. Graham on behalf of the ALeRCE broker\",\"discovery_datetime\":\"2022-07-21 05:40:03.999\",\"at_type\":1,\"internal_name\":\"ZTF22aauwylz\",\"remarks\":\"Early SN candidate (r-rise > 0.11+-0.05 mag\\\\/day) classified using ALeRCE\\'s stamp classifier (Carrasco-Davis et al. 2021) and the public ZTF stream. Discovery image and light curve in http:\\\\/\\\\/alerce.online\\\\/object\\\\/ZTF22aauwylz \",\"non_detection\":{\"obsdate\":\"2022-07-19 05:59:00.997\",\"limiting_flux\":20.0111,\"flux_units\":1,\"filter_value\":111,\"instrument_value\":196,\"exptime\":30,\"observer\":\"Robot\",\"comments\":\"Data provided by ZTF\"},\"photometry\":{\"photometry_group\":{\"0\":{\"obsdate\":\"2022-07-21 05:40:03.999\",\"flux\":20.426,\"flux_error\":0.237059,\"limiting_flux\":20.3103,\"flux_units\":1,\"filter_value\":110,\"instrument_value\":196,\"exptime\":30,\"observer\":\"Robot\",\"comments\":\"Data provided by ZTF\"},\"1\":{\"obsdate\":\"2022-07-23 06:23:17.002\",\"flux\":19.83237,\"flux_error\":0.20680533,\"limiting_flux\":20.11664,\"flux_units\":1,\"filter_value\":111,\"instrument_value\":196,\"exptime\":30,\"observer\":\"Robot\",\"comments\":\"Data provided by ZTF\"},\"2\":{\"obsdate\":\"2022-07-23 06:39:50.999\",\"flux\":19.84491,\"flux_error\":0.14891902,\"limiting_flux\":20.381113,\"flux_units\":1,\"filter_value\":110,\"instrument_value\":196,\"exptime\":30,\"observer\":\"Robot\",\"comments\":\"Data provided by ZTF\"}}},\"host_name\":\"SDSS J145100.60+233521.7\"},\"23\":{\"ra\":{\"value\":307.90256615,\"error\":0.085,\"units\":\"arcsec\"},\"dec\":{\"value\":-12.661394600000001,\"error\":0.085,\"units\":\"arcsec\"},\"reporting_group_id\":74,\"discovery_data_source_id\":48,\"reporter\":\"F. Forster, F.E. Bauer, G. Pignata, A. Munoz-Arancibia, A. Mourao, R. Dastidar, L. Hernandez-Garcia, L. Galbany, E. Camacho, J. Silva-Farfan, J. Arredondo, G. Cabrera-Vives, R. Carrasco-Davis, P.A. Estevez, P. Huijse, E. Reyes, I. Reyes, P. Sanchez-Saez, C. Valenzuela, E. Castillo, D. Ruz-Mieres, D. Rodriguez-Mancini, M. Catelan, S. Eyheramendy, M.J. Graham on behalf of the ALeRCE broker\",\"discovery_datetime\":\"2022-07-21 08:33:52.998\",\"at_type\":1,\"internal_name\":\"ZTF22aauvseh\",\"remarks\":\"SN candidate classified using ALeRCE\\'s stamp classifier (Carrasco-Davis et al. 2021) and the public ZTF stream. Discovery image and light curve in http:\\\\/\\\\/alerce.online\\\\/object\\\\/ZTF22aauvseh \",\"non_detection\":{\"obsdate\":\"2022-07-19 09:03:54.999\",\"limiting_flux\":20.2411,\"flux_units\":1,\"filter_value\":111,\"instrument_value\":196,\"exptime\":30,\"observer\":\"Robot\",\"comments\":\"Data provided by ZTF\"},\"photometry\":{\"photometry_group\":{\"0\":{\"obsdate\":\"2022-07-21 08:33:52.998\",\"flux\":20.116236,\"flux_error\":0.18510465,\"limiting_flux\":20.199038,\"flux_units\":1,\"filter_value\":110,\"instrument_value\":196,\"exptime\":30,\"observer\":\"Robot\",\"comments\":\"Data provided by ZTF\"},\"1\":{\"obsdate\":\"2022-07-23 08:57:42.002\",\"flux\":20.252636,\"flux_error\":0.17265338,\"limiting_flux\":20.630198,\"flux_units\":1,\"filter_value\":111,\"instrument_value\":196,\"exptime\":30,\"observer\":\"Robot\",\"comments\":\"Data provided by ZTF\"}}},\"host_name\":\"WISEA J203136.33-123937.2\"},\"24\":{\"ra\":{\"value\":260.1330511333333,\"error\":0.085,\"units\":\"arcsec\"},\"dec\":{\"value\":48.89138773333334,\"error\":0.085,\"units\":\"arcsec\"},\"reporting_group_id\":74,\"discovery_data_source_id\":48,\"reporter\":\"F. Forster, F.E. Bauer, G. Pignata, A. Munoz-Arancibia, A. Mourao, R. Dastidar, L. Hernandez-Garcia, L. Galbany, E. Camacho, J. Silva-Farfan, J. Arredondo, G. Cabrera-Vives, R. Carrasco-Davis, P.A. Estevez, P. Huijse, E. Reyes, I. Reyes, P. Sanchez-Saez, C. Valenzuela, E. Castillo, D. Ruz-Mieres, D. Rodriguez-Mancini, M. Catelan, S. Eyheramendy, M.J. Graham on behalf of the ALeRCE broker\",\"discovery_datetime\":\"2022-07-21 08:10:35.003\",\"at_type\":1,\"internal_name\":\"ZTF22aauuvby\",\"remarks\":\"SN candidate classified using ALeRCE\\'s stamp classifier (Carrasco-Davis et al. 2021) and the public ZTF stream. Discovery image and light curve in http:\\\\/\\\\/alerce.online\\\\/object\\\\/ZTF22aauuvby \",\"non_detection\":{\"obsdate\":\"2022-07-21 06:51:57.001\",\"limiting_flux\":20.7237,\"flux_units\":1,\"filter_value\":110,\"instrument_value\":196,\"exptime\":30,\"observer\":\"Robot\",\"comments\":\"Data provided by ZTF\"},\"photometry\":{\"photometry_group\":{\"0\":{\"obsdate\":\"2022-07-21 08:10:35.003\",\"flux\":20.3276,\"flux_error\":0.237411,\"limiting_flux\":20.2798,\"flux_units\":1,\"filter_value\":110,\"instrument_value\":196,\"exptime\":30,\"observer\":\"Robot\",\"comments\":\"Data provided by ZTF\"},\"1\":{\"obsdate\":\"2022-07-23 06:14:57.998\",\"flux\":20.5876,\"flux_error\":0.26572,\"limiting_flux\":20.7826,\"flux_units\":1,\"filter_value\":111,\"instrument_value\":196,\"exptime\":30,\"observer\":\"Robot\",\"comments\":\"Data provided by ZTF\"},\"2\":{\"obsdate\":\"2022-07-23 07:15:46.999\",\"flux\":20.333294,\"flux_error\":0.2033366,\"limiting_flux\":20.846823,\"flux_units\":1,\"filter_value\":110,\"instrument_value\":196,\"exptime\":30,\"observer\":\"Robot\",\"comments\":\"Data provided by ZTF\"}}},\"host_name\":\"WISEA J172031.51+485326.0\"},\"25\":{\"ra\":{\"value\":249.598540425,\"error\":0.085,\"units\":\"arcsec\"},\"dec\":{\"value\":24.875095549999998,\"error\":0.085,\"units\":\"arcsec\"},\"reporting_group_id\":74,\"discovery_data_source_id\":48,\"reporter\":\"F. Forster, F.E. Bauer, G. Pignata, A. Munoz-Arancibia, A. Mourao, R. Dastidar, L. Hernandez-Garcia, L. Galbany, E. Camacho, J. Silva-Farfan, J. Arredondo, G. Cabrera-Vives, R. Carrasco-Davis, P.A. Estevez, P. Huijse, E. Reyes, I. Reyes, P. Sanchez-Saez, C. Valenzuela, E. Castillo, D. Ruz-Mieres, D. Rodriguez-Mancini, M. Catelan, S. Eyheramendy, M.J. Graham on behalf of the ALeRCE broker\",\"discovery_datetime\":\"2022-07-21 05:56:02.996\",\"at_type\":1,\"internal_name\":\"ZTF22aautrcf\",\"remarks\":\"SN candidate classified using ALeRCE\\'s stamp classifier (Carrasco-Davis et al. 2021) and the public ZTF stream. Discovery image and light curve in http:\\\\/\\\\/alerce.online\\\\/object\\\\/ZTF22aautrcf \",\"non_detection\":{\"obsdate\":\"2022-07-19 07:19:40.002\",\"limiting_flux\":20.364,\"flux_units\":1,\"filter_value\":111,\"instrument_value\":196,\"exptime\":30,\"observer\":\"Robot\",\"comments\":\"Data provided by ZTF\"},\"photometry\":{\"photometry_group\":{\"0\":{\"obsdate\":\"2022-07-21 05:56:02.996\",\"flux\":20.4155,\"flux_error\":0.21592908,\"limiting_flux\":20.73069,\"flux_units\":1,\"filter_value\":110,\"instrument_value\":196,\"exptime\":30,\"observer\":\"Robot\",\"comments\":\"Data provided by ZTF\"},\"1\":{\"obsdate\":\"2022-07-21 06:13:20.004\",\"flux\":20.507294,\"flux_error\":0.20825422,\"limiting_flux\":20.703669,\"flux_units\":1,\"filter_value\":110,\"instrument_value\":196,\"exptime\":30,\"observer\":\"Robot\",\"comments\":\"Data provided by ZTF\"},\"2\":{\"obsdate\":\"2022-07-23 06:10:11.997\",\"flux\":20.540623,\"flux_error\":0.1868075,\"limiting_flux\":20.743519,\"flux_units\":1,\"filter_value\":111,\"instrument_value\":196,\"exptime\":30,\"observer\":\"Robot\",\"comments\":\"Data provided by ZTF\"},\"3\":{\"obsdate\":\"2022-07-23 06:52:52.997\",\"flux\":20.370066,\"flux_error\":0.15061733,\"limiting_flux\":20.834248,\"flux_units\":1,\"filter_value\":110,\"instrument_value\":196,\"exptime\":30,\"observer\":\"Robot\",\"comments\":\"Data provided by ZTF\"}}},\"host_name\":\"SDSS J163823.66+245229.0\"},\"26\":{\"ra\":{\"value\":207.4599874,\"error\":0.085,\"units\":\"arcsec\"},\"dec\":{\"value\":71.6046447,\"error\":0.085,\"units\":\"arcsec\"},\"reporting_group_id\":74,\"discovery_data_source_id\":48,\"reporter\":\"F. Forster, F.E. Bauer, G. Pignata, A. Munoz-Arancibia, A. Mourao, R. Dastidar, L. Hernandez-Garcia, L. Galbany, E. Camacho, J. Silva-Farfan, J. Arredondo, G. Cabrera-Vives, R. Carrasco-Davis, P.A. Estevez, P. Huijse, E. Reyes, I. Reyes, P. Sanchez-Saez, C. Valenzuela, E. Castillo, D. Ruz-Mieres, D. Rodriguez-Mancini, M. Catelan, S. Eyheramendy, M.J. Graham on behalf of the ALeRCE broker\",\"discovery_datetime\":\"2022-07-23 07:13:35.999\",\"at_type\":1,\"internal_name\":\"ZTF22aautpdb\",\"remarks\":\"Early SN candidate (g-rise > 0.31+-0.07 mag\\\\/day) classified using ALeRCE\\'s stamp classifier (Carrasco-Davis et al. 2021) and the public ZTF stream. Discovery image and light curve in http:\\\\/\\\\/alerce.online\\\\/object\\\\/ZTF22aautpdb \",\"non_detection\":{\"obsdate\":\"2022-07-23 06:19:07.003\",\"limiting_flux\":20.3605,\"flux_units\":1,\"filter_value\":111,\"instrument_value\":196,\"exptime\":30,\"observer\":\"Robot\",\"comments\":\"Data provided by ZTF\"},\"photometry\":{\"photometry_group\":{\"0\":{\"obsdate\":\"2022-07-23 07:13:35.999\",\"flux\":19.639542,\"flux_error\":0.14902227,\"limiting_flux\":20.41195,\"flux_units\":1,\"filter_value\":110,\"instrument_value\":196,\"exptime\":30,\"observer\":\"Robot\",\"comments\":\"Data provided by ZTF\"}}},\"host_name\":\"WISEA J134949.97+713616.1\"},\"27\":{\"ra\":{\"value\":224.80660890000001,\"error\":0.085,\"units\":\"arcsec\"},\"dec\":{\"value\":63.21416535,\"error\":0.085,\"units\":\"arcsec\"},\"reporting_group_id\":74,\"discovery_data_source_id\":48,\"reporter\":\"F. Forster, F.E. Bauer, G. Pignata, A. Munoz-Arancibia, A. Mourao, R. Dastidar, L. Hernandez-Garcia, L. Galbany, E. Camacho, J. Silva-Farfan, J. Arredondo, G. Cabrera-Vives, R. Carrasco-Davis, P.A. Estevez, P. Huijse, E. Reyes, I. Reyes, P. Sanchez-Saez, C. Valenzuela, E. Castillo, D. Ruz-Mieres, D. Rodriguez-Mancini, M. Catelan, S. Eyheramendy, M.J. Graham on behalf of the ALeRCE broker\",\"discovery_datetime\":\"2022-07-19 05:51:13.997\",\"at_type\":1,\"internal_name\":\"ZTF22aautntp\",\"remarks\":\"SN candidate classified using ALeRCE\\'s stamp classifier (Carrasco-Davis et al. 2021) and the public ZTF stream. Discovery image and light curve in http:\\\\/\\\\/alerce.online\\\\/object\\\\/ZTF22aautntp \",\"non_detection\":{\"obsdate\":\"2022-07-16 07:45:43.004\",\"limiting_flux\":19.9418,\"flux_units\":1,\"filter_value\":111,\"instrument_value\":196,\"exptime\":30,\"observer\":\"Robot\",\"comments\":\"Data provided by ZTF\"},\"photometry\":{\"photometry_group\":{\"0\":{\"obsdate\":\"2022-07-19 05:51:13.997\",\"flux\":20.7746,\"flux_error\":0.295983,\"limiting_flux\":20.3825,\"flux_units\":1,\"filter_value\":111,\"instrument_value\":196,\"exptime\":30,\"observer\":\"Robot\",\"comments\":\"Data provided by ZTF\"},\"1\":{\"obsdate\":\"2022-07-21 05:42:48.997\",\"flux\":20.35245,\"flux_error\":0.2124425,\"limiting_flux\":20.392187,\"flux_units\":1,\"filter_value\":110,\"instrument_value\":196,\"exptime\":30,\"observer\":\"Robot\",\"comments\":\"Data provided by ZTF\"}}},\"host_name\":\"SDSS J145913.50+631249.0\"},\"28\":{\"ra\":{\"value\":220.07327899999999,\"error\":0.085,\"units\":\"arcsec\"},\"dec\":{\"value\":45.310005024999995,\"error\":0.085,\"units\":\"arcsec\"},\"reporting_group_id\":74,\"discovery_data_source_id\":48,\"reporter\":\"F. Forster, F.E. Bauer, G. Pignata, A. Munoz-Arancibia, A. Mourao, R. Dastidar, L. Hernandez-Garcia, L. Galbany, E. Camacho, J. Silva-Farfan, J. Arredondo, G. Cabrera-Vives, R. Carrasco-Davis, P.A. Estevez, P. Huijse, E. Reyes, I. Reyes, P. Sanchez-Saez, C. Valenzuela, E. Castillo, D. Ruz-Mieres, D. Rodriguez-Mancini, M. Catelan, S. Eyheramendy, M.J. Graham on behalf of the ALeRCE broker\",\"discovery_datetime\":\"2022-07-19 05:48:30.001\",\"at_type\":1,\"internal_name\":\"ZTF22aautnrr\",\"remarks\":\"SN candidate classified using ALeRCE\\'s stamp classifier (Carrasco-Davis et al. 2021) and the public ZTF stream. Discovery image and light curve in http:\\\\/\\\\/alerce.online\\\\/object\\\\/ZTF22aautnrr \",\"non_detection\":{\"obsdate\":\"2022-07-19 04:44:36.001\",\"limiting_flux\":20.3971,\"flux_units\":1,\"filter_value\":111,\"instrument_value\":196,\"exptime\":30,\"observer\":\"Robot\",\"comments\":\"Data provided by ZTF\"},\"photometry\":{\"photometry_group\":{\"0\":{\"obsdate\":\"2022-07-19 05:48:30.001\",\"flux\":20.7484,\"flux_error\":0.350923,\"limiting_flux\":20.3232,\"flux_units\":1,\"filter_value\":111,\"instrument_value\":196,\"exptime\":30,\"observer\":\"Robot\",\"comments\":\"Data provided by ZTF\"},\"1\":{\"obsdate\":\"2022-07-21 05:49:08.000\",\"flux\":20.4557,\"flux_error\":0.237264,\"limiting_flux\":20.413,\"flux_units\":1,\"filter_value\":110,\"instrument_value\":196,\"exptime\":30,\"observer\":\"Robot\",\"comments\":\"Data provided by ZTF\"},\"2\":{\"obsdate\":\"2022-07-23 06:21:10.002\",\"flux\":20.2159,\"flux_error\":0.276553,\"limiting_flux\":20.1984,\"flux_units\":1,\"filter_value\":111,\"instrument_value\":196,\"exptime\":30,\"observer\":\"Robot\",\"comments\":\"Data provided by ZTF\"},\"3\":{\"obsdate\":\"2022-07-23 06:48:07.004\",\"flux\":20.071705,\"flux_error\":0.2119405,\"limiting_flux\":20.4351,\"flux_units\":1,\"filter_value\":110,\"instrument_value\":196,\"exptime\":30,\"observer\":\"Robot\",\"comments\":\"Data provided by ZTF\"}}},\"host_name\":\"SDSS J144017.49+451836.7\"},\"29\":{\"ra\":{\"value\":297.7491806333333,\"error\":0.085,\"units\":\"arcsec\"},\"dec\":{\"value\":58.855789200000004,\"error\":0.085,\"units\":\"arcsec\"},\"reporting_group_id\":74,\"discovery_data_source_id\":48,\"reporter\":\"F. Forster, F.E. Bauer, G. Pignata, A. Munoz-Arancibia, A. Mourao, R. Dastidar, L. Hernandez-Garcia, L. Galbany, E. Camacho, J. Silva-Farfan, J. Arredondo, G. Cabrera-Vives, R. Carrasco-Davis, P.A. Estevez, P. Huijse, E. Reyes, I. Reyes, P. Sanchez-Saez, C. Valenzuela, E. Castillo, D. Ruz-Mieres, D. Rodriguez-Mancini, M. Catelan, S. Eyheramendy, M.J. Graham on behalf of the ALeRCE broker\",\"discovery_datetime\":\"2022-07-21 06:46:12.999\",\"at_type\":1,\"internal_name\":\"ZTF22aaunsga\",\"remarks\":\"Early SN candidate (g-rise > 0.08+-0.01 mag\\\\/day) classified using ALeRCE\\'s stamp classifier (Carrasco-Davis et al. 2021) and the public ZTF stream. Discovery image and light curve in http:\\\\/\\\\/alerce.online\\\\/object\\\\/ZTF22aaunsga \",\"non_detection\":{\"obsdate\":\"2022-07-19 09:11:21.998\",\"limiting_flux\":20.3353,\"flux_units\":1,\"filter_value\":111,\"instrument_value\":196,\"exptime\":30,\"observer\":\"Robot\",\"comments\":\"Data provided by ZTF\"},\"photometry\":{\"photometry_group\":{\"0\":{\"obsdate\":\"2022-07-21 06:46:12.999\",\"flux\":19.693003,\"flux_error\":0.11374256,\"limiting_flux\":20.454239,\"flux_units\":1,\"filter_value\":110,\"instrument_value\":196,\"exptime\":30,\"observer\":\"Robot\",\"comments\":\"Data provided by ZTF\"},\"1\":{\"obsdate\":\"2022-07-21 08:52:42.997\",\"flux\":19.863806,\"flux_error\":0.1414871,\"limiting_flux\":20.29499,\"flux_units\":1,\"filter_value\":110,\"instrument_value\":196,\"exptime\":30,\"observer\":\"Robot\",\"comments\":\"Data provided by ZTF\"},\"2\":{\"obsdate\":\"2022-07-23 07:06:32.000\",\"flux\":19.841076,\"flux_error\":0.11428616,\"limiting_flux\":20.614164,\"flux_units\":1,\"filter_value\":110,\"instrument_value\":196,\"exptime\":30,\"observer\":\"Robot\",\"comments\":\"Data provided by ZTF\"}}},\"host_name\":\"WISEA J195059.71+585122.0\"},\"30\":{\"ra\":{\"value\":321.1991689333333,\"error\":0.085,\"units\":\"arcsec\"},\"dec\":{\"value\":-4.844109433333333,\"error\":0.085,\"units\":\"arcsec\"},\"reporting_group_id\":74,\"discovery_data_source_id\":48,\"reporter\":\"F. Forster, F.E. Bauer, G. Pignata, A. Munoz-Arancibia, A. Mourao, R. Dastidar, L. Hernandez-Garcia, L. Galbany, E. Camacho, J. Silva-Farfan, J. Arredondo, G. Cabrera-Vives, R. Carrasco-Davis, P.A. Estevez, P. Huijse, E. Reyes, I. Reyes, P. Sanchez-Saez, C. Valenzuela, E. Castillo, D. Ruz-Mieres, D. Rodriguez-Mancini, M. Catelan, S. Eyheramendy, M.J. Graham on behalf of the ALeRCE broker\",\"discovery_datetime\":\"2022-07-19 10:32:00.001\",\"at_type\":1,\"internal_name\":\"ZTF22aaujkdb\",\"remarks\":\"SN candidate classified using ALeRCE\\'s stamp classifier (Carrasco-Davis et al. 2021) and the public ZTF stream. Discovery image and light curve in http:\\\\/\\\\/alerce.online\\\\/object\\\\/ZTF22aaujkdb \",\"non_detection\":{\"obsdate\":\"2022-07-16 10:03:59.003\",\"limiting_flux\":19.3939,\"flux_units\":1,\"filter_value\":111,\"instrument_value\":196,\"exptime\":30,\"observer\":\"Robot\",\"comments\":\"Data provided by ZTF\"},\"photometry\":{\"photometry_group\":{\"0\":{\"obsdate\":\"2022-07-19 10:32:00.001\",\"flux\":20.1472,\"flux_error\":0.233713,\"limiting_flux\":20.1497,\"flux_units\":1,\"filter_value\":111,\"instrument_value\":196,\"exptime\":30,\"observer\":\"Robot\",\"comments\":\"Data provided by ZTF\"},\"1\":{\"obsdate\":\"2022-07-21 08:37:16.997\",\"flux\":20.0662,\"flux_error\":0.247868,\"limiting_flux\":20.0546,\"flux_units\":1,\"filter_value\":110,\"instrument_value\":196,\"exptime\":30,\"observer\":\"Robot\",\"comments\":\"Data provided by ZTF\"},\"2\":{\"obsdate\":\"2022-07-23 08:28:13.999\",\"flux\":20.006914,\"flux_error\":0.15255904,\"limiting_flux\":20.76013,\"flux_units\":1,\"filter_value\":110,\"instrument_value\":196,\"exptime\":30,\"observer\":\"Robot\",\"comments\":\"Data provided by ZTF\"}}},\"host_name\":\"SDSS J212447.84-045040.4\"},\"31\":{\"ra\":{\"value\":253.2908189666667,\"error\":0.085,\"units\":\"arcsec\"},\"dec\":{\"value\":43.263249333333334,\"error\":0.085,\"units\":\"arcsec\"},\"reporting_group_id\":74,\"discovery_data_source_id\":48,\"reporter\":\"F. Forster, F.E. Bauer, G. Pignata, A. Munoz-Arancibia, A. Mourao, R. Dastidar, L. Hernandez-Garcia, L. Galbany, E. Camacho, J. Silva-Farfan, J. Arredondo, G. Cabrera-Vives, R. Carrasco-Davis, P.A. Estevez, P. Huijse, E. Reyes, I. Reyes, P. Sanchez-Saez, C. Valenzuela, E. Castillo, D. Ruz-Mieres, D. Rodriguez-Mancini, M. Catelan, S. Eyheramendy, M.J. Graham on behalf of the ALeRCE broker\",\"discovery_datetime\":\"2022-07-19 07:15:36.000\",\"at_type\":1,\"internal_name\":\"ZTF22aauhudo\",\"remarks\":\"Early SN candidate (r-rise > 1.00 mag\\\\/day) classified using ALeRCE\\'s stamp classifier (Carrasco-Davis et al. 2021) and the public ZTF stream. Discovery image and light curve in http:\\\\/\\\\/alerce.online\\\\/object\\\\/ZTF22aauhudo \",\"non_detection\":{\"obsdate\":\"2022-07-19 06:16:37.998\",\"limiting_flux\":20.5971,\"flux_units\":1,\"filter_value\":111,\"instrument_value\":196,\"exptime\":30,\"observer\":\"Robot\",\"comments\":\"Data provided by ZTF\"},\"photometry\":{\"photometry_group\":{\"0\":{\"obsdate\":\"2022-07-19 07:15:36.000\",\"flux\":20.039715,\"flux_error\":0.18860479,\"limiting_flux\":20.41101,\"flux_units\":1,\"filter_value\":111,\"instrument_value\":196,\"exptime\":30,\"observer\":\"Robot\",\"comments\":\"Data provided by ZTF\"},\"1\":{\"obsdate\":\"2022-07-21 06:18:06.998\",\"flux\":20.25684,\"flux_error\":0.15681185,\"limiting_flux\":20.664627,\"flux_units\":1,\"filter_value\":110,\"instrument_value\":196,\"exptime\":30,\"observer\":\"Robot\",\"comments\":\"Data provided by ZTF\"},\"2\":{\"obsdate\":\"2022-07-23 06:13:36.998\",\"flux\":19.93447,\"flux_error\":0.1849779,\"limiting_flux\":20.590218,\"flux_units\":1,\"filter_value\":111,\"instrument_value\":196,\"exptime\":30,\"observer\":\"Robot\",\"comments\":\"Data provided by ZTF\"}}},\"host_name\":\"SDSS J165309.74+431547.7\",\"host_redshift\":0.1134516},\"32\":{\"ra\":{\"value\":254.75328439999998,\"error\":0.085,\"units\":\"arcsec\"},\"dec\":{\"value\":38.076430574999996,\"error\":0.085,\"units\":\"arcsec\"},\"reporting_group_id\":74,\"discovery_data_source_id\":48,\"reporter\":\"F. Forster, F.E. Bauer, G. Pignata, A. Munoz-Arancibia, A. Mourao, R. Dastidar, L. Hernandez-Garcia, L. Galbany, E. Camacho, J. Silva-Farfan, J. Arredondo, G. Cabrera-Vives, R. Carrasco-Davis, P.A. Estevez, P. Huijse, E. Reyes, I. Reyes, P. Sanchez-Saez, C. Valenzuela, E. Castillo, D. Ruz-Mieres, D. Rodriguez-Mancini, M. Catelan, S. Eyheramendy, M.J. Graham on behalf of the ALeRCE broker\",\"discovery_datetime\":\"2022-07-19 06:16:37.998\",\"at_type\":1,\"internal_name\":\"ZTF22aaugvnu\",\"remarks\":\"SN candidate classified using ALeRCE\\'s stamp classifier (Carrasco-Davis et al. 2021) and the public ZTF stream. Discovery image and light curve in http:\\\\/\\\\/alerce.online\\\\/object\\\\/ZTF22aaugvnu \",\"non_detection\":{\"obsdate\":\"2022-07-16 07:52:39.003\",\"limiting_flux\":20.2073,\"flux_units\":1,\"filter_value\":111,\"instrument_value\":196,\"exptime\":30,\"observer\":\"Robot\",\"comments\":\"Data provided by ZTF\"},\"photometry\":{\"photometry_group\":{\"0\":{\"obsdate\":\"2022-07-19 06:16:37.998\",\"flux\":20.7673,\"flux_error\":0.28873,\"limiting_flux\":20.7064,\"flux_units\":1,\"filter_value\":111,\"instrument_value\":196,\"exptime\":30,\"observer\":\"Robot\",\"comments\":\"Data provided by ZTF\"},\"1\":{\"obsdate\":\"2022-07-19 07:15:36.000\",\"flux\":20.6131,\"flux_error\":0.280005,\"limiting_flux\":20.5111,\"flux_units\":1,\"filter_value\":111,\"instrument_value\":196,\"exptime\":30,\"observer\":\"Robot\",\"comments\":\"Data provided by ZTF\"},\"2\":{\"obsdate\":\"2022-07-21 06:18:06.998\",\"flux\":20.5634,\"flux_error\":0.249036,\"limiting_flux\":20.6527,\"flux_units\":1,\"filter_value\":110,\"instrument_value\":196,\"exptime\":30,\"observer\":\"Robot\",\"comments\":\"Data provided by ZTF\"},\"3\":{\"obsdate\":\"2022-07-23 06:13:36.998\",\"flux\":20.599493,\"flux_error\":0.19572867,\"limiting_flux\":20.782799,\"flux_units\":1,\"filter_value\":111,\"instrument_value\":196,\"exptime\":30,\"observer\":\"Robot\",\"comments\":\"Data provided by ZTF\"}}},\"host_name\":\"SDSS J165900.93+380435.0\"},\"33\":{\"ra\":{\"value\":252.6592641,\"error\":0.085,\"units\":\"arcsec\"},\"dec\":{\"value\":31.7121462,\"error\":0.085,\"units\":\"arcsec\"},\"reporting_group_id\":74,\"discovery_data_source_id\":48,\"reporter\":\"F. Forster, F.E. Bauer, G. Pignata, A. Munoz-Arancibia, A. Mourao, R. Dastidar, L. Hernandez-Garcia, L. Galbany, E. Camacho, J. Silva-Farfan, J. Arredondo, G. Cabrera-Vives, R. Carrasco-Davis, P.A. Estevez, P. Huijse, E. Reyes, I. Reyes, P. Sanchez-Saez, C. Valenzuela, E. Castillo, D. Ruz-Mieres, D. Rodriguez-Mancini, M. Catelan, S. Eyheramendy, M.J. Graham on behalf of the ALeRCE broker\",\"discovery_datetime\":\"2022-07-21 06:14:42.999\",\"at_type\":1,\"internal_name\":\"ZTF22aatymow\",\"remarks\":\"SN candidate classified using ALeRCE\\'s stamp classifier (Carrasco-Davis et al. 2021) and the public ZTF stream. Discovery image and light curve in http:\\\\/\\\\/alerce.online\\\\/object\\\\/ZTF22aatymow \",\"non_detection\":{\"obsdate\":\"2022-07-21 05:54:41.003\",\"limiting_flux\":20.7331,\"flux_units\":1,\"filter_value\":110,\"instrument_value\":196,\"exptime\":30,\"observer\":\"Robot\",\"comments\":\"Data provided by ZTF\"},\"photometry\":{\"photometry_group\":{\"0\":{\"obsdate\":\"2022-07-21 06:14:42.999\",\"flux\":20.7455,\"flux_error\":0.272479,\"limiting_flux\":20.7284,\"flux_units\":1,\"filter_value\":110,\"instrument_value\":196,\"exptime\":30,\"observer\":\"Robot\",\"comments\":\"Data provided by ZTF\"},\"1\":{\"obsdate\":\"2022-07-23 06:12:56.002\",\"flux\":20.754187,\"flux_error\":0.1974771,\"limiting_flux\":20.77025,\"flux_units\":1,\"filter_value\":111,\"instrument_value\":196,\"exptime\":30,\"observer\":\"Robot\",\"comments\":\"Data provided by ZTF\"}}},\"host_name\":\"SDSS J165038.39+314244.3\"},\"34\":{\"ra\":{\"value\":229.655153725,\"error\":0.085,\"units\":\"arcsec\"},\"dec\":{\"value\":52.531838025,\"error\":0.085,\"units\":\"arcsec\"},\"reporting_group_id\":74,\"discovery_data_source_id\":48,\"reporter\":\"F. Forster, F.E. Bauer, G. Pignata, A. Munoz-Arancibia, A. Mourao, R. Dastidar, L. Hernandez-Garcia, L. Galbany, E. Camacho, J. Silva-Farfan, J. Arredondo, G. Cabrera-Vives, R. Carrasco-Davis, P.A. Estevez, P. Huijse, E. Reyes, I. Reyes, P. Sanchez-Saez, C. Valenzuela, E. Castillo, D. Ruz-Mieres, D. Rodriguez-Mancini, M. Catelan, S. Eyheramendy, M.J. Graham on behalf of the ALeRCE broker\",\"discovery_datetime\":\"2022-07-21 06:27:09.003\",\"at_type\":1,\"internal_name\":\"ZTF22aatylyb\",\"remarks\":\"SN candidate classified using ALeRCE\\'s stamp classifier (Carrasco-Davis et al. 2021) and the public ZTF stream. Discovery image and light curve in http:\\\\/\\\\/alerce.online\\\\/object\\\\/ZTF22aatylyb \",\"non_detection\":{\"obsdate\":\"2022-07-20 06:46:26.996\",\"limiting_flux\":20.0895,\"flux_units\":1,\"filter_value\":110,\"instrument_value\":196,\"exptime\":30,\"observer\":\"Robot\",\"comments\":\"Data provided by ZTF\"},\"photometry\":{\"photometry_group\":{\"0\":{\"obsdate\":\"2022-07-21 06:27:09.003\",\"flux\":20.3921,\"flux_error\":0.267371,\"limiting_flux\":20.2931,\"flux_units\":1,\"filter_value\":110,\"instrument_value\":196,\"exptime\":30,\"observer\":\"Robot\",\"comments\":\"Data provided by ZTF\"},\"1\":{\"obsdate\":\"2022-07-22 06:49:58.002\",\"flux\":20.2703,\"flux_error\":0.294896,\"limiting_flux\":20.1697,\"flux_units\":1,\"filter_value\":110,\"instrument_value\":196,\"exptime\":30,\"observer\":\"Robot\",\"comments\":\"Data provided by ZTF\"},\"2\":{\"obsdate\":\"2022-07-23 06:21:50.999\",\"flux\":19.996662,\"flux_error\":0.13768415,\"limiting_flux\":20.4633,\"flux_units\":1,\"filter_value\":111,\"instrument_value\":196,\"exptime\":30,\"observer\":\"Robot\",\"comments\":\"Data provided by ZTF\"},\"3\":{\"obsdate\":\"2022-07-23 06:46:03.996\",\"flux\":19.74738,\"flux_error\":0.13120386,\"limiting_flux\":20.531668,\"flux_units\":1,\"filter_value\":110,\"instrument_value\":196,\"exptime\":30,\"observer\":\"Robot\",\"comments\":\"Data provided by ZTF\"}}},\"host_name\":\"SDSS J151837.27+523155.4\"},\"35\":{\"ra\":{\"value\":230.01572356666665,\"error\":0.085,\"units\":\"arcsec\"},\"dec\":{\"value\":45.302818699999996,\"error\":0.085,\"units\":\"arcsec\"},\"reporting_group_id\":74,\"discovery_data_source_id\":48,\"reporter\":\"F. Forster, F.E. Bauer, G. Pignata, A. Munoz-Arancibia, A. Mourao, R. Dastidar, L. Hernandez-Garcia, L. Galbany, E. Camacho, J. Silva-Farfan, J. Arredondo, G. Cabrera-Vives, R. Carrasco-Davis, P.A. Estevez, P. Huijse, E. Reyes, I. Reyes, P. Sanchez-Saez, C. Valenzuela, E. Castillo, D. Ruz-Mieres, D. Rodriguez-Mancini, M. Catelan, S. Eyheramendy, M.J. Graham on behalf of the ALeRCE broker\",\"discovery_datetime\":\"2022-07-20 06:08:19.997\",\"at_type\":1,\"internal_name\":\"ZTF18aanabqp\",\"remarks\":\"Early SN candidate (r-rise > 0.16+-0.03 mag\\\\/day) classified using ALeRCE\\'s stamp classifier (Carrasco-Davis et al. 2021) and the public ZTF stream. Discovery image and light curve in http:\\\\/\\\\/alerce.online\\\\/object\\\\/ZTF18aanabqp \",\"non_detection\":{\"obsdate\":\"2022-07-17 05:21:16.004\",\"limiting_flux\":20.416,\"flux_units\":1,\"filter_value\":111,\"instrument_value\":196,\"exptime\":30,\"observer\":\"Robot\",\"comments\":\"Data provided by ZTF\"},\"photometry\":{\"photometry_group\":{\"0\":{\"obsdate\":\"2022-07-20 06:08:19.997\",\"flux\":19.9729,\"flux_error\":0.220618,\"limiting_flux\":20.3271,\"flux_units\":1,\"filter_value\":110,\"instrument_value\":196,\"exptime\":30,\"observer\":\"Robot\",\"comments\":\"Data provided by ZTF\"},\"1\":{\"obsdate\":\"2022-07-22 06:17:04.998\",\"flux\":19.588713,\"flux_error\":0.1635155,\"limiting_flux\":20.163166,\"flux_units\":1,\"filter_value\":111,\"instrument_value\":196,\"exptime\":30,\"observer\":\"Robot\",\"comments\":\"Data provided by ZTF\"},\"2\":{\"obsdate\":\"2022-07-22 06:54:51.002\",\"flux\":19.556711,\"flux_error\":0.1464324,\"limiting_flux\":20.272678,\"flux_units\":1,\"filter_value\":110,\"instrument_value\":196,\"exptime\":30,\"observer\":\"Robot\",\"comments\":\"Data provided by ZTF\"}}},\"host_name\":\"SDSS J152003.79+451811.3\",\"host_redshift\":0.09894894}}}}}'"
      ]
     },
     "execution_count": 172,
     "metadata": {},
     "output_type": "execute_result"
    }
   ],
   "source": [
    "r.content"
   ]
  },
  {
   "cell_type": "markdown",
   "metadata": {},
   "source": [
    "## Show feedback"
   ]
  },
  {
   "cell_type": "code",
   "execution_count": 173,
   "metadata": {
    "ExecuteTime": {
     "end_time": "2022-07-23T23:57:10.718889Z",
     "start_time": "2022-07-23T23:57:10.692919Z"
    }
   },
   "outputs": [],
   "source": [
    "# function for getting reply from report                             \n",
    "def reply(url, report_id):                                           \n",
    "    try:                                                               \n",
    "        # url for getting report reply                                   \n",
    "        reply_url=url+'/bulk-report-reply'                               \n",
    "        # construct list of (key,value) pairs                                \n",
    "        reply_data=[('api_key',(None, api_key)),                         \n",
    "                    ('report_id',(None,report_id))]                      \n",
    "        # send report ID using request module                            \n",
    "        response=requests.post(reply_url, files=reply_data, headers=alerce.tns_headers)              \n",
    "        # return response                                                \n",
    "        return response                                                  \n",
    "    except Exception as e:                                             \n",
    "        return [None,'Error message : \\n'+str(e)]  "
   ]
  },
  {
   "cell_type": "code",
   "execution_count": 27,
   "metadata": {
    "ExecuteTime": {
     "end_time": "2022-07-23T15:57:07.484287Z",
     "start_time": "2022-07-23T15:57:06.510533Z"
    },
    "scrolled": true
   },
   "outputs": [
    {
     "name": "stdout",
     "output_type": "stream",
     "text": [
      "{'at_report': [{'100': {'message': 'Transient object was inserted.', 'objname': '2022pji', 'message_id': 100}, 'at_rep': {'103': {'message': 'Submitted', 'message_id': 103}}}]}\n"
     ]
    }
   ],
   "source": [
    "try:\n",
    "    feedback = reply(url_tns_api, r.json()[\"data\"][\"report_id\"]).json()[\"data\"][\"feedback\"]\n",
    "    print(feedback)\n",
    "except:\n",
    "    print(\"Report not available, probably being processed. Please try again...\")"
   ]
  },
  {
   "cell_type": "markdown",
   "metadata": {
    "ExecuteTime": {
     "end_time": "2021-07-31T20:36:26.016443Z",
     "start_time": "2021-07-31T20:36:25.984944Z"
    }
   },
   "source": [
    "## Check the following link and confirm that the latest SNe are from the reported day\n",
    "\n",
    "https://www.wis-tns.org/search?&discovered_period_value=1&discovered_period_units=days&reporting_groupid[]=74&discovery_data_source_id=48&num_page=50&format=html&edit[type]=&edit[objname]=&edit[id]=&display[redshift]=1&display[hostname]=1&display[host_redshift]=1&display[source_group_name]=1&display[classifying_source_group_name]=1&display[discovering_instrument_name]=0&display[classifing_instrument_name]=0&display[programs_name]=0&display[internal_name]=1&display[isTNS_AT]=0&display[public]=1&display[end_pop_period]=0&display[spectra_count]=1&display[discoverymag]=1&display[discmagfilter]=1&display[discoverydate]=1&display[discoverer]=1&display[remarks]=0&display[sources]=0&display[bibcode]=0&display[ext_catalogs]=0&sort=desc&order=discoverydate"
   ]
  },
  {
   "cell_type": "markdown",
   "metadata": {},
   "source": [
    "# Prepare SkyPortal report"
   ]
  },
  {
   "cell_type": "code",
   "execution_count": 15,
   "metadata": {
    "ExecuteTime": {
     "end_time": "2021-11-06T20:38:39.162158Z",
     "start_time": "2021-11-06T20:38:39.127650Z"
    }
   },
   "outputs": [
    {
     "data": {
      "text/html": [
       "<div>\n",
       "<style scoped>\n",
       "    .dataframe tbody tr th:only-of-type {\n",
       "        vertical-align: middle;\n",
       "    }\n",
       "\n",
       "    .dataframe tbody tr th {\n",
       "        vertical-align: top;\n",
       "    }\n",
       "\n",
       "    .dataframe thead th {\n",
       "        text-align: right;\n",
       "    }\n",
       "</style>\n",
       "<table border=\"1\" class=\"dataframe\">\n",
       "  <thead>\n",
       "    <tr style=\"text-align: right;\">\n",
       "      <th></th>\n",
       "      <th>host_name</th>\n",
       "      <th>host_ra</th>\n",
       "      <th>host_dec</th>\n",
       "      <th>host_offset</th>\n",
       "      <th>host_source</th>\n",
       "      <th>host_redshift_spec</th>\n",
       "      <th>host_redshift</th>\n",
       "      <th>host_redshift_error</th>\n",
       "      <th>host_redshift_type</th>\n",
       "    </tr>\n",
       "    <tr>\n",
       "      <th>oid</th>\n",
       "      <th></th>\n",
       "      <th></th>\n",
       "      <th></th>\n",
       "      <th></th>\n",
       "      <th></th>\n",
       "      <th></th>\n",
       "      <th></th>\n",
       "      <th></th>\n",
       "      <th></th>\n",
       "    </tr>\n",
       "  </thead>\n",
       "  <tbody>\n",
       "    <tr>\n",
       "      <th>ZTF21acmqvbd</th>\n",
       "      <td>NULL</td>\n",
       "      <td>NULL</td>\n",
       "      <td>NULL</td>\n",
       "      <td>NULL</td>\n",
       "      <td>NULL</td>\n",
       "      <td>NULL</td>\n",
       "      <td>NULL</td>\n",
       "      <td>NULL</td>\n",
       "      <td>NULL</td>\n",
       "    </tr>\n",
       "    <tr>\n",
       "      <th>ZTF21acmoazo</th>\n",
       "      <td>SDSS J095114.37+330955.2</td>\n",
       "      <td>147.809891</td>\n",
       "      <td>33.165342</td>\n",
       "      <td>2.588265</td>\n",
       "      <td>SDSSDR16</td>\n",
       "      <td>False</td>\n",
       "      <td>0.134061</td>\n",
       "      <td>0.037996</td>\n",
       "      <td>photoz</td>\n",
       "    </tr>\n",
       "    <tr>\n",
       "      <th>ZTF21acmnaqg</th>\n",
       "      <td>WISEA J080031.69-062939.8</td>\n",
       "      <td>120.13169</td>\n",
       "      <td>-6.49463</td>\n",
       "      <td>7.002093</td>\n",
       "      <td>NED</td>\n",
       "      <td>NULL</td>\n",
       "      <td>NULL</td>\n",
       "      <td>NULL</td>\n",
       "      <td>NULL</td>\n",
       "    </tr>\n",
       "    <tr>\n",
       "      <th>ZTF21acmjdkw</th>\n",
       "      <td>GALEXASC J065243.72+541801.4</td>\n",
       "      <td>103.18218</td>\n",
       "      <td>54.30041</td>\n",
       "      <td>0.489825</td>\n",
       "      <td>NED</td>\n",
       "      <td>NULL</td>\n",
       "      <td>NULL</td>\n",
       "      <td>NULL</td>\n",
       "      <td>NULL</td>\n",
       "    </tr>\n",
       "    <tr>\n",
       "      <th>ZTF21acmiozw</th>\n",
       "      <td>WISEA J001315.44+445453.0</td>\n",
       "      <td>3.31425</td>\n",
       "      <td>44.91467</td>\n",
       "      <td>9.66068</td>\n",
       "      <td>NED</td>\n",
       "      <td>False</td>\n",
       "      <td>0.108361</td>\n",
       "      <td>NULL</td>\n",
       "      <td>PHOT</td>\n",
       "    </tr>\n",
       "    <tr>\n",
       "      <th>...</th>\n",
       "      <td>...</td>\n",
       "      <td>...</td>\n",
       "      <td>...</td>\n",
       "      <td>...</td>\n",
       "      <td>...</td>\n",
       "      <td>...</td>\n",
       "      <td>...</td>\n",
       "      <td>...</td>\n",
       "      <td>...</td>\n",
       "    </tr>\n",
       "    <tr>\n",
       "      <th>ZTF21aciwbbr</th>\n",
       "      <td>SDSS J224030.80-005111.5</td>\n",
       "      <td>340.128353</td>\n",
       "      <td>-0.853216</td>\n",
       "      <td>7.215836</td>\n",
       "      <td>SDSSDR16</td>\n",
       "      <td>True</td>\n",
       "      <td>0.088589</td>\n",
       "      <td>0.000008</td>\n",
       "      <td>specz</td>\n",
       "    </tr>\n",
       "    <tr>\n",
       "      <th>ZTF21aciuqse</th>\n",
       "      <td>SDSS J211437.31+100724.6</td>\n",
       "      <td>318.655445</td>\n",
       "      <td>10.123511</td>\n",
       "      <td>0.824313</td>\n",
       "      <td>SDSSDR16</td>\n",
       "      <td>False</td>\n",
       "      <td>0.143854</td>\n",
       "      <td>0.028398</td>\n",
       "      <td>photoz</td>\n",
       "    </tr>\n",
       "    <tr>\n",
       "      <th>ZTF21acisvbk</th>\n",
       "      <td>SDSS J011411.55+075415.0</td>\n",
       "      <td>18.548134</td>\n",
       "      <td>7.904168</td>\n",
       "      <td>1.04024</td>\n",
       "      <td>SDSSDR16</td>\n",
       "      <td>False</td>\n",
       "      <td>0.07159</td>\n",
       "      <td>0.021361</td>\n",
       "      <td>photoz</td>\n",
       "    </tr>\n",
       "    <tr>\n",
       "      <th>ZTF21acfzjxj</th>\n",
       "      <td>WISEA J233703.71-173850.9</td>\n",
       "      <td>354.26564</td>\n",
       "      <td>-17.64742</td>\n",
       "      <td>0.643999</td>\n",
       "      <td>NED</td>\n",
       "      <td>NULL</td>\n",
       "      <td>NULL</td>\n",
       "      <td>NULL</td>\n",
       "      <td>NULL</td>\n",
       "    </tr>\n",
       "    <tr>\n",
       "      <th>ZTF18abxoqkd</th>\n",
       "      <td>SDSS J004739.63-054419.5</td>\n",
       "      <td>11.915107</td>\n",
       "      <td>-5.738773</td>\n",
       "      <td>0.941818</td>\n",
       "      <td>SDSSDR16</td>\n",
       "      <td>False</td>\n",
       "      <td>0.065722</td>\n",
       "      <td>0.028499</td>\n",
       "      <td>photoz</td>\n",
       "    </tr>\n",
       "  </tbody>\n",
       "</table>\n",
       "<p>77 rows × 9 columns</p>\n",
       "</div>"
      ],
      "text/plain": [
       "                                 host_name     host_ra   host_dec host_offset  \\\n",
       "oid                                                                             \n",
       "ZTF21acmqvbd                          NULL        NULL       NULL        NULL   \n",
       "ZTF21acmoazo      SDSS J095114.37+330955.2  147.809891  33.165342    2.588265   \n",
       "ZTF21acmnaqg     WISEA J080031.69-062939.8   120.13169   -6.49463    7.002093   \n",
       "ZTF21acmjdkw  GALEXASC J065243.72+541801.4   103.18218   54.30041    0.489825   \n",
       "ZTF21acmiozw     WISEA J001315.44+445453.0     3.31425   44.91467     9.66068   \n",
       "...                                    ...         ...        ...         ...   \n",
       "ZTF21aciwbbr      SDSS J224030.80-005111.5  340.128353  -0.853216    7.215836   \n",
       "ZTF21aciuqse      SDSS J211437.31+100724.6  318.655445  10.123511    0.824313   \n",
       "ZTF21acisvbk      SDSS J011411.55+075415.0   18.548134   7.904168     1.04024   \n",
       "ZTF21acfzjxj     WISEA J233703.71-173850.9   354.26564  -17.64742    0.643999   \n",
       "ZTF18abxoqkd      SDSS J004739.63-054419.5   11.915107  -5.738773    0.941818   \n",
       "\n",
       "             host_source host_redshift_spec host_redshift host_redshift_error  \\\n",
       "oid                                                                             \n",
       "ZTF21acmqvbd        NULL               NULL          NULL                NULL   \n",
       "ZTF21acmoazo    SDSSDR16              False      0.134061            0.037996   \n",
       "ZTF21acmnaqg         NED               NULL          NULL                NULL   \n",
       "ZTF21acmjdkw         NED               NULL          NULL                NULL   \n",
       "ZTF21acmiozw         NED              False      0.108361                NULL   \n",
       "...                  ...                ...           ...                 ...   \n",
       "ZTF21aciwbbr    SDSSDR16               True      0.088589            0.000008   \n",
       "ZTF21aciuqse    SDSSDR16              False      0.143854            0.028398   \n",
       "ZTF21acisvbk    SDSSDR16              False       0.07159            0.021361   \n",
       "ZTF21acfzjxj         NED               NULL          NULL                NULL   \n",
       "ZTF18abxoqkd    SDSSDR16              False      0.065722            0.028499   \n",
       "\n",
       "             host_redshift_type  \n",
       "oid                              \n",
       "ZTF21acmqvbd               NULL  \n",
       "ZTF21acmoazo             photoz  \n",
       "ZTF21acmnaqg               NULL  \n",
       "ZTF21acmjdkw               NULL  \n",
       "ZTF21acmiozw               PHOT  \n",
       "...                         ...  \n",
       "ZTF21aciwbbr              specz  \n",
       "ZTF21aciuqse             photoz  \n",
       "ZTF21acisvbk             photoz  \n",
       "ZTF21acfzjxj               NULL  \n",
       "ZTF18abxoqkd             photoz  \n",
       "\n",
       "[77 rows x 9 columns]"
      ]
     },
     "execution_count": 15,
     "metadata": {},
     "output_type": "execute_result"
    }
   ],
   "source": [
    "alerce.candidate_hosts = pd.read_csv(\"hosts/%s_hosts.csv\" % refstring)\n",
    "alerce.candidate_hosts.set_index(\"oid\", inplace=True)\n",
    "alerce.candidate_hosts.fillna(\"NULL\", inplace=True)\n",
    "alerce.candidate_hosts"
   ]
  },
  {
   "cell_type": "markdown",
   "metadata": {},
   "source": [
    "## Load credentials"
   ]
  },
  {
   "cell_type": "code",
   "execution_count": 26,
   "metadata": {
    "ExecuteTime": {
     "end_time": "2021-10-24T19:39:28.630333Z",
     "start_time": "2021-10-24T19:39:28.618539Z"
    }
   },
   "outputs": [],
   "source": [
    "skyportal_url = \"http://desi2.lbl.gov:5000/api\"\n",
    "credentials_file = \"credentials_skyportal.json\"\n",
    "with open(credentials_file) as jsonfile:\n",
    "    params = json.load(jsonfile)\n",
    "token = params[\"token\"]"
   ]
  },
  {
   "cell_type": "markdown",
   "metadata": {},
   "source": [
    "## Build the report"
   ]
  },
  {
   "cell_type": "code",
   "execution_count": 27,
   "metadata": {
    "ExecuteTime": {
     "end_time": "2021-10-24T19:39:30.558432Z",
     "start_time": "2021-10-24T19:39:29.649964Z"
    },
    "scrolled": true
   },
   "outputs": [
    {
     "name": "stdout",
     "output_type": "stream",
     "text": [
      "\n",
      " 0 ZTF21acistjw\n"
     ]
    },
    {
     "ename": "KeyError",
     "evalue": "'ALERCE'",
     "output_type": "error",
     "traceback": [
      "\u001b[0;31m---------------------------------------------------------------------------\u001b[0m",
      "\u001b[0;31mKeyError\u001b[0m                                  Traceback (most recent call last)",
      "\u001b[0;32m<ipython-input-27-d13dd75893a9>\u001b[0m in \u001b[0;36m<module>\u001b[0;34m\u001b[0m\n\u001b[1;32m      5\u001b[0m         \u001b[0;32mcontinue\u001b[0m\u001b[0;34m\u001b[0m\u001b[0;34m\u001b[0m\u001b[0m\n\u001b[1;32m      6\u001b[0m     \u001b[0mprint\u001b[0m\u001b[0;34m(\u001b[0m\u001b[0;34m\"\\n\"\u001b[0m\u001b[0;34m,\u001b[0m \u001b[0mcounter\u001b[0m\u001b[0;34m,\u001b[0m \u001b[0moid\u001b[0m\u001b[0;34m)\u001b[0m\u001b[0;34m\u001b[0m\u001b[0;34m\u001b[0m\u001b[0m\n\u001b[0;32m----> 7\u001b[0;31m     \u001b[0msn_report\u001b[0m \u001b[0;34m=\u001b[0m \u001b[0malerce\u001b[0m\u001b[0;34m.\u001b[0m\u001b[0mdo_skyportal_report\u001b[0m\u001b[0;34m(\u001b[0m\u001b[0mskyportal_url\u001b[0m\u001b[0;34m,\u001b[0m \u001b[0mtoken\u001b[0m\u001b[0;34m,\u001b[0m \u001b[0moid\u001b[0m\u001b[0;34m,\u001b[0m \u001b[0mreporter\u001b[0m\u001b[0;34m,\u001b[0m \u001b[0mverbose\u001b[0m\u001b[0;34m=\u001b[0m\u001b[0;32mFalse\u001b[0m\u001b[0;34m,\u001b[0m \u001b[0mtest\u001b[0m\u001b[0;34m=\u001b[0m\u001b[0;32mFalse\u001b[0m\u001b[0;34m)\u001b[0m\u001b[0;34m\u001b[0m\u001b[0;34m\u001b[0m\u001b[0m\n\u001b[0m\u001b[1;32m      8\u001b[0m     \u001b[0;32mif\u001b[0m \u001b[0msn_report\u001b[0m\u001b[0;34m:\u001b[0m\u001b[0;31m# or oid == \"ZTF20abyptpc\":\u001b[0m\u001b[0;34m\u001b[0m\u001b[0;34m\u001b[0m\u001b[0m\n\u001b[1;32m      9\u001b[0m         \u001b[0mskyportal_report\u001b[0m\u001b[0;34m.\u001b[0m\u001b[0mappend\u001b[0m\u001b[0;34m(\u001b[0m\u001b[0msn_report\u001b[0m\u001b[0;34m)\u001b[0m\u001b[0;34m\u001b[0m\u001b[0;34m\u001b[0m\u001b[0m\n",
      "\u001b[0;32m~/Dropbox/Work/alercebroker/TNS_upload/lib/alerce_tns.py\u001b[0m in \u001b[0;36mdo_skyportal_report\u001b[0;34m(self, url, token, oid, reporter, verbose, test)\u001b[0m\n\u001b[1;32m    886\u001b[0m         \u001b[0mreport\u001b[0m\u001b[0;34m[\u001b[0m\u001b[0;34m\"candidates\"\u001b[0m\u001b[0;34m]\u001b[0m\u001b[0;34m[\u001b[0m\u001b[0;34m\"id\"\u001b[0m\u001b[0;34m]\u001b[0m \u001b[0;34m=\u001b[0m \u001b[0moid\u001b[0m            \u001b[0;31m# Name of the object\u001b[0m\u001b[0;34m\u001b[0m\u001b[0;34m\u001b[0m\u001b[0m\n\u001b[1;32m    887\u001b[0m         \u001b[0mreport\u001b[0m\u001b[0;34m[\u001b[0m\u001b[0;34m\"candidates\"\u001b[0m\u001b[0;34m]\u001b[0m\u001b[0;34m[\u001b[0m\u001b[0;34m\"origin\"\u001b[0m\u001b[0;34m]\u001b[0m \u001b[0;34m=\u001b[0m \u001b[0;34m\"ZTF\"\u001b[0m        \u001b[0;31m# Origin of the object.\u001b[0m\u001b[0;34m\u001b[0m\u001b[0;34m\u001b[0m\u001b[0m\n\u001b[0;32m--> 888\u001b[0;31m         \u001b[0mreport\u001b[0m\u001b[0;34m[\u001b[0m\u001b[0;34m\"candidates\"\u001b[0m\u001b[0;34m]\u001b[0m\u001b[0;34m[\u001b[0m\u001b[0;34m\"filter_ids\"\u001b[0m\u001b[0;34m]\u001b[0m \u001b[0;34m=\u001b[0m \u001b[0;34m[\u001b[0m\u001b[0mself\u001b[0m\u001b[0;34m.\u001b[0m\u001b[0mget_skyportal_filter_id\u001b[0m\u001b[0;34m(\u001b[0m\u001b[0murl\u001b[0m\u001b[0;34m,\u001b[0m \u001b[0mtoken\u001b[0m\u001b[0;34m)\u001b[0m\u001b[0;34m]\u001b[0m\u001b[0;34m\u001b[0m\u001b[0;34m\u001b[0m\u001b[0m\n\u001b[0m\u001b[1;32m    889\u001b[0m         \u001b[0mreport\u001b[0m\u001b[0;34m[\u001b[0m\u001b[0;34m\"annotation\"\u001b[0m\u001b[0;34m]\u001b[0m \u001b[0;34m=\u001b[0m \u001b[0;34m{\u001b[0m\u001b[0;34m}\u001b[0m\u001b[0;34m\u001b[0m\u001b[0;34m\u001b[0m\u001b[0m\n\u001b[1;32m    890\u001b[0m         \u001b[0mreport\u001b[0m\u001b[0;34m[\u001b[0m\u001b[0;34m\"annotation\"\u001b[0m\u001b[0;34m]\u001b[0m \u001b[0;34m=\u001b[0m \u001b[0;34m{\u001b[0m\u001b[0;34m}\u001b[0m\u001b[0;34m\u001b[0m\u001b[0;34m\u001b[0m\u001b[0m\n",
      "\u001b[0;32m~/Dropbox/Work/alercebroker/TNS_upload/lib/alerce_tns.py\u001b[0m in \u001b[0;36mget_skyportal_filter_id\u001b[0;34m(self, url, token)\u001b[0m\n\u001b[1;32m    852\u001b[0m             \u001b[0;32mfor\u001b[0m \u001b[0mi\u001b[0m \u001b[0;32min\u001b[0m \u001b[0mr\u001b[0m\u001b[0;34m.\u001b[0m\u001b[0mjson\u001b[0m\u001b[0;34m(\u001b[0m\u001b[0;34m)\u001b[0m\u001b[0;34m[\u001b[0m\u001b[0;34m\"data\"\u001b[0m\u001b[0;34m]\u001b[0m\u001b[0;34m:\u001b[0m\u001b[0;34m\u001b[0m\u001b[0;34m\u001b[0m\u001b[0m\n\u001b[1;32m    853\u001b[0m                 \u001b[0midcands\u001b[0m\u001b[0;34m[\u001b[0m\u001b[0mi\u001b[0m\u001b[0;34m[\u001b[0m\u001b[0;34m\"name\"\u001b[0m\u001b[0;34m]\u001b[0m\u001b[0;34m]\u001b[0m \u001b[0;34m=\u001b[0m \u001b[0mi\u001b[0m\u001b[0;34m[\u001b[0m\u001b[0;34m\"id\"\u001b[0m\u001b[0;34m]\u001b[0m\u001b[0;34m\u001b[0m\u001b[0;34m\u001b[0m\u001b[0m\n\u001b[0;32m--> 854\u001b[0;31m         \u001b[0;32mreturn\u001b[0m \u001b[0midcands\u001b[0m\u001b[0;34m[\u001b[0m\u001b[0;34m\"ALERCE\"\u001b[0m\u001b[0;34m]\u001b[0m\u001b[0;34m\u001b[0m\u001b[0;34m\u001b[0m\u001b[0m\n\u001b[0m\u001b[1;32m    855\u001b[0m \u001b[0;34m\u001b[0m\u001b[0m\n\u001b[1;32m    856\u001b[0m     \u001b[0;31m# get filter ids\u001b[0m\u001b[0;34m\u001b[0m\u001b[0;34m\u001b[0m\u001b[0;34m\u001b[0m\u001b[0m\n",
      "\u001b[0;31mKeyError\u001b[0m: 'ALERCE'"
     ]
    }
   ],
   "source": [
    "skyportal_report = []\n",
    "counter = 0\n",
    "for oid in candidates[::-1]: # invert to report old candidates first\n",
    "    if oid in [\"ZTF21abkvttz\"]: #ZTF21abhpdgd\", \"ZTF21abgtlir\"]:\n",
    "        continue\n",
    "    print(\"\\n\", counter, oid)\n",
    "    sn_report = alerce.do_skyportal_report(skyportal_url, token, oid, reporter, verbose=False, test=False)\n",
    "    if sn_report:# or oid == \"ZTF20abyptpc\":\n",
    "        skyportal_report.append(sn_report)\n",
    "        counter += 1"
   ]
  },
  {
   "cell_type": "markdown",
   "metadata": {},
   "source": [
    "## Save report"
   ]
  },
  {
   "cell_type": "code",
   "execution_count": 29,
   "metadata": {
    "ExecuteTime": {
     "end_time": "2021-10-23T19:02:03.758275Z",
     "start_time": "2021-10-23T19:02:03.746364Z"
    },
    "scrolled": true
   },
   "outputs": [
    {
     "data": {
      "text/plain": [
       "[]"
      ]
     },
     "metadata": {},
     "output_type": "display_data"
    }
   ],
   "source": [
    "with open('%s_skyportal.pickle' % refstring, 'wb') as handle:\n",
    "    pickle.dump(skyportal_report, handle, protocol=pickle.HIGHEST_PROTOCOL)\n",
    "\n",
    "with open('%s_skyportal.pickle' % refstring, 'rb') as handle:\n",
    "    skyportal_report = pickle.load(handle)\n",
    "    \n",
    "display(skyportal_report)"
   ]
  },
  {
   "cell_type": "markdown",
   "metadata": {},
   "source": [
    "## Submit to SkyPortal"
   ]
  },
  {
   "cell_type": "code",
   "execution_count": 33,
   "metadata": {
    "ExecuteTime": {
     "end_time": "2021-10-17T20:14:51.249755Z",
     "start_time": "2021-10-17T20:14:05.192998Z"
    },
    "scrolled": true
   },
   "outputs": [
    {
     "name": "stdout",
     "output_type": "stream",
     "text": [
      "ZTF21aciiklb\n",
      "\n",
      "Reporting candidate\n",
      "HTTP code: 200, OK\n",
      "Candidate sent\n"
     ]
    },
    {
     "data": {
      "text/plain": [
       "{'status': 'success',\n",
       " 'data': {'ids': [143374]},\n",
       " 'version': '0.9.dev0+git%aI.66d9fd0'}"
      ]
     },
     "metadata": {},
     "output_type": "display_data"
    },
    {
     "name": "stdout",
     "output_type": "stream",
     "text": [
      "\n",
      "Sending annotation\n",
      "\n",
      "HTTP code: 400, Bad Request\n"
     ]
    },
    {
     "data": {
      "text/plain": [
       "{'status': 'error',\n",
       " 'message': 'HTTP 405: Method Not Allowed',\n",
       " 'data': {},\n",
       " 'version': '0.9.dev0+git%aI.66d9fd0'}"
      ]
     },
     "metadata": {},
     "output_type": "display_data"
    },
    {
     "name": "stdout",
     "output_type": "stream",
     "text": [
      "ZTF21acihxwk\n",
      "\n",
      "Reporting candidate\n",
      "HTTP code: 200, OK\n",
      "Candidate sent\n"
     ]
    },
    {
     "data": {
      "text/plain": [
       "{'status': 'success',\n",
       " 'data': {'ids': [143375]},\n",
       " 'version': '0.9.dev0+git%aI.66d9fd0'}"
      ]
     },
     "metadata": {},
     "output_type": "display_data"
    },
    {
     "name": "stdout",
     "output_type": "stream",
     "text": [
      "\n",
      "Sending annotation\n",
      "\n",
      "HTTP code: 400, Bad Request\n"
     ]
    },
    {
     "data": {
      "text/plain": [
       "{'status': 'error',\n",
       " 'message': 'HTTP 405: Method Not Allowed',\n",
       " 'data': {},\n",
       " 'version': '0.9.dev0+git%aI.66d9fd0'}"
      ]
     },
     "metadata": {},
     "output_type": "display_data"
    },
    {
     "name": "stdout",
     "output_type": "stream",
     "text": [
      "ZTF21acihskm\n",
      "\n",
      "Reporting candidate\n",
      "HTTP code: 200, OK\n",
      "Candidate sent\n"
     ]
    },
    {
     "data": {
      "text/plain": [
       "{'status': 'success',\n",
       " 'data': {'ids': [143376]},\n",
       " 'version': '0.9.dev0+git%aI.66d9fd0'}"
      ]
     },
     "metadata": {},
     "output_type": "display_data"
    },
    {
     "name": "stdout",
     "output_type": "stream",
     "text": [
      "\n",
      "Sending annotation\n",
      "\n",
      "HTTP code: 400, Bad Request\n"
     ]
    },
    {
     "data": {
      "text/plain": [
       "{'status': 'error',\n",
       " 'message': 'HTTP 405: Method Not Allowed',\n",
       " 'data': {},\n",
       " 'version': '0.9.dev0+git%aI.66d9fd0'}"
      ]
     },
     "metadata": {},
     "output_type": "display_data"
    },
    {
     "name": "stdout",
     "output_type": "stream",
     "text": [
      "ZTF21acihrxj\n",
      "\n",
      "Reporting candidate\n",
      "HTTP code: 200, OK\n",
      "Candidate sent\n"
     ]
    },
    {
     "data": {
      "text/plain": [
       "{'status': 'success',\n",
       " 'data': {'ids': [143377]},\n",
       " 'version': '0.9.dev0+git%aI.66d9fd0'}"
      ]
     },
     "metadata": {},
     "output_type": "display_data"
    },
    {
     "name": "stdout",
     "output_type": "stream",
     "text": [
      "\n",
      "Sending annotation\n",
      "\n",
      "HTTP code: 400, Bad Request\n"
     ]
    },
    {
     "data": {
      "text/plain": [
       "{'status': 'error',\n",
       " 'message': 'HTTP 405: Method Not Allowed',\n",
       " 'data': {},\n",
       " 'version': '0.9.dev0+git%aI.66d9fd0'}"
      ]
     },
     "metadata": {},
     "output_type": "display_data"
    },
    {
     "name": "stdout",
     "output_type": "stream",
     "text": [
      "ZTF21acihosl\n",
      "\n",
      "Reporting candidate\n",
      "HTTP code: 200, OK\n",
      "Candidate sent\n"
     ]
    },
    {
     "data": {
      "text/plain": [
       "{'status': 'success',\n",
       " 'data': {'ids': [143378]},\n",
       " 'version': '0.9.dev0+git%aI.66d9fd0'}"
      ]
     },
     "metadata": {},
     "output_type": "display_data"
    },
    {
     "name": "stdout",
     "output_type": "stream",
     "text": [
      "\n",
      "Sending annotation\n",
      "\n",
      "HTTP code: 400, Bad Request\n"
     ]
    },
    {
     "data": {
      "text/plain": [
       "{'status': 'error',\n",
       " 'message': 'HTTP 405: Method Not Allowed',\n",
       " 'data': {},\n",
       " 'version': '0.9.dev0+git%aI.66d9fd0'}"
      ]
     },
     "metadata": {},
     "output_type": "display_data"
    },
    {
     "name": "stdout",
     "output_type": "stream",
     "text": [
      "ZTF21acihmcc\n",
      "\n",
      "Reporting candidate\n",
      "HTTP code: 200, OK\n",
      "Candidate sent\n"
     ]
    },
    {
     "data": {
      "text/plain": [
       "{'status': 'success',\n",
       " 'data': {'ids': [143379]},\n",
       " 'version': '0.9.dev0+git%aI.66d9fd0'}"
      ]
     },
     "metadata": {},
     "output_type": "display_data"
    },
    {
     "name": "stdout",
     "output_type": "stream",
     "text": [
      "\n",
      "Sending annotation\n",
      "\n",
      "HTTP code: 400, Bad Request\n"
     ]
    },
    {
     "data": {
      "text/plain": [
       "{'status': 'error',\n",
       " 'message': 'HTTP 405: Method Not Allowed',\n",
       " 'data': {},\n",
       " 'version': '0.9.dev0+git%aI.66d9fd0'}"
      ]
     },
     "metadata": {},
     "output_type": "display_data"
    },
    {
     "name": "stdout",
     "output_type": "stream",
     "text": [
      "ZTF21acihlwh\n",
      "\n",
      "Reporting candidate\n",
      "HTTP code: 200, OK\n",
      "Candidate sent\n"
     ]
    },
    {
     "data": {
      "text/plain": [
       "{'status': 'success',\n",
       " 'data': {'ids': [143380]},\n",
       " 'version': '0.9.dev0+git%aI.66d9fd0'}"
      ]
     },
     "metadata": {},
     "output_type": "display_data"
    },
    {
     "name": "stdout",
     "output_type": "stream",
     "text": [
      "\n",
      "Sending annotation\n",
      "\n",
      "HTTP code: 400, Bad Request\n"
     ]
    },
    {
     "data": {
      "text/plain": [
       "{'status': 'error',\n",
       " 'message': 'HTTP 405: Method Not Allowed',\n",
       " 'data': {},\n",
       " 'version': '0.9.dev0+git%aI.66d9fd0'}"
      ]
     },
     "metadata": {},
     "output_type": "display_data"
    },
    {
     "name": "stdout",
     "output_type": "stream",
     "text": [
      "ZTF21acihjrf\n",
      "\n",
      "Reporting candidate\n",
      "HTTP code: 200, OK\n",
      "Candidate sent\n"
     ]
    },
    {
     "data": {
      "text/plain": [
       "{'status': 'success',\n",
       " 'data': {'ids': [143381]},\n",
       " 'version': '0.9.dev0+git%aI.66d9fd0'}"
      ]
     },
     "metadata": {},
     "output_type": "display_data"
    },
    {
     "name": "stdout",
     "output_type": "stream",
     "text": [
      "\n",
      "Sending annotation\n",
      "\n",
      "HTTP code: 400, Bad Request\n"
     ]
    },
    {
     "data": {
      "text/plain": [
       "{'status': 'error',\n",
       " 'message': 'HTTP 405: Method Not Allowed',\n",
       " 'data': {},\n",
       " 'version': '0.9.dev0+git%aI.66d9fd0'}"
      ]
     },
     "metadata": {},
     "output_type": "display_data"
    },
    {
     "name": "stdout",
     "output_type": "stream",
     "text": [
      "ZTF21acihjcp\n",
      "\n",
      "Reporting candidate\n",
      "HTTP code: 200, OK\n",
      "Candidate sent\n"
     ]
    },
    {
     "data": {
      "text/plain": [
       "{'status': 'success',\n",
       " 'data': {'ids': [143382]},\n",
       " 'version': '0.9.dev0+git%aI.66d9fd0'}"
      ]
     },
     "metadata": {},
     "output_type": "display_data"
    },
    {
     "name": "stdout",
     "output_type": "stream",
     "text": [
      "\n",
      "Sending annotation\n",
      "\n",
      "HTTP code: 400, Bad Request\n"
     ]
    },
    {
     "data": {
      "text/plain": [
       "{'status': 'error',\n",
       " 'message': 'HTTP 405: Method Not Allowed',\n",
       " 'data': {},\n",
       " 'version': '0.9.dev0+git%aI.66d9fd0'}"
      ]
     },
     "metadata": {},
     "output_type": "display_data"
    },
    {
     "name": "stdout",
     "output_type": "stream",
     "text": [
      "ZTF21acihiyy\n",
      "\n",
      "Reporting candidate\n",
      "HTTP code: 200, OK\n",
      "Candidate sent\n"
     ]
    },
    {
     "data": {
      "text/plain": [
       "{'status': 'success',\n",
       " 'data': {'ids': [143383]},\n",
       " 'version': '0.9.dev0+git%aI.66d9fd0'}"
      ]
     },
     "metadata": {},
     "output_type": "display_data"
    },
    {
     "name": "stdout",
     "output_type": "stream",
     "text": [
      "\n",
      "Sending annotation\n",
      "\n",
      "HTTP code: 400, Bad Request\n"
     ]
    },
    {
     "data": {
      "text/plain": [
       "{'status': 'error',\n",
       " 'message': 'HTTP 405: Method Not Allowed',\n",
       " 'data': {},\n",
       " 'version': '0.9.dev0+git%aI.66d9fd0'}"
      ]
     },
     "metadata": {},
     "output_type": "display_data"
    },
    {
     "name": "stdout",
     "output_type": "stream",
     "text": [
      "ZTF21acihire\n",
      "\n",
      "Reporting candidate\n",
      "HTTP code: 200, OK\n",
      "Candidate sent\n"
     ]
    },
    {
     "data": {
      "text/plain": [
       "{'status': 'success',\n",
       " 'data': {'ids': [143384]},\n",
       " 'version': '0.9.dev0+git%aI.66d9fd0'}"
      ]
     },
     "metadata": {},
     "output_type": "display_data"
    },
    {
     "name": "stdout",
     "output_type": "stream",
     "text": [
      "\n",
      "Sending annotation\n",
      "\n",
      "HTTP code: 400, Bad Request\n"
     ]
    },
    {
     "data": {
      "text/plain": [
       "{'status': 'error',\n",
       " 'message': 'HTTP 405: Method Not Allowed',\n",
       " 'data': {},\n",
       " 'version': '0.9.dev0+git%aI.66d9fd0'}"
      ]
     },
     "metadata": {},
     "output_type": "display_data"
    },
    {
     "name": "stdout",
     "output_type": "stream",
     "text": [
      "ZTF21acienfq\n",
      "\n",
      "Reporting candidate\n",
      "HTTP code: 200, OK\n",
      "Candidate sent\n"
     ]
    },
    {
     "data": {
      "text/plain": [
       "{'status': 'success',\n",
       " 'data': {'ids': [143385]},\n",
       " 'version': '0.9.dev0+git%aI.66d9fd0'}"
      ]
     },
     "metadata": {},
     "output_type": "display_data"
    },
    {
     "name": "stdout",
     "output_type": "stream",
     "text": [
      "\n",
      "Sending annotation\n",
      "\n",
      "HTTP code: 400, Bad Request\n"
     ]
    },
    {
     "data": {
      "text/plain": [
       "{'status': 'error',\n",
       " 'message': 'HTTP 405: Method Not Allowed',\n",
       " 'data': {},\n",
       " 'version': '0.9.dev0+git%aI.66d9fd0'}"
      ]
     },
     "metadata": {},
     "output_type": "display_data"
    },
    {
     "name": "stdout",
     "output_type": "stream",
     "text": [
      "ZTF21acidvcv\n",
      "\n",
      "Reporting candidate\n",
      "HTTP code: 200, OK\n",
      "Candidate sent\n"
     ]
    },
    {
     "data": {
      "text/plain": [
       "{'status': 'success',\n",
       " 'data': {'ids': [143386]},\n",
       " 'version': '0.9.dev0+git%aI.66d9fd0'}"
      ]
     },
     "metadata": {},
     "output_type": "display_data"
    },
    {
     "name": "stdout",
     "output_type": "stream",
     "text": [
      "\n",
      "Sending annotation\n",
      "\n",
      "HTTP code: 400, Bad Request\n"
     ]
    },
    {
     "data": {
      "text/plain": [
       "{'status': 'error',\n",
       " 'message': 'HTTP 405: Method Not Allowed',\n",
       " 'data': {},\n",
       " 'version': '0.9.dev0+git%aI.66d9fd0'}"
      ]
     },
     "metadata": {},
     "output_type": "display_data"
    },
    {
     "name": "stdout",
     "output_type": "stream",
     "text": [
      "ZTF21acidujd\n",
      "\n",
      "Reporting candidate\n",
      "HTTP code: 200, OK\n",
      "Candidate sent\n"
     ]
    },
    {
     "data": {
      "text/plain": [
       "{'status': 'success',\n",
       " 'data': {'ids': [143387]},\n",
       " 'version': '0.9.dev0+git%aI.66d9fd0'}"
      ]
     },
     "metadata": {},
     "output_type": "display_data"
    },
    {
     "name": "stdout",
     "output_type": "stream",
     "text": [
      "\n",
      "Sending annotation\n",
      "\n",
      "HTTP code: 400, Bad Request\n"
     ]
    },
    {
     "data": {
      "text/plain": [
       "{'status': 'error',\n",
       " 'message': 'HTTP 405: Method Not Allowed',\n",
       " 'data': {},\n",
       " 'version': '0.9.dev0+git%aI.66d9fd0'}"
      ]
     },
     "metadata": {},
     "output_type": "display_data"
    },
    {
     "name": "stdout",
     "output_type": "stream",
     "text": [
      "ZTF21achziay\n",
      "\n",
      "Reporting candidate\n",
      "HTTP code: 200, OK\n",
      "Candidate sent\n"
     ]
    },
    {
     "data": {
      "text/plain": [
       "{'status': 'success',\n",
       " 'data': {'ids': [143388]},\n",
       " 'version': '0.9.dev0+git%aI.66d9fd0'}"
      ]
     },
     "metadata": {},
     "output_type": "display_data"
    },
    {
     "name": "stdout",
     "output_type": "stream",
     "text": [
      "\n",
      "Sending annotation\n",
      "\n",
      "HTTP code: 400, Bad Request\n"
     ]
    },
    {
     "data": {
      "text/plain": [
       "{'status': 'error',\n",
       " 'message': 'HTTP 405: Method Not Allowed',\n",
       " 'data': {},\n",
       " 'version': '0.9.dev0+git%aI.66d9fd0'}"
      ]
     },
     "metadata": {},
     "output_type": "display_data"
    },
    {
     "name": "stdout",
     "output_type": "stream",
     "text": [
      "ZTF21achzfpg\n",
      "\n",
      "Reporting candidate\n",
      "HTTP code: 200, OK\n",
      "Candidate sent\n"
     ]
    },
    {
     "data": {
      "text/plain": [
       "{'status': 'success',\n",
       " 'data': {'ids': [143389]},\n",
       " 'version': '0.9.dev0+git%aI.66d9fd0'}"
      ]
     },
     "metadata": {},
     "output_type": "display_data"
    },
    {
     "name": "stdout",
     "output_type": "stream",
     "text": [
      "\n",
      "Sending annotation\n",
      "\n",
      "HTTP code: 400, Bad Request\n"
     ]
    },
    {
     "data": {
      "text/plain": [
       "{'status': 'error',\n",
       " 'message': 'HTTP 405: Method Not Allowed',\n",
       " 'data': {},\n",
       " 'version': '0.9.dev0+git%aI.66d9fd0'}"
      ]
     },
     "metadata": {},
     "output_type": "display_data"
    },
    {
     "name": "stdout",
     "output_type": "stream",
     "text": [
      "ZTF21achzfgn\n",
      "\n",
      "Reporting candidate\n",
      "HTTP code: 200, OK\n",
      "Candidate sent\n"
     ]
    },
    {
     "data": {
      "text/plain": [
       "{'status': 'success',\n",
       " 'data': {'ids': [143390]},\n",
       " 'version': '0.9.dev0+git%aI.66d9fd0'}"
      ]
     },
     "metadata": {},
     "output_type": "display_data"
    },
    {
     "name": "stdout",
     "output_type": "stream",
     "text": [
      "\n",
      "Sending annotation\n",
      "\n",
      "HTTP code: 400, Bad Request\n"
     ]
    },
    {
     "data": {
      "text/plain": [
       "{'status': 'error',\n",
       " 'message': 'HTTP 405: Method Not Allowed',\n",
       " 'data': {},\n",
       " 'version': '0.9.dev0+git%aI.66d9fd0'}"
      ]
     },
     "metadata": {},
     "output_type": "display_data"
    },
    {
     "name": "stdout",
     "output_type": "stream",
     "text": [
      "ZTF21achutpj\n",
      "\n",
      "Reporting candidate\n",
      "HTTP code: 200, OK\n",
      "Candidate sent\n"
     ]
    },
    {
     "data": {
      "text/plain": [
       "{'status': 'success',\n",
       " 'data': {'ids': [143391]},\n",
       " 'version': '0.9.dev0+git%aI.66d9fd0'}"
      ]
     },
     "metadata": {},
     "output_type": "display_data"
    },
    {
     "name": "stdout",
     "output_type": "stream",
     "text": [
      "\n",
      "Sending annotation\n",
      "\n",
      "HTTP code: 400, Bad Request\n"
     ]
    },
    {
     "data": {
      "text/plain": [
       "{'status': 'error',\n",
       " 'message': 'HTTP 405: Method Not Allowed',\n",
       " 'data': {},\n",
       " 'version': '0.9.dev0+git%aI.66d9fd0'}"
      ]
     },
     "metadata": {},
     "output_type": "display_data"
    },
    {
     "name": "stdout",
     "output_type": "stream",
     "text": [
      "ZTF21achuskc\n",
      "\n",
      "Reporting candidate\n",
      "HTTP code: 200, OK\n",
      "Candidate sent\n"
     ]
    },
    {
     "data": {
      "text/plain": [
       "{'status': 'success',\n",
       " 'data': {'ids': [143392]},\n",
       " 'version': '0.9.dev0+git%aI.66d9fd0'}"
      ]
     },
     "metadata": {},
     "output_type": "display_data"
    },
    {
     "name": "stdout",
     "output_type": "stream",
     "text": [
      "\n",
      "Sending annotation\n",
      "\n",
      "HTTP code: 400, Bad Request\n"
     ]
    },
    {
     "data": {
      "text/plain": [
       "{'status': 'error',\n",
       " 'message': 'HTTP 405: Method Not Allowed',\n",
       " 'data': {},\n",
       " 'version': '0.9.dev0+git%aI.66d9fd0'}"
      ]
     },
     "metadata": {},
     "output_type": "display_data"
    },
    {
     "name": "stdout",
     "output_type": "stream",
     "text": [
      "ZTF21achuraw\n",
      "\n",
      "Reporting candidate\n",
      "HTTP code: 200, OK\n",
      "Candidate sent\n"
     ]
    },
    {
     "data": {
      "text/plain": [
       "{'status': 'success',\n",
       " 'data': {'ids': [143393]},\n",
       " 'version': '0.9.dev0+git%aI.66d9fd0'}"
      ]
     },
     "metadata": {},
     "output_type": "display_data"
    },
    {
     "name": "stdout",
     "output_type": "stream",
     "text": [
      "\n",
      "Sending annotation\n",
      "\n",
      "HTTP code: 400, Bad Request\n"
     ]
    },
    {
     "data": {
      "text/plain": [
       "{'status': 'error',\n",
       " 'message': 'HTTP 405: Method Not Allowed',\n",
       " 'data': {},\n",
       " 'version': '0.9.dev0+git%aI.66d9fd0'}"
      ]
     },
     "metadata": {},
     "output_type": "display_data"
    },
    {
     "name": "stdout",
     "output_type": "stream",
     "text": [
      "ZTF21achewlg\n",
      "\n",
      "Reporting candidate\n",
      "HTTP code: 200, OK\n",
      "Candidate sent\n"
     ]
    },
    {
     "data": {
      "text/plain": [
       "{'status': 'success',\n",
       " 'data': {'ids': [143394]},\n",
       " 'version': '0.9.dev0+git%aI.66d9fd0'}"
      ]
     },
     "metadata": {},
     "output_type": "display_data"
    },
    {
     "name": "stdout",
     "output_type": "stream",
     "text": [
      "\n",
      "Sending annotation\n",
      "\n",
      "HTTP code: 400, Bad Request\n"
     ]
    },
    {
     "data": {
      "text/plain": [
       "{'status': 'error',\n",
       " 'message': 'HTTP 405: Method Not Allowed',\n",
       " 'data': {},\n",
       " 'version': '0.9.dev0+git%aI.66d9fd0'}"
      ]
     },
     "metadata": {},
     "output_type": "display_data"
    },
    {
     "name": "stdout",
     "output_type": "stream",
     "text": [
      "ZTF21achdsoo\n",
      "ZTF21achdsoo is in skyportal\n",
      "\n",
      "Sending annotation\n",
      "\n",
      "HTTP code: 400, Bad Request\n"
     ]
    },
    {
     "data": {
      "text/plain": [
       "{'status': 'error',\n",
       " 'message': 'HTTP 405: Method Not Allowed',\n",
       " 'data': {},\n",
       " 'version': '0.9.dev0+git%aI.66d9fd0'}"
      ]
     },
     "metadata": {},
     "output_type": "display_data"
    },
    {
     "name": "stdout",
     "output_type": "stream",
     "text": [
      "ZTF18aawxurz\n",
      "\n",
      "Reporting candidate\n",
      "HTTP code: 200, OK\n",
      "Candidate sent\n"
     ]
    },
    {
     "data": {
      "text/plain": [
       "{'status': 'success',\n",
       " 'data': {'ids': [143395]},\n",
       " 'version': '0.9.dev0+git%aI.66d9fd0'}"
      ]
     },
     "metadata": {},
     "output_type": "display_data"
    },
    {
     "name": "stdout",
     "output_type": "stream",
     "text": [
      "\n",
      "Sending annotation\n",
      "\n",
      "HTTP code: 400, Bad Request\n"
     ]
    },
    {
     "data": {
      "text/plain": [
       "{'status': 'error',\n",
       " 'message': 'HTTP 405: Method Not Allowed',\n",
       " 'data': {},\n",
       " 'version': '0.9.dev0+git%aI.66d9fd0'}"
      ]
     },
     "metadata": {},
     "output_type": "display_data"
    },
    {
     "name": "stdout",
     "output_type": "stream",
     "text": [
      "ZTF18aawitry\n",
      "ZTF18aawitry is in skyportal\n",
      "\n",
      "Sending annotation\n",
      "\n",
      "HTTP code: 400, Bad Request\n"
     ]
    },
    {
     "data": {
      "text/plain": [
       "{'status': 'error',\n",
       " 'message': 'HTTP 405: Method Not Allowed',\n",
       " 'data': {},\n",
       " 'version': '0.9.dev0+git%aI.66d9fd0'}"
      ]
     },
     "metadata": {},
     "output_type": "display_data"
    }
   ],
   "source": [
    "for report in skyportal_report:\n",
    "    print(report[\"candidates\"][\"id\"])\n",
    "    alerce.send_skyportal_report(skyportal_url, token, report)"
   ]
  },
  {
   "cell_type": "markdown",
   "metadata": {
    "ExecuteTime": {
     "end_time": "2021-03-18T01:50:52.495888Z",
     "start_time": "2021-03-18T01:50:52.464312Z"
    }
   },
   "source": [
    "## Check SkyPortal"
   ]
  },
  {
   "cell_type": "markdown",
   "metadata": {},
   "source": [
    "http://desi2.lbl.gov:5000/candidates"
   ]
  },
  {
   "cell_type": "markdown",
   "metadata": {},
   "source": []
  },
  {
   "cell_type": "code",
   "execution_count": null,
   "metadata": {},
   "outputs": [],
   "source": []
  }
 ],
 "metadata": {
  "kernelspec": {
   "display_name": "Python 3",
   "language": "python",
   "name": "python3"
  },
  "language_info": {
   "codemirror_mode": {
    "name": "ipython",
    "version": 3
   },
   "file_extension": ".py",
   "mimetype": "text/x-python",
   "name": "python",
   "nbconvert_exporter": "python",
   "pygments_lexer": "ipython3",
   "version": "3.8.8"
  },
  "toc": {
   "base_numbering": 1,
   "nav_menu": {},
   "number_sections": true,
   "sideBar": true,
   "skip_h1_title": false,
   "title_cell": "Table of Contents",
   "title_sidebar": "Contents",
   "toc_cell": false,
   "toc_position": {
    "height": "calc(100% - 180px)",
    "left": "10px",
    "top": "150px",
    "width": "165px"
   },
   "toc_section_display": true,
   "toc_window_display": true
  },
  "varInspector": {
   "cols": {
    "lenName": 16,
    "lenType": 16,
    "lenVar": 40
   },
   "kernels_config": {
    "python": {
     "delete_cmd_postfix": "",
     "delete_cmd_prefix": "del ",
     "library": "var_list.py",
     "varRefreshCmd": "print(var_dic_list())"
    },
    "r": {
     "delete_cmd_postfix": ") ",
     "delete_cmd_prefix": "rm(",
     "library": "var_list.r",
     "varRefreshCmd": "cat(var_dic_list()) "
    }
   },
   "types_to_exclude": [
    "module",
    "function",
    "builtin_function_or_method",
    "instance",
    "_Feature"
   ],
   "window_display": false
  }
 },
 "nbformat": 4,
 "nbformat_minor": 2
}
