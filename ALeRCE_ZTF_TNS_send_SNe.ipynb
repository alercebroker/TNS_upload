{
 "cells": [
  {
   "cell_type": "markdown",
   "metadata": {},
   "source": [
    "# Notebook to select host galaxies and submit candidates to TNS"
   ]
  },
  {
   "cell_type": "code",
   "execution_count": 1,
   "metadata": {
    "ExecuteTime": {
     "end_time": "2022-07-24T19:22:52.840100Z",
     "start_time": "2022-07-24T19:22:52.701325Z"
    }
   },
   "outputs": [],
   "source": [
    "import sys, os\n",
    "import pandas as pd\n",
    "import numpy as np\n",
    "import ipyaladin as ipyal\n",
    "from ipywidgets import Layout, Box, widgets\n",
    "import json\n",
    "import time\n",
    "import pickle"
   ]
  },
  {
   "cell_type": "code",
   "execution_count": 2,
   "metadata": {
    "ExecuteTime": {
     "end_time": "2022-07-24T19:22:54.192560Z",
     "start_time": "2022-07-24T19:22:53.637932Z"
    }
   },
   "outputs": [],
   "source": [
    "from astroquery.ned import Ned\n",
    "from astroquery.simbad import Simbad\n",
    "from astroquery.vizier import Vizier\n",
    "import astropy.units as u\n",
    "from astropy.table import Table, Column"
   ]
  },
  {
   "cell_type": "code",
   "execution_count": 3,
   "metadata": {
    "ExecuteTime": {
     "end_time": "2022-07-24T19:22:54.896298Z",
     "start_time": "2022-07-24T19:22:54.883406Z"
    }
   },
   "outputs": [],
   "source": [
    "sys.path.append(\"./lib\")\n",
    "from alerce_tns import *"
   ]
  },
  {
   "cell_type": "code",
   "execution_count": 4,
   "metadata": {
    "ExecuteTime": {
     "end_time": "2022-07-24T19:22:57.835369Z",
     "start_time": "2022-07-24T19:22:55.754529Z"
    }
   },
   "outputs": [],
   "source": [
    "from delight.delight import Delight"
   ]
  },
  {
   "cell_type": "code",
   "execution_count": 5,
   "metadata": {
    "ExecuteTime": {
     "end_time": "2022-07-24T19:22:58.234170Z",
     "start_time": "2022-07-24T19:22:58.201298Z"
    }
   },
   "outputs": [],
   "source": [
    "# continuously load modules (for easier debugging)\n",
    "%load_ext autoreload\n",
    "%autoreload 2"
   ]
  },
  {
   "cell_type": "markdown",
   "metadata": {},
   "source": [
    "# Start API"
   ]
  },
  {
   "cell_type": "code",
   "execution_count": 6,
   "metadata": {
    "ExecuteTime": {
     "end_time": "2022-07-24T19:22:59.180434Z",
     "start_time": "2022-07-24T19:22:59.153927Z"
    }
   },
   "outputs": [],
   "source": [
    "alerce = alerce_tns()"
   ]
  },
  {
   "cell_type": "markdown",
   "metadata": {},
   "source": [
    "# Load recent candidates\n",
    "\n",
    "**WARNING: CHECK THE DATE**"
   ]
  },
  {
   "cell_type": "code",
   "execution_count": 7,
   "metadata": {
    "ExecuteTime": {
     "end_time": "2022-07-24T19:23:01.810525Z",
     "start_time": "2022-07-24T19:23:01.776492Z"
    }
   },
   "outputs": [
    {
     "name": "stdout",
     "output_type": "stream",
     "text": [
      "['ZTF22aapuazu' 'ZTF22aarycqo' 'ZTF22aasvuof' 'ZTF22aasxgjp'\n",
      " 'ZTF22aasxnjm' 'ZTF22aatgiuw' 'ZTF22aatgjnu' 'ZTF22aatkeyf'\n",
      " 'ZTF22aatlqxr' 'ZTF22aatnyqk' 'ZTF22aatrbvj' 'ZTF22aatrnbl'\n",
      " 'ZTF22aatrpse' 'ZTF22aatrujl' 'ZTF22aatrzyq' 'ZTF22aatsbjo'\n",
      " 'ZTF22aatsdyx' 'ZTF22aatsfly' 'ZTF22aattadv' 'ZTF22aattzza'\n",
      " 'ZTF22aatunnt' 'ZTF22aatuxpc' 'ZTF22aatvbyz' 'ZTF22aatvkqs'] 24\n"
     ]
    }
   ],
   "source": [
    "refstring = \"20220716\"\n",
    "candidates_dir = \"candidates\"\n",
    "candidates = open(\"%s/%s.csv\" % (candidates_dir, refstring), encoding='utf-8-sig').read().splitlines()\n",
    "if \"\" in candidates:\n",
    "    candidates.remove(\"\") \n",
    "candidates = np.sort(np.unique(np.array([cand.strip() for cand in candidates])))\n",
    "print(candidates, len(candidates))"
   ]
  },
  {
   "cell_type": "code",
   "execution_count": 8,
   "metadata": {
    "ExecuteTime": {
     "end_time": "2022-07-24T19:23:11.250422Z",
     "start_time": "2022-07-24T19:23:02.939988Z"
    }
   },
   "outputs": [
    {
     "name": "stdout",
     "output_type": "stream",
     "text": [
      "Downloading 0 missing files.\n",
      "Loading WCS information\n",
      "Preprocessing\n",
      "Predicting\n"
     ]
    }
   ],
   "source": [
    "stats = alerce.query_objects(oid=candidates, format='pandas', page_size=len(candidates))\n",
    "delight_datadir = \"delight_data\"\n",
    "dclient = Delight(delight_datadir, candidates, stats.meanra.to_numpy(), stats.meandec.to_numpy())\n",
    "dclient.download()\n",
    "dclient.get_pix_coords()\n",
    "dclient.compute_multiresolution(nlevels=5, domask=False, doobject=True, doplot=False)\n",
    "model_dir = \"/home/fforster/Dropbox/Work/DELIGHT/data/model\"\n",
    "model_name = \"DELIGHT_v1.h5\"\n",
    "dclient.load_model(model_dir, model_name)\n",
    "print(\"Preprocessing\")\n",
    "dclient.preprocess()\n",
    "print(\"Predicting\")\n",
    "dclient.predict()"
   ]
  },
  {
   "cell_type": "code",
   "execution_count": 9,
   "metadata": {
    "ExecuteTime": {
     "end_time": "2022-07-24T19:23:11.757120Z",
     "start_time": "2022-07-24T19:23:11.719021Z"
    },
    "scrolled": true
   },
   "outputs": [],
   "source": [
    "#for oid in candidates:\n",
    "#    dclient.plot_host(oid)"
   ]
  },
  {
   "cell_type": "markdown",
   "metadata": {},
   "source": [
    "# Select host galaxies using aladin widget"
   ]
  },
  {
   "cell_type": "markdown",
   "metadata": {},
   "source": [
    "## Do automatic selection"
   ]
  },
  {
   "cell_type": "code",
   "execution_count": 10,
   "metadata": {
    "ExecuteTime": {
     "end_time": "2022-07-24T19:23:13.535765Z",
     "start_time": "2022-07-24T19:23:13.508079Z"
    }
   },
   "outputs": [],
   "source": [
    "bestguess = dclient.df[[\"ra_delight\", \"dec_delight\"]].rename({\"ra_delight\": \"ra\", \"dec_delight\": \"dec\"}, axis=1)\n",
    "alerce.bestguess = bestguess"
   ]
  },
  {
   "cell_type": "code",
   "execution_count": 11,
   "metadata": {
    "ExecuteTime": {
     "end_time": "2022-07-24T19:24:34.213095Z",
     "start_time": "2022-07-24T19:23:14.250305Z"
    },
    "scrolled": false
   },
   "outputs": [
    {
     "name": "stdout",
     "output_type": "stream",
     "text": [
      "Loading and skipping already saved hosts...\n",
      "hosts/20220716_hosts.csv\n",
      "Cannot load galaxy information, creating new information.\n"
     ]
    },
    {
     "data": {
      "application/vnd.jupyter.widget-view+json": {
       "model_id": "6e209f138210446aa6f5a759fe9448ee",
       "version_major": 2,
       "version_minor": 0
      },
      "text/plain": [
       "Box(children=(Aladin(fov=0.025, layout=Layout(width='70%'), options=['allow_full_zoomout', 'coo_frame', 'fov',…"
      ]
     },
     "metadata": {},
     "output_type": "display_data"
    },
    {
     "name": "stderr",
     "output_type": "stream",
     "text": [
      "/home/fforster/anaconda3/lib/python3.8/site-packages/astroquery/simbad/core.py:135: UserWarning: Warning: The script line number 3 raised an error (recorded in the `errors` attribute of the result table): '1:05:42.656 -0:53:20.6534': No astronomical object found :\n",
      "  warnings.warn(\"Warning: The script line number %i raised \"\n"
     ]
    },
    {
     "data": {
      "text/html": [
       "<div>\n",
       "<style scoped>\n",
       "    .dataframe tbody tr th:only-of-type {\n",
       "        vertical-align: middle;\n",
       "    }\n",
       "\n",
       "    .dataframe tbody tr th {\n",
       "        vertical-align: top;\n",
       "    }\n",
       "\n",
       "    .dataframe thead th {\n",
       "        text-align: right;\n",
       "    }\n",
       "</style>\n",
       "<table border=\"1\" class=\"dataframe\">\n",
       "  <thead>\n",
       "    <tr style=\"text-align: right;\">\n",
       "      <th></th>\n",
       "      <th>host_name</th>\n",
       "      <th>host_ra</th>\n",
       "      <th>host_dec</th>\n",
       "      <th>host_offset</th>\n",
       "      <th>host_offset_bestguess</th>\n",
       "      <th>bestguess_offset</th>\n",
       "      <th>host_source</th>\n",
       "      <th>host_redshift_spec</th>\n",
       "      <th>host_redshift</th>\n",
       "      <th>host_redshift_error</th>\n",
       "      <th>host_redshift_type</th>\n",
       "    </tr>\n",
       "    <tr>\n",
       "      <th>oid</th>\n",
       "      <th></th>\n",
       "      <th></th>\n",
       "      <th></th>\n",
       "      <th></th>\n",
       "      <th></th>\n",
       "      <th></th>\n",
       "      <th></th>\n",
       "      <th></th>\n",
       "      <th></th>\n",
       "      <th></th>\n",
       "      <th></th>\n",
       "    </tr>\n",
       "  </thead>\n",
       "  <tbody>\n",
       "    <tr>\n",
       "      <th>ZTF22aapuazu</th>\n",
       "      <td>SDSS J010542.66-005320.8</td>\n",
       "      <td>16.42774</td>\n",
       "      <td>-0.889133</td>\n",
       "      <td>0.159994</td>\n",
       "      <td>0.225378</td>\n",
       "      <td>0.132016</td>\n",
       "      <td>SDSSDR16</td>\n",
       "      <td>False</td>\n",
       "      <td>0.143959</td>\n",
       "      <td>0.028953</td>\n",
       "      <td>photoz</td>\n",
       "    </tr>\n",
       "  </tbody>\n",
       "</table>\n",
       "</div>"
      ],
      "text/plain": [
       "                             host_name   host_ra  host_dec host_offset  \\\n",
       "oid                                                                      \n",
       "ZTF22aapuazu  SDSS J010542.66-005320.8  16.42774 -0.889133    0.159994   \n",
       "\n",
       "             host_offset_bestguess bestguess_offset host_source  \\\n",
       "oid                                                               \n",
       "ZTF22aapuazu              0.225378         0.132016    SDSSDR16   \n",
       "\n",
       "             host_redshift_spec host_redshift host_redshift_error  \\\n",
       "oid                                                                 \n",
       "ZTF22aapuazu              False      0.143959            0.028953   \n",
       "\n",
       "             host_redshift_type  \n",
       "oid                              \n",
       "ZTF22aapuazu             photoz  "
      ]
     },
     "metadata": {},
     "output_type": "display_data"
    },
    {
     "name": "stdout",
     "output_type": "stream",
     "text": [
      "23 candidates remaining\n"
     ]
    },
    {
     "data": {
      "application/vnd.jupyter.widget-view+json": {
       "model_id": "53ece07544044ee99bad4272c80045b3",
       "version_major": 2,
       "version_minor": 0
      },
      "text/plain": [
       "Box(children=(Aladin(fov=0.025, layout=Layout(width='70%'), options=['allow_full_zoomout', 'coo_frame', 'fov',…"
      ]
     },
     "metadata": {},
     "output_type": "display_data"
    },
    {
     "data": {
      "text/html": [
       "<div>\n",
       "<style scoped>\n",
       "    .dataframe tbody tr th:only-of-type {\n",
       "        vertical-align: middle;\n",
       "    }\n",
       "\n",
       "    .dataframe tbody tr th {\n",
       "        vertical-align: top;\n",
       "    }\n",
       "\n",
       "    .dataframe thead th {\n",
       "        text-align: right;\n",
       "    }\n",
       "</style>\n",
       "<table border=\"1\" class=\"dataframe\">\n",
       "  <thead>\n",
       "    <tr style=\"text-align: right;\">\n",
       "      <th></th>\n",
       "      <th>host_name</th>\n",
       "      <th>host_ra</th>\n",
       "      <th>host_dec</th>\n",
       "      <th>host_offset</th>\n",
       "      <th>host_offset_bestguess</th>\n",
       "      <th>bestguess_offset</th>\n",
       "      <th>host_source</th>\n",
       "      <th>host_redshift_spec</th>\n",
       "      <th>host_redshift</th>\n",
       "      <th>host_redshift_error</th>\n",
       "      <th>host_redshift_type</th>\n",
       "    </tr>\n",
       "    <tr>\n",
       "      <th>oid</th>\n",
       "      <th></th>\n",
       "      <th></th>\n",
       "      <th></th>\n",
       "      <th></th>\n",
       "      <th></th>\n",
       "      <th></th>\n",
       "      <th></th>\n",
       "      <th></th>\n",
       "      <th></th>\n",
       "      <th></th>\n",
       "      <th></th>\n",
       "    </tr>\n",
       "  </thead>\n",
       "  <tbody>\n",
       "    <tr>\n",
       "      <th>ZTF22aarycqo</th>\n",
       "      <td>NGC 0662</td>\n",
       "      <td>26.14771</td>\n",
       "      <td>37.69578</td>\n",
       "      <td>6.244514</td>\n",
       "      <td>1.021242</td>\n",
       "      <td>5.408775</td>\n",
       "      <td>NED</td>\n",
       "      <td>True</td>\n",
       "      <td>0.01886</td>\n",
       "      <td>NaN</td>\n",
       "      <td></td>\n",
       "    </tr>\n",
       "  </tbody>\n",
       "</table>\n",
       "</div>"
      ],
      "text/plain": [
       "             host_name   host_ra  host_dec host_offset host_offset_bestguess  \\\n",
       "oid                                                                            \n",
       "ZTF22aarycqo  NGC 0662  26.14771  37.69578    6.244514              1.021242   \n",
       "\n",
       "             bestguess_offset host_source host_redshift_spec host_redshift  \\\n",
       "oid                                                                          \n",
       "ZTF22aarycqo         5.408775         NED               True       0.01886   \n",
       "\n",
       "             host_redshift_error host_redshift_type  \n",
       "oid                                                  \n",
       "ZTF22aarycqo                 NaN                     "
      ]
     },
     "metadata": {},
     "output_type": "display_data"
    },
    {
     "name": "stdout",
     "output_type": "stream",
     "text": [
      "22 candidates remaining\n"
     ]
    },
    {
     "data": {
      "application/vnd.jupyter.widget-view+json": {
       "model_id": "476a24ca452148c99c6991ec5919d609",
       "version_major": 2,
       "version_minor": 0
      },
      "text/plain": [
       "Box(children=(Aladin(fov=0.025, layout=Layout(width='70%'), options=['allow_full_zoomout', 'coo_frame', 'fov',…"
      ]
     },
     "metadata": {},
     "output_type": "display_data"
    },
    {
     "data": {
      "text/html": [
       "<div>\n",
       "<style scoped>\n",
       "    .dataframe tbody tr th:only-of-type {\n",
       "        vertical-align: middle;\n",
       "    }\n",
       "\n",
       "    .dataframe tbody tr th {\n",
       "        vertical-align: top;\n",
       "    }\n",
       "\n",
       "    .dataframe thead th {\n",
       "        text-align: right;\n",
       "    }\n",
       "</style>\n",
       "<table border=\"1\" class=\"dataframe\">\n",
       "  <thead>\n",
       "    <tr style=\"text-align: right;\">\n",
       "      <th></th>\n",
       "      <th>host_name</th>\n",
       "      <th>host_ra</th>\n",
       "      <th>host_dec</th>\n",
       "      <th>host_offset</th>\n",
       "      <th>host_offset_bestguess</th>\n",
       "      <th>bestguess_offset</th>\n",
       "      <th>host_source</th>\n",
       "      <th>host_redshift_spec</th>\n",
       "      <th>host_redshift</th>\n",
       "      <th>host_redshift_error</th>\n",
       "      <th>host_redshift_type</th>\n",
       "    </tr>\n",
       "    <tr>\n",
       "      <th>oid</th>\n",
       "      <th></th>\n",
       "      <th></th>\n",
       "      <th></th>\n",
       "      <th></th>\n",
       "      <th></th>\n",
       "      <th></th>\n",
       "      <th></th>\n",
       "      <th></th>\n",
       "      <th></th>\n",
       "      <th></th>\n",
       "      <th></th>\n",
       "    </tr>\n",
       "  </thead>\n",
       "  <tbody>\n",
       "    <tr>\n",
       "      <th>ZTF22aasvuof</th>\n",
       "      <td>MCG-02-57-009</td>\n",
       "      <td>337.5575887499999</td>\n",
       "      <td>-10.505261666666666</td>\n",
       "      <td>3.082659</td>\n",
       "      <td>0.733618</td>\n",
       "      <td>3.00576</td>\n",
       "      <td>Simbad</td>\n",
       "      <td>True</td>\n",
       "      <td>0.03537</td>\n",
       "      <td>NaN</td>\n",
       "      <td>D</td>\n",
       "    </tr>\n",
       "  </tbody>\n",
       "</table>\n",
       "</div>"
      ],
      "text/plain": [
       "                  host_name            host_ra             host_dec  \\\n",
       "oid                                                                   \n",
       "ZTF22aasvuof  MCG-02-57-009  337.5575887499999  -10.505261666666666   \n",
       "\n",
       "             host_offset host_offset_bestguess bestguess_offset host_source  \\\n",
       "oid                                                                           \n",
       "ZTF22aasvuof    3.082659              0.733618          3.00576      Simbad   \n",
       "\n",
       "             host_redshift_spec host_redshift host_redshift_error  \\\n",
       "oid                                                                 \n",
       "ZTF22aasvuof               True       0.03537                 NaN   \n",
       "\n",
       "             host_redshift_type  \n",
       "oid                              \n",
       "ZTF22aasvuof                  D  "
      ]
     },
     "metadata": {},
     "output_type": "display_data"
    },
    {
     "name": "stdout",
     "output_type": "stream",
     "text": [
      "21 candidates remaining\n"
     ]
    },
    {
     "data": {
      "application/vnd.jupyter.widget-view+json": {
       "model_id": "a07a95ca07e9453b95fa09c061639248",
       "version_major": 2,
       "version_minor": 0
      },
      "text/plain": [
       "Box(children=(Aladin(fov=0.025, layout=Layout(width='70%'), options=['allow_full_zoomout', 'coo_frame', 'fov',…"
      ]
     },
     "metadata": {},
     "output_type": "display_data"
    },
    {
     "data": {
      "text/html": [
       "<div>\n",
       "<style scoped>\n",
       "    .dataframe tbody tr th:only-of-type {\n",
       "        vertical-align: middle;\n",
       "    }\n",
       "\n",
       "    .dataframe tbody tr th {\n",
       "        vertical-align: top;\n",
       "    }\n",
       "\n",
       "    .dataframe thead th {\n",
       "        text-align: right;\n",
       "    }\n",
       "</style>\n",
       "<table border=\"1\" class=\"dataframe\">\n",
       "  <thead>\n",
       "    <tr style=\"text-align: right;\">\n",
       "      <th></th>\n",
       "      <th>host_name</th>\n",
       "      <th>host_ra</th>\n",
       "      <th>host_dec</th>\n",
       "      <th>host_offset</th>\n",
       "      <th>host_offset_bestguess</th>\n",
       "      <th>bestguess_offset</th>\n",
       "      <th>host_source</th>\n",
       "      <th>host_redshift_spec</th>\n",
       "      <th>host_redshift</th>\n",
       "      <th>host_redshift_error</th>\n",
       "      <th>host_redshift_type</th>\n",
       "    </tr>\n",
       "    <tr>\n",
       "      <th>oid</th>\n",
       "      <th></th>\n",
       "      <th></th>\n",
       "      <th></th>\n",
       "      <th></th>\n",
       "      <th></th>\n",
       "      <th></th>\n",
       "      <th></th>\n",
       "      <th></th>\n",
       "      <th></th>\n",
       "      <th></th>\n",
       "      <th></th>\n",
       "    </tr>\n",
       "  </thead>\n",
       "  <tbody>\n",
       "    <tr>\n",
       "      <th>ZTF22aasxgjp</th>\n",
       "      <td>SDSS J150913.16+523142.3</td>\n",
       "      <td>227.304839</td>\n",
       "      <td>52.528432</td>\n",
       "      <td>50.58539</td>\n",
       "      <td>1.973474</td>\n",
       "      <td>48.672158</td>\n",
       "      <td>SDSSDR16</td>\n",
       "      <td>True</td>\n",
       "      <td>0.011695</td>\n",
       "      <td>0.000008</td>\n",
       "      <td>specz</td>\n",
       "    </tr>\n",
       "  </tbody>\n",
       "</table>\n",
       "</div>"
      ],
      "text/plain": [
       "                             host_name     host_ra   host_dec host_offset  \\\n",
       "oid                                                                         \n",
       "ZTF22aasxgjp  SDSS J150913.16+523142.3  227.304839  52.528432    50.58539   \n",
       "\n",
       "             host_offset_bestguess bestguess_offset host_source  \\\n",
       "oid                                                               \n",
       "ZTF22aasxgjp              1.973474        48.672158    SDSSDR16   \n",
       "\n",
       "             host_redshift_spec host_redshift host_redshift_error  \\\n",
       "oid                                                                 \n",
       "ZTF22aasxgjp               True      0.011695            0.000008   \n",
       "\n",
       "             host_redshift_type  \n",
       "oid                              \n",
       "ZTF22aasxgjp              specz  "
      ]
     },
     "metadata": {},
     "output_type": "display_data"
    },
    {
     "name": "stdout",
     "output_type": "stream",
     "text": [
      "20 candidates remaining\n"
     ]
    },
    {
     "data": {
      "application/vnd.jupyter.widget-view+json": {
       "model_id": "a6ccd7e31aa046388bbdce228fe6eeff",
       "version_major": 2,
       "version_minor": 0
      },
      "text/plain": [
       "Box(children=(Aladin(fov=0.025, layout=Layout(width='70%'), options=['allow_full_zoomout', 'coo_frame', 'fov',…"
      ]
     },
     "metadata": {},
     "output_type": "display_data"
    },
    {
     "name": "stderr",
     "output_type": "stream",
     "text": [
      "/home/fforster/anaconda3/lib/python3.8/site-packages/astroquery/simbad/core.py:135: UserWarning: Warning: The script line number 3 raised an error (recorded in the `errors` attribute of the result table): '17:22:34.586 -3:07:14.2814': No astronomical object found :\n",
      "  warnings.warn(\"Warning: The script line number %i raised \"\n"
     ]
    },
    {
     "name": "stdout",
     "output_type": "stream",
     "text": [
      "WARNING: closest crossmatch is too far from the predicted position. No catalog crossmatches found.\n"
     ]
    },
    {
     "data": {
      "text/html": [
       "<div>\n",
       "<style scoped>\n",
       "    .dataframe tbody tr th:only-of-type {\n",
       "        vertical-align: middle;\n",
       "    }\n",
       "\n",
       "    .dataframe tbody tr th {\n",
       "        vertical-align: top;\n",
       "    }\n",
       "\n",
       "    .dataframe thead th {\n",
       "        text-align: right;\n",
       "    }\n",
       "</style>\n",
       "<table border=\"1\" class=\"dataframe\">\n",
       "  <thead>\n",
       "    <tr style=\"text-align: right;\">\n",
       "      <th></th>\n",
       "      <th>host_name</th>\n",
       "      <th>host_ra</th>\n",
       "      <th>host_dec</th>\n",
       "      <th>host_offset</th>\n",
       "      <th>host_offset_bestguess</th>\n",
       "      <th>bestguess_offset</th>\n",
       "      <th>host_source</th>\n",
       "      <th>host_redshift_spec</th>\n",
       "      <th>host_redshift</th>\n",
       "      <th>host_redshift_error</th>\n",
       "      <th>host_redshift_type</th>\n",
       "    </tr>\n",
       "    <tr>\n",
       "      <th>oid</th>\n",
       "      <th></th>\n",
       "      <th></th>\n",
       "      <th></th>\n",
       "      <th></th>\n",
       "      <th></th>\n",
       "      <th></th>\n",
       "      <th></th>\n",
       "      <th></th>\n",
       "      <th></th>\n",
       "      <th></th>\n",
       "      <th></th>\n",
       "    </tr>\n",
       "  </thead>\n",
       "  <tbody>\n",
       "    <tr>\n",
       "      <th>ZTF22aasxnjm</th>\n",
       "      <td>WISEA J172234.79-030706.6</td>\n",
       "      <td>260.64498</td>\n",
       "      <td>-3.11852</td>\n",
       "      <td>8.212161</td>\n",
       "      <td>8.229303</td>\n",
       "      <td>0.038111</td>\n",
       "      <td>NED</td>\n",
       "      <td>False</td>\n",
       "      <td>NULL</td>\n",
       "      <td>NULL</td>\n",
       "      <td>NULL</td>\n",
       "    </tr>\n",
       "    <tr>\n",
       "      <th>ZTF22aasxnjm</th>\n",
       "      <td>WISEA J172233.91-030715.8</td>\n",
       "      <td>260.64133</td>\n",
       "      <td>-3.12108</td>\n",
       "      <td>10.153478</td>\n",
       "      <td>10.115493</td>\n",
       "      <td>0.038111</td>\n",
       "      <td>NED</td>\n",
       "      <td>False</td>\n",
       "      <td>NULL</td>\n",
       "      <td>NULL</td>\n",
       "      <td>NULL</td>\n",
       "    </tr>\n",
       "    <tr>\n",
       "      <th>ZTF22aasxnjm</th>\n",
       "      <td>WISEA J172233.88-030702.9</td>\n",
       "      <td>260.64118</td>\n",
       "      <td>-3.11749</td>\n",
       "      <td>15.479701</td>\n",
       "      <td>15.455968</td>\n",
       "      <td>0.038111</td>\n",
       "      <td>NED</td>\n",
       "      <td>False</td>\n",
       "      <td>NULL</td>\n",
       "      <td>NULL</td>\n",
       "      <td>NULL</td>\n",
       "    </tr>\n",
       "    <tr>\n",
       "      <th>ZTF22aasxnjm</th>\n",
       "      <td>WISEA J172235.42-030731.1</td>\n",
       "      <td>260.64773</td>\n",
       "      <td>-3.12528</td>\n",
       "      <td>21.174917</td>\n",
       "      <td>21.195888</td>\n",
       "      <td>0.038111</td>\n",
       "      <td>NED</td>\n",
       "      <td>False</td>\n",
       "      <td>NULL</td>\n",
       "      <td>NULL</td>\n",
       "      <td>NULL</td>\n",
       "    </tr>\n",
       "    <tr>\n",
       "      <th>ZTF22aasxnjm</th>\n",
       "      <td>WISEA J172235.45-030657.1</td>\n",
       "      <td>260.64773</td>\n",
       "      <td>-3.11588</td>\n",
       "      <td>21.477141</td>\n",
       "      <td>21.502489</td>\n",
       "      <td>0.038111</td>\n",
       "      <td>NED</td>\n",
       "      <td>False</td>\n",
       "      <td>NULL</td>\n",
       "      <td>NULL</td>\n",
       "      <td>NULL</td>\n",
       "    </tr>\n",
       "    <tr>\n",
       "      <th>ZTF22aasxnjm</th>\n",
       "      <td>WISEA J172234.08-030649.2</td>\n",
       "      <td>260.64203</td>\n",
       "      <td>-3.11368</td>\n",
       "      <td>26.132467</td>\n",
       "      <td>26.124418</td>\n",
       "      <td>0.038111</td>\n",
       "      <td>NED</td>\n",
       "      <td>False</td>\n",
       "      <td>NULL</td>\n",
       "      <td>NULL</td>\n",
       "      <td>NULL</td>\n",
       "    </tr>\n",
       "    <tr>\n",
       "      <th>ZTF22aasxnjm</th>\n",
       "      <td>WISEA J172236.22-030735.1</td>\n",
       "      <td>260.65093</td>\n",
       "      <td>-3.12642</td>\n",
       "      <td>32.147839</td>\n",
       "      <td>32.174863</td>\n",
       "      <td>0.038111</td>\n",
       "      <td>NED</td>\n",
       "      <td>False</td>\n",
       "      <td>NULL</td>\n",
       "      <td>NULL</td>\n",
       "      <td>NULL</td>\n",
       "    </tr>\n",
       "    <tr>\n",
       "      <th>ZTF22aasxnjm</th>\n",
       "      <td>WISEA J172232.27-030719.9</td>\n",
       "      <td>260.63449</td>\n",
       "      <td>-3.12221</td>\n",
       "      <td>35.075111</td>\n",
       "      <td>35.037137</td>\n",
       "      <td>0.038111</td>\n",
       "      <td>NED</td>\n",
       "      <td>False</td>\n",
       "      <td>NULL</td>\n",
       "      <td>NULL</td>\n",
       "      <td>NULL</td>\n",
       "    </tr>\n",
       "  </tbody>\n",
       "</table>\n",
       "</div>"
      ],
      "text/plain": [
       "                              host_name    host_ra  host_dec  host_offset  \\\n",
       "oid                                                                         \n",
       "ZTF22aasxnjm  WISEA J172234.79-030706.6  260.64498  -3.11852     8.212161   \n",
       "ZTF22aasxnjm  WISEA J172233.91-030715.8  260.64133  -3.12108    10.153478   \n",
       "ZTF22aasxnjm  WISEA J172233.88-030702.9  260.64118  -3.11749    15.479701   \n",
       "ZTF22aasxnjm  WISEA J172235.42-030731.1  260.64773  -3.12528    21.174917   \n",
       "ZTF22aasxnjm  WISEA J172235.45-030657.1  260.64773  -3.11588    21.477141   \n",
       "ZTF22aasxnjm  WISEA J172234.08-030649.2  260.64203  -3.11368    26.132467   \n",
       "ZTF22aasxnjm  WISEA J172236.22-030735.1  260.65093  -3.12642    32.147839   \n",
       "ZTF22aasxnjm  WISEA J172232.27-030719.9  260.63449  -3.12221    35.075111   \n",
       "\n",
       "              host_offset_bestguess  bestguess_offset host_source  \\\n",
       "oid                                                                 \n",
       "ZTF22aasxnjm               8.229303          0.038111         NED   \n",
       "ZTF22aasxnjm              10.115493          0.038111         NED   \n",
       "ZTF22aasxnjm              15.455968          0.038111         NED   \n",
       "ZTF22aasxnjm              21.195888          0.038111         NED   \n",
       "ZTF22aasxnjm              21.502489          0.038111         NED   \n",
       "ZTF22aasxnjm              26.124418          0.038111         NED   \n",
       "ZTF22aasxnjm              32.174863          0.038111         NED   \n",
       "ZTF22aasxnjm              35.037137          0.038111         NED   \n",
       "\n",
       "              host_redshift_spec host_redshift host_redshift_error  \\\n",
       "oid                                                                  \n",
       "ZTF22aasxnjm               False          NULL                NULL   \n",
       "ZTF22aasxnjm               False          NULL                NULL   \n",
       "ZTF22aasxnjm               False          NULL                NULL   \n",
       "ZTF22aasxnjm               False          NULL                NULL   \n",
       "ZTF22aasxnjm               False          NULL                NULL   \n",
       "ZTF22aasxnjm               False          NULL                NULL   \n",
       "ZTF22aasxnjm               False          NULL                NULL   \n",
       "ZTF22aasxnjm               False          NULL                NULL   \n",
       "\n",
       "             host_redshift_type  \n",
       "oid                              \n",
       "ZTF22aasxnjm               NULL  \n",
       "ZTF22aasxnjm               NULL  \n",
       "ZTF22aasxnjm               NULL  \n",
       "ZTF22aasxnjm               NULL  \n",
       "ZTF22aasxnjm               NULL  \n",
       "ZTF22aasxnjm               NULL  \n",
       "ZTF22aasxnjm               NULL  \n",
       "ZTF22aasxnjm               NULL  "
      ]
     },
     "metadata": {},
     "output_type": "display_data"
    },
    {
     "data": {
      "text/html": [
       "<div>\n",
       "<style scoped>\n",
       "    .dataframe tbody tr th:only-of-type {\n",
       "        vertical-align: middle;\n",
       "    }\n",
       "\n",
       "    .dataframe tbody tr th {\n",
       "        vertical-align: top;\n",
       "    }\n",
       "\n",
       "    .dataframe thead th {\n",
       "        text-align: right;\n",
       "    }\n",
       "</style>\n",
       "<table border=\"1\" class=\"dataframe\">\n",
       "  <thead>\n",
       "    <tr style=\"text-align: right;\">\n",
       "      <th></th>\n",
       "      <th>host_name</th>\n",
       "      <th>host_ra</th>\n",
       "      <th>host_dec</th>\n",
       "      <th>host_offset</th>\n",
       "      <th>host_offset_bestguess</th>\n",
       "      <th>bestguess_offset</th>\n",
       "      <th>host_source</th>\n",
       "      <th>host_redshift_spec</th>\n",
       "      <th>host_redshift</th>\n",
       "      <th>host_redshift_error</th>\n",
       "      <th>host_redshift_type</th>\n",
       "    </tr>\n",
       "    <tr>\n",
       "      <th>oid</th>\n",
       "      <th></th>\n",
       "      <th></th>\n",
       "      <th></th>\n",
       "      <th></th>\n",
       "      <th></th>\n",
       "      <th></th>\n",
       "      <th></th>\n",
       "      <th></th>\n",
       "      <th></th>\n",
       "      <th></th>\n",
       "      <th></th>\n",
       "    </tr>\n",
       "  </thead>\n",
       "  <tbody>\n",
       "    <tr>\n",
       "      <th>ZTF22aasxnjm</th>\n",
       "      <td>NaN</td>\n",
       "      <td>NaN</td>\n",
       "      <td>NaN</td>\n",
       "      <td>NaN</td>\n",
       "      <td>NaN</td>\n",
       "      <td>NaN</td>\n",
       "      <td>NaN</td>\n",
       "      <td>NaN</td>\n",
       "      <td>NaN</td>\n",
       "      <td>NaN</td>\n",
       "      <td>NaN</td>\n",
       "    </tr>\n",
       "  </tbody>\n",
       "</table>\n",
       "</div>"
      ],
      "text/plain": [
       "             host_name host_ra host_dec host_offset host_offset_bestguess  \\\n",
       "oid                                                                         \n",
       "ZTF22aasxnjm       NaN     NaN      NaN         NaN                   NaN   \n",
       "\n",
       "             bestguess_offset host_source host_redshift_spec host_redshift  \\\n",
       "oid                                                                          \n",
       "ZTF22aasxnjm              NaN         NaN                NaN           NaN   \n",
       "\n",
       "             host_redshift_error host_redshift_type  \n",
       "oid                                                  \n",
       "ZTF22aasxnjm                 NaN                NaN  "
      ]
     },
     "metadata": {},
     "output_type": "display_data"
    },
    {
     "name": "stdout",
     "output_type": "stream",
     "text": [
      "19 candidates remaining\n"
     ]
    },
    {
     "data": {
      "application/vnd.jupyter.widget-view+json": {
       "model_id": "05d6e4fa32ea48518058799674bbf431",
       "version_major": 2,
       "version_minor": 0
      },
      "text/plain": [
       "Box(children=(Aladin(fov=0.025, layout=Layout(width='70%'), options=['allow_full_zoomout', 'coo_frame', 'fov',…"
      ]
     },
     "metadata": {},
     "output_type": "display_data"
    },
    {
     "data": {
      "text/html": [
       "<div>\n",
       "<style scoped>\n",
       "    .dataframe tbody tr th:only-of-type {\n",
       "        vertical-align: middle;\n",
       "    }\n",
       "\n",
       "    .dataframe tbody tr th {\n",
       "        vertical-align: top;\n",
       "    }\n",
       "\n",
       "    .dataframe thead th {\n",
       "        text-align: right;\n",
       "    }\n",
       "</style>\n",
       "<table border=\"1\" class=\"dataframe\">\n",
       "  <thead>\n",
       "    <tr style=\"text-align: right;\">\n",
       "      <th></th>\n",
       "      <th>host_name</th>\n",
       "      <th>host_ra</th>\n",
       "      <th>host_dec</th>\n",
       "      <th>host_offset</th>\n",
       "      <th>host_offset_bestguess</th>\n",
       "      <th>bestguess_offset</th>\n",
       "      <th>host_source</th>\n",
       "      <th>host_redshift_spec</th>\n",
       "      <th>host_redshift</th>\n",
       "      <th>host_redshift_error</th>\n",
       "      <th>host_redshift_type</th>\n",
       "    </tr>\n",
       "    <tr>\n",
       "      <th>oid</th>\n",
       "      <th></th>\n",
       "      <th></th>\n",
       "      <th></th>\n",
       "      <th></th>\n",
       "      <th></th>\n",
       "      <th></th>\n",
       "      <th></th>\n",
       "      <th></th>\n",
       "      <th></th>\n",
       "      <th></th>\n",
       "      <th></th>\n",
       "    </tr>\n",
       "  </thead>\n",
       "  <tbody>\n",
       "    <tr>\n",
       "      <th>ZTF22aatgiuw</th>\n",
       "      <td>SDSS J014141.16+012559.0</td>\n",
       "      <td>25.421502</td>\n",
       "      <td>1.433065</td>\n",
       "      <td>2.200036</td>\n",
       "      <td>0.79483</td>\n",
       "      <td>1.625845</td>\n",
       "      <td>SDSSDR16</td>\n",
       "      <td>False</td>\n",
       "      <td>0.042503</td>\n",
       "      <td>0.012772</td>\n",
       "      <td>photoz</td>\n",
       "    </tr>\n",
       "  </tbody>\n",
       "</table>\n",
       "</div>"
      ],
      "text/plain": [
       "                             host_name    host_ra  host_dec host_offset  \\\n",
       "oid                                                                       \n",
       "ZTF22aatgiuw  SDSS J014141.16+012559.0  25.421502  1.433065    2.200036   \n",
       "\n",
       "             host_offset_bestguess bestguess_offset host_source  \\\n",
       "oid                                                               \n",
       "ZTF22aatgiuw               0.79483         1.625845    SDSSDR16   \n",
       "\n",
       "             host_redshift_spec host_redshift host_redshift_error  \\\n",
       "oid                                                                 \n",
       "ZTF22aatgiuw              False      0.042503            0.012772   \n",
       "\n",
       "             host_redshift_type  \n",
       "oid                              \n",
       "ZTF22aatgiuw             photoz  "
      ]
     },
     "metadata": {},
     "output_type": "display_data"
    },
    {
     "name": "stdout",
     "output_type": "stream",
     "text": [
      "18 candidates remaining\n"
     ]
    },
    {
     "data": {
      "application/vnd.jupyter.widget-view+json": {
       "model_id": "4f4d47c88a8d43f889aa581af7e85414",
       "version_major": 2,
       "version_minor": 0
      },
      "text/plain": [
       "Box(children=(Aladin(fov=0.025, layout=Layout(width='70%'), options=['allow_full_zoomout', 'coo_frame', 'fov',…"
      ]
     },
     "metadata": {},
     "output_type": "display_data"
    },
    {
     "data": {
      "text/html": [
       "<div>\n",
       "<style scoped>\n",
       "    .dataframe tbody tr th:only-of-type {\n",
       "        vertical-align: middle;\n",
       "    }\n",
       "\n",
       "    .dataframe tbody tr th {\n",
       "        vertical-align: top;\n",
       "    }\n",
       "\n",
       "    .dataframe thead th {\n",
       "        text-align: right;\n",
       "    }\n",
       "</style>\n",
       "<table border=\"1\" class=\"dataframe\">\n",
       "  <thead>\n",
       "    <tr style=\"text-align: right;\">\n",
       "      <th></th>\n",
       "      <th>host_name</th>\n",
       "      <th>host_ra</th>\n",
       "      <th>host_dec</th>\n",
       "      <th>host_offset</th>\n",
       "      <th>host_offset_bestguess</th>\n",
       "      <th>bestguess_offset</th>\n",
       "      <th>host_source</th>\n",
       "      <th>host_redshift_spec</th>\n",
       "      <th>host_redshift</th>\n",
       "      <th>host_redshift_error</th>\n",
       "      <th>host_redshift_type</th>\n",
       "    </tr>\n",
       "    <tr>\n",
       "      <th>oid</th>\n",
       "      <th></th>\n",
       "      <th></th>\n",
       "      <th></th>\n",
       "      <th></th>\n",
       "      <th></th>\n",
       "      <th></th>\n",
       "      <th></th>\n",
       "      <th></th>\n",
       "      <th></th>\n",
       "      <th></th>\n",
       "      <th></th>\n",
       "    </tr>\n",
       "  </thead>\n",
       "  <tbody>\n",
       "    <tr>\n",
       "      <th>ZTF22aatgjnu</th>\n",
       "      <td>SDSS J010327.70+132629.9</td>\n",
       "      <td>15.865417</td>\n",
       "      <td>13.441649</td>\n",
       "      <td>4.779461</td>\n",
       "      <td>0.536503</td>\n",
       "      <td>5.012349</td>\n",
       "      <td>SDSSDR16</td>\n",
       "      <td>False</td>\n",
       "      <td>0.058774</td>\n",
       "      <td>0.01084</td>\n",
       "      <td>photoz</td>\n",
       "    </tr>\n",
       "  </tbody>\n",
       "</table>\n",
       "</div>"
      ],
      "text/plain": [
       "                             host_name    host_ra   host_dec host_offset  \\\n",
       "oid                                                                        \n",
       "ZTF22aatgjnu  SDSS J010327.70+132629.9  15.865417  13.441649    4.779461   \n",
       "\n",
       "             host_offset_bestguess bestguess_offset host_source  \\\n",
       "oid                                                               \n",
       "ZTF22aatgjnu              0.536503         5.012349    SDSSDR16   \n",
       "\n",
       "             host_redshift_spec host_redshift host_redshift_error  \\\n",
       "oid                                                                 \n",
       "ZTF22aatgjnu              False      0.058774             0.01084   \n",
       "\n",
       "             host_redshift_type  \n",
       "oid                              \n",
       "ZTF22aatgjnu             photoz  "
      ]
     },
     "metadata": {},
     "output_type": "display_data"
    },
    {
     "name": "stdout",
     "output_type": "stream",
     "text": [
      "17 candidates remaining\n"
     ]
    },
    {
     "data": {
      "application/vnd.jupyter.widget-view+json": {
       "model_id": "119cb1fbb35445b9a1a98f16ddf74741",
       "version_major": 2,
       "version_minor": 0
      },
      "text/plain": [
       "Box(children=(Aladin(fov=0.025, layout=Layout(width='70%'), options=['allow_full_zoomout', 'coo_frame', 'fov',…"
      ]
     },
     "metadata": {},
     "output_type": "display_data"
    },
    {
     "data": {
      "text/html": [
       "<div>\n",
       "<style scoped>\n",
       "    .dataframe tbody tr th:only-of-type {\n",
       "        vertical-align: middle;\n",
       "    }\n",
       "\n",
       "    .dataframe tbody tr th {\n",
       "        vertical-align: top;\n",
       "    }\n",
       "\n",
       "    .dataframe thead th {\n",
       "        text-align: right;\n",
       "    }\n",
       "</style>\n",
       "<table border=\"1\" class=\"dataframe\">\n",
       "  <thead>\n",
       "    <tr style=\"text-align: right;\">\n",
       "      <th></th>\n",
       "      <th>host_name</th>\n",
       "      <th>host_ra</th>\n",
       "      <th>host_dec</th>\n",
       "      <th>host_offset</th>\n",
       "      <th>host_offset_bestguess</th>\n",
       "      <th>bestguess_offset</th>\n",
       "      <th>host_source</th>\n",
       "      <th>host_redshift_spec</th>\n",
       "      <th>host_redshift</th>\n",
       "      <th>host_redshift_error</th>\n",
       "      <th>host_redshift_type</th>\n",
       "    </tr>\n",
       "    <tr>\n",
       "      <th>oid</th>\n",
       "      <th></th>\n",
       "      <th></th>\n",
       "      <th></th>\n",
       "      <th></th>\n",
       "      <th></th>\n",
       "      <th></th>\n",
       "      <th></th>\n",
       "      <th></th>\n",
       "      <th></th>\n",
       "      <th></th>\n",
       "      <th></th>\n",
       "    </tr>\n",
       "  </thead>\n",
       "  <tbody>\n",
       "    <tr>\n",
       "      <th>ZTF22aatkeyf</th>\n",
       "      <td>SDSS J014604.19+071523.3</td>\n",
       "      <td>26.517452</td>\n",
       "      <td>7.256494</td>\n",
       "      <td>8.040609</td>\n",
       "      <td>0.317528</td>\n",
       "      <td>8.310296</td>\n",
       "      <td>SDSSDR16</td>\n",
       "      <td>False</td>\n",
       "      <td>0.064361</td>\n",
       "      <td>0.013219</td>\n",
       "      <td>photoz</td>\n",
       "    </tr>\n",
       "  </tbody>\n",
       "</table>\n",
       "</div>"
      ],
      "text/plain": [
       "                             host_name    host_ra  host_dec host_offset  \\\n",
       "oid                                                                       \n",
       "ZTF22aatkeyf  SDSS J014604.19+071523.3  26.517452  7.256494    8.040609   \n",
       "\n",
       "             host_offset_bestguess bestguess_offset host_source  \\\n",
       "oid                                                               \n",
       "ZTF22aatkeyf              0.317528         8.310296    SDSSDR16   \n",
       "\n",
       "             host_redshift_spec host_redshift host_redshift_error  \\\n",
       "oid                                                                 \n",
       "ZTF22aatkeyf              False      0.064361            0.013219   \n",
       "\n",
       "             host_redshift_type  \n",
       "oid                              \n",
       "ZTF22aatkeyf             photoz  "
      ]
     },
     "metadata": {},
     "output_type": "display_data"
    },
    {
     "name": "stdout",
     "output_type": "stream",
     "text": [
      "16 candidates remaining\n"
     ]
    },
    {
     "data": {
      "application/vnd.jupyter.widget-view+json": {
       "model_id": "92d2673d40654865ada5623560bc901d",
       "version_major": 2,
       "version_minor": 0
      },
      "text/plain": [
       "Box(children=(Aladin(fov=0.025, layout=Layout(width='70%'), options=['allow_full_zoomout', 'coo_frame', 'fov',…"
      ]
     },
     "metadata": {},
     "output_type": "display_data"
    },
    {
     "name": "stderr",
     "output_type": "stream",
     "text": [
      "/home/fforster/anaconda3/lib/python3.8/site-packages/astroquery/simbad/core.py:135: UserWarning: Warning: The script line number 3 raised an error (recorded in the `errors` attribute of the result table): '16:23:51.6196 +25:42:54.155': No astronomical object found :\n",
      "  warnings.warn(\"Warning: The script line number %i raised \"\n"
     ]
    },
    {
     "data": {
      "text/html": [
       "<div>\n",
       "<style scoped>\n",
       "    .dataframe tbody tr th:only-of-type {\n",
       "        vertical-align: middle;\n",
       "    }\n",
       "\n",
       "    .dataframe tbody tr th {\n",
       "        vertical-align: top;\n",
       "    }\n",
       "\n",
       "    .dataframe thead th {\n",
       "        text-align: right;\n",
       "    }\n",
       "</style>\n",
       "<table border=\"1\" class=\"dataframe\">\n",
       "  <thead>\n",
       "    <tr style=\"text-align: right;\">\n",
       "      <th></th>\n",
       "      <th>host_name</th>\n",
       "      <th>host_ra</th>\n",
       "      <th>host_dec</th>\n",
       "      <th>host_offset</th>\n",
       "      <th>host_offset_bestguess</th>\n",
       "      <th>bestguess_offset</th>\n",
       "      <th>host_source</th>\n",
       "      <th>host_redshift_spec</th>\n",
       "      <th>host_redshift</th>\n",
       "      <th>host_redshift_error</th>\n",
       "      <th>host_redshift_type</th>\n",
       "    </tr>\n",
       "    <tr>\n",
       "      <th>oid</th>\n",
       "      <th></th>\n",
       "      <th></th>\n",
       "      <th></th>\n",
       "      <th></th>\n",
       "      <th></th>\n",
       "      <th></th>\n",
       "      <th></th>\n",
       "      <th></th>\n",
       "      <th></th>\n",
       "      <th></th>\n",
       "      <th></th>\n",
       "    </tr>\n",
       "  </thead>\n",
       "  <tbody>\n",
       "    <tr>\n",
       "      <th>ZTF22aatlqxr</th>\n",
       "      <td>SDSS J162351.61+254253.8</td>\n",
       "      <td>245.965058</td>\n",
       "      <td>25.714957</td>\n",
       "      <td>3.070695</td>\n",
       "      <td>0.320908</td>\n",
       "      <td>3.050958</td>\n",
       "      <td>SDSSDR16</td>\n",
       "      <td>True</td>\n",
       "      <td>0.111711</td>\n",
       "      <td>0.000017</td>\n",
       "      <td>specz</td>\n",
       "    </tr>\n",
       "  </tbody>\n",
       "</table>\n",
       "</div>"
      ],
      "text/plain": [
       "                             host_name     host_ra   host_dec host_offset  \\\n",
       "oid                                                                         \n",
       "ZTF22aatlqxr  SDSS J162351.61+254253.8  245.965058  25.714957    3.070695   \n",
       "\n",
       "             host_offset_bestguess bestguess_offset host_source  \\\n",
       "oid                                                               \n",
       "ZTF22aatlqxr              0.320908         3.050958    SDSSDR16   \n",
       "\n",
       "             host_redshift_spec host_redshift host_redshift_error  \\\n",
       "oid                                                                 \n",
       "ZTF22aatlqxr               True      0.111711            0.000017   \n",
       "\n",
       "             host_redshift_type  \n",
       "oid                              \n",
       "ZTF22aatlqxr              specz  "
      ]
     },
     "metadata": {},
     "output_type": "display_data"
    },
    {
     "name": "stdout",
     "output_type": "stream",
     "text": [
      "15 candidates remaining\n"
     ]
    },
    {
     "data": {
      "application/vnd.jupyter.widget-view+json": {
       "model_id": "94ee9f68669f4879804a725c70a9d0d7",
       "version_major": 2,
       "version_minor": 0
      },
      "text/plain": [
       "Box(children=(Aladin(fov=0.025, layout=Layout(width='70%'), options=['allow_full_zoomout', 'coo_frame', 'fov',…"
      ]
     },
     "metadata": {},
     "output_type": "display_data"
    },
    {
     "data": {
      "text/html": [
       "<div>\n",
       "<style scoped>\n",
       "    .dataframe tbody tr th:only-of-type {\n",
       "        vertical-align: middle;\n",
       "    }\n",
       "\n",
       "    .dataframe tbody tr th {\n",
       "        vertical-align: top;\n",
       "    }\n",
       "\n",
       "    .dataframe thead th {\n",
       "        text-align: right;\n",
       "    }\n",
       "</style>\n",
       "<table border=\"1\" class=\"dataframe\">\n",
       "  <thead>\n",
       "    <tr style=\"text-align: right;\">\n",
       "      <th></th>\n",
       "      <th>host_name</th>\n",
       "      <th>host_ra</th>\n",
       "      <th>host_dec</th>\n",
       "      <th>host_offset</th>\n",
       "      <th>host_offset_bestguess</th>\n",
       "      <th>bestguess_offset</th>\n",
       "      <th>host_source</th>\n",
       "      <th>host_redshift_spec</th>\n",
       "      <th>host_redshift</th>\n",
       "      <th>host_redshift_error</th>\n",
       "      <th>host_redshift_type</th>\n",
       "    </tr>\n",
       "    <tr>\n",
       "      <th>oid</th>\n",
       "      <th></th>\n",
       "      <th></th>\n",
       "      <th></th>\n",
       "      <th></th>\n",
       "      <th></th>\n",
       "      <th></th>\n",
       "      <th></th>\n",
       "      <th></th>\n",
       "      <th></th>\n",
       "      <th></th>\n",
       "      <th></th>\n",
       "    </tr>\n",
       "  </thead>\n",
       "  <tbody>\n",
       "    <tr>\n",
       "      <th>ZTF22aatnyqk</th>\n",
       "      <td>NGC  6201</td>\n",
       "      <td>250.06006041666666</td>\n",
       "      <td>23.765328611111112</td>\n",
       "      <td>5.775937</td>\n",
       "      <td>0.397324</td>\n",
       "      <td>6.111666</td>\n",
       "      <td>Simbad</td>\n",
       "      <td>True</td>\n",
       "      <td>0.036199</td>\n",
       "      <td>0.000037</td>\n",
       "      <td>D</td>\n",
       "    </tr>\n",
       "  </tbody>\n",
       "</table>\n",
       "</div>"
      ],
      "text/plain": [
       "              host_name             host_ra            host_dec host_offset  \\\n",
       "oid                                                                           \n",
       "ZTF22aatnyqk  NGC  6201  250.06006041666666  23.765328611111112    5.775937   \n",
       "\n",
       "             host_offset_bestguess bestguess_offset host_source  \\\n",
       "oid                                                               \n",
       "ZTF22aatnyqk              0.397324         6.111666      Simbad   \n",
       "\n",
       "             host_redshift_spec host_redshift host_redshift_error  \\\n",
       "oid                                                                 \n",
       "ZTF22aatnyqk               True      0.036199            0.000037   \n",
       "\n",
       "             host_redshift_type  \n",
       "oid                              \n",
       "ZTF22aatnyqk                  D  "
      ]
     },
     "metadata": {},
     "output_type": "display_data"
    },
    {
     "name": "stdout",
     "output_type": "stream",
     "text": [
      "14 candidates remaining\n"
     ]
    },
    {
     "data": {
      "application/vnd.jupyter.widget-view+json": {
       "model_id": "085a453bfd3c4c4b98a9ec3d0cee1dd0",
       "version_major": 2,
       "version_minor": 0
      },
      "text/plain": [
       "Box(children=(Aladin(fov=0.025, layout=Layout(width='70%'), options=['allow_full_zoomout', 'coo_frame', 'fov',…"
      ]
     },
     "metadata": {},
     "output_type": "display_data"
    },
    {
     "name": "stderr",
     "output_type": "stream",
     "text": [
      "/home/fforster/anaconda3/lib/python3.8/site-packages/astroquery/simbad/core.py:135: UserWarning: Warning: The script line number 3 raised an error (recorded in the `errors` attribute of the result table): '4:11:57.9575 +25:53:01.6768': No astronomical object found :\n",
      "  warnings.warn(\"Warning: The script line number %i raised \"\n"
     ]
    },
    {
     "data": {
      "text/html": [
       "<div>\n",
       "<style scoped>\n",
       "    .dataframe tbody tr th:only-of-type {\n",
       "        vertical-align: middle;\n",
       "    }\n",
       "\n",
       "    .dataframe tbody tr th {\n",
       "        vertical-align: top;\n",
       "    }\n",
       "\n",
       "    .dataframe thead th {\n",
       "        text-align: right;\n",
       "    }\n",
       "</style>\n",
       "<table border=\"1\" class=\"dataframe\">\n",
       "  <thead>\n",
       "    <tr style=\"text-align: right;\">\n",
       "      <th></th>\n",
       "      <th>host_name</th>\n",
       "      <th>host_ra</th>\n",
       "      <th>host_dec</th>\n",
       "      <th>host_offset</th>\n",
       "      <th>host_offset_bestguess</th>\n",
       "      <th>bestguess_offset</th>\n",
       "      <th>host_source</th>\n",
       "      <th>host_redshift_spec</th>\n",
       "      <th>host_redshift</th>\n",
       "      <th>host_redshift_error</th>\n",
       "      <th>host_redshift_type</th>\n",
       "    </tr>\n",
       "    <tr>\n",
       "      <th>oid</th>\n",
       "      <th></th>\n",
       "      <th></th>\n",
       "      <th></th>\n",
       "      <th></th>\n",
       "      <th></th>\n",
       "      <th></th>\n",
       "      <th></th>\n",
       "      <th></th>\n",
       "      <th></th>\n",
       "      <th></th>\n",
       "      <th></th>\n",
       "    </tr>\n",
       "  </thead>\n",
       "  <tbody>\n",
       "    <tr>\n",
       "      <th>ZTF22aatrbvj</th>\n",
       "      <td>SDSS J041157.97+255301.7</td>\n",
       "      <td>62.991536</td>\n",
       "      <td>25.883805</td>\n",
       "      <td>2.466045</td>\n",
       "      <td>0.150684</td>\n",
       "      <td>2.588424</td>\n",
       "      <td>SDSSDR16</td>\n",
       "      <td>False</td>\n",
       "      <td>0.171485</td>\n",
       "      <td>0.036822</td>\n",
       "      <td>photoz</td>\n",
       "    </tr>\n",
       "  </tbody>\n",
       "</table>\n",
       "</div>"
      ],
      "text/plain": [
       "                             host_name    host_ra   host_dec host_offset  \\\n",
       "oid                                                                        \n",
       "ZTF22aatrbvj  SDSS J041157.97+255301.7  62.991536  25.883805    2.466045   \n",
       "\n",
       "             host_offset_bestguess bestguess_offset host_source  \\\n",
       "oid                                                               \n",
       "ZTF22aatrbvj              0.150684         2.588424    SDSSDR16   \n",
       "\n",
       "             host_redshift_spec host_redshift host_redshift_error  \\\n",
       "oid                                                                 \n",
       "ZTF22aatrbvj              False      0.171485            0.036822   \n",
       "\n",
       "             host_redshift_type  \n",
       "oid                              \n",
       "ZTF22aatrbvj             photoz  "
      ]
     },
     "metadata": {},
     "output_type": "display_data"
    },
    {
     "name": "stdout",
     "output_type": "stream",
     "text": [
      "13 candidates remaining\n"
     ]
    },
    {
     "data": {
      "application/vnd.jupyter.widget-view+json": {
       "model_id": "466b75cc335b4e979ca9c88c5d2f902b",
       "version_major": 2,
       "version_minor": 0
      },
      "text/plain": [
       "Box(children=(Aladin(fov=0.025, layout=Layout(width='70%'), options=['allow_full_zoomout', 'coo_frame', 'fov',…"
      ]
     },
     "metadata": {},
     "output_type": "display_data"
    },
    {
     "name": "stderr",
     "output_type": "stream",
     "text": [
      "/home/fforster/anaconda3/lib/python3.8/site-packages/astroquery/simbad/core.py:135: UserWarning: Warning: The script line number 3 raised an error (recorded in the `errors` attribute of the result table): '15:05:57.4731 -24:38:23.7851': No astronomical object found :\n",
      "  warnings.warn(\"Warning: The script line number %i raised \"\n"
     ]
    },
    {
     "name": "stdout",
     "output_type": "stream",
     "text": [
      "WARNING: closest crossmatch is too far from the predicted position. No catalog crossmatches found.\n"
     ]
    },
    {
     "data": {
      "text/html": [
       "<div>\n",
       "<style scoped>\n",
       "    .dataframe tbody tr th:only-of-type {\n",
       "        vertical-align: middle;\n",
       "    }\n",
       "\n",
       "    .dataframe tbody tr th {\n",
       "        vertical-align: top;\n",
       "    }\n",
       "\n",
       "    .dataframe thead th {\n",
       "        text-align: right;\n",
       "    }\n",
       "</style>\n",
       "<table border=\"1\" class=\"dataframe\">\n",
       "  <thead>\n",
       "    <tr style=\"text-align: right;\">\n",
       "      <th></th>\n",
       "      <th>host_name</th>\n",
       "      <th>host_ra</th>\n",
       "      <th>host_dec</th>\n",
       "      <th>host_offset</th>\n",
       "      <th>host_offset_bestguess</th>\n",
       "      <th>bestguess_offset</th>\n",
       "      <th>host_source</th>\n",
       "      <th>host_redshift_spec</th>\n",
       "      <th>host_redshift</th>\n",
       "      <th>host_redshift_error</th>\n",
       "      <th>host_redshift_type</th>\n",
       "    </tr>\n",
       "    <tr>\n",
       "      <th>oid</th>\n",
       "      <th></th>\n",
       "      <th></th>\n",
       "      <th></th>\n",
       "      <th></th>\n",
       "      <th></th>\n",
       "      <th></th>\n",
       "      <th></th>\n",
       "      <th></th>\n",
       "      <th></th>\n",
       "      <th></th>\n",
       "      <th></th>\n",
       "    </tr>\n",
       "  </thead>\n",
       "  <tbody>\n",
       "    <tr>\n",
       "      <th>ZTF22aatrnbl</th>\n",
       "      <td>WISEA J150558.05-243825.9</td>\n",
       "      <td>226.49194</td>\n",
       "      <td>-24.64058</td>\n",
       "      <td>8.735909</td>\n",
       "      <td>8.400439</td>\n",
       "      <td>1.811666</td>\n",
       "      <td>NED</td>\n",
       "      <td>False</td>\n",
       "      <td>NULL</td>\n",
       "      <td>NULL</td>\n",
       "      <td>NULL</td>\n",
       "    </tr>\n",
       "    <tr>\n",
       "      <th>ZTF22aatrnbl</th>\n",
       "      <td>WISEA J150556.38-243804.8</td>\n",
       "      <td>226.48495</td>\n",
       "      <td>-24.63469</td>\n",
       "      <td>24.994103</td>\n",
       "      <td>24.002626</td>\n",
       "      <td>1.811666</td>\n",
       "      <td>NED</td>\n",
       "      <td>False</td>\n",
       "      <td>NULL</td>\n",
       "      <td>NULL</td>\n",
       "      <td>NULL</td>\n",
       "    </tr>\n",
       "    <tr>\n",
       "      <th>ZTF22aatrnbl</th>\n",
       "      <td>WISEA J150555.38-243823.1</td>\n",
       "      <td>226.48137</td>\n",
       "      <td>-24.63981</td>\n",
       "      <td>25.962763</td>\n",
       "      <td>26.512724</td>\n",
       "      <td>1.811666</td>\n",
       "      <td>NED</td>\n",
       "      <td>False</td>\n",
       "      <td>NULL</td>\n",
       "      <td>NULL</td>\n",
       "      <td>NULL</td>\n",
       "    </tr>\n",
       "    <tr>\n",
       "      <th>ZTF22aatrnbl</th>\n",
       "      <td>WISEA J150559.53-243825.1</td>\n",
       "      <td>226.49806</td>\n",
       "      <td>-24.64032</td>\n",
       "      <td>28.742544</td>\n",
       "      <td>28.137711</td>\n",
       "      <td>1.811666</td>\n",
       "      <td>NED</td>\n",
       "      <td>False</td>\n",
       "      <td>NULL</td>\n",
       "      <td>NULL</td>\n",
       "      <td>NULL</td>\n",
       "    </tr>\n",
       "    <tr>\n",
       "      <th>ZTF22aatrnbl</th>\n",
       "      <td>WISEA J150558.64-243847.8</td>\n",
       "      <td>226.49442</td>\n",
       "      <td>-24.64660</td>\n",
       "      <td>27.920716</td>\n",
       "      <td>28.931246</td>\n",
       "      <td>1.811666</td>\n",
       "      <td>NED</td>\n",
       "      <td>False</td>\n",
       "      <td>NULL</td>\n",
       "      <td>NULL</td>\n",
       "      <td>NULL</td>\n",
       "    </tr>\n",
       "    <tr>\n",
       "      <th>ZTF22aatrnbl</th>\n",
       "      <td>WISEA J150557.14-243852.7</td>\n",
       "      <td>226.48810</td>\n",
       "      <td>-24.64799</td>\n",
       "      <td>27.552946</td>\n",
       "      <td>29.324117</td>\n",
       "      <td>1.811666</td>\n",
       "      <td>NED</td>\n",
       "      <td>False</td>\n",
       "      <td>NULL</td>\n",
       "      <td>NULL</td>\n",
       "      <td>NULL</td>\n",
       "    </tr>\n",
       "    <tr>\n",
       "      <th>ZTF22aatrnbl</th>\n",
       "      <td>WISEA J150556.69-243751.7</td>\n",
       "      <td>226.48631</td>\n",
       "      <td>-24.63105</td>\n",
       "      <td>35.071772</td>\n",
       "      <td>33.635265</td>\n",
       "      <td>1.811666</td>\n",
       "      <td>NED</td>\n",
       "      <td>False</td>\n",
       "      <td>NULL</td>\n",
       "      <td>NULL</td>\n",
       "      <td>NULL</td>\n",
       "    </tr>\n",
       "    <tr>\n",
       "      <th>ZTF22aatrnbl</th>\n",
       "      <td>WISEA J150555.39-243842.5</td>\n",
       "      <td>226.48080</td>\n",
       "      <td>-24.64516</td>\n",
       "      <td>32.581574</td>\n",
       "      <td>34.031327</td>\n",
       "      <td>1.811666</td>\n",
       "      <td>NED</td>\n",
       "      <td>False</td>\n",
       "      <td>NULL</td>\n",
       "      <td>NULL</td>\n",
       "      <td>NULL</td>\n",
       "    </tr>\n",
       "    <tr>\n",
       "      <th>ZTF22aatrnbl</th>\n",
       "      <td>WISEA J150558.44-243751.8</td>\n",
       "      <td>226.49357</td>\n",
       "      <td>-24.63109</td>\n",
       "      <td>36.379586</td>\n",
       "      <td>34.569272</td>\n",
       "      <td>1.811666</td>\n",
       "      <td>NED</td>\n",
       "      <td>False</td>\n",
       "      <td>NULL</td>\n",
       "      <td>NULL</td>\n",
       "      <td>NULL</td>\n",
       "    </tr>\n",
       "  </tbody>\n",
       "</table>\n",
       "</div>"
      ],
      "text/plain": [
       "                              host_name    host_ra  host_dec  host_offset  \\\n",
       "oid                                                                         \n",
       "ZTF22aatrnbl  WISEA J150558.05-243825.9  226.49194 -24.64058     8.735909   \n",
       "ZTF22aatrnbl  WISEA J150556.38-243804.8  226.48495 -24.63469    24.994103   \n",
       "ZTF22aatrnbl  WISEA J150555.38-243823.1  226.48137 -24.63981    25.962763   \n",
       "ZTF22aatrnbl  WISEA J150559.53-243825.1  226.49806 -24.64032    28.742544   \n",
       "ZTF22aatrnbl  WISEA J150558.64-243847.8  226.49442 -24.64660    27.920716   \n",
       "ZTF22aatrnbl  WISEA J150557.14-243852.7  226.48810 -24.64799    27.552946   \n",
       "ZTF22aatrnbl  WISEA J150556.69-243751.7  226.48631 -24.63105    35.071772   \n",
       "ZTF22aatrnbl  WISEA J150555.39-243842.5  226.48080 -24.64516    32.581574   \n",
       "ZTF22aatrnbl  WISEA J150558.44-243751.8  226.49357 -24.63109    36.379586   \n",
       "\n",
       "              host_offset_bestguess  bestguess_offset host_source  \\\n",
       "oid                                                                 \n",
       "ZTF22aatrnbl               8.400439          1.811666         NED   \n",
       "ZTF22aatrnbl              24.002626          1.811666         NED   \n",
       "ZTF22aatrnbl              26.512724          1.811666         NED   \n",
       "ZTF22aatrnbl              28.137711          1.811666         NED   \n",
       "ZTF22aatrnbl              28.931246          1.811666         NED   \n",
       "ZTF22aatrnbl              29.324117          1.811666         NED   \n",
       "ZTF22aatrnbl              33.635265          1.811666         NED   \n",
       "ZTF22aatrnbl              34.031327          1.811666         NED   \n",
       "ZTF22aatrnbl              34.569272          1.811666         NED   \n",
       "\n",
       "              host_redshift_spec host_redshift host_redshift_error  \\\n",
       "oid                                                                  \n",
       "ZTF22aatrnbl               False          NULL                NULL   \n",
       "ZTF22aatrnbl               False          NULL                NULL   \n",
       "ZTF22aatrnbl               False          NULL                NULL   \n",
       "ZTF22aatrnbl               False          NULL                NULL   \n",
       "ZTF22aatrnbl               False          NULL                NULL   \n",
       "ZTF22aatrnbl               False          NULL                NULL   \n",
       "ZTF22aatrnbl               False          NULL                NULL   \n",
       "ZTF22aatrnbl               False          NULL                NULL   \n",
       "ZTF22aatrnbl               False          NULL                NULL   \n",
       "\n",
       "             host_redshift_type  \n",
       "oid                              \n",
       "ZTF22aatrnbl               NULL  \n",
       "ZTF22aatrnbl               NULL  \n",
       "ZTF22aatrnbl               NULL  \n",
       "ZTF22aatrnbl               NULL  \n",
       "ZTF22aatrnbl               NULL  \n",
       "ZTF22aatrnbl               NULL  \n",
       "ZTF22aatrnbl               NULL  \n",
       "ZTF22aatrnbl               NULL  \n",
       "ZTF22aatrnbl               NULL  "
      ]
     },
     "metadata": {},
     "output_type": "display_data"
    },
    {
     "data": {
      "text/html": [
       "<div>\n",
       "<style scoped>\n",
       "    .dataframe tbody tr th:only-of-type {\n",
       "        vertical-align: middle;\n",
       "    }\n",
       "\n",
       "    .dataframe tbody tr th {\n",
       "        vertical-align: top;\n",
       "    }\n",
       "\n",
       "    .dataframe thead th {\n",
       "        text-align: right;\n",
       "    }\n",
       "</style>\n",
       "<table border=\"1\" class=\"dataframe\">\n",
       "  <thead>\n",
       "    <tr style=\"text-align: right;\">\n",
       "      <th></th>\n",
       "      <th>host_name</th>\n",
       "      <th>host_ra</th>\n",
       "      <th>host_dec</th>\n",
       "      <th>host_offset</th>\n",
       "      <th>host_offset_bestguess</th>\n",
       "      <th>bestguess_offset</th>\n",
       "      <th>host_source</th>\n",
       "      <th>host_redshift_spec</th>\n",
       "      <th>host_redshift</th>\n",
       "      <th>host_redshift_error</th>\n",
       "      <th>host_redshift_type</th>\n",
       "    </tr>\n",
       "    <tr>\n",
       "      <th>oid</th>\n",
       "      <th></th>\n",
       "      <th></th>\n",
       "      <th></th>\n",
       "      <th></th>\n",
       "      <th></th>\n",
       "      <th></th>\n",
       "      <th></th>\n",
       "      <th></th>\n",
       "      <th></th>\n",
       "      <th></th>\n",
       "      <th></th>\n",
       "    </tr>\n",
       "  </thead>\n",
       "  <tbody>\n",
       "    <tr>\n",
       "      <th>ZTF22aatrnbl</th>\n",
       "      <td>NaN</td>\n",
       "      <td>NaN</td>\n",
       "      <td>NaN</td>\n",
       "      <td>NaN</td>\n",
       "      <td>NaN</td>\n",
       "      <td>NaN</td>\n",
       "      <td>NaN</td>\n",
       "      <td>NaN</td>\n",
       "      <td>NaN</td>\n",
       "      <td>NaN</td>\n",
       "      <td>NaN</td>\n",
       "    </tr>\n",
       "  </tbody>\n",
       "</table>\n",
       "</div>"
      ],
      "text/plain": [
       "             host_name host_ra host_dec host_offset host_offset_bestguess  \\\n",
       "oid                                                                         \n",
       "ZTF22aatrnbl       NaN     NaN      NaN         NaN                   NaN   \n",
       "\n",
       "             bestguess_offset host_source host_redshift_spec host_redshift  \\\n",
       "oid                                                                          \n",
       "ZTF22aatrnbl              NaN         NaN                NaN           NaN   \n",
       "\n",
       "             host_redshift_error host_redshift_type  \n",
       "oid                                                  \n",
       "ZTF22aatrnbl                 NaN                NaN  "
      ]
     },
     "metadata": {},
     "output_type": "display_data"
    },
    {
     "name": "stdout",
     "output_type": "stream",
     "text": [
      "12 candidates remaining\n"
     ]
    },
    {
     "data": {
      "application/vnd.jupyter.widget-view+json": {
       "model_id": "4e91404512894f2198af5e2b58b73abc",
       "version_major": 2,
       "version_minor": 0
      },
      "text/plain": [
       "Box(children=(Aladin(fov=0.025, layout=Layout(width='70%'), options=['allow_full_zoomout', 'coo_frame', 'fov',…"
      ]
     },
     "metadata": {},
     "output_type": "display_data"
    },
    {
     "name": "stderr",
     "output_type": "stream",
     "text": [
      "/home/fforster/anaconda3/lib/python3.8/site-packages/astroquery/simbad/core.py:135: UserWarning: Warning: The script line number 3 raised an error (recorded in the `errors` attribute of the result table): '15:36:48.0793 -17:43:52.3723': No astronomical object found :\n",
      "  warnings.warn(\"Warning: The script line number %i raised \"\n"
     ]
    },
    {
     "data": {
      "text/html": [
       "<div>\n",
       "<style scoped>\n",
       "    .dataframe tbody tr th:only-of-type {\n",
       "        vertical-align: middle;\n",
       "    }\n",
       "\n",
       "    .dataframe tbody tr th {\n",
       "        vertical-align: top;\n",
       "    }\n",
       "\n",
       "    .dataframe thead th {\n",
       "        text-align: right;\n",
       "    }\n",
       "</style>\n",
       "<table border=\"1\" class=\"dataframe\">\n",
       "  <thead>\n",
       "    <tr style=\"text-align: right;\">\n",
       "      <th></th>\n",
       "      <th>host_name</th>\n",
       "      <th>host_ra</th>\n",
       "      <th>host_dec</th>\n",
       "      <th>host_offset</th>\n",
       "      <th>host_offset_bestguess</th>\n",
       "      <th>bestguess_offset</th>\n",
       "      <th>host_source</th>\n",
       "      <th>host_redshift_spec</th>\n",
       "      <th>host_redshift</th>\n",
       "      <th>host_redshift_error</th>\n",
       "      <th>host_redshift_type</th>\n",
       "    </tr>\n",
       "    <tr>\n",
       "      <th>oid</th>\n",
       "      <th></th>\n",
       "      <th></th>\n",
       "      <th></th>\n",
       "      <th></th>\n",
       "      <th></th>\n",
       "      <th></th>\n",
       "      <th></th>\n",
       "      <th></th>\n",
       "      <th></th>\n",
       "      <th></th>\n",
       "      <th></th>\n",
       "    </tr>\n",
       "  </thead>\n",
       "  <tbody>\n",
       "    <tr>\n",
       "      <th>ZTF22aatrpse</th>\n",
       "      <td>WISEA J153648.07-174353.0</td>\n",
       "      <td>234.20032</td>\n",
       "      <td>-17.73141</td>\n",
       "      <td>1.133729</td>\n",
       "      <td>0.704594</td>\n",
       "      <td>0.434945</td>\n",
       "      <td>NED</td>\n",
       "      <td>False</td>\n",
       "      <td>NaN</td>\n",
       "      <td>NaN</td>\n",
       "      <td>NaN</td>\n",
       "    </tr>\n",
       "  </tbody>\n",
       "</table>\n",
       "</div>"
      ],
      "text/plain": [
       "                              host_name    host_ra  host_dec host_offset  \\\n",
       "oid                                                                        \n",
       "ZTF22aatrpse  WISEA J153648.07-174353.0  234.20032 -17.73141    1.133729   \n",
       "\n",
       "             host_offset_bestguess bestguess_offset host_source  \\\n",
       "oid                                                               \n",
       "ZTF22aatrpse              0.704594         0.434945         NED   \n",
       "\n",
       "             host_redshift_spec host_redshift host_redshift_error  \\\n",
       "oid                                                                 \n",
       "ZTF22aatrpse              False           NaN                 NaN   \n",
       "\n",
       "             host_redshift_type  \n",
       "oid                              \n",
       "ZTF22aatrpse                NaN  "
      ]
     },
     "metadata": {},
     "output_type": "display_data"
    },
    {
     "name": "stdout",
     "output_type": "stream",
     "text": [
      "11 candidates remaining\n"
     ]
    },
    {
     "data": {
      "application/vnd.jupyter.widget-view+json": {
       "model_id": "c0a13d96f77e4e8fb874fff88f7a3d49",
       "version_major": 2,
       "version_minor": 0
      },
      "text/plain": [
       "Box(children=(Aladin(fov=0.025, layout=Layout(width='70%'), options=['allow_full_zoomout', 'coo_frame', 'fov',…"
      ]
     },
     "metadata": {},
     "output_type": "display_data"
    },
    {
     "name": "stderr",
     "output_type": "stream",
     "text": [
      "/home/fforster/anaconda3/lib/python3.8/site-packages/astroquery/simbad/core.py:135: UserWarning: Warning: The script line number 3 raised an error (recorded in the `errors` attribute of the result table): '14:10:50.2941 +63:21:56.7889': No astronomical object found :\n",
      "  warnings.warn(\"Warning: The script line number %i raised \"\n"
     ]
    },
    {
     "data": {
      "text/html": [
       "<div>\n",
       "<style scoped>\n",
       "    .dataframe tbody tr th:only-of-type {\n",
       "        vertical-align: middle;\n",
       "    }\n",
       "\n",
       "    .dataframe tbody tr th {\n",
       "        vertical-align: top;\n",
       "    }\n",
       "\n",
       "    .dataframe thead th {\n",
       "        text-align: right;\n",
       "    }\n",
       "</style>\n",
       "<table border=\"1\" class=\"dataframe\">\n",
       "  <thead>\n",
       "    <tr style=\"text-align: right;\">\n",
       "      <th></th>\n",
       "      <th>host_name</th>\n",
       "      <th>host_ra</th>\n",
       "      <th>host_dec</th>\n",
       "      <th>host_offset</th>\n",
       "      <th>host_offset_bestguess</th>\n",
       "      <th>bestguess_offset</th>\n",
       "      <th>host_source</th>\n",
       "      <th>host_redshift_spec</th>\n",
       "      <th>host_redshift</th>\n",
       "      <th>host_redshift_error</th>\n",
       "      <th>host_redshift_type</th>\n",
       "    </tr>\n",
       "    <tr>\n",
       "      <th>oid</th>\n",
       "      <th></th>\n",
       "      <th></th>\n",
       "      <th></th>\n",
       "      <th></th>\n",
       "      <th></th>\n",
       "      <th></th>\n",
       "      <th></th>\n",
       "      <th></th>\n",
       "      <th></th>\n",
       "      <th></th>\n",
       "      <th></th>\n",
       "    </tr>\n",
       "  </thead>\n",
       "  <tbody>\n",
       "    <tr>\n",
       "      <th>ZTF22aatrujl</th>\n",
       "      <td>SDSS J141050.30+632156.8</td>\n",
       "      <td>212.709603</td>\n",
       "      <td>63.365779</td>\n",
       "      <td>2.401066</td>\n",
       "      <td>0.072427</td>\n",
       "      <td>2.46203</td>\n",
       "      <td>SDSSDR16</td>\n",
       "      <td>False</td>\n",
       "      <td>0.152865</td>\n",
       "      <td>0.035469</td>\n",
       "      <td>photoz</td>\n",
       "    </tr>\n",
       "  </tbody>\n",
       "</table>\n",
       "</div>"
      ],
      "text/plain": [
       "                             host_name     host_ra   host_dec host_offset  \\\n",
       "oid                                                                         \n",
       "ZTF22aatrujl  SDSS J141050.30+632156.8  212.709603  63.365779    2.401066   \n",
       "\n",
       "             host_offset_bestguess bestguess_offset host_source  \\\n",
       "oid                                                               \n",
       "ZTF22aatrujl              0.072427          2.46203    SDSSDR16   \n",
       "\n",
       "             host_redshift_spec host_redshift host_redshift_error  \\\n",
       "oid                                                                 \n",
       "ZTF22aatrujl              False      0.152865            0.035469   \n",
       "\n",
       "             host_redshift_type  \n",
       "oid                              \n",
       "ZTF22aatrujl             photoz  "
      ]
     },
     "metadata": {},
     "output_type": "display_data"
    },
    {
     "name": "stdout",
     "output_type": "stream",
     "text": [
      "10 candidates remaining\n"
     ]
    },
    {
     "data": {
      "application/vnd.jupyter.widget-view+json": {
       "model_id": "d5cf894a8673427d9acf9537c1459bef",
       "version_major": 2,
       "version_minor": 0
      },
      "text/plain": [
       "Box(children=(Aladin(fov=0.025, layout=Layout(width='70%'), options=['allow_full_zoomout', 'coo_frame', 'fov',…"
      ]
     },
     "metadata": {},
     "output_type": "display_data"
    },
    {
     "data": {
      "text/html": [
       "<div>\n",
       "<style scoped>\n",
       "    .dataframe tbody tr th:only-of-type {\n",
       "        vertical-align: middle;\n",
       "    }\n",
       "\n",
       "    .dataframe tbody tr th {\n",
       "        vertical-align: top;\n",
       "    }\n",
       "\n",
       "    .dataframe thead th {\n",
       "        text-align: right;\n",
       "    }\n",
       "</style>\n",
       "<table border=\"1\" class=\"dataframe\">\n",
       "  <thead>\n",
       "    <tr style=\"text-align: right;\">\n",
       "      <th></th>\n",
       "      <th>host_name</th>\n",
       "      <th>host_ra</th>\n",
       "      <th>host_dec</th>\n",
       "      <th>host_offset</th>\n",
       "      <th>host_offset_bestguess</th>\n",
       "      <th>bestguess_offset</th>\n",
       "      <th>host_source</th>\n",
       "      <th>host_redshift_spec</th>\n",
       "      <th>host_redshift</th>\n",
       "      <th>host_redshift_error</th>\n",
       "      <th>host_redshift_type</th>\n",
       "    </tr>\n",
       "    <tr>\n",
       "      <th>oid</th>\n",
       "      <th></th>\n",
       "      <th></th>\n",
       "      <th></th>\n",
       "      <th></th>\n",
       "      <th></th>\n",
       "      <th></th>\n",
       "      <th></th>\n",
       "      <th></th>\n",
       "      <th></th>\n",
       "      <th></th>\n",
       "      <th></th>\n",
       "    </tr>\n",
       "  </thead>\n",
       "  <tbody>\n",
       "    <tr>\n",
       "      <th>ZTF22aatrzyq</th>\n",
       "      <td>SDSS J141909.14+102441.0</td>\n",
       "      <td>214.788095</td>\n",
       "      <td>10.411408</td>\n",
       "      <td>2.687939</td>\n",
       "      <td>0.229693</td>\n",
       "      <td>2.890468</td>\n",
       "      <td>SDSSDR16</td>\n",
       "      <td>True</td>\n",
       "      <td>0.078105</td>\n",
       "      <td>0.000009</td>\n",
       "      <td>specz</td>\n",
       "    </tr>\n",
       "  </tbody>\n",
       "</table>\n",
       "</div>"
      ],
      "text/plain": [
       "                             host_name     host_ra   host_dec host_offset  \\\n",
       "oid                                                                         \n",
       "ZTF22aatrzyq  SDSS J141909.14+102441.0  214.788095  10.411408    2.687939   \n",
       "\n",
       "             host_offset_bestguess bestguess_offset host_source  \\\n",
       "oid                                                               \n",
       "ZTF22aatrzyq              0.229693         2.890468    SDSSDR16   \n",
       "\n",
       "             host_redshift_spec host_redshift host_redshift_error  \\\n",
       "oid                                                                 \n",
       "ZTF22aatrzyq               True      0.078105            0.000009   \n",
       "\n",
       "             host_redshift_type  \n",
       "oid                              \n",
       "ZTF22aatrzyq              specz  "
      ]
     },
     "metadata": {},
     "output_type": "display_data"
    },
    {
     "name": "stdout",
     "output_type": "stream",
     "text": [
      "9 candidates remaining\n"
     ]
    },
    {
     "data": {
      "application/vnd.jupyter.widget-view+json": {
       "model_id": "1bafb1fd53a84c109b766e36bc629d66",
       "version_major": 2,
       "version_minor": 0
      },
      "text/plain": [
       "Box(children=(Aladin(fov=0.025, layout=Layout(width='70%'), options=['allow_full_zoomout', 'coo_frame', 'fov',…"
      ]
     },
     "metadata": {},
     "output_type": "display_data"
    },
    {
     "name": "stderr",
     "output_type": "stream",
     "text": [
      "/home/fforster/anaconda3/lib/python3.8/site-packages/astroquery/simbad/core.py:135: UserWarning: Warning: The script line number 3 raised an error (recorded in the `errors` attribute of the result table): '16:49:29.3936 +22:49:17.0779': No astronomical object found :\n",
      "  warnings.warn(\"Warning: The script line number %i raised \"\n"
     ]
    },
    {
     "data": {
      "text/html": [
       "<div>\n",
       "<style scoped>\n",
       "    .dataframe tbody tr th:only-of-type {\n",
       "        vertical-align: middle;\n",
       "    }\n",
       "\n",
       "    .dataframe tbody tr th {\n",
       "        vertical-align: top;\n",
       "    }\n",
       "\n",
       "    .dataframe thead th {\n",
       "        text-align: right;\n",
       "    }\n",
       "</style>\n",
       "<table border=\"1\" class=\"dataframe\">\n",
       "  <thead>\n",
       "    <tr style=\"text-align: right;\">\n",
       "      <th></th>\n",
       "      <th>host_name</th>\n",
       "      <th>host_ra</th>\n",
       "      <th>host_dec</th>\n",
       "      <th>host_offset</th>\n",
       "      <th>host_offset_bestguess</th>\n",
       "      <th>bestguess_offset</th>\n",
       "      <th>host_source</th>\n",
       "      <th>host_redshift_spec</th>\n",
       "      <th>host_redshift</th>\n",
       "      <th>host_redshift_error</th>\n",
       "      <th>host_redshift_type</th>\n",
       "    </tr>\n",
       "    <tr>\n",
       "      <th>oid</th>\n",
       "      <th></th>\n",
       "      <th></th>\n",
       "      <th></th>\n",
       "      <th></th>\n",
       "      <th></th>\n",
       "      <th></th>\n",
       "      <th></th>\n",
       "      <th></th>\n",
       "      <th></th>\n",
       "      <th></th>\n",
       "      <th></th>\n",
       "    </tr>\n",
       "  </thead>\n",
       "  <tbody>\n",
       "    <tr>\n",
       "      <th>ZTF22aatsbjo</th>\n",
       "      <td>SDSS J164929.40+224916.7</td>\n",
       "      <td>252.372507</td>\n",
       "      <td>22.821329</td>\n",
       "      <td>1.39677</td>\n",
       "      <td>0.312795</td>\n",
       "      <td>1.17464</td>\n",
       "      <td>SDSSDR16</td>\n",
       "      <td>False</td>\n",
       "      <td>0.138089</td>\n",
       "      <td>0.038266</td>\n",
       "      <td>photoz</td>\n",
       "    </tr>\n",
       "  </tbody>\n",
       "</table>\n",
       "</div>"
      ],
      "text/plain": [
       "                             host_name     host_ra   host_dec host_offset  \\\n",
       "oid                                                                         \n",
       "ZTF22aatsbjo  SDSS J164929.40+224916.7  252.372507  22.821329     1.39677   \n",
       "\n",
       "             host_offset_bestguess bestguess_offset host_source  \\\n",
       "oid                                                               \n",
       "ZTF22aatsbjo              0.312795          1.17464    SDSSDR16   \n",
       "\n",
       "             host_redshift_spec host_redshift host_redshift_error  \\\n",
       "oid                                                                 \n",
       "ZTF22aatsbjo              False      0.138089            0.038266   \n",
       "\n",
       "             host_redshift_type  \n",
       "oid                              \n",
       "ZTF22aatsbjo             photoz  "
      ]
     },
     "metadata": {},
     "output_type": "display_data"
    },
    {
     "name": "stdout",
     "output_type": "stream",
     "text": [
      "8 candidates remaining\n"
     ]
    },
    {
     "data": {
      "application/vnd.jupyter.widget-view+json": {
       "model_id": "e1c410a95717491c8400cdc299fc8209",
       "version_major": 2,
       "version_minor": 0
      },
      "text/plain": [
       "Box(children=(Aladin(fov=0.025, layout=Layout(width='70%'), options=['allow_full_zoomout', 'coo_frame', 'fov',…"
      ]
     },
     "metadata": {},
     "output_type": "display_data"
    },
    {
     "name": "stderr",
     "output_type": "stream",
     "text": [
      "/home/fforster/anaconda3/lib/python3.8/site-packages/astroquery/simbad/core.py:135: UserWarning: Warning: The script line number 3 raised an error (recorded in the `errors` attribute of the result table): '17:20:55.1261 +29:44:26.9002': No astronomical object found :\n",
      "  warnings.warn(\"Warning: The script line number %i raised \"\n"
     ]
    },
    {
     "data": {
      "text/html": [
       "<div>\n",
       "<style scoped>\n",
       "    .dataframe tbody tr th:only-of-type {\n",
       "        vertical-align: middle;\n",
       "    }\n",
       "\n",
       "    .dataframe tbody tr th {\n",
       "        vertical-align: top;\n",
       "    }\n",
       "\n",
       "    .dataframe thead th {\n",
       "        text-align: right;\n",
       "    }\n",
       "</style>\n",
       "<table border=\"1\" class=\"dataframe\">\n",
       "  <thead>\n",
       "    <tr style=\"text-align: right;\">\n",
       "      <th></th>\n",
       "      <th>host_name</th>\n",
       "      <th>host_ra</th>\n",
       "      <th>host_dec</th>\n",
       "      <th>host_offset</th>\n",
       "      <th>host_offset_bestguess</th>\n",
       "      <th>bestguess_offset</th>\n",
       "      <th>host_source</th>\n",
       "      <th>host_redshift_spec</th>\n",
       "      <th>host_redshift</th>\n",
       "      <th>host_redshift_error</th>\n",
       "      <th>host_redshift_type</th>\n",
       "    </tr>\n",
       "    <tr>\n",
       "      <th>oid</th>\n",
       "      <th></th>\n",
       "      <th></th>\n",
       "      <th></th>\n",
       "      <th></th>\n",
       "      <th></th>\n",
       "      <th></th>\n",
       "      <th></th>\n",
       "      <th></th>\n",
       "      <th></th>\n",
       "      <th></th>\n",
       "      <th></th>\n",
       "    </tr>\n",
       "  </thead>\n",
       "  <tbody>\n",
       "    <tr>\n",
       "      <th>ZTF22aatsdyx</th>\n",
       "      <td>SDSS J172055.14+294426.4</td>\n",
       "      <td>260.229768</td>\n",
       "      <td>29.740685</td>\n",
       "      <td>3.177645</td>\n",
       "      <td>0.492974</td>\n",
       "      <td>2.895159</td>\n",
       "      <td>SDSSDR16</td>\n",
       "      <td>False</td>\n",
       "      <td>0.149418</td>\n",
       "      <td>0.024392</td>\n",
       "      <td>photoz</td>\n",
       "    </tr>\n",
       "  </tbody>\n",
       "</table>\n",
       "</div>"
      ],
      "text/plain": [
       "                             host_name     host_ra   host_dec host_offset  \\\n",
       "oid                                                                         \n",
       "ZTF22aatsdyx  SDSS J172055.14+294426.4  260.229768  29.740685    3.177645   \n",
       "\n",
       "             host_offset_bestguess bestguess_offset host_source  \\\n",
       "oid                                                               \n",
       "ZTF22aatsdyx              0.492974         2.895159    SDSSDR16   \n",
       "\n",
       "             host_redshift_spec host_redshift host_redshift_error  \\\n",
       "oid                                                                 \n",
       "ZTF22aatsdyx              False      0.149418            0.024392   \n",
       "\n",
       "             host_redshift_type  \n",
       "oid                              \n",
       "ZTF22aatsdyx             photoz  "
      ]
     },
     "metadata": {},
     "output_type": "display_data"
    },
    {
     "name": "stdout",
     "output_type": "stream",
     "text": [
      "7 candidates remaining\n"
     ]
    },
    {
     "data": {
      "application/vnd.jupyter.widget-view+json": {
       "model_id": "a556804848be429fa8d512d2301e5b03",
       "version_major": 2,
       "version_minor": 0
      },
      "text/plain": [
       "Box(children=(Aladin(fov=0.025, layout=Layout(width='70%'), options=['allow_full_zoomout', 'coo_frame', 'fov',…"
      ]
     },
     "metadata": {},
     "output_type": "display_data"
    },
    {
     "data": {
      "text/html": [
       "<div>\n",
       "<style scoped>\n",
       "    .dataframe tbody tr th:only-of-type {\n",
       "        vertical-align: middle;\n",
       "    }\n",
       "\n",
       "    .dataframe tbody tr th {\n",
       "        vertical-align: top;\n",
       "    }\n",
       "\n",
       "    .dataframe thead th {\n",
       "        text-align: right;\n",
       "    }\n",
       "</style>\n",
       "<table border=\"1\" class=\"dataframe\">\n",
       "  <thead>\n",
       "    <tr style=\"text-align: right;\">\n",
       "      <th></th>\n",
       "      <th>host_name</th>\n",
       "      <th>host_ra</th>\n",
       "      <th>host_dec</th>\n",
       "      <th>host_offset</th>\n",
       "      <th>host_offset_bestguess</th>\n",
       "      <th>bestguess_offset</th>\n",
       "      <th>host_source</th>\n",
       "      <th>host_redshift_spec</th>\n",
       "      <th>host_redshift</th>\n",
       "      <th>host_redshift_error</th>\n",
       "      <th>host_redshift_type</th>\n",
       "    </tr>\n",
       "    <tr>\n",
       "      <th>oid</th>\n",
       "      <th></th>\n",
       "      <th></th>\n",
       "      <th></th>\n",
       "      <th></th>\n",
       "      <th></th>\n",
       "      <th></th>\n",
       "      <th></th>\n",
       "      <th></th>\n",
       "      <th></th>\n",
       "      <th></th>\n",
       "      <th></th>\n",
       "    </tr>\n",
       "  </thead>\n",
       "  <tbody>\n",
       "    <tr>\n",
       "      <th>ZTF22aatsfly</th>\n",
       "      <td>SDSS J174111.16+461446.6</td>\n",
       "      <td>265.296508</td>\n",
       "      <td>46.24628</td>\n",
       "      <td>2.213072</td>\n",
       "      <td>0.456695</td>\n",
       "      <td>1.760662</td>\n",
       "      <td>SDSSDR16</td>\n",
       "      <td>False</td>\n",
       "      <td>0.128017</td>\n",
       "      <td>0.01283</td>\n",
       "      <td>photoz</td>\n",
       "    </tr>\n",
       "  </tbody>\n",
       "</table>\n",
       "</div>"
      ],
      "text/plain": [
       "                             host_name     host_ra  host_dec host_offset  \\\n",
       "oid                                                                        \n",
       "ZTF22aatsfly  SDSS J174111.16+461446.6  265.296508  46.24628    2.213072   \n",
       "\n",
       "             host_offset_bestguess bestguess_offset host_source  \\\n",
       "oid                                                               \n",
       "ZTF22aatsfly              0.456695         1.760662    SDSSDR16   \n",
       "\n",
       "             host_redshift_spec host_redshift host_redshift_error  \\\n",
       "oid                                                                 \n",
       "ZTF22aatsfly              False      0.128017             0.01283   \n",
       "\n",
       "             host_redshift_type  \n",
       "oid                              \n",
       "ZTF22aatsfly             photoz  "
      ]
     },
     "metadata": {},
     "output_type": "display_data"
    },
    {
     "name": "stdout",
     "output_type": "stream",
     "text": [
      "6 candidates remaining\n"
     ]
    },
    {
     "data": {
      "application/vnd.jupyter.widget-view+json": {
       "model_id": "74d3a18a700b4a7d976b899ca29fa7aa",
       "version_major": 2,
       "version_minor": 0
      },
      "text/plain": [
       "Box(children=(Aladin(fov=0.025, layout=Layout(width='70%'), options=['allow_full_zoomout', 'coo_frame', 'fov',…"
      ]
     },
     "metadata": {},
     "output_type": "display_data"
    },
    {
     "name": "stderr",
     "output_type": "stream",
     "text": [
      "/home/fforster/anaconda3/lib/python3.8/site-packages/astroquery/simbad/core.py:135: UserWarning: Warning: The script line number 3 raised an error (recorded in the `errors` attribute of the result table): '18:19:24.1608 +13:53:54.0118': No astronomical object found :\n",
      "  warnings.warn(\"Warning: The script line number %i raised \"\n"
     ]
    },
    {
     "name": "stdout",
     "output_type": "stream",
     "text": [
      "WARNING: closest crossmatch is too far from the predicted position. No catalog crossmatches found.\n"
     ]
    },
    {
     "data": {
      "text/html": [
       "<div>\n",
       "<style scoped>\n",
       "    .dataframe tbody tr th:only-of-type {\n",
       "        vertical-align: middle;\n",
       "    }\n",
       "\n",
       "    .dataframe tbody tr th {\n",
       "        vertical-align: top;\n",
       "    }\n",
       "\n",
       "    .dataframe thead th {\n",
       "        text-align: right;\n",
       "    }\n",
       "</style>\n",
       "<table border=\"1\" class=\"dataframe\">\n",
       "  <thead>\n",
       "    <tr style=\"text-align: right;\">\n",
       "      <th></th>\n",
       "      <th>host_name</th>\n",
       "      <th>host_ra</th>\n",
       "      <th>host_dec</th>\n",
       "      <th>host_offset</th>\n",
       "      <th>host_offset_bestguess</th>\n",
       "      <th>bestguess_offset</th>\n",
       "      <th>host_source</th>\n",
       "      <th>host_redshift_spec</th>\n",
       "      <th>host_redshift</th>\n",
       "      <th>host_redshift_error</th>\n",
       "      <th>host_redshift_type</th>\n",
       "    </tr>\n",
       "    <tr>\n",
       "      <th>oid</th>\n",
       "      <th></th>\n",
       "      <th></th>\n",
       "      <th></th>\n",
       "      <th></th>\n",
       "      <th></th>\n",
       "      <th></th>\n",
       "      <th></th>\n",
       "      <th></th>\n",
       "      <th></th>\n",
       "      <th></th>\n",
       "      <th></th>\n",
       "    </tr>\n",
       "  </thead>\n",
       "  <tbody>\n",
       "    <tr>\n",
       "      <th>ZTF22aattadv</th>\n",
       "      <td>WISEA J181923.89+135341.3</td>\n",
       "      <td>274.849620</td>\n",
       "      <td>13.894790</td>\n",
       "      <td>12.276437</td>\n",
       "      <td>13.284442</td>\n",
       "      <td>1.391275</td>\n",
       "      <td>NED</td>\n",
       "      <td>False</td>\n",
       "      <td>NULL</td>\n",
       "      <td>NULL</td>\n",
       "      <td>NULL</td>\n",
       "    </tr>\n",
       "    <tr>\n",
       "      <th>ZTF22aattadv</th>\n",
       "      <td>SDSS J181923.54+135405.3</td>\n",
       "      <td>274.848073</td>\n",
       "      <td>13.901493</td>\n",
       "      <td>15.899816</td>\n",
       "      <td>14.542024</td>\n",
       "      <td>1.391275</td>\n",
       "      <td>SDSSDR16</td>\n",
       "      <td>False</td>\n",
       "      <td>NULL</td>\n",
       "      <td>NULL</td>\n",
       "      <td>photoz</td>\n",
       "    </tr>\n",
       "    <tr>\n",
       "      <th>ZTF22aattadv</th>\n",
       "      <td>SDSS J181923.25+135346.1</td>\n",
       "      <td>274.846860</td>\n",
       "      <td>13.896158</td>\n",
       "      <td>15.390533</td>\n",
       "      <td>15.450948</td>\n",
       "      <td>1.391275</td>\n",
       "      <td>SDSSDR16</td>\n",
       "      <td>False</td>\n",
       "      <td>0.797957</td>\n",
       "      <td>0.060199</td>\n",
       "      <td>photoz</td>\n",
       "    </tr>\n",
       "    <tr>\n",
       "      <th>ZTF22aattadv</th>\n",
       "      <td>WISEA J181924.28+135420.3</td>\n",
       "      <td>274.851160</td>\n",
       "      <td>13.905670</td>\n",
       "      <td>27.679185</td>\n",
       "      <td>26.455730</td>\n",
       "      <td>1.391275</td>\n",
       "      <td>NED</td>\n",
       "      <td>False</td>\n",
       "      <td>NULL</td>\n",
       "      <td>NULL</td>\n",
       "      <td>NULL</td>\n",
       "    </tr>\n",
       "    <tr>\n",
       "      <th>ZTF22aattadv</th>\n",
       "      <td>SDSS J181922.45+135340.4</td>\n",
       "      <td>274.843548</td>\n",
       "      <td>13.894577</td>\n",
       "      <td>28.289248</td>\n",
       "      <td>28.330568</td>\n",
       "      <td>1.391275</td>\n",
       "      <td>SDSSDR16</td>\n",
       "      <td>False</td>\n",
       "      <td>0.100694</td>\n",
       "      <td>0.081001</td>\n",
       "      <td>photoz</td>\n",
       "    </tr>\n",
       "  </tbody>\n",
       "</table>\n",
       "</div>"
      ],
      "text/plain": [
       "                              host_name     host_ra   host_dec  host_offset  \\\n",
       "oid                                                                           \n",
       "ZTF22aattadv  WISEA J181923.89+135341.3  274.849620  13.894790    12.276437   \n",
       "ZTF22aattadv   SDSS J181923.54+135405.3  274.848073  13.901493    15.899816   \n",
       "ZTF22aattadv   SDSS J181923.25+135346.1  274.846860  13.896158    15.390533   \n",
       "ZTF22aattadv  WISEA J181924.28+135420.3  274.851160  13.905670    27.679185   \n",
       "ZTF22aattadv   SDSS J181922.45+135340.4  274.843548  13.894577    28.289248   \n",
       "\n",
       "              host_offset_bestguess  bestguess_offset host_source  \\\n",
       "oid                                                                 \n",
       "ZTF22aattadv              13.284442          1.391275         NED   \n",
       "ZTF22aattadv              14.542024          1.391275    SDSSDR16   \n",
       "ZTF22aattadv              15.450948          1.391275    SDSSDR16   \n",
       "ZTF22aattadv              26.455730          1.391275         NED   \n",
       "ZTF22aattadv              28.330568          1.391275    SDSSDR16   \n",
       "\n",
       "              host_redshift_spec host_redshift host_redshift_error  \\\n",
       "oid                                                                  \n",
       "ZTF22aattadv               False          NULL                NULL   \n",
       "ZTF22aattadv               False          NULL                NULL   \n",
       "ZTF22aattadv               False      0.797957            0.060199   \n",
       "ZTF22aattadv               False          NULL                NULL   \n",
       "ZTF22aattadv               False      0.100694            0.081001   \n",
       "\n",
       "             host_redshift_type  \n",
       "oid                              \n",
       "ZTF22aattadv               NULL  \n",
       "ZTF22aattadv             photoz  \n",
       "ZTF22aattadv             photoz  \n",
       "ZTF22aattadv               NULL  \n",
       "ZTF22aattadv             photoz  "
      ]
     },
     "metadata": {},
     "output_type": "display_data"
    },
    {
     "data": {
      "text/html": [
       "<div>\n",
       "<style scoped>\n",
       "    .dataframe tbody tr th:only-of-type {\n",
       "        vertical-align: middle;\n",
       "    }\n",
       "\n",
       "    .dataframe tbody tr th {\n",
       "        vertical-align: top;\n",
       "    }\n",
       "\n",
       "    .dataframe thead th {\n",
       "        text-align: right;\n",
       "    }\n",
       "</style>\n",
       "<table border=\"1\" class=\"dataframe\">\n",
       "  <thead>\n",
       "    <tr style=\"text-align: right;\">\n",
       "      <th></th>\n",
       "      <th>host_name</th>\n",
       "      <th>host_ra</th>\n",
       "      <th>host_dec</th>\n",
       "      <th>host_offset</th>\n",
       "      <th>host_offset_bestguess</th>\n",
       "      <th>bestguess_offset</th>\n",
       "      <th>host_source</th>\n",
       "      <th>host_redshift_spec</th>\n",
       "      <th>host_redshift</th>\n",
       "      <th>host_redshift_error</th>\n",
       "      <th>host_redshift_type</th>\n",
       "    </tr>\n",
       "    <tr>\n",
       "      <th>oid</th>\n",
       "      <th></th>\n",
       "      <th></th>\n",
       "      <th></th>\n",
       "      <th></th>\n",
       "      <th></th>\n",
       "      <th></th>\n",
       "      <th></th>\n",
       "      <th></th>\n",
       "      <th></th>\n",
       "      <th></th>\n",
       "      <th></th>\n",
       "    </tr>\n",
       "  </thead>\n",
       "  <tbody>\n",
       "    <tr>\n",
       "      <th>ZTF22aattadv</th>\n",
       "      <td>NaN</td>\n",
       "      <td>NaN</td>\n",
       "      <td>NaN</td>\n",
       "      <td>NaN</td>\n",
       "      <td>NaN</td>\n",
       "      <td>NaN</td>\n",
       "      <td>NaN</td>\n",
       "      <td>NaN</td>\n",
       "      <td>NaN</td>\n",
       "      <td>NaN</td>\n",
       "      <td>NaN</td>\n",
       "    </tr>\n",
       "  </tbody>\n",
       "</table>\n",
       "</div>"
      ],
      "text/plain": [
       "             host_name host_ra host_dec host_offset host_offset_bestguess  \\\n",
       "oid                                                                         \n",
       "ZTF22aattadv       NaN     NaN      NaN         NaN                   NaN   \n",
       "\n",
       "             bestguess_offset host_source host_redshift_spec host_redshift  \\\n",
       "oid                                                                          \n",
       "ZTF22aattadv              NaN         NaN                NaN           NaN   \n",
       "\n",
       "             host_redshift_error host_redshift_type  \n",
       "oid                                                  \n",
       "ZTF22aattadv                 NaN                NaN  "
      ]
     },
     "metadata": {},
     "output_type": "display_data"
    },
    {
     "name": "stdout",
     "output_type": "stream",
     "text": [
      "5 candidates remaining\n"
     ]
    },
    {
     "data": {
      "application/vnd.jupyter.widget-view+json": {
       "model_id": "08e04f1999634d3a855e2e3a5c619ab5",
       "version_major": 2,
       "version_minor": 0
      },
      "text/plain": [
       "Box(children=(Aladin(fov=0.025, layout=Layout(width='70%'), options=['allow_full_zoomout', 'coo_frame', 'fov',…"
      ]
     },
     "metadata": {},
     "output_type": "display_data"
    },
    {
     "data": {
      "text/html": [
       "<div>\n",
       "<style scoped>\n",
       "    .dataframe tbody tr th:only-of-type {\n",
       "        vertical-align: middle;\n",
       "    }\n",
       "\n",
       "    .dataframe tbody tr th {\n",
       "        vertical-align: top;\n",
       "    }\n",
       "\n",
       "    .dataframe thead th {\n",
       "        text-align: right;\n",
       "    }\n",
       "</style>\n",
       "<table border=\"1\" class=\"dataframe\">\n",
       "  <thead>\n",
       "    <tr style=\"text-align: right;\">\n",
       "      <th></th>\n",
       "      <th>host_name</th>\n",
       "      <th>host_ra</th>\n",
       "      <th>host_dec</th>\n",
       "      <th>host_offset</th>\n",
       "      <th>host_offset_bestguess</th>\n",
       "      <th>bestguess_offset</th>\n",
       "      <th>host_source</th>\n",
       "      <th>host_redshift_spec</th>\n",
       "      <th>host_redshift</th>\n",
       "      <th>host_redshift_error</th>\n",
       "      <th>host_redshift_type</th>\n",
       "    </tr>\n",
       "    <tr>\n",
       "      <th>oid</th>\n",
       "      <th></th>\n",
       "      <th></th>\n",
       "      <th></th>\n",
       "      <th></th>\n",
       "      <th></th>\n",
       "      <th></th>\n",
       "      <th></th>\n",
       "      <th></th>\n",
       "      <th></th>\n",
       "      <th></th>\n",
       "      <th></th>\n",
       "    </tr>\n",
       "  </thead>\n",
       "  <tbody>\n",
       "    <tr>\n",
       "      <th>ZTF22aattzza</th>\n",
       "      <td>WISEA J185220.10+435453.4</td>\n",
       "      <td>283.08375</td>\n",
       "      <td>43.91481</td>\n",
       "      <td>1.436774</td>\n",
       "      <td>0.560704</td>\n",
       "      <td>1.179427</td>\n",
       "      <td>NED</td>\n",
       "      <td>False</td>\n",
       "      <td>0.092962</td>\n",
       "      <td>NaN</td>\n",
       "      <td>PHOT</td>\n",
       "    </tr>\n",
       "  </tbody>\n",
       "</table>\n",
       "</div>"
      ],
      "text/plain": [
       "                              host_name    host_ra  host_dec host_offset  \\\n",
       "oid                                                                        \n",
       "ZTF22aattzza  WISEA J185220.10+435453.4  283.08375  43.91481    1.436774   \n",
       "\n",
       "             host_offset_bestguess bestguess_offset host_source  \\\n",
       "oid                                                               \n",
       "ZTF22aattzza              0.560704         1.179427         NED   \n",
       "\n",
       "             host_redshift_spec host_redshift host_redshift_error  \\\n",
       "oid                                                                 \n",
       "ZTF22aattzza              False      0.092962                 NaN   \n",
       "\n",
       "             host_redshift_type  \n",
       "oid                              \n",
       "ZTF22aattzza               PHOT  "
      ]
     },
     "metadata": {},
     "output_type": "display_data"
    },
    {
     "name": "stdout",
     "output_type": "stream",
     "text": [
      "4 candidates remaining\n"
     ]
    },
    {
     "data": {
      "application/vnd.jupyter.widget-view+json": {
       "model_id": "fd46a5ad93034727a8afac783f1f1c0f",
       "version_major": 2,
       "version_minor": 0
      },
      "text/plain": [
       "Box(children=(Aladin(fov=0.025, layout=Layout(width='70%'), options=['allow_full_zoomout', 'coo_frame', 'fov',…"
      ]
     },
     "metadata": {},
     "output_type": "display_data"
    },
    {
     "name": "stderr",
     "output_type": "stream",
     "text": [
      "/home/fforster/anaconda3/lib/python3.8/site-packages/astroquery/simbad/core.py:135: UserWarning: Warning: The script line number 3 raised an error (recorded in the `errors` attribute of the result table): '21:43:19.1114 +5:34:51.4864': No astronomical object found :\n",
      "  warnings.warn(\"Warning: The script line number %i raised \"\n"
     ]
    },
    {
     "data": {
      "text/html": [
       "<div>\n",
       "<style scoped>\n",
       "    .dataframe tbody tr th:only-of-type {\n",
       "        vertical-align: middle;\n",
       "    }\n",
       "\n",
       "    .dataframe tbody tr th {\n",
       "        vertical-align: top;\n",
       "    }\n",
       "\n",
       "    .dataframe thead th {\n",
       "        text-align: right;\n",
       "    }\n",
       "</style>\n",
       "<table border=\"1\" class=\"dataframe\">\n",
       "  <thead>\n",
       "    <tr style=\"text-align: right;\">\n",
       "      <th></th>\n",
       "      <th>host_name</th>\n",
       "      <th>host_ra</th>\n",
       "      <th>host_dec</th>\n",
       "      <th>host_offset</th>\n",
       "      <th>host_offset_bestguess</th>\n",
       "      <th>bestguess_offset</th>\n",
       "      <th>host_source</th>\n",
       "      <th>host_redshift_spec</th>\n",
       "      <th>host_redshift</th>\n",
       "      <th>host_redshift_error</th>\n",
       "      <th>host_redshift_type</th>\n",
       "    </tr>\n",
       "    <tr>\n",
       "      <th>oid</th>\n",
       "      <th></th>\n",
       "      <th></th>\n",
       "      <th></th>\n",
       "      <th></th>\n",
       "      <th></th>\n",
       "      <th></th>\n",
       "      <th></th>\n",
       "      <th></th>\n",
       "      <th></th>\n",
       "      <th></th>\n",
       "      <th></th>\n",
       "    </tr>\n",
       "  </thead>\n",
       "  <tbody>\n",
       "    <tr>\n",
       "      <th>ZTF22aatunnt</th>\n",
       "      <td>SDSS J214319.13+053451.0</td>\n",
       "      <td>325.829698</td>\n",
       "      <td>5.580847</td>\n",
       "      <td>1.443362</td>\n",
       "      <td>0.501268</td>\n",
       "      <td>1.353908</td>\n",
       "      <td>SDSSDR16</td>\n",
       "      <td>False</td>\n",
       "      <td>0.083412</td>\n",
       "      <td>0.032715</td>\n",
       "      <td>photoz</td>\n",
       "    </tr>\n",
       "  </tbody>\n",
       "</table>\n",
       "</div>"
      ],
      "text/plain": [
       "                             host_name     host_ra  host_dec host_offset  \\\n",
       "oid                                                                        \n",
       "ZTF22aatunnt  SDSS J214319.13+053451.0  325.829698  5.580847    1.443362   \n",
       "\n",
       "             host_offset_bestguess bestguess_offset host_source  \\\n",
       "oid                                                               \n",
       "ZTF22aatunnt              0.501268         1.353908    SDSSDR16   \n",
       "\n",
       "             host_redshift_spec host_redshift host_redshift_error  \\\n",
       "oid                                                                 \n",
       "ZTF22aatunnt              False      0.083412            0.032715   \n",
       "\n",
       "             host_redshift_type  \n",
       "oid                              \n",
       "ZTF22aatunnt             photoz  "
      ]
     },
     "metadata": {},
     "output_type": "display_data"
    },
    {
     "name": "stdout",
     "output_type": "stream",
     "text": [
      "3 candidates remaining\n"
     ]
    },
    {
     "data": {
      "application/vnd.jupyter.widget-view+json": {
       "model_id": "45a4e1f77c694012bd477d9480ab585f",
       "version_major": 2,
       "version_minor": 0
      },
      "text/plain": [
       "Box(children=(Aladin(fov=0.025, layout=Layout(width='70%'), options=['allow_full_zoomout', 'coo_frame', 'fov',…"
      ]
     },
     "metadata": {},
     "output_type": "display_data"
    },
    {
     "name": "stderr",
     "output_type": "stream",
     "text": [
      "/home/fforster/anaconda3/lib/python3.8/site-packages/astroquery/simbad/core.py:135: UserWarning: Warning: The script line number 3 raised an error (recorded in the `errors` attribute of the result table): '23:32:55.6172 +27:09:22.0255': No astronomical object found :\n",
      "  warnings.warn(\"Warning: The script line number %i raised \"\n"
     ]
    },
    {
     "data": {
      "text/html": [
       "<div>\n",
       "<style scoped>\n",
       "    .dataframe tbody tr th:only-of-type {\n",
       "        vertical-align: middle;\n",
       "    }\n",
       "\n",
       "    .dataframe tbody tr th {\n",
       "        vertical-align: top;\n",
       "    }\n",
       "\n",
       "    .dataframe thead th {\n",
       "        text-align: right;\n",
       "    }\n",
       "</style>\n",
       "<table border=\"1\" class=\"dataframe\">\n",
       "  <thead>\n",
       "    <tr style=\"text-align: right;\">\n",
       "      <th></th>\n",
       "      <th>host_name</th>\n",
       "      <th>host_ra</th>\n",
       "      <th>host_dec</th>\n",
       "      <th>host_offset</th>\n",
       "      <th>host_offset_bestguess</th>\n",
       "      <th>bestguess_offset</th>\n",
       "      <th>host_source</th>\n",
       "      <th>host_redshift_spec</th>\n",
       "      <th>host_redshift</th>\n",
       "      <th>host_redshift_error</th>\n",
       "      <th>host_redshift_type</th>\n",
       "    </tr>\n",
       "    <tr>\n",
       "      <th>oid</th>\n",
       "      <th></th>\n",
       "      <th></th>\n",
       "      <th></th>\n",
       "      <th></th>\n",
       "      <th></th>\n",
       "      <th></th>\n",
       "      <th></th>\n",
       "      <th></th>\n",
       "      <th></th>\n",
       "      <th></th>\n",
       "      <th></th>\n",
       "    </tr>\n",
       "  </thead>\n",
       "  <tbody>\n",
       "    <tr>\n",
       "      <th>ZTF22aatuxpc</th>\n",
       "      <td>SDSS J233255.62+270921.3</td>\n",
       "      <td>353.231733</td>\n",
       "      <td>27.155923</td>\n",
       "      <td>2.776546</td>\n",
       "      <td>0.702978</td>\n",
       "      <td>3.119576</td>\n",
       "      <td>SDSSDR16</td>\n",
       "      <td>False</td>\n",
       "      <td>0.072873</td>\n",
       "      <td>0.029296</td>\n",
       "      <td>photoz</td>\n",
       "    </tr>\n",
       "  </tbody>\n",
       "</table>\n",
       "</div>"
      ],
      "text/plain": [
       "                             host_name     host_ra   host_dec host_offset  \\\n",
       "oid                                                                         \n",
       "ZTF22aatuxpc  SDSS J233255.62+270921.3  353.231733  27.155923    2.776546   \n",
       "\n",
       "             host_offset_bestguess bestguess_offset host_source  \\\n",
       "oid                                                               \n",
       "ZTF22aatuxpc              0.702978         3.119576    SDSSDR16   \n",
       "\n",
       "             host_redshift_spec host_redshift host_redshift_error  \\\n",
       "oid                                                                 \n",
       "ZTF22aatuxpc              False      0.072873            0.029296   \n",
       "\n",
       "             host_redshift_type  \n",
       "oid                              \n",
       "ZTF22aatuxpc             photoz  "
      ]
     },
     "metadata": {},
     "output_type": "display_data"
    },
    {
     "name": "stdout",
     "output_type": "stream",
     "text": [
      "2 candidates remaining\n"
     ]
    },
    {
     "data": {
      "application/vnd.jupyter.widget-view+json": {
       "model_id": "65e898d14dce427897e92cf7f93a86fb",
       "version_major": 2,
       "version_minor": 0
      },
      "text/plain": [
       "Box(children=(Aladin(fov=0.025, layout=Layout(width='70%'), options=['allow_full_zoomout', 'coo_frame', 'fov',…"
      ]
     },
     "metadata": {},
     "output_type": "display_data"
    },
    {
     "data": {
      "text/html": [
       "<div>\n",
       "<style scoped>\n",
       "    .dataframe tbody tr th:only-of-type {\n",
       "        vertical-align: middle;\n",
       "    }\n",
       "\n",
       "    .dataframe tbody tr th {\n",
       "        vertical-align: top;\n",
       "    }\n",
       "\n",
       "    .dataframe thead th {\n",
       "        text-align: right;\n",
       "    }\n",
       "</style>\n",
       "<table border=\"1\" class=\"dataframe\">\n",
       "  <thead>\n",
       "    <tr style=\"text-align: right;\">\n",
       "      <th></th>\n",
       "      <th>host_name</th>\n",
       "      <th>host_ra</th>\n",
       "      <th>host_dec</th>\n",
       "      <th>host_offset</th>\n",
       "      <th>host_offset_bestguess</th>\n",
       "      <th>bestguess_offset</th>\n",
       "      <th>host_source</th>\n",
       "      <th>host_redshift_spec</th>\n",
       "      <th>host_redshift</th>\n",
       "      <th>host_redshift_error</th>\n",
       "      <th>host_redshift_type</th>\n",
       "    </tr>\n",
       "    <tr>\n",
       "      <th>oid</th>\n",
       "      <th></th>\n",
       "      <th></th>\n",
       "      <th></th>\n",
       "      <th></th>\n",
       "      <th></th>\n",
       "      <th></th>\n",
       "      <th></th>\n",
       "      <th></th>\n",
       "      <th></th>\n",
       "      <th></th>\n",
       "      <th></th>\n",
       "    </tr>\n",
       "  </thead>\n",
       "  <tbody>\n",
       "    <tr>\n",
       "      <th>ZTF22aatvbyz</th>\n",
       "      <td>SDSS J020004.38+084456.3</td>\n",
       "      <td>30.018236</td>\n",
       "      <td>8.748997</td>\n",
       "      <td>0.633893</td>\n",
       "      <td>0.298643</td>\n",
       "      <td>0.932202</td>\n",
       "      <td>SDSSDR16</td>\n",
       "      <td>False</td>\n",
       "      <td>0.126866</td>\n",
       "      <td>0.034842</td>\n",
       "      <td>photoz</td>\n",
       "    </tr>\n",
       "  </tbody>\n",
       "</table>\n",
       "</div>"
      ],
      "text/plain": [
       "                             host_name    host_ra  host_dec host_offset  \\\n",
       "oid                                                                       \n",
       "ZTF22aatvbyz  SDSS J020004.38+084456.3  30.018236  8.748997    0.633893   \n",
       "\n",
       "             host_offset_bestguess bestguess_offset host_source  \\\n",
       "oid                                                               \n",
       "ZTF22aatvbyz              0.298643         0.932202    SDSSDR16   \n",
       "\n",
       "             host_redshift_spec host_redshift host_redshift_error  \\\n",
       "oid                                                                 \n",
       "ZTF22aatvbyz              False      0.126866            0.034842   \n",
       "\n",
       "             host_redshift_type  \n",
       "oid                              \n",
       "ZTF22aatvbyz             photoz  "
      ]
     },
     "metadata": {},
     "output_type": "display_data"
    },
    {
     "name": "stdout",
     "output_type": "stream",
     "text": [
      "1 candidates remaining\n"
     ]
    },
    {
     "data": {
      "application/vnd.jupyter.widget-view+json": {
       "model_id": "3250c3eefc644acbaaf5ba521ed375e8",
       "version_major": 2,
       "version_minor": 0
      },
      "text/plain": [
       "Box(children=(Aladin(fov=0.025, layout=Layout(width='70%'), options=['allow_full_zoomout', 'coo_frame', 'fov',…"
      ]
     },
     "metadata": {},
     "output_type": "display_data"
    },
    {
     "name": "stderr",
     "output_type": "stream",
     "text": [
      "/home/fforster/anaconda3/lib/python3.8/site-packages/astroquery/simbad/core.py:135: UserWarning: Warning: The script line number 3 raised an error (recorded in the `errors` attribute of the result table): '21:46:41.5121 +84:00:29.8978': No astronomical object found :\n",
      "  warnings.warn(\"Warning: The script line number %i raised \"\n"
     ]
    },
    {
     "data": {
      "text/html": [
       "<div>\n",
       "<style scoped>\n",
       "    .dataframe tbody tr th:only-of-type {\n",
       "        vertical-align: middle;\n",
       "    }\n",
       "\n",
       "    .dataframe tbody tr th {\n",
       "        vertical-align: top;\n",
       "    }\n",
       "\n",
       "    .dataframe thead th {\n",
       "        text-align: right;\n",
       "    }\n",
       "</style>\n",
       "<table border=\"1\" class=\"dataframe\">\n",
       "  <thead>\n",
       "    <tr style=\"text-align: right;\">\n",
       "      <th></th>\n",
       "      <th>host_name</th>\n",
       "      <th>host_ra</th>\n",
       "      <th>host_dec</th>\n",
       "      <th>host_offset</th>\n",
       "      <th>host_offset_bestguess</th>\n",
       "      <th>bestguess_offset</th>\n",
       "      <th>host_source</th>\n",
       "      <th>host_redshift_spec</th>\n",
       "      <th>host_redshift</th>\n",
       "      <th>host_redshift_error</th>\n",
       "      <th>host_redshift_type</th>\n",
       "    </tr>\n",
       "    <tr>\n",
       "      <th>oid</th>\n",
       "      <th></th>\n",
       "      <th></th>\n",
       "      <th></th>\n",
       "      <th></th>\n",
       "      <th></th>\n",
       "      <th></th>\n",
       "      <th></th>\n",
       "      <th></th>\n",
       "      <th></th>\n",
       "      <th></th>\n",
       "      <th></th>\n",
       "    </tr>\n",
       "  </thead>\n",
       "  <tbody>\n",
       "    <tr>\n",
       "      <th>ZTF22aatvkqs</th>\n",
       "      <td>WISEA J214641.85+840030.0</td>\n",
       "      <td>326.67634</td>\n",
       "      <td>84.00794</td>\n",
       "      <td>2.209391</td>\n",
       "      <td>1.825568</td>\n",
       "      <td>1.580997</td>\n",
       "      <td>NED</td>\n",
       "      <td>False</td>\n",
       "      <td>NaN</td>\n",
       "      <td>NaN</td>\n",
       "      <td>NaN</td>\n",
       "    </tr>\n",
       "  </tbody>\n",
       "</table>\n",
       "</div>"
      ],
      "text/plain": [
       "                              host_name    host_ra  host_dec host_offset  \\\n",
       "oid                                                                        \n",
       "ZTF22aatvkqs  WISEA J214641.85+840030.0  326.67634  84.00794    2.209391   \n",
       "\n",
       "             host_offset_bestguess bestguess_offset host_source  \\\n",
       "oid                                                               \n",
       "ZTF22aatvkqs              1.825568         1.580997         NED   \n",
       "\n",
       "             host_redshift_spec host_redshift host_redshift_error  \\\n",
       "oid                                                                 \n",
       "ZTF22aatvkqs              False           NaN                 NaN   \n",
       "\n",
       "             host_redshift_type  \n",
       "oid                              \n",
       "ZTF22aatvkqs                NaN  "
      ]
     },
     "metadata": {},
     "output_type": "display_data"
    },
    {
     "name": "stdout",
     "output_type": "stream",
     "text": [
      "0 candidates remaining\n",
      "\n",
      "\n",
      "Summary of host galaxies:\n",
      "Saving hosts to hosts/20220716_hosts.csv\n"
     ]
    },
    {
     "data": {
      "text/html": [
       "<div>\n",
       "<style scoped>\n",
       "    .dataframe tbody tr th:only-of-type {\n",
       "        vertical-align: middle;\n",
       "    }\n",
       "\n",
       "    .dataframe tbody tr th {\n",
       "        vertical-align: top;\n",
       "    }\n",
       "\n",
       "    .dataframe thead th {\n",
       "        text-align: right;\n",
       "    }\n",
       "</style>\n",
       "<table border=\"1\" class=\"dataframe\">\n",
       "  <thead>\n",
       "    <tr style=\"text-align: right;\">\n",
       "      <th></th>\n",
       "      <th>host_name</th>\n",
       "      <th>host_ra</th>\n",
       "      <th>host_dec</th>\n",
       "      <th>host_offset</th>\n",
       "      <th>host_offset_bestguess</th>\n",
       "      <th>bestguess_offset</th>\n",
       "      <th>host_source</th>\n",
       "      <th>host_redshift_spec</th>\n",
       "      <th>host_redshift</th>\n",
       "      <th>host_redshift_error</th>\n",
       "      <th>host_redshift_type</th>\n",
       "    </tr>\n",
       "    <tr>\n",
       "      <th>oid</th>\n",
       "      <th></th>\n",
       "      <th></th>\n",
       "      <th></th>\n",
       "      <th></th>\n",
       "      <th></th>\n",
       "      <th></th>\n",
       "      <th></th>\n",
       "      <th></th>\n",
       "      <th></th>\n",
       "      <th></th>\n",
       "      <th></th>\n",
       "    </tr>\n",
       "  </thead>\n",
       "  <tbody>\n",
       "    <tr>\n",
       "      <th>ZTF22aatvkqs</th>\n",
       "      <td>WISEA J214641.85+840030.0</td>\n",
       "      <td>326.67634</td>\n",
       "      <td>84.00794</td>\n",
       "      <td>2.209391</td>\n",
       "      <td>1.825568</td>\n",
       "      <td>1.580997</td>\n",
       "      <td>NED</td>\n",
       "      <td>False</td>\n",
       "      <td>NULL</td>\n",
       "      <td>NULL</td>\n",
       "      <td>NULL</td>\n",
       "    </tr>\n",
       "    <tr>\n",
       "      <th>ZTF22aatvbyz</th>\n",
       "      <td>SDSS J020004.38+084456.3</td>\n",
       "      <td>30.018236</td>\n",
       "      <td>8.748997</td>\n",
       "      <td>0.633893</td>\n",
       "      <td>0.298643</td>\n",
       "      <td>0.932202</td>\n",
       "      <td>SDSSDR16</td>\n",
       "      <td>False</td>\n",
       "      <td>0.126866</td>\n",
       "      <td>0.034842</td>\n",
       "      <td>photoz</td>\n",
       "    </tr>\n",
       "    <tr>\n",
       "      <th>ZTF22aatuxpc</th>\n",
       "      <td>SDSS J233255.62+270921.3</td>\n",
       "      <td>353.231733</td>\n",
       "      <td>27.155923</td>\n",
       "      <td>2.776546</td>\n",
       "      <td>0.702978</td>\n",
       "      <td>3.119576</td>\n",
       "      <td>SDSSDR16</td>\n",
       "      <td>False</td>\n",
       "      <td>0.072873</td>\n",
       "      <td>0.029296</td>\n",
       "      <td>photoz</td>\n",
       "    </tr>\n",
       "    <tr>\n",
       "      <th>ZTF22aatunnt</th>\n",
       "      <td>SDSS J214319.13+053451.0</td>\n",
       "      <td>325.829698</td>\n",
       "      <td>5.580847</td>\n",
       "      <td>1.443362</td>\n",
       "      <td>0.501268</td>\n",
       "      <td>1.353908</td>\n",
       "      <td>SDSSDR16</td>\n",
       "      <td>False</td>\n",
       "      <td>0.083412</td>\n",
       "      <td>0.032715</td>\n",
       "      <td>photoz</td>\n",
       "    </tr>\n",
       "    <tr>\n",
       "      <th>ZTF22aattzza</th>\n",
       "      <td>WISEA J185220.10+435453.4</td>\n",
       "      <td>283.08375</td>\n",
       "      <td>43.91481</td>\n",
       "      <td>1.436774</td>\n",
       "      <td>0.560704</td>\n",
       "      <td>1.179427</td>\n",
       "      <td>NED</td>\n",
       "      <td>False</td>\n",
       "      <td>0.092962</td>\n",
       "      <td>NULL</td>\n",
       "      <td>PHOT</td>\n",
       "    </tr>\n",
       "    <tr>\n",
       "      <th>ZTF22aattadv</th>\n",
       "      <td>NULL</td>\n",
       "      <td>NULL</td>\n",
       "      <td>NULL</td>\n",
       "      <td>NULL</td>\n",
       "      <td>NULL</td>\n",
       "      <td>NULL</td>\n",
       "      <td>NULL</td>\n",
       "      <td>NULL</td>\n",
       "      <td>NULL</td>\n",
       "      <td>NULL</td>\n",
       "      <td>NULL</td>\n",
       "    </tr>\n",
       "    <tr>\n",
       "      <th>ZTF22aatsfly</th>\n",
       "      <td>SDSS J174111.16+461446.6</td>\n",
       "      <td>265.296508</td>\n",
       "      <td>46.24628</td>\n",
       "      <td>2.213072</td>\n",
       "      <td>0.456695</td>\n",
       "      <td>1.760662</td>\n",
       "      <td>SDSSDR16</td>\n",
       "      <td>False</td>\n",
       "      <td>0.128017</td>\n",
       "      <td>0.01283</td>\n",
       "      <td>photoz</td>\n",
       "    </tr>\n",
       "    <tr>\n",
       "      <th>ZTF22aatsdyx</th>\n",
       "      <td>SDSS J172055.14+294426.4</td>\n",
       "      <td>260.229768</td>\n",
       "      <td>29.740685</td>\n",
       "      <td>3.177645</td>\n",
       "      <td>0.492974</td>\n",
       "      <td>2.895159</td>\n",
       "      <td>SDSSDR16</td>\n",
       "      <td>False</td>\n",
       "      <td>0.149418</td>\n",
       "      <td>0.024392</td>\n",
       "      <td>photoz</td>\n",
       "    </tr>\n",
       "    <tr>\n",
       "      <th>ZTF22aatsbjo</th>\n",
       "      <td>SDSS J164929.40+224916.7</td>\n",
       "      <td>252.372507</td>\n",
       "      <td>22.821329</td>\n",
       "      <td>1.39677</td>\n",
       "      <td>0.312795</td>\n",
       "      <td>1.17464</td>\n",
       "      <td>SDSSDR16</td>\n",
       "      <td>False</td>\n",
       "      <td>0.138089</td>\n",
       "      <td>0.038266</td>\n",
       "      <td>photoz</td>\n",
       "    </tr>\n",
       "    <tr>\n",
       "      <th>ZTF22aatrzyq</th>\n",
       "      <td>SDSS J141909.14+102441.0</td>\n",
       "      <td>214.788095</td>\n",
       "      <td>10.411408</td>\n",
       "      <td>2.687939</td>\n",
       "      <td>0.229693</td>\n",
       "      <td>2.890468</td>\n",
       "      <td>SDSSDR16</td>\n",
       "      <td>True</td>\n",
       "      <td>0.078105</td>\n",
       "      <td>0.000009</td>\n",
       "      <td>specz</td>\n",
       "    </tr>\n",
       "    <tr>\n",
       "      <th>ZTF22aatrujl</th>\n",
       "      <td>SDSS J141050.30+632156.8</td>\n",
       "      <td>212.709603</td>\n",
       "      <td>63.365779</td>\n",
       "      <td>2.401066</td>\n",
       "      <td>0.072427</td>\n",
       "      <td>2.46203</td>\n",
       "      <td>SDSSDR16</td>\n",
       "      <td>False</td>\n",
       "      <td>0.152865</td>\n",
       "      <td>0.035469</td>\n",
       "      <td>photoz</td>\n",
       "    </tr>\n",
       "    <tr>\n",
       "      <th>ZTF22aatrpse</th>\n",
       "      <td>WISEA J153648.07-174353.0</td>\n",
       "      <td>234.20032</td>\n",
       "      <td>-17.73141</td>\n",
       "      <td>1.133729</td>\n",
       "      <td>0.704594</td>\n",
       "      <td>0.434945</td>\n",
       "      <td>NED</td>\n",
       "      <td>False</td>\n",
       "      <td>NULL</td>\n",
       "      <td>NULL</td>\n",
       "      <td>NULL</td>\n",
       "    </tr>\n",
       "    <tr>\n",
       "      <th>ZTF22aatrnbl</th>\n",
       "      <td>NULL</td>\n",
       "      <td>NULL</td>\n",
       "      <td>NULL</td>\n",
       "      <td>NULL</td>\n",
       "      <td>NULL</td>\n",
       "      <td>NULL</td>\n",
       "      <td>NULL</td>\n",
       "      <td>NULL</td>\n",
       "      <td>NULL</td>\n",
       "      <td>NULL</td>\n",
       "      <td>NULL</td>\n",
       "    </tr>\n",
       "    <tr>\n",
       "      <th>ZTF22aatrbvj</th>\n",
       "      <td>SDSS J041157.97+255301.7</td>\n",
       "      <td>62.991536</td>\n",
       "      <td>25.883805</td>\n",
       "      <td>2.466045</td>\n",
       "      <td>0.150684</td>\n",
       "      <td>2.588424</td>\n",
       "      <td>SDSSDR16</td>\n",
       "      <td>False</td>\n",
       "      <td>0.171485</td>\n",
       "      <td>0.036822</td>\n",
       "      <td>photoz</td>\n",
       "    </tr>\n",
       "    <tr>\n",
       "      <th>ZTF22aatnyqk</th>\n",
       "      <td>NGC  6201</td>\n",
       "      <td>250.06006041666666</td>\n",
       "      <td>23.765328611111112</td>\n",
       "      <td>5.775937</td>\n",
       "      <td>0.397324</td>\n",
       "      <td>6.111666</td>\n",
       "      <td>Simbad</td>\n",
       "      <td>True</td>\n",
       "      <td>0.036199</td>\n",
       "      <td>0.000037</td>\n",
       "      <td>D</td>\n",
       "    </tr>\n",
       "    <tr>\n",
       "      <th>ZTF22aatlqxr</th>\n",
       "      <td>SDSS J162351.61+254253.8</td>\n",
       "      <td>245.965058</td>\n",
       "      <td>25.714957</td>\n",
       "      <td>3.070695</td>\n",
       "      <td>0.320908</td>\n",
       "      <td>3.050958</td>\n",
       "      <td>SDSSDR16</td>\n",
       "      <td>True</td>\n",
       "      <td>0.111711</td>\n",
       "      <td>0.000017</td>\n",
       "      <td>specz</td>\n",
       "    </tr>\n",
       "    <tr>\n",
       "      <th>ZTF22aatkeyf</th>\n",
       "      <td>SDSS J014604.19+071523.3</td>\n",
       "      <td>26.517452</td>\n",
       "      <td>7.256494</td>\n",
       "      <td>8.040609</td>\n",
       "      <td>0.317528</td>\n",
       "      <td>8.310296</td>\n",
       "      <td>SDSSDR16</td>\n",
       "      <td>False</td>\n",
       "      <td>0.064361</td>\n",
       "      <td>0.013219</td>\n",
       "      <td>photoz</td>\n",
       "    </tr>\n",
       "    <tr>\n",
       "      <th>ZTF22aatgjnu</th>\n",
       "      <td>SDSS J010327.70+132629.9</td>\n",
       "      <td>15.865417</td>\n",
       "      <td>13.441649</td>\n",
       "      <td>4.779461</td>\n",
       "      <td>0.536503</td>\n",
       "      <td>5.012349</td>\n",
       "      <td>SDSSDR16</td>\n",
       "      <td>False</td>\n",
       "      <td>0.058774</td>\n",
       "      <td>0.01084</td>\n",
       "      <td>photoz</td>\n",
       "    </tr>\n",
       "    <tr>\n",
       "      <th>ZTF22aatgiuw</th>\n",
       "      <td>SDSS J014141.16+012559.0</td>\n",
       "      <td>25.421502</td>\n",
       "      <td>1.433065</td>\n",
       "      <td>2.200036</td>\n",
       "      <td>0.79483</td>\n",
       "      <td>1.625845</td>\n",
       "      <td>SDSSDR16</td>\n",
       "      <td>False</td>\n",
       "      <td>0.042503</td>\n",
       "      <td>0.012772</td>\n",
       "      <td>photoz</td>\n",
       "    </tr>\n",
       "    <tr>\n",
       "      <th>ZTF22aasxnjm</th>\n",
       "      <td>NULL</td>\n",
       "      <td>NULL</td>\n",
       "      <td>NULL</td>\n",
       "      <td>NULL</td>\n",
       "      <td>NULL</td>\n",
       "      <td>NULL</td>\n",
       "      <td>NULL</td>\n",
       "      <td>NULL</td>\n",
       "      <td>NULL</td>\n",
       "      <td>NULL</td>\n",
       "      <td>NULL</td>\n",
       "    </tr>\n",
       "    <tr>\n",
       "      <th>ZTF22aasxgjp</th>\n",
       "      <td>SDSS J150913.16+523142.3</td>\n",
       "      <td>227.304839</td>\n",
       "      <td>52.528432</td>\n",
       "      <td>50.58539</td>\n",
       "      <td>1.973474</td>\n",
       "      <td>48.672158</td>\n",
       "      <td>SDSSDR16</td>\n",
       "      <td>True</td>\n",
       "      <td>0.011695</td>\n",
       "      <td>0.000008</td>\n",
       "      <td>specz</td>\n",
       "    </tr>\n",
       "    <tr>\n",
       "      <th>ZTF22aasvuof</th>\n",
       "      <td>MCG-02-57-009</td>\n",
       "      <td>337.5575887499999</td>\n",
       "      <td>-10.505261666666666</td>\n",
       "      <td>3.082659</td>\n",
       "      <td>0.733618</td>\n",
       "      <td>3.00576</td>\n",
       "      <td>Simbad</td>\n",
       "      <td>True</td>\n",
       "      <td>0.03537</td>\n",
       "      <td>NULL</td>\n",
       "      <td>D</td>\n",
       "    </tr>\n",
       "    <tr>\n",
       "      <th>ZTF22aarycqo</th>\n",
       "      <td>NGC 0662</td>\n",
       "      <td>26.14771</td>\n",
       "      <td>37.69578</td>\n",
       "      <td>6.244514</td>\n",
       "      <td>1.021242</td>\n",
       "      <td>5.408775</td>\n",
       "      <td>NED</td>\n",
       "      <td>True</td>\n",
       "      <td>0.01886</td>\n",
       "      <td>NULL</td>\n",
       "      <td></td>\n",
       "    </tr>\n",
       "    <tr>\n",
       "      <th>ZTF22aapuazu</th>\n",
       "      <td>SDSS J010542.66-005320.8</td>\n",
       "      <td>16.42774</td>\n",
       "      <td>-0.889133</td>\n",
       "      <td>0.159994</td>\n",
       "      <td>0.225378</td>\n",
       "      <td>0.132016</td>\n",
       "      <td>SDSSDR16</td>\n",
       "      <td>False</td>\n",
       "      <td>0.143959</td>\n",
       "      <td>0.028953</td>\n",
       "      <td>photoz</td>\n",
       "    </tr>\n",
       "  </tbody>\n",
       "</table>\n",
       "</div>"
      ],
      "text/plain": [
       "                              host_name             host_ra  \\\n",
       "oid                                                           \n",
       "ZTF22aatvkqs  WISEA J214641.85+840030.0           326.67634   \n",
       "ZTF22aatvbyz   SDSS J020004.38+084456.3           30.018236   \n",
       "ZTF22aatuxpc   SDSS J233255.62+270921.3          353.231733   \n",
       "ZTF22aatunnt   SDSS J214319.13+053451.0          325.829698   \n",
       "ZTF22aattzza  WISEA J185220.10+435453.4           283.08375   \n",
       "ZTF22aattadv                       NULL                NULL   \n",
       "ZTF22aatsfly   SDSS J174111.16+461446.6          265.296508   \n",
       "ZTF22aatsdyx   SDSS J172055.14+294426.4          260.229768   \n",
       "ZTF22aatsbjo   SDSS J164929.40+224916.7          252.372507   \n",
       "ZTF22aatrzyq   SDSS J141909.14+102441.0          214.788095   \n",
       "ZTF22aatrujl   SDSS J141050.30+632156.8          212.709603   \n",
       "ZTF22aatrpse  WISEA J153648.07-174353.0           234.20032   \n",
       "ZTF22aatrnbl                       NULL                NULL   \n",
       "ZTF22aatrbvj   SDSS J041157.97+255301.7           62.991536   \n",
       "ZTF22aatnyqk                  NGC  6201  250.06006041666666   \n",
       "ZTF22aatlqxr   SDSS J162351.61+254253.8          245.965058   \n",
       "ZTF22aatkeyf   SDSS J014604.19+071523.3           26.517452   \n",
       "ZTF22aatgjnu   SDSS J010327.70+132629.9           15.865417   \n",
       "ZTF22aatgiuw   SDSS J014141.16+012559.0           25.421502   \n",
       "ZTF22aasxnjm                       NULL                NULL   \n",
       "ZTF22aasxgjp   SDSS J150913.16+523142.3          227.304839   \n",
       "ZTF22aasvuof              MCG-02-57-009   337.5575887499999   \n",
       "ZTF22aarycqo                   NGC 0662            26.14771   \n",
       "ZTF22aapuazu   SDSS J010542.66-005320.8            16.42774   \n",
       "\n",
       "                         host_dec host_offset host_offset_bestguess  \\\n",
       "oid                                                                   \n",
       "ZTF22aatvkqs             84.00794    2.209391              1.825568   \n",
       "ZTF22aatvbyz             8.748997    0.633893              0.298643   \n",
       "ZTF22aatuxpc            27.155923    2.776546              0.702978   \n",
       "ZTF22aatunnt             5.580847    1.443362              0.501268   \n",
       "ZTF22aattzza             43.91481    1.436774              0.560704   \n",
       "ZTF22aattadv                 NULL        NULL                  NULL   \n",
       "ZTF22aatsfly             46.24628    2.213072              0.456695   \n",
       "ZTF22aatsdyx            29.740685    3.177645              0.492974   \n",
       "ZTF22aatsbjo            22.821329     1.39677              0.312795   \n",
       "ZTF22aatrzyq            10.411408    2.687939              0.229693   \n",
       "ZTF22aatrujl            63.365779    2.401066              0.072427   \n",
       "ZTF22aatrpse            -17.73141    1.133729              0.704594   \n",
       "ZTF22aatrnbl                 NULL        NULL                  NULL   \n",
       "ZTF22aatrbvj            25.883805    2.466045              0.150684   \n",
       "ZTF22aatnyqk   23.765328611111112    5.775937              0.397324   \n",
       "ZTF22aatlqxr            25.714957    3.070695              0.320908   \n",
       "ZTF22aatkeyf             7.256494    8.040609              0.317528   \n",
       "ZTF22aatgjnu            13.441649    4.779461              0.536503   \n",
       "ZTF22aatgiuw             1.433065    2.200036               0.79483   \n",
       "ZTF22aasxnjm                 NULL        NULL                  NULL   \n",
       "ZTF22aasxgjp            52.528432    50.58539              1.973474   \n",
       "ZTF22aasvuof  -10.505261666666666    3.082659              0.733618   \n",
       "ZTF22aarycqo             37.69578    6.244514              1.021242   \n",
       "ZTF22aapuazu            -0.889133    0.159994              0.225378   \n",
       "\n",
       "             bestguess_offset host_source host_redshift_spec host_redshift  \\\n",
       "oid                                                                          \n",
       "ZTF22aatvkqs         1.580997         NED              False          NULL   \n",
       "ZTF22aatvbyz         0.932202    SDSSDR16              False      0.126866   \n",
       "ZTF22aatuxpc         3.119576    SDSSDR16              False      0.072873   \n",
       "ZTF22aatunnt         1.353908    SDSSDR16              False      0.083412   \n",
       "ZTF22aattzza         1.179427         NED              False      0.092962   \n",
       "ZTF22aattadv             NULL        NULL               NULL          NULL   \n",
       "ZTF22aatsfly         1.760662    SDSSDR16              False      0.128017   \n",
       "ZTF22aatsdyx         2.895159    SDSSDR16              False      0.149418   \n",
       "ZTF22aatsbjo          1.17464    SDSSDR16              False      0.138089   \n",
       "ZTF22aatrzyq         2.890468    SDSSDR16               True      0.078105   \n",
       "ZTF22aatrujl          2.46203    SDSSDR16              False      0.152865   \n",
       "ZTF22aatrpse         0.434945         NED              False          NULL   \n",
       "ZTF22aatrnbl             NULL        NULL               NULL          NULL   \n",
       "ZTF22aatrbvj         2.588424    SDSSDR16              False      0.171485   \n",
       "ZTF22aatnyqk         6.111666      Simbad               True      0.036199   \n",
       "ZTF22aatlqxr         3.050958    SDSSDR16               True      0.111711   \n",
       "ZTF22aatkeyf         8.310296    SDSSDR16              False      0.064361   \n",
       "ZTF22aatgjnu         5.012349    SDSSDR16              False      0.058774   \n",
       "ZTF22aatgiuw         1.625845    SDSSDR16              False      0.042503   \n",
       "ZTF22aasxnjm             NULL        NULL               NULL          NULL   \n",
       "ZTF22aasxgjp        48.672158    SDSSDR16               True      0.011695   \n",
       "ZTF22aasvuof          3.00576      Simbad               True       0.03537   \n",
       "ZTF22aarycqo         5.408775         NED               True       0.01886   \n",
       "ZTF22aapuazu         0.132016    SDSSDR16              False      0.143959   \n",
       "\n",
       "             host_redshift_error host_redshift_type  \n",
       "oid                                                  \n",
       "ZTF22aatvkqs                NULL               NULL  \n",
       "ZTF22aatvbyz            0.034842             photoz  \n",
       "ZTF22aatuxpc            0.029296             photoz  \n",
       "ZTF22aatunnt            0.032715             photoz  \n",
       "ZTF22aattzza                NULL               PHOT  \n",
       "ZTF22aattadv                NULL               NULL  \n",
       "ZTF22aatsfly             0.01283             photoz  \n",
       "ZTF22aatsdyx            0.024392             photoz  \n",
       "ZTF22aatsbjo            0.038266             photoz  \n",
       "ZTF22aatrzyq            0.000009              specz  \n",
       "ZTF22aatrujl            0.035469             photoz  \n",
       "ZTF22aatrpse                NULL               NULL  \n",
       "ZTF22aatrnbl                NULL               NULL  \n",
       "ZTF22aatrbvj            0.036822             photoz  \n",
       "ZTF22aatnyqk            0.000037                  D  \n",
       "ZTF22aatlqxr            0.000017              specz  \n",
       "ZTF22aatkeyf            0.013219             photoz  \n",
       "ZTF22aatgjnu             0.01084             photoz  \n",
       "ZTF22aatgiuw            0.012772             photoz  \n",
       "ZTF22aasxnjm                NULL               NULL  \n",
       "ZTF22aasxgjp            0.000008              specz  \n",
       "ZTF22aasvuof                NULL                  D  \n",
       "ZTF22aarycqo                NULL                     \n",
       "ZTF22aapuazu            0.028953             photoz  "
      ]
     },
     "metadata": {},
     "output_type": "display_data"
    },
    {
     "name": "stdout",
     "output_type": "stream",
     "text": [
      "Saving hosts to hosts/20220716_hosts.csv\n",
      "Saving hosts to hosts/20220716_hosts.csv\n",
      "Saving hosts to hosts/20220716_hosts.csv\n",
      "Saving hosts to hosts/20220716_hosts.csv\n",
      "Saving hosts to hosts/20220716_hosts.csv\n",
      "Saving hosts to hosts/20220716_hosts.csv\n",
      "Saving hosts to hosts/20220716_hosts.csv\n",
      "Saving hosts to hosts/20220716_hosts.csv\n",
      "Saving hosts to hosts/20220716_hosts.csv\n",
      "Saving hosts to hosts/20220716_hosts.csv\n",
      "Saving hosts to hosts/20220716_hosts.csv\n",
      "Saving hosts to hosts/20220716_hosts.csv\n",
      "Saving hosts to hosts/20220716_hosts.csv\n",
      "Saving hosts to hosts/20220716_hosts.csv\n",
      "Saving hosts to hosts/20220716_hosts.csv\n",
      "Saving hosts to hosts/20220716_hosts.csv\n",
      "Saving hosts to hosts/20220716_hosts.csv\n",
      "Saving hosts to hosts/20220716_hosts.csv\n",
      "Saving hosts to hosts/20220716_hosts.csv\n",
      "Saving hosts to hosts/20220716_hosts.csv\n",
      "Saving hosts to hosts/20220716_hosts.csv\n",
      "Saving hosts to hosts/20220716_hosts.csv\n",
      "Saving hosts to hosts/20220716_hosts.csv\n",
      "Saving hosts to hosts/20220716_hosts.csv\n"
     ]
    }
   ],
   "source": [
    "alerce.select_hosts(candidates, refstring, ned=True, simbad=True, catsHTM=False, vizier=False)"
   ]
  },
  {
   "cell_type": "markdown",
   "metadata": {},
   "source": [
    "## Do manual selections for errors"
   ]
  },
  {
   "cell_type": "markdown",
   "metadata": {},
   "source": [
    "Errors could happen because of an error in DELIGHT or because the association favoured a more distant host with redshift."
   ]
  },
  {
   "cell_type": "code",
   "execution_count": null,
   "metadata": {
    "ExecuteTime": {
     "end_time": "2022-07-24T19:09:15.343820Z",
     "start_time": "2022-07-24T19:09:15.320798Z"
    },
    "scrolled": false
   },
   "outputs": [],
   "source": [
    "errors = []#\"ZTF22aasxnjm\", \"ZTF22aatrnbl\", \"ZTF22aattadv\"] #\"ZTF22aaujkdb\", \"ZTF22aaveghe\"]\n",
    "# confirm if this was a problem with DELIGHT\n",
    "#for oid in errors:\n",
    "#    dclient.plot_host(oid)\n",
    "# do manual selection\n",
    "if errors != []:\n",
    "    alerce.select_hosts(errors, refstring, ned=True, simbad=True, catsHTM=False, vizier=False, dobestguess=False)"
   ]
  },
  {
   "cell_type": "markdown",
   "metadata": {},
   "source": [
    "## Manual modifications"
   ]
  },
  {
   "cell_type": "code",
   "execution_count": null,
   "metadata": {
    "ExecuteTime": {
     "end_time": "2022-07-23T23:49:13.938710Z",
     "start_time": "2022-07-23T23:49:13.909255Z"
    }
   },
   "outputs": [],
   "source": [
    "#oid = \"ZTF21acbcfmh\" #ZTF21abidhcz\"\n",
    "##oid = 'ZTF20aclzygy'#ZTF20acgigfo'\n",
    "##oid = \"ZTF20aaqrmxg\" #\"ZTF20aakdppm\" #ZTF19acxrihd\"\n",
    "#oid = 'ZTF22aaajgss' #ZTF21aaryakx' #ZTF20acvbneg'\n",
    "#alerce.candidate_hosts.host_name[oid] = \"M31\"\n",
    "#alerce.candidate_hosts.host_ra[oid] = \"\"\n",
    "#alerce.candidate_hosts.host_dec[oid] = \"\"\n",
    "#alerce.candidate_hosts.host_offset[oid] = \"\"\n",
    "#alerce.candidate_hosts.host_source[oid] = \"CDS\"\n",
    "#alerce.candidate_hosts.host_redshift_spec[oid] = True\n",
    "#alerce.candidate_hosts.host_redshift[oid] = = \"0.001341\"\n",
    "#alerce.candidate_hosts.host_redshift_error[oid] = \"0.000040\"\n",
    "#alerce.candidate_hosts.host_redshift_type[oid] = \"specz\"\n",
    "# #\"nan\" #\"0.041\" #nan\"\n",
    "##for i in list(alerce.candidate_hosts):\n",
    "##    alerce.candidate_hosts.loc['ZTF21aaryakx'][i] = \"NULL\""
   ]
  },
  {
   "cell_type": "markdown",
   "metadata": {},
   "source": [
    "## Save hosts"
   ]
  },
  {
   "cell_type": "code",
   "execution_count": null,
   "metadata": {
    "ExecuteTime": {
     "end_time": "2022-07-23T23:49:16.025407Z",
     "start_time": "2022-07-23T23:49:15.968027Z"
    }
   },
   "outputs": [],
   "source": [
    "alerce.candidate_hosts.to_csv(\"hosts/%s_hosts.csv\" % refstring)\n",
    "alerce.candidate_hosts.head(100)"
   ]
  },
  {
   "cell_type": "markdown",
   "metadata": {},
   "source": [
    "## Show nearest sources (z < 0.01)"
   ]
  },
  {
   "cell_type": "code",
   "execution_count": null,
   "metadata": {
    "ExecuteTime": {
     "end_time": "2022-07-23T23:49:17.638186Z",
     "start_time": "2022-07-23T23:49:17.594973Z"
    }
   },
   "outputs": [],
   "source": [
    "zth = 0.1\n",
    "nearest = pd.to_numeric(alerce.candidate_hosts.loc[alerce.candidate_hosts.host_redshift != \"NULL\"].host_redshift).sort_values()\n",
    "nearest = nearest.loc[nearest < zth]\n",
    "for i in [\"https://alerce.online/object/%s %s\" % (i, alerce.candidate_hosts.host_redshift.loc[i]) for i in nearest.index]:\n",
    "    print(i)"
   ]
  },
  {
   "cell_type": "markdown",
   "metadata": {},
   "source": [
    "# Prepare TNS report"
   ]
  },
  {
   "cell_type": "markdown",
   "metadata": {},
   "source": [
    "## Sandbox or real"
   ]
  },
  {
   "cell_type": "code",
   "execution_count": null,
   "metadata": {
    "ExecuteTime": {
     "end_time": "2022-07-23T23:49:19.643122Z",
     "start_time": "2022-07-23T23:49:19.606604Z"
    }
   },
   "outputs": [],
   "source": [
    "sandbox = False #False # True: test in sandbox, False: send to real website"
   ]
  },
  {
   "cell_type": "markdown",
   "metadata": {},
   "source": [
    "## Get API key and url"
   ]
  },
  {
   "cell_type": "code",
   "execution_count": null,
   "metadata": {
    "ExecuteTime": {
     "end_time": "2022-07-23T23:49:21.494741Z",
     "start_time": "2022-07-23T23:49:21.457040Z"
    },
    "scrolled": true
   },
   "outputs": [],
   "source": [
    "if sandbox:\n",
    "    print(\"Getting API sandbox key...\")\n",
    "    api_key = open(\"API_sandbox.key\", \"r\").read()\n",
    "    api_key = open(\"API.key\", \"r\").read() # sandbox key appears not to be working\n",
    "else:\n",
    "    print(\"Getting API key...\")\n",
    "    api_key = open(\"API.key\", \"r\").read()\n",
    "    \n",
    "if sandbox:\n",
    "    url_tns_api = \"https://sandbox.wis-tns.org/api\" #\"https://www.wis-tns.org/\" #\"https://sandbox-tns.weizmann.ac.il/api\"\n",
    "else:\n",
    "    url_tns_api = \"https://www.wis-tns.org/api\" #\"https://wis-tns.weizmann.ac.il/api\" #\"https://www.wis-tns.org/\" #\"https://wis-tns.weizmann.ac.il/api\"\n",
    "    \n",
    "if not sandbox:\n",
    "    print(\"WARNING: submitting to real (not sandbox) TNS website\")"
   ]
  },
  {
   "cell_type": "markdown",
   "metadata": {},
   "source": [
    "## Confirm reporter names\n",
    "\n",
    "This is also used for Skyportal"
   ]
  },
  {
   "cell_type": "code",
   "execution_count": null,
   "metadata": {
    "ExecuteTime": {
     "end_time": "2022-07-23T23:49:35.194046Z",
     "start_time": "2022-07-23T23:49:35.145188Z"
    }
   },
   "outputs": [],
   "source": [
    "reporter = \"F. Forster, F.E. Bauer, G. Pignata, A. Munoz-Arancibia, A. Mourao, R. Dastidar, L. Hernandez-Garcia, L. Galbany, E. Camacho, J. Silva-Farfan, J. Arredondo, G. Cabrera-Vives, R. Carrasco-Davis, P.A. Estevez, P. Huijse, E. Reyes, I. Reyes, P. Sanchez-Saez, C. Valenzuela, E. Castillo, D. Ruz-Mieres, D. Rodriguez-Mancini, M. Catelan, S. Eyheramendy, M.J. Graham on behalf of the ALeRCE broker\"\n",
    "#F. Forster, F.E. Bauer, A. Munoz-Arancibia, G. Pignata, L. Hernandez-Garcia, L. Galbany, E. Camacho, J. Silva-Farfan, A. Mourao, J. Arredondo, G. Cabrera-Vives, R. Carrasco-Davis, P.A. Estevez, P. Huijse, E. Reyes, I. Reyes, P. Sanchez-Saez, C. Valenzuela, E. Castillo, D. Ruz-Mieres, D. Rodriguez-Mancini, M. Catelan, S. Eyheramendy, M.J. Graham on behalf of the ALeRCE broker\""
   ]
  },
  {
   "cell_type": "markdown",
   "metadata": {},
   "source": [
    "## Build the report"
   ]
  },
  {
   "cell_type": "code",
   "execution_count": null,
   "metadata": {
    "ExecuteTime": {
     "end_time": "2022-07-23T23:54:00.730825Z",
     "start_time": "2022-07-23T23:49:36.264707Z"
    },
    "scrolled": false
   },
   "outputs": [],
   "source": [
    "# first author: the person submitting, 2nd author: those that vetoed, then everyone else\n",
    "tns_report = {\"at_report\": {}}\n",
    "counter = 0\n",
    "for oid in candidates[::-1]: # invert to report old candidates first\n",
    "    #if oid in [\"ZTF20aauqmwf\"]:#[\"ZTF19acgjpfd\", \"ZTF18acszatf\", \"ZTF18acrkmnm\"]:\n",
    "    #    continue\n",
    "    #if oid in [\"ZTF20acqnfkh \", \"ZTF20acneabh\"]:#ZTF20acplctd\":#aamtgd\": #ZTF19acymtgr\": #ZTF19acnqqhl\":#in [\"ZTF19acmdwjy\", \"ZTF19acmdwjz\"]:\n",
    "    #    continue\n",
    "    #if oid == \"ZTF20ablnjwh\": #ZTF20abkmxrm\":#ZTF20abgfgne\":\n",
    "    #    continue\n",
    "    if oid in [\"ZTF22aabrskg\"]: #ZTF21abgvidd\"]: #ZTF21aawgsfp\"]:#ZTF21aalcrjh\"]: #ZTF21aaanwxo\"]:#, ZTF20adadixi\"]:# ZTF20acsggey\"]:#, \"ZTF20acmevcc\", \"ZTF20acmctng\", \"ZTF20acmdvzk\"]: #== \"ZTF20acgknep\":#\"ZTF20acdcdqq\": #ZTF20acaehey\": #ZTF20abyjoxb\":#\"ZTF20abqjddh\":#ZTF20abkxqzv\":#ZTF20abgbfyk\":\n",
    "        continue\n",
    "\n",
    "    print(\"\\n\", counter, oid)\n",
    "    sn_report = alerce.do_TNS_report(api_key, oid, reporter, verbose=False, test=False)\n",
    "    if sn_report:# or oid == \"ZTF20abyptpc\":\n",
    "        tns_report[\"at_report\"][\"%i\" % counter] = sn_report\n",
    "        counter += 1\n"
   ]
  },
  {
   "cell_type": "markdown",
   "metadata": {},
   "source": [
    "## Manual modifications"
   ]
  },
  {
   "cell_type": "code",
   "execution_count": null,
   "metadata": {
    "ExecuteTime": {
     "end_time": "2022-07-23T23:57:00.342758Z",
     "start_time": "2022-07-23T23:57:00.310030Z"
    }
   },
   "outputs": [],
   "source": [
    "#report['at_report']['0']['remarks'] = \"Fast rising transient (g-rise > 1.48 mag/day)\"#report['at_report']['3']['remarks'] = 'Nova candidate in M31 (g-rise > 0.16+-0.01 mag/day, r-rise > 0.24+-0.01 mag/day) classified by ALeRCE using the public ZTF stream. Discovery image and light curve in http://alerce.online/object/ZTF19acxrihd '"
   ]
  },
  {
   "cell_type": "code",
   "execution_count": null,
   "metadata": {
    "ExecuteTime": {
     "end_time": "2022-07-23T23:57:00.581257Z",
     "start_time": "2022-07-23T23:57:00.541963Z"
    }
   },
   "outputs": [],
   "source": [
    "# note that the space at the end is necessary\n",
    "#report['at_report']['3']['remarks'] = 'Nova candidate in M31 (r-rise > 0.43+-0.01 mag/day) classified by ALeRCE using the public ZTF stream. Discovery image and light curve in http://alerce.online/object/ZTF20acgigfo '"
   ]
  },
  {
   "cell_type": "markdown",
   "metadata": {},
   "source": [
    "## Display report"
   ]
  },
  {
   "cell_type": "code",
   "execution_count": null,
   "metadata": {
    "ExecuteTime": {
     "end_time": "2022-07-23T23:57:01.161979Z",
     "start_time": "2022-07-23T23:57:01.113665Z"
    },
    "scrolled": true
   },
   "outputs": [],
   "source": [
    "print(json.dumps(tns_report, indent=4, sort_keys=True))"
   ]
  },
  {
   "cell_type": "markdown",
   "metadata": {},
   "source": [
    "## Look for fast risers"
   ]
  },
  {
   "cell_type": "code",
   "execution_count": null,
   "metadata": {
    "ExecuteTime": {
     "end_time": "2022-07-23T23:57:02.918325Z",
     "start_time": "2022-07-23T23:57:02.878804Z"
    },
    "scrolled": false
   },
   "outputs": [],
   "source": [
    "for i in tns_report[\"at_report\"]:\n",
    "    if tns_report[\"at_report\"][i][\"remarks\"][:5] == \"Early\":\n",
    "        try:\n",
    "            rise = float(re.findall(\"rise\\s>\\s(.*?)\\+-.*?\\smag\", tns_report[\"at_report\"][i][\"remarks\"])[0])\n",
    "            if rise >= 0.25:\n",
    "                print(tns_report[\"at_report\"][i][\"remarks\"])\n",
    "        except:\n",
    "            rise = float(re.findall(\"rise\\s>\\s(.*?)\\s\", tns_report[\"at_report\"][i][\"remarks\"])[0])\n",
    "            if rise >= 0.25:\n",
    "                print(tns_report[\"at_report\"][i][\"remarks\"])"
   ]
  },
  {
   "cell_type": "markdown",
   "metadata": {},
   "source": [
    "## Save report"
   ]
  },
  {
   "cell_type": "code",
   "execution_count": null,
   "metadata": {
    "ExecuteTime": {
     "end_time": "2022-07-23T23:57:04.048368Z",
     "start_time": "2022-07-23T23:57:04.023297Z"
    }
   },
   "outputs": [],
   "source": [
    "json_report = '%s/%s.json' % (candidates_dir, refstring)\n",
    "with open(json_report, 'w') as outfile:\n",
    "    json.dump(tns_report, outfile)"
   ]
  },
  {
   "cell_type": "markdown",
   "metadata": {},
   "source": [
    "## Send to TNS\n",
    "\n",
    "**WARNING: key is used to send candidates!**"
   ]
  },
  {
   "cell_type": "code",
   "execution_count": null,
   "metadata": {
    "ExecuteTime": {
     "end_time": "2022-07-23T23:57:05.212535Z",
     "start_time": "2022-07-23T23:57:05.188001Z"
    }
   },
   "outputs": [],
   "source": [
    "json_report"
   ]
  },
  {
   "cell_type": "code",
   "execution_count": null,
   "metadata": {
    "ExecuteTime": {
     "end_time": "2022-07-23T23:57:08.202317Z",
     "start_time": "2022-07-23T23:57:05.800761Z"
    }
   },
   "outputs": [],
   "source": [
    "r = alerce.send_json_report(api_key, url_tns_api, json_report)"
   ]
  },
  {
   "cell_type": "markdown",
   "metadata": {},
   "source": [
    "## Show output"
   ]
  },
  {
   "cell_type": "code",
   "execution_count": null,
   "metadata": {
    "ExecuteTime": {
     "end_time": "2022-07-23T23:57:08.284386Z",
     "start_time": "2022-07-23T23:57:08.254426Z"
    },
    "scrolled": true
   },
   "outputs": [],
   "source": [
    "r.content"
   ]
  },
  {
   "cell_type": "markdown",
   "metadata": {},
   "source": [
    "## Show feedback"
   ]
  },
  {
   "cell_type": "code",
   "execution_count": null,
   "metadata": {
    "ExecuteTime": {
     "end_time": "2022-07-23T23:57:10.718889Z",
     "start_time": "2022-07-23T23:57:10.692919Z"
    }
   },
   "outputs": [],
   "source": [
    "# function for getting reply from report                             \n",
    "def reply(url, report_id):                                           \n",
    "    try:                                                               \n",
    "        # url for getting report reply                                   \n",
    "        reply_url=url+'/bulk-report-reply'                               \n",
    "        # construct list of (key,value) pairs                                \n",
    "        reply_data=[('api_key',(None, api_key)),                         \n",
    "                    ('report_id',(None,report_id))]                      \n",
    "        # send report ID using request module                            \n",
    "        response=requests.post(reply_url, files=reply_data, headers=alerce.tns_headers)              \n",
    "        # return response                                                \n",
    "        return response                                                  \n",
    "    except Exception as e:                                             \n",
    "        return [None,'Error message : \\n'+str(e)]  "
   ]
  },
  {
   "cell_type": "code",
   "execution_count": null,
   "metadata": {
    "ExecuteTime": {
     "end_time": "2022-07-23T15:57:07.484287Z",
     "start_time": "2022-07-23T15:57:06.510533Z"
    },
    "scrolled": true
   },
   "outputs": [],
   "source": [
    "try:\n",
    "    feedback = reply(url_tns_api, r.json()[\"data\"][\"report_id\"]).json()[\"data\"][\"feedback\"]\n",
    "    print(feedback)\n",
    "except:\n",
    "    print(\"Report not available, probably being processed. Please try again...\")"
   ]
  },
  {
   "cell_type": "markdown",
   "metadata": {
    "ExecuteTime": {
     "end_time": "2021-07-31T20:36:26.016443Z",
     "start_time": "2021-07-31T20:36:25.984944Z"
    }
   },
   "source": [
    "## Check the following link and confirm that the latest SNe are from the reported day\n",
    "\n",
    "https://www.wis-tns.org/search?&discovered_period_value=1&discovered_period_units=days&reporting_groupid[]=74&discovery_data_source_id=48&num_page=50&format=html&edit[type]=&edit[objname]=&edit[id]=&display[redshift]=1&display[hostname]=1&display[host_redshift]=1&display[source_group_name]=1&display[classifying_source_group_name]=1&display[discovering_instrument_name]=0&display[classifing_instrument_name]=0&display[programs_name]=0&display[internal_name]=1&display[isTNS_AT]=0&display[public]=1&display[end_pop_period]=0&display[spectra_count]=1&display[discoverymag]=1&display[discmagfilter]=1&display[discoverydate]=1&display[discoverer]=1&display[remarks]=0&display[sources]=0&display[bibcode]=0&display[ext_catalogs]=0&sort=desc&order=discoverydate"
   ]
  },
  {
   "cell_type": "markdown",
   "metadata": {},
   "source": [
    "# Prepare SkyPortal report"
   ]
  },
  {
   "cell_type": "code",
   "execution_count": null,
   "metadata": {
    "ExecuteTime": {
     "end_time": "2021-11-06T20:38:39.162158Z",
     "start_time": "2021-11-06T20:38:39.127650Z"
    }
   },
   "outputs": [],
   "source": [
    "alerce.candidate_hosts = pd.read_csv(\"hosts/%s_hosts.csv\" % refstring)\n",
    "alerce.candidate_hosts.set_index(\"oid\", inplace=True)\n",
    "alerce.candidate_hosts.fillna(\"NULL\", inplace=True)\n",
    "alerce.candidate_hosts"
   ]
  },
  {
   "cell_type": "markdown",
   "metadata": {},
   "source": [
    "## Load credentials"
   ]
  },
  {
   "cell_type": "code",
   "execution_count": null,
   "metadata": {
    "ExecuteTime": {
     "end_time": "2021-10-24T19:39:28.630333Z",
     "start_time": "2021-10-24T19:39:28.618539Z"
    }
   },
   "outputs": [],
   "source": [
    "skyportal_url = \"http://desi2.lbl.gov:5000/api\"\n",
    "credentials_file = \"credentials_skyportal.json\"\n",
    "with open(credentials_file) as jsonfile:\n",
    "    params = json.load(jsonfile)\n",
    "token = params[\"token\"]"
   ]
  },
  {
   "cell_type": "markdown",
   "metadata": {},
   "source": [
    "## Build the report"
   ]
  },
  {
   "cell_type": "code",
   "execution_count": null,
   "metadata": {
    "ExecuteTime": {
     "end_time": "2021-10-24T19:39:30.558432Z",
     "start_time": "2021-10-24T19:39:29.649964Z"
    },
    "scrolled": true
   },
   "outputs": [],
   "source": [
    "skyportal_report = []\n",
    "counter = 0\n",
    "for oid in candidates[::-1]: # invert to report old candidates first\n",
    "    if oid in [\"ZTF21abkvttz\"]: #ZTF21abhpdgd\", \"ZTF21abgtlir\"]:\n",
    "        continue\n",
    "    print(\"\\n\", counter, oid)\n",
    "    sn_report = alerce.do_skyportal_report(skyportal_url, token, oid, reporter, verbose=False, test=False)\n",
    "    if sn_report:# or oid == \"ZTF20abyptpc\":\n",
    "        skyportal_report.append(sn_report)\n",
    "        counter += 1"
   ]
  },
  {
   "cell_type": "markdown",
   "metadata": {},
   "source": [
    "## Save report"
   ]
  },
  {
   "cell_type": "code",
   "execution_count": null,
   "metadata": {
    "ExecuteTime": {
     "end_time": "2021-10-23T19:02:03.758275Z",
     "start_time": "2021-10-23T19:02:03.746364Z"
    },
    "scrolled": true
   },
   "outputs": [],
   "source": [
    "with open('%s_skyportal.pickle' % refstring, 'wb') as handle:\n",
    "    pickle.dump(skyportal_report, handle, protocol=pickle.HIGHEST_PROTOCOL)\n",
    "\n",
    "with open('%s_skyportal.pickle' % refstring, 'rb') as handle:\n",
    "    skyportal_report = pickle.load(handle)\n",
    "    \n",
    "display(skyportal_report)"
   ]
  },
  {
   "cell_type": "markdown",
   "metadata": {},
   "source": [
    "## Submit to SkyPortal"
   ]
  },
  {
   "cell_type": "code",
   "execution_count": null,
   "metadata": {
    "ExecuteTime": {
     "end_time": "2021-10-17T20:14:51.249755Z",
     "start_time": "2021-10-17T20:14:05.192998Z"
    },
    "scrolled": true
   },
   "outputs": [],
   "source": [
    "for report in skyportal_report:\n",
    "    print(report[\"candidates\"][\"id\"])\n",
    "    alerce.send_skyportal_report(skyportal_url, token, report)"
   ]
  },
  {
   "cell_type": "markdown",
   "metadata": {
    "ExecuteTime": {
     "end_time": "2021-03-18T01:50:52.495888Z",
     "start_time": "2021-03-18T01:50:52.464312Z"
    }
   },
   "source": [
    "## Check SkyPortal"
   ]
  },
  {
   "cell_type": "markdown",
   "metadata": {},
   "source": [
    "http://desi2.lbl.gov:5000/candidates"
   ]
  },
  {
   "cell_type": "markdown",
   "metadata": {},
   "source": []
  },
  {
   "cell_type": "code",
   "execution_count": null,
   "metadata": {},
   "outputs": [],
   "source": []
  }
 ],
 "metadata": {
  "kernelspec": {
   "display_name": "Python 3",
   "language": "python",
   "name": "python3"
  },
  "language_info": {
   "codemirror_mode": {
    "name": "ipython",
    "version": 3
   },
   "file_extension": ".py",
   "mimetype": "text/x-python",
   "name": "python",
   "nbconvert_exporter": "python",
   "pygments_lexer": "ipython3",
   "version": "3.8.8"
  },
  "toc": {
   "base_numbering": 1,
   "nav_menu": {},
   "number_sections": true,
   "sideBar": true,
   "skip_h1_title": false,
   "title_cell": "Table of Contents",
   "title_sidebar": "Contents",
   "toc_cell": false,
   "toc_position": {
    "height": "calc(100% - 180px)",
    "left": "10px",
    "top": "150px",
    "width": "165px"
   },
   "toc_section_display": true,
   "toc_window_display": true
  },
  "varInspector": {
   "cols": {
    "lenName": 16,
    "lenType": 16,
    "lenVar": 40
   },
   "kernels_config": {
    "python": {
     "delete_cmd_postfix": "",
     "delete_cmd_prefix": "del ",
     "library": "var_list.py",
     "varRefreshCmd": "print(var_dic_list())"
    },
    "r": {
     "delete_cmd_postfix": ") ",
     "delete_cmd_prefix": "rm(",
     "library": "var_list.r",
     "varRefreshCmd": "cat(var_dic_list()) "
    }
   },
   "types_to_exclude": [
    "module",
    "function",
    "builtin_function_or_method",
    "instance",
    "_Feature"
   ],
   "window_display": false
  }
 },
 "nbformat": 4,
 "nbformat_minor": 2
}
