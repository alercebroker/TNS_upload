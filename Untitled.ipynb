{
 "cells": [
  {
   "cell_type": "code",
   "execution_count": 1,
   "metadata": {},
   "outputs": [],
   "source": [
    "from selenium import webdriver\n",
    "from bs4 import BeautifulSoup\n",
    "import numpy as np\n",
    "import matplotlib.pyplot as plt\n",
    "import pandas as pd\n",
    "import time\n",
    "from tqdm import tqdm\n",
    "import pickle"
   ]
  },
  {
   "cell_type": "code",
   "execution_count": 2,
   "metadata": {},
   "outputs": [],
   "source": [
    "class tns_scraping(object):\n",
    "    \n",
    "    def __init__(self):\n",
    "        self.driver = webdriver.Chrome(\"/usr/lib/chromium-browser/chromedriver\")\n",
    "        \n",
    "    def get_reporting_date(self, TNS_name):\n",
    "        self.driver.get(\"https://wis-tns.weizmann.ac.il/object/\"+str(TNS_name)+\"/discovery-cert\")\n",
    "        content = self.driver.page_source\n",
    "        soup = BeautifulSoup(content)\n",
    "        text = soup.get_text()\n",
    "        index = text.find('Date Received')\n",
    "        size = 40\n",
    "        full_date = soup.get_text()[index:index+size]\n",
    "        date, time = full_date.split(\" \")[-2:]\n",
    "        return date, time\n"
   ]
  },
  {
   "cell_type": "code",
   "execution_count": 3,
   "metadata": {},
   "outputs": [],
   "source": [
    "all_alerce = pd.read_pickle(\"all_alerce.pkl\")\n",
    "summary_alerce = pd.read_pickle(\"alerce_summary_tns.pkl\")"
   ]
  },
  {
   "cell_type": "code",
   "execution_count": 4,
   "metadata": {
    "scrolled": true
   },
   "outputs": [
    {
     "data": {
      "text/plain": [
       "Index(['ID', 'Name', 'RA', 'DEC', 'Obj. Type', 'Redshift', 'Host Name',\n",
       "       'Host Redshift', 'Reporting Group/s', 'Discovery Data Source/s',\n",
       "       'Classifying Group/s', 'Associated Group/s', 'Disc. Internal Name',\n",
       "       'Disc. Instrument/s', 'Class. Instrument/s', 'TNS AT', 'Public',\n",
       "       'End Prop. Period', 'Discovery Mag/Flux', 'Discovery Filter',\n",
       "       'Discovery Date (UT)', 'Sender', 'Remarks', 'Ext. catalog/s', 'url'],\n",
       "      dtype='object')"
      ]
     },
     "execution_count": 4,
     "metadata": {},
     "output_type": "execute_result"
    }
   ],
   "source": [
    "all_alerce.columns"
   ]
  },
  {
   "cell_type": "code",
   "execution_count": 5,
   "metadata": {},
   "outputs": [
    {
     "data": {
      "text/plain": [
       "0     ZTF20aaskdgf\n",
       "1     ZTF20aasmgqk\n",
       "2     ZTF20aasoaeu\n",
       "3     ZTF20aaspdtp\n",
       "4     ZTF20aaskbht\n",
       "          ...     \n",
       "42    ZTF19abjklyz\n",
       "43    ZTF19abjobyp\n",
       "44    ZTF19abjppqv\n",
       "45    ZTF19abjpqlc\n",
       "46    ZTF19abjquxy\n",
       "Name: Disc. Internal Name, Length: 2026, dtype: object"
      ]
     },
     "execution_count": 5,
     "metadata": {},
     "output_type": "execute_result"
    }
   ],
   "source": [
    "all_alerce[\"Disc. Internal Name\"]"
   ]
  },
  {
   "cell_type": "code",
   "execution_count": 6,
   "metadata": {
    "scrolled": false
   },
   "outputs": [
    {
     "data": {
      "text/html": [
       "<div>\n",
       "<style scoped>\n",
       "    .dataframe tbody tr th:only-of-type {\n",
       "        vertical-align: middle;\n",
       "    }\n",
       "\n",
       "    .dataframe tbody tr th {\n",
       "        vertical-align: top;\n",
       "    }\n",
       "\n",
       "    .dataframe thead th {\n",
       "        text-align: right;\n",
       "    }\n",
       "</style>\n",
       "<table border=\"1\" class=\"dataframe\">\n",
       "  <thead>\n",
       "    <tr style=\"text-align: right;\">\n",
       "      <th></th>\n",
       "      <th>oid</th>\n",
       "      <th>nobs</th>\n",
       "      <th>dt</th>\n",
       "      <th>dt2</th>\n",
       "      <th>dmag</th>\n",
       "      <th>dt_fid</th>\n",
       "      <th>dmag_fid</th>\n",
       "      <th>first_mjd</th>\n",
       "      <th>first_det_mag</th>\n",
       "      <th>ra</th>\n",
       "      <th>dec</th>\n",
       "      <th>dt_first_max</th>\n",
       "      <th>dmag_first_max</th>\n",
       "      <th>mag_at_max</th>\n",
       "      <th>dmdt_fid</th>\n",
       "    </tr>\n",
       "  </thead>\n",
       "  <tbody>\n",
       "    <tr>\n",
       "      <th>0</th>\n",
       "      <td>ZTF20aaskdgf</td>\n",
       "      <td>1</td>\n",
       "      <td>8.969768</td>\n",
       "      <td>NaN</td>\n",
       "      <td>0.314535</td>\n",
       "      <td>9.009305</td>\n",
       "      <td>0.528034</td>\n",
       "      <td>58913.141944</td>\n",
       "      <td>19.593266</td>\n",
       "      <td>67.270614</td>\n",
       "      <td>-12.543713</td>\n",
       "      <td>0.000000</td>\n",
       "      <td>0.000000</td>\n",
       "      <td>19.593266</td>\n",
       "      <td>0.058610</td>\n",
       "    </tr>\n",
       "    <tr>\n",
       "      <th>1</th>\n",
       "      <td>ZTF20aasmgqk</td>\n",
       "      <td>1</td>\n",
       "      <td>0.041782</td>\n",
       "      <td>NaN</td>\n",
       "      <td>1.305998</td>\n",
       "      <td>0.986863</td>\n",
       "      <td>1.561897</td>\n",
       "      <td>58913.276944</td>\n",
       "      <td>18.544903</td>\n",
       "      <td>162.499881</td>\n",
       "      <td>23.431558</td>\n",
       "      <td>0.000000</td>\n",
       "      <td>0.000000</td>\n",
       "      <td>18.544903</td>\n",
       "      <td>1.582688</td>\n",
       "    </tr>\n",
       "    <tr>\n",
       "      <th>2</th>\n",
       "      <td>ZTF20aasoaeu</td>\n",
       "      <td>1</td>\n",
       "      <td>13.047940</td>\n",
       "      <td>NaN</td>\n",
       "      <td>0.811230</td>\n",
       "      <td>21.090706</td>\n",
       "      <td>-0.403469</td>\n",
       "      <td>58913.424155</td>\n",
       "      <td>19.380569</td>\n",
       "      <td>187.632292</td>\n",
       "      <td>-17.220212</td>\n",
       "      <td>0.000000</td>\n",
       "      <td>0.000000</td>\n",
       "      <td>19.380569</td>\n",
       "      <td>-0.019130</td>\n",
       "    </tr>\n",
       "    <tr>\n",
       "      <th>3</th>\n",
       "      <td>ZTF20aaspdtp</td>\n",
       "      <td>1</td>\n",
       "      <td>0.960532</td>\n",
       "      <td>NaN</td>\n",
       "      <td>2.034286</td>\n",
       "      <td>1.001481</td>\n",
       "      <td>1.682087</td>\n",
       "      <td>58913.497350</td>\n",
       "      <td>18.730513</td>\n",
       "      <td>252.476105</td>\n",
       "      <td>53.946731</td>\n",
       "      <td>0.000000</td>\n",
       "      <td>0.000000</td>\n",
       "      <td>18.730513</td>\n",
       "      <td>1.679599</td>\n",
       "    </tr>\n",
       "    <tr>\n",
       "      <th>4</th>\n",
       "      <td>ZTF20aaskbht</td>\n",
       "      <td>1</td>\n",
       "      <td>7.998947</td>\n",
       "      <td>NaN</td>\n",
       "      <td>0.273787</td>\n",
       "      <td>7.998947</td>\n",
       "      <td>0.273787</td>\n",
       "      <td>58913.130289</td>\n",
       "      <td>19.187313</td>\n",
       "      <td>38.255634</td>\n",
       "      <td>21.328905</td>\n",
       "      <td>0.000000</td>\n",
       "      <td>0.000000</td>\n",
       "      <td>19.187313</td>\n",
       "      <td>0.034228</td>\n",
       "    </tr>\n",
       "    <tr>\n",
       "      <th>...</th>\n",
       "      <td>...</td>\n",
       "      <td>...</td>\n",
       "      <td>...</td>\n",
       "      <td>...</td>\n",
       "      <td>...</td>\n",
       "      <td>...</td>\n",
       "      <td>...</td>\n",
       "      <td>...</td>\n",
       "      <td>...</td>\n",
       "      <td>...</td>\n",
       "      <td>...</td>\n",
       "      <td>...</td>\n",
       "      <td>...</td>\n",
       "      <td>...</td>\n",
       "      <td>...</td>\n",
       "    </tr>\n",
       "    <tr>\n",
       "      <th>2021</th>\n",
       "      <td>ZTF19abjklyz</td>\n",
       "      <td>3</td>\n",
       "      <td>6.858507</td>\n",
       "      <td>9.953102</td>\n",
       "      <td>-0.542484</td>\n",
       "      <td>6.858507</td>\n",
       "      <td>-0.542484</td>\n",
       "      <td>58693.323009</td>\n",
       "      <td>20.741085</td>\n",
       "      <td>330.443201</td>\n",
       "      <td>29.849292</td>\n",
       "      <td>3.094595</td>\n",
       "      <td>0.365274</td>\n",
       "      <td>20.375811</td>\n",
       "      <td>-0.079097</td>\n",
       "    </tr>\n",
       "    <tr>\n",
       "      <th>2022</th>\n",
       "      <td>ZTF19abjobyp</td>\n",
       "      <td>1</td>\n",
       "      <td>2.937280</td>\n",
       "      <td>NaN</td>\n",
       "      <td>-0.100792</td>\n",
       "      <td>3.013194</td>\n",
       "      <td>-0.045492</td>\n",
       "      <td>58693.394329</td>\n",
       "      <td>20.273191</td>\n",
       "      <td>336.647484</td>\n",
       "      <td>-5.944884</td>\n",
       "      <td>0.000000</td>\n",
       "      <td>0.000000</td>\n",
       "      <td>20.273191</td>\n",
       "      <td>-0.015098</td>\n",
       "    </tr>\n",
       "    <tr>\n",
       "      <th>2023</th>\n",
       "      <td>ZTF19abjppqv</td>\n",
       "      <td>11</td>\n",
       "      <td>2.994062</td>\n",
       "      <td>5.975822</td>\n",
       "      <td>0.305964</td>\n",
       "      <td>2.994062</td>\n",
       "      <td>0.305964</td>\n",
       "      <td>58693.457072</td>\n",
       "      <td>19.898537</td>\n",
       "      <td>18.495533</td>\n",
       "      <td>-2.156206</td>\n",
       "      <td>10.042234</td>\n",
       "      <td>0.545441</td>\n",
       "      <td>19.353096</td>\n",
       "      <td>0.102190</td>\n",
       "    </tr>\n",
       "    <tr>\n",
       "      <th>2024</th>\n",
       "      <td>ZTF19abjpqlc</td>\n",
       "      <td>6</td>\n",
       "      <td>7.042199</td>\n",
       "      <td>12.015474</td>\n",
       "      <td>-2.207703</td>\n",
       "      <td>7.042199</td>\n",
       "      <td>-2.207703</td>\n",
       "      <td>58693.459965</td>\n",
       "      <td>20.039202</td>\n",
       "      <td>348.160126</td>\n",
       "      <td>-26.859484</td>\n",
       "      <td>15.021053</td>\n",
       "      <td>0.478817</td>\n",
       "      <td>19.560385</td>\n",
       "      <td>-0.313496</td>\n",
       "    </tr>\n",
       "    <tr>\n",
       "      <th>2025</th>\n",
       "      <td>ZTF19abjquxy</td>\n",
       "      <td>3</td>\n",
       "      <td>0.027651</td>\n",
       "      <td>3.010775</td>\n",
       "      <td>0.387482</td>\n",
       "      <td>3.057315</td>\n",
       "      <td>-0.379219</td>\n",
       "      <td>58693.482431</td>\n",
       "      <td>20.394218</td>\n",
       "      <td>27.867235</td>\n",
       "      <td>6.893229</td>\n",
       "      <td>2.983125</td>\n",
       "      <td>0.095623</td>\n",
       "      <td>20.298595</td>\n",
       "      <td>-0.124037</td>\n",
       "    </tr>\n",
       "  </tbody>\n",
       "</table>\n",
       "<p>2026 rows × 15 columns</p>\n",
       "</div>"
      ],
      "text/plain": [
       "               oid  nobs         dt        dt2      dmag     dt_fid  dmag_fid  \\\n",
       "0     ZTF20aaskdgf     1   8.969768        NaN  0.314535   9.009305  0.528034   \n",
       "1     ZTF20aasmgqk     1   0.041782        NaN  1.305998   0.986863  1.561897   \n",
       "2     ZTF20aasoaeu     1  13.047940        NaN  0.811230  21.090706 -0.403469   \n",
       "3     ZTF20aaspdtp     1   0.960532        NaN  2.034286   1.001481  1.682087   \n",
       "4     ZTF20aaskbht     1   7.998947        NaN  0.273787   7.998947  0.273787   \n",
       "...            ...   ...        ...        ...       ...        ...       ...   \n",
       "2021  ZTF19abjklyz     3   6.858507   9.953102 -0.542484   6.858507 -0.542484   \n",
       "2022  ZTF19abjobyp     1   2.937280        NaN -0.100792   3.013194 -0.045492   \n",
       "2023  ZTF19abjppqv    11   2.994062   5.975822  0.305964   2.994062  0.305964   \n",
       "2024  ZTF19abjpqlc     6   7.042199  12.015474 -2.207703   7.042199 -2.207703   \n",
       "2025  ZTF19abjquxy     3   0.027651   3.010775  0.387482   3.057315 -0.379219   \n",
       "\n",
       "         first_mjd  first_det_mag          ra        dec  dt_first_max  \\\n",
       "0     58913.141944      19.593266   67.270614 -12.543713      0.000000   \n",
       "1     58913.276944      18.544903  162.499881  23.431558      0.000000   \n",
       "2     58913.424155      19.380569  187.632292 -17.220212      0.000000   \n",
       "3     58913.497350      18.730513  252.476105  53.946731      0.000000   \n",
       "4     58913.130289      19.187313   38.255634  21.328905      0.000000   \n",
       "...            ...            ...         ...        ...           ...   \n",
       "2021  58693.323009      20.741085  330.443201  29.849292      3.094595   \n",
       "2022  58693.394329      20.273191  336.647484  -5.944884      0.000000   \n",
       "2023  58693.457072      19.898537   18.495533  -2.156206     10.042234   \n",
       "2024  58693.459965      20.039202  348.160126 -26.859484     15.021053   \n",
       "2025  58693.482431      20.394218   27.867235   6.893229      2.983125   \n",
       "\n",
       "      dmag_first_max  mag_at_max  dmdt_fid  \n",
       "0           0.000000   19.593266  0.058610  \n",
       "1           0.000000   18.544903  1.582688  \n",
       "2           0.000000   19.380569 -0.019130  \n",
       "3           0.000000   18.730513  1.679599  \n",
       "4           0.000000   19.187313  0.034228  \n",
       "...              ...         ...       ...  \n",
       "2021        0.365274   20.375811 -0.079097  \n",
       "2022        0.000000   20.273191 -0.015098  \n",
       "2023        0.545441   19.353096  0.102190  \n",
       "2024        0.478817   19.560385 -0.313496  \n",
       "2025        0.095623   20.298595 -0.124037  \n",
       "\n",
       "[2026 rows x 15 columns]"
      ]
     },
     "execution_count": 6,
     "metadata": {},
     "output_type": "execute_result"
    }
   ],
   "source": [
    "summary_alerce"
   ]
  },
  {
   "cell_type": "code",
   "execution_count": 7,
   "metadata": {},
   "outputs": [
    {
     "name": "stderr",
     "output_type": "stream",
     "text": [
      "100%|██████████| 2026/2026 [1:10:00<00:00,  2.07s/it]\n"
     ]
    }
   ],
   "source": [
    "scraper = tns_scraping()\n",
    "\n",
    "reporting_time = []\n",
    "reporting_date = []\n",
    "\n",
    "for ztf_name in tqdm(summary_alerce[\"oid\"]):\n",
    "    tns_name = all_alerce[all_alerce[\"Disc. Internal Name\"]==ztf_name]\n",
    "    tns_name = tns_name[\"Name\"].values[0].split(\" \")[-1]\n",
    "    \n",
    "    rep_date, rep_time = scraper.get_reporting_date(tns_name)\n",
    "    reporting_time.append(rep_time)\n",
    "    reporting_date.append(rep_date)\n",
    "    \n",
    "    time.sleep(np.random.uniform(low=0, high=3))"
   ]
  },
  {
   "cell_type": "code",
   "execution_count": 8,
   "metadata": {},
   "outputs": [],
   "source": [
    "import pickle\n",
    "pickle.dump({\"reporting_time\": reporting_time, \"reporting_date\": reporting_date},\n",
    "           open(\"alerce_reporting_time.pkl\", \"wb\"),\n",
    "           protocol=2)"
   ]
  },
  {
   "cell_type": "code",
   "execution_count": 12,
   "metadata": {},
   "outputs": [
    {
     "data": {
      "text/plain": [
       "(2026, 2026)"
      ]
     },
     "execution_count": 12,
     "metadata": {},
     "output_type": "execute_result"
    }
   ],
   "source": [
    "len(reporting_time), len(reporting_date)"
   ]
  },
  {
   "cell_type": "code",
   "execution_count": 3,
   "metadata": {},
   "outputs": [],
   "source": [
    "scraper = tns_scraping()\n",
    "\n",
    "all_ztf = pd.read_pickle(\"all_ztf.pkl\")\n",
    "summary_ztf = pd.read_pickle(\"ztf_summary_tns.pkl\")\n",
    "\n"
   ]
  },
  {
   "cell_type": "code",
   "execution_count": 4,
   "metadata": {},
   "outputs": [
    {
     "data": {
      "text/plain": [
       "(8375, 8183)"
      ]
     },
     "execution_count": 4,
     "metadata": {},
     "output_type": "execute_result"
    }
   ],
   "source": [
    "len(all_ztf), len(summary_ztf)"
   ]
  },
  {
   "cell_type": "code",
   "execution_count": 5,
   "metadata": {},
   "outputs": [
    {
     "name": "stderr",
     "output_type": "stream",
     "text": [
      "100%|██████████| 8183/8183 [4:48:08<00:00,  2.11s/it]  \n"
     ]
    }
   ],
   "source": [
    "reporting_time = []\n",
    "reporting_date = []\n",
    "\n",
    "for ztf_name in tqdm(summary_ztf[\"oid\"]):\n",
    "    tns_name = all_ztf[all_ztf[\"Disc. Internal Name\"]==ztf_name]\n",
    "    tns_name = tns_name[\"Name\"].values[0].split(\" \")[-1]\n",
    "    \n",
    "    rep_date, rep_time = scraper.get_reporting_date(tns_name)\n",
    "    reporting_time.append(rep_time)\n",
    "    reporting_date.append(rep_date)\n",
    "    \n",
    "    time.sleep(np.random.uniform(low=0, high=3))\n",
    "    \n",
    "\n",
    "pickle.dump({\"reporting_time\": reporting_time, \"reporting_date\": reporting_date},\n",
    "           open(\"ztf_reporting_time.pkl\", \"wb\"),\n",
    "           protocol=2)"
   ]
  },
  {
   "cell_type": "code",
   "execution_count": null,
   "metadata": {},
   "outputs": [],
   "source": []
  }
 ],
 "metadata": {
  "kernelspec": {
   "display_name": "Python 3",
   "language": "python",
   "name": "python3"
  },
  "language_info": {
   "codemirror_mode": {
    "name": "ipython",
    "version": 3
   },
   "file_extension": ".py",
   "mimetype": "text/x-python",
   "name": "python",
   "nbconvert_exporter": "python",
   "pygments_lexer": "ipython3",
   "version": "3.7.6"
  }
 },
 "nbformat": 4,
 "nbformat_minor": 2
}
