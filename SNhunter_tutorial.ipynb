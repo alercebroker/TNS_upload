{
 "cells": [
  {
   "cell_type": "markdown",
   "metadata": {},
   "source": [
    "# ALeRCE SN checker and reporter tutorial"
   ]
  },
  {
   "cell_type": "markdown",
   "metadata": {
    "ExecuteTime": {
     "end_time": "2019-11-07T13:48:10.559543Z",
     "start_time": "2019-11-07T13:48:10.556254Z"
    }
   },
   "source": [
    "Francisco Förster on behalf of the ALeRCE collaboration\n",
    "\n",
    "Nov 6th, 2019"
   ]
  },
  {
   "cell_type": "code",
   "execution_count": 1,
   "metadata": {
    "ExecuteTime": {
     "end_time": "2019-11-07T14:30:21.872062Z",
     "start_time": "2019-11-07T14:30:21.863464Z"
    }
   },
   "outputs": [
    {
     "data": {
      "text/html": [
       "<style>.container { width:100% !important; }</style>"
      ],
      "text/plain": [
       "<IPython.core.display.HTML object>"
      ]
     },
     "metadata": {},
     "output_type": "display_data"
    }
   ],
   "source": [
    "# load some modules to change the notebook format and to be able to load videos later\n",
    "from IPython.display import HTML\n",
    "from IPython.core.display import display, HTML\n",
    "display(HTML(\"<style>.container { width:100% !important; }</style>\"))"
   ]
  },
  {
   "cell_type": "markdown",
   "metadata": {},
   "source": [
    "# Introduction"
   ]
  },
  {
   "cell_type": "markdown",
   "metadata": {},
   "source": [
    "ALeRCE is the Automatic Learning for the Rapid Classification of events, see http://alerce.science/.\n",
    "\n",
    "ALeRCE is an astronomical broker built to ingest, aggregate, annotate and classify astronomical alerts.\n",
    "\n",
    "Astronomical alerts are packets produced by a new generation of large etendue telescopes reporting any significant change in the sky, e.g. transients, variable stars, asteroids.\n",
    "\n",
    "ALeRCE has two types of classifiers: an early classifier which uses only one image to classify objects, and a late classifier which uses the flux time series or light curve to classify objects.\n",
    "\n",
    "The early classifier classifies objects in the following classes:\n",
    "\n",
    "* supernova (extragalactic transients)\n",
    "* variable stars\n",
    "* asteroids\n",
    "* active galactic nuclei\n",
    "* bogus\n",
    "\n",
    "The objective of this notebook is to teach you how to check supernova candidates in the early classifier using the [SN hunter](http://dev.alerce.online/) tool, and how report them to the Transient Name Server ([TNS](https://wis-tns.weizmann.ac.il/search)) for the community to follow them up."
   ]
  },
  {
   "cell_type": "markdown",
   "metadata": {},
   "source": [
    "### Before you start"
   ]
  },
  {
   "cell_type": "markdown",
   "metadata": {},
   "source": [
    "You will need to do the following:\n",
    "\n",
    "* install the alerce api (`pip install alerce`)\n",
    "* clone the [TNS_upload](https://github.com/alercebroker/TNS_upload) repository (e.g. `git clone git@github.com:alercebroker/TNS_upload.git`). If you have already cloned it remember to do a `git pull`, which will also give you the latest version of this tutorial.\n",
    "* ask [me](francisco.forster@gmail.com) for the TNS API key (please use with caution!!)"
   ]
  },
  {
   "cell_type": "markdown",
   "metadata": {},
   "source": [
    "# Contents"
   ]
  },
  {
   "cell_type": "markdown",
   "metadata": {},
   "source": [
    "This tutorial is divided in the following steps:\n",
    "\n",
    "1. How to check candidates in the SN hunter\n",
    "2. How to gather and filter candidates selected by other users\n",
    "3. How to select their host galaxies\n",
    "4. How to report these candidates with their host galaxies to TNS"
   ]
  },
  {
   "cell_type": "markdown",
   "metadata": {},
   "source": [
    "# 1. Check candidates in the SN hunter"
   ]
  },
  {
   "cell_type": "markdown",
   "metadata": {},
   "source": [
    "The SN hunter is a tool to visualize the best SN candidates reported by the ALeRCE early classifier. It has two versions: the [production](https://snhunter.alerce.online/) and the [development](http://dev.snhunter.alerce.online/) websites. \n",
    "\n",
    "Both [production](https://snhunter.alerce.online/) and [development](http://dev.snhunter.alerce.online/) allow you to see recent SN candidates produced by ZTF. \n",
    "\n",
    "The [development](http://dev.snhunter.alerce.online/) version also allows you to report bogus candidates (Nov 2019). In the future you will also be able to report SN candidates."
   ]
  },
  {
   "cell_type": "markdown",
   "metadata": {},
   "source": [
    "When you enter the snhunter you will see something like this. \n",
    "\n",
    "In the development version you can login using your google account to be able to report bogus candidates (upper right corner)\n",
    "\n",
    "![](images/snhunter.png)"
   ]
  },
  {
   "cell_type": "markdown",
   "metadata": {},
   "source": [
    "You can do the quick start tutorial to get some quick description of the different components."
   ]
  },
  {
   "cell_type": "markdown",
   "metadata": {},
   "source": [
    "### Top 100 SN candidates table"
   ]
  },
  {
   "cell_type": "markdown",
   "metadata": {},
   "source": [
    "The table on the right shows the following information of the top 100 SN candidates:\n",
    "\n",
    "* the object IDs (the unique identifier for each object)\n",
    "* the discovery date\n",
    "* a score which indicates the probability of the candidate of being SN\n",
    "* the number of detections\n",
    "\n",
    "You can sort by any of these quantities by clicking in the column title. \n",
    "\n",
    "You can also select how old the candidates can be by selecting an the maximum age of the candidates in the selection bar on the left of the refresh button.\n",
    "\n",
    "The refresh button allows you to update the table taking into account the most recent candidates (consider that the processing from the previous night usually stops around noon in Chile)\n",
    "\n",
    "![](images/snhunter_table.png)"
   ]
  },
  {
   "cell_type": "markdown",
   "metadata": {},
   "source": [
    "### Celestial map"
   ]
  },
  {
   "cell_type": "markdown",
   "metadata": {},
   "source": [
    "\n",
    "\n",
    "The map on the left shows the location of the candidates in the sky. \n",
    "\n",
    "The size of the circles indicate the score. \n",
    "\n",
    "The Milky Way is shown as a gray patch and the ecliptic is shown as a green line. One shouldn't expect to see SN candidates in the galactic plane, although there are exceptions. Asteroids can be confused with SN around the ecliptic. \n",
    "\n",
    "If you select one candidate from the table the map will be centered around it, which is shown as a blue circle. The size of the circle indicates the score of the candidate.\n",
    "\n",
    "![](images/snhunter_map.png)"
   ]
  },
  {
   "cell_type": "markdown",
   "metadata": {},
   "source": [
    "### Candidate information"
   ]
  },
  {
   "cell_type": "markdown",
   "metadata": {},
   "source": [
    "When you click in a candidate from the table you will also see more information about the candidate on top of the map and table.\n",
    "\n",
    "On the left panel you will see some statistics: \n",
    "\n",
    "   - the object ID, the coordinates\n",
    "   - the detection band, the magnitude and time of detection\n",
    "   - PanSTARRS crossmatch information: ID, distance and a star galaxy score of the nearest source in PanSTARRS\n",
    "   - a link to the ALeRCE explorer for the same object id\n",
    "   - a query to the NASA Extragalactic Explorer (NED) for the same position\n",
    "   - a query to the Transient Name Server (TNS) around the position of the candidate\n",
    "   - a query to Simbad Astronomical Database around the position of the candidate\n",
    "   - a link to see the full alert information from ZTF\n",
    "\n",
    "In the middle panel you will see archival images around the position of the object from Aladin (by default showing color images from PanSTARRS)\n",
    "\n",
    "In the right panel you will see the science, template and difference stamps centered around the candidate. Considering that the candidate will appear in the science image and that the difference requires a convolution step which tends to smooth features, it is recommended to look first at the science image, then the template, then the difference image. \n"
   ]
  },
  {
   "cell_type": "markdown",
   "metadata": {},
   "source": [
    "![](images/snhunter_candidate.png)"
   ]
  },
  {
   "cell_type": "markdown",
   "metadata": {},
   "source": [
    "In the previous example you can see that the nearest object in PanSTARRS is at ~7 arcsec and is probably a galaxy because its score is 0.004. This is consistent with what is seen in the Aladin and ZTF images of the host and the candidate (ZTF pixels are about 1\")."
   ]
  },
  {
   "cell_type": "markdown",
   "metadata": {},
   "source": [
    "### Full alert information"
   ]
  },
  {
   "cell_type": "markdown",
   "metadata": {},
   "source": [
    "If you click on the Full alert information you will see the following window:\n",
    "\n",
    "![](images/snhunter_full.png)"
   ]
  },
  {
   "cell_type": "markdown",
   "metadata": {},
   "source": [
    "Where you can scroll to see different properties of the alert. The explanation for the different fields is contained in the schema description on the top."
   ]
  },
  {
   "cell_type": "markdown",
   "metadata": {},
   "source": [
    "Some important fields are:\n",
    "\n",
    "1. `isdiffpos`: whether the difference is positive (t) or not (f). If the difference is not positive it shouldn't be reported as SN.\n",
    "2. `drb`: deep learning based real (1) bogus (0) score\n",
    "3. `rb`: random forest based real (1) bogus (0) score\n",
    "4. `candid`: unique identifier of the alert\n",
    "5. `fwhm`:source full width half maximum"
   ]
  },
  {
   "cell_type": "markdown",
   "metadata": {},
   "source": [
    "# Some selection criteria"
   ]
  },
  {
   "cell_type": "markdown",
   "metadata": {
    "ExecuteTime": {
     "end_time": "2019-11-05T15:48:42.980152Z",
     "start_time": "2019-11-05T15:48:42.976539Z"
    }
   },
   "source": [
    "### Good SN candidates:\n",
    "\n",
    "* should be **located on top or near a galaxy**. Sometimes it is better to see the Aladin image to look for a nearby galaxy. Bear in mind that galaxies can be more extended than what the images suggest. If you don't see a host galaxy do not report it, it is most likely a variable star (if it coincides with the position of a star) or an asteroid (specially if it is near the ecliptic).\n",
    "\n",
    "* should be **visible in the science image**. If you cannot see the candidate in the science image or if you are not sure you should always look at the `isdiffpos` field in the full alert information to make sure the alert has a positive difference. If the difference looks fine and `isdiffpos` is True then you can report it even if you cannot clearly distinguish it in the science image, e.g. if the candidate is in the center of a galaxy.\n",
    "\n",
    "* should have a **shape similar to other stars, with fuzzy edges and a symmetric shape** in the field in the science image. If you cannot see other stars and you are not sure about a candidate it is useful to look at the `drb` field (it should be close to one), although this doesn't always work. If the candidate has very sharp edges in the science image it is most likely a cosmic ray. This is specially the case if it also has a non symmetric shape. If you are unsure do not report.\n",
    "\n",
    "* if the candidate is close to a galaxy, but it doesn't look convincing, check if it has **more than one detection**. In that case you can click in the ALeRCE explorer link and look at the images from the second detections there."
   ]
  },
  {
   "cell_type": "markdown",
   "metadata": {},
   "source": [
    "### Bad candidates:\n",
    "\n",
    "* if the candidate **coincides with the position of a star** do not report it, it is most likely a variable star.\n",
    "* if the candidate is in a **very crowded field** do not report it, unless you can clearly separate the host galaxy and the candidate from the rest\n",
    "* if the **science or template images look wrong around the position of the candidate** (bad pixel, bad column, cosmic ray, ghosts, bright star spikes, see more detail below) do not report it.\n",
    "* if you see **many candidates with the same detection time**, where you cannot separate the candidate in the science image it is most likely due to a calibration problem. For this reason it is recommended to **sort by detection date** when checking candidates."
   ]
  },
  {
   "cell_type": "markdown",
   "metadata": {},
   "source": [
    "### Bogus candidates:\n",
    "\n",
    "If you are using the developer's version of the snhunter you can report bogus candidates. This helps building training sets to improve the classifier.\n",
    "\n",
    "To understand what to report and what not to report consider that the early classifier tries to classify point like sources with an astrophysical origin into the classes supernova (extragalactic transients), active galactic nuclei, variable stars and asteroids. The bogus class corresponds to candidates without an astrophysical origin or things which do not look point source like.\n",
    "\n",
    "Possible origins for bogus objects are:"
   ]
  },
  {
   "cell_type": "markdown",
   "metadata": {},
   "source": [
    "1. **dipoles**: when images are not well aligned the subtraction looks like a dipole with negative and positive values\n",
    "\n",
    "![](images/snhunter_dipole01.png)\n",
    "![](images/snhunter_dipole02.png)"
   ]
  },
  {
   "cell_type": "markdown",
   "metadata": {},
   "source": [
    "2. **cosmic rays**: energetic particles which hit the detector directly without going through the optics of the telescope. They are characterized for having sharp edges and non-symmetric shapes. Note that they can be distinguished more easily in the science image.\n",
    "\n",
    "![](images/snhunter_cr01.png)\n",
    "![](images/snhunter_cr02.png)\n",
    "![](images/snhunter_cr03.png)\n",
    "![](images/snhunter_cr04.png)"
   ]
  },
  {
   "cell_type": "markdown",
   "metadata": {},
   "source": [
    "3. **bright star spikes**: when a bright star is present one can see radial spikes originating from the bright star, which are produced by the element holding the secondary mirror (spider)\n",
    "\n",
    "![](images/snhunter_spike.png)"
   ]
  },
  {
   "cell_type": "markdown",
   "metadata": {
    "ExecuteTime": {
     "end_time": "2019-11-05T18:44:37.092102Z",
     "start_time": "2019-11-05T18:44:37.088702Z"
    }
   },
   "source": [
    "4. **bad columns**: when a whole column or row has problems in the detector\n",
    "\n",
    "![](images/snhunter_badcolumn.png)"
   ]
  },
  {
   "cell_type": "markdown",
   "metadata": {},
   "source": [
    "5. **hot pixels**: when one or a group of pixels have more counts than normal. They look like cosmic rays.\n",
    "\n",
    "![](images/snhunter_hotpixel.png)"
   ]
  },
  {
   "cell_type": "markdown",
   "metadata": {},
   "source": [
    "5. **cold pixels**: when one or a group of pixels have less counts than normal\n",
    "\n",
    "![](images/snhunter_coldpixel.png)"
   ]
  },
  {
   "cell_type": "markdown",
   "metadata": {},
   "source": [
    "## Examples of good candidates"
   ]
  },
  {
   "cell_type": "markdown",
   "metadata": {},
   "source": [
    "![](images/snhunter_sn01.png)\n",
    "![](images/snhunter_sn02.png)\n",
    "![](images/snhunter_sn03.png)\n",
    "![](images/snhunter_sn04.png)\n",
    "![](images/snhunter_sn05.png)"
   ]
  },
  {
   "cell_type": "markdown",
   "metadata": {},
   "source": [
    "# Examples of bad candidates which turned out to be real"
   ]
  },
  {
   "cell_type": "markdown",
   "metadata": {},
   "source": [
    "Some candidates look bad, but subsequent detections show that they were real. My recommendation is not to report them, but this should be evaluated case by case.\n",
    "\n",
    "This object has 4 detections, the first detection is asymmetric and with sharp edges. I would have been doubtful and probably not reported it.\n",
    "![](images/snhunter_uglysn01.png)\n",
    "\n",
    "This object has 10 detections, the first detection is really ugly. I would not have reported this at all!\n",
    "![](images/snhunter_uglysn02.png)"
   ]
  },
  {
   "cell_type": "markdown",
   "metadata": {},
   "source": [
    "### Example video"
   ]
  },
  {
   "cell_type": "markdown",
   "metadata": {},
   "source": [
    "Here you can see a [video](https://www.youtube.com/embed/WG24B5xgNwo) of the candidate selection process"
   ]
  },
  {
   "cell_type": "code",
   "execution_count": 2,
   "metadata": {
    "ExecuteTime": {
     "end_time": "2019-11-07T14:30:31.645690Z",
     "start_time": "2019-11-07T14:30:31.635401Z"
    }
   },
   "outputs": [
    {
     "data": {
      "text/html": [
       "<iframe width=\"1200\" height=\"800\" src=\"https://www.youtube.com/embed/WG24B5xgNwo\" frameborder=\"0\" allowfullscreen></iframe>"
      ],
      "text/plain": [
       "<IPython.core.display.HTML object>"
      ]
     },
     "execution_count": 2,
     "metadata": {},
     "output_type": "execute_result"
    }
   ],
   "source": [
    "HTML('<iframe width=\"1200\" height=\"800\" src=\"https://www.youtube.com/embed/WG24B5xgNwo\" frameborder=\"0\" allowfullscreen></iframe>')"
   ]
  },
  {
   "cell_type": "code",
   "execution_count": null,
   "metadata": {},
   "outputs": [],
   "source": [
    "\n",
    "\n",
    "\n"
   ]
  },
  {
   "cell_type": "markdown",
   "metadata": {},
   "source": [
    "# 2. Gather and filter candidates selected by other users"
   ]
  },
  {
   "cell_type": "markdown",
   "metadata": {},
   "source": [
    "When checking candidates:\n",
    "\n",
    "* wait until ~noon Chile time for the ZTF night to end (you can use our [grafana](https://grafana.alerce.online/?orgId=1) tool to check whether candidates are still been received)\n",
    "* select the last 24 hr of candidates\n",
    "* sort them by detection time, this will help you identify clusters of bad candidates in time, but also report in chronological order, which will facilitate the comparison between list of candidates reported by different people\n"
   ]
  },
  {
   "cell_type": "markdown",
   "metadata": {},
   "source": [
    "Reporting in slack\n",
    "\n",
    "* When exploring candidates in the SN hunter we recommend to open the ALeRCE explorer for those candidates which looked interesting. This will allow you to look at the non-detections and possible other detections, or to look for crossmatches.\n",
    "\n",
    "* While you do this you should go to the #recentsupernova channel in the [alerce slack](https://alerce-science.slack.com) and start a thread with the current date in the format `yyyymmdd (your initials)`, e.g. `20191105 (FF)`\n",
    "\n",
    "* In this thread you should start copying and pasting the links to the individual candidates that you selected. Other people can then comment on your candidates, e.g.:\n",
    "\n",
    "![](images/snhunter_slack_FEB.png)\n",
    "\n",
    "or \n",
    "\n",
    "![](images/snhunter_slack.png)\n",
    "\n",
    "\n",
    "\n",
    "See video below:"
   ]
  },
  {
   "cell_type": "markdown",
   "metadata": {},
   "source": [
    "#### Example [video](https://www.youtube.com/embed/rLAwCRams6U)"
   ]
  },
  {
   "cell_type": "code",
   "execution_count": 3,
   "metadata": {
    "ExecuteTime": {
     "end_time": "2019-11-07T14:30:48.912238Z",
     "start_time": "2019-11-07T14:30:48.909509Z"
    },
    "scrolled": false
   },
   "outputs": [
    {
     "data": {
      "text/html": [
       "<iframe width=\"1100\" height=\"700\" src=\"https://www.youtube.com/embed/rLAwCRams6U\" frameborder=\"0\" allowfullscreen></iframe>"
      ],
      "text/plain": [
       "<IPython.core.display.HTML object>"
      ]
     },
     "execution_count": 3,
     "metadata": {},
     "output_type": "execute_result"
    }
   ],
   "source": [
    "HTML('<iframe width=\"1100\" height=\"700\" src=\"https://www.youtube.com/embed/rLAwCRams6U\" frameborder=\"0\" allowfullscreen></iframe>')"
   ]
  },
  {
   "cell_type": "markdown",
   "metadata": {},
   "source": [
    "Final list of candidates:\n",
    "\n",
    "* there will be a group of people checking candidates every day, you should make sure you wait for their list and comment their candidates. \n",
    "\n",
    "* one person will decide which candidates to accept or not. This person will be responsible for submitting them to the Transient Name Server\n",
    "\n",
    "* when the final list of candidates is compiled this person will report them using the format `yyyymmdd (final)`, e.g.\n",
    "\n",
    "![](images/snhunter_slack_final.png)\n",
    "\n",
    "Note that the candidates ZTF19acoqzib and ZTF19acorgwx from FEB were removed, as well as the candidate ZTF19acoqacu from FF.\n"
   ]
  },
  {
   "cell_type": "markdown",
   "metadata": {},
   "source": [
    "#### Example [video](https://www.youtube.com/embed/_K9RKh92HOY)"
   ]
  },
  {
   "cell_type": "code",
   "execution_count": 4,
   "metadata": {
    "ExecuteTime": {
     "end_time": "2019-11-07T14:31:01.475924Z",
     "start_time": "2019-11-07T14:31:01.472706Z"
    },
    "scrolled": false
   },
   "outputs": [
    {
     "data": {
      "text/html": [
       "<iframe width=\"1100\" height=\"700\" src=\"https://www.youtube.com/embed/_K9RKh92HOY\" frameborder=\"0\">"
      ],
      "text/plain": [
       "<IPython.core.display.HTML object>"
      ]
     },
     "execution_count": 4,
     "metadata": {},
     "output_type": "execute_result"
    }
   ],
   "source": [
    "HTML('<iframe width=\"1100\" height=\"700\" src=\"https://www.youtube.com/embed/_K9RKh92HOY\" frameborder=\"0\">')"
   ]
  },
  {
   "cell_type": "code",
   "execution_count": null,
   "metadata": {},
   "outputs": [],
   "source": [
    "\n",
    "\n",
    "\n"
   ]
  },
  {
   "cell_type": "markdown",
   "metadata": {},
   "source": [
    "# 3. Select host galaxies"
   ]
  },
  {
   "cell_type": "markdown",
   "metadata": {},
   "source": [
    "Once the final list of candidates has been compiled you should save those candidates in the `TNS_upload` repository, in the directory `candidates` and in a file named `yyyymmdd.txt` containing just the object ids, e.g.\n",
    "\n",
    "```\n",
    "TNS_upload/candidates$ cat 20191105.txt \n",
    "ZTF19acopvmc\n",
    "ZTF19acopyaq\n",
    "ZTF19acoqxag\n",
    "ZTF19acotweu\n",
    "ZTF19acouclc\n",
    "ZTF19acouhpm\n",
    "```\n",
    "\n",
    "If you find out later that day that there were additional candidates which you would like to submit you can create a file a second file, e.g. `20191105b.txt`"
   ]
  },
  {
   "cell_type": "markdown",
   "metadata": {},
   "source": [
    "This list will be used in the [TNS upload notebook](https://github.com/alercebroker/TNS_upload/blob/master/ALeRCE_ZTF_TNS_send_SNe.ipynb) to select the candidate host galaxies and send a report to Transient Name Server (TNS)"
   ]
  },
  {
   "cell_type": "markdown",
   "metadata": {},
   "source": [
    "### Using the [TNS upload notebook](https://github.com/alercebroker/TNS_upload/blob/master/ALeRCE_ZTF_TNS_send_SNe.ipynb)"
   ]
  },
  {
   "cell_type": "markdown",
   "metadata": {},
   "source": [
    "Assuming that you have cloned the notebook and assuming that you have the previously described file in the `candidates` directory, the the candidate selection happens in the following cell (you must modify the `refstring` string to make sure you are reading the right file):\n",
    "\n",
    "![](images/snhunter_TNS_list.png)\n",
    "\n"
   ]
  },
  {
   "cell_type": "markdown",
   "metadata": {},
   "source": [
    "In order to select host galaxies you need to execute the following cell:\n",
    "\n",
    "![](images/snhunter_hosts.png)\n",
    "\n",
    "\n",
    "This will allow you to interact with the NED, Simbad and SDSSDR15 catalogs (see video bellow)\n",
    "\n",
    "The candidate selection works as follows:\n",
    "\n",
    "1. For every candidate an Aladin window will be opened, centered around the position of the candidate.\n",
    "2. You will see queries to NED, Simbad and SDSSDR15 being done (or catsHTM and Vizier if these options are set to True)\n",
    "3. When these queries are perfomed you will see a catalog of objects overlaid on top of the Aladin image. The candidate position with its object ID will also be shown.\n",
    "4. You should identify the likely host galaxy and hover around its associated catalog object\n",
    "4. If you hover your mouse over different catalog objects you will see information like the object ID, the source catalog, whether the object is a galaxy, and whether it has a redshift.\n",
    "5. If the object was in the SDSSDR15 catalog it will query SDSSDR15 to obtain a photometric redshift (this takes a few seconds per object). This query will be done just once, it will not be repeated when hovering again or running the cell again.\n",
    "6. Any appearances of the word *Redshift* (NED) or *z_value* (Simbad) will be shown in red and larger fonts to help you identify spectroscopic redshifts.\n",
    "7. Any appearances of the word *photoz* (SDSSDR15) will be shown in orange and larger fonts to help you identify photometric redshifts.\n",
    "8. When you have identified the likely host galaxy and its associated catalog object carefully click **once** over it. It is OK to zoom and pan over some region to be able to see the different catalog objects.\n",
    "10. If the same galaxy appears in different catalogs give preference to objects which have redshift, then photoz, then some ID. If there is no catalog object just click in the SN candidate position."
   ]
  },
  {
   "cell_type": "markdown",
   "metadata": {},
   "source": [
    "#### Example [video](https://www.youtube.com/embed/oGt9dUSIsqE)"
   ]
  },
  {
   "cell_type": "code",
   "execution_count": 5,
   "metadata": {
    "ExecuteTime": {
     "end_time": "2019-11-07T14:31:15.275424Z",
     "start_time": "2019-11-07T14:31:15.271883Z"
    }
   },
   "outputs": [
    {
     "data": {
      "text/html": [
       "<iframe width=\"1100\" height=\"700\" src=\"https://www.youtube.com/embed/oGt9dUSIsqE\" frameborder=\"0\">"
      ],
      "text/plain": [
       "<IPython.core.display.HTML object>"
      ]
     },
     "execution_count": 5,
     "metadata": {},
     "output_type": "execute_result"
    }
   ],
   "source": [
    "HTML('<iframe width=\"1100\" height=\"700\" src=\"https://www.youtube.com/embed/oGt9dUSIsqE\" frameborder=\"0\">')"
   ]
  },
  {
   "cell_type": "markdown",
   "metadata": {},
   "source": [
    "Note that in minute 1:25 the Simbad query did not work. When this happens you need to wait until the query stops with a timeout."
   ]
  },
  {
   "cell_type": "markdown",
   "metadata": {},
   "source": [
    "If you see some errors in your table of host galaxies you can apply manual modifications in the \"Manual modifications\" cell"
   ]
  },
  {
   "cell_type": "code",
   "execution_count": null,
   "metadata": {},
   "outputs": [],
   "source": []
  },
  {
   "cell_type": "markdown",
   "metadata": {},
   "source": [
    "# 4. Report to TNS"
   ]
  },
  {
   "cell_type": "markdown",
   "metadata": {},
   "source": [
    "After you select the host galaxies you need to prepare the report. \n",
    "\n",
    "You will need to prepare the json file and then submit to TNS."
   ]
  },
  {
   "cell_type": "markdown",
   "metadata": {},
   "source": [
    "#### TNS API\n",
    "\n",
    "Here you will need the TNS API key used by ALeRCE. This allows you to query the TNS database directly and, more importantly, to submit candidates!\n",
    "\n",
    "Please write me (francisco.forster@gmail.com) if you want to use the key for the sandbox (test evironment) or official site (what everyone will see). Note that we have had problems with the sandbox environment before.\n",
    "\n",
    "You may want to read the [TNS bulk report manual](https://wis-tns.weizmann.ac.il/sites/default/files/api/TNS_bulk_reports_manual.pdf)"
   ]
  },
  {
   "cell_type": "markdown",
   "metadata": {},
   "source": [
    "You can select the test environment with the `sandbox = True` variable.\n",
    "\n",
    "**If you select `sandbox=False` you will be sending candidates to the official site!**"
   ]
  },
  {
   "cell_type": "markdown",
   "metadata": {},
   "source": [
    "![](images/snhunter_api.png)"
   ]
  },
  {
   "cell_type": "markdown",
   "metadata": {},
   "source": [
    "#### Author list and json file"
   ]
  },
  {
   "cell_type": "markdown",
   "metadata": {},
   "source": [
    "To prepare the json file you need to first make sure the list of authors is correct. Normally we would include the following people:\n",
    "\n",
    "1. Person responsible for sending to TNS, e.g.\n",
    "\n",
    "   F. Förster\n",
    "\n",
    "\n",
    "2. People helping select candidates, e.g.\n",
    "\n",
    "    F.E. Bauer, G. Pignata, \n",
    "\n",
    "\n",
    "3. People involved in developing the tools required to select candidates, e.g.\n",
    "\n",
    "    J. Arredondo, G. Cabrera-Vives, R. Carrasco-Davis, P.A. Est\\'evez, Huijse, P, E. Reyes, I. Reyes, P. S\\'anchez-S\\'aez, C. Valenzuela,\n",
    "    E. Castillo, D. Ruz-Mieres, D.V. Rodríguez\n",
    "    \n",
    "    \n",
    "4. People leading groups in ALeRCE:\n",
    "\n",
    "    M. Catelán, S. Eyheramendy, M.J. Graham"
   ]
  },
  {
   "cell_type": "markdown",
   "metadata": {},
   "source": [
    "#### Report"
   ]
  },
  {
   "cell_type": "markdown",
   "metadata": {},
   "source": [
    "Then you can prepare the report where we will query TNS to check if candidates are known. Here we will also compute the rise times. \n",
    "\n",
    "![](images/snhunter_TNS_report.png)"
   ]
  },
  {
   "cell_type": "markdown",
   "metadata": {},
   "source": [
    "As you loop over all the candidates the following information will be gathered for every candidate:\n",
    "\n",
    "* the ALeRCE groupid, instrument, units, type of report, coordinates, discovery date\n",
    "* the host galaxy properties\n",
    "* the available detections\n",
    "* the available non-detections\n",
    "* the magnitude rise rate in each band (only reported if significantly larger than 0.05 mag/day)\n",
    "* whether the object is known in TNS. If known, it will not be reported (in this case `counter` variable does not increase, see image below)\n",
    "* the candidate stamps are shown\n",
    "\n",
    "This is your last chance to remove candidates, which you can do manually modifying the for loop above.\n"
   ]
  },
  {
   "cell_type": "markdown",
   "metadata": {},
   "source": [
    "![](images/snhunter_tns_candidates.png)"
   ]
  },
  {
   "cell_type": "markdown",
   "metadata": {},
   "source": [
    "You should paste in slack everything rising faster than 0.25 mag/day, these are potentially very young candidates."
   ]
  },
  {
   "cell_type": "markdown",
   "metadata": {},
   "source": [
    "![](images/snhunter_fastrisers.png)"
   ]
  },
  {
   "cell_type": "markdown",
   "metadata": {},
   "source": [
    "#### Sending to TNS\n",
    "\n",
    "After the previous steps you can send the candidates to TNS.\n",
    "\n",
    "You should query for the status of the submission and you should see an OK message.\n",
    "\n",
    "After this check in the TNS website: https://wis-tns.weizmann.ac.il/search"
   ]
  },
  {
   "cell_type": "markdown",
   "metadata": {},
   "source": [
    "![](images/snhunter_tns_send.png)"
   ]
  },
  {
   "cell_type": "markdown",
   "metadata": {},
   "source": [
    "You may need to wait a few seconds before your report appears in the TNS website.\n",
    "\n",
    "If something goes wrong with TNS, e.g. you get an OK message, but no results are shown in the website (in the sandbox this is common, but in the main site this has happened only once), you should contact \n",
    "![](images/snhunter_tns_contact.png)\n"
   ]
  },
  {
   "cell_type": "markdown",
   "metadata": {},
   "source": [
    "#### Example [video](https://www.youtube.com/embed/mNHY98bEN14)"
   ]
  },
  {
   "cell_type": "code",
   "execution_count": 6,
   "metadata": {
    "ExecuteTime": {
     "end_time": "2019-11-07T14:31:31.010513Z",
     "start_time": "2019-11-07T14:31:31.005780Z"
    }
   },
   "outputs": [
    {
     "data": {
      "text/html": [
       "<iframe width=\"1100\" height=\"700\" src=\"https://www.youtube.com/embed/mNHY98bEN14\" frameborder=\"0\">"
      ],
      "text/plain": [
       "<IPython.core.display.HTML object>"
      ]
     },
     "execution_count": 6,
     "metadata": {},
     "output_type": "execute_result"
    }
   ],
   "source": [
    "HTML('<iframe width=\"1100\" height=\"700\" src=\"https://www.youtube.com/embed/mNHY98bEN14\" frameborder=\"0\">')"
   ]
  },
  {
   "cell_type": "code",
   "execution_count": null,
   "metadata": {},
   "outputs": [],
   "source": []
  },
  {
   "cell_type": "markdown",
   "metadata": {},
   "source": [
    "## Congratulations! You have managed to submit ALeRCE candidates to TNS!\n",
    "\n",
    "As a last note, if you find a very nice candidate perhaps you can contact your astronomy friends to get a confirmation image and an early spectrum!"
   ]
  },
  {
   "cell_type": "code",
   "execution_count": null,
   "metadata": {},
   "outputs": [],
   "source": []
  }
 ],
 "metadata": {
  "kernelspec": {
   "display_name": "Python 3",
   "language": "python",
   "name": "python3"
  },
  "language_info": {
   "codemirror_mode": {
    "name": "ipython",
    "version": 3
   },
   "file_extension": ".py",
   "mimetype": "text/x-python",
   "name": "python",
   "nbconvert_exporter": "python",
   "pygments_lexer": "ipython3",
   "version": "3.6.5"
  }
 },
 "nbformat": 4,
 "nbformat_minor": 2
}
