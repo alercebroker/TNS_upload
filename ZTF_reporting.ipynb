{
 "cells": [
  {
   "cell_type": "markdown",
   "metadata": {},
   "source": [
    "# ALeRCE API retrieval examples"
   ]
  },
  {
   "cell_type": "markdown",
   "metadata": {},
   "source": [
    "Load libraries"
   ]
  },
  {
   "cell_type": "code",
   "execution_count": 1,
   "metadata": {
    "ExecuteTime": {
     "end_time": "2020-01-15T12:08:04.298547Z",
     "start_time": "2020-01-15T12:08:04.279701Z"
    }
   },
   "outputs": [
    {
     "data": {
      "text/html": [
       "<style>.container { width:100% !important; }</style>"
      ],
      "text/plain": [
       "<IPython.core.display.HTML object>"
      ]
     },
     "metadata": {},
     "output_type": "display_data"
    }
   ],
   "source": [
    "from IPython.core.display import display, HTML\n",
    "display(HTML(\"<style>.container { width:100% !important; }</style>\"))"
   ]
  },
  {
   "cell_type": "code",
   "execution_count": 2,
   "metadata": {
    "ExecuteTime": {
     "end_time": "2020-01-15T12:08:06.085876Z",
     "start_time": "2020-01-15T12:08:04.608389Z"
    }
   },
   "outputs": [
    {
     "name": "stderr",
     "output_type": "stream",
     "text": [
      "/home/rodrigo/anaconda3/envs/tf1/lib/python3.7/site-packages/statsmodels/tools/_testing.py:19: FutureWarning: pandas.util.testing is deprecated. Use the functions in the public API at pandas.testing instead.\n",
      "  import pandas.util.testing as tm\n"
     ]
    }
   ],
   "source": [
    "import os, sys\n",
    "\n",
    "import requests\n",
    "import matplotlib.pyplot as plt\n",
    "%matplotlib inline\n",
    "\n",
    "import numpy as np\n",
    "\n",
    "import pandas as pd\n",
    "import seaborn as sns\n",
    "#from pandas.io.json import json_normalize\n",
    "\n",
    "#from collections import OrderedDict\n",
    "\n",
    "from astropy.time import Time\n",
    "from datetime import datetime\n",
    "from IPython.display import HTML\n",
    "\n",
    "import astropy.units as u\n",
    "from astropy import coordinates\n",
    "\n",
    "#from astroquery.ned import Ned\n",
    "#from astroquery.simbad import Simbad\n",
    "#from astropy.time import Time\n",
    "\n",
    "#import json\n",
    "\n",
    "from alerce.api import AlerceAPI\n",
    "\n",
    "#!pip install psycopg2-binary\n",
    "import psycopg2\n",
    "\n",
    "from io import StringIO"
   ]
  },
  {
   "cell_type": "code",
   "execution_count": 3,
   "metadata": {
    "ExecuteTime": {
     "end_time": "2020-01-15T12:08:06.089538Z",
     "start_time": "2020-01-15T12:08:06.087259Z"
    }
   },
   "outputs": [],
   "source": [
    "import time\n",
    "from astropy.time import Time"
   ]
  },
  {
   "cell_type": "code",
   "execution_count": 4,
   "metadata": {
    "ExecuteTime": {
     "end_time": "2020-01-15T12:08:06.096311Z",
     "start_time": "2020-01-15T12:08:06.091542Z"
    }
   },
   "outputs": [],
   "source": [
    "now = Time(datetime.utcnow(), scale='utc').datetime\n",
    "now_mjd = Time(datetime.utcnow(), scale='utc').mjd"
   ]
  },
  {
   "cell_type": "markdown",
   "metadata": {},
   "source": [
    "# Get fresh list of SNe sent to TNS by ZTF"
   ]
  },
  {
   "cell_type": "code",
   "execution_count": 5,
   "metadata": {
    "ExecuteTime": {
     "end_time": "2020-01-15T12:08:21.527787Z",
     "start_time": "2020-01-15T12:08:21.524861Z"
    }
   },
   "outputs": [],
   "source": [
    "def dourl(searchweb, searchoptions):\n",
    "    url = searchweb\n",
    "    for key in searchoptions.keys():\n",
    "        url = \"%s&%s=%s\" % (url, key, searchoptions[key])\n",
    "    return url"
   ]
  },
  {
   "cell_type": "code",
   "execution_count": 6,
   "metadata": {
    "ExecuteTime": {
     "end_time": "2020-01-15T12:53:26.127042Z",
     "start_time": "2020-01-15T12:53:26.121411Z"
    }
   },
   "outputs": [],
   "source": [
    "def get_tns_df(searchoptions):\n",
    "    urlpage = dourl(searchweb,searchoptions)\n",
    "    print(urlpage)\n",
    "    s = requests.Session()\n",
    "    response = s.get(urlpage)\n",
    "    response.close()\n",
    "    df = pd.read_csv(StringIO(response.text))\n",
    "    urls = [f\"http://alerce.online/object/{oid}\" for oid in df['Disc. Internal Name']]\n",
    "    df['url'] = urls\n",
    "    return df"
   ]
  },
  {
   "cell_type": "code",
   "execution_count": 7,
   "metadata": {
    "ExecuteTime": {
     "end_time": "2020-01-15T12:53:26.640137Z",
     "start_time": "2020-01-15T12:53:26.633540Z"
    }
   },
   "outputs": [],
   "source": [
    "searchweb = \"https://wis-tns.weizmann.ac.il/search?\"\n",
    "searchoptions = {\n",
    "    \"reporting_groupid[]\": 48, # ALeRCE 48 ZTF\n",
    "    #\"groupid\": 74,\n",
    "    #\"discovery_data_source_id\" : \"48\", # ZTF\n",
    "    \"num_page\" : 500,  # 500 number of rows per page\n",
    "    \"format\" : \"csv\",\n",
    "    \"display[remarks]\":1,\n",
    "}"
   ]
  },
  {
   "cell_type": "code",
   "execution_count": null,
   "metadata": {
    "ExecuteTime": {
     "end_time": "2020-01-15T12:54:42.385815Z",
     "start_time": "2020-01-15T12:53:27.328575Z"
    }
   },
   "outputs": [
    {
     "name": "stdout",
     "output_type": "stream",
     "text": [
      "Loading TNS page 0...\n",
      "https://wis-tns.weizmann.ac.il/search?&reporting_groupid[]=48&num_page=500&format=csv&display[remarks]=1&page=0\n",
      "Loading TNS page 1...\n",
      "https://wis-tns.weizmann.ac.il/search?&reporting_groupid[]=48&num_page=500&format=csv&display[remarks]=1&page=1\n",
      "Loading TNS page 2...\n",
      "https://wis-tns.weizmann.ac.il/search?&reporting_groupid[]=48&num_page=500&format=csv&display[remarks]=1&page=2\n",
      "Loading TNS page 3...\n",
      "https://wis-tns.weizmann.ac.il/search?&reporting_groupid[]=48&num_page=500&format=csv&display[remarks]=1&page=3\n",
      "Loading TNS page 4...\n",
      "https://wis-tns.weizmann.ac.il/search?&reporting_groupid[]=48&num_page=500&format=csv&display[remarks]=1&page=4\n",
      "Loading TNS page 5...\n",
      "https://wis-tns.weizmann.ac.il/search?&reporting_groupid[]=48&num_page=500&format=csv&display[remarks]=1&page=5\n",
      "Loading TNS page 6...\n",
      "https://wis-tns.weizmann.ac.il/search?&reporting_groupid[]=48&num_page=500&format=csv&display[remarks]=1&page=6\n",
      "Loading TNS page 7...\n",
      "https://wis-tns.weizmann.ac.il/search?&reporting_groupid[]=48&num_page=500&format=csv&display[remarks]=1&page=7\n",
      "Loading TNS page 8...\n",
      "https://wis-tns.weizmann.ac.il/search?&reporting_groupid[]=48&num_page=500&format=csv&display[remarks]=1&page=8\n",
      "Loading TNS page 9...\n",
      "https://wis-tns.weizmann.ac.il/search?&reporting_groupid[]=48&num_page=500&format=csv&display[remarks]=1&page=9\n"
     ]
    }
   ],
   "source": [
    "all_alerce = []\n",
    "page = 0\n",
    "while True:\n",
    "    print(\"Loading TNS page %i...\" % page)\n",
    "    searchoptions[\"page\"] = page\n",
    "    temp = get_tns_df(searchoptions)\n",
    "    all_alerce.append(temp)\n",
    "    if temp.shape[0] < 500:\n",
    "        break\n",
    "    page += 1\n",
    "all_alerce = pd.concat(all_alerce)"
   ]
  },
  {
   "cell_type": "code",
   "execution_count": null,
   "metadata": {
    "ExecuteTime": {
     "end_time": "2020-01-15T12:55:29.349305Z",
     "start_time": "2020-01-15T12:55:29.346128Z"
    }
   },
   "outputs": [],
   "source": [
    "all_alerce.shape"
   ]
  },
  {
   "cell_type": "code",
   "execution_count": null,
   "metadata": {
    "ExecuteTime": {
     "end_time": "2020-01-15T12:55:30.775479Z",
     "start_time": "2020-01-15T12:55:30.771829Z"
    }
   },
   "outputs": [],
   "source": [
    "all_alerce.head()"
   ]
  },
  {
   "cell_type": "code",
   "execution_count": null,
   "metadata": {},
   "outputs": [],
   "source": [
    "all_alerce.columns"
   ]
  },
  {
   "cell_type": "code",
   "execution_count": null,
   "metadata": {
    "ExecuteTime": {
     "end_time": "2020-01-15T12:55:31.509428Z",
     "start_time": "2020-01-15T12:55:31.506821Z"
    }
   },
   "outputs": [],
   "source": [
    "sent = list(all_alerce[\"Disc. Internal Name\"].values)"
   ]
  },
  {
   "cell_type": "code",
   "execution_count": null,
   "metadata": {
    "ExecuteTime": {
     "end_time": "2020-01-15T12:55:32.446801Z",
     "start_time": "2020-01-15T12:55:32.434616Z"
    }
   },
   "outputs": [],
   "source": [
    "retracted = pd.read_csv(\"retracted.txt\").oid.to_list()"
   ]
  },
  {
   "cell_type": "markdown",
   "metadata": {},
   "source": [
    "### Remove retracted"
   ]
  },
  {
   "cell_type": "code",
   "execution_count": null,
   "metadata": {
    "ExecuteTime": {
     "end_time": "2020-01-15T12:55:33.819842Z",
     "start_time": "2020-01-15T12:55:33.814222Z"
    }
   },
   "outputs": [],
   "source": [
    "all_alerce = all_alerce[~all_alerce[\"Disc. Internal Name\"].isin(retracted)]"
   ]
  },
  {
   "cell_type": "code",
   "execution_count": null,
   "metadata": {
    "ExecuteTime": {
     "end_time": "2020-01-15T12:55:35.584967Z",
     "start_time": "2020-01-15T12:55:35.571476Z"
    }
   },
   "outputs": [],
   "source": [
    "all_alerce.to_pickle(\"all_ztf.pkl\")\n"
   ]
  },
  {
   "cell_type": "code",
   "execution_count": null,
   "metadata": {},
   "outputs": [],
   "source": [
    "all_alerce = pd.read_pickle(\"all_ztf.pkl\")\n",
    "retracted = pd.read_csv(\"retracted.txt\").oid.to_list()\n",
    "sent = list(all_alerce[\"Disc. Internal Name\"].values)"
   ]
  },
  {
   "cell_type": "code",
   "execution_count": null,
   "metadata": {
    "ExecuteTime": {
     "end_time": "2020-01-15T12:55:36.067728Z",
     "start_time": "2020-01-15T12:55:36.064984Z"
    }
   },
   "outputs": [],
   "source": [
    "classified_mask = ~(all_alerce[\"Classifying Group/s\"].isna())"
   ]
  },
  {
   "cell_type": "code",
   "execution_count": null,
   "metadata": {
    "ExecuteTime": {
     "end_time": "2020-01-15T12:58:14.340791Z",
     "start_time": "2020-01-15T12:58:14.336819Z"
    }
   },
   "outputs": [],
   "source": [
    "np.sum(classified_mask)"
   ]
  },
  {
   "cell_type": "code",
   "execution_count": null,
   "metadata": {
    "ExecuteTime": {
     "end_time": "2020-01-15T13:04:20.930207Z",
     "start_time": "2020-01-15T13:04:20.907373Z"
    }
   },
   "outputs": [],
   "source": [
    "all_alerce.iloc[0][\"Name\"].split(\" \")[-1]"
   ]
  },
  {
   "cell_type": "markdown",
   "metadata": {
    "ExecuteTime": {
     "end_time": "2020-01-15T13:10:59.251598Z",
     "start_time": "2020-01-15T13:10:59.230066Z"
    }
   },
   "source": [
    "# all_alerce[classified_mask][\"Obj. Type\"].value_counts()\n"
   ]
  },
  {
   "cell_type": "code",
   "execution_count": null,
   "metadata": {
    "ExecuteTime": {
     "end_time": "2020-01-15T13:11:35.125298Z",
     "start_time": "2020-01-15T13:11:35.030604Z"
    }
   },
   "outputs": [],
   "source": [
    "df_SN = all_alerce[classified_mask][\"Obj. Type\"].value_counts()\n",
    "print(df_SN)\n",
    "df_SN.plot.pie(y=\"count\", figsize=(5, 5))\n",
    "plt.axis(\"off\")\n",
    "plt.legend()"
   ]
  },
  {
   "cell_type": "code",
   "execution_count": null,
   "metadata": {
    "ExecuteTime": {
     "end_time": "2020-01-15T13:11:52.102937Z",
     "start_time": "2020-01-15T13:11:52.074077Z"
    },
    "scrolled": true
   },
   "outputs": [],
   "source": [
    "all_alerce.loc[classified_mask][(all_alerce[classified_mask][\"Obj. Type\"] == 'SN IIb')]"
   ]
  },
  {
   "cell_type": "code",
   "execution_count": null,
   "metadata": {
    "ExecuteTime": {
     "end_time": "2020-01-15T13:14:16.538939Z",
     "start_time": "2020-01-15T13:14:16.216682Z"
    }
   },
   "outputs": [],
   "source": [
    "fig, ax = plt.subplots(figsize=(10, 8))\n",
    "#sns.set(style=\"darkgrid\")\n",
    "counts = all_alerce[classified_mask][\"Obj. Type\"].value_counts()\n",
    "sns.countplot(ax=ax, y=\"Obj. Type\", data=all_alerce[classified_mask], order=counts.index)#cl[n.argsort()[::-1]])\n",
    "ax.set_title(\"Spectroscopically classified SNe discovered by ZTF (%i), %s/%02i/%02i\" % \n",
    "             (classified_mask.sum(), now.year, now.month, now.day), fontsize=14)\n",
    "#ax.axvline(2.5, c = 'gray')\n",
    "plt.tight_layout()\n",
    "plt.savefig(\"ztf_plots/SN_types.png\")"
   ]
  },
  {
   "cell_type": "code",
   "execution_count": null,
   "metadata": {
    "ExecuteTime": {
     "end_time": "2020-01-15T13:14:40.407546Z",
     "start_time": "2020-01-15T13:14:40.403973Z"
    }
   },
   "outputs": [],
   "source": [
    "classified_oids = all_alerce[classified_mask][\"Disc. Internal Name\"].tolist()"
   ]
  },
  {
   "cell_type": "code",
   "execution_count": null,
   "metadata": {
    "ExecuteTime": {
     "end_time": "2020-01-15T13:14:41.245824Z",
     "start_time": "2020-01-15T13:14:41.242694Z"
    }
   },
   "outputs": [],
   "source": [
    "oids = [oid for oid in sent if oid not in retracted]\n",
    "oids = np.array(oids, dtype = str)"
   ]
  },
  {
   "cell_type": "markdown",
   "metadata": {},
   "source": [
    "# Optional, use all SNe found, not just those in TNS"
   ]
  },
  {
   "cell_type": "code",
   "execution_count": null,
   "metadata": {
    "ExecuteTime": {
     "end_time": "2020-01-15T13:14:44.081485Z",
     "start_time": "2020-01-15T13:14:44.073972Z"
    }
   },
   "outputs": [],
   "source": [
    "mode=\"tns\" #'tns' 'all'\n",
    "if mode == \"all\":\n",
    "    oids = []\n",
    "    for file in os.listdir(\"candidates\"):\n",
    "        if file[-3:] == 'txt':\n",
    "            for oid in open(\"candidates/%s\" % file, 'r').readlines():\n",
    "                oids.append(oid[:-1])\n",
    "    oids = np.array(oids)\n",
    "    oids = np.unique(oids)\n",
    "    oids = [oid for oid in oids if oid not in retracted]\n",
    "    oids = np.array(oids, dtype = str)\n",
    "elif mode==\"tns\":\n",
    "    oids = [oid for oid in sent if oid not in retracted]\n",
    "    oids = np.array(oids, dtype = str)"
   ]
  },
  {
   "cell_type": "markdown",
   "metadata": {},
   "source": [
    "# Run all these cells if you want to update the results"
   ]
  },
  {
   "cell_type": "code",
   "execution_count": null,
   "metadata": {
    "ExecuteTime": {
     "end_time": "2020-01-15T13:14:45.266420Z",
     "start_time": "2020-01-15T13:14:45.264226Z"
    }
   },
   "outputs": [],
   "source": [
    "alerce = AlerceAPI()"
   ]
  },
  {
   "cell_type": "code",
   "execution_count": null,
   "metadata": {
    "ExecuteTime": {
     "end_time": "2020-01-15T13:14:45.869987Z",
     "start_time": "2020-01-15T13:14:45.853993Z"
    }
   },
   "outputs": [],
   "source": [
    "import json\n",
    "credentials_file = \"../usecases/alercereaduser_v2.json\"\n",
    "with open(credentials_file) as jsonfile:\n",
    "    params = json.load(jsonfile)[\"params\"]"
   ]
  },
  {
   "cell_type": "code",
   "execution_count": null,
   "metadata": {
    "ExecuteTime": {
     "end_time": "2020-01-15T13:14:48.637509Z",
     "start_time": "2020-01-15T13:14:46.537745Z"
    }
   },
   "outputs": [],
   "source": [
    "conn = psycopg2.connect(dbname=params['dbname'], user=params['user'], host=params['host'], password=params['password'])"
   ]
  },
  {
   "cell_type": "code",
   "execution_count": null,
   "metadata": {
    "ExecuteTime": {
     "end_time": "2020-01-15T13:14:49.294406Z",
     "start_time": "2020-01-15T13:14:48.642781Z"
    },
    "scrolled": true
   },
   "outputs": [],
   "source": [
    "query = \"select tablename from pg_tables where schemaname='public';\"\n",
    "tables = pd.read_sql_query(query, conn)\n",
    "tables.sort_values(by=\"tablename\")"
   ]
  },
  {
   "cell_type": "code",
   "execution_count": null,
   "metadata": {
    "ExecuteTime": {
     "end_time": "2020-01-15T13:14:54.234137Z",
     "start_time": "2020-01-15T13:14:49.299819Z"
    },
    "scrolled": true
   },
   "outputs": [],
   "source": [
    "alltabs = []\n",
    "for tab in sorted(tables.tablename):\n",
    "    cols = pd.DataFrame()\n",
    "    query = \"select column_name, data_type from information_schema.columns where table_name = '%s';\" % tab\n",
    "    results = pd.read_sql_query(query, conn)\n",
    "    results[\"table\"] = tab\n",
    "    alltabs.append(results)\n",
    "dftab = pd.concat(alltabs)\n",
    "pd.options.display.max_rows = 999\n",
    "display(dftab[[\"table\", \"column_name\", \"data_type\"]])\n",
    "pd.options.display.max_rows = 101"
   ]
  },
  {
   "cell_type": "code",
   "execution_count": null,
   "metadata": {
    "ExecuteTime": {
     "end_time": "2020-01-15T13:14:55.056704Z",
     "start_time": "2020-01-15T13:14:54.235513Z"
    }
   },
   "outputs": [],
   "source": [
    "query='''\n",
    "select objects.oid, objects.firstmjd, objects.nobs, objects.meanra, objects.meandec\n",
    "from objects\n",
    "where objects.oid in (%s)\n",
    "''' % \",\".join([\"'%s'\" % oid for oid in oids])\n",
    "SNe = pd.read_sql_query(query, conn)\n",
    "SNe.set_index('oid', inplace=True)\n",
    "SNe.head()"
   ]
  },
  {
   "cell_type": "code",
   "execution_count": null,
   "metadata": {
    "ExecuteTime": {
     "end_time": "2020-01-15T13:14:58.294401Z",
     "start_time": "2020-01-15T13:14:55.058776Z"
    }
   },
   "outputs": [],
   "source": [
    "query='''\n",
    "select oid, candid, mjd, fid, magpsf, sigmapsf, magpsf_corr, sigmapsf_corr\n",
    "from detections\n",
    "where detections.oid in (%s)\n",
    "''' % \",\".join([\"'%s'\" % oid for oid in oids])\n",
    "all_detections = pd.read_sql_query(query, conn)\n",
    "all_detections.set_index('candid', inplace=True)\n",
    "all_detections.head()"
   ]
  },
  {
   "cell_type": "code",
   "execution_count": null,
   "metadata": {
    "ExecuteTime": {
     "end_time": "2020-01-15T13:15:04.193004Z",
     "start_time": "2020-01-15T13:14:58.296231Z"
    },
    "scrolled": true
   },
   "outputs": [],
   "source": [
    "query='''\n",
    "select oid, fid, diffmaglim, mjd\n",
    "from non_detections\n",
    "where non_detections.oid in (%s)\n",
    "''' % \",\".join([\"'%s'\" % oid for oid in oids])\n",
    "all_non_detections = pd.read_sql_query(query, conn)\n",
    "all_non_detections.set_index('mjd', inplace=True)\n",
    "all_non_detections.head()"
   ]
  },
  {
   "cell_type": "markdown",
   "metadata": {},
   "source": [
    "# Histogram of cadences"
   ]
  },
  {
   "cell_type": "code",
   "execution_count": null,
   "metadata": {
    "ExecuteTime": {
     "end_time": "2020-01-15T13:15:11.959425Z",
     "start_time": "2020-01-15T13:15:04.194643Z"
    }
   },
   "outputs": [],
   "source": [
    "dts = []\n",
    "dts_1st = []\n",
    "dts_fid = []\n",
    "for oid in all_detections.oid.unique():\n",
    "    mask = (all_detections.oid == oid)\n",
    "    times = np.sort(np.array(all_detections.loc[mask].mjd.unique()))\n",
    "    if mask.sum() > 1:\n",
    "        dts.append(times[1:] - times[:-1])\n",
    "        dts_1st.append([times[1] - times[0]])\n",
    "    for fid in [1, 2]:\n",
    "        mask = (all_detections.oid == oid) & (all_detections.fid == fid)\n",
    "        times = np.sort(np.array(all_detections.loc[mask].mjd.unique()))\n",
    "        if mask.sum() > 1:\n",
    "            dts_fid.append(times[1:] - times[:-1])\n",
    "dts = np.concatenate(dts)\n",
    "dts_1st = np.concatenate(dts_1st)\n",
    "dts_fid = np.concatenate(dts_fid)"
   ]
  },
  {
   "cell_type": "code",
   "execution_count": null,
   "metadata": {
    "ExecuteTime": {
     "end_time": "2020-01-15T13:15:13.526513Z",
     "start_time": "2020-01-15T13:15:11.961090Z"
    }
   },
   "outputs": [],
   "source": [
    "fig, ax = plt.subplots(figsize=(6,5))\n",
    "ax.hist(dts_1st, bins=1000, cumulative=True, density=True);\n",
    "ax.set_xlim(0, 20)\n",
    "ax.set_xlabel(\"Confirmation time (any band)\", fontsize=16)\n",
    "ax.set_ylabel(\"CDF\", fontsize=16)\n",
    "ax.set_title(\"SN time between first and second obs.\", fontsize=16)\n",
    "ax.tick_params(axis='both', which='major', labelsize=16)\n",
    "plt.savefig(\"ztf_plots/SNconfirmation_any_%s.png\" % mode)"
   ]
  },
  {
   "cell_type": "code",
   "execution_count": null,
   "metadata": {
    "ExecuteTime": {
     "end_time": "2020-01-15T13:15:15.089465Z",
     "start_time": "2020-01-15T13:15:13.528163Z"
    }
   },
   "outputs": [],
   "source": [
    "fig, ax = plt.subplots(figsize=(6,5))\n",
    "ax.hist(dts, bins=1000, cumulative=True, density=True);\n",
    "ax.set_xlim(0, 20)\n",
    "ax.set_xlabel(\"Cadence distribution (any band)\", fontsize=16)\n",
    "ax.set_ylabel(\"CDF\", fontsize=16)\n",
    "ax.set_title(\"SN light curve cadences\", fontsize=16)\n",
    "ax.tick_params(axis='both', which='major', labelsize=16)\n",
    "plt.savefig(\"ztf_plots/SNcadence_any_%s.png\" % mode)"
   ]
  },
  {
   "cell_type": "code",
   "execution_count": null,
   "metadata": {
    "ExecuteTime": {
     "end_time": "2020-01-15T13:15:16.627022Z",
     "start_time": "2020-01-15T13:15:15.091411Z"
    }
   },
   "outputs": [],
   "source": [
    "fig, ax = plt.subplots(figsize=(6,5))\n",
    "ax.hist(dts_fid, bins=1000, cumulative=True, density=True);\n",
    "ax.set_xlim(0, 20)\n",
    "ax.set_xlabel(\"Cadence distribution (same band)\", fontsize=16)\n",
    "ax.set_ylabel(\"CDF\", fontsize=16)\n",
    "ax.set_title(\"SN light curve cadences\", fontsize=16)\n",
    "ax.tick_params(axis='both', which='major', labelsize=16)\n",
    "plt.savefig(\"ztf_plots/SNcadence_same_%s.png\" % mode)"
   ]
  },
  {
   "cell_type": "markdown",
   "metadata": {},
   "source": [
    "# Extract relevant features"
   ]
  },
  {
   "cell_type": "code",
   "execution_count": null,
   "metadata": {
    "ExecuteTime": {
     "end_time": "2020-01-15T13:16:52.366355Z",
     "start_time": "2020-01-15T13:15:16.628497Z"
    },
    "scrolled": true
   },
   "outputs": [],
   "source": [
    "nobs = []\n",
    "dts = []\n",
    "dt2s = []\n",
    "dmags = []\n",
    "dts_fid = []\n",
    "dmags_fid = []\n",
    "dmdt_fid = []\n",
    "first_mjds = []\n",
    "first_det_mags = []\n",
    "max_mags = []\n",
    "max_mjds = []\n",
    "dt_first_max = []\n",
    "dmag_first_max = []\n",
    "ras = []; decs = []\n",
    "reporting_date = []\n",
    "reporting_time = []\n",
    "\n",
    "ids_to_drop = []\n",
    "\n",
    "for SN in oids:#[\"ZTF19abpsana\"]:\n",
    "    if SN in SNe.index:\n",
    "        stats = SNe.loc[SN]\n",
    "    else:\n",
    "        print(\"#### skipping SN ####\")\n",
    "        ids_to_drop.append(SN)\n",
    "        continue\n",
    "    stats.dropna(inplace=True)\n",
    "    detections = all_detections[all_detections.oid == SN]\n",
    "    non_detections = all_non_detections[all_non_detections.oid == SN]\n",
    "    try:\n",
    "        nobs.append(int(stats.nobs))\n",
    "    except:\n",
    "        print(\"#### no stats ####\")\n",
    "        print(stats)\n",
    "        ids_to_drop.append(SN)\n",
    "        continue\n",
    "    \n",
    "    first_det_idx = detections.mjd.idxmin()\n",
    "    first_det_mjd = float(detections.loc[first_det_idx].mjd)\n",
    "    first_det_fid = int(detections.loc[first_det_idx].fid)\n",
    "    first_det_mag = float(detections.loc[first_det_idx].magpsf)\n",
    "    first_det_mags.append(first_det_mag)\n",
    "    ras.append(stats.meanra)\n",
    "    decs.append(stats.meandec)\n",
    "    first_mjds.append(first_det_mjd)\n",
    "    max_mjds.append(detections.loc[detections.magpsf.idxmin()].mjd)\n",
    "    max_mags.append(detections.loc[detections.magpsf.idxmin()].magpsf)\n",
    "    dt_first_max.append(max_mjds[-1] - first_mjds[-1])\n",
    "    dmag_first_max.append(first_det_mags[-1] - max_mags[-1])\n",
    "    \n",
    "    mask = non_detections.index < first_det_mjd\n",
    "    if np.sum(mask) > 0:\n",
    "        last_non_det_mjd = np.array(non_detections.index[mask]).max()\n",
    "        last_non_det_mag = non_detections.loc[last_non_det_mjd].diffmaglim\n",
    "        if last_non_det_mag.shape != ():\n",
    "            last_non_det_mag = last_non_det_mag.unique()[0]\n",
    "        dts.append(first_det_mjd - last_non_det_mjd)\n",
    "        dmags.append(last_non_det_mag - first_det_mag)\n",
    "    else:\n",
    "        dts.append(None)\n",
    "        dmags.append(None)\n",
    "\n",
    "    mask = (non_detections.index < first_det_mjd) & (non_detections.fid == first_det_fid)\n",
    "    if np.sum(mask) > 0:\n",
    "        last_non_det_fid_mjd = non_detections.index[mask].max()\n",
    "        last_non_det_fid_mag = non_detections.loc[last_non_det_fid_mjd].diffmaglim\n",
    "        if last_non_det_fid_mag.shape != ():\n",
    "            last_non_det_fid_mag = last_non_det_fid_mag.unique()[0]\n",
    "        dts_fid.append(first_det_mjd - last_non_det_fid_mjd)\n",
    "        dmags_fid.append(last_non_det_fid_mag - first_det_mag)\n",
    "        dmdt_fid.append(dmags_fid[-1] / dts_fid[-1])\n",
    "    else:\n",
    "        dts_fid.append(None)\n",
    "        dmags_fid.append(None)\n",
    "        dmdt_fid.append(None)\n",
    "    \n",
    "    if nobs[-1] > 1:\n",
    "        second_det_mjd = detections.mjd[detections.mjd > first_det_mjd].min()\n",
    "        dt2s.append(second_det_mjd - last_non_det_mjd)\n",
    "    else: \n",
    "        dt2s.append(None)\n",
    "        \n",
    "    print(SN, nobs[-1], dts[-1], dt2s[-1], dmags[-1], dmags_fid[-1], dt_first_max[-1])\n",
    "    "
   ]
  },
  {
   "cell_type": "code",
   "execution_count": null,
   "metadata": {
    "ExecuteTime": {
     "end_time": "2020-01-15T13:16:52.377971Z",
     "start_time": "2020-01-15T13:16:52.371013Z"
    }
   },
   "outputs": [],
   "source": [
    "new_oids = []\n",
    "for oi in oids:\n",
    "    if oi in ids_to_drop:\n",
    "        continue\n",
    "    else:\n",
    "        new_oids.append(oi)\n",
    "\n",
    "oids = new_oids\n",
    "len(oids), len(nobs), len(dts), len(dt2s), len(dmags), len(dts_fid), len(dmags_fid), len(first_mjds), len(dt_first_max), len(ids_to_drop)"
   ]
  },
  {
   "cell_type": "code",
   "execution_count": null,
   "metadata": {
    "ExecuteTime": {
     "end_time": "2020-01-15T13:16:52.407105Z",
     "start_time": "2020-01-15T13:16:52.380384Z"
    }
   },
   "outputs": [],
   "source": [
    "df = {'oid': oids, 'nobs': nobs, 'dt': dts, 'dt2': dt2s, 'dmag': dmags, 'dt_fid': dts_fid, \n",
    "      'dmag_fid': dmags_fid, 'first_mjd': first_mjds, 'first_det_mag': first_det_mags, \n",
    "      'ra': ras, 'dec': decs, 'dt_first_max': dt_first_max, 'dmag_first_max': dmag_first_max,\n",
    "      'mag_at_max': max_mags, 'dmdt_fid': dmdt_fid}\n",
    "df = pd.DataFrame(df)\n",
    "df.head()"
   ]
  },
  {
   "cell_type": "code",
   "execution_count": null,
   "metadata": {
    "ExecuteTime": {
     "end_time": "2020-01-15T13:16:52.421752Z",
     "start_time": "2020-01-15T13:16:52.411593Z"
    }
   },
   "outputs": [],
   "source": [
    "df.to_pickle(\"ztf_summary_%s.pkl\" % mode)"
   ]
  },
  {
   "cell_type": "markdown",
   "metadata": {},
   "source": [
    "# Start from here if you want to use available results"
   ]
  },
  {
   "cell_type": "code",
   "execution_count": null,
   "metadata": {
    "ExecuteTime": {
     "end_time": "2020-01-15T13:16:52.484260Z",
     "start_time": "2020-01-15T13:16:52.454461Z"
    },
    "scrolled": true
   },
   "outputs": [],
   "source": [
    "mode = 'tns' #'tns'\n",
    "df = pd.read_pickle(\"ztf_summary_%s.pkl\" % mode)\n",
    "df.set_index(\"oid\", inplace=True)\n",
    "df.head()"
   ]
  },
  {
   "cell_type": "markdown",
   "metadata": {},
   "source": [
    "### Histogram of UT times of first detection"
   ]
  },
  {
   "cell_type": "code",
   "execution_count": null,
   "metadata": {
    "ExecuteTime": {
     "end_time": "2020-01-15T13:16:53.166288Z",
     "start_time": "2020-01-15T13:16:52.486366Z"
    }
   },
   "outputs": [],
   "source": [
    "df[\"first_UT\"] = df.apply(lambda row: float(Time(row[\"first_mjd\"], format='mjd').datetime.hour) + float(Time(row[\"first_mjd\"], format='mjd').datetime.minute) / 60., axis=1)"
   ]
  },
  {
   "cell_type": "code",
   "execution_count": null,
   "metadata": {},
   "outputs": [],
   "source": [
    "df"
   ]
  },
  {
   "cell_type": "code",
   "execution_count": null,
   "metadata": {},
   "outputs": [],
   "source": [
    "fig, ax = plt.subplots()\n",
    "ax.hist(df.first_UT[df.first_UT < df.dt2], bins=20, alpha=0.3)\n",
    "ax.hist(df.first_UT[df.first_UT >= df.dt2], bins=20, alpha=0.3)"
   ]
  },
  {
   "cell_type": "code",
   "execution_count": null,
   "metadata": {
    "ExecuteTime": {
     "end_time": "2020-01-15T13:16:53.320378Z",
     "start_time": "2020-01-15T13:16:53.167999Z"
    }
   },
   "outputs": [],
   "source": [
    "fig, ax = plt.subplots()\n",
    "ax.hist(df.first_UT, bins=20)\n",
    "ax.set_xlabel(\"Discovery UT [hr]\", fontsize=16)\n",
    "ax.set_ylabel(\"N\", fontsize=16)\n",
    "if mode==\"tns\":\n",
    "    ax.set_title(\"SNe reported by ALeRCE to TNS, %i/%02i/%02i\" % \n",
    "                 (now.year, now.month, now.day), fontsize = 16)\n",
    "elif mode==\"all\":\n",
    "    ax.set_title(\"SNe identified by ALeRCE, %i/%02i/%02i\" % \n",
    "                 (now.year, now.month, now.day), fontsize = 16)\n",
    "plt.savefig(\"ztf_plots/discovery_UT.png\")\n",
    "\n",
    "print(np.mean(df.first_UT), np.std(df.first_UT))"
   ]
  },
  {
   "cell_type": "markdown",
   "metadata": {},
   "source": [
    "### Histogram of RA DEC coordinates"
   ]
  },
  {
   "cell_type": "code",
   "execution_count": null,
   "metadata": {
    "ExecuteTime": {
     "end_time": "2020-01-15T13:16:53.344465Z",
     "start_time": "2020-01-15T13:16:53.322092Z"
    }
   },
   "outputs": [],
   "source": [
    "import ephem"
   ]
  },
  {
   "cell_type": "code",
   "execution_count": null,
   "metadata": {
    "ExecuteTime": {
     "end_time": "2020-01-15T13:16:53.434437Z",
     "start_time": "2020-01-15T13:16:53.346156Z"
    }
   },
   "outputs": [],
   "source": [
    "df[\"ecl_lat\"] = df.apply(lambda row: np.rad2deg(ephem.Ecliptic(ephem.Equatorial('%s' % (row.ra / 15.), '%s' % row.dec, epoch=ephem.J2000)).lat), axis=1)"
   ]
  },
  {
   "cell_type": "code",
   "execution_count": null,
   "metadata": {
    "ExecuteTime": {
     "end_time": "2020-01-15T13:16:53.700166Z",
     "start_time": "2020-01-15T13:16:53.436213Z"
    }
   },
   "outputs": [],
   "source": [
    "fig, ax = plt.subplots()\n",
    "mask = df.nobs == 1\n",
    "ax.hist(df.ecl_lat[mask], bins=30, label=\"1 det.\", alpha=0.5, density=True)\n",
    "ax.hist(df.ecl_lat[~mask], bins=30, label=\">1 det.\", alpha=0.5, density=True)\n",
    "ax.legend()\n",
    "ax.set_xlabel(\"Ecliptic latitude [deg]\", fontsize=16)\n",
    "ax.set_ylabel(\"N\", fontsize=16)\n",
    "if mode==\"tns\":\n",
    "    ax.set_title(\"SNe reported by ALeRCE to TNS, %i/%02i/%02i\" % \n",
    "                 (now.year, now.month, now.day), fontsize = 16)\n",
    "elif mode==\"all\":\n",
    "    ax.set_title(\"SNe identified by ALeRCE, %i/%02i/%02i\" % \n",
    "                 (now.year, now.month, now.day), fontsize = 16)\n",
    "plt.savefig(\"ztf_plots/discovery_ecl_lat.png\")\n"
   ]
  },
  {
   "cell_type": "markdown",
   "metadata": {},
   "source": [
    "### Cumulative distribution of MJD times"
   ]
  },
  {
   "cell_type": "code",
   "execution_count": null,
   "metadata": {
    "ExecuteTime": {
     "end_time": "2020-01-15T13:16:55.111028Z",
     "start_time": "2020-01-15T13:16:53.701798Z"
    }
   },
   "outputs": [],
   "source": [
    "fig, ax = plt.subplots(figsize = (8, 6))\n",
    "x, y, _ = ax.hist(df.first_mjd, bins = np.linspace(df.first_mjd.min(), df.first_mjd.max(), df.first_mjd.max() - df.first_mjd.min() + 1), cumulative = True, label=\"1 detection\")\n",
    "ax.set_xlabel(\"Detection time [MJD]\", fontsize = 16)\n",
    "ax.grid(which='both')\n",
    "ax.set_ylabel(\"Cumulative number of reported SNe\", fontsize = 16)\n",
    "if mode==\"tns\":\n",
    "    ax.set_title(\"SNe reported by ALeRCE to TNS (average %.1f SN/day), %i/%02i/%02i\" % \n",
    "                 (len(oids) / (df.first_mjd.max() - df.first_mjd.min()), now.year, now.month, now.day), fontsize = 16)\n",
    "elif mode==\"all\":\n",
    "    ax.set_title(\"SNe identified by ALeRCE (average %.1f SN/day), %i/%02i/%02i\" % \n",
    "                 (df.shape[0] / (df.first_mjd.max() - df.first_mjd.min()), now.year, now.month, now.day), fontsize = 16)\n",
    "ax.set_title(\"\")\n",
    "print(\"SNe identified by ALeRCE (average %.1f SN/day), %i/%02i/%02i\" % \n",
    "                 (df.shape[0] / (df.first_mjd.max() - df.first_mjd.min()), now.year, now.month, now.day))\n",
    "efficiency = 0.95\n",
    "plt.savefig(\"plots/firstmjd.png\")\n",
    "ax.hist(df[df.nobs > 1].first_mjd, bins = np.linspace(df.first_mjd.min(), df.first_mjd.max(), df.first_mjd.max() - df.first_mjd.min() + 1), cumulative = True, label=\">1 detection\")\n",
    "ax.plot((y[:-1] + y[1:]) / 2, x * efficiency, c = 'k', label=\"%i%% of 1 detection cumulative\" % (efficiency * 100.), lw=4)\n",
    "ax.legend(fontsize=16)\n",
    "plt.tick_params(labelsize=14)\n",
    "plt.xlim([df.first_mjd.min(), df.first_mjd.max()])\n",
    "plt.savefig(\"ztf_plots/firstmjd_efficiency_%s.png\" % mode, bbox_inches=\"tight\")\n",
    "plt.savefig(\"ztf_plots/firstmjd_efficiency_%s.pdf\" % mode, bbox_inches=\"tight\")\n",
    "\n",
    "print(len(df.first_mjd))\n",
    "print(df.first_mjd.min(), df.first_mjd.max())"
   ]
  },
  {
   "cell_type": "markdown",
   "metadata": {},
   "source": [
    "# Do mosaic of stamps"
   ]
  },
  {
   "cell_type": "code",
   "execution_count": 51,
   "metadata": {
    "ExecuteTime": {
     "end_time": "2020-01-15T13:16:55.119065Z",
     "start_time": "2020-01-15T13:16:55.113142Z"
    }
   },
   "outputs": [],
   "source": [
    "def plot_stamp(self, oid, candid=None):\n",
    "    'plot stamp in a notebook given oid. It uses IPython HTML.'\n",
    "\n",
    "    # if candid is None, get minimum candid                                                                                                                                                                    \n",
    "    if candid is None:\n",
    "        candid = min(self.get_detections(oid).index)\n",
    "\n",
    "    science = \"http://avro.alerce.online/get_stamp?oid=%s&candid=%s&type=science&format=png\" % (oid, candid)\n",
    "    images=\"\"\"                                                                                                                                                                                                 \n",
    "    <div>ZTF oid: %s, candid: %s</div>                                                                                                                                                                         \n",
    "    <div>&emsp;&emsp;&emsp;&emsp;&emsp;                                                                                                                                                                        \n",
    "    Science                                                                                                                                                                                                    \n",
    "    &emsp;&emsp;&emsp;&emsp;&emsp;&emsp;&emsp;&emsp;&emsp;&emsp;&emsp;&emsp;                                                                                                                                   \n",
    "    Template                                                                                                                                                                                                   \n",
    "    &emsp;&emsp;&emsp;&emsp;&emsp;&emsp;&emsp;&emsp;&emsp;&emsp;&emsp;&emsp;                                                                                                                                   \n",
    "    Difference                                                                                                                                                                                                 \n",
    "    <div class=\"container\">                                                                                                                                                                                    \n",
    "    <div style=\"float:left;width:20%%\"><img src=\"%s\"></div>                                                                                                                                                    \n",
    "    <div style=\"float:left;width:20%%\"><img src=\"%s\"></div>                                                                                                                                                    \n",
    "    <div style=\"float:left;width:20%%\"><img src=\"%s\"></div>                                                                                                                                                    \n",
    "    </div>                                                                                                                                                                                                     \n",
    "    \"\"\" % (oid, candid, science, science.replace(\"science\", \"template\"), science.replace(\"science\", \"difference\"))\n",
    "    display(HTML(images))\n"
   ]
  },
  {
   "cell_type": "markdown",
   "metadata": {},
   "source": [
    "# Distribution of number of detections"
   ]
  },
  {
   "cell_type": "code",
   "execution_count": 52,
   "metadata": {
    "ExecuteTime": {
     "end_time": "2020-01-15T13:16:55.508630Z",
     "start_time": "2020-01-15T13:16:55.121711Z"
    }
   },
   "outputs": [
    {
     "data": {
      "image/png": "[encoded data removed]",
      "text/plain": [
       "<Figure size 792x576 with 1 Axes>"
      ]
     },
     "metadata": {
      "needs_background": "light"
     },
     "output_type": "display_data"
    }
   ],
   "source": [
    "fig, ax = plt.subplots(figsize = (11, 8))\n",
    "ax.hist(df.nobs, bins = np.linspace(0, df.nobs.max(), df.nobs.max() + 1), cumulative = True)\n",
    "ax.set_xlabel(\"Number of detections\", fontsize = 16)\n",
    "ax.grid(which='both')\n",
    "ax.set_ylabel(\"CDF\", fontsize = 16)\n",
    "ax.set_title(\"SNe reported by ALeRCE to TNS\", fontsize = 16)\n",
    "plt.savefig(\"ztf_plots/nobs.png\")"
   ]
  },
  {
   "cell_type": "code",
   "execution_count": 53,
   "metadata": {
    "ExecuteTime": {
     "end_time": "2020-01-15T13:16:56.022069Z",
     "start_time": "2020-01-15T13:16:55.510163Z"
    }
   },
   "outputs": [
    {
     "data": {
      "image/png": "[encoded data removed]",
      "text/plain": [
       "<Figure size 1008x720 with 2 Axes>"
      ]
     },
     "metadata": {
      "needs_background": "light"
     },
     "output_type": "display_data"
    }
   ],
   "source": [
    "fig, ax = plt.subplots(figsize = (14, 10))\n",
    "sc = ax.scatter(df.first_mjd, df.dt_first_max, s = 10 * df.nobs, c = df.dmag_first_max)\n",
    "cbar = fig.colorbar(sc)\n",
    "cbar.set_label(\"mag det - mag peak\", fontsize=16)\n",
    "ax.set_xlabel(\"First detection MJD\", fontsize = 16)\n",
    "ax.grid(which='both')\n",
    "ax.set_ylabel(\"Time between maximum and first detection\", fontsize = 16)\n",
    "ax.set_title(\"SNe reported by ALeRCE to TNS\", fontsize = 16)\n",
    "plt.savefig(\"ztf_plots/dt_first_max_firstMJD.png\")"
   ]
  },
  {
   "cell_type": "code",
   "execution_count": 54,
   "metadata": {
    "ExecuteTime": {
     "end_time": "2020-01-15T13:16:56.524749Z",
     "start_time": "2020-01-15T13:16:56.024415Z"
    }
   },
   "outputs": [
    {
     "data": {
      "image/png": "[encoded data removed]",
      "text/plain": [
       "<Figure size 792x576 with 1 Axes>"
      ]
     },
     "metadata": {
      "needs_background": "light"
     },
     "output_type": "display_data"
    }
   ],
   "source": [
    "fig, ax = plt.subplots(figsize = (11, 8))\n",
    "ax.hist(df.dt_first_max[df.first_mjd < df.first_mjd.max() - 20], bins = np.linspace(0, df.nobs.max(), df.nobs.max() + 1), cumulative = True)\n",
    "ax.set_xlabel(\"Time between first detection and light curve maximum\", fontsize = 16)\n",
    "ax.grid(which='both')\n",
    "ax.set_ylabel(\"CDF\", fontsize = 16)\n",
    "ax.set_title(\"SNe reported by ALeRCE to TNS between %i and %i\" % (df.first_mjd.min(), df.first_mjd.max() - 20), fontsize = 16)\n",
    "plt.savefig(\"ztf_plots/dt_first_mag.png\")"
   ]
  },
  {
   "cell_type": "code",
   "execution_count": 55,
   "metadata": {
    "ExecuteTime": {
     "end_time": "2020-01-15T13:16:57.226279Z",
     "start_time": "2020-01-15T13:16:56.526147Z"
    }
   },
   "outputs": [
    {
     "data": {
      "image/png": "[encoded data removed]",
      "text/plain": [
       "<Figure size 792x576 with 1 Axes>"
      ]
     },
     "metadata": {
      "needs_background": "light"
     },
     "output_type": "display_data"
    }
   ],
   "source": [
    "fig, ax = plt.subplots(figsize = (11, 8))\n",
    "ax.hist(df.first_det_mag, bins = np.linspace(df.first_det_mag.min(), df.first_det_mag.max(), df.nobs.max() + 1), cumulative = True, label=\"1 detection\")\n",
    "ax.hist(df[df.nobs > 1].first_det_mag, bins = np.linspace(df.first_det_mag.min(), df.first_det_mag.max(), df.nobs.max() + 1), cumulative = True, label=\">1 detection\")\n",
    "ax.legend(fontsize=16)\n",
    "ax.set_xlabel(\"First detection magnitude\", fontsize = 16)\n",
    "ax.grid(which='both')\n",
    "ax.set_ylabel(\"CDF\", fontsize = 16)\n",
    "ax.set_title(\"SNe reported by ALeRCE to TNS\", fontsize = 16)\n",
    "plt.savefig(\"ztf_plots/mags.png\")"
   ]
  },
  {
   "cell_type": "code",
   "execution_count": 56,
   "metadata": {
    "ExecuteTime": {
     "end_time": "2020-01-15T13:16:57.612738Z",
     "start_time": "2020-01-15T13:16:57.227790Z"
    }
   },
   "outputs": [
    {
     "name": "stdout",
     "output_type": "stream",
     "text": [
      "8764 SNe reported (excluding 21 retracted)\n",
      "Average number of detections: 22\n",
      "Median number of detections: 10\n",
      "Fraction of candidates with >1 detections: 0.958695\n",
      "SNe with time between 1st detection and last non-detection < 1 day: 1611\n",
      "SNe with time between 2nd detection and last non-detection < 1 day: 604\n",
      "Average time between 1st detection and last non-detection: 4.90 [days]\n",
      "Average time between 2nd detection and last non-detection: 20.68 [days]\n",
      "STD time between 2nd detection and last non-detection: 5.06 [days]\n",
      "STD time between 2nd detection and last non-detection: 64.96 [days]\n"
     ]
    },
    {
     "data": {
      "image/png": "[encoded data removed]",
      "text/plain": [
       "<Figure size 576x432 with 1 Axes>"
      ]
     },
     "metadata": {
      "needs_background": "light"
     },
     "output_type": "display_data"
    }
   ],
   "source": [
    "fig, ax = plt.subplots(figsize = (8, 6))\n",
    "ax.hist(df.dt[df.nobs > 1], alpha = 0.5, bins = np.linspace(0, 16, 17), label = \"1st detection\" )\n",
    "ax.hist(df.dt2[df.nobs > 1], alpha = 0.5, bins = np.linspace(0, 16, 17), label = \"2nd detection\")\n",
    "ax.set_xlabel(\"Time between detection and last non-detection [days]\", fontsize = 16)\n",
    "print(\"%i SNe reported (excluding %i retracted)\" % (df.nobs.shape[0], len(retracted)))\n",
    "print(\"Average number of detections: %i\" % np.average(df.nobs[df.nobs > 1]))\n",
    "print(\"Median number of detections: %i\" % np.median(df.nobs[df.nobs > 1]))\n",
    "print(\"Fraction of candidates with >1 detections: %f\" % (np.sum(df.nobs > 1) / df.nobs.shape[0]))\n",
    "print(\"SNe with time between 1st detection and last non-detection < 1 day: %i\" % np.sum(df.dt[df.nobs > 1] < 1))\n",
    "print(\"SNe with time between 2nd detection and last non-detection < 1 day: %i\" % np.sum(df.dt2[df.nobs > 1] < 1))\n",
    "print(\"Average time between 1st detection and last non-detection: %4.2f [days]\" % np.mean(df.dt[df.nobs > 1]))\n",
    "print(\"Average time between 2nd detection and last non-detection: %4.2f [days]\" % np.mean(df.dt2[df.nobs > 1]))\n",
    "print(\"STD time between 2nd detection and last non-detection: %4.2f [days]\" % np.std(df.dt[df.nobs > 1]))\n",
    "print(\"STD time between 2nd detection and last non-detection: %4.2f [days]\" % np.std(df.dt2[df.nobs > 1]))\n",
    "ax.set_ylabel(\"N\", fontsize = 16)\n",
    "ax.legend(fontsize = 16)\n",
    "if mode==\"tns\":\n",
    "    ax.set_title(\"SNe reported by ALeRCE with at least two detections (%i), %i/%02i/%02i\" % (np.sum(df.nobs > 1), now.year, now.month, now.day), fontsize = 16)\n",
    "elif mode==\"all\":\n",
    "    ax.set_title(\"SNe identified by ALeRCE with at least two detections (%i), %i/%02i/%02i\" % (np.sum(df.nobs > 1), now.year, now.month, now.day), fontsize = 16)\n",
    "plt.savefig(\"ztf_plots/TimeSinceDetection_%s.png\" % mode)\n",
    "plt.savefig(\"ztf_plots/TimeSinceDetection_%s.pdf\" % mode)"
   ]
  },
  {
   "cell_type": "code",
   "execution_count": 57,
   "metadata": {},
   "outputs": [
    {
     "name": "stdout",
     "output_type": "stream",
     "text": [
      "[0.885463  4.9995718 0.0420139 ...       nan 2.9934723       nan]\n",
      "8764 SNe reported (excluding 21 retracted)\n",
      "Average number of detections: 22\n",
      "Median number of detections: 10\n",
      "Fraction of candidates with >1 detections: 0.958695\n",
      "SNe with time between 1st detection and last non-detection < 1 day: 1611\n",
      "SNe with time between 2nd detection and last non-detection < 1 day: 604\n",
      "Average time between 1st detection and last non-detection: 4.90 [days]\n",
      "Average time between 2nd detection and last non-detection: 20.68 [days]\n",
      "STD time between 2nd detection and last non-detection: 5.06 [days]\n",
      "STD time between 2nd detection and last non-detection: 64.96 [days]\n",
      "Title SNe reported by ALeRCE with at least two detections (8402), 2020/05/26\n"
     ]
    },
    {
     "data": {
      "image/png": "[encoded data removed]",
      "text/plain": [
       "<Figure size 576x432 with 1 Axes>"
      ]
     },
     "metadata": {
      "needs_background": "light"
     },
     "output_type": "display_data"
    }
   ],
   "source": [
    "fig, ax = plt.subplots(figsize = (8, 6))\n",
    "bins = np.linspace(0, 16, 17)\n",
    "print(df.dt[df.nobs > 1].values)\n",
    "h1, _ = np.histogram(df.dt[df.nobs > 1].values, bins=bins)\n",
    "h2, _ = np.histogram(df.dt2[df.nobs > 1].values, bins=bins)\n",
    "width = 0.3\n",
    "h1_x = bins - 0.15\n",
    "h2_x = bins + 0.15\n",
    "ax.bar(h1_x[0:-1], h1, width=width, label=\"1st detection\")\n",
    "ax.bar(h2_x[0:-1], h2, width=width, label=\"2nd detection\")\n",
    "plt.tick_params(labelsize=14)\n",
    "ax.set_xticks(bins[:-1])\n",
    "\n",
    "ax.set_xlabel(\"Time between detection and last non-detection [days]\", fontsize = 16)\n",
    "print(\"%i SNe reported (excluding %i retracted)\" % (df.nobs.shape[0], len(retracted)))\n",
    "print(\"Average number of detections: %i\" % np.average(df.nobs[df.nobs > 1]))\n",
    "print(\"Median number of detections: %i\" % np.median(df.nobs[df.nobs > 1]))\n",
    "print(\"Fraction of candidates with >1 detections: %f\" % (np.sum(df.nobs > 1) / df.nobs.shape[0]))\n",
    "print(\"SNe with time between 1st detection and last non-detection < 1 day: %i\" % np.sum(df.dt[df.nobs > 1] < 1))\n",
    "print(\"SNe with time between 2nd detection and last non-detection < 1 day: %i\" % np.sum(df.dt2[df.nobs > 1] < 1))\n",
    "print(\"Average time between 1st detection and last non-detection: %4.2f [days]\" % np.mean(df.dt[df.nobs > 1]))\n",
    "print(\"Average time between 2nd detection and last non-detection: %4.2f [days]\" % np.mean(df.dt2[df.nobs > 1]))\n",
    "print(\"STD time between 2nd detection and last non-detection: %4.2f [days]\" % np.std(df.dt[df.nobs > 1]))\n",
    "print(\"STD time between 2nd detection and last non-detection: %4.2f [days]\" % np.std(df.dt2[df.nobs > 1]))\n",
    "ax.set_ylabel(\"Number of candidates\", fontsize = 16)\n",
    "ax.legend(fontsize = 16)\n",
    "#if mode==\"tns\":\n",
    "#    ax.set_title(\"SNe reported by ALeRCE with at least two detections (%i), %i/%02i/%02i\" % (np.sum(df.nobs > 1), now.year, now.month, now.day), fontsize = 16)\n",
    "#elif mode==\"all\":\n",
    "#    ax.set_title(\"SNe identified by ALeRCE with at least two detections (%i), %i/%02i/%02i\" % (np.sum(df.nobs > 1), now.year, now.month, now.day), fontsize = 16)\n",
    "print(\"Title\", \"SNe reported by ALeRCE with at least two detections (%i), %i/%02i/%02i\" % (np.sum(df.nobs > 1), now.year, now.month, now.day))\n",
    "plt.savefig(\"ztf_plots/TimeSinceDetection_%s.png\" % mode, bbox_inches=\"tight\")\n",
    "plt.savefig(\"ztf_plots/TimeSinceDetection_%s.pdf\" % mode, bbox_inches=\"tight\")"
   ]
  },
  {
   "cell_type": "markdown",
   "metadata": {},
   "source": [
    "# Show number of SNe with a lower non-detection in the same filter within the last 25 hr"
   ]
  },
  {
   "cell_type": "code",
   "execution_count": null,
   "metadata": {
    "ExecuteTime": {
     "end_time": "2020-01-15T13:22:59.407519Z",
     "start_time": "2020-01-15T13:22:58.923710Z"
    },
    "scrolled": false
   },
   "outputs": [],
   "source": [
    "fig, ax = plt.subplots(figsize = (11, 8))\n",
    "lasthr = 25.\n",
    "mask = (df.dmag_fid.notna())  & (df.dmag_fid > 0.5) & (df.dt_fid <= lasthr / 24.) & (df.nobs > 1)\n",
    "ax.hist(df.dmag_fid[mask], alpha = 1, bins=10)# cumulative=True)#,\n",
    "        #label = \"%s SNe @ %i/%02i/%02i\" % (mask.sum(), now.year, now.month, now.day))#, cumulative=True)\n",
    "#ax.set_xlabel(\"Time between detection and last non-detection [days]\", fontsize = 16)\n",
    "#print(\"%i SNe reported (excluding %i retracted)\" % (df.nobs.shape[0], len(retracted)))\n",
    "#print(\"Average number of detections: %i\" % np.average(df.nobs[df.nobs > 1]))\n",
    "#print(\"Median number of detections: %i\" % np.median(df.nobs[df.nobs > 1]))\n",
    "#print(\"Fraction of candidates with >1 detections: %f\" % (np.sum(df.nobs > 1) / df.nobs.shape[0]))\n",
    "#print(\"SNe with time between 1st detection and last non-detection < 1 day: %i\" % np.sum(df.dt[df.nobs > 1] < 1))\n",
    "#print(\"SNe with time between 2nd detection and last non-detection < 1 day: %i\" % np.sum(df.dt2[df.nobs > 1] < 1))\n",
    "#print(\"Median time between 1st detection and last non-detection: %4.2f [days]\" % np.median(df.dt[df.nobs > 1]))\n",
    "#print(\"Median time between 2nd detection and last non-detection: %4.2f [days]\" % np.median(df.dt2[df.nobs > 1]))\n",
    "ax.set_xlabel(\"Last non-detection - detection magnitudes\", fontsize = 16)\n",
    "ax.set_ylabel(\"N\", fontsize = 16)\n",
    "ax.set_title(\"SNe with non-detection within last %i hr of 1st detection in the same filter\" % (lasthr), fontsize = 16)\n",
    "#ax.legend(fontsize=16, loc = 1)\n",
    "plt.savefig(\"plots/Deltamag.png\")\n",
    "plt.savefig(\"plots/Deltamag.pdf\")\n",
    "print(df.loc[mask & (df.dmag_fid > 1)].index)\n",
    "\n",
    "\n",
    "fig, ax = plt.subplots(figsize=(8, 6))\n",
    "sc = ax.scatter(df.dmag_fid[mask], df.first_det_mag[mask], c = df.mag_at_max[mask], s=70)\n",
    "cbar = fig.colorbar(sc, ticks =[18, 18.5, 19, 19.5, 20])\n",
    "cbar.set_label('Minimum magnitude', fontsize=16)\n",
    "cbar.ax.tick_params(which='major',labelsize=16)\n",
    "ax.set_xlabel(\"Last non-detection - detection magnitudes\", fontsize = 16)\n",
    "ax.set_ylabel(\"First detection magnitude\", fontsize = 16)\n",
    "ax.tick_params(axis='both', which='major', labelsize=16)\n",
    "plt.savefig(\"plots/mag_dmag.png\")\n",
    "\n",
    "for oid in mask[mask].index:\n",
    "    display(HTML(\"<a href='http://alerce.online/object/%s'> %s <a>\" % (oid, oid)))"
   ]
  },
  {
   "cell_type": "code",
   "execution_count": null,
   "metadata": {
    "ExecuteTime": {
     "end_time": "2020-01-15T13:16:58.539186Z",
     "start_time": "2020-01-15T13:16:58.091218Z"
    }
   },
   "outputs": [],
   "source": [
    "mask =  (df.dmdt_fid.notna()) & (df.dmdt_fid > 0.5) & (df.dmdt_fid < 20) & (df.dmag_fid > 0.5)  & (df.nobs>1)\n",
    "print(mask.sum())\n",
    "\n",
    "fig, ax = plt.subplots(figsize=(8, 6))\n",
    "sc = ax.scatter(df.dmdt_fid[mask], df.first_det_mag[mask], c = df.mag_at_max[mask], s=70)\n",
    "cbar = fig.colorbar(sc)#, ticks =[17, 17.18, 18.5, 19, 19.5, 20])\n",
    "cbar.set_label('Minimum magnitude', fontsize=18)\n",
    "cbar.ax.tick_params(which='major',labelsize=16)\n",
    "ax.set_xlabel(r\"$|\\Delta m/ \\Delta t|$   [mag/day]\", fontsize = 18)\n",
    "ax.set_ylabel(\"First detection magnitude\", fontsize = 18)\n",
    "ax.tick_params(axis='both', which='major', labelsize=16)\n",
    "plt.tight_layout()\n",
    "plt.savefig(\"plots/dmdt.png\")\n",
    "\n",
    "for oid in mask[mask].index:\n",
    "    display(HTML(\"<a href='http://alerce.online/object/%s'> %s <a>\" % (oid, oid)))"
   ]
  },
  {
   "cell_type": "code",
   "execution_count": null,
   "metadata": {
    "ExecuteTime": {
     "end_time": "2020-01-15T13:17:00.332632Z",
     "start_time": "2020-01-15T13:16:58.541152Z"
    }
   },
   "outputs": [],
   "source": [
    "oid = 'ZTF19abueupg'#'ZTF19abvdgqo'\n",
    "det = alerce.get_detections(oid, format='pandas')\n",
    "nondet = alerce.get_non_detections(oid, format='pandas')\n",
    "fig, ax = plt.subplots(figsize=(8,6))\n",
    "colors = {1: 'g', 2: 'r'}\n",
    "mjd0 = det.mjd.min()\n",
    "for fid in [1, 2]:\n",
    "    mask = det.fid == fid\n",
    "    ax.errorbar(det.mjd[mask] - mjd0, det.magpsf[mask], yerr=det.sigmapsf[mask], marker='o', lw=0, elinewidth=1, c=colors[fid], label=\"%s mag\" % colors[fid])\n",
    "    mask = (nondet.fid == fid) & (nondet.index < det.mjd.min())\n",
    "    ax.scatter(nondet.index[mask] - mjd0, nondet.diffmaglim[mask], marker='v', c=colors[fid], alpha=0.5, label=\"mag.lim. %s\" % colors[fid])\n",
    "ax.set_ylim(ax.get_ylim()[1], 18.3)\n",
    "ax.set_xlim(-10, 20)\n",
    "ax.tick_params(axis='both', which='major', labelsize=16)\n",
    "#ax.tick_params(axis='y', which='major', labelsize=16)\n",
    "ax.set_xlabel(\"Time since first detection [days]\", fontsize=18)\n",
    "ax.set_ylabel(\"mag\", fontsize=18)\n",
    "handles, labels = ax.get_legend_handles_labels()\n",
    "ax.legend(handles[::-1], labels[::-1], fontsize=16, loc=4)\n",
    "plt.tight_layout()\n",
    "plt.savefig(\"BestSN.png\")"
   ]
  },
  {
   "cell_type": "markdown",
   "metadata": {},
   "source": [
    "# Find distribution of time between detection and 5th detection in the same band"
   ]
  },
  {
   "cell_type": "code",
   "execution_count": null,
   "metadata": {
    "ExecuteTime": {
     "end_time": "2020-01-15T13:17:03.173907Z",
     "start_time": "2020-01-15T13:17:00.334570Z"
    }
   },
   "outputs": [],
   "source": [
    "mask = (df.nobs > 5)\n",
    "dt_5th = {}\n",
    "for oid in df[mask].index:\n",
    "    mask = all_detections.oid == oid\n",
    "    for fid in all_detections[mask].fid.unique():\n",
    "        mask = (all_detections.oid == oid) & (all_detections.fid == fid)\n",
    "        if mask.sum() == 0:\n",
    "            continue\n",
    "        fid_mjds = all_detections[mask].mjd.values\n",
    "        if len(fid_mjds) > 4:\n",
    "            if oid in dt_5th.keys():\n",
    "                dt_5th[oid] = min(dt_5th[oid], fid_mjds[4] - df.loc[oid].first_mjd)\n",
    "            else:\n",
    "                dt_5th[oid] = fid_mjds[4] - df.loc[oid].first_mjd"
   ]
  },
  {
   "cell_type": "code",
   "execution_count": null,
   "metadata": {
    "ExecuteTime": {
     "end_time": "2020-01-15T13:17:03.328645Z",
     "start_time": "2020-01-15T13:17:03.175370Z"
    }
   },
   "outputs": [],
   "source": [
    "fig, ax = plt.subplots()\n",
    "ax.hist(dt_5th.values(), bins=25)\n",
    "print(np.percentile(np.array(list(dt_5th.values())), 5))\n",
    "print(np.median(np.array(list(dt_5th.values()))))\n",
    "print(np.percentile(np.array(list(dt_5th.values())), 95))\n",
    "len(dt_5th)"
   ]
  },
  {
   "cell_type": "code",
   "execution_count": null,
   "metadata": {
    "ExecuteTime": {
     "end_time": "2020-01-15T13:17:03.467703Z",
     "start_time": "2020-01-15T13:17:03.330392Z"
    }
   },
   "outputs": [],
   "source": [
    "mask = (df.nobs > 5) & (df.dmag_fid > 0) & (df.dt_fid <= lasthr / 24.)\n",
    "ax.hist(df.dmag_fid[mask].dropna(), alpha = 0.5, bins=20, label = \"%s SNe @ %i/%02i/%02i\" % (mask.sum(), now.year, now.month, now.day))\n",
    "#ax.set_xlabel(\"Time between detection and last non-detection [days]\", fontsize = 16)\n",
    "#print(\"%i SNe reported (excluding %i retracted)\" % (df.nobs.shape[0], len(retracted)))\n",
    "#print(\"Average number of detections: %i\" % np.average(df.nobs[df.nobs > 1]))\n",
    "#print(\"Median number of detections: %i\" % np.median(df.nobs[df.nobs > 1]))\n",
    "#print(\"Fraction of candidates with >1 detections: %f\" % (np.sum(df.nobs > 1) / df.nobs.shape[0]))\n",
    "#print(\"SNe with time between 1st detection and last non-detection < 1 day: %i\" % np.sum(df.dt[df.nobs > 1] < 1))\n",
    "#print(\"SNe with time between 2nd detection and last non-detection < 1 day: %i\" % np.sum(df.dt2[df.nobs > 1] < 1))\n",
    "#print(\"Median time between 1st detection and last non-detection: %4.2f [days]\" % np.median(df.dt[df.nobs > 1]))\n",
    "#print(\"Median time between 2nd detection and last non-detection: %4.2f [days]\" % np.median(df.dt2[df.nobs > 1]))\n",
    "ax.set_xlabel(\"Last non-detection - detection magnitudes\", fontsize = 16)\n",
    "ax.set_ylabel(\"N\", fontsize = 16)\n",
    "ax.set_title(\"Rising SNe reported by ALeRCE, non-det. within last %i hr of 1st det. in same filter\" % (lasthr), fontsize = 16)\n",
    "ax.legend(fontsize=16, loc = 1)\n",
    "plt.savefig(\"plots/Deltamag.png\")\n",
    "plt.savefig(\"plots/Deltamag.pdf\")\n",
    "print(df.loc[mask & (df.dmag_fid > 1)].index)"
   ]
  },
  {
   "cell_type": "code",
   "execution_count": null,
   "metadata": {
    "ExecuteTime": {
     "end_time": "2020-01-15T13:17:03.714957Z",
     "start_time": "2020-01-15T13:17:03.469163Z"
    }
   },
   "outputs": [],
   "source": [
    "from bokeh.plotting import figure, show, output_notebook\n",
    "from bokeh.models import HoverTool, ColumnDataSource, CategoricalColorMapper\n",
    "from bokeh.models import ColumnDataSource, OpenURL, TapTool\n",
    "\n",
    "output_notebook()"
   ]
  },
  {
   "cell_type": "code",
   "execution_count": null,
   "metadata": {
    "ExecuteTime": {
     "end_time": "2020-01-15T13:17:03.723170Z",
     "start_time": "2020-01-15T13:17:03.716803Z"
    }
   },
   "outputs": [],
   "source": [
    "df[\"nobs_t\"] = 5 + df.nobs\n",
    "df[\"dmdt\"] = df.dmag_fid / df.dt_fid"
   ]
  },
  {
   "cell_type": "code",
   "execution_count": null,
   "metadata": {
    "ExecuteTime": {
     "end_time": "2020-01-15T13:23:22.815313Z",
     "start_time": "2020-01-15T13:23:22.675577Z"
    },
    "scrolled": false
   },
   "outputs": [],
   "source": [
    "from bokeh.palettes import Spectral10\n",
    "from bokeh.palettes import Viridis256\n",
    "from bokeh.transform import linear_cmap\n",
    "\n",
    "\n",
    "p = figure(\n",
    "    plot_width = 800,\n",
    "    plot_height = 600,\n",
    "    tools=('pan, wheel_zoom, box_zoom, reset, tap')\n",
    ")\n",
    "p.add_tools(HoverTool(tooltips=\"\"\"\n",
    "<div>\n",
    "    <div><span style='font-size: 12px'>oid: @oid</span></div>    \n",
    "    <div><span style='font-size: 12px'>nobs: @nobs</span></div>    \n",
    "    <div><span style='font-size: 12px'>dt: @dt</span></div>    \n",
    "    <div><span style='font-size: 12px'>dt2: @dt2</span></div>    \n",
    "    <div><span style='font-size: 12px'>dt_fid: @dt_fid</span></div>\n",
    "    <div><span style='font-size: 12px'>dmag_fid: @dmag_fid</span></div>\n",
    "    <div><span style='font-size: 12px'>first_mjd: @first_mjd</span></div>\n",
    "    <div><span style='font-size: 12px'>dmdt: @dmdt</span></div>\n",
    "\n",
    "</div>\n",
    "\"\"\"))\n",
    "\n",
    "taptool = p.select(type = TapTool)\n",
    "url = \"http://dev.alerce.online/vue/object/@oid\"\n",
    "taptool.callback = OpenURL(url=url)\n",
    "\n",
    "color_col = 'first_mjd'\n",
    "mapper = linear_cmap(field_name=color_col, palette=Viridis256,low=df.first_mjd.min(), high=df.first_mjd.max())\n",
    "\n",
    "x_col = 'dt_fid'\n",
    "y_col = 'dmag_fid'\n",
    "size_col = 'nobs_t'\n",
    "p.circle(\n",
    "    x_col,\n",
    "    y_col,\n",
    "    source = df,\n",
    "    color = mapper,\n",
    "    size = size_col,\n",
    "    line_alpha = 0.6,\n",
    "    fill_alpha = 0.6\n",
    ")\n",
    "\n",
    "p.xaxis.axis_label = x_col\n",
    "p.yaxis.axis_label = y_col\n",
    "p.title.text = (\"%s vs %s (size: %s, color: %s)\" % (x_col, y_col, size_col, color_col))\n",
    "show(p)\n"
   ]
  },
  {
   "cell_type": "code",
   "execution_count": null,
   "metadata": {
    "ExecuteTime": {
     "end_time": "2020-01-15T13:23:30.046123Z",
     "start_time": "2020-01-15T13:23:29.967368Z"
    }
   },
   "outputs": [],
   "source": [
    "from bokeh.palettes import Spectral10\n",
    "from bokeh.palettes import Viridis256\n",
    "from bokeh.transform import linear_cmap\n",
    "\n",
    "\n",
    "p = figure(\n",
    "    plot_width = 1000,\n",
    "    plot_height = 600,\n",
    "    tools=('pan, wheel_zoom, box_zoom, reset, tap')\n",
    ")\n",
    "p.add_tools(HoverTool(tooltips=\"\"\"\n",
    "<div>\n",
    "    <div><span style='font-size: 12px'>oid: @oid</span></div>    \n",
    "    <div><span style='font-size: 12px'>nobs: @nobs</span></div>    \n",
    "    <div><span style='font-size: 12px'>dt: @dt</span></div>    \n",
    "    <div><span style='font-size: 12px'>dt2: @dt2</span></div>    \n",
    "    <div><span style='font-size: 12px'>dt_fid: @dt_fid</span></div>\n",
    "    <div><span style='font-size: 12px'>dmag_fid: @dmag_fid</span></div>\n",
    "    <div><span style='font-size: 12px'>first_mjd: @first_mjd</span></div>\n",
    "    <div><span style='font-size: 12px'>dmdt: @dmdt</span></div>\n",
    "\n",
    "</div>\n",
    "\"\"\"))\n",
    "\n",
    "taptool = p.select(type = TapTool)\n",
    "url = \"http://alerce.online/vue/object/@oid\"\n",
    "taptool.callback = OpenURL(url=url)\n",
    "\n",
    "color_col = 'dmag_first_max'\n",
    "mapper = linear_cmap(field_name=color_col, palette=Viridis256,low=df.dmag_first_max.min(), high=df.dmag_first_max.max())\n",
    "\n",
    "\n",
    "x_col = 'first_mjd'\n",
    "y_col = 'dt_first_max'\n",
    "size_col = 'nobs_t'\n",
    "p.circle(\n",
    "    x_col,\n",
    "    y_col,\n",
    "    source = df,\n",
    "    color = mapper,\n",
    "    size = size_col,\n",
    "    line_alpha = 0.6,\n",
    "    fill_alpha = 0.6\n",
    ")\n",
    "\n",
    "p.xaxis.axis_label = x_col\n",
    "p.yaxis.axis_label = y_col\n",
    "p.title.text = (\"%s vs %s (size: %s, color: %s)\" % (y_col, x_col, size_col, color_col))\n",
    "show(p)\n"
   ]
  },
  {
   "cell_type": "code",
   "execution_count": null,
   "metadata": {
    "ExecuteTime": {
     "end_time": "2020-01-15T13:17:03.935441Z",
     "start_time": "2020-01-15T13:17:03.864822Z"
    }
   },
   "outputs": [],
   "source": [
    "from bokeh.palettes import Spectral10\n",
    "from bokeh.palettes import Viridis256\n",
    "from bokeh.transform import linear_cmap\n",
    "\n",
    "\n",
    "p = figure(\n",
    "    plot_width = 800,\n",
    "    plot_height = 600,\n",
    "    tools=('pan, wheel_zoom, box_zoom, reset, tap')\n",
    ")\n",
    "p.add_tools(HoverTool(tooltips=\"\"\"\n",
    "<div>\n",
    "    <div><span style='font-size: 12px'>oid: @oid</span></div>    \n",
    "    <div><span style='font-size: 12px'>nobs: @nobs</span></div>    \n",
    "    <div><span style='font-size: 12px'>dt: @dt</span></div>    \n",
    "    <div><span style='font-size: 12px'>dt2: @dt2</span></div>    \n",
    "    <div><span style='font-size: 12px'>dt_fid: @dt_fid</span></div>\n",
    "    <div><span style='font-size: 12px'>dmag_fid: @dmag_fid</span></div>\n",
    "    <div><span style='font-size: 12px'>first_mjd: @first_mjd</span></div>\n",
    "    <div><span style='font-size: 12px'>dmdt: @dmdt</span></div>\n",
    "\n",
    "</div>\n",
    "\"\"\"))\n",
    "\n",
    "taptool = p.select(type = TapTool)\n",
    "url = \"http://dev.alerce.online/vue/object/@oid\"\n",
    "taptool.callback = OpenURL(url=url)\n",
    "\n",
    "#sc = ax.scatter(df.dmdt_fid[mask], df.first_det_mag[mask], c = df.mag_at_max[mask], s=70)\n",
    "\n",
    "mask =  (df.dmdt_fid.notna()) & (df.dmdt_fid > 0.2) & (df.dmdt_fid < 20) & (df.dmag_fid > 0.5)  & (df.nobs>1)\n",
    "color_col = 'mag_at_max'\n",
    "mapper = linear_cmap(field_name=color_col, palette=Viridis256,low=df[mask][color_col].min(), high=df[mask][color_col].max())\n",
    "\n",
    "x_col = 'dmdt_fid'\n",
    "y_col = 'first_det_mag'\n",
    "size_col = 'dmag_first_max'\n",
    "p.circle(\n",
    "    x_col,\n",
    "    y_col,\n",
    "    source = df.loc[mask],\n",
    "    color = mapper,\n",
    "    size = 20,\n",
    "    line_alpha = 0.6,\n",
    "    fill_alpha = 0.6\n",
    ")\n",
    "\n",
    "p.xaxis.axis_label = x_col\n",
    "p.yaxis.axis_label = y_col\n",
    "p.title.text = (\"%s vs %s (size: %s, color: %s)\" % (x_col, y_col, size_col, color_col))\n",
    "show(p)\n"
   ]
  },
  {
   "cell_type": "code",
   "execution_count": null,
   "metadata": {
    "ExecuteTime": {
     "end_time": "2020-01-15T13:17:03.940832Z",
     "start_time": "2020-01-15T13:17:03.937484Z"
    }
   },
   "outputs": [],
   "source": [
    "mask.sum()"
   ]
  },
  {
   "cell_type": "code",
   "execution_count": null,
   "metadata": {
    "ExecuteTime": {
     "end_time": "2020-01-15T13:17:04.210376Z",
     "start_time": "2020-01-15T13:17:03.942481Z"
    }
   },
   "outputs": [],
   "source": [
    "fig, ax = plt.subplots()\n",
    "ax.scatter(df.first_mjd, df.nobs)\n",
    "ax.set_yscale(\"log\")"
   ]
  },
  {
   "cell_type": "code",
   "execution_count": null,
   "metadata": {
    "ExecuteTime": {
     "end_time": "2020-01-15T13:17:04.218208Z",
     "start_time": "2020-01-15T13:17:04.212408Z"
    }
   },
   "outputs": [],
   "source": [
    "(df.dec < 30).sum() /  (df.dec < 90).sum()"
   ]
  },
  {
   "cell_type": "code",
   "execution_count": null,
   "metadata": {
    "ExecuteTime": {
     "end_time": "2020-01-15T13:17:04.423378Z",
     "start_time": "2020-01-15T13:17:04.220053Z"
    }
   },
   "outputs": [],
   "source": [
    "fig, ax = plt.subplots()\n",
    "mask = df.dmag > 0\n",
    "ax.hist(df.nobs[df.dec < 15], cumulative=True, alpha=0.5, label = \"dec < 20\")\n",
    "ax.hist(df.nobs[df.dec < 30], cumulative=True, alpha=0.5, label = \"dec < 30\")\n",
    "ax.hist(df.nobs[df.dec < 90], cumulative=True, alpha=0.5, label = 'all')\n",
    "plt.legend()"
   ]
  },
  {
   "cell_type": "code",
   "execution_count": null,
   "metadata": {},
   "outputs": [],
   "source": []
  },
  {
   "cell_type": "code",
   "execution_count": null,
   "metadata": {},
   "outputs": [],
   "source": []
  },
  {
   "cell_type": "code",
   "execution_count": null,
   "metadata": {},
   "outputs": [],
   "source": []
  },
  {
   "cell_type": "code",
   "execution_count": null,
   "metadata": {},
   "outputs": [],
   "source": []
  },
  {
   "cell_type": "code",
   "execution_count": null,
   "metadata": {},
   "outputs": [],
   "source": []
  },
  {
   "cell_type": "code",
   "execution_count": null,
   "metadata": {},
   "outputs": [],
   "source": []
  },
  {
   "cell_type": "code",
   "execution_count": null,
   "metadata": {},
   "outputs": [],
   "source": []
  },
  {
   "cell_type": "code",
   "execution_count": null,
   "metadata": {},
   "outputs": [],
   "source": []
  },
  {
   "cell_type": "code",
   "execution_count": null,
   "metadata": {},
   "outputs": [],
   "source": []
  },
  {
   "cell_type": "markdown",
   "metadata": {},
   "source": [
    "# Obtain TNS stats (scrapping)"
   ]
  },
  {
   "cell_type": "code",
   "execution_count": null,
   "metadata": {
    "ExecuteTime": {
     "end_time": "2019-09-30T23:35:43.488085Z",
     "start_time": "2019-09-30T22:49:06.120666Z"
    },
    "scrolled": true
   },
   "outputs": [],
   "source": [
    "#results = {}\n",
    "#specs = {}\n",
    "#for name in all_alerce.Name.values:\n",
    "#    objname = name[3:]\n",
    "#    print(objname, len(results))\n",
    "#    url = \"https://wis-tns.weizmann.ac.il/object/%s\" % objname\n",
    "#    response = requests.get(url)\n",
    "#    results[objname] = re.findall(\"cell-time_received.>(.*?)<.*cell-user_name.>(.*?)<.*cell-source_group_name.>(.*?)<.*cell-discovery_date.>(.*?)<.*\", response.text)[1:]\n",
    "#    specs[objname] = re.findall(\"spectrum.*?cell-id.>.*?cell-obsdate.>(.*?)<.*cell-tel_inst.>(.*?)<.*cell-exptime.>(.*?)<.*cell-observer.>(.*?)<.*\", response.text)[1:]"
   ]
  },
  {
   "cell_type": "markdown",
   "metadata": {},
   "source": [
    "### Save results"
   ]
  },
  {
   "cell_type": "code",
   "execution_count": null,
   "metadata": {
    "ExecuteTime": {
     "end_time": "2019-10-01T13:00:47.948131Z",
     "start_time": "2019-10-01T13:00:47.941488Z"
    },
    "scrolled": false
   },
   "outputs": [],
   "source": [
    "#import pickle\n",
    "#with open('wis_results.pkl', 'wb') as handle:\n",
    "#    pickle.dump(results, handle, protocol=pickle.HIGHEST_PROTOCOL)\n",
    "#with open('wis_specs.pkl', 'wb') as handle:\n",
    "#    pickle.dump(specs, handle, protocol=pickle.HIGHEST_PROTOCOL)"
   ]
  },
  {
   "cell_type": "markdown",
   "metadata": {},
   "source": [
    "### Load results"
   ]
  },
  {
   "cell_type": "code",
   "execution_count": null,
   "metadata": {
    "ExecuteTime": {
     "end_time": "2019-10-11T18:49:19.005128Z",
     "start_time": "2019-10-11T18:49:18.991334Z"
    }
   },
   "outputs": [],
   "source": [
    "import pickle\n",
    "results = pickle.load(open('wis_results.pkl', 'rb'))\n",
    "specs = pickle.load(open('wis_specs.pkl', 'rb'))"
   ]
  },
  {
   "cell_type": "code",
   "execution_count": null,
   "metadata": {
    "ExecuteTime": {
     "end_time": "2019-10-11T18:49:19.353460Z",
     "start_time": "2019-10-11T18:49:19.350027Z"
    }
   },
   "outputs": [],
   "source": [
    "for SN in list(specs.keys()):\n",
    "    if specs[SN] == []:\n",
    "        del specs[SN]"
   ]
  },
  {
   "cell_type": "code",
   "execution_count": null,
   "metadata": {
    "ExecuteTime": {
     "end_time": "2019-10-11T18:49:19.966752Z",
     "start_time": "2019-10-11T18:49:19.613142Z"
    }
   },
   "outputs": [],
   "source": [
    "delta_report = []\n",
    "delta_2ndreport = []\n",
    "group_2ndreport = []\n",
    "delta_clf = []\n",
    "mjd_disc = []\n",
    "for SN in results.keys():\n",
    "    #if not SN in specs.keys():\n",
    "    #    continue\n",
    "    report_2nd = 1e99\n",
    "    clf_date = 1e99\n",
    "    if len(results[SN]) > 0:\n",
    "        for r in results[SN]:\n",
    "            report_day = Time(r[0].replace(\" \", \"T\")).mjd\n",
    "            disc_day = Time(r[3].replace(\" \", \"T\")).mjd\n",
    "            disc_group = r[1]\n",
    "            if disc_group == \"ALeRCE\":\n",
    "                first_detection = disc_day\n",
    "                report_ALeRCE = report_day\n",
    "                delta_report.append(report_day - first_detection)\n",
    "                mjd_disc.append(disc_day)\n",
    "                if SN in specs.keys():\n",
    "                    if specs[SN] != []:\n",
    "                        clf_day = Time(specs[SN][0][0].replace(\" \", \"T\")).mjd\n",
    "                        delta_clf.append(clf_day - first_detection)\n",
    "            else:\n",
    "                if report_day < report_2nd:# and disc_group[:3] == \"ZTF\" :\n",
    "                    report_2nd = report_day\n",
    "                    report_group = disc_group\n",
    "    if report_2nd < 1e99:\n",
    "        delta_2ndreport.append(report_2nd - first_detection)\n",
    "        group_2ndreport.append((SN, report_group))\n",
    "                \n",
    "                \n",
    "delta_report = np.array(delta_report)\n",
    "delta_2ndreport = np.array(delta_2ndreport)\n",
    "mjd_disc = np.array(mjd_disc)"
   ]
  },
  {
   "cell_type": "code",
   "execution_count": null,
   "metadata": {
    "ExecuteTime": {
     "end_time": "2019-10-11T18:49:20.108547Z",
     "start_time": "2019-10-11T18:49:20.102864Z"
    }
   },
   "outputs": [],
   "source": [
    "cl, n = np.unique(np.array(group_2ndreport)[:, 1], return_counts=True)"
   ]
  },
  {
   "cell_type": "code",
   "execution_count": null,
   "metadata": {
    "ExecuteTime": {
     "end_time": "2019-10-11T18:49:20.835735Z",
     "start_time": "2019-10-11T18:49:20.621070Z"
    }
   },
   "outputs": [],
   "source": [
    "fig, ax = plt.subplots(figsize=(10, 8))\n",
    "ax.bar(cl, n)\n",
    "plt.xticks(rotation=90)\n",
    "ax.set_title(\"Sources of subsequent TNS reports\")\n",
    "plt.tight_layout()\n",
    "plt.savefig(\"plots/OtherSources.png\")"
   ]
  },
  {
   "cell_type": "code",
   "execution_count": null,
   "metadata": {
    "ExecuteTime": {
     "end_time": "2019-10-11T18:49:22.077001Z",
     "start_time": "2019-10-11T18:49:21.938878Z"
    }
   },
   "outputs": [],
   "source": [
    "fig, ax = plt.subplots()\n",
    "ax.scatter(mjd_disc, delta_report)#, bins=100, cumulative=True);"
   ]
  },
  {
   "cell_type": "code",
   "execution_count": null,
   "metadata": {
    "ExecuteTime": {
     "end_time": "2019-10-11T18:49:24.428048Z",
     "start_time": "2019-10-11T18:49:22.654604Z"
    }
   },
   "outputs": [],
   "source": [
    "fig, ax = plt.subplots(figsize=(12, 8))\n",
    "refmjd = 58696\n",
    "ax.hist(delta_report[mjd_disc > refmjd] * 24., bins=1000, cumulative=True, density=True);\n",
    "ax.set_title(\"Candidates submitted to TNS since %i/%02i/%02i (%i)\" %\n",
    "             (Time(refmjd, format='mjd').datetime.year,\n",
    "              Time(refmjd, format='mjd').datetime.month,\n",
    "              Time(refmjd, format='mjd').datetime.day,\n",
    "              len(delta_report[mjd_disc > 58697])), fontsize=18)\n",
    "ax.set_xlabel(\"Time between ZTF first detection and ALeRCE report to TNS [hr]\", fontsize=18)\n",
    "ax.set_ylabel(\"CDF\", fontsize=18)\n",
    "plt.savefig(\"plots/Report_times.png\")"
   ]
  },
  {
   "cell_type": "code",
   "execution_count": null,
   "metadata": {
    "ExecuteTime": {
     "end_time": "2019-10-11T18:49:26.420336Z",
     "start_time": "2019-10-11T18:49:24.429755Z"
    }
   },
   "outputs": [],
   "source": [
    "fig, ax = plt.subplots(figsize=(12, 8))\n",
    "ax.hist(delta_2ndreport, bins=1000, cumulative=True, density=True);\n",
    "ax.set_title(\"Candidates with 2nd report to TNS (%i)\" % len(delta_2ndreport), fontsize=18)\n",
    "ax.set_xlabel(\"Time between ALeRCE report to TNS and subsequent report [days]\", fontsize=18)\n",
    "ax.set_ylabel(\"CDF\", fontsize=18)\n",
    "plt.savefig(\"plots/ALeRCE_vs_rest.png\")"
   ]
  },
  {
   "cell_type": "code",
   "execution_count": null,
   "metadata": {
    "ExecuteTime": {
     "end_time": "2019-10-11T18:49:28.477869Z",
     "start_time": "2019-10-11T18:49:26.422792Z"
    }
   },
   "outputs": [],
   "source": [
    "fig, ax = plt.subplots(figsize=(12, 8))\n",
    "ax.hist(delta_clf, bins=1000, density=True, cumulative=True);\n",
    "ax.set_title(\"Candidates with spectroscopic classification (%i)\" % len(delta_clf), fontsize=18)\n",
    "ax.set_xlabel(\"Time between ALeRCE report to TNS and spec. classification [days]\", fontsize=18)\n",
    "ax.set_ylabel(\"CDF\", fontsize=18)\n",
    "plt.savefig(\"plots/ALeRCE_classification.png\")"
   ]
  },
  {
   "cell_type": "code",
   "execution_count": null,
   "metadata": {
    "ExecuteTime": {
     "end_time": "2019-10-11T18:49:29.000330Z",
     "start_time": "2019-10-11T18:49:28.991100Z"
    }
   },
   "outputs": [],
   "source": [
    "print(np.median(delta_report[mjd_disc > refmjd]))"
   ]
  },
  {
   "cell_type": "code",
   "execution_count": null,
   "metadata": {
    "ExecuteTime": {
     "end_time": "2019-10-11T18:49:36.984665Z",
     "start_time": "2019-10-11T18:49:29.560137Z"
    }
   },
   "outputs": [],
   "source": [
    "fig, ax = plt.subplots(figsize=(15, 10))\n",
    "ax.hist(delta_report[mjd_disc > refmjd], bins=1000, density=True, alpha=0.5, cumulative=True, color = 'r', label='ALeRCE');\n",
    "ax.hist(delta_2ndreport, bins=1000, density=True, alpha=0.5, cumulative=True, label='Other', color = 'gray');\n",
    "ax.hist(delta_clf, bins=1000, density=True, alpha=0.5, cumulative=True, label='Spectra', color = 'b');\n",
    "ax.axvline(np.median(delta_report[mjd_disc > refmjd]), c = 'r')\n",
    "ax.text(np.median(delta_report[mjd_disc > refmjd]), 1.,\n",
    "        \" %.1f hr\" % (np.median(delta_report[mjd_disc > refmjd]) * 24.), color = 'r', fontsize=20)\n",
    "ax.axvline(np.median(delta_2ndreport), c = 'gray')\n",
    "ax.text(np.median(delta_2ndreport), 1.,\n",
    "        \" %.1f days\" % (np.median(delta_2ndreport)), color = 'gray', fontsize=20, rotation=90, ha = 'right')\n",
    "ax.axvline(np.median(delta_clf), c = 'b')\n",
    "ax.text(np.median(delta_clf), 1.,\n",
    "        \" %.1f days\" % (np.median(delta_clf)), color = 'b', fontsize=20, rotation=90, ha = 'right')\n",
    "ax.set_title(\"Candidates sent by ALeRCE\", fontsize=18)\n",
    "ax.set_xlabel(\"Time between first ZTF detection and report to TNS [days]\", fontsize=18)\n",
    "ax.set_ylabel(\"CDF\", fontsize=18)\n",
    "ax.set_xlim(0, 25)\n",
    "ax.legend(fontsize=18, loc=4)\n",
    "plt.savefig(\"plots/ALeRCE_Other.pdf\")\n",
    "plt.savefig(\"plots/ALeRCE_Other.png\")"
   ]
  },
  {
   "cell_type": "code",
   "execution_count": null,
   "metadata": {
    "ExecuteTime": {
     "end_time": "2019-10-04T16:30:16.436056Z",
     "start_time": "2019-10-04T16:30:16.420634Z"
    }
   },
   "outputs": [],
   "source": [
    "list(zip(group_2ndreport, delta_2ndreport))"
   ]
  },
  {
   "cell_type": "code",
   "execution_count": null,
   "metadata": {
    "ExecuteTime": {
     "end_time": "2019-10-04T16:30:22.604424Z",
     "start_time": "2019-10-04T16:30:22.359070Z"
    }
   },
   "outputs": [],
   "source": [
    "fig, ax = plt.subplots(figsize = (11, 8))\n",
    "ax.hist(df.first_det_mag, bins = np.linspace(df.first_det_mag.min(), df.first_det_mag.max(), df.nobs.max() + 1),\n",
    "        cumulative = True, label=\"1 detection\", density=True, alpha = 0.5, histtype='step', lw=2)\n",
    "ax.hist(df[df.nobs > 1].first_det_mag, bins = np.linspace(df.first_det_mag.min(), df.first_det_mag.max(), df.nobs.max() + 1),\n",
    "        cumulative = True, label=\">1 detection\", density=True, alpha = 0.5, histtype='step', lw=2)\n",
    "ax.hist(all_alerce.loc[classified_mask][\"Discovery Mag\"], bins = np.linspace(df.first_det_mag.min(), df.first_det_mag.max(), df.nobs.max() + 1),\n",
    "        cumulative = True, label=\"spectroscopically classified\", density=True, alpha = 0.5, histtype='step', lw=2)\n",
    "ax.legend(fontsize=16, loc=2)\n",
    "ax.set_xlabel(\"First detection magnitude\", fontsize = 16)\n",
    "#ax.grid(which='both')\n",
    "ax.set_ylabel(\"CDF\", fontsize = 16)\n",
    "ax.set_title(\"SNe reported by ALeRCE to TNS\", fontsize = 16)\n",
    "plt.savefig(\"plots/mags+clf.png\")"
   ]
  },
  {
   "cell_type": "code",
   "execution_count": null,
   "metadata": {
    "ExecuteTime": {
     "end_time": "2019-10-04T16:30:25.133342Z",
     "start_time": "2019-10-04T16:30:25.120836Z"
    }
   },
   "outputs": [],
   "source": [
    "all_alerce[\"shortname\"] = all_alerce.Name.apply(lambda x: x[3:])"
   ]
  },
  {
   "cell_type": "code",
   "execution_count": null,
   "metadata": {
    "ExecuteTime": {
     "end_time": "2019-10-04T16:30:26.062118Z",
     "start_time": "2019-10-04T16:30:26.057432Z"
    }
   },
   "outputs": [],
   "source": [
    "list(all_alerce)"
   ]
  },
  {
   "cell_type": "code",
   "execution_count": null,
   "metadata": {},
   "outputs": [],
   "source": []
  },
  {
   "cell_type": "code",
   "execution_count": null,
   "metadata": {},
   "outputs": [],
   "source": []
  },
  {
   "cell_type": "code",
   "execution_count": null,
   "metadata": {},
   "outputs": [],
   "source": []
  },
  {
   "cell_type": "code",
   "execution_count": null,
   "metadata": {},
   "outputs": [],
   "source": []
  },
  {
   "cell_type": "markdown",
   "metadata": {},
   "source": [
    "# Do some statistics on ML classified objects"
   ]
  },
  {
   "cell_type": "code",
   "execution_count": null,
   "metadata": {
    "ExecuteTime": {
     "end_time": "2019-10-04T16:36:10.161097Z",
     "start_time": "2019-10-04T16:36:10.156034Z"
    }
   },
   "outputs": [],
   "source": [
    "import pandas as pd\n",
    "import numpy as np\n",
    "import matplotlib.pyplot as plt\n",
    "import astropy.units as u\n",
    "from astropy import coordinates\n",
    "from astropy.time import Time\n",
    "from IPython.display import HTML\n",
    "from ipywidgets import Layout, Box, widgets"
   ]
  },
  {
   "cell_type": "code",
   "execution_count": null,
   "metadata": {
    "ExecuteTime": {
     "end_time": "2019-10-04T16:36:21.318291Z",
     "start_time": "2019-10-04T16:36:21.316042Z"
    }
   },
   "outputs": [],
   "source": [
    "#!pip install psycopg2-binary\n",
    "import psycopg2"
   ]
  },
  {
   "cell_type": "code",
   "execution_count": null,
   "metadata": {
    "ExecuteTime": {
     "end_time": "2019-10-04T16:37:05.389040Z",
     "start_time": "2019-10-04T16:37:05.382329Z"
    }
   },
   "outputs": [],
   "source": [
    "import json\n",
    "credentials_file = \"../usecases/alercereaduser_v2.json\"\n",
    "with open(credentials_file) as jsonfile:\n",
    "    params = json.load(jsonfile)[\"params\"]"
   ]
  },
  {
   "cell_type": "code",
   "execution_count": null,
   "metadata": {
    "ExecuteTime": {
     "end_time": "2019-10-04T16:38:10.801402Z",
     "start_time": "2019-10-04T16:38:09.922790Z"
    }
   },
   "outputs": [],
   "source": [
    "conn = psycopg2.connect(dbname=params['dbname'], user=params['user'], host=params['host'], password=params['password'])"
   ]
  },
  {
   "cell_type": "code",
   "execution_count": null,
   "metadata": {
    "ExecuteTime": {
     "end_time": "2019-10-04T16:38:17.638392Z",
     "start_time": "2019-10-04T16:38:17.379648Z"
    }
   },
   "outputs": [],
   "source": [
    "query = \"select tablename from pg_tables where schemaname='public';\"\n",
    "tables = pd.read_sql_query(query, conn)\n",
    "tables.sort_values(by=\"tablename\")"
   ]
  },
  {
   "cell_type": "code",
   "execution_count": null,
   "metadata": {
    "ExecuteTime": {
     "end_time": "2019-10-04T16:38:29.469200Z",
     "start_time": "2019-10-04T16:38:26.657955Z"
    },
    "scrolled": true
   },
   "outputs": [],
   "source": [
    "alltabs = []\n",
    "for tab in sorted(tables.tablename):\n",
    "    cols = pd.DataFrame()\n",
    "    query = \"select column_name, data_type from information_schema.columns where table_name = '%s';\" % tab\n",
    "    results = pd.read_sql_query(query, conn)\n",
    "    results[\"table\"] = tab\n",
    "    alltabs.append(results)\n",
    "dftab = pd.concat(alltabs)\n",
    "pd.options.display.max_rows = 999\n",
    "display(dftab[[\"table\", \"column_name\", \"data_type\"]])\n",
    "pd.options.display.max_rows = 101"
   ]
  },
  {
   "cell_type": "code",
   "execution_count": null,
   "metadata": {
    "ExecuteTime": {
     "end_time": "2019-10-04T16:38:39.846536Z",
     "start_time": "2019-10-04T16:38:39.716026Z"
    }
   },
   "outputs": [],
   "source": [
    "query = \"select * from class\"\n",
    "classes = pd.read_sql_query(query, conn)\n",
    "classmapper = dict(zip(classes.name.tolist(), classes.id.tolist()))\n",
    "classmapper"
   ]
  },
  {
   "cell_type": "code",
   "execution_count": null,
   "metadata": {
    "ExecuteTime": {
     "end_time": "2019-10-04T18:43:34.679528Z",
     "start_time": "2019-10-04T18:43:24.302979Z"
    },
    "scrolled": false
   },
   "outputs": [],
   "source": [
    "fig, ax = plt.subplots(figsize=(20, 12))\n",
    "ncl = 0\n",
    "df_cl = {}\n",
    "for cl in classmapper.keys():\n",
    "    if cl in [\"Other\", \"EB\", \"SNe\", \"AGN\", \"SN\", \"Variable Star\", \"Asteroid\", \"Bogus\"]:\n",
    "        continue\n",
    "    ncl += 1\n",
    "    print(cl)\n",
    "    prob_name = \"%s_prob\" % cl.replace(\" \", \"\")\n",
    "    if cl == \"AGN I\":\n",
    "        prob_name = \"AGN-I_prob\"\n",
    "    elif cl == \"EB/SD/D\":\n",
    "        prob_name = \"EBSD/D_prob\"\n",
    "    elif cl == \"EB/C\":\n",
    "        prob_name = \"EBC_prob\"\n",
    "    elif cl == \"Periodic/Other\":\n",
    "        prob_name = \"Periodic-Other_prob\"\n",
    "    query='''\n",
    "    select late_probabilities_v2.\"%s\"\n",
    "    from late_probabilities_v2 \n",
    "\n",
    "    inner join objects\n",
    "    on late_probabilities_v2.oid=objects.oid\n",
    "\n",
    "    where objects.classrf=%i\n",
    "    \n",
    "    ''' % (prob_name, classmapper[cl])\n",
    "    # notar que \"SNIa_prob\" is written between parenthesis, since this is a programatically defined column in SQL\n",
    "\n",
    "    df_cl[prob_name] = pd.read_sql_query(query, conn)\n",
    "    ax.hist(df_cl[prob_name][prob_name], histtype='step', cumulative=True, bins=20, lw=5, label=cl, alpha=0.8)\n",
    "    ax.text(df_cl[prob_name][prob_name].max(), df_cl[prob_name].shape[0], cl, fontsize=18, rotation=45, va='bottom', ha='left')\n",
    "ax.legend(fontsize=18)\n",
    "ax.set_xlim(0, 1.2)\n",
    "ax.set_yscale('log')\n",
    "ax.set_xlabel(\"Probability\")\n",
    "ax.set_xlabel(\"CDF\")\n",
    "plt.savefig(\"plots/cumulative.png\")    "
   ]
  },
  {
   "cell_type": "code",
   "execution_count": null,
   "metadata": {
    "ExecuteTime": {
     "end_time": "2019-10-04T19:23:19.890937Z",
     "start_time": "2019-10-04T19:23:17.900184Z"
    }
   },
   "outputs": [],
   "source": [
    "fig, ax = plt.subplots(nrows = len(df_cl.keys()), figsize=(12, 20), sharex=True)\n",
    "for idx, cl in enumerate(df_cl.keys()):\n",
    "    print(idx, cl, np.percentile(df_cl[cl][cl], 5.))\n",
    "    ax[idx].axvline(np.percentile(df_cl[cl][cl], 5.), c='g')\n",
    "    ax[idx].axvline(np.percentile(df_cl[cl][cl], 50.), c='r')\n",
    "    ax[idx].axvline(np.percentile(df_cl[cl][cl], 95.), c='g')\n",
    "\n",
    "    ax[idx].axvline(1/len(df_cl.keys()), c = 'k')\n",
    "    ax[idx].hist(df_cl[cl][cl], density=True, bins=40, lw=5, label=cl, alpha=0.8)\n",
    "    ax[idx].text(df_cl[cl][cl].max(), 1., \" %s (%i)\" % (cl, df_cl[cl].shape[0]), fontsize=18, va='bottom', ha='left')\n",
    "\n",
    "#ax[-1].set_xlabel(\"probability\")    "
   ]
  },
  {
   "cell_type": "markdown",
   "metadata": {},
   "source": [
    "# Build histogram given probability cut"
   ]
  },
  {
   "cell_type": "code",
   "execution_count": null,
   "metadata": {
    "ExecuteTime": {
     "end_time": "2019-10-04T19:26:05.694017Z",
     "start_time": "2019-10-04T19:26:05.691421Z"
    }
   },
   "outputs": [],
   "source": [
    "class_order = ['AGN-I', 'Blazar', 'CV/Nova', 'LPV', 'SNIa', 'SNIbc', 'SNII', 'SNIIn',\n",
    "               'SLSN', 'EBSD/D', 'EBC', 'DSCT', 'RRL', 'Ceph', 'Periodic-Other']"
   ]
  },
  {
   "cell_type": "code",
   "execution_count": null,
   "metadata": {
    "ExecuteTime": {
     "end_time": "2019-10-04T19:44:02.325249Z",
     "start_time": "2019-10-04T19:43:16.036267Z"
    },
    "scrolled": true
   },
   "outputs": [],
   "source": [
    "for prob_lim in np.linspace(0, 1, 100):\n",
    "    fig, ax = plt.subplots(figsize=(12, 10))\n",
    "\n",
    "    counts = {}\n",
    "    for idx, cl in enumerate(class_order[::-1]):\n",
    "        cl = \"%s_prob\" % cl\n",
    "        mask = df_cl[cl][cl] > prob_lim\n",
    "        if mask.sum() > 0:\n",
    "            counts[cl] = len(df_cl[cl][cl].loc[mask])\n",
    "            ax.text(counts[cl], idx, counts[cl])\n",
    "        else:\n",
    "            counts[cl] = 1e-3\n",
    "\n",
    "    ax.barh(range(len(counts.keys())), list(counts.values()))\n",
    "    ax.set_xscale('log')\n",
    "    ax.set_xlim(0.5, ax.get_xlim()[1])\n",
    "    ax.yaxis.set_ticks(range(len(counts.keys())))\n",
    "    ax.yaxis.set_ticklabels([x[:-5] for x in counts.keys()]);\n",
    "    ax.set_title(\"Minimum probability: %.2f\" % prob_lim)\n",
    "    \n",
    "    plt.savefig(\"histogram_minprob%.2f.png\" % prob_lim)"
   ]
  },
  {
   "cell_type": "code",
   "execution_count": null,
   "metadata": {},
   "outputs": [],
   "source": []
  },
  {
   "cell_type": "code",
   "execution_count": null,
   "metadata": {},
   "outputs": [],
   "source": []
  },
  {
   "cell_type": "code",
   "execution_count": null,
   "metadata": {
    "ExecuteTime": {
     "end_time": "2019-09-30T20:35:08.119644Z",
     "start_time": "2019-09-30T20:35:02.467734Z"
    }
   },
   "outputs": [],
   "source": [
    "supernova = {\n",
    "        \"internal_name\": \"ZTF19abyikbv\"\n",
    "        }\n",
    "\n",
    "# construct list of (key,value) pairs\n",
    "json_data = [('api_key', (None, api_key)),\n",
    "            ('data', (None, json.dumps(supernova)))]\n",
    "\n",
    "json_url = url_tns_api + '/get/search'\n",
    "response = requests.post(json_url, files = json_data)\n",
    "\n",
    "objname = response.json()[\"data\"][\"reply\"][0][\"objname\"]\n",
    "data = {\n",
    "        \"objname\": objname,\n",
    "        \"photometry\": \"1\",\n",
    "        \"spectra\": \"0\"\n",
    "        }\n",
    "\n",
    "# construct list of (key,value) pairs\n",
    "json_data = [('api_key', (None, api_key)),\n",
    "            ('data', (None, json.dumps(data)))]\n",
    "\n",
    "json_url = url_tns_api + '/get/object'\n",
    "response = requests.post(json_url, files = json_data)\n",
    "\n",
    "groupname = response.json()[\"data\"][\"reply\"][\"source_group\"][\"group_name\"]\n",
    "photometry = response.json()[\"data\"][\"reply\"][\"photometry\"]"
   ]
  },
  {
   "cell_type": "code",
   "execution_count": null,
   "metadata": {},
   "outputs": [],
   "source": []
  },
  {
   "cell_type": "code",
   "execution_count": null,
   "metadata": {},
   "outputs": [],
   "source": []
  },
  {
   "cell_type": "code",
   "execution_count": null,
   "metadata": {},
   "outputs": [],
   "source": []
  },
  {
   "cell_type": "code",
   "execution_count": null,
   "metadata": {},
   "outputs": [],
   "source": []
  },
  {
   "cell_type": "code",
   "execution_count": null,
   "metadata": {},
   "outputs": [],
   "source": []
  },
  {
   "cell_type": "code",
   "execution_count": null,
   "metadata": {},
   "outputs": [],
   "source": []
  },
  {
   "cell_type": "markdown",
   "metadata": {},
   "source": [
    "# Extract data from TNS (API approach)"
   ]
  },
  {
   "cell_type": "markdown",
   "metadata": {},
   "source": [
    "# Sandbox or real"
   ]
  },
  {
   "cell_type": "code",
   "execution_count": null,
   "metadata": {
    "ExecuteTime": {
     "end_time": "2019-10-07T20:36:28.271288Z",
     "start_time": "2019-10-07T20:36:28.268058Z"
    }
   },
   "outputs": [],
   "source": [
    "sandbox = False # True: test in sandbox, False: send to real website"
   ]
  },
  {
   "cell_type": "markdown",
   "metadata": {},
   "source": [
    "# Get API key and url"
   ]
  },
  {
   "cell_type": "code",
   "execution_count": null,
   "metadata": {
    "ExecuteTime": {
     "end_time": "2019-10-07T20:36:29.603488Z",
     "start_time": "2019-10-07T20:36:29.594146Z"
    }
   },
   "outputs": [],
   "source": [
    "if sandbox:\n",
    "    print(\"Getting API sandbox key...\")\n",
    "    api_key = open(\"API_sandbox.key\", \"r\").read()\n",
    "else:\n",
    "    print(\"Getting API key...\")\n",
    "    api_key = open(\"API.key\", \"r\").read()\n",
    "    \n",
    "if sandbox:\n",
    "    url_tns_api=\"https://sandbox-tns.weizmann.ac.il/api\"\n",
    "else:\n",
    "    url_tns_api=\"https://wis-tns.weizmann.ac.il/api\"\n",
    "    \n",
    "if not sandbox:\n",
    "    print(\"WARNING: submitting to real (not sandbox) TNS website\")"
   ]
  },
  {
   "cell_type": "code",
   "execution_count": null,
   "metadata": {
    "ExecuteTime": {
     "end_time": "2019-10-07T20:36:31.745078Z",
     "start_time": "2019-10-07T20:36:31.735954Z"
    }
   },
   "outputs": [],
   "source": [
    "# function for changing data to json format\n",
    "def format_to_json(source):\n",
    "    # change data to json format and return\n",
    "    parsed = json.loads(source, object_pairs_hook = OrderedDict)\n",
    "    result = json.dumps(parsed, indent = 4)\n",
    "    return result"
   ]
  },
  {
   "cell_type": "code",
   "execution_count": null,
   "metadata": {
    "ExecuteTime": {
     "end_time": "2019-09-30T21:15:40.148591Z",
     "start_time": "2019-09-30T21:15:40.139282Z"
    }
   },
   "outputs": [],
   "source": [
    "mask = all_alerce[\"Discovering Group/s\"] != \"ALeRCE\""
   ]
  },
  {
   "cell_type": "code",
   "execution_count": null,
   "metadata": {
    "ExecuteTime": {
     "end_time": "2019-09-30T21:25:43.797847Z",
     "start_time": "2019-09-30T21:21:33.940311Z"
    },
    "scrolled": true
   },
   "outputs": [],
   "source": [
    "dtALeRCE = {}\n",
    "telescope_2ndreport = {}\n",
    "\n",
    "for name in all_alerce.loc[mask].Name.values:\n",
    "    objname = name[3:]\n",
    "    data = {\n",
    "            \"objname\": objname,\n",
    "            \"photometry\": \"1\",\n",
    "            \"spectra\": \"0\"\n",
    "            }\n",
    "\n",
    "    # construct list of (key,value) pairs\n",
    "    json_data = [('api_key', (None, api_key)),\n",
    "                ('data', (None, json.dumps(data)))]\n",
    "\n",
    "    json_url = url_tns_api + '/get/object'\n",
    "    response = requests.post(json_url, files = json_data)\n",
    "\n",
    "    groupname = response.json()[\"data\"][\"reply\"][\"source_group\"][\"group_name\"]\n",
    "    photometry = response.json()[\"data\"][\"reply\"][\"photometry\"]\n",
    "    \n",
    "    times = []\n",
    "    telescopes = []\n",
    "    for i in photometry:\n",
    "        if i[\"remarks\"][:20] != \"[Last non detection]\":\n",
    "            print(\"   \", objname, i[\"jd\"], i[\"remarks\"], i[\"telescope\"][\"name\"])\n",
    "            times.append(float(i[\"jd\"]))\n",
    "            telescopes.append(i[\"telescope\"][\"name\"])\n",
    "\n",
    "    try:\n",
    "        times = np.array(times)\n",
    "        telescopes = np.array(telescopes, dtype=str)\n",
    "        idxsorted = np.argsort(times)\n",
    "        times = times[idxsorted]\n",
    "        telescopes = telescopes[idxsorted]\n",
    "        dtimes = times - times[0]\n",
    "        mask_rep = (dtimes > 0.5) # remove repetitions within the same night \n",
    "        dtimes = dtimes[mask_rep]\n",
    "        telescopes = telescopes[mask_rep]\n",
    "        dtALeRCE[objname] = dtimes[0]\n",
    "        telescope_2ndreport[objname] = telescopes[0]\n",
    "        print(objname, dtALeRCE[objname], telescope_2ndreport[objname])\n",
    "        \n",
    "        if telescope_2ndreport[objname] == \"P48\":\n",
    "            print(times, telescopes)\n",
    "    except:\n",
    "        print(\"Error with object %s\" % objname)"
   ]
  },
  {
   "cell_type": "code",
   "execution_count": null,
   "metadata": {
    "ExecuteTime": {
     "end_time": "2019-09-30T21:30:23.137193Z",
     "start_time": "2019-09-30T21:30:22.842590Z"
    }
   },
   "outputs": [],
   "source": [
    "fig, ax = plt.subplots(figsize=(12, 10))\n",
    "ax.hist(dtALeRCE.values(), bins=np.linspace(0, 20, 21));\n",
    "ax.set_xlabel(\"Report time difference (other - ALeRCE) [days]\", fontsize=16);\n",
    "ax.set_ylabel(\"N\", fontsize=16)\n",
    "plt.savefig(\"plots/Reportdiff.png\")"
   ]
  }
 ],
 "metadata": {
  "kernelspec": {
   "display_name": "Python 3",
   "language": "python",
   "name": "python3"
  },
  "language_info": {
   "codemirror_mode": {
    "name": "ipython",
    "version": 3
   },
   "file_extension": ".py",
   "mimetype": "text/x-python",
   "name": "python",
   "nbconvert_exporter": "python",
   "pygments_lexer": "ipython3",
   "version": "3.7.5"
  }
 },
 "nbformat": 4,
 "nbformat_minor": 2
}
